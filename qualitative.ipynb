{
 "cells": [
  {
   "cell_type": "code",
   "execution_count": 37,
   "id": "7ba7552f",
   "metadata": {},
   "outputs": [],
   "source": [
    "import os\n",
    "import glob\n",
    "import json\n",
    "from datasets import DatasetDict\n",
    "cwd = os.getcwd()\n",
    "modeldir = \"E:/PhD/2June2025/\"\n",
    "inputdir = cwd+\"/inputs/\"\n",
    "bn_dir = modeldir+\"fting_D_bn/\"\n",
    "mc_dir = modeldir+\"fting_P_mc/\"\n",
    "bn_r = 7\n",
    "mc_r = 1\n",
    "bn_model = bn_dir+f\"paraphrase-multilingual-mpnet-base-v2_bn_e5_r{bn_r}.pt/\"\n",
    "mc_model = mc_dir+f\"paraphrase-multilingual-mpnet-base-v2_mc_e15_r{mc_r}.pt/\"\n",
    "bn_dsdct = DatasetDict.load_from_disk(inputdir+f\"/ds_{bn_r}_bn\")\n",
    "mc_dsdct = DatasetDict.load_from_disk(inputdir+f\"/ds_{mc_r}_mc\")\n",
    "with open(bn_model+\"randp_svm.json\",\"r\", encoding=\"utf-8\") as f:\n",
    "    bn_rp = json.load(f)\n",
    "with open(mc_model+\"randp_svm.json\",\"r\", encoding=\"utf-8\") as f:\n",
    "    mc_rp = json.load(f)"
   ]
  },
  {
   "cell_type": "code",
   "execution_count": 39,
   "id": "0666b0fe",
   "metadata": {},
   "outputs": [],
   "source": [
    "int2label_dct = {\n",
    "        \"bn\": {\n",
    "            0: \"non-incentive\",\n",
    "            1: \"incentive\"\n",
    "        },\n",
    "        \"mc\":{\n",
    "            0: \"Fine\",\n",
    "            1: \"Supplies\",\n",
    "            2: \"Technical_assistance\",\n",
    "            3: \"Tax_deduction\",\n",
    "            4: \"Credit\",\n",
    "            5: \"Direct_payment\"\n",
    "        }\n",
    "    }\n",
    "label2int_dct = {\n",
    "        \"bn\": {\n",
    "            \"non-incentive\": 0,\n",
    "            \"incentive\": 1\n",
    "        },\n",
    "        \"mc\":{\n",
    "            \"Fine\": 0,\n",
    "            \"Supplies\": 1,\n",
    "            \"Technical_assistance\": 2,\n",
    "            \"Tax_deduction\": 3,\n",
    "            \"Credit\": 4,\n",
    "            \"Direct_payment\": 5\n",
    "        }\n",
    "    }"
   ]
  },
  {
   "cell_type": "markdown",
   "id": "8120ced2",
   "metadata": {},
   "source": [
    "BN"
   ]
  },
  {
   "cell_type": "code",
   "execution_count": 53,
   "id": "c97f9ac5",
   "metadata": {},
   "outputs": [],
   "source": [
    "real = bn_rp[\"real\"]\n",
    "pred = bn_rp[\"pred\"]\n",
    "correct = []\n",
    "incorrect = []\n",
    "for i, lbl in enumerate(real):\n",
    "    if real[i]==pred[i]:\n",
    "        correct.append({\"text\":bn_dsdct[\"holdout\"][i][\"text\"], \"real\": (bn_dsdct[\"holdout\"][i][\"label\"], lbl)})\n",
    "    else:\n",
    "        incorrect.append({\"text\":bn_dsdct[\"holdout\"][i][\"text\"], \"real\": (bn_dsdct[\"holdout\"][i][\"label\"], lbl)})"
   ]
  },
  {
   "cell_type": "markdown",
   "id": "40e78e43",
   "metadata": {},
   "source": [
    "MC"
   ]
  },
  {
   "cell_type": "code",
   "execution_count": 40,
   "id": "42f5037f",
   "metadata": {},
   "outputs": [],
   "source": [
    "real = mc_rp[\"real\"]\n",
    "pred = mc_rp[\"pred\"]\n",
    "correct = []\n",
    "incorrect = []\n",
    "for i, lbl in enumerate(real):\n",
    "    if real[i]==pred[i]:\n",
    "        correct.append({\"text\":mc_dsdct[\"holdout\"][i][\"text\"], \"real\": (int2label_dct[\"mc\"][lbl], lbl)})\n",
    "    else:\n",
    "        incorrect.append({\"text\":mc_dsdct[\"holdout\"][i][\"text\"], \"real\": (int2label_dct[\"mc\"][lbl], lbl), \"pred\":int2label_dct[\"mc\"][pred[i]]})"
   ]
  },
  {
   "cell_type": "markdown",
   "id": "3c8e29eb",
   "metadata": {},
   "source": [
    "View"
   ]
  },
  {
   "cell_type": "code",
   "execution_count": 59,
   "id": "ff9eb387",
   "metadata": {},
   "outputs": [
    {
     "name": "stdout",
     "output_type": "stream",
     "text": [
      "\n",
      " 25 Where it can be established that such ineligible features /areas existed in previous years, there is a requirement to reduce the a rea and apply the relevant financial reduction and/or penalty to the herdowner. (1, 1)\n"
     ]
    }
   ],
   "source": [
    "for i, entry in enumerate(incorrect):#correct:#\n",
    "    if \"ineligible\" in entry[\"text\"].lower():\n",
    "    #if entry[\"real\"][0] == 1:\n",
    "        print(\"\\n\", i,entry[\"text\"], entry[\"real\"])"
   ]
  }
 ],
 "metadata": {
  "kernelspec": {
   "display_name": "Python 3",
   "language": "python",
   "name": "python3"
  },
  "language_info": {
   "codemirror_mode": {
    "name": "ipython",
    "version": 3
   },
   "file_extension": ".py",
   "mimetype": "text/x-python",
   "name": "python",
   "nbconvert_exporter": "python",
   "pygments_lexer": "ipython3",
   "version": "3.11.7"
  }
 },
 "nbformat": 4,
 "nbformat_minor": 5
}

{
 "cells": [
  {
   "cell_type": "markdown",
   "metadata": {},
   "source": [
    "Finetuning hyperparameters"
   ]
  },
  {
   "cell_type": "markdown",
   "metadata": {},
   "source": [
    "ROC AUC\n",
    "\n",
    "Modes: 2 (BN, MC)\n",
    "Rs: 4 (0,3,6,9)\n",
    "\n",
    "LRs: 4 (2E-5, 1E-5, 2E-6, 1E-6)\n",
    "Epochs: 5 (5, 10, 15, 20, #) [mc needs more epochs]\n",
    "\n",
    "Metrics: 3 (Accuracy+F1, Accuracy+Recall, Recall+F1)\n",
    "Batch: 2 (16, 32)\n",
    "Loss: 3 (Default, Custom loss function with weighting, BCE weighted loss)\n",
    "\n",
    "Confusion matrices"
   ]
  },
  {
   "cell_type": "code",
   "execution_count": 1,
   "metadata": {},
   "outputs": [],
   "source": [
    "import os, json\n",
    "cwd = os.getcwd() # should be base directory of repository\n",
    "import time\n",
    "import torch\n",
    "from datasets import DatasetDict\n",
    "output_dir = cwd+\"/outputs/fting\"\n",
    "input_dir = cwd+\"/inputs/\""
   ]
  },
  {
   "cell_type": "code",
   "execution_count": null,
   "metadata": {},
   "outputs": [
    {
     "name": "stdout",
     "output_type": "stream",
     "text": [
      "Sanity Check: 965 sentences and 965 labels\n",
      "Sanity Check: 626 sentences and 626 labels\n",
      "1419 groups found with a threshold of 90\n",
      "Sanity check: 1419 sentences and 1419 labels\n",
      "Sanity Check: 263 incentive sentences and 1156 non-incentive sentences\n",
      "Incentives: 0.18534178999295278; Non-Incentives: 0.8146582100070472\n",
      "Sanity Check: 263 incentive sentences and 263 incentive labels\n",
      "\n",
      "Round 0\n",
      "\n"
     ]
    },
    {
     "data": {
      "application/vnd.jupyter.widget-view+json": {
       "model_id": "cb962d23634340c699ff36361ae8a080",
       "version_major": 2,
       "version_minor": 0
      },
      "text/plain": [
       "Saving the dataset (0/1 shards):   0%|          | 0/851 [00:00<?, ? examples/s]"
      ]
     },
     "metadata": {},
     "output_type": "display_data"
    },
    {
     "data": {
      "application/vnd.jupyter.widget-view+json": {
       "model_id": "6b2eed449b0e44519ad61f740b0d8b5e",
       "version_major": 2,
       "version_minor": 0
      },
      "text/plain": [
       "Saving the dataset (0/1 shards):   0%|          | 0/284 [00:00<?, ? examples/s]"
      ]
     },
     "metadata": {},
     "output_type": "display_data"
    },
    {
     "data": {
      "application/vnd.jupyter.widget-view+json": {
       "model_id": "4d1a0e64873844fc92f290cd84a14fc8",
       "version_major": 2,
       "version_minor": 0
      },
      "text/plain": [
       "Saving the dataset (0/1 shards):   0%|          | 0/284 [00:00<?, ? examples/s]"
      ]
     },
     "metadata": {},
     "output_type": "display_data"
    },
    {
     "name": "stdout",
     "output_type": "stream",
     "text": [
      "Saved ds_0_bn\n"
     ]
    },
    {
     "data": {
      "application/vnd.jupyter.widget-view+json": {
       "model_id": "e5861869c6b3415b999d859c81726858",
       "version_major": 2,
       "version_minor": 0
      },
      "text/plain": [
       "Saving the dataset (0/1 shards):   0%|          | 0/157 [00:00<?, ? examples/s]"
      ]
     },
     "metadata": {},
     "output_type": "display_data"
    },
    {
     "data": {
      "application/vnd.jupyter.widget-view+json": {
       "model_id": "5c9bd8a28af3453594c5713b34b381d1",
       "version_major": 2,
       "version_minor": 0
      },
      "text/plain": [
       "Saving the dataset (0/1 shards):   0%|          | 0/53 [00:00<?, ? examples/s]"
      ]
     },
     "metadata": {},
     "output_type": "display_data"
    },
    {
     "data": {
      "application/vnd.jupyter.widget-view+json": {
       "model_id": "89cfa5c074c947b6aa8c92dbe12a06cc",
       "version_major": 2,
       "version_minor": 0
      },
      "text/plain": [
       "Saving the dataset (0/1 shards):   0%|          | 0/53 [00:00<?, ? examples/s]"
      ]
     },
     "metadata": {},
     "output_type": "display_data"
    },
    {
     "name": "stdout",
     "output_type": "stream",
     "text": [
      "Saved ds_0_mc\n",
      "\n",
      "Round 3\n",
      "\n"
     ]
    },
    {
     "data": {
      "application/vnd.jupyter.widget-view+json": {
       "model_id": "7c695236808f45ce88b4213aa966c65f",
       "version_major": 2,
       "version_minor": 0
      },
      "text/plain": [
       "Saving the dataset (0/1 shards):   0%|          | 0/851 [00:00<?, ? examples/s]"
      ]
     },
     "metadata": {},
     "output_type": "display_data"
    },
    {
     "data": {
      "application/vnd.jupyter.widget-view+json": {
       "model_id": "0c4bcd338ec34eaca283e88019c53e8d",
       "version_major": 2,
       "version_minor": 0
      },
      "text/plain": [
       "Saving the dataset (0/1 shards):   0%|          | 0/284 [00:00<?, ? examples/s]"
      ]
     },
     "metadata": {},
     "output_type": "display_data"
    },
    {
     "data": {
      "application/vnd.jupyter.widget-view+json": {
       "model_id": "0d82b00b5b58484586e223afee2c881c",
       "version_major": 2,
       "version_minor": 0
      },
      "text/plain": [
       "Saving the dataset (0/1 shards):   0%|          | 0/284 [00:00<?, ? examples/s]"
      ]
     },
     "metadata": {},
     "output_type": "display_data"
    },
    {
     "name": "stdout",
     "output_type": "stream",
     "text": [
      "Saved ds_3_bn\n"
     ]
    },
    {
     "data": {
      "application/vnd.jupyter.widget-view+json": {
       "model_id": "5143ad4650694845859910b01ee93fa0",
       "version_major": 2,
       "version_minor": 0
      },
      "text/plain": [
       "Saving the dataset (0/1 shards):   0%|          | 0/157 [00:00<?, ? examples/s]"
      ]
     },
     "metadata": {},
     "output_type": "display_data"
    },
    {
     "data": {
      "application/vnd.jupyter.widget-view+json": {
       "model_id": "a5fa5a97c72b4d008949ef35e626df53",
       "version_major": 2,
       "version_minor": 0
      },
      "text/plain": [
       "Saving the dataset (0/1 shards):   0%|          | 0/53 [00:00<?, ? examples/s]"
      ]
     },
     "metadata": {},
     "output_type": "display_data"
    },
    {
     "data": {
      "application/vnd.jupyter.widget-view+json": {
       "model_id": "8be9f4c9d3c74ad6b1bffa310962b5a6",
       "version_major": 2,
       "version_minor": 0
      },
      "text/plain": [
       "Saving the dataset (0/1 shards):   0%|          | 0/53 [00:00<?, ? examples/s]"
      ]
     },
     "metadata": {},
     "output_type": "display_data"
    },
    {
     "name": "stdout",
     "output_type": "stream",
     "text": [
      "Saved ds_3_mc\n",
      "\n",
      "Round 6\n",
      "\n"
     ]
    },
    {
     "data": {
      "application/vnd.jupyter.widget-view+json": {
       "model_id": "0a56b3c893434bd2a53d55ecf8281f60",
       "version_major": 2,
       "version_minor": 0
      },
      "text/plain": [
       "Saving the dataset (0/1 shards):   0%|          | 0/851 [00:00<?, ? examples/s]"
      ]
     },
     "metadata": {},
     "output_type": "display_data"
    },
    {
     "data": {
      "application/vnd.jupyter.widget-view+json": {
       "model_id": "ff22aad2ca0542feac6d0d90c0acec67",
       "version_major": 2,
       "version_minor": 0
      },
      "text/plain": [
       "Saving the dataset (0/1 shards):   0%|          | 0/284 [00:00<?, ? examples/s]"
      ]
     },
     "metadata": {},
     "output_type": "display_data"
    },
    {
     "data": {
      "application/vnd.jupyter.widget-view+json": {
       "model_id": "4d2bcdd7122d47fa90f56e9082bc05fb",
       "version_major": 2,
       "version_minor": 0
      },
      "text/plain": [
       "Saving the dataset (0/1 shards):   0%|          | 0/284 [00:00<?, ? examples/s]"
      ]
     },
     "metadata": {},
     "output_type": "display_data"
    },
    {
     "name": "stdout",
     "output_type": "stream",
     "text": [
      "Saved ds_6_bn\n"
     ]
    },
    {
     "data": {
      "application/vnd.jupyter.widget-view+json": {
       "model_id": "23fa2cdb60344c3493f64cc594246e1f",
       "version_major": 2,
       "version_minor": 0
      },
      "text/plain": [
       "Saving the dataset (0/1 shards):   0%|          | 0/157 [00:00<?, ? examples/s]"
      ]
     },
     "metadata": {},
     "output_type": "display_data"
    },
    {
     "data": {
      "application/vnd.jupyter.widget-view+json": {
       "model_id": "5bfaf76a987f42b08d06caab60e6a4eb",
       "version_major": 2,
       "version_minor": 0
      },
      "text/plain": [
       "Saving the dataset (0/1 shards):   0%|          | 0/53 [00:00<?, ? examples/s]"
      ]
     },
     "metadata": {},
     "output_type": "display_data"
    },
    {
     "data": {
      "application/vnd.jupyter.widget-view+json": {
       "model_id": "b560461ac9904b89925f7b494b4c195b",
       "version_major": 2,
       "version_minor": 0
      },
      "text/plain": [
       "Saving the dataset (0/1 shards):   0%|          | 0/53 [00:00<?, ? examples/s]"
      ]
     },
     "metadata": {},
     "output_type": "display_data"
    },
    {
     "name": "stdout",
     "output_type": "stream",
     "text": [
      "Saved ds_6_mc\n",
      "\n",
      "Round 9\n",
      "\n"
     ]
    },
    {
     "data": {
      "application/vnd.jupyter.widget-view+json": {
       "model_id": "d6173a3243c542c2abf46941b9cd72b5",
       "version_major": 2,
       "version_minor": 0
      },
      "text/plain": [
       "Saving the dataset (0/1 shards):   0%|          | 0/851 [00:00<?, ? examples/s]"
      ]
     },
     "metadata": {},
     "output_type": "display_data"
    },
    {
     "data": {
      "application/vnd.jupyter.widget-view+json": {
       "model_id": "975bf74f3a474435848a6ab51585939b",
       "version_major": 2,
       "version_minor": 0
      },
      "text/plain": [
       "Saving the dataset (0/1 shards):   0%|          | 0/284 [00:00<?, ? examples/s]"
      ]
     },
     "metadata": {},
     "output_type": "display_data"
    },
    {
     "data": {
      "application/vnd.jupyter.widget-view+json": {
       "model_id": "a773b98090864e1fb31197c2e804c359",
       "version_major": 2,
       "version_minor": 0
      },
      "text/plain": [
       "Saving the dataset (0/1 shards):   0%|          | 0/284 [00:00<?, ? examples/s]"
      ]
     },
     "metadata": {},
     "output_type": "display_data"
    },
    {
     "name": "stdout",
     "output_type": "stream",
     "text": [
      "Saved ds_9_bn\n"
     ]
    },
    {
     "data": {
      "application/vnd.jupyter.widget-view+json": {
       "model_id": "2f869095f7dc450d928cfa485dc8bda5",
       "version_major": 2,
       "version_minor": 0
      },
      "text/plain": [
       "Saving the dataset (0/1 shards):   0%|          | 0/157 [00:00<?, ? examples/s]"
      ]
     },
     "metadata": {},
     "output_type": "display_data"
    },
    {
     "data": {
      "application/vnd.jupyter.widget-view+json": {
       "model_id": "8bd50b2b196f475ea9d968a5388e862a",
       "version_major": 2,
       "version_minor": 0
      },
      "text/plain": [
       "Saving the dataset (0/1 shards):   0%|          | 0/53 [00:00<?, ? examples/s]"
      ]
     },
     "metadata": {},
     "output_type": "display_data"
    },
    {
     "data": {
      "application/vnd.jupyter.widget-view+json": {
       "model_id": "612d4e987a904ca6b79a9c8057e1e018",
       "version_major": 2,
       "version_minor": 0
      },
      "text/plain": [
       "Saving the dataset (0/1 shards):   0%|          | 0/53 [00:00<?, ? examples/s]"
      ]
     },
     "metadata": {},
     "output_type": "display_data"
    },
    {
     "name": "stdout",
     "output_type": "stream",
     "text": [
      "Saved ds_9_mc\n"
     ]
    }
   ],
   "source": [
    "# uncomment if you dont already have the dataset dictionaries generated\n",
    "'''\n",
    "from classifier.finetune import load_labelintdcts, create_dsdict\n",
    "from classifier.run_classifiers import group_duplicates, remove_duplicates, dcno_to_sentlab\n",
    "with open(input_dir+\"/19Jan25_firstdatarev.json\",\"r\", encoding=\"utf-8\") as f:\n",
    "        dcno_json = json.load(f)\n",
    "with open(input_dir+\"/27Jan25_query_checked.json\",\"r\", encoding=\"utf-8\") as f:\n",
    "    qry_json = json.load(f)\n",
    "sents1, labels1 = dcno_to_sentlab(dcno_json)\n",
    "sents2, labels2 = dcno_to_sentlab(qry_json)\n",
    "# merge original and augmented datasets\n",
    "sents2.extend(sents1)\n",
    "labels2.extend(labels1)\n",
    "all_sents, all_labs = remove_duplicates(group_duplicates(sents2,labels2,thresh=90))\n",
    "int2label_dct, label2int_dct = load_labelintdcts()\n",
    "sims = [0,3,6,9]\n",
    "create_dsdict(all_sents, all_labs, label2int_dct, amt=sims, save=True, output_dir=input_dir)\n",
    "'''"
   ]
  },
  {
   "cell_type": "markdown",
   "metadata": {},
   "source": [
    "First we're going to train our baseline model and get a view of the training progress in a ROC analysis"
   ]
  },
  {
   "cell_type": "code",
   "execution_count": null,
   "metadata": {},
   "outputs": [],
   "source": [
    "'''\n",
    "from classifier.finetune import finetune_roberta, load_labelintdcts\n",
    "int2label_dct, label2int_dct = load_labelintdcts()\n",
    "#sims = [0,3,6,9]\n",
    "sims = [6]\n",
    "for e in sims:\n",
    "    bn_ds = DatasetDict.load_from_disk(f\"{output_dir}/../models/ds_{e}_bn\")\n",
    "    mc_ds = DatasetDict.load_from_disk(f\"{output_dir}/../models/ds_{e}_mc\")\n",
    "    for model in [\"sentence-transformers/paraphrase-xlm-r-multilingual-v1\"]:\n",
    "        torch.cuda.empty_cache()\n",
    "        finetune_roberta(bn_ds, int2label_dct[\"bn\"], label2int_dct[\"bn\"], \"bn\", model_name=model, dev='cuda', rstate=e, output_dir=output_dir, lora=False)\n",
    "        print(f\"\\nSaved {model} binary model.\")\n",
    "        torch.cuda.empty_cache()\n",
    "        finetune_roberta(mc_ds, int2label_dct[\"mc\"], label2int_dct[\"mc\"], \"mc\", model_name=model, dev='cuda', rstate=e, output_dir=output_dir, lora=False)\n",
    "        print(f\"\\nSaved {model} multiclass model.\")\n",
    "'''"
   ]
  },
  {
   "cell_type": "code",
   "execution_count": 3,
   "metadata": {},
   "outputs": [],
   "source": [
    "from sklearn.metrics import roc_curve, auc\n",
    "import matplotlib.pyplot as plt\n",
    "from sklearn.preprocessing import label_binarize\n",
    "\n",
    "def plot_roc(labels, probs, mode, rstate, output_dir, int2label):\n",
    "    if mode==\"bn\":\n",
    "        fpr, tpr, thresholds = roc_curve(labels, probs[:, 1])\n",
    "        roc_auc = auc(fpr, tpr)\n",
    "        #\n",
    "        plt.figure()\n",
    "        plt.plot(fpr, tpr, label=f\"ROC curve (AUC = {roc_auc:.2f})\")\n",
    "        plt.plot([0, 1], [0, 1], linestyle='--', color='teal')\n",
    "        plt.xlabel(\"FPR\")\n",
    "        plt.ylabel(\"TPR\")\n",
    "        plt.title(f\"ROC Curve {mode} {rstate}\")\n",
    "        plt.legend()\n",
    "        plt.grid(True)\n",
    "        plt.savefig(f\"{output_dir}/ROC_{mode}_{rstate}.png\")\n",
    "        #plt.show()\n",
    "    else:\n",
    "        n_classes = probs.shape[1]\n",
    "        y_test_bin = label_binarize(labels, classes=range(n_classes))\n",
    "        # Compute ROC for each class\n",
    "        fpr = {}\n",
    "        tpr = {}\n",
    "        roc_auc = {}\n",
    "        for i in range(n_classes):\n",
    "            fpr[i], tpr[i], _ = roc_curve(y_test_bin[:, i], probs[:, i])\n",
    "            roc_auc[i] = auc(fpr[i], tpr[i])\n",
    "        # Plot all\n",
    "        plt.figure()\n",
    "        colors = ['firebrick', 'darkorange', 'gold', 'yellowgreen', \"deepskyblue\", \"slateblue\"]\n",
    "        for i in range(n_classes):\n",
    "            plt.plot(fpr[i], tpr[i], color=colors[i], label=f\"Class {int2label[i]} (AUC = {roc_auc[i]:.2f})\")\n",
    "        plt.plot([0, 1], [0, 1], 'k--')\n",
    "        plt.xlabel(\"FPR\")\n",
    "        plt.ylabel(\"TPR\")\n",
    "        plt.title(f\"ROC Curve {mode} {rstate}\")\n",
    "        plt.legend()\n",
    "        plt.grid(True)\n",
    "        plt.savefig(f\"{output_dir}/ROC_{mode}_{rstate}.png\")\n",
    "        #plt.show()"
   ]
  },
  {
   "cell_type": "code",
   "execution_count": 26,
   "metadata": {},
   "outputs": [],
   "source": [
    "from transformers import AutoTokenizer, AutoModelForSequenceClassification, DataCollatorWithPadding, TrainingArguments, Trainer, AdamW, get_linear_schedule_with_warmup\n",
    "import evaluate\n",
    "from sklearn.metrics import roc_curve\n",
    "from imblearn.over_sampling import RandomOverSampler\n",
    "from sklearn.utils import shuffle\n",
    "import numpy as np\n",
    "import torch.nn as nn\n",
    "from classifier.finetune import finetune_roberta, load_labelintdcts\n",
    "import gc\n",
    "\n",
    "class WeightedBNTrainer(Trainer):\n",
    "    def compute_loss(self, model, inputs, return_outputs=False, num_items_in_batch=None):#):#\n",
    "        labels = inputs.pop(\"labels\")\n",
    "        outputs = model(**inputs)\n",
    "        logits = outputs.get(\"logits\")\n",
    "        # Define class weights and loss\n",
    "        weights = torch.tensor([1.0, 1.0]).to(logits.device)\n",
    "        loss_fct = nn.CrossEntropyLoss(weight=weights)\n",
    "        loss = loss_fct(logits, labels)\n",
    "        # loss = loss_fct(logits.view(-1, self.model.config.num_labels), labels.view(-1))\n",
    "        return (loss, outputs) if return_outputs else loss\n",
    "    \n",
    "class WeightedMCTrainer(Trainer):\n",
    "    def compute_loss(self, model, inputs, return_outputs=False, num_items_in_batch=None):#):#\n",
    "        labels = inputs.pop(\"labels\")\n",
    "        outputs = model(**inputs)\n",
    "        logits = outputs.get(\"logits\")\n",
    "        # Define class weights and loss\n",
    "        weights = torch.tensor([1.0, 1.0, 1.0, 1.0, 1.0, 1.0]).to(logits.device)\n",
    "        loss_fct = nn.CrossEntropyLoss(weight=weights)\n",
    "        loss = loss_fct(logits, labels)\n",
    "        # loss = loss_fct(logits.view(-1, self.model.config.num_labels), labels.view(-1))\n",
    "        return (loss, outputs) if return_outputs else loss\n",
    "\n",
    "def finetune_roberta(datasetdct, int2label, label2int, mode, model_name=\"sentence-transformers/paraphrase-xlm-r-multilingual-v1\", dev='cuda', output_dir=f\"{os.getcwd()}/outputs/models\", hyperparams=False, oversampling=False):\n",
    "    '''\n",
    "    '''\n",
    "    if not hyperparams:\n",
    "        hyperparams = {\n",
    "            \"epochs\":10, \n",
    "            \"r\":9,\n",
    "            \"lr\":2e-5,\n",
    "            \"batch_size\":16\n",
    "            }\n",
    "    epochs = hyperparams[\"epochs\"]\n",
    "    rstate = hyperparams[\"r\"]\n",
    "    lr = hyperparams[\"lr\"]\n",
    "    batch_size = hyperparams[\"batch_size\"]\n",
    "    start = time.time()\n",
    "    num_lbs = len(list(int2label))\n",
    "    print(f'\\nLoading model {model_name}\\n')\n",
    "    print(\"Tokenizing\")\n",
    "    tokenizer = AutoTokenizer.from_pretrained(model_name)\n",
    "    def preprocess_function(examples):\n",
    "        return tokenizer(examples[\"text\"], truncation=True, padding=True).to(dev)\n",
    "    tokenized_ds = datasetdct.map(preprocess_function, batched=True)\n",
    "    accuracy = evaluate.load(\"accuracy\")\n",
    "    f1 = evaluate.load(\"f1\")\n",
    "    recall = evaluate.load(\"recall\")\n",
    "    metric_log = []\n",
    "    def calc_metrics(pred):\n",
    "        predictions, labels = pred\n",
    "        predictions = np.argmax(predictions, axis=1)\n",
    "        metrics = {\n",
    "            \"accuracy\": accuracy.compute(predictions=predictions, references=labels)[\"accuracy\"],\n",
    "            #\"f1\": f1.compute(predictions=predictions, references=labels, average=\"weighted\" if mode==\"mc\" else \"binary\")[\"f1\"],\n",
    "            \"f1\": f1.compute(predictions=predictions, references=labels, average=\"weighted\")[\"f1\"],\n",
    "            \"recall\": recall.compute(predictions=predictions, references=labels, average=\"weighted\")[\"recall\"]\n",
    "        }\n",
    "        metric_log.append(metrics)\n",
    "        return metrics\n",
    "    print(\"Loading model\")\n",
    "    #\n",
    "    model = AutoModelForSequenceClassification.from_pretrained(model_name, num_labels=num_lbs,id2label=int2label, label2id=label2int).to(dev)\n",
    "    if oversampling:\n",
    "        # sampling_strategy='minority'?\n",
    "        # or fine-tune the RandomOverSampler?\n",
    "        # https://imbalanced-learn.org/stable/references/generated/imblearn.over_sampling.RandomOverSampler.html\n",
    "        # shrinkage?\n",
    "        train_sents = tokenized_ds[\"train\"][\"text\"]\n",
    "        train_labels = tokenized_ds[\"train\"][\"label\"]\n",
    "        ros = RandomOverSampler(sampling_strategy='auto', random_state=rstate)\n",
    "        train_texts_resampled, train_labels_resampled = ros.fit_resample(np.array(train_sents).reshape(-1, 1), np.array(train_labels))\n",
    "        train_texts_resampled, train_labels_resampled = shuffle(train_texts_resampled, train_labels_resampled, random_state=rstate)\n",
    "        tokenized_resampled_ds = tokenizer(list(train_texts_resampled.flatten()), padding=True, truncation=True, return_tensors=\"pt\")\n",
    "        tokenized_resampled_ds[\"label\"] = torch.tensor(train_labels_resampled)\n",
    "        tokenized_ds[\"train\"] = tokenized_resampled_ds\n",
    "    training_args = TrainingArguments(\n",
    "        output_dir=output_dir,\n",
    "        learning_rate=lr,\n",
    "        per_device_train_batch_size=batch_size,\n",
    "        per_device_eval_batch_size=batch_size,\n",
    "        seed=9,\n",
    "        num_train_epochs=epochs,\n",
    "        weight_decay=0.01,\n",
    "        eval_strategy=\"epoch\",\n",
    "        save_strategy=\"best\",\n",
    "        logging_strategy=\"epoch\",\n",
    "        optim=\"adamw_torch\",\n",
    "        load_best_model_at_end=True,\n",
    "        #metric_for_best_model=\"f1\",\n",
    "        #greater_is_better=True\n",
    "    )\n",
    "    \n",
    "    if mode == \"bn\":\n",
    "        trainer = WeightedBNTrainer(\n",
    "            model=model,\n",
    "            args=training_args,\n",
    "            train_dataset=tokenized_ds[\"train\"],\n",
    "            eval_dataset=tokenized_ds[\"test\"],\n",
    "            processing_class=tokenizer,\n",
    "            compute_metrics=calc_metrics,\n",
    "            #scheduler = get_linear_schedule_with_warmup(optimizer, num_warmup_steps, num_train_steps)\n",
    "        )\n",
    "    else:\n",
    "        trainer = WeightedMCTrainer(\n",
    "            model=model,\n",
    "            args=training_args,\n",
    "            train_dataset=tokenized_ds[\"train\"],\n",
    "            eval_dataset=tokenized_ds[\"test\"],\n",
    "            processing_class=tokenizer,\n",
    "            compute_metrics=calc_metrics,\n",
    "        )\n",
    "    '''\n",
    "    trainer = Trainer(\n",
    "            model=model,\n",
    "            args=training_args,\n",
    "            train_dataset=tokenized_ds[\"train\"],\n",
    "            eval_dataset=tokenized_ds[\"test\"],\n",
    "            processing_class=tokenizer,\n",
    "            compute_metrics=calc_metrics,\n",
    "        )\n",
    "    '''\n",
    "    print(\"Training\")\n",
    "    trainer.train()\n",
    "    train_losses = [log[\"loss\"] for log in trainer.state.log_history if \"loss\" in log]\n",
    "    eval_losses = [log[\"eval_loss\"] for log in trainer.state.log_history if \"eval_loss\" in log]\n",
    "    print(\"Saving\")\n",
    "    trainer.save_model(output_dir+f\"/{model_name.split('/')[-1]}_{mode}_e{epochs}_r{rstate}.pt\")\n",
    "    #\n",
    "    predictions = trainer.predict(tokenized_ds[\"holdout\"])\n",
    "    # Extract the logits and labels from the predictions object\n",
    "    logits = predictions.predictions\n",
    "    labels = predictions.label_ids\n",
    "    probs = torch.nn.functional.softmax(torch.tensor(logits), dim=1).numpy()\n",
    "    #\n",
    "    plot_roc(labels, probs, mode, rstate, output_dir, int2label)\n",
    "    # Use your compute_metrics function\n",
    "    metric_log.append({\"train_loss\":train_losses})\n",
    "    metric_log.append({\"eval_loss\": eval_losses})\n",
    "    metrics = calc_metrics((logits, labels))\n",
    "    with open(output_dir+f\"/{model_name.split('/')[-1]}_{mode}_e{epochs}_r{rstate}.pt/metrics.json\", \"w\", encoding=\"utf-8\") as f:\n",
    "        json.dump(metric_log, f, ensure_ascii=False, indent=4)\n",
    "    end = time.time()\n",
    "    print(metrics)\n",
    "    print(f\"\\nSaved {model_name.split('/')[-1]}_{mode}_e{epochs}_r{rstate}.\")\n",
    "    print(f'\\nDone in {round((end-start)/60,2)} min')\n",
    "    return metrics\n"
   ]
  },
  {
   "cell_type": "markdown",
   "metadata": {},
   "source": [
    "Here we create all of our finetuned models"
   ]
  },
  {
   "cell_type": "code",
   "execution_count": 27,
   "metadata": {},
   "outputs": [
    {
     "name": "stdout",
     "output_type": "stream",
     "text": [
      "\n",
      "Loading model sentence-transformers/paraphrase-xlm-r-multilingual-v1\n",
      "\n",
      "Tokenizing\n",
      "Loading model\n"
     ]
    },
    {
     "name": "stderr",
     "output_type": "stream",
     "text": [
      "Some weights of XLMRobertaForSequenceClassification were not initialized from the model checkpoint at sentence-transformers/paraphrase-xlm-r-multilingual-v1 and are newly initialized: ['classifier.dense.bias', 'classifier.dense.weight', 'classifier.out_proj.bias', 'classifier.out_proj.weight']\n",
      "You should probably TRAIN this model on a down-stream task to be able to use it for predictions and inference.\n"
     ]
    },
    {
     "name": "stdout",
     "output_type": "stream",
     "text": [
      "Training\n"
     ]
    },
    {
     "data": {
      "text/html": [
       "\n",
       "    <div>\n",
       "      \n",
       "      <progress value='270' max='270' style='width:300px; height:20px; vertical-align: middle;'></progress>\n",
       "      [270/270 03:01, Epoch 5/5]\n",
       "    </div>\n",
       "    <table border=\"1\" class=\"dataframe\">\n",
       "  <thead>\n",
       " <tr style=\"text-align: left;\">\n",
       "      <th>Epoch</th>\n",
       "      <th>Training Loss</th>\n",
       "      <th>Validation Loss</th>\n",
       "      <th>Accuracy</th>\n",
       "      <th>F1</th>\n",
       "      <th>Recall</th>\n",
       "    </tr>\n",
       "  </thead>\n",
       "  <tbody>\n",
       "    <tr>\n",
       "      <td>1</td>\n",
       "      <td>0.456300</td>\n",
       "      <td>0.370126</td>\n",
       "      <td>0.816901</td>\n",
       "      <td>0.738005</td>\n",
       "      <td>0.816901</td>\n",
       "    </tr>\n",
       "    <tr>\n",
       "      <td>2</td>\n",
       "      <td>0.322700</td>\n",
       "      <td>0.324168</td>\n",
       "      <td>0.880282</td>\n",
       "      <td>0.862214</td>\n",
       "      <td>0.880282</td>\n",
       "    </tr>\n",
       "    <tr>\n",
       "      <td>3</td>\n",
       "      <td>0.170400</td>\n",
       "      <td>0.282980</td>\n",
       "      <td>0.880282</td>\n",
       "      <td>0.881130</td>\n",
       "      <td>0.880282</td>\n",
       "    </tr>\n",
       "    <tr>\n",
       "      <td>4</td>\n",
       "      <td>0.071700</td>\n",
       "      <td>0.365478</td>\n",
       "      <td>0.880282</td>\n",
       "      <td>0.884773</td>\n",
       "      <td>0.880282</td>\n",
       "    </tr>\n",
       "    <tr>\n",
       "      <td>5</td>\n",
       "      <td>0.029700</td>\n",
       "      <td>0.389149</td>\n",
       "      <td>0.876761</td>\n",
       "      <td>0.879630</td>\n",
       "      <td>0.876761</td>\n",
       "    </tr>\n",
       "  </tbody>\n",
       "</table><p>"
      ],
      "text/plain": [
       "<IPython.core.display.HTML object>"
      ]
     },
     "metadata": {},
     "output_type": "display_data"
    },
    {
     "name": "stdout",
     "output_type": "stream",
     "text": [
      "Saving\n"
     ]
    },
    {
     "data": {
      "text/html": [],
      "text/plain": [
       "<IPython.core.display.HTML object>"
      ]
     },
     "metadata": {},
     "output_type": "display_data"
    },
    {
     "name": "stdout",
     "output_type": "stream",
     "text": [
      "{'accuracy': 0.8873239436619719, 'f1': 0.8846659443842542, 'recall': 0.8873239436619719}\n",
      "\n",
      "Saved paraphrase-xlm-r-multilingual-v1_bn_e5_r0.\n",
      "\n",
      "Done in 3.48 min\n",
      "\n",
      "Loading model sentence-transformers/paraphrase-xlm-r-multilingual-v1\n",
      "\n",
      "Tokenizing\n"
     ]
    },
    {
     "data": {
      "application/vnd.jupyter.widget-view+json": {
       "model_id": "a40da9d6263b4fc79df0b42551626e59",
       "version_major": 2,
       "version_minor": 0
      },
      "text/plain": [
       "Map:   0%|          | 0/53 [00:00<?, ? examples/s]"
      ]
     },
     "metadata": {},
     "output_type": "display_data"
    },
    {
     "name": "stderr",
     "output_type": "stream",
     "text": [
      "Some weights of XLMRobertaForSequenceClassification were not initialized from the model checkpoint at sentence-transformers/paraphrase-xlm-r-multilingual-v1 and are newly initialized: ['classifier.dense.bias', 'classifier.dense.weight', 'classifier.out_proj.bias', 'classifier.out_proj.weight']\n",
      "You should probably TRAIN this model on a down-stream task to be able to use it for predictions and inference.\n"
     ]
    },
    {
     "name": "stdout",
     "output_type": "stream",
     "text": [
      "Loading model\n",
      "Training\n"
     ]
    },
    {
     "data": {
      "text/html": [
       "\n",
       "    <div>\n",
       "      \n",
       "      <progress value='150' max='150' style='width:300px; height:20px; vertical-align: middle;'></progress>\n",
       "      [150/150 04:54, Epoch 15/15]\n",
       "    </div>\n",
       "    <table border=\"1\" class=\"dataframe\">\n",
       "  <thead>\n",
       " <tr style=\"text-align: left;\">\n",
       "      <th>Epoch</th>\n",
       "      <th>Training Loss</th>\n",
       "      <th>Validation Loss</th>\n",
       "      <th>Accuracy</th>\n",
       "      <th>F1</th>\n",
       "      <th>Recall</th>\n",
       "    </tr>\n",
       "  </thead>\n",
       "  <tbody>\n",
       "    <tr>\n",
       "      <td>1</td>\n",
       "      <td>1.719200</td>\n",
       "      <td>1.525213</td>\n",
       "      <td>0.339623</td>\n",
       "      <td>0.208875</td>\n",
       "      <td>0.339623</td>\n",
       "    </tr>\n",
       "    <tr>\n",
       "      <td>2</td>\n",
       "      <td>1.464500</td>\n",
       "      <td>1.355769</td>\n",
       "      <td>0.603774</td>\n",
       "      <td>0.543279</td>\n",
       "      <td>0.603774</td>\n",
       "    </tr>\n",
       "    <tr>\n",
       "      <td>3</td>\n",
       "      <td>1.262500</td>\n",
       "      <td>1.157234</td>\n",
       "      <td>0.660377</td>\n",
       "      <td>0.605563</td>\n",
       "      <td>0.660377</td>\n",
       "    </tr>\n",
       "    <tr>\n",
       "      <td>4</td>\n",
       "      <td>1.013800</td>\n",
       "      <td>0.962974</td>\n",
       "      <td>0.754717</td>\n",
       "      <td>0.706522</td>\n",
       "      <td>0.754717</td>\n",
       "    </tr>\n",
       "    <tr>\n",
       "      <td>5</td>\n",
       "      <td>0.789300</td>\n",
       "      <td>0.792877</td>\n",
       "      <td>0.830189</td>\n",
       "      <td>0.809668</td>\n",
       "      <td>0.830189</td>\n",
       "    </tr>\n",
       "    <tr>\n",
       "      <td>6</td>\n",
       "      <td>0.602300</td>\n",
       "      <td>0.670601</td>\n",
       "      <td>0.849057</td>\n",
       "      <td>0.827678</td>\n",
       "      <td>0.849057</td>\n",
       "    </tr>\n",
       "    <tr>\n",
       "      <td>7</td>\n",
       "      <td>0.450800</td>\n",
       "      <td>0.567026</td>\n",
       "      <td>0.849057</td>\n",
       "      <td>0.827601</td>\n",
       "      <td>0.849057</td>\n",
       "    </tr>\n",
       "    <tr>\n",
       "      <td>8</td>\n",
       "      <td>0.336100</td>\n",
       "      <td>0.497191</td>\n",
       "      <td>0.849057</td>\n",
       "      <td>0.827678</td>\n",
       "      <td>0.849057</td>\n",
       "    </tr>\n",
       "    <tr>\n",
       "      <td>9</td>\n",
       "      <td>0.265700</td>\n",
       "      <td>0.437961</td>\n",
       "      <td>0.849057</td>\n",
       "      <td>0.827678</td>\n",
       "      <td>0.849057</td>\n",
       "    </tr>\n",
       "    <tr>\n",
       "      <td>10</td>\n",
       "      <td>0.207300</td>\n",
       "      <td>0.398698</td>\n",
       "      <td>0.849057</td>\n",
       "      <td>0.827678</td>\n",
       "      <td>0.849057</td>\n",
       "    </tr>\n",
       "    <tr>\n",
       "      <td>11</td>\n",
       "      <td>0.170400</td>\n",
       "      <td>0.362655</td>\n",
       "      <td>0.886792</td>\n",
       "      <td>0.867690</td>\n",
       "      <td>0.886792</td>\n",
       "    </tr>\n",
       "    <tr>\n",
       "      <td>12</td>\n",
       "      <td>0.155500</td>\n",
       "      <td>0.352831</td>\n",
       "      <td>0.886792</td>\n",
       "      <td>0.868540</td>\n",
       "      <td>0.886792</td>\n",
       "    </tr>\n",
       "    <tr>\n",
       "      <td>13</td>\n",
       "      <td>0.127700</td>\n",
       "      <td>0.347473</td>\n",
       "      <td>0.886792</td>\n",
       "      <td>0.867690</td>\n",
       "      <td>0.886792</td>\n",
       "    </tr>\n",
       "    <tr>\n",
       "      <td>14</td>\n",
       "      <td>0.118000</td>\n",
       "      <td>0.344481</td>\n",
       "      <td>0.886792</td>\n",
       "      <td>0.867690</td>\n",
       "      <td>0.886792</td>\n",
       "    </tr>\n",
       "    <tr>\n",
       "      <td>15</td>\n",
       "      <td>0.113000</td>\n",
       "      <td>0.340010</td>\n",
       "      <td>0.905660</td>\n",
       "      <td>0.887902</td>\n",
       "      <td>0.905660</td>\n",
       "    </tr>\n",
       "  </tbody>\n",
       "</table><p>"
      ],
      "text/plain": [
       "<IPython.core.display.HTML object>"
      ]
     },
     "metadata": {},
     "output_type": "display_data"
    },
    {
     "name": "stdout",
     "output_type": "stream",
     "text": [
      "Saving\n"
     ]
    },
    {
     "data": {
      "text/html": [],
      "text/plain": [
       "<IPython.core.display.HTML object>"
      ]
     },
     "metadata": {},
     "output_type": "display_data"
    },
    {
     "name": "stdout",
     "output_type": "stream",
     "text": [
      "{'accuracy': 0.9622641509433962, 'f1': 0.9615018105584143, 'recall': 0.9622641509433962}\n",
      "\n",
      "Saved paraphrase-xlm-r-multilingual-v1_mc_e15_r0.\n",
      "\n",
      "Done in 5.17 min\n",
      "\n",
      "Loading model sentence-transformers/paraphrase-xlm-r-multilingual-v1\n",
      "\n",
      "Tokenizing\n",
      "Loading model\n"
     ]
    },
    {
     "name": "stderr",
     "output_type": "stream",
     "text": [
      "Some weights of XLMRobertaForSequenceClassification were not initialized from the model checkpoint at sentence-transformers/paraphrase-xlm-r-multilingual-v1 and are newly initialized: ['classifier.dense.bias', 'classifier.dense.weight', 'classifier.out_proj.bias', 'classifier.out_proj.weight']\n",
      "You should probably TRAIN this model on a down-stream task to be able to use it for predictions and inference.\n"
     ]
    },
    {
     "name": "stdout",
     "output_type": "stream",
     "text": [
      "Training\n"
     ]
    },
    {
     "data": {
      "text/html": [
       "\n",
       "    <div>\n",
       "      \n",
       "      <progress value='270' max='270' style='width:300px; height:20px; vertical-align: middle;'></progress>\n",
       "      [270/270 03:11, Epoch 5/5]\n",
       "    </div>\n",
       "    <table border=\"1\" class=\"dataframe\">\n",
       "  <thead>\n",
       " <tr style=\"text-align: left;\">\n",
       "      <th>Epoch</th>\n",
       "      <th>Training Loss</th>\n",
       "      <th>Validation Loss</th>\n",
       "      <th>Accuracy</th>\n",
       "      <th>F1</th>\n",
       "      <th>Recall</th>\n",
       "    </tr>\n",
       "  </thead>\n",
       "  <tbody>\n",
       "    <tr>\n",
       "      <td>1</td>\n",
       "      <td>0.453500</td>\n",
       "      <td>0.344723</td>\n",
       "      <td>0.813380</td>\n",
       "      <td>0.729673</td>\n",
       "      <td>0.813380</td>\n",
       "    </tr>\n",
       "    <tr>\n",
       "      <td>2</td>\n",
       "      <td>0.312200</td>\n",
       "      <td>0.304321</td>\n",
       "      <td>0.859155</td>\n",
       "      <td>0.830727</td>\n",
       "      <td>0.859155</td>\n",
       "    </tr>\n",
       "    <tr>\n",
       "      <td>3</td>\n",
       "      <td>0.173500</td>\n",
       "      <td>0.276361</td>\n",
       "      <td>0.911972</td>\n",
       "      <td>0.907024</td>\n",
       "      <td>0.911972</td>\n",
       "    </tr>\n",
       "    <tr>\n",
       "      <td>4</td>\n",
       "      <td>0.081300</td>\n",
       "      <td>0.305322</td>\n",
       "      <td>0.897887</td>\n",
       "      <td>0.900265</td>\n",
       "      <td>0.897887</td>\n",
       "    </tr>\n",
       "    <tr>\n",
       "      <td>5</td>\n",
       "      <td>0.049900</td>\n",
       "      <td>0.286295</td>\n",
       "      <td>0.897887</td>\n",
       "      <td>0.898254</td>\n",
       "      <td>0.897887</td>\n",
       "    </tr>\n",
       "  </tbody>\n",
       "</table><p>"
      ],
      "text/plain": [
       "<IPython.core.display.HTML object>"
      ]
     },
     "metadata": {},
     "output_type": "display_data"
    },
    {
     "name": "stdout",
     "output_type": "stream",
     "text": [
      "Saving\n"
     ]
    },
    {
     "data": {
      "text/html": [],
      "text/plain": [
       "<IPython.core.display.HTML object>"
      ]
     },
     "metadata": {},
     "output_type": "display_data"
    },
    {
     "name": "stdout",
     "output_type": "stream",
     "text": [
      "{'accuracy': 0.8591549295774648, 'f1': 0.8456996927041357, 'recall': 0.8591549295774648}\n",
      "\n",
      "Saved paraphrase-xlm-r-multilingual-v1_bn_e5_r3.\n",
      "\n",
      "Done in 3.56 min\n",
      "\n",
      "Loading model sentence-transformers/paraphrase-xlm-r-multilingual-v1\n",
      "\n",
      "Tokenizing\n"
     ]
    },
    {
     "data": {
      "application/vnd.jupyter.widget-view+json": {
       "model_id": "249e95e53a4944898fc9ca00dcf161af",
       "version_major": 2,
       "version_minor": 0
      },
      "text/plain": [
       "Map:   0%|          | 0/53 [00:00<?, ? examples/s]"
      ]
     },
     "metadata": {},
     "output_type": "display_data"
    },
    {
     "name": "stderr",
     "output_type": "stream",
     "text": [
      "Some weights of XLMRobertaForSequenceClassification were not initialized from the model checkpoint at sentence-transformers/paraphrase-xlm-r-multilingual-v1 and are newly initialized: ['classifier.dense.bias', 'classifier.dense.weight', 'classifier.out_proj.bias', 'classifier.out_proj.weight']\n",
      "You should probably TRAIN this model on a down-stream task to be able to use it for predictions and inference.\n"
     ]
    },
    {
     "name": "stdout",
     "output_type": "stream",
     "text": [
      "Loading model\n",
      "Training\n"
     ]
    },
    {
     "data": {
      "text/html": [
       "\n",
       "    <div>\n",
       "      \n",
       "      <progress value='150' max='150' style='width:300px; height:20px; vertical-align: middle;'></progress>\n",
       "      [150/150 04:26, Epoch 15/15]\n",
       "    </div>\n",
       "    <table border=\"1\" class=\"dataframe\">\n",
       "  <thead>\n",
       " <tr style=\"text-align: left;\">\n",
       "      <th>Epoch</th>\n",
       "      <th>Training Loss</th>\n",
       "      <th>Validation Loss</th>\n",
       "      <th>Accuracy</th>\n",
       "      <th>F1</th>\n",
       "      <th>Recall</th>\n",
       "    </tr>\n",
       "  </thead>\n",
       "  <tbody>\n",
       "    <tr>\n",
       "      <td>1</td>\n",
       "      <td>1.701700</td>\n",
       "      <td>1.546910</td>\n",
       "      <td>0.396226</td>\n",
       "      <td>0.301763</td>\n",
       "      <td>0.396226</td>\n",
       "    </tr>\n",
       "    <tr>\n",
       "      <td>2</td>\n",
       "      <td>1.417100</td>\n",
       "      <td>1.369437</td>\n",
       "      <td>0.603774</td>\n",
       "      <td>0.524871</td>\n",
       "      <td>0.603774</td>\n",
       "    </tr>\n",
       "    <tr>\n",
       "      <td>3</td>\n",
       "      <td>1.198500</td>\n",
       "      <td>1.192595</td>\n",
       "      <td>0.641509</td>\n",
       "      <td>0.589006</td>\n",
       "      <td>0.641509</td>\n",
       "    </tr>\n",
       "    <tr>\n",
       "      <td>4</td>\n",
       "      <td>0.969200</td>\n",
       "      <td>1.013418</td>\n",
       "      <td>0.679245</td>\n",
       "      <td>0.630252</td>\n",
       "      <td>0.679245</td>\n",
       "    </tr>\n",
       "    <tr>\n",
       "      <td>5</td>\n",
       "      <td>0.724000</td>\n",
       "      <td>0.881956</td>\n",
       "      <td>0.716981</td>\n",
       "      <td>0.692662</td>\n",
       "      <td>0.716981</td>\n",
       "    </tr>\n",
       "    <tr>\n",
       "      <td>6</td>\n",
       "      <td>0.540600</td>\n",
       "      <td>0.805034</td>\n",
       "      <td>0.735849</td>\n",
       "      <td>0.713416</td>\n",
       "      <td>0.735849</td>\n",
       "    </tr>\n",
       "    <tr>\n",
       "      <td>7</td>\n",
       "      <td>0.405100</td>\n",
       "      <td>0.752597</td>\n",
       "      <td>0.754717</td>\n",
       "      <td>0.739587</td>\n",
       "      <td>0.754717</td>\n",
       "    </tr>\n",
       "    <tr>\n",
       "      <td>8</td>\n",
       "      <td>0.306600</td>\n",
       "      <td>0.709167</td>\n",
       "      <td>0.773585</td>\n",
       "      <td>0.758548</td>\n",
       "      <td>0.773585</td>\n",
       "    </tr>\n",
       "    <tr>\n",
       "      <td>9</td>\n",
       "      <td>0.233600</td>\n",
       "      <td>0.689775</td>\n",
       "      <td>0.773585</td>\n",
       "      <td>0.758548</td>\n",
       "      <td>0.773585</td>\n",
       "    </tr>\n",
       "    <tr>\n",
       "      <td>10</td>\n",
       "      <td>0.185900</td>\n",
       "      <td>0.658274</td>\n",
       "      <td>0.792453</td>\n",
       "      <td>0.777602</td>\n",
       "      <td>0.792453</td>\n",
       "    </tr>\n",
       "    <tr>\n",
       "      <td>11</td>\n",
       "      <td>0.154400</td>\n",
       "      <td>0.646926</td>\n",
       "      <td>0.792453</td>\n",
       "      <td>0.778077</td>\n",
       "      <td>0.792453</td>\n",
       "    </tr>\n",
       "    <tr>\n",
       "      <td>12</td>\n",
       "      <td>0.126300</td>\n",
       "      <td>0.644249</td>\n",
       "      <td>0.773585</td>\n",
       "      <td>0.758125</td>\n",
       "      <td>0.773585</td>\n",
       "    </tr>\n",
       "    <tr>\n",
       "      <td>13</td>\n",
       "      <td>0.121300</td>\n",
       "      <td>0.636695</td>\n",
       "      <td>0.792453</td>\n",
       "      <td>0.778077</td>\n",
       "      <td>0.792453</td>\n",
       "    </tr>\n",
       "    <tr>\n",
       "      <td>14</td>\n",
       "      <td>0.111700</td>\n",
       "      <td>0.645736</td>\n",
       "      <td>0.792453</td>\n",
       "      <td>0.778077</td>\n",
       "      <td>0.792453</td>\n",
       "    </tr>\n",
       "    <tr>\n",
       "      <td>15</td>\n",
       "      <td>0.109500</td>\n",
       "      <td>0.646729</td>\n",
       "      <td>0.792453</td>\n",
       "      <td>0.778077</td>\n",
       "      <td>0.792453</td>\n",
       "    </tr>\n",
       "  </tbody>\n",
       "</table><p>"
      ],
      "text/plain": [
       "<IPython.core.display.HTML object>"
      ]
     },
     "metadata": {},
     "output_type": "display_data"
    },
    {
     "name": "stdout",
     "output_type": "stream",
     "text": [
      "Saving\n"
     ]
    },
    {
     "data": {
      "text/html": [],
      "text/plain": [
       "<IPython.core.display.HTML object>"
      ]
     },
     "metadata": {},
     "output_type": "display_data"
    },
    {
     "name": "stdout",
     "output_type": "stream",
     "text": [
      "{'accuracy': 0.9433962264150944, 'f1': 0.9332962351099905, 'recall': 0.9433962264150944}\n",
      "\n",
      "Saved paraphrase-xlm-r-multilingual-v1_mc_e15_r3.\n",
      "\n",
      "Done in 4.67 min\n",
      "\n",
      "Loading model sentence-transformers/paraphrase-xlm-r-multilingual-v1\n",
      "\n",
      "Tokenizing\n",
      "Loading model\n"
     ]
    },
    {
     "name": "stderr",
     "output_type": "stream",
     "text": [
      "Some weights of XLMRobertaForSequenceClassification were not initialized from the model checkpoint at sentence-transformers/paraphrase-xlm-r-multilingual-v1 and are newly initialized: ['classifier.dense.bias', 'classifier.dense.weight', 'classifier.out_proj.bias', 'classifier.out_proj.weight']\n",
      "You should probably TRAIN this model on a down-stream task to be able to use it for predictions and inference.\n"
     ]
    },
    {
     "name": "stdout",
     "output_type": "stream",
     "text": [
      "Training\n"
     ]
    },
    {
     "data": {
      "text/html": [
       "\n",
       "    <div>\n",
       "      \n",
       "      <progress value='270' max='270' style='width:300px; height:20px; vertical-align: middle;'></progress>\n",
       "      [270/270 04:14, Epoch 5/5]\n",
       "    </div>\n",
       "    <table border=\"1\" class=\"dataframe\">\n",
       "  <thead>\n",
       " <tr style=\"text-align: left;\">\n",
       "      <th>Epoch</th>\n",
       "      <th>Training Loss</th>\n",
       "      <th>Validation Loss</th>\n",
       "      <th>Accuracy</th>\n",
       "      <th>F1</th>\n",
       "      <th>Recall</th>\n",
       "    </tr>\n",
       "  </thead>\n",
       "  <tbody>\n",
       "    <tr>\n",
       "      <td>1</td>\n",
       "      <td>0.470200</td>\n",
       "      <td>0.363634</td>\n",
       "      <td>0.813380</td>\n",
       "      <td>0.729673</td>\n",
       "      <td>0.813380</td>\n",
       "    </tr>\n",
       "    <tr>\n",
       "      <td>2</td>\n",
       "      <td>0.297900</td>\n",
       "      <td>0.318496</td>\n",
       "      <td>0.855634</td>\n",
       "      <td>0.858096</td>\n",
       "      <td>0.855634</td>\n",
       "    </tr>\n",
       "    <tr>\n",
       "      <td>3</td>\n",
       "      <td>0.166200</td>\n",
       "      <td>0.311964</td>\n",
       "      <td>0.855634</td>\n",
       "      <td>0.862853</td>\n",
       "      <td>0.855634</td>\n",
       "    </tr>\n",
       "    <tr>\n",
       "      <td>4</td>\n",
       "      <td>0.080200</td>\n",
       "      <td>0.384088</td>\n",
       "      <td>0.876761</td>\n",
       "      <td>0.875363</td>\n",
       "      <td>0.876761</td>\n",
       "    </tr>\n",
       "    <tr>\n",
       "      <td>5</td>\n",
       "      <td>0.039600</td>\n",
       "      <td>0.413421</td>\n",
       "      <td>0.880282</td>\n",
       "      <td>0.879389</td>\n",
       "      <td>0.880282</td>\n",
       "    </tr>\n",
       "  </tbody>\n",
       "</table><p>"
      ],
      "text/plain": [
       "<IPython.core.display.HTML object>"
      ]
     },
     "metadata": {},
     "output_type": "display_data"
    },
    {
     "name": "stdout",
     "output_type": "stream",
     "text": [
      "Saving\n"
     ]
    },
    {
     "data": {
      "text/html": [],
      "text/plain": [
       "<IPython.core.display.HTML object>"
      ]
     },
     "metadata": {},
     "output_type": "display_data"
    },
    {
     "name": "stdout",
     "output_type": "stream",
     "text": [
      "{'accuracy': 0.8591549295774648, 'f1': 0.867737676056338, 'recall': 0.8591549295774648}\n",
      "\n",
      "Saved paraphrase-xlm-r-multilingual-v1_bn_e5_r6.\n",
      "\n",
      "Done in 4.64 min\n",
      "\n",
      "Loading model sentence-transformers/paraphrase-xlm-r-multilingual-v1\n",
      "\n",
      "Tokenizing\n"
     ]
    },
    {
     "data": {
      "application/vnd.jupyter.widget-view+json": {
       "model_id": "24fda36fbd324187867217c966680c94",
       "version_major": 2,
       "version_minor": 0
      },
      "text/plain": [
       "Map:   0%|          | 0/53 [00:00<?, ? examples/s]"
      ]
     },
     "metadata": {},
     "output_type": "display_data"
    },
    {
     "name": "stdout",
     "output_type": "stream",
     "text": [
      "Loading model\n"
     ]
    },
    {
     "name": "stderr",
     "output_type": "stream",
     "text": [
      "Some weights of XLMRobertaForSequenceClassification were not initialized from the model checkpoint at sentence-transformers/paraphrase-xlm-r-multilingual-v1 and are newly initialized: ['classifier.dense.bias', 'classifier.dense.weight', 'classifier.out_proj.bias', 'classifier.out_proj.weight']\n",
      "You should probably TRAIN this model on a down-stream task to be able to use it for predictions and inference.\n"
     ]
    },
    {
     "name": "stdout",
     "output_type": "stream",
     "text": [
      "Training\n"
     ]
    },
    {
     "data": {
      "text/html": [
       "\n",
       "    <div>\n",
       "      \n",
       "      <progress value='150' max='150' style='width:300px; height:20px; vertical-align: middle;'></progress>\n",
       "      [150/150 04:39, Epoch 15/15]\n",
       "    </div>\n",
       "    <table border=\"1\" class=\"dataframe\">\n",
       "  <thead>\n",
       " <tr style=\"text-align: left;\">\n",
       "      <th>Epoch</th>\n",
       "      <th>Training Loss</th>\n",
       "      <th>Validation Loss</th>\n",
       "      <th>Accuracy</th>\n",
       "      <th>F1</th>\n",
       "      <th>Recall</th>\n",
       "    </tr>\n",
       "  </thead>\n",
       "  <tbody>\n",
       "    <tr>\n",
       "      <td>1</td>\n",
       "      <td>1.673400</td>\n",
       "      <td>1.520369</td>\n",
       "      <td>0.547170</td>\n",
       "      <td>0.472287</td>\n",
       "      <td>0.547170</td>\n",
       "    </tr>\n",
       "    <tr>\n",
       "      <td>2</td>\n",
       "      <td>1.402800</td>\n",
       "      <td>1.343638</td>\n",
       "      <td>0.603774</td>\n",
       "      <td>0.543651</td>\n",
       "      <td>0.603774</td>\n",
       "    </tr>\n",
       "    <tr>\n",
       "      <td>3</td>\n",
       "      <td>1.152600</td>\n",
       "      <td>1.142498</td>\n",
       "      <td>0.641509</td>\n",
       "      <td>0.568975</td>\n",
       "      <td>0.641509</td>\n",
       "    </tr>\n",
       "    <tr>\n",
       "      <td>4</td>\n",
       "      <td>0.899800</td>\n",
       "      <td>0.913697</td>\n",
       "      <td>0.698113</td>\n",
       "      <td>0.631100</td>\n",
       "      <td>0.698113</td>\n",
       "    </tr>\n",
       "    <tr>\n",
       "      <td>5</td>\n",
       "      <td>0.699100</td>\n",
       "      <td>0.747628</td>\n",
       "      <td>0.792453</td>\n",
       "      <td>0.754011</td>\n",
       "      <td>0.792453</td>\n",
       "    </tr>\n",
       "    <tr>\n",
       "      <td>6</td>\n",
       "      <td>0.523300</td>\n",
       "      <td>0.640990</td>\n",
       "      <td>0.849057</td>\n",
       "      <td>0.820850</td>\n",
       "      <td>0.849057</td>\n",
       "    </tr>\n",
       "    <tr>\n",
       "      <td>7</td>\n",
       "      <td>0.382900</td>\n",
       "      <td>0.563113</td>\n",
       "      <td>0.867925</td>\n",
       "      <td>0.839645</td>\n",
       "      <td>0.867925</td>\n",
       "    </tr>\n",
       "    <tr>\n",
       "      <td>8</td>\n",
       "      <td>0.293800</td>\n",
       "      <td>0.511418</td>\n",
       "      <td>0.867925</td>\n",
       "      <td>0.839645</td>\n",
       "      <td>0.867925</td>\n",
       "    </tr>\n",
       "    <tr>\n",
       "      <td>9</td>\n",
       "      <td>0.220400</td>\n",
       "      <td>0.479416</td>\n",
       "      <td>0.867925</td>\n",
       "      <td>0.840169</td>\n",
       "      <td>0.867925</td>\n",
       "    </tr>\n",
       "    <tr>\n",
       "      <td>10</td>\n",
       "      <td>0.180800</td>\n",
       "      <td>0.473441</td>\n",
       "      <td>0.867925</td>\n",
       "      <td>0.840169</td>\n",
       "      <td>0.867925</td>\n",
       "    </tr>\n",
       "    <tr>\n",
       "      <td>11</td>\n",
       "      <td>0.147300</td>\n",
       "      <td>0.470118</td>\n",
       "      <td>0.867925</td>\n",
       "      <td>0.840169</td>\n",
       "      <td>0.867925</td>\n",
       "    </tr>\n",
       "    <tr>\n",
       "      <td>12</td>\n",
       "      <td>0.129900</td>\n",
       "      <td>0.457861</td>\n",
       "      <td>0.849057</td>\n",
       "      <td>0.809980</td>\n",
       "      <td>0.849057</td>\n",
       "    </tr>\n",
       "    <tr>\n",
       "      <td>13</td>\n",
       "      <td>0.112000</td>\n",
       "      <td>0.453306</td>\n",
       "      <td>0.849057</td>\n",
       "      <td>0.809980</td>\n",
       "      <td>0.849057</td>\n",
       "    </tr>\n",
       "    <tr>\n",
       "      <td>14</td>\n",
       "      <td>0.104400</td>\n",
       "      <td>0.455765</td>\n",
       "      <td>0.849057</td>\n",
       "      <td>0.809980</td>\n",
       "      <td>0.849057</td>\n",
       "    </tr>\n",
       "    <tr>\n",
       "      <td>15</td>\n",
       "      <td>0.100900</td>\n",
       "      <td>0.456509</td>\n",
       "      <td>0.849057</td>\n",
       "      <td>0.809980</td>\n",
       "      <td>0.849057</td>\n",
       "    </tr>\n",
       "  </tbody>\n",
       "</table><p>"
      ],
      "text/plain": [
       "<IPython.core.display.HTML object>"
      ]
     },
     "metadata": {},
     "output_type": "display_data"
    },
    {
     "name": "stdout",
     "output_type": "stream",
     "text": [
      "Saving\n"
     ]
    },
    {
     "data": {
      "text/html": [],
      "text/plain": [
       "<IPython.core.display.HTML object>"
      ]
     },
     "metadata": {},
     "output_type": "display_data"
    },
    {
     "name": "stdout",
     "output_type": "stream",
     "text": [
      "{'accuracy': 0.8867924528301887, 'f1': 0.8866571988909177, 'recall': 0.8867924528301887}\n",
      "\n",
      "Saved paraphrase-xlm-r-multilingual-v1_mc_e15_r6.\n",
      "\n",
      "Done in 5.03 min\n",
      "\n",
      "Loading model sentence-transformers/paraphrase-xlm-r-multilingual-v1\n",
      "\n",
      "Tokenizing\n",
      "Loading model\n"
     ]
    },
    {
     "name": "stderr",
     "output_type": "stream",
     "text": [
      "Some weights of XLMRobertaForSequenceClassification were not initialized from the model checkpoint at sentence-transformers/paraphrase-xlm-r-multilingual-v1 and are newly initialized: ['classifier.dense.bias', 'classifier.dense.weight', 'classifier.out_proj.bias', 'classifier.out_proj.weight']\n",
      "You should probably TRAIN this model on a down-stream task to be able to use it for predictions and inference.\n"
     ]
    },
    {
     "name": "stdout",
     "output_type": "stream",
     "text": [
      "Training\n"
     ]
    },
    {
     "data": {
      "text/html": [
       "\n",
       "    <div>\n",
       "      \n",
       "      <progress value='270' max='270' style='width:300px; height:20px; vertical-align: middle;'></progress>\n",
       "      [270/270 03:26, Epoch 5/5]\n",
       "    </div>\n",
       "    <table border=\"1\" class=\"dataframe\">\n",
       "  <thead>\n",
       " <tr style=\"text-align: left;\">\n",
       "      <th>Epoch</th>\n",
       "      <th>Training Loss</th>\n",
       "      <th>Validation Loss</th>\n",
       "      <th>Accuracy</th>\n",
       "      <th>F1</th>\n",
       "      <th>Recall</th>\n",
       "    </tr>\n",
       "  </thead>\n",
       "  <tbody>\n",
       "    <tr>\n",
       "      <td>1</td>\n",
       "      <td>0.446500</td>\n",
       "      <td>0.333558</td>\n",
       "      <td>0.841549</td>\n",
       "      <td>0.804941</td>\n",
       "      <td>0.841549</td>\n",
       "    </tr>\n",
       "    <tr>\n",
       "      <td>2</td>\n",
       "      <td>0.285500</td>\n",
       "      <td>0.275521</td>\n",
       "      <td>0.887324</td>\n",
       "      <td>0.883684</td>\n",
       "      <td>0.887324</td>\n",
       "    </tr>\n",
       "    <tr>\n",
       "      <td>3</td>\n",
       "      <td>0.136100</td>\n",
       "      <td>0.274805</td>\n",
       "      <td>0.908451</td>\n",
       "      <td>0.911384</td>\n",
       "      <td>0.908451</td>\n",
       "    </tr>\n",
       "    <tr>\n",
       "      <td>4</td>\n",
       "      <td>0.052400</td>\n",
       "      <td>0.354276</td>\n",
       "      <td>0.901408</td>\n",
       "      <td>0.905619</td>\n",
       "      <td>0.901408</td>\n",
       "    </tr>\n",
       "    <tr>\n",
       "      <td>5</td>\n",
       "      <td>0.025300</td>\n",
       "      <td>0.311861</td>\n",
       "      <td>0.919014</td>\n",
       "      <td>0.920395</td>\n",
       "      <td>0.919014</td>\n",
       "    </tr>\n",
       "  </tbody>\n",
       "</table><p>"
      ],
      "text/plain": [
       "<IPython.core.display.HTML object>"
      ]
     },
     "metadata": {},
     "output_type": "display_data"
    },
    {
     "name": "stdout",
     "output_type": "stream",
     "text": [
      "Saving\n"
     ]
    },
    {
     "data": {
      "text/html": [],
      "text/plain": [
       "<IPython.core.display.HTML object>"
      ]
     },
     "metadata": {},
     "output_type": "display_data"
    },
    {
     "name": "stdout",
     "output_type": "stream",
     "text": [
      "{'accuracy': 0.8697183098591549, 'f1': 0.8701857994521757, 'recall': 0.8697183098591549}\n",
      "\n",
      "Saved paraphrase-xlm-r-multilingual-v1_bn_e5_r9.\n",
      "\n",
      "Done in 3.82 min\n",
      "\n",
      "Loading model sentence-transformers/paraphrase-xlm-r-multilingual-v1\n",
      "\n",
      "Tokenizing\n"
     ]
    },
    {
     "data": {
      "application/vnd.jupyter.widget-view+json": {
       "model_id": "ff2dff1d16f44f6bab005b2966ff439f",
       "version_major": 2,
       "version_minor": 0
      },
      "text/plain": [
       "Map:   0%|          | 0/53 [00:00<?, ? examples/s]"
      ]
     },
     "metadata": {},
     "output_type": "display_data"
    },
    {
     "name": "stderr",
     "output_type": "stream",
     "text": [
      "Some weights of XLMRobertaForSequenceClassification were not initialized from the model checkpoint at sentence-transformers/paraphrase-xlm-r-multilingual-v1 and are newly initialized: ['classifier.dense.bias', 'classifier.dense.weight', 'classifier.out_proj.bias', 'classifier.out_proj.weight']\n",
      "You should probably TRAIN this model on a down-stream task to be able to use it for predictions and inference.\n"
     ]
    },
    {
     "name": "stdout",
     "output_type": "stream",
     "text": [
      "Loading model\n",
      "Training\n"
     ]
    },
    {
     "data": {
      "text/html": [
       "\n",
       "    <div>\n",
       "      \n",
       "      <progress value='150' max='150' style='width:300px; height:20px; vertical-align: middle;'></progress>\n",
       "      [150/150 05:26, Epoch 15/15]\n",
       "    </div>\n",
       "    <table border=\"1\" class=\"dataframe\">\n",
       "  <thead>\n",
       " <tr style=\"text-align: left;\">\n",
       "      <th>Epoch</th>\n",
       "      <th>Training Loss</th>\n",
       "      <th>Validation Loss</th>\n",
       "      <th>Accuracy</th>\n",
       "      <th>F1</th>\n",
       "      <th>Recall</th>\n",
       "    </tr>\n",
       "  </thead>\n",
       "  <tbody>\n",
       "    <tr>\n",
       "      <td>1</td>\n",
       "      <td>1.686400</td>\n",
       "      <td>1.489255</td>\n",
       "      <td>0.528302</td>\n",
       "      <td>0.456229</td>\n",
       "      <td>0.528302</td>\n",
       "    </tr>\n",
       "    <tr>\n",
       "      <td>2</td>\n",
       "      <td>1.393200</td>\n",
       "      <td>1.279130</td>\n",
       "      <td>0.679245</td>\n",
       "      <td>0.608188</td>\n",
       "      <td>0.679245</td>\n",
       "    </tr>\n",
       "    <tr>\n",
       "      <td>3</td>\n",
       "      <td>1.189100</td>\n",
       "      <td>1.058830</td>\n",
       "      <td>0.698113</td>\n",
       "      <td>0.625651</td>\n",
       "      <td>0.698113</td>\n",
       "    </tr>\n",
       "    <tr>\n",
       "      <td>4</td>\n",
       "      <td>0.909500</td>\n",
       "      <td>0.844600</td>\n",
       "      <td>0.773585</td>\n",
       "      <td>0.725437</td>\n",
       "      <td>0.773585</td>\n",
       "    </tr>\n",
       "    <tr>\n",
       "      <td>5</td>\n",
       "      <td>0.718700</td>\n",
       "      <td>0.702619</td>\n",
       "      <td>0.792453</td>\n",
       "      <td>0.762689</td>\n",
       "      <td>0.792453</td>\n",
       "    </tr>\n",
       "    <tr>\n",
       "      <td>6</td>\n",
       "      <td>0.532000</td>\n",
       "      <td>0.599961</td>\n",
       "      <td>0.849057</td>\n",
       "      <td>0.830177</td>\n",
       "      <td>0.849057</td>\n",
       "    </tr>\n",
       "    <tr>\n",
       "      <td>7</td>\n",
       "      <td>0.387300</td>\n",
       "      <td>0.522624</td>\n",
       "      <td>0.849057</td>\n",
       "      <td>0.830586</td>\n",
       "      <td>0.849057</td>\n",
       "    </tr>\n",
       "    <tr>\n",
       "      <td>8</td>\n",
       "      <td>0.318400</td>\n",
       "      <td>0.463555</td>\n",
       "      <td>0.867925</td>\n",
       "      <td>0.847330</td>\n",
       "      <td>0.867925</td>\n",
       "    </tr>\n",
       "    <tr>\n",
       "      <td>9</td>\n",
       "      <td>0.238600</td>\n",
       "      <td>0.425517</td>\n",
       "      <td>0.886792</td>\n",
       "      <td>0.870795</td>\n",
       "      <td>0.886792</td>\n",
       "    </tr>\n",
       "    <tr>\n",
       "      <td>10</td>\n",
       "      <td>0.197100</td>\n",
       "      <td>0.393091</td>\n",
       "      <td>0.886792</td>\n",
       "      <td>0.870795</td>\n",
       "      <td>0.886792</td>\n",
       "    </tr>\n",
       "    <tr>\n",
       "      <td>11</td>\n",
       "      <td>0.152600</td>\n",
       "      <td>0.366529</td>\n",
       "      <td>0.886792</td>\n",
       "      <td>0.870795</td>\n",
       "      <td>0.886792</td>\n",
       "    </tr>\n",
       "    <tr>\n",
       "      <td>12</td>\n",
       "      <td>0.133300</td>\n",
       "      <td>0.353099</td>\n",
       "      <td>0.886792</td>\n",
       "      <td>0.870795</td>\n",
       "      <td>0.886792</td>\n",
       "    </tr>\n",
       "    <tr>\n",
       "      <td>13</td>\n",
       "      <td>0.124400</td>\n",
       "      <td>0.354569</td>\n",
       "      <td>0.886792</td>\n",
       "      <td>0.870795</td>\n",
       "      <td>0.886792</td>\n",
       "    </tr>\n",
       "    <tr>\n",
       "      <td>14</td>\n",
       "      <td>0.116300</td>\n",
       "      <td>0.348433</td>\n",
       "      <td>0.886792</td>\n",
       "      <td>0.870795</td>\n",
       "      <td>0.886792</td>\n",
       "    </tr>\n",
       "    <tr>\n",
       "      <td>15</td>\n",
       "      <td>0.110300</td>\n",
       "      <td>0.346444</td>\n",
       "      <td>0.886792</td>\n",
       "      <td>0.870795</td>\n",
       "      <td>0.886792</td>\n",
       "    </tr>\n",
       "  </tbody>\n",
       "</table><p>"
      ],
      "text/plain": [
       "<IPython.core.display.HTML object>"
      ]
     },
     "metadata": {},
     "output_type": "display_data"
    },
    {
     "name": "stdout",
     "output_type": "stream",
     "text": [
      "Saving\n"
     ]
    },
    {
     "data": {
      "text/html": [],
      "text/plain": [
       "<IPython.core.display.HTML object>"
      ]
     },
     "metadata": {},
     "output_type": "display_data"
    },
    {
     "name": "stdout",
     "output_type": "stream",
     "text": [
      "{'accuracy': 0.8679245283018868, 'f1': 0.8716839881656135, 'recall': 0.8679245283018868}\n",
      "\n",
      "Saved paraphrase-xlm-r-multilingual-v1_mc_e15_r9.\n",
      "\n",
      "Done in 5.6 min\n",
      "{'bn_0': {'accuracy': 0.8873239436619719, 'f1': 0.8846659443842542, 'recall': 0.8873239436619719}, 'mc_0': {'accuracy': 0.9622641509433962, 'f1': 0.9615018105584143, 'recall': 0.9622641509433962}, 'bn_3': {'accuracy': 0.8591549295774648, 'f1': 0.8456996927041357, 'recall': 0.8591549295774648}, 'mc_3': {'accuracy': 0.9433962264150944, 'f1': 0.9332962351099905, 'recall': 0.9433962264150944}, 'bn_6': {'accuracy': 0.8591549295774648, 'f1': 0.867737676056338, 'recall': 0.8591549295774648}, 'mc_6': {'accuracy': 0.8867924528301887, 'f1': 0.8866571988909177, 'recall': 0.8867924528301887}, 'bn_9': {'accuracy': 0.8697183098591549, 'f1': 0.8701857994521757, 'recall': 0.8697183098591549}, 'mc_9': {'accuracy': 0.8679245283018868, 'f1': 0.8716839881656135, 'recall': 0.8679245283018868}}\n"
     ]
    },
    {
     "data": {
      "image/png": "[encoded data removed]",
      "text/plain": [
       "<Figure size 640x480 with 1 Axes>"
      ]
     },
     "metadata": {},
     "output_type": "display_data"
    },
    {
     "data": {
      "image/png": "[encoded data removed]",
      "text/plain": [
       "<Figure size 640x480 with 1 Axes>"
      ]
     },
     "metadata": {},
     "output_type": "display_data"
    },
    {
     "data": {
      "image/png": "[encoded data removed]",
      "text/plain": [
       "<Figure size 640x480 with 1 Axes>"
      ]
     },
     "metadata": {},
     "output_type": "display_data"
    },
    {
     "data": {
      "image/png": "[encoded data removed]",
      "text/plain": [
       "<Figure size 640x480 with 1 Axes>"
      ]
     },
     "metadata": {},
     "output_type": "display_data"
    },
    {
     "data": {
      "image/png": "[encoded data removed]",
      "text/plain": [
       "<Figure size 640x480 with 1 Axes>"
      ]
     },
     "metadata": {},
     "output_type": "display_data"
    },
    {
     "data": {
      "image/png": "[encoded data removed]",
      "text/plain": [
       "<Figure size 640x480 with 1 Axes>"
      ]
     },
     "metadata": {},
     "output_type": "display_data"
    },
    {
     "data": {
      "image/png": "[encoded data removed]",
      "text/plain": [
       "<Figure size 640x480 with 1 Axes>"
      ]
     },
     "metadata": {},
     "output_type": "display_data"
    },
    {
     "data": {
      "image/png": "[encoded data removed]",
      "text/plain": [
       "<Figure size 640x480 with 1 Axes>"
      ]
     },
     "metadata": {},
     "output_type": "display_data"
    }
   ],
   "source": [
    "int2label_dct, label2int_dct = load_labelintdcts()\n",
    "metriclog = {}\n",
    "exps = [0,3,6,9]#[6]#\n",
    "for r in exps:\n",
    "    bn_ds = DatasetDict.load_from_disk(f\"{input_dir}/ds_{r}_bn\")\n",
    "    mc_ds = DatasetDict.load_from_disk(f\"{input_dir}/ds_{r}_mc\")\n",
    "    hyper = {\n",
    "        \"epochs\":5, \n",
    "        \"r\":r, \n",
    "        \"lr\":2e-5,\n",
    "        \"batch_size\":16\n",
    "        }\n",
    "    torch.cuda.empty_cache()\n",
    "    gc.collect()\n",
    "    metrics = finetune_roberta(bn_ds, int2label_dct[\"bn\"], label2int_dct[\"bn\"], \"bn\", model_name=\"sentence-transformers/paraphrase-xlm-r-multilingual-v1\", dev='cuda', output_dir=output_dir, hyperparams=hyper, oversampling=False)\n",
    "    metriclog[f'bn_{r}'] = metrics\n",
    "    hyper = {\n",
    "        \"epochs\":15, \n",
    "        \"r\":r, \n",
    "        \"lr\":2e-5,\n",
    "        \"batch_size\":16\n",
    "        }\n",
    "    torch.cuda.empty_cache()\n",
    "    gc.collect()\n",
    "    metrics = finetune_roberta(mc_ds, int2label_dct[\"mc\"], label2int_dct[\"mc\"], \"mc\", model_name=\"sentence-transformers/paraphrase-xlm-r-multilingual-v1\", dev='cuda', output_dir=output_dir, hyperparams=hyper, oversampling=False)\n",
    "    metriclog[f'mc_{r}'] = metrics\n",
    "print(metriclog)"
   ]
  },
  {
   "cell_type": "markdown",
   "metadata": {},
   "source": [
    "Then test the model by using it to predict labels, or by using it as an embedder with an external classifier that predicts labels"
   ]
  },
  {
   "cell_type": "code",
   "execution_count": 28,
   "metadata": {},
   "outputs": [
    {
     "name": "stdout",
     "output_type": "stream",
     "text": [
      "['bert_bn_e5_r0', 'bert_mc_e15_r0', 'bert_bn_e5_r3', 'bert_mc_e15_r3', 'bert_bn_e5_r6', 'bert_mc_e15_r6', 'bert_bn_e5_r9', 'bert_mc_e15_r9']\n"
     ]
    },
    {
     "name": "stderr",
     "output_type": "stream",
     "text": [
      "  0%|          | 0/8 [00:00<?, ?it/s]"
     ]
    },
    {
     "name": "stdout",
     "output_type": "stream",
     "text": [
      "\n",
      "Running model bert_bn_e5_r0\n",
      "Loading tokenizer\n",
      "Loading model\n",
      "Running model\n"
     ]
    },
    {
     "name": "stderr",
     "output_type": "stream",
     "text": [
      "100%|██████████| 9/9 [00:04<00:00,  2.19it/s]\n"
     ]
    },
    {
     "name": "stdout",
     "output_type": "stream",
     "text": [
      "Freeing memory\n"
     ]
    },
    {
     "name": "stderr",
     "output_type": "stream",
     "text": [
      "No sentence-transformers model found with name c:\\Users\\allie\\Documents\\GitHub\\policy-classifier/outputs/fting/paraphrase-xlm-r-multilingual-v1_bn_e5_r0.pt. Creating a new one with mean pooling.\n",
      "Some weights of XLMRobertaModel were not initialized from the model checkpoint at c:\\Users\\allie\\Documents\\GitHub\\policy-classifier/outputs/fting/paraphrase-xlm-r-multilingual-v1_bn_e5_r0.pt and are newly initialized: ['roberta.pooler.dense.bias', 'roberta.pooler.dense.weight']\n",
      "You should probably TRAIN this model on a down-stream task to be able to use it for predictions and inference.\n",
      "100%|██████████| 1135/1135 [00:14<00:00, 76.72it/s]\n"
     ]
    },
    {
     "name": "stdout",
     "output_type": "stream",
     "text": [
      "Encoding test sentences.\n"
     ]
    },
    {
     "name": "stderr",
     "output_type": "stream",
     "text": [
      "100%|██████████| 284/284 [00:03<00:00, 73.19it/s]\n",
      " 12%|█▎        | 1/8 [00:27<03:12, 27.46s/it]"
     ]
    },
    {
     "name": "stdout",
     "output_type": "stream",
     "text": [
      "bert_bn_e5_r0 run completed in in 27.46s\n",
      "\n",
      "Running model bert_mc_e15_r0\n",
      "Loading tokenizer\n",
      "Loading model\n",
      "Running model\n"
     ]
    },
    {
     "name": "stderr",
     "output_type": "stream",
     "text": [
      "100%|██████████| 2/2 [00:01<00:00,  1.89it/s]\n"
     ]
    },
    {
     "name": "stdout",
     "output_type": "stream",
     "text": [
      "Freeing memory\n"
     ]
    },
    {
     "name": "stderr",
     "output_type": "stream",
     "text": [
      "No sentence-transformers model found with name c:\\Users\\allie\\Documents\\GitHub\\policy-classifier/outputs/fting/paraphrase-xlm-r-multilingual-v1_mc_e15_r0.pt. Creating a new one with mean pooling.\n",
      "Some weights of XLMRobertaModel were not initialized from the model checkpoint at c:\\Users\\allie\\Documents\\GitHub\\policy-classifier/outputs/fting/paraphrase-xlm-r-multilingual-v1_mc_e15_r0.pt and are newly initialized: ['roberta.pooler.dense.bias', 'roberta.pooler.dense.weight']\n",
      "You should probably TRAIN this model on a down-stream task to be able to use it for predictions and inference.\n",
      "100%|██████████| 210/210 [00:02<00:00, 79.49it/s]\n"
     ]
    },
    {
     "name": "stdout",
     "output_type": "stream",
     "text": [
      "Encoding test sentences.\n"
     ]
    },
    {
     "name": "stderr",
     "output_type": "stream",
     "text": [
      "100%|██████████| 53/53 [00:00<00:00, 68.79it/s]\n",
      " 25%|██▌       | 2/8 [00:36<01:39, 16.65s/it]"
     ]
    },
    {
     "name": "stdout",
     "output_type": "stream",
     "text": [
      "bert_mc_e15_r0 run completed in in 9.05s\n",
      "\n",
      "Running model bert_bn_e5_r3\n",
      "Loading tokenizer\n",
      "Loading model\n",
      "Running model\n"
     ]
    },
    {
     "name": "stderr",
     "output_type": "stream",
     "text": [
      "100%|██████████| 9/9 [00:04<00:00,  2.17it/s]\n"
     ]
    },
    {
     "name": "stdout",
     "output_type": "stream",
     "text": [
      "Freeing memory\n"
     ]
    },
    {
     "name": "stderr",
     "output_type": "stream",
     "text": [
      "No sentence-transformers model found with name c:\\Users\\allie\\Documents\\GitHub\\policy-classifier/outputs/fting/paraphrase-xlm-r-multilingual-v1_bn_e5_r3.pt. Creating a new one with mean pooling.\n",
      "Some weights of XLMRobertaModel were not initialized from the model checkpoint at c:\\Users\\allie\\Documents\\GitHub\\policy-classifier/outputs/fting/paraphrase-xlm-r-multilingual-v1_bn_e5_r3.pt and are newly initialized: ['roberta.pooler.dense.bias', 'roberta.pooler.dense.weight']\n",
      "You should probably TRAIN this model on a down-stream task to be able to use it for predictions and inference.\n",
      "100%|██████████| 1135/1135 [00:14<00:00, 76.03it/s]\n"
     ]
    },
    {
     "name": "stdout",
     "output_type": "stream",
     "text": [
      "Encoding test sentences.\n"
     ]
    },
    {
     "name": "stderr",
     "output_type": "stream",
     "text": [
      "100%|██████████| 284/284 [00:03<00:00, 76.55it/s]\n",
      " 38%|███▊      | 3/8 [01:03<01:47, 21.57s/it]"
     ]
    },
    {
     "name": "stdout",
     "output_type": "stream",
     "text": [
      "bert_bn_e5_r3 run completed in in 27.42s\n",
      "\n",
      "Running model bert_mc_e15_r3\n",
      "Loading tokenizer\n",
      "Loading model\n",
      "Running model\n"
     ]
    },
    {
     "name": "stderr",
     "output_type": "stream",
     "text": [
      "100%|██████████| 2/2 [00:00<00:00,  2.04it/s]\n"
     ]
    },
    {
     "name": "stdout",
     "output_type": "stream",
     "text": [
      "Freeing memory\n"
     ]
    },
    {
     "name": "stderr",
     "output_type": "stream",
     "text": [
      "No sentence-transformers model found with name c:\\Users\\allie\\Documents\\GitHub\\policy-classifier/outputs/fting/paraphrase-xlm-r-multilingual-v1_mc_e15_r3.pt. Creating a new one with mean pooling.\n",
      "Some weights of XLMRobertaModel were not initialized from the model checkpoint at c:\\Users\\allie\\Documents\\GitHub\\policy-classifier/outputs/fting/paraphrase-xlm-r-multilingual-v1_mc_e15_r3.pt and are newly initialized: ['roberta.pooler.dense.bias', 'roberta.pooler.dense.weight']\n",
      "You should probably TRAIN this model on a down-stream task to be able to use it for predictions and inference.\n",
      "100%|██████████| 210/210 [00:02<00:00, 79.59it/s]\n"
     ]
    },
    {
     "name": "stdout",
     "output_type": "stream",
     "text": [
      "Encoding test sentences.\n"
     ]
    },
    {
     "name": "stderr",
     "output_type": "stream",
     "text": [
      "100%|██████████| 53/53 [00:00<00:00, 73.53it/s]\n",
      " 50%|█████     | 4/8 [01:12<01:06, 16.57s/it]"
     ]
    },
    {
     "name": "stdout",
     "output_type": "stream",
     "text": [
      "bert_mc_e15_r3 run completed in in 8.89s\n",
      "\n",
      "Running model bert_bn_e5_r6\n",
      "Loading tokenizer\n",
      "Loading model\n",
      "Running model\n"
     ]
    },
    {
     "name": "stderr",
     "output_type": "stream",
     "text": [
      "100%|██████████| 9/9 [00:04<00:00,  2.23it/s]\n"
     ]
    },
    {
     "name": "stdout",
     "output_type": "stream",
     "text": [
      "Freeing memory\n"
     ]
    },
    {
     "name": "stderr",
     "output_type": "stream",
     "text": [
      "No sentence-transformers model found with name c:\\Users\\allie\\Documents\\GitHub\\policy-classifier/outputs/fting/paraphrase-xlm-r-multilingual-v1_bn_e5_r6.pt. Creating a new one with mean pooling.\n",
      "Some weights of XLMRobertaModel were not initialized from the model checkpoint at c:\\Users\\allie\\Documents\\GitHub\\policy-classifier/outputs/fting/paraphrase-xlm-r-multilingual-v1_bn_e5_r6.pt and are newly initialized: ['roberta.pooler.dense.bias', 'roberta.pooler.dense.weight']\n",
      "You should probably TRAIN this model on a down-stream task to be able to use it for predictions and inference.\n",
      "100%|██████████| 1135/1135 [00:14<00:00, 78.43it/s]\n"
     ]
    },
    {
     "name": "stdout",
     "output_type": "stream",
     "text": [
      "Encoding test sentences.\n"
     ]
    },
    {
     "name": "stderr",
     "output_type": "stream",
     "text": [
      "100%|██████████| 284/284 [00:03<00:00, 76.34it/s]\n",
      " 62%|██████▎   | 5/8 [01:39<01:00, 20.30s/it]"
     ]
    },
    {
     "name": "stdout",
     "output_type": "stream",
     "text": [
      "bert_bn_e5_r6 run completed in in 26.89s\n",
      "\n",
      "Running model bert_mc_e15_r6\n",
      "Loading tokenizer\n",
      "Loading model\n",
      "Running model\n"
     ]
    },
    {
     "name": "stderr",
     "output_type": "stream",
     "text": [
      "100%|██████████| 2/2 [00:00<00:00,  2.10it/s]\n"
     ]
    },
    {
     "name": "stdout",
     "output_type": "stream",
     "text": [
      "Freeing memory\n"
     ]
    },
    {
     "name": "stderr",
     "output_type": "stream",
     "text": [
      "No sentence-transformers model found with name c:\\Users\\allie\\Documents\\GitHub\\policy-classifier/outputs/fting/paraphrase-xlm-r-multilingual-v1_mc_e15_r6.pt. Creating a new one with mean pooling.\n",
      "Some weights of XLMRobertaModel were not initialized from the model checkpoint at c:\\Users\\allie\\Documents\\GitHub\\policy-classifier/outputs/fting/paraphrase-xlm-r-multilingual-v1_mc_e15_r6.pt and are newly initialized: ['roberta.pooler.dense.bias', 'roberta.pooler.dense.weight']\n",
      "You should probably TRAIN this model on a down-stream task to be able to use it for predictions and inference.\n",
      "100%|██████████| 210/210 [00:02<00:00, 77.57it/s]\n"
     ]
    },
    {
     "name": "stdout",
     "output_type": "stream",
     "text": [
      "Encoding test sentences.\n"
     ]
    },
    {
     "name": "stderr",
     "output_type": "stream",
     "text": [
      "100%|██████████| 53/53 [00:00<00:00, 79.75it/s]\n",
      " 75%|███████▌  | 6/8 [01:48<00:32, 16.41s/it]"
     ]
    },
    {
     "name": "stdout",
     "output_type": "stream",
     "text": [
      "bert_mc_e15_r6 run completed in in 8.85s\n",
      "\n",
      "Running model bert_bn_e5_r9\n",
      "Loading tokenizer\n",
      "Loading model\n",
      "Running model\n"
     ]
    },
    {
     "name": "stderr",
     "output_type": "stream",
     "text": [
      "100%|██████████| 9/9 [00:04<00:00,  2.17it/s]\n"
     ]
    },
    {
     "name": "stdout",
     "output_type": "stream",
     "text": [
      "Freeing memory\n"
     ]
    },
    {
     "name": "stderr",
     "output_type": "stream",
     "text": [
      "No sentence-transformers model found with name c:\\Users\\allie\\Documents\\GitHub\\policy-classifier/outputs/fting/paraphrase-xlm-r-multilingual-v1_bn_e5_r9.pt. Creating a new one with mean pooling.\n",
      "Some weights of XLMRobertaModel were not initialized from the model checkpoint at c:\\Users\\allie\\Documents\\GitHub\\policy-classifier/outputs/fting/paraphrase-xlm-r-multilingual-v1_bn_e5_r9.pt and are newly initialized: ['roberta.pooler.dense.bias', 'roberta.pooler.dense.weight']\n",
      "You should probably TRAIN this model on a down-stream task to be able to use it for predictions and inference.\n",
      "100%|██████████| 1135/1135 [00:14<00:00, 77.50it/s]\n"
     ]
    },
    {
     "name": "stdout",
     "output_type": "stream",
     "text": [
      "Encoding test sentences.\n"
     ]
    },
    {
     "name": "stderr",
     "output_type": "stream",
     "text": [
      "100%|██████████| 284/284 [00:03<00:00, 74.64it/s]\n",
      " 88%|████████▊ | 7/8 [02:15<00:19, 19.92s/it]"
     ]
    },
    {
     "name": "stdout",
     "output_type": "stream",
     "text": [
      "bert_bn_e5_r9 run completed in in 27.16s\n",
      "\n",
      "Running model bert_mc_e15_r9\n",
      "Loading tokenizer\n",
      "Loading model\n",
      "Running model\n"
     ]
    },
    {
     "name": "stderr",
     "output_type": "stream",
     "text": [
      "100%|██████████| 2/2 [00:00<00:00,  2.08it/s]\n"
     ]
    },
    {
     "name": "stdout",
     "output_type": "stream",
     "text": [
      "Freeing memory\n"
     ]
    },
    {
     "name": "stderr",
     "output_type": "stream",
     "text": [
      "No sentence-transformers model found with name c:\\Users\\allie\\Documents\\GitHub\\policy-classifier/outputs/fting/paraphrase-xlm-r-multilingual-v1_mc_e15_r9.pt. Creating a new one with mean pooling.\n",
      "Some weights of XLMRobertaModel were not initialized from the model checkpoint at c:\\Users\\allie\\Documents\\GitHub\\policy-classifier/outputs/fting/paraphrase-xlm-r-multilingual-v1_mc_e15_r9.pt and are newly initialized: ['roberta.pooler.dense.bias', 'roberta.pooler.dense.weight']\n",
      "You should probably TRAIN this model on a down-stream task to be able to use it for predictions and inference.\n",
      "100%|██████████| 210/210 [00:02<00:00, 73.92it/s]\n"
     ]
    },
    {
     "name": "stdout",
     "output_type": "stream",
     "text": [
      "Encoding test sentences.\n"
     ]
    },
    {
     "name": "stderr",
     "output_type": "stream",
     "text": [
      "100%|██████████| 53/53 [00:00<00:00, 68.87it/s]\n",
      "100%|██████████| 8/8 [02:23<00:00, 17.98s/it]"
     ]
    },
    {
     "name": "stdout",
     "output_type": "stream",
     "text": [
      "bert_mc_e15_r9 run completed in in 8.03s\n",
      "Time elapsed total: 2.0 min and 24 sec\n"
     ]
    },
    {
     "name": "stderr",
     "output_type": "stream",
     "text": [
      "\n"
     ]
    }
   ],
   "source": [
    "from classifier.ft_classification import run_experiments, modelpred_dsdct_clsf, svm_dsdct_clsf\n",
    "from classifier.run_classifiers import res_dct_to_cls_rpt, cls_rpt_to_exp_rpt\n",
    "from classifier.finetune import load_labelintdcts\n",
    "from tqdm import tqdm\n",
    "int2label_dct, label2int_dct = load_labelintdcts()\n",
    "outfn = \"9Apr25_H\"\n",
    "\n",
    "models = {}\n",
    "for i in exps:#[0,3,6,9]:#range(10):\n",
    "    models[f'bert_bn_e5_r{i}'] = output_dir+f'/paraphrase-xlm-r-multilingual-v1_bn_e5_r{i}.pt'\n",
    "    models[f'bert_mc_e15_r{i}'] = output_dir+f'/paraphrase-xlm-r-multilingual-v1_mc_e15_r{i}.pt'\n",
    "print(list(models))\n",
    "model_res_dict = {'bn':{}, 'mc':{}}\n",
    "svm_res_dict = {'bn':{}, 'mc':{}}\n",
    "stw = time.time()\n",
    "for model in tqdm(models):\n",
    "    print(f'\\nRunning model {model}')\n",
    "    #print(torch.cuda.memory_allocated() / 1e9, \"GB allocated before model\")\n",
    "    #print(torch.cuda.memory_reserved() / 1e9, \"GB reserved before model\")\n",
    "    st = time.time()\n",
    "    mode = model.split('_')[1]\n",
    "    torch.cuda.empty_cache()\n",
    "    if mode=='bn':\n",
    "        r = model.split('_')[-1][1:]\n",
    "        if r == \"h\":\n",
    "            r = model.split('_')[-2][1:]\n",
    "        try:\n",
    "            dsdct = DatasetDict.load_from_disk(input_dir+f\"/ds_{r}_bn\")\n",
    "            model_res_dict[mode][model] = modelpred_dsdct_clsf(dsdct, int2label_dct[mode], label2int_dct[mode], models[model], cuda=True)\n",
    "            svm_res_dict[mode][model] = svm_dsdct_clsf(dsdct, models[model], cuda=True)\n",
    "        except Exception as e:\n",
    "            print(f\"\\nError in {model}: {e}\\n\")\n",
    "    else:\n",
    "        r = model.split('_')[-1][1:]\n",
    "        try:\n",
    "            dsdct = DatasetDict.load_from_disk(input_dir+f\"/ds_{r}_mc\")\n",
    "            model_res_dict[mode][model] = modelpred_dsdct_clsf(dsdct, int2label_dct[mode], label2int_dct[mode], models[model], cuda=True)\n",
    "            svm_res_dict[mode][model] = svm_dsdct_clsf(dsdct, models[model], cuda=True)\n",
    "        except Exception as e:\n",
    "            print(f\"\\nError in {model}: {e}\\n\")\n",
    "    print(f\"{model} run completed in in {round(time.time()-st,2)}s\")\n",
    "    torch.cuda.empty_cache()\n",
    "    #gc.collect()\n",
    "etw = time.time()-stw\n",
    "print(\"Time elapsed total:\", etw//60, \"min and\", round(etw%60), \"sec\")"
   ]
  },
  {
   "cell_type": "code",
   "execution_count": 29,
   "metadata": {},
   "outputs": [
    {
     "name": "stderr",
     "output_type": "stream",
     "text": [
      "C:\\Users\\allie\\AppData\\Roaming\\Python\\Python311\\site-packages\\sklearn\\metrics\\_classification.py:1344: UndefinedMetricWarning: Precision and F-score are ill-defined and being set to 0.0 in labels with no predicted samples. Use `zero_division` parameter to control this behavior.\n",
      "  _warn_prf(average, modifier, msg_start, len(result))\n",
      "C:\\Users\\allie\\AppData\\Roaming\\Python\\Python311\\site-packages\\sklearn\\metrics\\_classification.py:1344: UndefinedMetricWarning: Precision and F-score are ill-defined and being set to 0.0 in labels with no predicted samples. Use `zero_division` parameter to control this behavior.\n",
      "  _warn_prf(average, modifier, msg_start, len(result))\n",
      "C:\\Users\\allie\\AppData\\Roaming\\Python\\Python311\\site-packages\\sklearn\\metrics\\_classification.py:1344: UndefinedMetricWarning: Precision and F-score are ill-defined and being set to 0.0 in labels with no predicted samples. Use `zero_division` parameter to control this behavior.\n",
      "  _warn_prf(average, modifier, msg_start, len(result))\n"
     ]
    }
   ],
   "source": [
    "with open(f\"{output_dir}/randp_{outfn}_model.json\", 'w', encoding=\"utf-8\") as outfile:\n",
    "    json.dump(model_res_dict, outfile, ensure_ascii=False, indent=4)\n",
    "with open(f\"{output_dir}/randp_{outfn}_svm.json\", 'w', encoding=\"utf-8\") as outfile:\n",
    "    json.dump(svm_res_dict, outfile, ensure_ascii=False, indent=4)\n",
    "mdl_cls_rpt = res_dct_to_cls_rpt(model_res_dict, int2label_dct)\n",
    "mdl_exp_rpt = cls_rpt_to_exp_rpt(mdl_cls_rpt)\n",
    "with open(f\"{output_dir}/exprpt_{outfn}_mdl.json\", 'w', encoding=\"utf-8\") as outfile:\n",
    "    json.dump(mdl_exp_rpt, outfile, ensure_ascii=False, indent=4)\n",
    "svm_cls_rpt = res_dct_to_cls_rpt(svm_res_dict, int2label_dct)\n",
    "svm_exp_rpt = cls_rpt_to_exp_rpt(svm_cls_rpt)\n",
    "with open(f\"{output_dir}/exprpt_{outfn}_svm.json\", 'w', encoding=\"utf-8\") as outfile:\n",
    "    json.dump(svm_exp_rpt, outfile, ensure_ascii=False, indent=4)"
   ]
  },
  {
   "cell_type": "markdown",
   "metadata": {},
   "source": []
  }
 ],
 "metadata": {
  "kernelspec": {
   "display_name": "Python 3",
   "language": "python",
   "name": "python3"
  },
  "language_info": {
   "codemirror_mode": {
    "name": "ipython",
    "version": 3
   },
   "file_extension": ".py",
   "mimetype": "text/x-python",
   "name": "python",
   "nbconvert_exporter": "python",
   "pygments_lexer": "ipython3",
   "version": "3.11.7"
  }
 },
 "nbformat": 4,
 "nbformat_minor": 2
}

{
 "cells": [
  {
   "cell_type": "markdown",
   "metadata": {},
   "source": [
    "Finetuning hyperparameters"
   ]
  },
  {
   "cell_type": "markdown",
   "metadata": {},
   "source": [
    "ROC AUC\n",
    "\n",
    "Modes: 2 (BN, MC)\n",
    "Rs: 4 (0,3,6,9)\n",
    "\n",
    "LRs: 4 (2E-5, 1E-5, 2E-6, 1E-6)\n",
    "Epochs: 5 (5, 10, 15, 20, #) [mc needs more epochs]\n",
    "\n",
    "Metrics: 3 (Accuracy+F1, Accuracy+Recall, Recall+F1)\n",
    "Batch: 2 (16, 32)\n",
    "Loss: 3 (Default, Custom loss function with weighting, BCE weighted loss)\n",
    "\n",
    "Confusion matrices"
   ]
  },
  {
   "cell_type": "code",
   "execution_count": 51,
   "metadata": {},
   "outputs": [],
   "source": [
    "import os, json\n",
    "cwd = os.getcwd() # should be base directory of repository\n",
    "import time\n",
    "import torch\n",
    "from datasets import DatasetDict, Dataset\n",
    "output_dir = cwd+\"/outputs/fting\"\n",
    "input_dir = cwd+\"/inputs/\""
   ]
  },
  {
   "cell_type": "code",
   "execution_count": null,
   "metadata": {},
   "outputs": [
    {
     "name": "stdout",
     "output_type": "stream",
     "text": [
      "Sanity Check: 965 sentences and 965 labels\n",
      "Sanity Check: 626 sentences and 626 labels\n",
      "1419 groups found with a threshold of 90\n",
      "Sanity check: 1419 sentences and 1419 labels\n",
      "Sanity Check: 263 incentive sentences and 1156 non-incentive sentences\n",
      "Incentives: 0.18534178999295278; Non-Incentives: 0.8146582100070472\n",
      "Sanity Check: 263 incentive sentences and 263 incentive labels\n",
      "\n",
      "Round 0\n",
      "\n"
     ]
    },
    {
     "data": {
      "application/vnd.jupyter.widget-view+json": {
       "model_id": "cb962d23634340c699ff36361ae8a080",
       "version_major": 2,
       "version_minor": 0
      },
      "text/plain": [
       "Saving the dataset (0/1 shards):   0%|          | 0/851 [00:00<?, ? examples/s]"
      ]
     },
     "metadata": {},
     "output_type": "display_data"
    },
    {
     "data": {
      "application/vnd.jupyter.widget-view+json": {
       "model_id": "6b2eed449b0e44519ad61f740b0d8b5e",
       "version_major": 2,
       "version_minor": 0
      },
      "text/plain": [
       "Saving the dataset (0/1 shards):   0%|          | 0/284 [00:00<?, ? examples/s]"
      ]
     },
     "metadata": {},
     "output_type": "display_data"
    },
    {
     "data": {
      "application/vnd.jupyter.widget-view+json": {
       "model_id": "4d1a0e64873844fc92f290cd84a14fc8",
       "version_major": 2,
       "version_minor": 0
      },
      "text/plain": [
       "Saving the dataset (0/1 shards):   0%|          | 0/284 [00:00<?, ? examples/s]"
      ]
     },
     "metadata": {},
     "output_type": "display_data"
    },
    {
     "name": "stdout",
     "output_type": "stream",
     "text": [
      "Saved ds_0_bn\n"
     ]
    },
    {
     "data": {
      "application/vnd.jupyter.widget-view+json": {
       "model_id": "e5861869c6b3415b999d859c81726858",
       "version_major": 2,
       "version_minor": 0
      },
      "text/plain": [
       "Saving the dataset (0/1 shards):   0%|          | 0/157 [00:00<?, ? examples/s]"
      ]
     },
     "metadata": {},
     "output_type": "display_data"
    },
    {
     "data": {
      "application/vnd.jupyter.widget-view+json": {
       "model_id": "5c9bd8a28af3453594c5713b34b381d1",
       "version_major": 2,
       "version_minor": 0
      },
      "text/plain": [
       "Saving the dataset (0/1 shards):   0%|          | 0/53 [00:00<?, ? examples/s]"
      ]
     },
     "metadata": {},
     "output_type": "display_data"
    },
    {
     "data": {
      "application/vnd.jupyter.widget-view+json": {
       "model_id": "89cfa5c074c947b6aa8c92dbe12a06cc",
       "version_major": 2,
       "version_minor": 0
      },
      "text/plain": [
       "Saving the dataset (0/1 shards):   0%|          | 0/53 [00:00<?, ? examples/s]"
      ]
     },
     "metadata": {},
     "output_type": "display_data"
    },
    {
     "name": "stdout",
     "output_type": "stream",
     "text": [
      "Saved ds_0_mc\n",
      "\n",
      "Round 3\n",
      "\n"
     ]
    },
    {
     "data": {
      "application/vnd.jupyter.widget-view+json": {
       "model_id": "7c695236808f45ce88b4213aa966c65f",
       "version_major": 2,
       "version_minor": 0
      },
      "text/plain": [
       "Saving the dataset (0/1 shards):   0%|          | 0/851 [00:00<?, ? examples/s]"
      ]
     },
     "metadata": {},
     "output_type": "display_data"
    },
    {
     "data": {
      "application/vnd.jupyter.widget-view+json": {
       "model_id": "0c4bcd338ec34eaca283e88019c53e8d",
       "version_major": 2,
       "version_minor": 0
      },
      "text/plain": [
       "Saving the dataset (0/1 shards):   0%|          | 0/284 [00:00<?, ? examples/s]"
      ]
     },
     "metadata": {},
     "output_type": "display_data"
    },
    {
     "data": {
      "application/vnd.jupyter.widget-view+json": {
       "model_id": "0d82b00b5b58484586e223afee2c881c",
       "version_major": 2,
       "version_minor": 0
      },
      "text/plain": [
       "Saving the dataset (0/1 shards):   0%|          | 0/284 [00:00<?, ? examples/s]"
      ]
     },
     "metadata": {},
     "output_type": "display_data"
    },
    {
     "name": "stdout",
     "output_type": "stream",
     "text": [
      "Saved ds_3_bn\n"
     ]
    },
    {
     "data": {
      "application/vnd.jupyter.widget-view+json": {
       "model_id": "5143ad4650694845859910b01ee93fa0",
       "version_major": 2,
       "version_minor": 0
      },
      "text/plain": [
       "Saving the dataset (0/1 shards):   0%|          | 0/157 [00:00<?, ? examples/s]"
      ]
     },
     "metadata": {},
     "output_type": "display_data"
    },
    {
     "data": {
      "application/vnd.jupyter.widget-view+json": {
       "model_id": "a5fa5a97c72b4d008949ef35e626df53",
       "version_major": 2,
       "version_minor": 0
      },
      "text/plain": [
       "Saving the dataset (0/1 shards):   0%|          | 0/53 [00:00<?, ? examples/s]"
      ]
     },
     "metadata": {},
     "output_type": "display_data"
    },
    {
     "data": {
      "application/vnd.jupyter.widget-view+json": {
       "model_id": "8be9f4c9d3c74ad6b1bffa310962b5a6",
       "version_major": 2,
       "version_minor": 0
      },
      "text/plain": [
       "Saving the dataset (0/1 shards):   0%|          | 0/53 [00:00<?, ? examples/s]"
      ]
     },
     "metadata": {},
     "output_type": "display_data"
    },
    {
     "name": "stdout",
     "output_type": "stream",
     "text": [
      "Saved ds_3_mc\n",
      "\n",
      "Round 6\n",
      "\n"
     ]
    },
    {
     "data": {
      "application/vnd.jupyter.widget-view+json": {
       "model_id": "0a56b3c893434bd2a53d55ecf8281f60",
       "version_major": 2,
       "version_minor": 0
      },
      "text/plain": [
       "Saving the dataset (0/1 shards):   0%|          | 0/851 [00:00<?, ? examples/s]"
      ]
     },
     "metadata": {},
     "output_type": "display_data"
    },
    {
     "data": {
      "application/vnd.jupyter.widget-view+json": {
       "model_id": "ff22aad2ca0542feac6d0d90c0acec67",
       "version_major": 2,
       "version_minor": 0
      },
      "text/plain": [
       "Saving the dataset (0/1 shards):   0%|          | 0/284 [00:00<?, ? examples/s]"
      ]
     },
     "metadata": {},
     "output_type": "display_data"
    },
    {
     "data": {
      "application/vnd.jupyter.widget-view+json": {
       "model_id": "4d2bcdd7122d47fa90f56e9082bc05fb",
       "version_major": 2,
       "version_minor": 0
      },
      "text/plain": [
       "Saving the dataset (0/1 shards):   0%|          | 0/284 [00:00<?, ? examples/s]"
      ]
     },
     "metadata": {},
     "output_type": "display_data"
    },
    {
     "name": "stdout",
     "output_type": "stream",
     "text": [
      "Saved ds_6_bn\n"
     ]
    },
    {
     "data": {
      "application/vnd.jupyter.widget-view+json": {
       "model_id": "23fa2cdb60344c3493f64cc594246e1f",
       "version_major": 2,
       "version_minor": 0
      },
      "text/plain": [
       "Saving the dataset (0/1 shards):   0%|          | 0/157 [00:00<?, ? examples/s]"
      ]
     },
     "metadata": {},
     "output_type": "display_data"
    },
    {
     "data": {
      "application/vnd.jupyter.widget-view+json": {
       "model_id": "5bfaf76a987f42b08d06caab60e6a4eb",
       "version_major": 2,
       "version_minor": 0
      },
      "text/plain": [
       "Saving the dataset (0/1 shards):   0%|          | 0/53 [00:00<?, ? examples/s]"
      ]
     },
     "metadata": {},
     "output_type": "display_data"
    },
    {
     "data": {
      "application/vnd.jupyter.widget-view+json": {
       "model_id": "b560461ac9904b89925f7b494b4c195b",
       "version_major": 2,
       "version_minor": 0
      },
      "text/plain": [
       "Saving the dataset (0/1 shards):   0%|          | 0/53 [00:00<?, ? examples/s]"
      ]
     },
     "metadata": {},
     "output_type": "display_data"
    },
    {
     "name": "stdout",
     "output_type": "stream",
     "text": [
      "Saved ds_6_mc\n",
      "\n",
      "Round 9\n",
      "\n"
     ]
    },
    {
     "data": {
      "application/vnd.jupyter.widget-view+json": {
       "model_id": "d6173a3243c542c2abf46941b9cd72b5",
       "version_major": 2,
       "version_minor": 0
      },
      "text/plain": [
       "Saving the dataset (0/1 shards):   0%|          | 0/851 [00:00<?, ? examples/s]"
      ]
     },
     "metadata": {},
     "output_type": "display_data"
    },
    {
     "data": {
      "application/vnd.jupyter.widget-view+json": {
       "model_id": "975bf74f3a474435848a6ab51585939b",
       "version_major": 2,
       "version_minor": 0
      },
      "text/plain": [
       "Saving the dataset (0/1 shards):   0%|          | 0/284 [00:00<?, ? examples/s]"
      ]
     },
     "metadata": {},
     "output_type": "display_data"
    },
    {
     "data": {
      "application/vnd.jupyter.widget-view+json": {
       "model_id": "a773b98090864e1fb31197c2e804c359",
       "version_major": 2,
       "version_minor": 0
      },
      "text/plain": [
       "Saving the dataset (0/1 shards):   0%|          | 0/284 [00:00<?, ? examples/s]"
      ]
     },
     "metadata": {},
     "output_type": "display_data"
    },
    {
     "name": "stdout",
     "output_type": "stream",
     "text": [
      "Saved ds_9_bn\n"
     ]
    },
    {
     "data": {
      "application/vnd.jupyter.widget-view+json": {
       "model_id": "2f869095f7dc450d928cfa485dc8bda5",
       "version_major": 2,
       "version_minor": 0
      },
      "text/plain": [
       "Saving the dataset (0/1 shards):   0%|          | 0/157 [00:00<?, ? examples/s]"
      ]
     },
     "metadata": {},
     "output_type": "display_data"
    },
    {
     "data": {
      "application/vnd.jupyter.widget-view+json": {
       "model_id": "8bd50b2b196f475ea9d968a5388e862a",
       "version_major": 2,
       "version_minor": 0
      },
      "text/plain": [
       "Saving the dataset (0/1 shards):   0%|          | 0/53 [00:00<?, ? examples/s]"
      ]
     },
     "metadata": {},
     "output_type": "display_data"
    },
    {
     "data": {
      "application/vnd.jupyter.widget-view+json": {
       "model_id": "612d4e987a904ca6b79a9c8057e1e018",
       "version_major": 2,
       "version_minor": 0
      },
      "text/plain": [
       "Saving the dataset (0/1 shards):   0%|          | 0/53 [00:00<?, ? examples/s]"
      ]
     },
     "metadata": {},
     "output_type": "display_data"
    },
    {
     "name": "stdout",
     "output_type": "stream",
     "text": [
      "Saved ds_9_mc\n"
     ]
    }
   ],
   "source": [
    "# uncomment if you dont already have the dataset dictionaries generated\n",
    "'''\n",
    "from classifier.finetune import load_labelintdcts, create_dsdict\n",
    "from classifier.run_classifiers import group_duplicates, remove_duplicates, dcno_to_sentlab\n",
    "with open(input_dir+\"/19Jan25_firstdatarev.json\",\"r\", encoding=\"utf-8\") as f:\n",
    "        dcno_json = json.load(f)\n",
    "with open(input_dir+\"/27Jan25_query_checked.json\",\"r\", encoding=\"utf-8\") as f:\n",
    "    qry_json = json.load(f)\n",
    "sents1, labels1 = dcno_to_sentlab(dcno_json)\n",
    "sents2, labels2 = dcno_to_sentlab(qry_json)\n",
    "# merge original and augmented datasets\n",
    "sents2.extend(sents1)\n",
    "labels2.extend(labels1)\n",
    "all_sents, all_labs = remove_duplicates(group_duplicates(sents2,labels2,thresh=90))\n",
    "int2label_dct, label2int_dct = load_labelintdcts()\n",
    "sims = [0,3,6,9]\n",
    "create_dsdict(all_sents, all_labs, label2int_dct, amt=sims, save=True, output_dir=input_dir)\n",
    "'''"
   ]
  },
  {
   "cell_type": "markdown",
   "metadata": {},
   "source": [
    "First we're going to train our baseline model and get a view of the training progress in a ROC analysis"
   ]
  },
  {
   "cell_type": "code",
   "execution_count": null,
   "metadata": {},
   "outputs": [],
   "source": [
    "'''\n",
    "from classifier.finetune import finetune_roberta, load_labelintdcts\n",
    "int2label_dct, label2int_dct = load_labelintdcts()\n",
    "#sims = [0,3,6,9]\n",
    "sims = [6]\n",
    "for e in sims:\n",
    "    bn_ds = DatasetDict.load_from_disk(f\"{output_dir}/../models/ds_{e}_bn\")\n",
    "    mc_ds = DatasetDict.load_from_disk(f\"{output_dir}/../models/ds_{e}_mc\")\n",
    "    for model in [\"sentence-transformers/paraphrase-xlm-r-multilingual-v1\"]:\n",
    "        torch.cuda.empty_cache()\n",
    "        finetune_roberta(bn_ds, int2label_dct[\"bn\"], label2int_dct[\"bn\"], \"bn\", model_name=model, dev='cuda', rstate=e, output_dir=output_dir, lora=False)\n",
    "        print(f\"\\nSaved {model} binary model.\")\n",
    "        torch.cuda.empty_cache()\n",
    "        finetune_roberta(mc_ds, int2label_dct[\"mc\"], label2int_dct[\"mc\"], \"mc\", model_name=model, dev='cuda', rstate=e, output_dir=output_dir, lora=False)\n",
    "        print(f\"\\nSaved {model} multiclass model.\")\n",
    "'''"
   ]
  },
  {
   "cell_type": "code",
   "execution_count": 3,
   "metadata": {},
   "outputs": [],
   "source": [
    "from sklearn.metrics import roc_curve, auc\n",
    "import matplotlib.pyplot as plt\n",
    "from sklearn.preprocessing import label_binarize\n",
    "\n",
    "def plot_roc(labels, probs, mode, rstate, output_dir, int2label):\n",
    "    if mode==\"bn\":\n",
    "        fpr, tpr, thresholds = roc_curve(labels, probs[:, 1])\n",
    "        roc_auc = auc(fpr, tpr)\n",
    "        #\n",
    "        plt.figure()\n",
    "        plt.plot(fpr, tpr, label=f\"ROC curve (AUC = {roc_auc:.2f})\")\n",
    "        plt.plot([0, 1], [0, 1], linestyle='--', color='teal')\n",
    "        plt.xlabel(\"FPR\")\n",
    "        plt.ylabel(\"TPR\")\n",
    "        plt.title(f\"ROC Curve {mode} {rstate}\")\n",
    "        plt.legend()\n",
    "        plt.grid(True)\n",
    "        plt.savefig(f\"{output_dir}/ROC_{mode}_{rstate}.png\")\n",
    "        #plt.show()\n",
    "    else:\n",
    "        n_classes = probs.shape[1]\n",
    "        y_test_bin = label_binarize(labels, classes=range(n_classes))\n",
    "        # Compute ROC for each class\n",
    "        fpr = {}\n",
    "        tpr = {}\n",
    "        roc_auc = {}\n",
    "        for i in range(n_classes):\n",
    "            fpr[i], tpr[i], _ = roc_curve(y_test_bin[:, i], probs[:, i])\n",
    "            roc_auc[i] = auc(fpr[i], tpr[i])\n",
    "        # Plot all\n",
    "        plt.figure()\n",
    "        colors = ['firebrick', 'darkorange', 'gold', 'yellowgreen', \"deepskyblue\", \"slateblue\"]\n",
    "        for i in range(n_classes):\n",
    "            plt.plot(fpr[i], tpr[i], color=colors[i], label=f\"Class {int2label[i]} (AUC = {roc_auc[i]:.2f})\")\n",
    "        plt.plot([0, 1], [0, 1], 'k--')\n",
    "        plt.xlabel(\"FPR\")\n",
    "        plt.ylabel(\"TPR\")\n",
    "        plt.title(f\"ROC Curve {mode} {rstate}\")\n",
    "        plt.legend()\n",
    "        plt.grid(True)\n",
    "        plt.savefig(f\"{output_dir}/ROC_{mode}_{rstate}.png\")\n",
    "        #plt.show()"
   ]
  },
  {
   "cell_type": "code",
   "execution_count": 76,
   "metadata": {},
   "outputs": [],
   "source": [
    "from transformers import AutoTokenizer, AutoModelForSequenceClassification, DataCollatorWithPadding, TrainingArguments, Trainer, AdamW, get_linear_schedule_with_warmup\n",
    "import evaluate\n",
    "from sklearn.metrics import roc_curve\n",
    "from imblearn.over_sampling import RandomOverSampler\n",
    "from sklearn.utils import shuffle\n",
    "import numpy as np\n",
    "import torch.nn as nn\n",
    "from classifier.finetune import finetune_roberta, load_labelintdcts\n",
    "import gc\n",
    "'''\n",
    "class WeightedBNTrainer(Trainer):\n",
    "    def compute_loss(self, model, inputs, return_outputs=False, num_items_in_batch=None):#):#\n",
    "        labels = inputs.pop(\"labels\")\n",
    "        outputs = model(**inputs)\n",
    "        logits = outputs.get(\"logits\")\n",
    "        # Define class weights and loss\n",
    "        weights = torch.tensor([0.61, 2.70]).to(logits.device)\n",
    "        loss_fct = nn.CrossEntropyLoss(weight=weights)\n",
    "        loss = loss_fct(logits, labels)\n",
    "        # loss = loss_fct(logits.view(-1, self.model.config.num_labels), labels.view(-1))\n",
    "        return (loss, outputs) if return_outputs else loss\n",
    "    \n",
    "class WeightedMCTrainer(Trainer):\n",
    "    def compute_loss(self, model, inputs, return_outputs=False, num_items_in_batch=None):#):#\n",
    "        labels = inputs.pop(\"labels\")\n",
    "        outputs = model(**inputs)\n",
    "        logits = outputs.get(\"logits\")\n",
    "        # Define class weights and loss\n",
    "        weights = torch.tensor([1.91, 0.55, 0.60, 5.48, 2.31, 0.72]).to(logits.device)\n",
    "        loss_fct = nn.CrossEntropyLoss(weight=weights)\n",
    "        loss = loss_fct(logits, labels)\n",
    "        # loss = loss_fct(logits.view(-1, self.model.config.num_labels), labels.view(-1))\n",
    "        return (loss, outputs) if return_outputs else loss\n",
    "'''\n",
    "def finetune_roberta(datasetdct, int2label, label2int, mode, model_name=\"sentence-transformers/paraphrase-xlm-r-multilingual-v1\", dev='cuda', output_dir=f\"{os.getcwd()}/outputs/models\", hyperparams=False, oversampling=False):\n",
    "    '''\n",
    "    '''\n",
    "    if not hyperparams:\n",
    "        hyperparams = {\n",
    "            \"epochs\":10, \n",
    "            \"r\":9,\n",
    "            \"lr\":2e-5,\n",
    "            \"batch_size\":16\n",
    "            }\n",
    "    epochs = hyperparams[\"epochs\"]\n",
    "    rstate = hyperparams[\"r\"]\n",
    "    lr = hyperparams[\"lr\"]\n",
    "    batch_size = hyperparams[\"batch_size\"]\n",
    "    start = time.time()\n",
    "    num_lbs = len(list(int2label))\n",
    "    print(f'\\nLoading model {model_name}\\n')\n",
    "    print(\"Tokenizing\")\n",
    "    tokenizer = AutoTokenizer.from_pretrained(model_name)\n",
    "    def preprocess_function(examples):\n",
    "        return tokenizer(examples[\"text\"], truncation=True, padding=True).to(dev)\n",
    "    #this is definitely inefficient but\n",
    "    # we tokenize the whole dataset dict\n",
    "    # even though we only care about training and testing\n",
    "    tokenized_test = datasetdct[\"test\"].map(preprocess_function, batched=True)\n",
    "    if not oversampling:\n",
    "        tokenized_train = datasetdct[\"train\"].map(preprocess_function, batched=True)\n",
    "    # and if we're oversampling then\n",
    "    # we only needed the last tokenization for test\n",
    "    # because we're going to oversample then tokenize this anyways\n",
    "    else:\n",
    "        # sampling_strategy='minority'?\n",
    "        # or fine-tune the RandomOverSampler?\n",
    "        # https://imbalanced-learn.org/stable/references/generated/imblearn.over_sampling.RandomOverSampler.html\n",
    "        # shrinkage?\n",
    "        train_sents = datasetdct[\"train\"][\"text\"]\n",
    "        train_labels = datasetdct[\"train\"][\"label\"]\n",
    "        ros = RandomOverSampler(sampling_strategy='auto', random_state=rstate)\n",
    "        train_texts_resampled, train_labels_resampled = ros.fit_resample(np.array(train_sents).reshape(-1, 1), np.array(train_labels))\n",
    "        train_texts_resampled, train_labels_resampled = shuffle(train_texts_resampled, train_labels_resampled, random_state=rstate)\n",
    "        flattened_texts = list(train_texts_resampled.flatten())\n",
    "        conv_dct = {\"text\":flattened_texts, \"label\":train_labels_resampled}\n",
    "        conv_ds = Dataset.from_dict(conv_dct)\n",
    "        tokenized_train = conv_ds.map(preprocess_function, batched=True)\n",
    "    accuracy = evaluate.load(\"accuracy\")\n",
    "    f1 = evaluate.load(\"f1\")\n",
    "    recall = evaluate.load(\"recall\")\n",
    "    metric_log = []\n",
    "    def calc_metrics(pred):\n",
    "        predictions, labels = pred\n",
    "        predictions = np.argmax(predictions, axis=1)\n",
    "        metrics = {\n",
    "            \"accuracy\": accuracy.compute(predictions=predictions, references=labels)[\"accuracy\"],\n",
    "            #\"f1\": f1.compute(predictions=predictions, references=labels, average=\"weighted\" if mode==\"mc\" else \"binary\")[\"f1\"],\n",
    "            \"f1\": f1.compute(predictions=predictions, references=labels, average=\"weighted\")[\"f1\"],\n",
    "            \"recall\": recall.compute(predictions=predictions, references=labels, average=\"weighted\")[\"recall\"]\n",
    "        }\n",
    "        metric_log.append(metrics)\n",
    "        return metrics\n",
    "    print(\"Loading model\")\n",
    "    #\n",
    "    model = AutoModelForSequenceClassification.from_pretrained(model_name, num_labels=num_lbs,id2label=int2label, label2id=label2int).to(dev)\n",
    "    training_args = TrainingArguments(\n",
    "        output_dir=output_dir,\n",
    "        learning_rate=lr,\n",
    "        per_device_train_batch_size=batch_size,\n",
    "        per_device_eval_batch_size=batch_size,\n",
    "        seed=9,\n",
    "        num_train_epochs=epochs,\n",
    "        weight_decay=0.01,\n",
    "        eval_strategy=\"epoch\",\n",
    "        save_strategy=\"best\",\n",
    "        logging_strategy=\"epoch\",\n",
    "        optim=\"adamw_torch\",\n",
    "        load_best_model_at_end=True,\n",
    "        #metric_for_best_model=\"f1\",\n",
    "        #greater_is_better=True\n",
    "    )\n",
    "    '''\n",
    "    if mode == \"bn\":\n",
    "        trainer = WeightedBNTrainer(\n",
    "            model=model,\n",
    "            args=training_args,\n",
    "            train_dataset=tokenized_train,# tokenized_ds[\"train\"],\n",
    "            eval_dataset=tokenized_test,# tokenized_ds[\"test\"],\n",
    "            processing_class=tokenizer,\n",
    "            compute_metrics=calc_metrics,\n",
    "            #scheduler = get_linear_schedule_with_warmup(optimizer, num_warmup_steps, num_train_steps)\n",
    "        )\n",
    "    else:\n",
    "        trainer = WeightedMCTrainer(\n",
    "            model=model,\n",
    "            args=training_args,\n",
    "            train_dataset=tokenized_train,# tokenized_ds[\"train\"],\n",
    "            eval_dataset=tokenized_test,# tokenized_ds[\"test\"],\n",
    "            processing_class=tokenizer,\n",
    "            compute_metrics=calc_metrics,\n",
    "        )\n",
    "    '''\n",
    "    trainer = Trainer(\n",
    "            model=model,\n",
    "            args=training_args,\n",
    "            train_dataset=tokenized_train,# tokenized_ds[\"train\"],\n",
    "            eval_dataset=tokenized_test,# tokenized_ds[\"test\"],\n",
    "            processing_class=tokenizer,\n",
    "            compute_metrics=calc_metrics,\n",
    "        )\n",
    "    \n",
    "    print(\"Training\")\n",
    "    trainer.train()\n",
    "    train_losses = [log[\"loss\"] for log in trainer.state.log_history if \"loss\" in log]\n",
    "    eval_losses = [log[\"eval_loss\"] for log in trainer.state.log_history if \"eval_loss\" in log]\n",
    "    print(\"Saving\")\n",
    "    trainer.save_model(output_dir+f\"/{model_name.split('/')[-1]}_{mode}_e{epochs}_r{rstate}.pt\")\n",
    "    #\n",
    "    #predictions = trainer.predict(tokenized_ds[\"holdout\"])\n",
    "    tokenized_ho = datasetdct[\"holdout\"].map(preprocess_function, batched=True)\n",
    "    predictions = trainer.predict(tokenized_ho)\n",
    "    # Extract the logits and labels from the predictions object\n",
    "    logits = predictions.predictions\n",
    "    labels = predictions.label_ids\n",
    "    probs = torch.nn.functional.softmax(torch.tensor(logits), dim=1).numpy()\n",
    "    #\n",
    "    plot_roc(labels, probs, mode, rstate, output_dir, int2label)\n",
    "    # Use your compute_metrics function\n",
    "    metric_log.append({\"train_loss\":train_losses})\n",
    "    metric_log.append({\"eval_loss\": eval_losses})\n",
    "    metrics = calc_metrics((logits, labels))\n",
    "    with open(output_dir+f\"/{model_name.split('/')[-1]}_{mode}_e{epochs}_r{rstate}.pt/metrics.json\", \"w\", encoding=\"utf-8\") as f:\n",
    "        json.dump(metric_log, f, ensure_ascii=False, indent=4)\n",
    "    end = time.time()\n",
    "    print(metrics)\n",
    "    print(f\"\\nSaved {model_name.split('/')[-1]}_{mode}_e{epochs}_r{rstate}.\")\n",
    "    print(f'\\nDone in {round((end-start)/60,2)} min')\n",
    "    return metrics\n"
   ]
  },
  {
   "cell_type": "markdown",
   "metadata": {},
   "source": [
    "Here we create all of our finetuned models"
   ]
  },
  {
   "cell_type": "code",
   "execution_count": 77,
   "metadata": {},
   "outputs": [
    {
     "name": "stdout",
     "output_type": "stream",
     "text": [
      "\n",
      "Loading model sentence-transformers/paraphrase-xlm-r-multilingual-v1\n",
      "\n",
      "Tokenizing\n"
     ]
    },
    {
     "data": {
      "application/vnd.jupyter.widget-view+json": {
       "model_id": "07ea98fbf090486394fbb5be25d7195a",
       "version_major": 2,
       "version_minor": 0
      },
      "text/plain": [
       "Map:   0%|          | 0/1388 [00:00<?, ? examples/s]"
      ]
     },
     "metadata": {},
     "output_type": "display_data"
    },
    {
     "name": "stderr",
     "output_type": "stream",
     "text": [
      "Some weights of XLMRobertaForSequenceClassification were not initialized from the model checkpoint at sentence-transformers/paraphrase-xlm-r-multilingual-v1 and are newly initialized: ['classifier.dense.bias', 'classifier.dense.weight', 'classifier.out_proj.bias', 'classifier.out_proj.weight']\n",
      "You should probably TRAIN this model on a down-stream task to be able to use it for predictions and inference.\n"
     ]
    },
    {
     "name": "stdout",
     "output_type": "stream",
     "text": [
      "Loading model\n",
      "Training\n"
     ]
    },
    {
     "data": {
      "text/html": [
       "\n",
       "    <div>\n",
       "      \n",
       "      <progress value='870' max='870' style='width:300px; height:20px; vertical-align: middle;'></progress>\n",
       "      [870/870 11:27, Epoch 10/10]\n",
       "    </div>\n",
       "    <table border=\"1\" class=\"dataframe\">\n",
       "  <thead>\n",
       " <tr style=\"text-align: left;\">\n",
       "      <th>Epoch</th>\n",
       "      <th>Training Loss</th>\n",
       "      <th>Validation Loss</th>\n",
       "      <th>Accuracy</th>\n",
       "      <th>F1</th>\n",
       "      <th>Recall</th>\n",
       "    </tr>\n",
       "  </thead>\n",
       "  <tbody>\n",
       "    <tr>\n",
       "      <td>1</td>\n",
       "      <td>0.618600</td>\n",
       "      <td>0.551283</td>\n",
       "      <td>0.728873</td>\n",
       "      <td>0.757769</td>\n",
       "      <td>0.728873</td>\n",
       "    </tr>\n",
       "    <tr>\n",
       "      <td>2</td>\n",
       "      <td>0.391800</td>\n",
       "      <td>0.409898</td>\n",
       "      <td>0.781690</td>\n",
       "      <td>0.801751</td>\n",
       "      <td>0.781690</td>\n",
       "    </tr>\n",
       "    <tr>\n",
       "      <td>3</td>\n",
       "      <td>0.204200</td>\n",
       "      <td>0.510589</td>\n",
       "      <td>0.767606</td>\n",
       "      <td>0.791443</td>\n",
       "      <td>0.767606</td>\n",
       "    </tr>\n",
       "    <tr>\n",
       "      <td>4</td>\n",
       "      <td>0.103900</td>\n",
       "      <td>0.395065</td>\n",
       "      <td>0.841549</td>\n",
       "      <td>0.851524</td>\n",
       "      <td>0.841549</td>\n",
       "    </tr>\n",
       "    <tr>\n",
       "      <td>5</td>\n",
       "      <td>0.049200</td>\n",
       "      <td>0.472851</td>\n",
       "      <td>0.841549</td>\n",
       "      <td>0.851524</td>\n",
       "      <td>0.841549</td>\n",
       "    </tr>\n",
       "    <tr>\n",
       "      <td>6</td>\n",
       "      <td>0.031400</td>\n",
       "      <td>0.477101</td>\n",
       "      <td>0.859155</td>\n",
       "      <td>0.865170</td>\n",
       "      <td>0.859155</td>\n",
       "    </tr>\n",
       "    <tr>\n",
       "      <td>7</td>\n",
       "      <td>0.017300</td>\n",
       "      <td>0.502161</td>\n",
       "      <td>0.859155</td>\n",
       "      <td>0.863668</td>\n",
       "      <td>0.859155</td>\n",
       "    </tr>\n",
       "    <tr>\n",
       "      <td>8</td>\n",
       "      <td>0.011200</td>\n",
       "      <td>0.540645</td>\n",
       "      <td>0.859155</td>\n",
       "      <td>0.863668</td>\n",
       "      <td>0.859155</td>\n",
       "    </tr>\n",
       "    <tr>\n",
       "      <td>9</td>\n",
       "      <td>0.010000</td>\n",
       "      <td>0.556244</td>\n",
       "      <td>0.862676</td>\n",
       "      <td>0.866685</td>\n",
       "      <td>0.862676</td>\n",
       "    </tr>\n",
       "    <tr>\n",
       "      <td>10</td>\n",
       "      <td>0.006600</td>\n",
       "      <td>0.561237</td>\n",
       "      <td>0.859155</td>\n",
       "      <td>0.864439</td>\n",
       "      <td>0.859155</td>\n",
       "    </tr>\n",
       "  </tbody>\n",
       "</table><p>"
      ],
      "text/plain": [
       "<IPython.core.display.HTML object>"
      ]
     },
     "metadata": {},
     "output_type": "display_data"
    },
    {
     "name": "stdout",
     "output_type": "stream",
     "text": [
      "Saving\n"
     ]
    },
    {
     "data": {
      "text/html": [],
      "text/plain": [
       "<IPython.core.display.HTML object>"
      ]
     },
     "metadata": {},
     "output_type": "display_data"
    },
    {
     "name": "stdout",
     "output_type": "stream",
     "text": [
      "{'accuracy': 0.8415492957746479, 'f1': 0.8494725547033916, 'recall': 0.8415492957746479}\n",
      "\n",
      "Saved paraphrase-xlm-r-multilingual-v1_bn_e10_r0.\n",
      "\n",
      "Done in 11.69 min\n",
      "\n",
      "Loading model sentence-transformers/paraphrase-xlm-r-multilingual-v1\n",
      "\n",
      "Tokenizing\n"
     ]
    },
    {
     "data": {
      "application/vnd.jupyter.widget-view+json": {
       "model_id": "b0e8ba52b68243f2ad052093614af183",
       "version_major": 2,
       "version_minor": 0
      },
      "text/plain": [
       "Map:   0%|          | 0/1388 [00:00<?, ? examples/s]"
      ]
     },
     "metadata": {},
     "output_type": "display_data"
    },
    {
     "name": "stderr",
     "output_type": "stream",
     "text": [
      "Some weights of XLMRobertaForSequenceClassification were not initialized from the model checkpoint at sentence-transformers/paraphrase-xlm-r-multilingual-v1 and are newly initialized: ['classifier.dense.bias', 'classifier.dense.weight', 'classifier.out_proj.bias', 'classifier.out_proj.weight']\n",
      "You should probably TRAIN this model on a down-stream task to be able to use it for predictions and inference.\n"
     ]
    },
    {
     "name": "stdout",
     "output_type": "stream",
     "text": [
      "Loading model\n",
      "Training\n"
     ]
    },
    {
     "data": {
      "text/html": [
       "\n",
       "    <div>\n",
       "      \n",
       "      <progress value='870' max='870' style='width:300px; height:20px; vertical-align: middle;'></progress>\n",
       "      [870/870 12:23, Epoch 10/10]\n",
       "    </div>\n",
       "    <table border=\"1\" class=\"dataframe\">\n",
       "  <thead>\n",
       " <tr style=\"text-align: left;\">\n",
       "      <th>Epoch</th>\n",
       "      <th>Training Loss</th>\n",
       "      <th>Validation Loss</th>\n",
       "      <th>Accuracy</th>\n",
       "      <th>F1</th>\n",
       "      <th>Recall</th>\n",
       "    </tr>\n",
       "  </thead>\n",
       "  <tbody>\n",
       "    <tr>\n",
       "      <td>1</td>\n",
       "      <td>0.629100</td>\n",
       "      <td>0.520733</td>\n",
       "      <td>0.820423</td>\n",
       "      <td>0.837836</td>\n",
       "      <td>0.820423</td>\n",
       "    </tr>\n",
       "    <tr>\n",
       "      <td>2</td>\n",
       "      <td>0.405400</td>\n",
       "      <td>0.301361</td>\n",
       "      <td>0.880282</td>\n",
       "      <td>0.887577</td>\n",
       "      <td>0.880282</td>\n",
       "    </tr>\n",
       "    <tr>\n",
       "      <td>3</td>\n",
       "      <td>0.215000</td>\n",
       "      <td>0.256307</td>\n",
       "      <td>0.876761</td>\n",
       "      <td>0.881051</td>\n",
       "      <td>0.876761</td>\n",
       "    </tr>\n",
       "    <tr>\n",
       "      <td>4</td>\n",
       "      <td>0.102400</td>\n",
       "      <td>0.312765</td>\n",
       "      <td>0.876761</td>\n",
       "      <td>0.882923</td>\n",
       "      <td>0.876761</td>\n",
       "    </tr>\n",
       "    <tr>\n",
       "      <td>5</td>\n",
       "      <td>0.060300</td>\n",
       "      <td>0.314250</td>\n",
       "      <td>0.901408</td>\n",
       "      <td>0.903999</td>\n",
       "      <td>0.901408</td>\n",
       "    </tr>\n",
       "    <tr>\n",
       "      <td>6</td>\n",
       "      <td>0.036300</td>\n",
       "      <td>0.387159</td>\n",
       "      <td>0.890845</td>\n",
       "      <td>0.892706</td>\n",
       "      <td>0.890845</td>\n",
       "    </tr>\n",
       "    <tr>\n",
       "      <td>7</td>\n",
       "      <td>0.025200</td>\n",
       "      <td>0.402529</td>\n",
       "      <td>0.883803</td>\n",
       "      <td>0.886508</td>\n",
       "      <td>0.883803</td>\n",
       "    </tr>\n",
       "    <tr>\n",
       "      <td>8</td>\n",
       "      <td>0.011900</td>\n",
       "      <td>0.435271</td>\n",
       "      <td>0.887324</td>\n",
       "      <td>0.890285</td>\n",
       "      <td>0.887324</td>\n",
       "    </tr>\n",
       "    <tr>\n",
       "      <td>9</td>\n",
       "      <td>0.006700</td>\n",
       "      <td>0.456297</td>\n",
       "      <td>0.883803</td>\n",
       "      <td>0.887195</td>\n",
       "      <td>0.883803</td>\n",
       "    </tr>\n",
       "    <tr>\n",
       "      <td>10</td>\n",
       "      <td>0.006700</td>\n",
       "      <td>0.448008</td>\n",
       "      <td>0.883803</td>\n",
       "      <td>0.886508</td>\n",
       "      <td>0.883803</td>\n",
       "    </tr>\n",
       "  </tbody>\n",
       "</table><p>"
      ],
      "text/plain": [
       "<IPython.core.display.HTML object>"
      ]
     },
     "metadata": {},
     "output_type": "display_data"
    },
    {
     "name": "stdout",
     "output_type": "stream",
     "text": [
      "Saving\n"
     ]
    },
    {
     "data": {
      "text/html": [],
      "text/plain": [
       "<IPython.core.display.HTML object>"
      ]
     },
     "metadata": {},
     "output_type": "display_data"
    },
    {
     "name": "stdout",
     "output_type": "stream",
     "text": [
      "{'accuracy': 0.8274647887323944, 'f1': 0.8343912551689014, 'recall': 0.8274647887323944}\n",
      "\n",
      "Saved paraphrase-xlm-r-multilingual-v1_bn_e10_r3.\n",
      "\n",
      "Done in 12.62 min\n",
      "\n",
      "Loading model sentence-transformers/paraphrase-xlm-r-multilingual-v1\n",
      "\n",
      "Tokenizing\n"
     ]
    },
    {
     "data": {
      "application/vnd.jupyter.widget-view+json": {
       "model_id": "0bdea3868ad34668bca114c45c332df0",
       "version_major": 2,
       "version_minor": 0
      },
      "text/plain": [
       "Map:   0%|          | 0/1388 [00:00<?, ? examples/s]"
      ]
     },
     "metadata": {},
     "output_type": "display_data"
    },
    {
     "name": "stderr",
     "output_type": "stream",
     "text": [
      "Some weights of XLMRobertaForSequenceClassification were not initialized from the model checkpoint at sentence-transformers/paraphrase-xlm-r-multilingual-v1 and are newly initialized: ['classifier.dense.bias', 'classifier.dense.weight', 'classifier.out_proj.bias', 'classifier.out_proj.weight']\n",
      "You should probably TRAIN this model on a down-stream task to be able to use it for predictions and inference.\n"
     ]
    },
    {
     "name": "stdout",
     "output_type": "stream",
     "text": [
      "Loading model\n",
      "Training\n"
     ]
    },
    {
     "data": {
      "text/html": [
       "\n",
       "    <div>\n",
       "      \n",
       "      <progress value='870' max='870' style='width:300px; height:20px; vertical-align: middle;'></progress>\n",
       "      [870/870 11:58, Epoch 10/10]\n",
       "    </div>\n",
       "    <table border=\"1\" class=\"dataframe\">\n",
       "  <thead>\n",
       " <tr style=\"text-align: left;\">\n",
       "      <th>Epoch</th>\n",
       "      <th>Training Loss</th>\n",
       "      <th>Validation Loss</th>\n",
       "      <th>Accuracy</th>\n",
       "      <th>F1</th>\n",
       "      <th>Recall</th>\n",
       "    </tr>\n",
       "  </thead>\n",
       "  <tbody>\n",
       "    <tr>\n",
       "      <td>1</td>\n",
       "      <td>0.615600</td>\n",
       "      <td>0.540599</td>\n",
       "      <td>0.750000</td>\n",
       "      <td>0.775094</td>\n",
       "      <td>0.750000</td>\n",
       "    </tr>\n",
       "    <tr>\n",
       "      <td>2</td>\n",
       "      <td>0.390200</td>\n",
       "      <td>0.372374</td>\n",
       "      <td>0.830986</td>\n",
       "      <td>0.840576</td>\n",
       "      <td>0.830986</td>\n",
       "    </tr>\n",
       "    <tr>\n",
       "      <td>3</td>\n",
       "      <td>0.203200</td>\n",
       "      <td>0.339425</td>\n",
       "      <td>0.845070</td>\n",
       "      <td>0.850882</td>\n",
       "      <td>0.845070</td>\n",
       "    </tr>\n",
       "    <tr>\n",
       "      <td>4</td>\n",
       "      <td>0.099500</td>\n",
       "      <td>0.485536</td>\n",
       "      <td>0.816901</td>\n",
       "      <td>0.831862</td>\n",
       "      <td>0.816901</td>\n",
       "    </tr>\n",
       "    <tr>\n",
       "      <td>5</td>\n",
       "      <td>0.051800</td>\n",
       "      <td>0.537136</td>\n",
       "      <td>0.830986</td>\n",
       "      <td>0.840576</td>\n",
       "      <td>0.830986</td>\n",
       "    </tr>\n",
       "    <tr>\n",
       "      <td>6</td>\n",
       "      <td>0.027700</td>\n",
       "      <td>0.516092</td>\n",
       "      <td>0.862676</td>\n",
       "      <td>0.866685</td>\n",
       "      <td>0.862676</td>\n",
       "    </tr>\n",
       "    <tr>\n",
       "      <td>7</td>\n",
       "      <td>0.016000</td>\n",
       "      <td>0.658865</td>\n",
       "      <td>0.838028</td>\n",
       "      <td>0.847219</td>\n",
       "      <td>0.838028</td>\n",
       "    </tr>\n",
       "    <tr>\n",
       "      <td>8</td>\n",
       "      <td>0.013500</td>\n",
       "      <td>0.585867</td>\n",
       "      <td>0.862676</td>\n",
       "      <td>0.865873</td>\n",
       "      <td>0.862676</td>\n",
       "    </tr>\n",
       "    <tr>\n",
       "      <td>9</td>\n",
       "      <td>0.012200</td>\n",
       "      <td>0.602512</td>\n",
       "      <td>0.859155</td>\n",
       "      <td>0.862001</td>\n",
       "      <td>0.859155</td>\n",
       "    </tr>\n",
       "    <tr>\n",
       "      <td>10</td>\n",
       "      <td>0.007900</td>\n",
       "      <td>0.641944</td>\n",
       "      <td>0.852113</td>\n",
       "      <td>0.857661</td>\n",
       "      <td>0.852113</td>\n",
       "    </tr>\n",
       "  </tbody>\n",
       "</table><p>"
      ],
      "text/plain": [
       "<IPython.core.display.HTML object>"
      ]
     },
     "metadata": {},
     "output_type": "display_data"
    },
    {
     "name": "stdout",
     "output_type": "stream",
     "text": [
      "Saving\n"
     ]
    },
    {
     "data": {
      "text/html": [],
      "text/plain": [
       "<IPython.core.display.HTML object>"
      ]
     },
     "metadata": {},
     "output_type": "display_data"
    },
    {
     "name": "stdout",
     "output_type": "stream",
     "text": [
      "{'accuracy': 0.8485915492957746, 'f1': 0.8521165111841916, 'recall': 0.8485915492957746}\n",
      "\n",
      "Saved paraphrase-xlm-r-multilingual-v1_bn_e10_r6.\n",
      "\n",
      "Done in 12.21 min\n",
      "\n",
      "Loading model sentence-transformers/paraphrase-xlm-r-multilingual-v1\n",
      "\n",
      "Tokenizing\n"
     ]
    },
    {
     "data": {
      "application/vnd.jupyter.widget-view+json": {
       "model_id": "dc943cfce1fd40c98ce76c6e377a7fe5",
       "version_major": 2,
       "version_minor": 0
      },
      "text/plain": [
       "Map:   0%|          | 0/1388 [00:00<?, ? examples/s]"
      ]
     },
     "metadata": {},
     "output_type": "display_data"
    },
    {
     "name": "stdout",
     "output_type": "stream",
     "text": [
      "Loading model\n"
     ]
    },
    {
     "name": "stderr",
     "output_type": "stream",
     "text": [
      "Some weights of XLMRobertaForSequenceClassification were not initialized from the model checkpoint at sentence-transformers/paraphrase-xlm-r-multilingual-v1 and are newly initialized: ['classifier.dense.bias', 'classifier.dense.weight', 'classifier.out_proj.bias', 'classifier.out_proj.weight']\n",
      "You should probably TRAIN this model on a down-stream task to be able to use it for predictions and inference.\n"
     ]
    },
    {
     "name": "stdout",
     "output_type": "stream",
     "text": [
      "Training\n"
     ]
    },
    {
     "data": {
      "text/html": [
       "\n",
       "    <div>\n",
       "      \n",
       "      <progress value='870' max='870' style='width:300px; height:20px; vertical-align: middle;'></progress>\n",
       "      [870/870 13:28, Epoch 10/10]\n",
       "    </div>\n",
       "    <table border=\"1\" class=\"dataframe\">\n",
       "  <thead>\n",
       " <tr style=\"text-align: left;\">\n",
       "      <th>Epoch</th>\n",
       "      <th>Training Loss</th>\n",
       "      <th>Validation Loss</th>\n",
       "      <th>Accuracy</th>\n",
       "      <th>F1</th>\n",
       "      <th>Recall</th>\n",
       "    </tr>\n",
       "  </thead>\n",
       "  <tbody>\n",
       "    <tr>\n",
       "      <td>1</td>\n",
       "      <td>0.618900</td>\n",
       "      <td>0.540722</td>\n",
       "      <td>0.757042</td>\n",
       "      <td>0.782426</td>\n",
       "      <td>0.757042</td>\n",
       "    </tr>\n",
       "    <tr>\n",
       "      <td>2</td>\n",
       "      <td>0.394000</td>\n",
       "      <td>0.433644</td>\n",
       "      <td>0.816901</td>\n",
       "      <td>0.833306</td>\n",
       "      <td>0.816901</td>\n",
       "    </tr>\n",
       "    <tr>\n",
       "      <td>3</td>\n",
       "      <td>0.210700</td>\n",
       "      <td>0.392971</td>\n",
       "      <td>0.834507</td>\n",
       "      <td>0.848264</td>\n",
       "      <td>0.834507</td>\n",
       "    </tr>\n",
       "    <tr>\n",
       "      <td>4</td>\n",
       "      <td>0.102400</td>\n",
       "      <td>0.325032</td>\n",
       "      <td>0.897887</td>\n",
       "      <td>0.901442</td>\n",
       "      <td>0.897887</td>\n",
       "    </tr>\n",
       "    <tr>\n",
       "      <td>5</td>\n",
       "      <td>0.052600</td>\n",
       "      <td>0.382991</td>\n",
       "      <td>0.897887</td>\n",
       "      <td>0.901442</td>\n",
       "      <td>0.897887</td>\n",
       "    </tr>\n",
       "    <tr>\n",
       "      <td>6</td>\n",
       "      <td>0.028700</td>\n",
       "      <td>0.386598</td>\n",
       "      <td>0.908451</td>\n",
       "      <td>0.909715</td>\n",
       "      <td>0.908451</td>\n",
       "    </tr>\n",
       "    <tr>\n",
       "      <td>7</td>\n",
       "      <td>0.017500</td>\n",
       "      <td>0.468134</td>\n",
       "      <td>0.880282</td>\n",
       "      <td>0.886544</td>\n",
       "      <td>0.880282</td>\n",
       "    </tr>\n",
       "    <tr>\n",
       "      <td>8</td>\n",
       "      <td>0.013800</td>\n",
       "      <td>0.446688</td>\n",
       "      <td>0.894366</td>\n",
       "      <td>0.897751</td>\n",
       "      <td>0.894366</td>\n",
       "    </tr>\n",
       "    <tr>\n",
       "      <td>9</td>\n",
       "      <td>0.013000</td>\n",
       "      <td>0.448570</td>\n",
       "      <td>0.897887</td>\n",
       "      <td>0.900265</td>\n",
       "      <td>0.897887</td>\n",
       "    </tr>\n",
       "    <tr>\n",
       "      <td>10</td>\n",
       "      <td>0.009600</td>\n",
       "      <td>0.462094</td>\n",
       "      <td>0.890845</td>\n",
       "      <td>0.894032</td>\n",
       "      <td>0.890845</td>\n",
       "    </tr>\n",
       "  </tbody>\n",
       "</table><p>"
      ],
      "text/plain": [
       "<IPython.core.display.HTML object>"
      ]
     },
     "metadata": {},
     "output_type": "display_data"
    },
    {
     "name": "stdout",
     "output_type": "stream",
     "text": [
      "Saving\n"
     ]
    },
    {
     "data": {
      "text/html": [],
      "text/plain": [
       "<IPython.core.display.HTML object>"
      ]
     },
     "metadata": {},
     "output_type": "display_data"
    },
    {
     "name": "stdout",
     "output_type": "stream",
     "text": [
      "{'accuracy': 0.823943661971831, 'f1': 0.8314627347417841, 'recall': 0.823943661971831}\n",
      "\n",
      "Saved paraphrase-xlm-r-multilingual-v1_bn_e10_r9.\n",
      "\n",
      "Done in 13.69 min\n",
      "{'bn_0': {'accuracy': 0.8415492957746479, 'f1': 0.8494725547033916, 'recall': 0.8415492957746479}, 'bn_3': {'accuracy': 0.8274647887323944, 'f1': 0.8343912551689014, 'recall': 0.8274647887323944}, 'bn_6': {'accuracy': 0.8485915492957746, 'f1': 0.8521165111841916, 'recall': 0.8485915492957746}, 'bn_9': {'accuracy': 0.823943661971831, 'f1': 0.8314627347417841, 'recall': 0.823943661971831}}\n"
     ]
    },
    {
     "data": {
      "image/png": "[encoded data removed]",
      "text/plain": [
       "<Figure size 640x480 with 1 Axes>"
      ]
     },
     "metadata": {},
     "output_type": "display_data"
    },
    {
     "data": {
      "image/png": "[encoded data removed]",
      "text/plain": [
       "<Figure size 640x480 with 1 Axes>"
      ]
     },
     "metadata": {},
     "output_type": "display_data"
    },
    {
     "data": {
      "image/png": "[encoded data removed]",
      "text/plain": [
       "<Figure size 640x480 with 1 Axes>"
      ]
     },
     "metadata": {},
     "output_type": "display_data"
    },
    {
     "data": {
      "image/png": "[encoded data removed]",
      "text/plain": [
       "<Figure size 640x480 with 1 Axes>"
      ]
     },
     "metadata": {},
     "output_type": "display_data"
    }
   ],
   "source": [
    "int2label_dct, label2int_dct = load_labelintdcts()\n",
    "metriclog = {}\n",
    "exps = [0,3,6,9]#[6]#\n",
    "ovs = True\n",
    "torch.cuda.empty_cache()\n",
    "gc.collect()\n",
    "for r in exps:\n",
    "    bn_ds = DatasetDict.load_from_disk(f\"{input_dir}/ds_{r}_bn\")\n",
    "    mc_ds = DatasetDict.load_from_disk(f\"{input_dir}/ds_{r}_mc\")\n",
    "    hyper = {\n",
    "        \"epochs\":10, \n",
    "        \"r\":r, \n",
    "        \"lr\":5E-6,\n",
    "        \"batch_size\":16\n",
    "        }\n",
    "    torch.cuda.empty_cache()\n",
    "    gc.collect()\n",
    "    metrics = finetune_roberta(bn_ds, int2label_dct[\"bn\"], label2int_dct[\"bn\"], \"bn\", model_name=\"sentence-transformers/paraphrase-xlm-r-multilingual-v1\", dev='cuda', output_dir=output_dir, hyperparams=hyper, oversampling=ovs)\n",
    "    metriclog[f'bn_{r}'] = metrics\n",
    "    '''\n",
    "    hyper = {\n",
    "        \"epochs\":15, \n",
    "        \"r\":r, \n",
    "        \"lr\":2E-5,\n",
    "        \"batch_size\":16\n",
    "        }\n",
    "    torch.cuda.empty_cache()\n",
    "    gc.collect()\n",
    "    metrics = finetune_roberta(mc_ds, int2label_dct[\"mc\"], label2int_dct[\"mc\"], \"mc\", model_name=\"sentence-transformers/paraphrase-xlm-r-multilingual-v1\", dev='cuda', output_dir=output_dir, hyperparams=hyper, oversampling=ovs)\n",
    "    metriclog[f'mc_{r}'] = metrics\n",
    "    '''\n",
    "print(metriclog)"
   ]
  },
  {
   "cell_type": "markdown",
   "metadata": {},
   "source": [
    "Then test the model by using it to predict labels, or by using it as an embedder with an external classifier that predicts labels"
   ]
  },
  {
   "cell_type": "code",
   "execution_count": 78,
   "metadata": {},
   "outputs": [
    {
     "name": "stdout",
     "output_type": "stream",
     "text": [
      "['bert_bn_e10_r0', 'bert_bn_e10_r3', 'bert_bn_e10_r6', 'bert_bn_e10_r9']\n"
     ]
    },
    {
     "name": "stderr",
     "output_type": "stream",
     "text": [
      "  0%|          | 0/4 [00:00<?, ?it/s]"
     ]
    },
    {
     "name": "stdout",
     "output_type": "stream",
     "text": [
      "\n",
      "Running model bert_bn_e10_r0\n",
      "Loading tokenizer\n",
      "Loading model\n",
      "Running model\n"
     ]
    },
    {
     "name": "stderr",
     "output_type": "stream",
     "text": [
      "100%|██████████| 9/9 [00:04<00:00,  1.94it/s]\n"
     ]
    },
    {
     "name": "stdout",
     "output_type": "stream",
     "text": [
      "Freeing memory\n"
     ]
    },
    {
     "name": "stderr",
     "output_type": "stream",
     "text": [
      "No sentence-transformers model found with name c:\\Users\\allie\\Documents\\GitHub\\policy-classifier/outputs/fting/paraphrase-xlm-r-multilingual-v1_bn_e10_r0.pt. Creating a new one with mean pooling.\n",
      "Some weights of XLMRobertaModel were not initialized from the model checkpoint at c:\\Users\\allie\\Documents\\GitHub\\policy-classifier/outputs/fting/paraphrase-xlm-r-multilingual-v1_bn_e10_r0.pt and are newly initialized: ['roberta.pooler.dense.bias', 'roberta.pooler.dense.weight']\n",
      "You should probably TRAIN this model on a down-stream task to be able to use it for predictions and inference.\n",
      "100%|██████████| 1135/1135 [00:15<00:00, 71.53it/s]\n"
     ]
    },
    {
     "name": "stdout",
     "output_type": "stream",
     "text": [
      "Encoding test sentences.\n"
     ]
    },
    {
     "name": "stderr",
     "output_type": "stream",
     "text": [
      "100%|██████████| 284/284 [00:03<00:00, 73.18it/s]\n",
      " 25%|██▌       | 1/4 [00:28<01:26, 28.89s/it]"
     ]
    },
    {
     "name": "stdout",
     "output_type": "stream",
     "text": [
      "bert_bn_e10_r0 run completed in in 28.89s\n",
      "\n",
      "Running model bert_bn_e10_r3\n",
      "Loading tokenizer\n",
      "Loading model\n",
      "Running model\n"
     ]
    },
    {
     "name": "stderr",
     "output_type": "stream",
     "text": [
      "100%|██████████| 9/9 [00:04<00:00,  2.00it/s]\n"
     ]
    },
    {
     "name": "stdout",
     "output_type": "stream",
     "text": [
      "Freeing memory\n"
     ]
    },
    {
     "name": "stderr",
     "output_type": "stream",
     "text": [
      "No sentence-transformers model found with name c:\\Users\\allie\\Documents\\GitHub\\policy-classifier/outputs/fting/paraphrase-xlm-r-multilingual-v1_bn_e10_r3.pt. Creating a new one with mean pooling.\n",
      "Some weights of XLMRobertaModel were not initialized from the model checkpoint at c:\\Users\\allie\\Documents\\GitHub\\policy-classifier/outputs/fting/paraphrase-xlm-r-multilingual-v1_bn_e10_r3.pt and are newly initialized: ['roberta.pooler.dense.bias', 'roberta.pooler.dense.weight']\n",
      "You should probably TRAIN this model on a down-stream task to be able to use it for predictions and inference.\n",
      "100%|██████████| 1135/1135 [00:15<00:00, 72.20it/s]\n"
     ]
    },
    {
     "name": "stdout",
     "output_type": "stream",
     "text": [
      "Encoding test sentences.\n"
     ]
    },
    {
     "name": "stderr",
     "output_type": "stream",
     "text": [
      "100%|██████████| 284/284 [00:04<00:00, 70.38it/s]\n",
      " 50%|█████     | 2/4 [00:57<00:57, 28.82s/it]"
     ]
    },
    {
     "name": "stdout",
     "output_type": "stream",
     "text": [
      "bert_bn_e10_r3 run completed in in 28.75s\n",
      "\n",
      "Running model bert_bn_e10_r6\n",
      "Loading tokenizer\n",
      "Loading model\n",
      "Running model\n"
     ]
    },
    {
     "name": "stderr",
     "output_type": "stream",
     "text": [
      "100%|██████████| 9/9 [00:04<00:00,  1.95it/s]\n"
     ]
    },
    {
     "name": "stdout",
     "output_type": "stream",
     "text": [
      "Freeing memory\n"
     ]
    },
    {
     "name": "stderr",
     "output_type": "stream",
     "text": [
      "No sentence-transformers model found with name c:\\Users\\allie\\Documents\\GitHub\\policy-classifier/outputs/fting/paraphrase-xlm-r-multilingual-v1_bn_e10_r6.pt. Creating a new one with mean pooling.\n",
      "Some weights of XLMRobertaModel were not initialized from the model checkpoint at c:\\Users\\allie\\Documents\\GitHub\\policy-classifier/outputs/fting/paraphrase-xlm-r-multilingual-v1_bn_e10_r6.pt and are newly initialized: ['roberta.pooler.dense.bias', 'roberta.pooler.dense.weight']\n",
      "You should probably TRAIN this model on a down-stream task to be able to use it for predictions and inference.\n",
      "100%|██████████| 1135/1135 [00:16<00:00, 68.43it/s]\n"
     ]
    },
    {
     "name": "stdout",
     "output_type": "stream",
     "text": [
      "Encoding test sentences.\n"
     ]
    },
    {
     "name": "stderr",
     "output_type": "stream",
     "text": [
      "100%|██████████| 284/284 [00:04<00:00, 67.56it/s]\n",
      " 75%|███████▌  | 3/4 [01:27<00:29, 29.33s/it]"
     ]
    },
    {
     "name": "stdout",
     "output_type": "stream",
     "text": [
      "bert_bn_e10_r6 run completed in in 29.92s\n",
      "\n",
      "Running model bert_bn_e10_r9\n",
      "Loading tokenizer\n",
      "Loading model\n",
      "Running model\n"
     ]
    },
    {
     "name": "stderr",
     "output_type": "stream",
     "text": [
      "100%|██████████| 9/9 [00:04<00:00,  2.01it/s]\n"
     ]
    },
    {
     "name": "stdout",
     "output_type": "stream",
     "text": [
      "Freeing memory\n"
     ]
    },
    {
     "name": "stderr",
     "output_type": "stream",
     "text": [
      "No sentence-transformers model found with name c:\\Users\\allie\\Documents\\GitHub\\policy-classifier/outputs/fting/paraphrase-xlm-r-multilingual-v1_bn_e10_r9.pt. Creating a new one with mean pooling.\n",
      "Some weights of XLMRobertaModel were not initialized from the model checkpoint at c:\\Users\\allie\\Documents\\GitHub\\policy-classifier/outputs/fting/paraphrase-xlm-r-multilingual-v1_bn_e10_r9.pt and are newly initialized: ['roberta.pooler.dense.bias', 'roberta.pooler.dense.weight']\n",
      "You should probably TRAIN this model on a down-stream task to be able to use it for predictions and inference.\n",
      "100%|██████████| 1135/1135 [00:16<00:00, 68.33it/s]\n"
     ]
    },
    {
     "name": "stdout",
     "output_type": "stream",
     "text": [
      "Encoding test sentences.\n"
     ]
    },
    {
     "name": "stderr",
     "output_type": "stream",
     "text": [
      "100%|██████████| 284/284 [00:04<00:00, 65.51it/s]\n",
      "100%|██████████| 4/4 [01:56<00:00, 29.11s/it]"
     ]
    },
    {
     "name": "stdout",
     "output_type": "stream",
     "text": [
      "bert_bn_e10_r9 run completed in in 28.86s\n",
      "Time elapsed total: 1.0 min and 56 sec\n"
     ]
    },
    {
     "name": "stderr",
     "output_type": "stream",
     "text": [
      "\n"
     ]
    }
   ],
   "source": [
    "from classifier.ft_classification import run_experiments, modelpred_dsdct_clsf, svm_dsdct_clsf\n",
    "from classifier.run_classifiers import res_dct_to_cls_rpt, cls_rpt_to_exp_rpt\n",
    "from classifier.finetune import load_labelintdcts\n",
    "from tqdm import tqdm\n",
    "int2label_dct, label2int_dct = load_labelintdcts()\n",
    "outfn = \"11Apr25_0\"\n",
    "\n",
    "models = {}\n",
    "for i in exps:#[0,3,6,9]:#range(10):\n",
    "    #models[f'bert_bn_e5_r{i}'] = output_dir+f'/paraphrase-xlm-r-multilingual-v1_bn_e5_r{i}.pt'\n",
    "    models[f'bert_bn_e10_r{i}'] = output_dir+f'/paraphrase-xlm-r-multilingual-v1_bn_e10_r{i}.pt'\n",
    "    #models[f'bert_mc_e15_r{i}'] = output_dir+f'/paraphrase-xlm-r-multilingual-v1_mc_e15_r{i}.pt'\n",
    "print(list(models))\n",
    "model_res_dict = {'bn':{}, 'mc':{}}\n",
    "svm_res_dict = {'bn':{}, 'mc':{}}\n",
    "stw = time.time()\n",
    "for model in tqdm(models):\n",
    "    print(f'\\nRunning model {model}')\n",
    "    #print(torch.cuda.memory_allocated() / 1e9, \"GB allocated before model\")\n",
    "    #print(torch.cuda.memory_reserved() / 1e9, \"GB reserved before model\")\n",
    "    st = time.time()\n",
    "    mode = model.split('_')[1]\n",
    "    torch.cuda.empty_cache()\n",
    "    if mode=='bn':\n",
    "        r = model.split('_')[-1][1:]\n",
    "        if r == \"h\":\n",
    "            r = model.split('_')[-2][1:]\n",
    "        try:\n",
    "            dsdct = DatasetDict.load_from_disk(input_dir+f\"/ds_{r}_bn\")\n",
    "            model_res_dict[mode][model] = modelpred_dsdct_clsf(dsdct, int2label_dct[mode], label2int_dct[mode], models[model], cuda=True)\n",
    "            svm_res_dict[mode][model] = svm_dsdct_clsf(dsdct, models[model], cuda=True)\n",
    "        except Exception as e:\n",
    "            print(f\"\\nError in {model}: {e}\\n\")\n",
    "    else:\n",
    "        r = model.split('_')[-1][1:]\n",
    "        try:\n",
    "            dsdct = DatasetDict.load_from_disk(input_dir+f\"/ds_{r}_mc\")\n",
    "            model_res_dict[mode][model] = modelpred_dsdct_clsf(dsdct, int2label_dct[mode], label2int_dct[mode], models[model], cuda=True)\n",
    "            svm_res_dict[mode][model] = svm_dsdct_clsf(dsdct, models[model], cuda=True)\n",
    "        except Exception as e:\n",
    "            print(f\"\\nError in {model}: {e}\\n\")\n",
    "    print(f\"{model} run completed in in {round(time.time()-st,2)}s\")\n",
    "    torch.cuda.empty_cache()\n",
    "    #gc.collect()\n",
    "etw = time.time()-stw\n",
    "print(\"Time elapsed total:\", etw//60, \"min and\", round(etw%60), \"sec\")"
   ]
  },
  {
   "cell_type": "code",
   "execution_count": 79,
   "metadata": {},
   "outputs": [
    {
     "name": "stdout",
     "output_type": "stream",
     "text": [
      "finished 11Apr25_0\n"
     ]
    }
   ],
   "source": [
    "with open(f\"{output_dir}/randp_{outfn}_model.json\", 'w', encoding=\"utf-8\") as outfile:\n",
    "    json.dump(model_res_dict, outfile, ensure_ascii=False, indent=4)\n",
    "with open(f\"{output_dir}/randp_{outfn}_svm.json\", 'w', encoding=\"utf-8\") as outfile:\n",
    "    json.dump(svm_res_dict, outfile, ensure_ascii=False, indent=4)\n",
    "mdl_cls_rpt = res_dct_to_cls_rpt(model_res_dict, int2label_dct)\n",
    "mdl_exp_rpt = cls_rpt_to_exp_rpt(mdl_cls_rpt)\n",
    "with open(f\"{output_dir}/exprpt_{outfn}_mdl.json\", 'w', encoding=\"utf-8\") as outfile:\n",
    "    json.dump(mdl_exp_rpt, outfile, ensure_ascii=False, indent=4)\n",
    "svm_cls_rpt = res_dct_to_cls_rpt(svm_res_dict, int2label_dct)\n",
    "svm_exp_rpt = cls_rpt_to_exp_rpt(svm_cls_rpt)\n",
    "with open(f\"{output_dir}/exprpt_{outfn}_svm.json\", 'w', encoding=\"utf-8\") as outfile:\n",
    "    json.dump(svm_exp_rpt, outfile, ensure_ascii=False, indent=4)\n",
    "\n",
    "print(f\"finished {outfn}\")"
   ]
  },
  {
   "cell_type": "markdown",
   "metadata": {},
   "source": []
  }
 ],
 "metadata": {
  "kernelspec": {
   "display_name": "Python 3",
   "language": "python",
   "name": "python3"
  },
  "language_info": {
   "codemirror_mode": {
    "name": "ipython",
    "version": 3
   },
   "file_extension": ".py",
   "mimetype": "text/x-python",
   "name": "python",
   "nbconvert_exporter": "python",
   "pygments_lexer": "ipython3",
   "version": "3.11.7"
  }
 },
 "nbformat": 4,
 "nbformat_minor": 2
}

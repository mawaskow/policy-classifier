{
 "cells": [
  {
   "cell_type": "markdown",
   "metadata": {},
   "source": [
    "# 1. Getting the Data"
   ]
  },
  {
   "cell_type": "markdown",
   "metadata": {},
   "source": [
    "First we will scrape policies from the gov.ie website.\n",
    "\n",
    "In your command line, ``cd`` into this repository.\n",
    "\n",
    "``cd`` into the ``policy_scraping`` task directory, then ``cd`` again into the ``policy_scraping`` scrapy environment."
   ]
  },
  {
   "cell_type": "code",
   "execution_count": 1,
   "metadata": {},
   "outputs": [],
   "source": [
    "import os\n",
    "cwd = os.getcwd() # should be base directory of repository\n",
    "os.chdir(cwd+\"/policy_scraping/policy_scraping\")"
   ]
  },
  {
   "cell_type": "markdown",
   "metadata": {},
   "source": [
    "Run ``scrapy crawl goviefor -O ../outputs/goviefor.json`` (or you can change the -O argument to whatever you would prefer the output file information to be).\n",
    "\n",
    "This command will generate a json containing the metadata about all the policies as well as download all files to the same outputs directory under ``forestry/full``."
   ]
  },
  {
   "cell_type": "code",
   "execution_count": null,
   "metadata": {},
   "outputs": [
    {
     "data": {
      "text/plain": [
       "['2025-03-02 14:41:45 [scrapy.utils.log] INFO: Scrapy 2.8.0 started (bot: policy_scraping)',\n",
       " '2025-03-02 14:41:45 [scrapy.utils.log] INFO: Versions: lxml 5.1.0.0, libxml2 2.10.3, cssselect 1.1.0, parsel 1.6.0, w3lib 1.21.0, Twisted 22.10.0, Python 3.11.5 | packaged by Anaconda, Inc. | (main, Sep 11 2023, 13:26:23) [MSC v.1916 64 bit (AMD64)], pyOpenSSL 23.2.0 (OpenSSL 3.2.1 30 Jan 2024), cryptography 42.0.2, Platform Windows-10-10.0.26100-SP0',\n",
       " '2025-03-02 14:41:45 [scrapy.crawler] INFO: Overridden settings:',\n",
       " \"{'BOT_NAME': 'policy_scraping',\",\n",
       " \" 'FEED_EXPORT_ENCODING': 'utf-8',\",\n",
       " \" 'NEWSPIDER_MODULE': 'policy_scraping.spiders',\",\n",
       " \" 'REQUEST_FINGERPRINTER_IMPLEMENTATION': '2.7',\",\n",
       " \" 'ROBOTSTXT_OBEY': True,\",\n",
       " \" 'SPIDER_MODULES': ['policy_scraping.spiders'],\",\n",
       " \" 'TWISTED_REACTOR': 'twisted.internet.asyncioreactor.AsyncioSelectorReactor',\",\n",
       " \" 'USER_AGENT': 'Mozilla/5.0 (X11; Ubuntu; Linux x86_64; rv:66.0) '\",\n",
       " \"               'Gecko/20100101 Firefox/66.0'}\",\n",
       " '2025-03-02 14:41:45 [scrapy.extensions.telnet] INFO: Telnet Password: 28b27f63fe146805',\n",
       " '2025-03-02 14:41:45 [scrapy.middleware] INFO: Enabled extensions:',\n",
       " \"['scrapy.extensions.corestats.CoreStats',\",\n",
       " \" 'scrapy.extensions.telnet.TelnetConsole',\",\n",
       " \" 'scrapy.extensions.feedexport.FeedExporter',\",\n",
       " \" 'scrapy.extensions.logstats.LogStats']\",\n",
       " '2025-03-02 14:41:46 [scrapy.middleware] INFO: Enabled downloader middlewares:',\n",
       " \"['scrapy.downloadermiddlewares.robotstxt.RobotsTxtMiddleware',\",\n",
       " \" 'scrapy.downloadermiddlewares.httpauth.HttpAuthMiddleware',\",\n",
       " \" 'scrapy.downloadermiddlewares.downloadtimeout.DownloadTimeoutMiddleware',\",\n",
       " \" 'scrapy.downloadermiddlewares.defaultheaders.DefaultHeadersMiddleware',\",\n",
       " \" 'scrapy.downloadermiddlewares.useragent.UserAgentMiddleware',\",\n",
       " \" 'scrapy.downloadermiddlewares.retry.RetryMiddleware',\",\n",
       " \" 'scrapy.downloadermiddlewares.redirect.MetaRefreshMiddleware',\",\n",
       " \" 'scrapy.downloadermiddlewares.httpcompression.HttpCompressionMiddleware',\",\n",
       " \" 'scrapy.downloadermiddlewares.redirect.RedirectMiddleware',\",\n",
       " \" 'scrapy.downloadermiddlewares.cookies.CookiesMiddleware',\",\n",
       " \" 'scrapy.downloadermiddlewares.httpproxy.HttpProxyMiddleware',\",\n",
       " \" 'scrapy.downloadermiddlewares.stats.DownloaderStats']\",\n",
       " '2025-03-02 14:41:46 [scrapy.middleware] INFO: Enabled spider middlewares:',\n",
       " \"['scrapy.spidermiddlewares.httperror.HttpErrorMiddleware',\",\n",
       " \" 'scrapy.spidermiddlewares.offsite.OffsiteMiddleware',\",\n",
       " \" 'scrapy.spidermiddlewares.referer.RefererMiddleware',\",\n",
       " \" 'scrapy.spidermiddlewares.urllength.UrlLengthMiddleware',\",\n",
       " \" 'scrapy.spidermiddlewares.depth.DepthMiddleware']\",\n",
       " '2025-03-02 14:41:46 [scrapy.middleware] INFO: Enabled item pipelines:',\n",
       " \"['scrapy.pipelines.files.FilesPipeline']\",\n",
       " '2025-03-02 14:41:46 [scrapy.core.engine] INFO: Spider opened',\n",
       " '2025-03-02 14:41:46 [scrapy.extensions.logstats] INFO: Crawled 0 pages (at 0 pages/min), scraped 0 items (at 0 items/min)',\n",
       " '2025-03-02 14:41:46 [scrapy.extensions.telnet] INFO: Telnet console listening on 127.0.0.1:6023',\n",
       " \"2025-03-02 14:41:47 [tldextract.cache] WARNING: unable to cache publicsuffix.org-tlds.{'urls': ('https://publicsuffix.org/list/public_suffix_list.dat', 'https://raw.githubusercontent.com/publicsuffix/list/master/public_suffix_list.dat'), 'fallback_to_snapshot': True} in C:\\\\ProgramData\\\\anaconda3\\\\Lib\\\\site-packages\\\\tldextract\\\\.suffix_cache/publicsuffix.org-tlds\\\\de84b5ca2167d4c83e38fb162f2e8738.tldextract.json. This could refresh the Public Suffix List over HTTP every app startup. Construct your `TLDExtract` with a writable `cache_dir` or set `cache_dir=False` to silence this warning. [WinError 5] Access is denied: 'C:\\\\\\\\ProgramData\\\\\\\\anaconda3\\\\\\\\Lib\\\\\\\\site-packages\\\\\\\\tldextract\\\\\\\\.suffix_cache'\",\n",
       " '2025-03-02 14:42:10 [scrapy.spidermiddlewares.httperror] INFO: Ignoring response <403 https://www.gov.ie/en/publication/402b67-rural-opportunities-funding/>: HTTP status code is not handled or not allowed',\n",
       " '2025-03-02 14:42:10 [scrapy.spidermiddlewares.httperror] INFO: Ignoring response <403 https://www.gov.ie/en/publication/8d5092-general-block-exemption-regulation-for-the-rrdf/>: HTTP status code is not handled or not allowed',\n",
       " '2025-03-02 14:42:11 [scrapy.spidermiddlewares.httperror] INFO: Ignoring response <403 https://www.gov.ie/en/publication/130fda-rural-conversations/>: HTTP status code is not handled or not allowed',\n",
       " '2025-03-02 14:42:12 [scrapy.spidermiddlewares.httperror] INFO: Ignoring response <403 https://www.gov.ie/en/publication/05bba-projects-funded-under-the-digital-innovation-programme-2021/>: HTTP status code is not handled or not allowed',\n",
       " '2025-03-02 14:42:12 [scrapy.spidermiddlewares.httperror] INFO: Ignoring response <403 https://www.gov.ie/en/publication/bfa92-budget-2021/>: HTTP status code is not handled or not allowed',\n",
       " '2025-03-02 14:42:12 [scrapy.spidermiddlewares.httperror] INFO: Ignoring response <403 https://www.gov.ie/en/publication/97397-enhancing-public-services-in-rural-areas/>: HTTP status code is not handled or not allowed',\n",
       " '2025-03-02 14:42:12 [scrapy.spidermiddlewares.httperror] INFO: Ignoring response <403 https://www.gov.ie/en/policy/ac9ee6-action-plan-for-rural-development/latest/?q=rural+development&sort_by=published_date&type=policy_information&type=general_publications&page=3>: HTTP status code is not handled or not allowed',\n",
       " '2025-03-02 14:42:13 [scrapy.spidermiddlewares.httperror] INFO: Ignoring response <403 https://www.gov.ie/en/publication/2da960-public-consultation-on-the-national-social-enterprise-policy-for-ire/>: HTTP status code is not handled or not allowed',\n",
       " '2025-03-02 14:42:13 [scrapy.spidermiddlewares.httperror] INFO: Ignoring response <403 https://www.gov.ie/en/publication/e32916-national-social-enterprise-policy-implementation-group-2019-2022/>: HTTP status code is not handled or not allowed',\n",
       " '2025-03-02 14:42:13 [scrapy.spidermiddlewares.httperror] INFO: Ignoring response <403 https://www.gov.ie/en/publication/58a0a9-you-your-community-and-covid-19/>: HTTP status code is not handled or not allowed',\n",
       " '2025-03-02 14:42:14 [scrapy.spidermiddlewares.httperror] INFO: Ignoring response <403 https://www.gov.ie/en/publication/2bd8ba-how-can-i-volunteer/>: HTTP status code is not handled or not allowed',\n",
       " '2025-03-02 14:42:14 [scrapy.spidermiddlewares.httperror] INFO: Ignoring response <403 https://www.gov.ie/en/publication/b1a7b9-covid-19-community-voluntary-charity-and-social-enterprise/>: HTTP status code is not handled or not allowed',\n",
       " '2025-03-02 14:42:14 [scrapy.spidermiddlewares.httperror] INFO: Ignoring response <403 https://www.gov.ie/en/publication/60d32b-the-departments-response-to-covid-19-and-the-community-call/>: HTTP status code is not handled or not allowed',\n",
       " '2025-03-02 14:42:14 [scrapy.spidermiddlewares.httperror] INFO: Ignoring response <403 https://www.gov.ie/en/publication/a2932-broadband-connection-points/>: HTTP status code is not handled or not allowed',\n",
       " '2025-03-02 14:42:14 [scrapy.spidermiddlewares.httperror] INFO: Ignoring response <403 https://www.gov.ie/en/publication/8d54d2-protected-disclosures/>: HTTP status code is not handled or not allowed',\n",
       " '2025-03-02 14:42:14 [scrapy.spidermiddlewares.httperror] INFO: Ignoring response <403 https://www.gov.ie/en/publication/29f06-enhancing-participation-leadership-and-resilience-in-rural-communities/>: HTTP status code is not handled or not allowed',\n",
       " '2025-03-02 14:42:15 [scrapy.spidermiddlewares.httperror] INFO: Ignoring response <403 https://www.gov.ie/en/publication/6c6a6-revitalising-rural-towns-and-villages/>: HTTP status code is not handled or not allowed',\n",
       " '2025-03-02 14:42:15 [scrapy.spidermiddlewares.httperror] INFO: Ignoring response <403 https://www.gov.ie/en/publication/eab2e-supporting-employment-and-careers-in-rural-areas/>: HTTP status code is not handled or not allowed',\n",
       " '2025-03-02 14:42:15 [scrapy.spidermiddlewares.httperror] INFO: Ignoring response <403 https://www.gov.ie/en/publication/4c236-our-rural-future-vision-and-policy-context/>: HTTP status code is not handled or not allowed',\n",
       " '2025-03-02 14:42:15 [scrapy.spidermiddlewares.httperror] INFO: Ignoring response <403 https://www.gov.ie/en/publication/f910d-rural-youth-assembly/>: HTTP status code is not handled or not allowed',\n",
       " '2025-03-02 14:42:15 [scrapy.spidermiddlewares.httperror] INFO: Ignoring response <403 https://www.gov.ie/en/policy/ac9ee6-action-plan-for-rural-development/latest/?q=resin%20extraction&sort_by=published_date&type=policy_information&type=general_publications>: HTTP status code is not handled or not allowed',\n",
       " '2025-03-02 14:42:15 [scrapy.spidermiddlewares.httperror] INFO: Ignoring response <403 https://www.gov.ie/en/policy/ac9ee6-action-plan-for-rural-development/latest/?q=reserve&sort_by=published_date&type=policy_information&type=general_publications>: HTTP status code is not handled or not allowed',\n",
       " '2025-03-02 14:42:15 [scrapy.spidermiddlewares.httperror] INFO: Ignoring response <403 https://www.gov.ie/en/policy/ac9ee6-action-plan-for-rural-development/latest/?q=rehabilitation&sort_by=published_date&type=policy_information&type=general_publications>: HTTP status code is not handled or not allowed',\n",
       " '2025-03-02 14:42:15 [scrapy.spidermiddlewares.httperror] INFO: Ignoring response <403 https://www.gov.ie/en/policy/ac9ee6-action-plan-for-rural-development/latest/?q=regeneration&sort_by=published_date&type=policy_information&type=general_publications>: HTTP status code is not handled or not allowed',\n",
       " '2025-03-02 14:42:16 [scrapy.spidermiddlewares.httperror] INFO: Ignoring response <403 https://www.gov.ie/en/policy/ac9ee6-action-plan-for-rural-development/latest/?q=reforestation&sort_by=published_date&type=policy_information&type=general_publications>: HTTP status code is not handled or not allowed',\n",
       " '2025-03-02 14:42:16 [scrapy.spidermiddlewares.httperror] INFO: Ignoring response <403 https://www.gov.ie/en/policy/ac9ee6-action-plan-for-rural-development/latest/?q=rangeland&sort_by=published_date&type=policy_information&type=general_publications>: HTTP status code is not handled or not allowed',\n",
       " '2025-03-02 14:42:16 [scrapy.spidermiddlewares.httperror] INFO: Ignoring response <403 https://www.gov.ie/en/policy/ac9ee6-action-plan-for-rural-development/latest/?q=rancher&sort_by=published_date&type=policy_information&type=general_publications>: HTTP status code is not handled or not allowed',\n",
       " '2025-03-02 14:42:16 [scrapy.spidermiddlewares.httperror] INFO: Ignoring response <403 https://www.gov.ie/en/policy/ac9ee6-action-plan-for-rural-development/latest/?q=protection&sort_by=published_date&type=policy_information&type=general_publications>: HTTP status code is not handled or not allowed',\n",
       " '2025-03-02 14:42:16 [scrapy.spidermiddlewares.httperror] INFO: Ignoring response <403 https://www.gov.ie/en/policy/ac9ee6-action-plan-for-rural-development/latest/?q=preservation&sort_by=published_date&type=policy_information&type=general_publications>: HTTP status code is not handled or not allowed',\n",
       " '2025-03-02 14:42:16 [scrapy.spidermiddlewares.httperror] INFO: Ignoring response <403 https://www.gov.ie/en/policy/ac9ee6-action-plan-for-rural-development/latest/?q=prairie&sort_by=published_date&type=policy_information&type=general_publications>: HTTP status code is not handled or not allowed',\n",
       " '2025-03-02 14:42:16 [scrapy.spidermiddlewares.httperror] INFO: Ignoring response <403 https://www.gov.ie/en/policy/ac9ee6-action-plan-for-rural-development/latest/?q=pollution&sort_by=published_date&type=policy_information&type=general_publications>: HTTP status code is not handled or not allowed',\n",
       " '2025-03-02 14:42:17 [scrapy.spidermiddlewares.httperror] INFO: Ignoring response <403 https://www.gov.ie/en/policy/ac9ee6-action-plan-for-rural-development/latest/?q=plants&sort_by=published_date&type=policy_information&type=general_publications>: HTTP status code is not handled or not allowed',\n",
       " '2025-03-02 14:42:17 [scrapy.spidermiddlewares.httperror] INFO: Ignoring response <403 https://www.gov.ie/en/policy/ac9ee6-action-plan-for-rural-development/latest/?q=plantation&sort_by=published_date&type=policy_information&type=general_publications>: HTTP status code is not handled or not allowed',\n",
       " '2025-03-02 14:42:17 [scrapy.spidermiddlewares.httperror] INFO: Ignoring response <403 https://www.gov.ie/en/policy/ac9ee6-action-plan-for-rural-development/latest/?q=plant%20nursery&sort_by=published_date&type=policy_information&type=general_publications>: HTTP status code is not handled or not allowed',\n",
       " '2025-03-02 14:42:17 [scrapy.spidermiddlewares.httperror] INFO: Ignoring response <403 https://www.gov.ie/en/policy/ac9ee6-action-plan-for-rural-development/latest/?q=plant%20exudates&sort_by=published_date&type=policy_information&type=general_publications>: HTTP status code is not handled or not allowed',\n",
       " '2025-03-02 14:42:17 [scrapy.spidermiddlewares.httperror] INFO: Ignoring response <403 https://www.gov.ie/en/policy/ac9ee6-action-plan-for-rural-development/latest/?q=plain&sort_by=published_date&type=policy_information&type=general_publications>: HTTP status code is not handled or not allowed',\n",
       " '2025-03-02 14:42:17 [scrapy.spidermiddlewares.httperror] INFO: Ignoring response <403 https://www.gov.ie/en/policy/ac9ee6-action-plan-for-rural-development/latest/?q=pit&sort_by=published_date&type=policy_information&type=general_publications>: HTTP status code is not handled or not allowed',\n",
       " '2025-03-02 14:42:18 [scrapy.spidermiddlewares.httperror] INFO: Ignoring response <403 https://www.gov.ie/en/policy/ac9ee6-action-plan-for-rural-development/latest/?q=pine%20resin&sort_by=published_date&type=policy_information&type=general_publications>: HTTP status code is not handled or not allowed',\n",
       " '2025-03-02 14:42:18 [scrapy.spidermiddlewares.httperror] INFO: Ignoring response <403 https://www.gov.ie/en/policy/ac9ee6-action-plan-for-rural-development/latest/?q=phytosanitary&sort_by=published_date&type=policy_information&type=general_publications>: HTTP status code is not handled or not allowed',\n",
       " '2025-03-02 14:42:18 [scrapy.spidermiddlewares.httperror] INFO: Ignoring response <403 https://www.gov.ie/en/policy/ac9ee6-action-plan-for-rural-development/latest/?q=peatland&sort_by=published_date&type=policy_information&type=general_publications>: HTTP status code is not handled or not allowed',\n",
       " '2025-03-02 14:42:18 [scrapy.spidermiddlewares.httperror] INFO: Ignoring response <403 https://www.gov.ie/en/policy/ac9ee6-action-plan-for-rural-development/latest/?q=pasture&sort_by=published_date&type=policy_information&type=general_publications>: HTTP status code is not handled or not allowed',\n",
       " '2025-03-02 14:42:18 [scrapy.spidermiddlewares.httperror] INFO: Ignoring response <403 https://www.gov.ie/en/policy/ac9ee6-action-plan-for-rural-development/latest/?q=overgrazing&sort_by=published_date&type=policy_information&type=general_publications>: HTTP status code is not handled or not allowed',\n",
       " '2025-03-02 14:42:19 [scrapy.spidermiddlewares.httperror] INFO: Ignoring response <403 https://www.gov.ie/en/policy/ac9ee6-action-plan-for-rural-development/latest/?q=over-grazing&sort_by=published_date&type=policy_information&type=general_publications>: HTTP status code is not handled or not allowed',\n",
       " '2025-03-02 14:42:19 [scrapy.spidermiddlewares.httperror] INFO: Ignoring response <403 https://www.gov.ie/en/policy/ac9ee6-action-plan-for-rural-development/latest/?q=over%20grazing&sort_by=published_date&type=policy_information&type=general_publications>: HTTP status code is not handled or not allowed',\n",
       " '2025-03-02 14:42:19 [scrapy.spidermiddlewares.httperror] INFO: Ignoring response <403 https://www.gov.ie/en/policy/ac9ee6-action-plan-for-rural-development/latest/?q=ore&sort_by=published_date&type=policy_information&type=general_publications>: HTTP status code is not handled or not allowed',\n",
       " '2025-03-02 14:42:19 [scrapy.spidermiddlewares.httperror] INFO: Ignoring response <403 https://www.gov.ie/en/policy/ac9ee6-action-plan-for-rural-development/latest/?q=nature%20reserve&sort_by=published_date&type=policy_information&type=general_publications>: HTTP status code is not handled or not allowed',\n",
       " '2025-03-02 14:42:19 [scrapy.spidermiddlewares.httperror] INFO: Ignoring response <403 https://www.gov.ie/en/policy/ac9ee6-action-plan-for-rural-development/latest/?q=natural%20rubber&sort_by=published_date&type=policy_information&type=general_publications>: HTTP status code is not handled or not allowed',\n",
       " '2025-03-02 14:42:19 [scrapy.spidermiddlewares.httperror] INFO: Ignoring response <403 https://www.gov.ie/en/policy/ac9ee6-action-plan-for-rural-development/latest/?q=natural%20resource&sort_by=published_date&type=policy_information&type=general_publications>: HTTP status code is not handled or not allowed',\n",
       " '2025-03-02 14:42:19 [scrapy.spidermiddlewares.httperror] INFO: Ignoring response <403 https://www.gov.ie/en/policy/ac9ee6-action-plan-for-rural-development/latest/?q=natural%20reserve&sort_by=published_date&type=policy_information&type=general_publications>: HTTP status code is not handled or not allowed',\n",
       " '2025-03-02 14:42:19 [scrapy.spidermiddlewares.httperror] INFO: Ignoring response <403 https://www.gov.ie/en/policy/ac9ee6-action-plan-for-rural-development/latest/?q=natural%20regeneration&sort_by=published_date&type=policy_information&type=general_publications>: HTTP status code is not handled or not allowed',\n",
       " '2025-03-02 14:42:19 [scrapy.spidermiddlewares.httperror] INFO: Ignoring response <403 https://www.gov.ie/en/policy/ac9ee6-action-plan-for-rural-development/latest/?q=natural%20park&sort_by=published_date&type=policy_information&type=general_publications>: HTTP status code is not handled or not allowed',\n",
       " '2025-03-02 14:42:19 [scrapy.spidermiddlewares.httperror] INFO: Ignoring response <403 https://www.gov.ie/en/policy/ac9ee6-action-plan-for-rural-development/latest/?q=natural%20oil&sort_by=published_date&type=policy_information&type=general_publications>: HTTP status code is not handled or not allowed',\n",
       " '2025-03-02 14:42:19 [scrapy.spidermiddlewares.httperror] INFO: Ignoring response <403 https://www.gov.ie/en/policy/ac9ee6-action-plan-for-rural-development/latest/?q=natural%20lacquer&sort_by=published_date&type=policy_information&type=general_publications>: HTTP status code is not handled or not allowed',\n",
       " '2025-03-02 14:42:20 [scrapy.spidermiddlewares.httperror] INFO: Ignoring response <403 https://www.gov.ie/en/policy/ac9ee6-action-plan-for-rural-development/latest/?q=natural%20heritage&sort_by=published_date&type=policy_information&type=general_publications>: HTTP status code is not handled or not allowed',\n",
       " '2025-03-02 14:42:20 [scrapy.spidermiddlewares.httperror] INFO: Ignoring response <403 https://www.gov.ie/en/policy/ac9ee6-action-plan-for-rural-development/latest/?q=natural%20habitat&sort_by=published_date&type=policy_information&type=general_publications>: HTTP status code is not handled or not allowed',\n",
       " '2025-03-02 14:42:20 [scrapy.spidermiddlewares.httperror] INFO: Ignoring response <403 https://www.gov.ie/en/policy/ac9ee6-action-plan-for-rural-development/latest/?q=natural%20good&sort_by=published_date&type=policy_information&type=general_publications>: HTTP status code is not handled or not allowed',\n",
       " '2025-03-02 14:42:20 [scrapy.spidermiddlewares.httperror] INFO: Ignoring response <403 https://www.gov.ie/en/policy/ac9ee6-action-plan-for-rural-development/latest/?q=natural%20fibre&sort_by=published_date&type=policy_information&type=general_publications>: HTTP status code is not handled or not allowed',\n",
       " '2025-03-02 14:42:20 [scrapy.spidermiddlewares.httperror] INFO: Ignoring response <403 https://www.gov.ie/en/policy/ac9ee6-action-plan-for-rural-development/latest/?q=natural%20fiber&sort_by=published_date&type=policy_information&type=general_publications>: HTTP status code is not handled or not allowed',\n",
       " '2025-03-02 14:42:20 [scrapy.spidermiddlewares.httperror] INFO: Ignoring response <403 https://www.gov.ie/en/policy/ac9ee6-action-plan-for-rural-development/latest/?q=national%20park&sort_by=published_date&type=policy_information&type=general_publications>: HTTP status code is not handled or not allowed',\n",
       " '2025-03-02 14:42:20 [scrapy.spidermiddlewares.httperror] INFO: Ignoring response <403 https://www.gov.ie/en/policy/ac9ee6-action-plan-for-rural-development/latest/?q=mining%20extraction&sort_by=published_date&type=policy_information&type=general_publications>: HTTP status code is not handled or not allowed',\n",
       " '2025-03-02 14:42:20 [scrapy.spidermiddlewares.httperror] INFO: Ignoring response <403 https://www.gov.ie/en/policy/ac9ee6-action-plan-for-rural-development/latest/?q=natural%20asset&sort_by=published_date&type=policy_information&type=general_publications>: HTTP status code is not handled or not allowed',\n",
       " '2025-03-02 14:42:20 [scrapy.spidermiddlewares.httperror] INFO: Ignoring response <403 https://www.gov.ie/en/policy/ac9ee6-action-plan-for-rural-development/latest/?q=mineral%20mining&sort_by=published_date&type=policy_information&type=general_publications>: HTTP status code is not handled or not allowed',\n",
       " '2025-03-02 14:42:20 [scrapy.spidermiddlewares.httperror] INFO: Ignoring response <403 https://www.gov.ie/en/policy/ac9ee6-action-plan-for-rural-development/latest/?q=mineral&sort_by=published_date&type=policy_information&type=general_publications>: HTTP status code is not handled or not allowed',\n",
       " '2025-03-02 14:42:20 [scrapy.spidermiddlewares.httperror] INFO: Ignoring response <403 https://www.gov.ie/en/policy/ac9ee6-action-plan-for-rural-development/latest/?q=mineral%20extraction&sort_by=published_date&type=policy_information&type=general_publications>: HTTP status code is not handled or not allowed',\n",
       " '2025-03-02 14:42:20 [scrapy.spidermiddlewares.httperror] INFO: Ignoring response <403 https://www.gov.ie/en/policy/ac9ee6-action-plan-for-rural-development/latest/?q=mine&sort_by=published_date&type=policy_information&type=general_publications>: HTTP status code is not handled or not allowed',\n",
       " '2025-03-02 14:42:20 [scrapy.spidermiddlewares.httperror] INFO: Ignoring response <403 https://www.gov.ie/en/policy/ac9ee6-action-plan-for-rural-development/latest/?q=miner&sort_by=published_date&type=policy_information&type=general_publications>: HTTP status code is not handled or not allowed',\n",
       " '2025-03-02 14:42:20 [scrapy.spidermiddlewares.httperror] INFO: Ignoring response <403 https://www.gov.ie/en/policy/ac9ee6-action-plan-for-rural-development/latest/?q=micro%20sprinkler&sort_by=published_date&type=policy_information&type=general_publications>: HTTP status code is not handled or not allowed',\n",
       " '2025-03-02 14:42:20 [scrapy.spidermiddlewares.httperror] INFO: Ignoring response <403 https://www.gov.ie/en/policy/ac9ee6-action-plan-for-rural-development/latest/?q=microsprinkler&sort_by=published_date&type=policy_information&type=general_publications>: HTTP status code is not handled or not allowed',\n",
       " '2025-03-02 14:42:20 [scrapy.spidermiddlewares.httperror] INFO: Ignoring response <403 https://www.gov.ie/en/policy/ac9ee6-action-plan-for-rural-development/latest/?q=marsh&sort_by=published_date&type=policy_information&type=general_publications>: HTTP status code is not handled or not allowed',\n",
       " '2025-03-02 14:42:20 [scrapy.spidermiddlewares.httperror] INFO: Ignoring response <403 https://www.gov.ie/en/policy/ac9ee6-action-plan-for-rural-development/latest/?q=meadow&sort_by=published_date&type=policy_information&type=general_publications>: HTTP status code is not handled or not allowed',\n",
       " '2025-03-02 14:42:20 [scrapy.spidermiddlewares.httperror] INFO: Ignoring response <403 https://www.gov.ie/en/policy/ac9ee6-action-plan-for-rural-development/latest/?q=manure&sort_by=published_date&type=policy_information&type=general_publications>: HTTP status code is not handled or not allowed',\n",
       " '2025-03-02 14:42:20 [scrapy.spidermiddlewares.httperror] INFO: Ignoring response <403 https://www.gov.ie/en/policy/ac9ee6-action-plan-for-rural-development/latest/?q=livestock&sort_by=published_date&type=policy_information&type=general_publications>: HTTP status code is not handled or not allowed',\n",
       " '2025-03-02 14:42:20 [scrapy.spidermiddlewares.httperror] INFO: Ignoring response <403 https://www.gov.ie/en/policy/ac9ee6-action-plan-for-rural-development/latest/?q=mangrove&sort_by=published_date&type=policy_information&type=general_publications>: HTTP status code is not handled or not allowed',\n",
       " '2025-03-02 14:42:20 [scrapy.spidermiddlewares.httperror] INFO: Ignoring response <403 https://www.gov.ie/en/policy/ac9ee6-action-plan-for-rural-development/latest/?q=life%20cycle&sort_by=published_date&type=policy_information&type=general_publications>: HTTP status code is not handled or not allowed',\n",
       " '2025-03-02 14:42:20 [scrapy.spidermiddlewares.httperror] INFO: Ignoring response <403 https://www.gov.ie/en/policy/ac9ee6-action-plan-for-rural-development/latest/?q=livestock%20industry&sort_by=published_date&type=policy_information&type=general_publications>: HTTP status code is not handled or not allowed',\n",
       " '2025-03-02 14:42:20 [scrapy.spidermiddlewares.httperror] INFO: Ignoring response <403 https://www.gov.ie/en/policy/ac9ee6-action-plan-for-rural-development/latest/?q=latex%20extraction&sort_by=published_date&type=policy_information&type=general_publications>: HTTP status code is not handled or not allowed',\n",
       " '2025-03-02 14:42:20 [scrapy.spidermiddlewares.httperror] INFO: Ignoring response <403 https://www.gov.ie/en/policy/ac9ee6-action-plan-for-rural-development/latest/?q=landowner&sort_by=published_date&type=policy_information&type=general_publications>: HTTP status code is not handled or not allowed',\n",
       " '2025-03-02 14:42:20 [scrapy.spidermiddlewares.httperror] INFO: Ignoring response <403 https://www.gov.ie/en/policy/ac9ee6-action-plan-for-rural-development/latest/?q=landscape&sort_by=published_date&type=policy_information&type=general_publications>: HTTP status code is not handled or not allowed',\n",
       " '2025-03-02 14:42:20 [scrapy.spidermiddlewares.httperror] INFO: Ignoring response <403 https://www.gov.ie/en/policy/ac9ee6-action-plan-for-rural-development/latest/?q=irrigation&sort_by=published_date&type=policy_information&type=general_publications>: HTTP status code is not handled or not allowed',\n",
       " '2025-03-02 14:42:20 [scrapy.spidermiddlewares.httperror] INFO: Ignoring response <403 https://www.gov.ie/en/policy/ac9ee6-action-plan-for-rural-development/latest/?q=land%20use&sort_by=published_date&type=policy_information&type=general_publications>: HTTP status code is not handled or not allowed',\n",
       " '2025-03-02 14:42:20 [scrapy.spidermiddlewares.httperror] INFO: Ignoring response <403 https://www.gov.ie/en/policy/ac9ee6-action-plan-for-rural-development/latest/?q=irrigation%20scheme&sort_by=published_date&type=policy_information&type=general_publications>: HTTP status code is not handled or not allowed',\n",
       " '2025-03-02 14:42:20 [scrapy.spidermiddlewares.httperror] INFO: Ignoring response <403 https://www.gov.ie/en/policy/ac9ee6-action-plan-for-rural-development/latest/?q=husbandry&sort_by=published_date&type=policy_information&type=general_publications>: HTTP status code is not handled or not allowed',\n",
       " '2025-03-02 14:42:20 [scrapy.spidermiddlewares.httperror] INFO: Ignoring response <403 https://www.gov.ie/en/policy/ac9ee6-action-plan-for-rural-development/latest/?q=hotbed&sort_by=published_date&type=policy_information&type=general_publications>: HTTP status code is not handled or not allowed',\n",
       " '2025-03-02 14:42:20 [scrapy.spidermiddlewares.httperror] INFO: Ignoring response <403 https://www.gov.ie/en/policy/ac9ee6-action-plan-for-rural-development/latest/?q=herd&sort_by=published_date&type=policy_information&type=general_publications>: HTTP status code is not handled or not allowed',\n",
       " '2025-03-02 14:42:20 [scrapy.spidermiddlewares.httperror] INFO: Ignoring response <403 https://www.gov.ie/en/policy/ac9ee6-action-plan-for-rural-development/latest/?q=illicit%20cultivation&sort_by=published_date&type=policy_information&type=general_publications>: HTTP status code is not handled or not allowed',\n",
       " '2025-03-02 14:42:21 [scrapy.spidermiddlewares.httperror] INFO: Ignoring response <403 https://www.gov.ie/en/policy/ac9ee6-action-plan-for-rural-development/latest/?q=green%20manure&sort_by=published_date&type=policy_information&type=general_publications>: HTTP status code is not handled or not allowed',\n",
       " '2025-03-02 14:42:21 [scrapy.spidermiddlewares.httperror] INFO: Ignoring response <403 https://www.gov.ie/en/policy/ac9ee6-action-plan-for-rural-development/latest/?q=grazing&sort_by=published_date&type=policy_information&type=general_publications>: HTTP status code is not handled or not allowed',\n",
       " '2025-03-02 14:42:21 [scrapy.spidermiddlewares.httperror] INFO: Ignoring response <403 https://www.gov.ie/en/policy/ac9ee6-action-plan-for-rural-development/latest/?q=hay&sort_by=published_date&type=policy_information&type=general_publications>: HTTP status code is not handled or not allowed',\n",
       " '2025-03-02 14:42:21 [scrapy.spidermiddlewares.httperror] INFO: Ignoring response <403 https://www.gov.ie/en/policy/ac9ee6-action-plan-for-rural-development/latest/?q=harvest&sort_by=published_date&type=policy_information&type=general_publications>: HTTP status code is not handled or not allowed',\n",
       " '2025-03-02 14:42:21 [scrapy.spidermiddlewares.httperror] INFO: Ignoring response <403 https://www.gov.ie/en/policy/ac9ee6-action-plan-for-rural-development/latest/?q=harvesting&sort_by=published_date&type=policy_information&type=general_publications>: HTTP status code is not handled or not allowed',\n",
       " '2025-03-02 14:42:21 [scrapy.spidermiddlewares.httperror] INFO: Ignoring response <403 https://www.gov.ie/en/policy/ac9ee6-action-plan-for-rural-development/latest/?q=grassland&sort_by=published_date&type=policy_information&type=general_publications>: HTTP status code is not handled or not allowed',\n",
       " '2025-03-02 14:42:21 [scrapy.spidermiddlewares.httperror] INFO: Ignoring response <403 https://www.gov.ie/en/policy/ac9ee6-action-plan-for-rural-development/latest/?q=germoplasm&sort_by=published_date&type=policy_information&type=general_publications>: HTTP status code is not handled or not allowed',\n",
       " '2025-03-02 14:42:21 [scrapy.spidermiddlewares.httperror] INFO: Ignoring response <403 https://www.gov.ie/en/policy/ac9ee6-action-plan-for-rural-development/latest/?q=germoplasm%20bank&sort_by=published_date&type=policy_information&type=general_publications>: HTTP status code is not handled or not allowed',\n",
       " '2025-03-02 14:42:21 [scrapy.spidermiddlewares.httperror] INFO: Ignoring response <403 https://www.gov.ie/en/policy/ac9ee6-action-plan-for-rural-development/latest/?q=geological&sort_by=published_date&type=policy_information&type=general_publications>: HTTP status code is not handled or not allowed',\n",
       " '2025-03-02 14:42:21 [scrapy.spidermiddlewares.httperror] INFO: Ignoring response <403 https://www.gov.ie/en/policy/ac9ee6-action-plan-for-rural-development/latest/?q=geologic&sort_by=published_date&type=policy_information&type=general_publications>: HTTP status code is not handled or not allowed',\n",
       " '2025-03-02 14:42:21 [scrapy.spidermiddlewares.httperror] INFO: Ignoring response <403 https://www.gov.ie/en/policy/ac9ee6-action-plan-for-rural-development/latest/?q=fuel%20wood&sort_by=published_date&type=policy_information&type=general_publications>: HTTP status code is not handled or not allowed',\n",
       " '2025-03-02 14:42:21 [scrapy.spidermiddlewares.httperror] INFO: Ignoring response <403 https://www.gov.ie/en/policy/ac9ee6-action-plan-for-rural-development/latest/?q=fuelwood&sort_by=published_date&type=policy_information&type=general_publications>: HTTP status code is not handled or not allowed',\n",
       " '2025-03-02 14:42:21 [scrapy.spidermiddlewares.httperror] INFO: Ignoring response <403 https://www.gov.ie/en/policy/ac9ee6-action-plan-for-rural-development/latest/?q=fungicidal&sort_by=published_date&type=policy_information&type=general_publications>: HTTP status code is not handled or not allowed',\n",
       " '2025-03-02 14:42:21 [scrapy.spidermiddlewares.httperror] INFO: Ignoring response <403 https://www.gov.ie/en/policy/ac9ee6-action-plan-for-rural-development/latest/?q=fungicide&sort_by=published_date&type=policy_information&type=general_publications>: HTTP status code is not handled or not allowed',\n",
       " '2025-03-02 14:42:21 [scrapy.spidermiddlewares.httperror] INFO: Ignoring response <403 https://www.gov.ie/en/policy/ac9ee6-action-plan-for-rural-development/latest/?q=freshwater&sort_by=published_date&type=policy_information&type=general_publications>: HTTP status code is not handled or not allowed',\n",
       " '2025-03-02 14:42:21 [scrapy.spidermiddlewares.httperror] INFO: Ignoring response <403 https://www.gov.ie/en/policy/ac9ee6-action-plan-for-rural-development/latest/?q=forest&sort_by=published_date&type=policy_information&type=general_publications>: HTTP status code is not handled or not allowed',\n",
       " '2025-03-02 14:42:21 [scrapy.spidermiddlewares.httperror] INFO: Ignoring response <403 https://www.gov.ie/en/policy/ac9ee6-action-plan-for-rural-development/latest/?q=forestry&sort_by=published_date&type=policy_information&type=general_publications>: HTTP status code is not handled or not allowed',\n",
       " '2025-03-02 14:42:21 [scrapy.spidermiddlewares.httperror] INFO: Ignoring response <403 https://www.gov.ie/en/policy/ac9ee6-action-plan-for-rural-development/latest/?q=forest%20plantation&sort_by=published_date&type=policy_information&type=general_publications>: HTTP status code is not handled or not allowed',\n",
       " '2025-03-02 14:42:21 [scrapy.spidermiddlewares.httperror] INFO: Ignoring response <403 https://www.gov.ie/en/policy/ac9ee6-action-plan-for-rural-development/latest/?q=forestry%20nursery&sort_by=published_date&type=policy_information&type=general_publications>: HTTP status code is not handled or not allowed',\n",
       " '2025-03-02 14:42:21 [scrapy.spidermiddlewares.httperror] INFO: Ignoring response <403 https://www.gov.ie/en/policy/ac9ee6-action-plan-for-rural-development/latest/?q=forestation&sort_by=published_date&type=policy_information&type=general_publications>: HTTP status code is not handled or not allowed',\n",
       " '2025-03-02 14:42:21 [scrapy.spidermiddlewares.httperror] INFO: Ignoring response <403 https://www.gov.ie/en/policy/ac9ee6-action-plan-for-rural-development/latest/?q=forestland&sort_by=published_date&type=policy_information&type=general_publications>: HTTP status code is not handled or not allowed',\n",
       " '2025-03-02 14:42:21 [scrapy.spidermiddlewares.httperror] INFO: Ignoring response <403 https://www.gov.ie/en/policy/ac9ee6-action-plan-for-rural-development/latest/?q=peat&sort_by=published_date&type=policy_information&type=general_publications>: HTTP status code is not handled or not allowed',\n",
       " '2025-03-02 14:42:21 [scrapy.spidermiddlewares.httperror] INFO: Ignoring response <403 https://www.gov.ie/en/policy/ac9ee6-action-plan-for-rural-development/latest/?q=forage&sort_by=published_date&type=policy_information&type=general_publications>: HTTP status code is not handled or not allowed',\n",
       " '2025-03-02 14:42:21 [scrapy.spidermiddlewares.httperror] INFO: Ignoring response <403 https://www.gov.ie/en/policy/ac9ee6-action-plan-for-rural-development/latest/?q=fodder&sort_by=published_date&type=policy_information&type=general_publications>: HTTP status code is not handled or not allowed',\n",
       " '2025-03-02 14:42:21 [scrapy.spidermiddlewares.httperror] INFO: Ignoring response <403 https://www.gov.ie/en/policy/ac9ee6-action-plan-for-rural-development/latest/?q=food%20sector&sort_by=published_date&type=policy_information&type=general_publications>: HTTP status code is not handled or not allowed',\n",
       " '2025-03-02 14:42:21 [scrapy.spidermiddlewares.httperror] INFO: Ignoring response <403 https://www.gov.ie/en/policy/ac9ee6-action-plan-for-rural-development/latest/?q=food%20industry&sort_by=published_date&type=policy_information&type=general_publications>: HTTP status code is not handled or not allowed',\n",
       " '2025-03-02 14:42:21 [scrapy.spidermiddlewares.httperror] INFO: Ignoring response <403 https://www.gov.ie/en/policy/ac9ee6-action-plan-for-rural-development/latest/?q=food%20business&sort_by=published_date&type=policy_information&type=general_publications>: HTTP status code is not handled or not allowed',\n",
       " '2025-03-02 14:42:21 [scrapy.spidermiddlewares.httperror] INFO: Ignoring response <403 https://www.gov.ie/en/policy/ac9ee6-action-plan-for-rural-development/latest/?q=flora&sort_by=published_date&type=policy_information&type=general_publications>: HTTP status code is not handled or not allowed',\n",
       " '2025-03-02 14:42:21 [scrapy.spidermiddlewares.httperror] INFO: Ignoring response <403 https://www.gov.ie/en/policy/ac9ee6-action-plan-for-rural-development/latest/?q=floodplain&sort_by=published_date&type=policy_information&type=general_publications>: HTTP status code is not handled or not allowed',\n",
       " '2025-03-02 14:42:21 [scrapy.spidermiddlewares.httperror] INFO: Ignoring response <403 https://www.gov.ie/en/policy/ac9ee6-action-plan-for-rural-development/latest/?q=flock&sort_by=published_date&type=policy_information&type=general_publications>: HTTP status code is not handled or not allowed',\n",
       " '2025-03-02 14:42:21 [scrapy.spidermiddlewares.httperror] INFO: Ignoring response <403 https://www.gov.ie/en/policy/ac9ee6-action-plan-for-rural-development/latest/?q=fertigation&sort_by=published_date&type=policy_information&type=general_publications>: HTTP status code is not handled or not allowed',\n",
       " '2025-03-02 14:42:21 [scrapy.spidermiddlewares.httperror] INFO: Ignoring response <403 https://www.gov.ie/en/policy/ac9ee6-action-plan-for-rural-development/latest/?q=firewood&sort_by=published_date&type=policy_information&type=general_publications>: HTTP status code is not handled or not allowed',\n",
       " '2025-03-02 14:42:21 [scrapy.spidermiddlewares.httperror] INFO: Ignoring response <403 https://www.gov.ie/en/policy/ac9ee6-action-plan-for-rural-development/latest/?q=felling&sort_by=published_date&type=policy_information&type=general_publications>: HTTP status code is not handled or not allowed',\n",
       " '2025-03-02 14:42:21 [scrapy.spidermiddlewares.httperror] INFO: Ignoring response <403 https://www.gov.ie/en/policy/ac9ee6-action-plan-for-rural-development/latest/?q=fertilizer&sort_by=published_date&type=policy_information&type=general_publications>: HTTP status code is not handled or not allowed',\n",
       " '2025-03-02 14:42:21 [scrapy.spidermiddlewares.httperror] INFO: Ignoring response <403 https://www.gov.ie/en/policy/ac9ee6-action-plan-for-rural-development/latest/?q=fertilization&sort_by=published_date&type=policy_information&type=general_publications>: HTTP status code is not handled or not allowed',\n",
       " '2025-03-02 14:42:21 [scrapy.spidermiddlewares.httperror] INFO: Ignoring response <403 https://www.gov.ie/en/policy/ac9ee6-action-plan-for-rural-development/latest/?q=fauna&sort_by=published_date&type=policy_information&type=general_publications>: HTTP status code is not handled or not allowed',\n",
       " '2025-03-02 14:42:21 [scrapy.spidermiddlewares.httperror] INFO: Ignoring response <403 https://www.gov.ie/en/policy/ac9ee6-action-plan-for-rural-development/latest/?q=environmental%20conservation&sort_by=published_date&type=policy_information&type=general_publications>: HTTP status code is not handled or not allowed',\n",
       " '2025-03-02 14:42:21 [scrapy.spidermiddlewares.httperror] INFO: Ignoring response <403 https://www.gov.ie/en/policy/ac9ee6-action-plan-for-rural-development/latest/?q=farming&sort_by=published_date&type=policy_information&type=general_publications>: HTTP status code is not handled or not allowed',\n",
       " '2025-03-02 14:42:21 [scrapy.spidermiddlewares.httperror] INFO: Ignoring response <403 https://www.gov.ie/en/policy/ac9ee6-action-plan-for-rural-development/latest/?q=extraction%20of%20latex&sort_by=published_date&type=policy_information&type=general_publications>: HTTP status code is not handled or not allowed',\n",
       " '2025-03-02 14:42:21 [scrapy.spidermiddlewares.httperror] INFO: Ignoring response <403 https://www.gov.ie/en/policy/ac9ee6-action-plan-for-rural-development/latest/?q=farm&sort_by=published_date&type=policy_information&type=general_publications>: HTTP status code is not handled or not allowed',\n",
       " '2025-03-02 14:42:21 [scrapy.spidermiddlewares.httperror] INFO: Ignoring response <403 https://www.gov.ie/en/policy/ac9ee6-action-plan-for-rural-development/latest/?q=farmer&sort_by=published_date&type=policy_information&type=general_publications>: HTTP status code is not handled or not allowed',\n",
       " '2025-03-02 14:42:21 [scrapy.spidermiddlewares.httperror] INFO: Ignoring response <403 https://www.gov.ie/en/policy/ac9ee6-action-plan-for-rural-development/latest/?q=environmental&sort_by=published_date&type=policy_information&type=general_publications>: HTTP status code is not handled or not allowed',\n",
       " '2025-03-02 14:42:21 [scrapy.spidermiddlewares.httperror] INFO: Ignoring response <403 https://www.gov.ie/en/policy/ac9ee6-action-plan-for-rural-development/latest/?q=endangered%20species&sort_by=published_date&type=policy_information&type=general_publications>: HTTP status code is not handled or not allowed',\n",
       " '2025-03-02 14:42:21 [scrapy.spidermiddlewares.httperror] INFO: Ignoring response <403 https://www.gov.ie/en/policy/ac9ee6-action-plan-for-rural-development/latest/?q=desert&sort_by=published_date&type=policy_information&type=general_publications>: HTTP status code is not handled or not allowed',\n",
       " '2025-03-02 14:42:21 [scrapy.spidermiddlewares.httperror] INFO: Ignoring response <403 https://www.gov.ie/en/policy/ac9ee6-action-plan-for-rural-development/latest/?q=degraded%20land&sort_by=published_date&type=policy_information&type=general_publications>: HTTP status code is not handled or not allowed',\n",
       " '2025-03-02 14:42:22 [scrapy.spidermiddlewares.httperror] INFO: Ignoring response <403 https://www.gov.ie/en/policy/ac9ee6-action-plan-for-rural-development/latest/?q=deforestation&sort_by=published_date&type=policy_information&type=general_publications>: HTTP status code is not handled or not allowed',\n",
       " '2025-03-02 14:42:22 [scrapy.spidermiddlewares.httperror] INFO: Ignoring response <403 https://www.gov.ie/en/policy/ac9ee6-action-plan-for-rural-development/latest/?q=danger%20of%20extinction&sort_by=published_date&type=policy_information&type=general_publications>: HTTP status code is not handled or not allowed',\n",
       " '2025-03-02 14:42:22 [scrapy.spidermiddlewares.httperror] INFO: Ignoring response <403 https://www.gov.ie/en/policy/ac9ee6-action-plan-for-rural-development/latest/?q=cultivation&sort_by=published_date&type=policy_information&type=general_publications>: HTTP status code is not handled or not allowed',\n",
       " '2025-03-02 14:42:22 [scrapy.spidermiddlewares.httperror] INFO: Ignoring response <403 https://www.gov.ie/en/policy/ac9ee6-action-plan-for-rural-development/latest/?q=cutting&sort_by=published_date&type=policy_information&type=general_publications>: HTTP status code is not handled or not allowed',\n",
       " '2025-03-02 14:42:22 [scrapy.spidermiddlewares.httperror] INFO: Ignoring response <403 https://www.gov.ie/en/policy/ac9ee6-action-plan-for-rural-development/latest/?q=crop&sort_by=published_date&type=policy_information&type=general_publications>: HTTP status code is not handled or not allowed',\n",
       " '2025-03-02 14:42:22 [scrapy.spidermiddlewares.httperror] INFO: Ignoring response <403 https://www.gov.ie/en/policy/ac9ee6-action-plan-for-rural-development/latest/?q=cultivate&sort_by=published_date&type=policy_information&type=general_publications>: HTTP status code is not handled or not allowed',\n",
       " '2025-03-02 14:42:22 [scrapy.spidermiddlewares.httperror] INFO: Ignoring response <403 https://www.gov.ie/en/policy/ac9ee6-action-plan-for-rural-development/latest/?q=cropland&sort_by=published_date&type=policy_information&type=general_publications>: HTTP status code is not handled or not allowed',\n",
       " '2025-03-02 14:42:22 [scrapy.spidermiddlewares.httperror] INFO: Ignoring response <403 https://www.gov.ie/en/policy/ac9ee6-action-plan-for-rural-development/latest/?q=climatic%20change&sort_by=published_date&type=policy_information&type=general_publications>: HTTP status code is not handled or not allowed',\n",
       " '2025-03-02 14:42:22 [scrapy.spidermiddlewares.httperror] INFO: Ignoring response <403 https://www.gov.ie/en/policy/ac9ee6-action-plan-for-rural-development/latest/?q=country%20planning&sort_by=published_date&type=policy_information&type=general_publications>: HTTP status code is not handled or not allowed',\n",
       " '2025-03-02 14:42:22 [scrapy.spidermiddlewares.httperror] INFO: Ignoring response <403 https://www.gov.ie/en/policy/ac9ee6-action-plan-for-rural-development/latest/?q=contamination&sort_by=published_date&type=policy_information&type=general_publications>: HTTP status code is not handled or not allowed',\n",
       " '2025-03-02 14:42:22 [scrapy.spidermiddlewares.httperror] INFO: Ignoring response <403 https://www.gov.ie/en/policy/ac9ee6-action-plan-for-rural-development/latest/?q=corridor&sort_by=published_date&type=policy_information&type=general_publications>: HTTP status code is not handled or not allowed',\n",
       " '2025-03-02 14:42:22 [scrapy.spidermiddlewares.httperror] INFO: Ignoring response <403 https://www.gov.ie/en/policy/ac9ee6-action-plan-for-rural-development/latest/?q=bush&sort_by=published_date&type=policy_information&type=general_publications>: HTTP status code is not handled or not allowed',\n",
       " '2025-03-02 14:42:22 [scrapy.spidermiddlewares.httperror] INFO: Ignoring response <403 https://www.gov.ie/en/policy/ac9ee6-action-plan-for-rural-development/latest/?q=compost&sort_by=published_date&type=policy_information&type=general_publications>: HTTP status code is not handled or not allowed',\n",
       " '2025-03-02 14:42:22 [scrapy.spidermiddlewares.httperror] INFO: Ignoring response <403 https://www.gov.ie/en/policy/ac9ee6-action-plan-for-rural-development/latest/?q=clearcutting&sort_by=published_date&type=policy_information&type=general_publications>: HTTP status code is not handled or not allowed',\n",
       " '2025-03-02 14:42:22 [scrapy.spidermiddlewares.httperror] INFO: Ignoring response <403 https://www.gov.ie/en/policy/ac9ee6-action-plan-for-rural-development/latest/?q=buffer&sort_by=published_date&type=policy_information&type=general_publications>: HTTP status code is not handled or not allowed',\n",
       " '2025-03-02 14:42:22 [scrapy.spidermiddlewares.httperror] INFO: Ignoring response <403 https://www.gov.ie/en/policy/ac9ee6-action-plan-for-rural-development/latest/?q=breeding&sort_by=published_date&type=policy_information&type=general_publications>: HTTP status code is not handled or not allowed',\n",
       " '2025-03-02 14:42:22 [scrapy.spidermiddlewares.httperror] INFO: Ignoring response <403 https://www.gov.ie/en/policy/ac9ee6-action-plan-for-rural-development/latest/?q=breeding%20ground&sort_by=published_date&type=policy_information&type=general_publications>: HTTP status code is not handled or not allowed',\n",
       " '2025-03-02 14:42:22 [scrapy.spidermiddlewares.httperror] INFO: Ignoring response <403 https://www.gov.ie/en/policy/ac9ee6-action-plan-for-rural-development/latest/?q=bog&sort_by=published_date&type=policy_information&type=general_publications>: HTTP status code is not handled or not allowed',\n",
       " '2025-03-02 14:42:22 [scrapy.spidermiddlewares.httperror] INFO: Ignoring response <403 https://www.gov.ie/en/policy/ac9ee6-action-plan-for-rural-development/latest/?q=breeder&sort_by=published_date&type=policy_information&type=general_publications>: HTTP status code is not handled or not allowed',\n",
       " '2025-03-02 14:42:22 [scrapy.spidermiddlewares.httperror] INFO: Ignoring response <403 https://www.gov.ie/en/policy/ac9ee6-action-plan-for-rural-development/latest/?q=biofuel&sort_by=published_date&type=policy_information&type=general_publications>: HTTP status code is not handled or not allowed',\n",
       " '2025-03-02 14:42:22 [scrapy.spidermiddlewares.httperror] INFO: Ignoring response <403 https://www.gov.ie/en/policy/ac9ee6-action-plan-for-rural-development/latest/?q=breed&sort_by=published_date&type=policy_information&type=general_publications>: HTTP status code is not handled or not allowed',\n",
       " '2025-03-02 14:42:22 [scrapy.spidermiddlewares.httperror] INFO: Ignoring response <403 https://www.gov.ie/en/policy/ac9ee6-action-plan-for-rural-development/latest/?q=biodiversity&sort_by=published_date&type=policy_information&type=general_publications>: HTTP status code is not handled or not allowed',\n",
       " '2025-03-02 14:42:22 [scrapy.spidermiddlewares.httperror] INFO: Ignoring response <403 https://www.gov.ie/en/policy/ac9ee6-action-plan-for-rural-development/latest/?q=agroforestry&sort_by=published_date&type=policy_information&type=general_publications>: HTTP status code is not handled or not allowed',\n",
       " '2025-03-02 14:42:22 [scrapy.spidermiddlewares.httperror] INFO: Ignoring response <403 https://www.gov.ie/en/policy/ac9ee6-action-plan-for-rural-development/latest/?q=bamboo&sort_by=published_date&type=policy_information&type=general_publications>: HTTP status code is not handled or not allowed',\n",
       " '2025-03-02 14:42:22 [scrapy.spidermiddlewares.httperror] INFO: Ignoring response <403 https://www.gov.ie/en/policy/ac9ee6-action-plan-for-rural-development/latest/?q=agroindustrial&sort_by=published_date&type=policy_information&type=general_publications>: HTTP status code is not handled or not allowed',\n",
       " '2025-03-02 14:42:22 [scrapy.spidermiddlewares.httperror] INFO: Ignoring response <403 https://www.gov.ie/en/policy/ac9ee6-action-plan-for-rural-development/latest/?q=agro-reforestation&sort_by=published_date&type=policy_information&type=general_publications>: HTTP status code is not handled or not allowed',\n",
       " '2025-03-02 14:42:22 [scrapy.spidermiddlewares.httperror] INFO: Ignoring response <403 https://www.gov.ie/en/policy/ac9ee6-action-plan-for-rural-development/latest/?q=assisted%20regeneration&sort_by=published_date&type=policy_information&type=general_publications>: HTTP status code is not handled or not allowed',\n",
       " '2025-03-02 14:42:22 [scrapy.spidermiddlewares.httperror] INFO: Ignoring response <403 https://www.gov.ie/en/policy/ac9ee6-action-plan-for-rural-development/latest/?q=agroindustry&sort_by=published_date&type=policy_information&type=general_publications>: HTTP status code is not handled or not allowed',\n",
       " '2025-03-02 14:42:22 [scrapy.spidermiddlewares.httperror] INFO: Ignoring response <403 https://www.gov.ie/en/policy/ac9ee6-action-plan-for-rural-development/latest/?q=agriculture&sort_by=published_date&type=policy_information&type=general_publications>: HTTP status code is not handled or not allowed',\n",
       " '2025-03-02 14:42:22 [scrapy.spidermiddlewares.httperror] INFO: Ignoring response <403 https://www.gov.ie/en/policy/ac9ee6-action-plan-for-rural-development/latest/?q=agricultural%20industry&sort_by=published_date&type=policy_information&type=general_publications>: HTTP status code is not handled or not allowed',\n",
       " '2025-03-02 14:42:22 [scrapy.spidermiddlewares.httperror] INFO: Ignoring response <403 https://www.gov.ie/en/policy/ac9ee6-action-plan-for-rural-development/latest/?q=agricultural%20land&sort_by=published_date&type=policy_information&type=general_publications>: HTTP status code is not handled or not allowed',\n",
       " '2025-03-02 14:42:22 [scrapy.spidermiddlewares.httperror] INFO: Ignoring response <403 https://www.gov.ie/en/policy/ac9ee6-action-plan-for-rural-development/latest/?q=agribusiness&sort_by=published_date&type=policy_information&type=general_publications>: HTTP status code is not handled or not allowed',\n",
       " '2025-03-02 14:42:22 [scrapy.spidermiddlewares.httperror] INFO: Ignoring response <403 https://www.gov.ie/en/policy/ac9ee6-action-plan-for-rural-development/latest/?q=agro-industry&sort_by=published_date&type=policy_information&type=general_publications>: HTTP status code is not handled or not allowed',\n",
       " '2025-03-02 14:42:22 [scrapy.spidermiddlewares.httperror] INFO: Ignoring response <403 https://www.gov.ie/en/policy/ac9ee6-action-plan-for-rural-development/latest/?q=afforestation&sort_by=published_date&type=policy_information&type=general_publications>: HTTP status code is not handled or not allowed',\n",
       " '2025-03-02 14:42:22 [scrapy.spidermiddlewares.httperror] INFO: Ignoring response <403 https://www.gov.ie/en/policy/39e5f9-natural-resources/latest/?q=woodland&sort_by=published_date&type=policy_information&type=general_publications>: HTTP status code is not handled or not allowed',\n",
       " '2025-03-02 14:42:22 [scrapy.spidermiddlewares.httperror] INFO: Ignoring response <403 https://www.gov.ie/en/policy/39e5f9-natural-resources/latest/?q=wood%20extraction&sort_by=published_date&type=policy_information&type=general_publications>: HTTP status code is not handled or not allowed',\n",
       " '2025-03-02 14:42:22 [scrapy.spidermiddlewares.httperror] INFO: Ignoring response <403 https://www.gov.ie/en/policy/39e5f9-natural-resources/latest/?q=watering&sort_by=published_date&type=policy_information&type=general_publications>: HTTP status code is not handled or not allowed',\n",
       " '2025-03-02 14:42:22 [scrapy.spidermiddlewares.httperror] INFO: Ignoring response <403 https://www.gov.ie/en/policy/39e5f9-natural-resources/latest/?q=vegetated&sort_by=published_date&type=policy_information&type=general_publications>: HTTP status code is not handled or not allowed',\n",
       " '2025-03-02 14:42:22 [scrapy.spidermiddlewares.httperror] INFO: Ignoring response <403 https://www.gov.ie/en/policy/39e5f9-natural-resources/latest/?q=wetland&sort_by=published_date&type=policy_information&type=general_publications>: HTTP status code is not handled or not allowed',\n",
       " '2025-03-02 14:42:22 [scrapy.spidermiddlewares.httperror] INFO: Ignoring response <403 https://www.gov.ie/en/policy/39e5f9-natural-resources/latest/?q=wildlife&sort_by=published_date&type=policy_information&type=general_publications>: HTTP status code is not handled or not allowed',\n",
       " '2025-03-02 14:42:22 [scrapy.spidermiddlewares.httperror] INFO: Ignoring response <403 https://www.gov.ie/en/policy/39e5f9-natural-resources/latest/?q=wood&sort_by=published_date&type=policy_information&type=general_publications>: HTTP status code is not handled or not allowed',\n",
       " '2025-03-02 14:42:22 [scrapy.spidermiddlewares.httperror] INFO: Ignoring response <403 https://www.gov.ie/en/policy/39e5f9-natural-resources/latest/?q=watershed&sort_by=published_date&type=policy_information&type=general_publications>: HTTP status code is not handled or not allowed',\n",
       " '2025-03-02 14:42:22 [scrapy.spidermiddlewares.httperror] INFO: Ignoring response <403 https://www.gov.ie/en/policy/39e5f9-natural-resources/latest/?q=trickle%20irrigation&sort_by=published_date&type=policy_information&type=general_publications>: HTTP status code is not handled or not allowed',\n",
       " '2025-03-02 14:42:22 [scrapy.spidermiddlewares.httperror] INFO: Ignoring response <403 https://www.gov.ie/en/policy/39e5f9-natural-resources/latest/?q=vegetal&sort_by=published_date&type=policy_information&type=general_publications>: HTTP status code is not handled or not allowed',\n",
       " '2025-03-02 14:42:22 [scrapy.spidermiddlewares.httperror] INFO: Ignoring response <403 https://www.gov.ie/en/policy/39e5f9-natural-resources/latest/?q=vegetable&sort_by=published_date&type=policy_information&type=general_publications>: HTTP status code is not handled or not allowed',\n",
       " '2025-03-02 14:42:22 [scrapy.spidermiddlewares.httperror] INFO: Ignoring response <403 https://www.gov.ie/en/policy/39e5f9-natural-resources/latest/?q=tree%20nursery&sort_by=published_date&type=policy_information&type=general_publications>: HTTP status code is not handled or not allowed',\n",
       " '2025-03-02 14:42:22 [scrapy.spidermiddlewares.httperror] INFO: Ignoring response <403 https://www.gov.ie/en/policy/39e5f9-natural-resources/latest/?q=timber&sort_by=published_date&type=policy_information&type=general_publications>: HTTP status code is not handled or not allowed',\n",
       " '2025-03-02 14:42:22 [scrapy.spidermiddlewares.httperror] INFO: Ignoring response <403 https://www.gov.ie/en/policy/39e5f9-natural-resources/latest/?q=tree%20cover&sort_by=published_date&type=policy_information&type=general_publications>: HTTP status code is not handled or not allowed',\n",
       " '2025-03-02 14:42:22 [scrapy.spidermiddlewares.httperror] INFO: Ignoring response <403 https://www.gov.ie/en/policy/39e5f9-natural-resources/latest/?q=tree&sort_by=published_date&type=policy_information&type=general_publications>: HTTP status code is not handled or not allowed',\n",
       " '2025-03-02 14:42:22 [scrapy.spidermiddlewares.httperror] INFO: Ignoring response <403 https://www.gov.ie/en/policy/39e5f9-natural-resources/latest/?q=timber%20species&sort_by=published_date&type=policy_information&type=general_publications>: HTTP status code is not handled or not allowed',\n",
       " '2025-03-02 14:42:22 [scrapy.spidermiddlewares.httperror] INFO: Ignoring response <403 https://www.gov.ie/en/policy/39e5f9-natural-resources/latest/?q=timber%20extraction&sort_by=published_date&type=policy_information&type=general_publications>: HTTP status code is not handled or not allowed',\n",
       " '2025-03-02 14:42:22 [scrapy.spidermiddlewares.httperror] INFO: Ignoring response <403 https://www.gov.ie/en/policy/39e5f9-natural-resources/latest/?q=system%20of%20irrigation&sort_by=published_date&type=policy_information&type=general_publications>: HTTP status code is not handled or not allowed',\n",
       " '2025-03-02 14:42:22 [scrapy.spidermiddlewares.httperror] INFO: Ignoring response <403 https://www.gov.ie/en/policy/39e5f9-natural-resources/latest/?q=sustainable%20development&sort_by=published_date&type=policy_information&type=general_publications>: HTTP status code is not handled or not allowed',\n",
       " '2025-03-02 14:42:22 [scrapy.spidermiddlewares.httperror] INFO: Ignoring response <403 https://www.gov.ie/en/policy/39e5f9-natural-resources/latest/?q=sprinkler%20irrigation&sort_by=published_date&type=policy_information&type=general_publications>: HTTP status code is not handled or not allowed',\n",
       " '2025-03-02 14:42:22 [scrapy.spidermiddlewares.httperror] INFO: Ignoring response <403 https://www.gov.ie/en/policy/39e5f9-natural-resources/latest/?q=sprinkle%20irrigation&sort_by=published_date&type=policy_information&type=general_publications>: HTTP status code is not handled or not allowed',\n",
       " '2025-03-02 14:42:22 [scrapy.spidermiddlewares.httperror] INFO: Ignoring response <403 https://www.gov.ie/en/policy/39e5f9-natural-resources/latest/?q=stewardship&sort_by=published_date&type=policy_information&type=general_publications>: HTTP status code is not handled or not allowed',\n",
       " '2025-03-02 14:42:22 [scrapy.spidermiddlewares.httperror] INFO: Ignoring response <403 https://www.gov.ie/en/policy/39e5f9-natural-resources/latest/?q=sprinkling&sort_by=published_date&type=policy_information&type=general_publications>: HTTP status code is not handled or not allowed',\n",
       " '2025-03-02 14:42:22 [scrapy.spidermiddlewares.httperror] INFO: Ignoring response <403 https://www.gov.ie/en/policy/39e5f9-natural-resources/latest/?q=swamp&sort_by=published_date&type=policy_information&type=general_publications>: HTTP status code is not handled or not allowed',\n",
       " '2025-03-02 14:42:22 [scrapy.spidermiddlewares.httperror] INFO: Ignoring response <403 https://www.gov.ie/en/policy/39e5f9-natural-resources/latest/?q=sustainable%20production&sort_by=published_date&type=policy_information&type=general_publications>: HTTP status code is not handled or not allowed',\n",
       " '2025-03-02 14:42:23 [scrapy.spidermiddlewares.httperror] INFO: Ignoring response <403 https://www.gov.ie/en/policy/39e5f9-natural-resources/latest/?q=spray%20irrigation&sort_by=published_date&type=policy_information&type=general_publications>: HTTP status code is not handled or not allowed',\n",
       " '2025-03-02 14:42:23 [scrapy.spidermiddlewares.httperror] INFO: Ignoring response <403 https://www.gov.ie/en/policy/39e5f9-natural-resources/latest/?q=shrub&sort_by=published_date&type=policy_information&type=general_publications>: HTTP status code is not handled or not allowed',\n",
       " '2025-03-02 14:42:23 [scrapy.spidermiddlewares.httperror] INFO: Ignoring response <403 https://www.gov.ie/en/policy/39e5f9-natural-resources/latest/?q=soil&sort_by=published_date&type=policy_information&type=general_publications>: HTTP status code is not handled or not allowed',\n",
       " '2025-03-02 14:42:23 [scrapy.spidermiddlewares.httperror] INFO: Ignoring response <403 https://www.gov.ie/en/policy/39e5f9-natural-resources/latest/?q=silvopasture&sort_by=published_date&type=policy_information&type=general_publications>: HTTP status code is not handled or not allowed',\n",
       " '2025-03-02 14:42:23 [scrapy.spidermiddlewares.httperror] INFO: Ignoring response <403 https://www.gov.ie/en/policy/39e5f9-natural-resources/latest/?q=silviculture&sort_by=published_date&type=policy_information&type=general_publications>: HTTP status code is not handled or not allowed',\n",
       " '2025-03-02 14:42:23 [scrapy.spidermiddlewares.httperror] INFO: Ignoring response <403 https://www.gov.ie/en/policy/39e5f9-natural-resources/latest/?q=selective%20cutting&sort_by=published_date&type=policy_information&type=general_publications>: HTTP status code is not handled or not allowed',\n",
       " '2025-03-02 14:42:23 [scrapy.spidermiddlewares.httperror] INFO: Ignoring response <403 https://www.gov.ie/en/policy/39e5f9-natural-resources/latest/?q=shrubland&sort_by=published_date&type=policy_information&type=general_publications>: HTTP status code is not handled or not allowed',\n",
       " '2025-03-02 14:42:23 [scrapy.spidermiddlewares.httperror] INFO: Ignoring response <403 https://www.gov.ie/en/policy/39e5f9-natural-resources/latest/?q=seedbed&sort_by=published_date&type=policy_information&type=general_publications>: HTTP status code is not handled or not allowed',\n",
       " '2025-03-02 14:42:23 [scrapy.spidermiddlewares.httperror] INFO: Ignoring response <403 https://www.gov.ie/en/policy/39e5f9-natural-resources/latest/?q=scrubland&sort_by=published_date&type=policy_information&type=general_publications>: HTTP status code is not handled or not allowed',\n",
       " '2025-03-02 14:42:23 [scrapy.spidermiddlewares.httperror] INFO: Ignoring response <403 https://www.gov.ie/en/policy/39e5f9-natural-resources/latest/?q=salt%20marsh&sort_by=published_date&type=policy_information&type=general_publications>: HTTP status code is not handled or not allowed',\n",
       " '2025-03-02 14:42:23 [scrapy.spidermiddlewares.httperror] INFO: Ignoring response <403 https://www.gov.ie/en/policy/39e5f9-natural-resources/latest/?q=rural%20development&sort_by=published_date&type=policy_information&type=general_publications>: HTTP status code is not handled or not allowed',\n",
       " '2025-03-02 14:42:23 [scrapy.spidermiddlewares.httperror] INFO: Ignoring response <403 https://www.gov.ie/en/policy/39e5f9-natural-resources/latest/?q=seed&sort_by=published_date&type=policy_information&type=general_publications>: HTTP status code is not handled or not allowed',\n",
       " '2025-03-02 14:42:23 [scrapy.spidermiddlewares.httperror] INFO: Ignoring response <403 https://www.gov.ie/en/policy/39e5f9-natural-resources/latest/?q=rural&sort_by=published_date&type=policy_information&type=general_publications>: HTTP status code is not handled or not allowed',\n",
       " '2025-03-02 14:42:23 [scrapy.spidermiddlewares.httperror] INFO: Ignoring response <403 https://www.gov.ie/en/policy/39e5f9-natural-resources/latest/?q=riverbank&sort_by=published_date&type=policy_information&type=general_publications>: HTTP status code is not handled or not allowed',\n",
       " '2025-03-02 14:42:23 [scrapy.spidermiddlewares.httperror] INFO: Ignoring response <403 https://www.gov.ie/en/policy/39e5f9-natural-resources/latest/?q=restoration&sort_by=published_date&type=policy_information&type=general_publications>: HTTP status code is not handled or not allowed',\n",
       " '2025-03-02 14:42:23 [scrapy.spidermiddlewares.httperror] INFO: Ignoring response <403 https://www.gov.ie/en/policy/39e5f9-natural-resources/latest/?q=resin%20extraction&sort_by=published_date&type=policy_information&type=general_publications>: HTTP status code is not handled or not allowed',\n",
       " '2025-03-02 14:42:23 [scrapy.spidermiddlewares.httperror] INFO: Ignoring response <403 https://www.gov.ie/en/policy/39e5f9-natural-resources/latest/?q=reserve&sort_by=published_date&type=policy_information&type=general_publications>: HTTP status code is not handled or not allowed',\n",
       " '2025-03-02 14:42:23 [scrapy.spidermiddlewares.httperror] INFO: Ignoring response <403 https://www.gov.ie/en/policy/39e5f9-natural-resources/latest/?q=reforestation&sort_by=published_date&type=policy_information&type=general_publications>: HTTP status code is not handled or not allowed',\n",
       " '2025-03-02 14:42:23 [scrapy.spidermiddlewares.httperror] INFO: Ignoring response <403 https://www.gov.ie/en/policy/39e5f9-natural-resources/latest/?q=rehabilitation&sort_by=published_date&type=policy_information&type=general_publications>: HTTP status code is not handled or not allowed',\n",
       " '2025-03-02 14:42:23 [scrapy.spidermiddlewares.httperror] INFO: Ignoring response <403 https://www.gov.ie/en/policy/39e5f9-natural-resources/latest/?q=risk%20of%20extinction&sort_by=published_date&type=policy_information&type=general_publications>: HTTP status code is not handled or not allowed',\n",
       " '2025-03-02 14:42:23 [scrapy.spidermiddlewares.httperror] INFO: Ignoring response <403 https://www.gov.ie/en/policy/39e5f9-natural-resources/latest/?q=regeneration&sort_by=published_date&type=policy_information&type=general_publications>: HTTP status code is not handled or not allowed',\n",
       " '2025-03-02 14:42:23 [scrapy.spidermiddlewares.httperror] INFO: Ignoring response <403 https://www.gov.ie/en/policy/39e5f9-natural-resources/latest/?q=rangeland&sort_by=published_date&type=policy_information&type=general_publications>: HTTP status code is not handled or not allowed',\n",
       " '2025-03-02 14:42:23 [scrapy.spidermiddlewares.httperror] INFO: Ignoring response <403 https://www.gov.ie/en/policy/39e5f9-natural-resources/latest/?q=protection&sort_by=published_date&type=policy_information&type=general_publications>: HTTP status code is not handled or not allowed',\n",
       " '2025-03-02 14:42:23 [scrapy.spidermiddlewares.httperror] INFO: Ignoring response <403 https://www.gov.ie/en/policy/39e5f9-natural-resources/latest/?q=rancher&sort_by=published_date&type=policy_information&type=general_publications>: HTTP status code is not handled or not allowed',\n",
       " '2025-03-02 14:42:23 [scrapy.spidermiddlewares.httperror] INFO: Ignoring response <403 https://www.gov.ie/en/policy/39e5f9-natural-resources/latest/?q=prairie&sort_by=published_date&type=policy_information&type=general_publications>: HTTP status code is not handled or not allowed',\n",
       " '2025-03-02 14:42:23 [scrapy.spidermiddlewares.httperror] INFO: Ignoring response <403 https://www.gov.ie/en/policy/39e5f9-natural-resources/latest/?q=preservation&sort_by=published_date&type=policy_information&type=general_publications>: HTTP status code is not handled or not allowed',\n",
       " '2025-03-02 14:42:23 [scrapy.spidermiddlewares.httperror] INFO: Ignoring response <403 https://www.gov.ie/en/policy/39e5f9-natural-resources/latest/?q=pollution&sort_by=published_date&type=policy_information&type=general_publications>: HTTP status code is not handled or not allowed',\n",
       " '2025-03-02 14:42:23 [scrapy.spidermiddlewares.httperror] INFO: Ignoring response <403 https://www.gov.ie/en/policy/39e5f9-natural-resources/latest/?q=plants&sort_by=published_date&type=policy_information&type=general_publications>: HTTP status code is not handled or not allowed',\n",
       " '2025-03-02 14:42:23 [scrapy.spidermiddlewares.httperror] INFO: Ignoring response <403 https://www.gov.ie/en/policy/39e5f9-natural-resources/latest/?q=pit&sort_by=published_date&type=policy_information&type=general_publications>: HTTP status code is not handled or not allowed',\n",
       " '2025-03-02 14:42:23 [scrapy.spidermiddlewares.httperror] INFO: Ignoring response <403 https://www.gov.ie/en/policy/39e5f9-natural-resources/latest/?q=plantation&sort_by=published_date&type=policy_information&type=general_publications>: HTTP status code is not handled or not allowed',\n",
       " '2025-03-02 14:42:23 [scrapy.spidermiddlewares.httperror] INFO: Ignoring response <403 https://www.gov.ie/en/policy/39e5f9-natural-resources/latest/?q=plant%20nursery&sort_by=published_date&type=policy_information&type=general_publications>: HTTP status code is not handled or not allowed',\n",
       " '2025-03-02 14:42:23 [scrapy.spidermiddlewares.httperror] INFO: Ignoring response <403 https://www.gov.ie/en/policy/39e5f9-natural-resources/latest/?q=plant%20exudates&sort_by=published_date&type=policy_information&type=general_publications>: HTTP status code is not handled or not allowed',\n",
       " '2025-03-02 14:42:23 [scrapy.spidermiddlewares.httperror] INFO: Ignoring response <403 https://www.gov.ie/en/policy/39e5f9-natural-resources/latest/?q=plain&sort_by=published_date&type=policy_information&type=general_publications>: HTTP status code is not handled or not allowed',\n",
       " '2025-03-02 14:42:23 [scrapy.spidermiddlewares.httperror] INFO: Ignoring response <403 https://www.gov.ie/en/policy/39e5f9-natural-resources/latest/?q=pine%20resin&sort_by=published_date&type=policy_information&type=general_publications>: HTTP status code is not handled or not allowed',\n",
       " '2025-03-02 14:42:23 [scrapy.spidermiddlewares.httperror] INFO: Ignoring response <403 https://www.gov.ie/en/policy/39e5f9-natural-resources/latest/?q=phytosanitary&sort_by=published_date&type=policy_information&type=general_publications>: HTTP status code is not handled or not allowed',\n",
       " '2025-03-02 14:42:23 [scrapy.spidermiddlewares.httperror] INFO: Ignoring response <403 https://www.gov.ie/en/policy/39e5f9-natural-resources/latest/?q=peatland&sort_by=published_date&type=policy_information&type=general_publications>: HTTP status code is not handled or not allowed',\n",
       " '2025-03-02 14:42:23 [scrapy.spidermiddlewares.httperror] INFO: Ignoring response <403 https://www.gov.ie/en/policy/39e5f9-natural-resources/latest/?q=pasture&sort_by=published_date&type=policy_information&type=general_publications>: HTTP status code is not handled or not allowed',\n",
       " '2025-03-02 14:42:23 [scrapy.spidermiddlewares.httperror] INFO: Ignoring response <403 https://www.gov.ie/en/policy/39e5f9-natural-resources/latest/?q=peat&sort_by=published_date&type=policy_information&type=general_publications>: HTTP status code is not handled or not allowed',\n",
       " '2025-03-02 14:42:23 [scrapy.spidermiddlewares.httperror] INFO: Ignoring response <403 https://www.gov.ie/en/policy/39e5f9-natural-resources/latest/?q=overgrazing&sort_by=published_date&type=policy_information&type=general_publications>: HTTP status code is not handled or not allowed',\n",
       " '2025-03-02 14:42:23 [scrapy.spidermiddlewares.httperror] INFO: Ignoring response <403 https://www.gov.ie/en/policy/39e5f9-natural-resources/latest/?q=ore&sort_by=published_date&type=policy_information&type=general_publications>: HTTP status code is not handled or not allowed',\n",
       " '2025-03-02 14:42:23 [scrapy.spidermiddlewares.httperror] INFO: Ignoring response <403 https://www.gov.ie/en/policy/39e5f9-natural-resources/latest/?q=natural%20rubber&sort_by=published_date&type=policy_information&type=general_publications>: HTTP status code is not handled or not allowed',\n",
       " '2025-03-02 14:42:23 [scrapy.spidermiddlewares.httperror] INFO: Ignoring response <403 https://www.gov.ie/en/policy/39e5f9-natural-resources/latest/?q=nature%20reserve&sort_by=published_date&type=policy_information&type=general_publications>: HTTP status code is not handled or not allowed',\n",
       " '2025-03-02 14:42:23 [scrapy.spidermiddlewares.httperror] INFO: Ignoring response <403 https://www.gov.ie/en/policy/39e5f9-natural-resources/latest/?q=natural%20resource&sort_by=published_date&type=policy_information&type=general_publications>: HTTP status code is not handled or not allowed',\n",
       " '2025-03-02 14:42:23 [scrapy.spidermiddlewares.httperror] INFO: Ignoring response <403 https://www.gov.ie/en/policy/39e5f9-natural-resources/latest/?q=over-grazing&sort_by=published_date&type=policy_information&type=general_publications>: HTTP status code is not handled or not allowed',\n",
       " '2025-03-02 14:42:23 [scrapy.spidermiddlewares.httperror] INFO: Ignoring response <403 https://www.gov.ie/en/policy/39e5f9-natural-resources/latest/?q=over%20grazing&sort_by=published_date&type=policy_information&type=general_publications>: HTTP status code is not handled or not allowed',\n",
       " '2025-03-02 14:42:23 [scrapy.spidermiddlewares.httperror] INFO: Ignoring response <403 https://www.gov.ie/en/policy/39e5f9-natural-resources/latest/?q=natural%20reserve&sort_by=published_date&type=policy_information&type=general_publications>: HTTP status code is not handled or not allowed',\n",
       " '2025-03-02 14:42:23 [scrapy.spidermiddlewares.httperror] INFO: Ignoring response <403 https://www.gov.ie/en/policy/39e5f9-natural-resources/latest/?q=natural%20park&sort_by=published_date&type=policy_information&type=general_publications>: HTTP status code is not handled or not allowed',\n",
       " '2025-03-02 14:42:23 [scrapy.spidermiddlewares.httperror] INFO: Ignoring response <403 https://www.gov.ie/en/policy/39e5f9-natural-resources/latest/?q=natural%20lacquer&sort_by=published_date&type=policy_information&type=general_publications>: HTTP status code is not handled or not allowed',\n",
       " '2025-03-02 14:42:23 [scrapy.spidermiddlewares.httperror] INFO: Ignoring response <403 https://www.gov.ie/en/policy/39e5f9-natural-resources/latest/?q=natural%20heritage&sort_by=published_date&type=policy_information&type=general_publications>: HTTP status code is not handled or not allowed',\n",
       " '2025-03-02 14:42:23 [scrapy.spidermiddlewares.httperror] INFO: Ignoring response <403 https://www.gov.ie/en/policy/39e5f9-natural-resources/latest/?q=natural%20oil&sort_by=published_date&type=policy_information&type=general_publications>: HTTP status code is not handled or not allowed',\n",
       " '2025-03-02 14:42:23 [scrapy.spidermiddlewares.httperror] INFO: Ignoring response <403 https://www.gov.ie/en/policy/39e5f9-natural-resources/latest/?q=natural%20regeneration&sort_by=published_date&type=policy_information&type=general_publications>: HTTP status code is not handled or not allowed',\n",
       " '2025-03-02 14:42:23 [scrapy.spidermiddlewares.httperror] INFO: Ignoring response <403 https://www.gov.ie/en/policy/39e5f9-natural-resources/latest/?q=natural%20habitat&sort_by=published_date&type=policy_information&type=general_publications>: HTTP status code is not handled or not allowed',\n",
       " '2025-03-02 14:42:23 [scrapy.spidermiddlewares.httperror] INFO: Ignoring response <403 https://www.gov.ie/en/policy/39e5f9-natural-resources/latest/?q=natural%20good&sort_by=published_date&type=policy_information&type=general_publications>: HTTP status code is not handled or not allowed',\n",
       " '2025-03-02 14:42:23 [scrapy.spidermiddlewares.httperror] INFO: Ignoring response <403 https://www.gov.ie/en/policy/39e5f9-natural-resources/latest/?q=natural%20fibre&sort_by=published_date&type=policy_information&type=general_publications>: HTTP status code is not handled or not allowed',\n",
       " '2025-03-02 14:42:23 [scrapy.spidermiddlewares.httperror] INFO: Ignoring response <403 https://www.gov.ie/en/policy/39e5f9-natural-resources/latest/?q=natural%20asset&sort_by=published_date&type=policy_information&type=general_publications>: HTTP status code is not handled or not allowed',\n",
       " '2025-03-02 14:42:23 [scrapy.spidermiddlewares.httperror] INFO: Ignoring response <403 https://www.gov.ie/en/policy/39e5f9-natural-resources/latest/?q=mineral&sort_by=published_date&type=policy_information&type=general_publications>: HTTP status code is not handled or not allowed',\n",
       " '2025-03-02 14:42:23 [scrapy.spidermiddlewares.httperror] INFO: Ignoring response <403 https://www.gov.ie/en/policy/39e5f9-natural-resources/latest/?q=natural%20fiber&sort_by=published_date&type=policy_information&type=general_publications>: HTTP status code is not handled or not allowed',\n",
       " '2025-03-02 14:42:23 [scrapy.spidermiddlewares.httperror] INFO: Ignoring response <403 https://www.gov.ie/en/policy/39e5f9-natural-resources/latest/?q=mining%20extraction&sort_by=published_date&type=policy_information&type=general_publications>: HTTP status code is not handled or not allowed',\n",
       " '2025-03-02 14:42:23 [scrapy.spidermiddlewares.httperror] INFO: Ignoring response <403 https://www.gov.ie/en/policy/39e5f9-natural-resources/latest/?q=national%20park&sort_by=published_date&type=policy_information&type=general_publications>: HTTP status code is not handled or not allowed',\n",
       " '2025-03-02 14:42:23 [scrapy.spidermiddlewares.httperror] INFO: Ignoring response <403 https://www.gov.ie/en/policy/39e5f9-natural-resources/latest/?q=mineral%20extraction&sort_by=published_date&type=policy_information&type=general_publications>: HTTP status code is not handled or not allowed',\n",
       " '2025-03-02 14:42:23 [scrapy.spidermiddlewares.httperror] INFO: Ignoring response <403 https://www.gov.ie/en/policy/39e5f9-natural-resources/latest/?q=mineral%20mining&sort_by=published_date&type=policy_information&type=general_publications>: HTTP status code is not handled or not allowed',\n",
       " '2025-03-02 14:42:23 [scrapy.spidermiddlewares.httperror] INFO: Ignoring response <403 https://www.gov.ie/en/policy/39e5f9-natural-resources/latest/?q=miner&sort_by=published_date&type=policy_information&type=general_publications>: HTTP status code is not handled or not allowed',\n",
       " '2025-03-02 14:42:23 [scrapy.spidermiddlewares.httperror] INFO: Ignoring response <403 https://www.gov.ie/en/policy/39e5f9-natural-resources/latest/?q=micro%20sprinkler&sort_by=published_date&type=policy_information&type=general_publications>: HTTP status code is not handled or not allowed',\n",
       " '2025-03-02 14:42:23 [scrapy.spidermiddlewares.httperror] INFO: Ignoring response <403 https://www.gov.ie/en/policy/39e5f9-natural-resources/latest/?q=meadow&sort_by=published_date&type=policy_information&type=general_publications>: HTTP status code is not handled or not allowed',\n",
       " '2025-03-02 14:42:23 [scrapy.spidermiddlewares.httperror] INFO: Ignoring response <403 https://www.gov.ie/en/policy/39e5f9-natural-resources/latest/?q=mine&sort_by=published_date&type=policy_information&type=general_publications>: HTTP status code is not handled or not allowed',\n",
       " '2025-03-02 14:42:23 [scrapy.spidermiddlewares.httperror] INFO: Ignoring response <403 https://www.gov.ie/en/policy/39e5f9-natural-resources/latest/?q=microsprinkler&sort_by=published_date&type=policy_information&type=general_publications>: HTTP status code is not handled or not allowed',\n",
       " '2025-03-02 14:42:23 [scrapy.spidermiddlewares.httperror] INFO: Ignoring response <403 https://www.gov.ie/en/policy/39e5f9-natural-resources/latest/?q=marsh&sort_by=published_date&type=policy_information&type=general_publications>: HTTP status code is not handled or not allowed',\n",
       " '2025-03-02 14:42:23 [scrapy.spidermiddlewares.httperror] INFO: Ignoring response <403 https://www.gov.ie/en/policy/39e5f9-natural-resources/latest/?q=mangrove&sort_by=published_date&type=policy_information&type=general_publications>: HTTP status code is not handled or not allowed',\n",
       " '2025-03-02 14:42:23 [scrapy.spidermiddlewares.httperror] INFO: Ignoring response <403 https://www.gov.ie/en/policy/39e5f9-natural-resources/latest/?q=livestock&sort_by=published_date&type=policy_information&type=general_publications>: HTTP status code is not handled or not allowed',\n",
       " '2025-03-02 14:42:23 [scrapy.spidermiddlewares.httperror] INFO: Ignoring response <403 https://www.gov.ie/en/policy/39e5f9-natural-resources/latest/?q=livestock%20industry&sort_by=published_date&type=policy_information&type=general_publications>: HTTP status code is not handled or not allowed',\n",
       " '2025-03-02 14:42:23 [scrapy.spidermiddlewares.httperror] INFO: Ignoring response <403 https://www.gov.ie/en/policy/39e5f9-natural-resources/latest/?q=manure&sort_by=published_date&type=policy_information&type=general_publications>: HTTP status code is not handled or not allowed',\n",
       " '2025-03-02 14:42:23 [scrapy.spidermiddlewares.httperror] INFO: Ignoring response <403 https://www.gov.ie/en/policy/39e5f9-natural-resources/latest/?q=life%20cycle&sort_by=published_date&type=policy_information&type=general_publications>: HTTP status code is not handled or not allowed',\n",
       " '2025-03-02 14:42:23 [scrapy.spidermiddlewares.httperror] INFO: Ignoring response <403 https://www.gov.ie/en/policy/39e5f9-natural-resources/latest/?q=latex%20extraction&sort_by=published_date&type=policy_information&type=general_publications>: HTTP status code is not handled or not allowed',\n",
       " '2025-03-02 14:42:23 [scrapy.spidermiddlewares.httperror] INFO: Ignoring response <403 https://www.gov.ie/en/policy/39e5f9-natural-resources/latest/?q=landowner&sort_by=published_date&type=policy_information&type=general_publications>: HTTP status code is not handled or not allowed',\n",
       " '2025-03-02 14:42:23 [scrapy.spidermiddlewares.httperror] INFO: Ignoring response <403 https://www.gov.ie/en/policy/39e5f9-natural-resources/latest/?q=landscape&sort_by=published_date&type=policy_information&type=general_publications>: HTTP status code is not handled or not allowed',\n",
       " '2025-03-02 14:42:23 [scrapy.spidermiddlewares.httperror] INFO: Ignoring response <403 https://www.gov.ie/en/policy/39e5f9-natural-resources/latest/?q=land%20use&sort_by=published_date&type=policy_information&type=general_publications>: HTTP status code is not handled or not allowed',\n",
       " '2025-03-02 14:42:23 [scrapy.spidermiddlewares.httperror] INFO: Ignoring response <403 https://www.gov.ie/en/policy/39e5f9-natural-resources/latest/?q=irrigation%20scheme&sort_by=published_date&type=policy_information&type=general_publications>: HTTP status code is not handled or not allowed',\n",
       " '2025-03-02 14:42:23 [scrapy.spidermiddlewares.httperror] INFO: Ignoring response <403 https://www.gov.ie/en/policy/39e5f9-natural-resources/latest/?q=irrigation&sort_by=published_date&type=policy_information&type=general_publications>: HTTP status code is not handled or not allowed',\n",
       " '2025-03-02 14:42:23 [scrapy.spidermiddlewares.httperror] INFO: Ignoring response <403 https://www.gov.ie/en/policy/39e5f9-natural-resources/latest/?q=illicit%20cultivation&sort_by=published_date&type=policy_information&type=general_publications>: HTTP status code is not handled or not allowed',\n",
       " '2025-03-02 14:42:23 [scrapy.spidermiddlewares.httperror] INFO: Ignoring response <403 https://www.gov.ie/en/policy/39e5f9-natural-resources/latest/?q=husbandry&sort_by=published_date&type=policy_information&type=general_publications>: HTTP status code is not handled or not allowed',\n",
       " '2025-03-02 14:42:23 [scrapy.spidermiddlewares.httperror] INFO: Ignoring response <403 https://www.gov.ie/en/policy/39e5f9-natural-resources/latest/?q=hotbed&sort_by=published_date&type=policy_information&type=general_publications>: HTTP status code is not handled or not allowed',\n",
       " '2025-03-02 14:42:23 [scrapy.spidermiddlewares.httperror] INFO: Ignoring response <403 https://www.gov.ie/en/policy/39e5f9-natural-resources/latest/?q=herd&sort_by=published_date&type=policy_information&type=general_publications>: HTTP status code is not handled or not allowed',\n",
       " '2025-03-02 14:42:23 [scrapy.spidermiddlewares.httperror] INFO: Ignoring response <403 https://www.gov.ie/en/policy/39e5f9-natural-resources/latest/?q=harvesting&sort_by=published_date&type=policy_information&type=general_publications>: HTTP status code is not handled or not allowed',\n",
       " '2025-03-02 14:42:23 [scrapy.spidermiddlewares.httperror] INFO: Ignoring response <403 https://www.gov.ie/en/policy/39e5f9-natural-resources/latest/?q=hay&sort_by=published_date&type=policy_information&type=general_publications>: HTTP status code is not handled or not allowed',\n",
       " '2025-03-02 14:42:23 [scrapy.spidermiddlewares.httperror] INFO: Ignoring response <403 https://www.gov.ie/en/policy/39e5f9-natural-resources/latest/?q=harvest&sort_by=published_date&type=policy_information&type=general_publications>: HTTP status code is not handled or not allowed',\n",
       " '2025-03-02 14:42:23 [scrapy.spidermiddlewares.httperror] INFO: Ignoring response <403 https://www.gov.ie/en/policy/39e5f9-natural-resources/latest/?q=green%20manure&sort_by=published_date&type=policy_information&type=general_publications>: HTTP status code is not handled or not allowed',\n",
       " '2025-03-02 14:42:23 [scrapy.spidermiddlewares.httperror] INFO: Ignoring response <403 https://www.gov.ie/en/policy/39e5f9-natural-resources/latest/?q=grazing&sort_by=published_date&type=policy_information&type=general_publications>: HTTP status code is not handled or not allowed',\n",
       " '2025-03-02 14:42:23 [scrapy.spidermiddlewares.httperror] INFO: Ignoring response <403 https://www.gov.ie/en/policy/39e5f9-natural-resources/latest/?q=grassland&sort_by=published_date&type=policy_information&type=general_publications>: HTTP status code is not handled or not allowed',\n",
       " '2025-03-02 14:42:23 [scrapy.spidermiddlewares.httperror] INFO: Ignoring response <403 https://www.gov.ie/en/policy/39e5f9-natural-resources/latest/?q=germoplasm&sort_by=published_date&type=policy_information&type=general_publications>: HTTP status code is not handled or not allowed',\n",
       " '2025-03-02 14:42:23 [scrapy.spidermiddlewares.httperror] INFO: Ignoring response <403 https://www.gov.ie/en/policy/39e5f9-natural-resources/latest/?q=geological&sort_by=published_date&type=policy_information&type=general_publications>: HTTP status code is not handled or not allowed',\n",
       " '2025-03-02 14:42:23 [scrapy.spidermiddlewares.httperror] INFO: Ignoring response <403 https://www.gov.ie/en/policy/39e5f9-natural-resources/latest/?q=geologic&sort_by=published_date&type=policy_information&type=general_publications>: HTTP status code is not handled or not allowed',\n",
       " '2025-03-02 14:42:23 [scrapy.spidermiddlewares.httperror] INFO: Ignoring response <403 https://www.gov.ie/en/policy/39e5f9-natural-resources/latest/?q=germoplasm%20bank&sort_by=published_date&type=policy_information&type=general_publications>: HTTP status code is not handled or not allowed',\n",
       " '2025-03-02 14:42:23 [scrapy.spidermiddlewares.httperror] INFO: Ignoring response <403 https://www.gov.ie/en/policy/39e5f9-natural-resources/latest/?q=fungicide&sort_by=published_date&type=policy_information&type=general_publications>: HTTP status code is not handled or not allowed',\n",
       " '2025-03-02 14:42:24 [scrapy.spidermiddlewares.httperror] INFO: Ignoring response <403 https://www.gov.ie/en/policy/39e5f9-natural-resources/latest/?q=fungicidal&sort_by=published_date&type=policy_information&type=general_publications>: HTTP status code is not handled or not allowed',\n",
       " '2025-03-02 14:42:24 [scrapy.spidermiddlewares.httperror] INFO: Ignoring response <403 https://www.gov.ie/en/policy/39e5f9-natural-resources/latest/?q=fuelwood&sort_by=published_date&type=policy_information&type=general_publications>: HTTP status code is not handled or not allowed',\n",
       " '2025-03-02 14:42:24 [scrapy.spidermiddlewares.httperror] INFO: Ignoring response <403 https://www.gov.ie/en/policy/39e5f9-natural-resources/latest/?q=forestry&sort_by=published_date&type=policy_information&type=general_publications>: HTTP status code is not handled or not allowed',\n",
       " '2025-03-02 14:42:24 [scrapy.spidermiddlewares.httperror] INFO: Ignoring response <403 https://www.gov.ie/en/policy/39e5f9-natural-resources/latest/?q=forestry%20nursery&sort_by=published_date&type=policy_information&type=general_publications>: HTTP status code is not handled or not allowed',\n",
       " '2025-03-02 14:42:24 [scrapy.spidermiddlewares.httperror] INFO: Ignoring response <403 https://www.gov.ie/en/policy/39e5f9-natural-resources/latest/?q=freshwater&sort_by=published_date&type=policy_information&type=general_publications>: HTTP status code is not handled or not allowed',\n",
       " '2025-03-02 14:42:24 [scrapy.spidermiddlewares.httperror] INFO: Ignoring response <403 https://www.gov.ie/en/policy/39e5f9-natural-resources/latest/?q=forestland&sort_by=published_date&type=policy_information&type=general_publications>: HTTP status code is not handled or not allowed',\n",
       " '2025-03-02 14:42:24 [scrapy.spidermiddlewares.httperror] INFO: Ignoring response <403 https://www.gov.ie/en/policy/39e5f9-natural-resources/latest/?q=fuel%20wood&sort_by=published_date&type=policy_information&type=general_publications>: HTTP status code is not handled or not allowed',\n",
       " '2025-03-02 14:42:24 [scrapy.spidermiddlewares.httperror] INFO: Ignoring response <403 https://www.gov.ie/en/policy/39e5f9-natural-resources/latest/?q=forestation&sort_by=published_date&type=policy_information&type=general_publications>: HTTP status code is not handled or not allowed',\n",
       " '2025-03-02 14:42:24 [scrapy.spidermiddlewares.httperror] INFO: Ignoring response <403 https://www.gov.ie/en/policy/39e5f9-natural-resources/latest/?q=forest&sort_by=published_date&type=policy_information&type=general_publications>: HTTP status code is not handled or not allowed',\n",
       " '2025-03-02 14:42:24 [scrapy.spidermiddlewares.httperror] INFO: Ignoring response <403 https://www.gov.ie/en/policy/39e5f9-natural-resources/latest/?q=food%20business&sort_by=published_date&type=policy_information&type=general_publications>: HTTP status code is not handled or not allowed',\n",
       " '2025-03-02 14:42:24 [scrapy.spidermiddlewares.httperror] INFO: Ignoring response <403 https://www.gov.ie/en/policy/39e5f9-natural-resources/latest/?q=food%20sector&sort_by=published_date&type=policy_information&type=general_publications>: HTTP status code is not handled or not allowed',\n",
       " '2025-03-02 14:42:24 [scrapy.spidermiddlewares.httperror] INFO: Ignoring response <403 https://www.gov.ie/en/policy/39e5f9-natural-resources/latest/?q=forest%20plantation&sort_by=published_date&type=policy_information&type=general_publications>: HTTP status code is not handled or not allowed',\n",
       " '2025-03-02 14:42:24 [scrapy.spidermiddlewares.httperror] INFO: Ignoring response <403 https://www.gov.ie/en/policy/39e5f9-natural-resources/latest/?q=forage&sort_by=published_date&type=policy_information&type=general_publications>: HTTP status code is not handled or not allowed',\n",
       " '2025-03-02 14:42:24 [scrapy.spidermiddlewares.httperror] INFO: Ignoring response <403 https://www.gov.ie/en/policy/39e5f9-natural-resources/latest/?q=food%20industry&sort_by=published_date&type=policy_information&type=general_publications>: HTTP status code is not handled or not allowed',\n",
       " '2025-03-02 14:42:24 [scrapy.spidermiddlewares.httperror] INFO: Ignoring response <403 https://www.gov.ie/en/policy/39e5f9-natural-resources/latest/?q=fodder&sort_by=published_date&type=policy_information&type=general_publications>: HTTP status code is not handled or not allowed',\n",
       " '2025-03-02 14:42:24 [scrapy.spidermiddlewares.httperror] INFO: Ignoring response <403 https://www.gov.ie/en/policy/39e5f9-natural-resources/latest/?q=flora&sort_by=published_date&type=policy_information&type=general_publications>: HTTP status code is not handled or not allowed',\n",
       " '2025-03-02 14:42:24 [scrapy.spidermiddlewares.httperror] INFO: Ignoring response <403 https://www.gov.ie/en/policy/39e5f9-natural-resources/latest/?q=firewood&sort_by=published_date&type=policy_information&type=general_publications>: HTTP status code is not handled or not allowed',\n",
       " '2025-03-02 14:42:24 [scrapy.spidermiddlewares.httperror] INFO: Ignoring response <403 https://www.gov.ie/en/policy/39e5f9-natural-resources/latest/?q=floodplain&sort_by=published_date&type=policy_information&type=general_publications>: HTTP status code is not handled or not allowed',\n",
       " '2025-03-02 14:42:24 [scrapy.spidermiddlewares.httperror] INFO: Ignoring response <403 https://www.gov.ie/en/policy/39e5f9-natural-resources/latest/?q=fertigation&sort_by=published_date&type=policy_information&type=general_publications>: HTTP status code is not handled or not allowed',\n",
       " '2025-03-02 14:42:24 [scrapy.spidermiddlewares.httperror] INFO: Ignoring response <403 https://www.gov.ie/en/policy/39e5f9-natural-resources/latest/?q=farming&sort_by=published_date&type=policy_information&type=general_publications>: HTTP status code is not handled or not allowed',\n",
       " '2025-03-02 14:42:24 [scrapy.spidermiddlewares.httperror] INFO: Ignoring response <403 https://www.gov.ie/en/policy/39e5f9-natural-resources/latest/?q=felling&sort_by=published_date&type=policy_information&type=general_publications>: HTTP status code is not handled or not allowed',\n",
       " '2025-03-02 14:42:24 [scrapy.spidermiddlewares.httperror] INFO: Ignoring response <403 https://www.gov.ie/en/policy/39e5f9-natural-resources/latest/?q=fauna&sort_by=published_date&type=policy_information&type=general_publications>: HTTP status code is not handled or not allowed',\n",
       " '2025-03-02 14:42:24 [scrapy.spidermiddlewares.httperror] INFO: Ignoring response <403 https://www.gov.ie/en/policy/39e5f9-natural-resources/latest/?q=flock&sort_by=published_date&type=policy_information&type=general_publications>: HTTP status code is not handled or not allowed',\n",
       " '2025-03-02 14:42:24 [scrapy.spidermiddlewares.httperror] INFO: Ignoring response <403 https://www.gov.ie/en/policy/39e5f9-natural-resources/latest/?q=fertilizer&sort_by=published_date&type=policy_information&type=general_publications>: HTTP status code is not handled or not allowed',\n",
       " '2025-03-02 14:42:24 [scrapy.spidermiddlewares.httperror] INFO: Ignoring response <403 https://www.gov.ie/en/policy/39e5f9-natural-resources/latest/?q=fertilization&sort_by=published_date&type=policy_information&type=general_publications>: HTTP status code is not handled or not allowed',\n",
       " '2025-03-02 14:42:24 [scrapy.spidermiddlewares.httperror] INFO: Ignoring response <403 https://www.gov.ie/en/policy/39e5f9-natural-resources/latest/?q=endangered%20species&sort_by=published_date&type=policy_information&type=general_publications>: HTTP status code is not handled or not allowed',\n",
       " '2025-03-02 14:42:24 [scrapy.spidermiddlewares.httperror] INFO: Ignoring response <403 https://www.gov.ie/en/policy/39e5f9-natural-resources/latest/?q=farm&sort_by=published_date&type=policy_information&type=general_publications>: HTTP status code is not handled or not allowed',\n",
       " '2025-03-02 14:42:24 [scrapy.spidermiddlewares.httperror] INFO: Ignoring response <403 https://www.gov.ie/en/policy/39e5f9-natural-resources/latest/?q=farmer&sort_by=published_date&type=policy_information&type=general_publications>: HTTP status code is not handled or not allowed',\n",
       " '2025-03-02 14:42:24 [scrapy.spidermiddlewares.httperror] INFO: Ignoring response <403 https://www.gov.ie/en/policy/39e5f9-natural-resources/latest/?q=extraction%20of%20latex&sort_by=published_date&type=policy_information&type=general_publications>: HTTP status code is not handled or not allowed',\n",
       " '2025-03-02 14:42:24 [scrapy.spidermiddlewares.httperror] INFO: Ignoring response <403 https://www.gov.ie/en/policy/39e5f9-natural-resources/latest/?q=environmental&sort_by=published_date&type=policy_information&type=general_publications>: HTTP status code is not handled or not allowed',\n",
       " '2025-03-02 14:42:24 [scrapy.spidermiddlewares.httperror] INFO: Ignoring response <403 https://www.gov.ie/en/policy/39e5f9-natural-resources/latest/?q=desert&sort_by=published_date&type=policy_information&type=general_publications>: HTTP status code is not handled or not allowed',\n",
       " '2025-03-02 14:42:24 [scrapy.spidermiddlewares.httperror] INFO: Ignoring response <403 https://www.gov.ie/en/policy/39e5f9-natural-resources/latest/?q=environmental%20conservation&sort_by=published_date&type=policy_information&type=general_publications>: HTTP status code is not handled or not allowed',\n",
       " '2025-03-02 14:42:24 [scrapy.spidermiddlewares.httperror] INFO: Ignoring response <403 https://www.gov.ie/en/policy/39e5f9-natural-resources/latest/?q=danger%20of%20extinction&sort_by=published_date&type=policy_information&type=general_publications>: HTTP status code is not handled or not allowed',\n",
       " '2025-03-02 14:42:24 [scrapy.spidermiddlewares.httperror] INFO: Ignoring response <403 https://www.gov.ie/en/policy/39e5f9-natural-resources/latest/?q=deforestation&sort_by=published_date&type=policy_information&type=general_publications>: HTTP status code is not handled or not allowed',\n",
       " '2025-03-02 14:42:24 [scrapy.spidermiddlewares.httperror] INFO: Ignoring response <403 https://www.gov.ie/en/policy/39e5f9-natural-resources/latest/?q=cropland&sort_by=published_date&type=policy_information&type=general_publications>: HTTP status code is not handled or not allowed',\n",
       " '2025-03-02 14:42:24 [scrapy.spidermiddlewares.httperror] INFO: Ignoring response <403 https://www.gov.ie/en/policy/39e5f9-natural-resources/latest/?q=cutting&sort_by=published_date&type=policy_information&type=general_publications>: HTTP status code is not handled or not allowed',\n",
       " '2025-03-02 14:42:24 [scrapy.spidermiddlewares.httperror] INFO: Ignoring response <403 https://www.gov.ie/en/policy/39e5f9-natural-resources/latest/?q=cultivate&sort_by=published_date&type=policy_information&type=general_publications>: HTTP status code is not handled or not allowed',\n",
       " '2025-03-02 14:42:24 [scrapy.spidermiddlewares.httperror] INFO: Ignoring response <403 https://www.gov.ie/en/policy/39e5f9-natural-resources/latest/?q=cultivation&sort_by=published_date&type=policy_information&type=general_publications>: HTTP status code is not handled or not allowed',\n",
       " '2025-03-02 14:42:24 [scrapy.spidermiddlewares.httperror] INFO: Ignoring response <403 https://www.gov.ie/en/policy/39e5f9-natural-resources/latest/?q=degraded%20land&sort_by=published_date&type=policy_information&type=general_publications>: HTTP status code is not handled or not allowed',\n",
       " '2025-03-02 14:42:24 [scrapy.spidermiddlewares.httperror] INFO: Ignoring response <403 https://www.gov.ie/en/policy/39e5f9-natural-resources/latest/?q=crop&sort_by=published_date&type=policy_information&type=general_publications>: HTTP status code is not handled or not allowed',\n",
       " '2025-03-02 14:42:24 [scrapy.spidermiddlewares.httperror] INFO: Ignoring response <403 https://www.gov.ie/en/policy/39e5f9-natural-resources/latest/?q=corridor&sort_by=published_date&type=policy_information&type=general_publications>: HTTP status code is not handled or not allowed',\n",
       " '2025-03-02 14:42:24 [scrapy.spidermiddlewares.httperror] INFO: Ignoring response <403 https://www.gov.ie/en/policy/39e5f9-natural-resources/latest/?q=country%20planning&sort_by=published_date&type=policy_information&type=general_publications>: HTTP status code is not handled or not allowed',\n",
       " '2025-03-02 14:42:24 [scrapy.spidermiddlewares.httperror] INFO: Ignoring response <403 https://www.gov.ie/en/policy/39e5f9-natural-resources/latest/?q=compost&sort_by=published_date&type=policy_information&type=general_publications>: HTTP status code is not handled or not allowed',\n",
       " '2025-03-02 14:42:24 [scrapy.spidermiddlewares.httperror] INFO: Ignoring response <403 https://www.gov.ie/en/policy/39e5f9-natural-resources/latest/?q=climatic%20change&sort_by=published_date&type=policy_information&type=general_publications>: HTTP status code is not handled or not allowed',\n",
       " '2025-03-02 14:42:24 [scrapy.spidermiddlewares.httperror] INFO: Ignoring response <403 https://www.gov.ie/en/policy/39e5f9-natural-resources/latest/?q=clearcutting&sort_by=published_date&type=policy_information&type=general_publications>: HTTP status code is not handled or not allowed',\n",
       " '2025-03-02 14:42:24 [scrapy.spidermiddlewares.httperror] INFO: Ignoring response <403 https://www.gov.ie/en/policy/39e5f9-natural-resources/latest/?q=contamination&sort_by=published_date&type=policy_information&type=general_publications>: HTTP status code is not handled or not allowed',\n",
       " '2025-03-02 14:42:24 [scrapy.spidermiddlewares.httperror] INFO: Ignoring response <403 https://www.gov.ie/en/policy/39e5f9-natural-resources/latest/?q=breeding&sort_by=published_date&type=policy_information&type=general_publications>: HTTP status code is not handled or not allowed',\n",
       " '2025-03-02 14:42:24 [scrapy.spidermiddlewares.httperror] INFO: Ignoring response <403 https://www.gov.ie/en/policy/39e5f9-natural-resources/latest/?q=breeding%20ground&sort_by=published_date&type=policy_information&type=general_publications>: HTTP status code is not handled or not allowed',\n",
       " '2025-03-02 14:42:24 [scrapy.spidermiddlewares.httperror] INFO: Ignoring response <403 https://www.gov.ie/en/policy/39e5f9-natural-resources/latest/?q=bush&sort_by=published_date&type=policy_information&type=general_publications>: HTTP status code is not handled or not allowed',\n",
       " '2025-03-02 14:42:24 [scrapy.spidermiddlewares.httperror] INFO: Ignoring response <403 https://www.gov.ie/en/policy/39e5f9-natural-resources/latest/?q=breeder&sort_by=published_date&type=policy_information&type=general_publications>: HTTP status code is not handled or not allowed',\n",
       " '2025-03-02 14:42:24 [scrapy.spidermiddlewares.httperror] INFO: Ignoring response <403 https://www.gov.ie/en/policy/39e5f9-natural-resources/latest/?q=buffer&sort_by=published_date&type=policy_information&type=general_publications>: HTTP status code is not handled or not allowed',\n",
       " '2025-03-02 14:42:24 [scrapy.spidermiddlewares.httperror] INFO: Ignoring response <403 https://www.gov.ie/en/policy/39e5f9-natural-resources/latest/?q=breed&sort_by=published_date&type=policy_information&type=general_publications>: HTTP status code is not handled or not allowed',\n",
       " '2025-03-02 14:42:24 [scrapy.spidermiddlewares.httperror] INFO: Ignoring response <403 https://www.gov.ie/en/policy/39e5f9-natural-resources/latest/?q=bog&sort_by=published_date&type=policy_information&type=general_publications>: HTTP status code is not handled or not allowed',\n",
       " '2025-03-02 14:42:24 [scrapy.spidermiddlewares.httperror] INFO: Ignoring response <403 https://www.gov.ie/en/policy/39e5f9-natural-resources/latest/?q=biofuel&sort_by=published_date&type=policy_information&type=general_publications>: HTTP status code is not handled or not allowed',\n",
       " '2025-03-02 14:42:24 [scrapy.spidermiddlewares.httperror] INFO: Ignoring response <403 https://www.gov.ie/en/policy/39e5f9-natural-resources/latest/?q=biodiversity&sort_by=published_date&type=policy_information&type=general_publications>: HTTP status code is not handled or not allowed',\n",
       " '2025-03-02 14:42:24 [scrapy.spidermiddlewares.httperror] INFO: Ignoring response <403 https://www.gov.ie/en/policy/39e5f9-natural-resources/latest/?q=agroindustry&sort_by=published_date&type=policy_information&type=general_publications>: HTTP status code is not handled or not allowed',\n",
       " '2025-03-02 14:42:24 [scrapy.spidermiddlewares.httperror] INFO: Ignoring response <403 https://www.gov.ie/en/policy/39e5f9-natural-resources/latest/?q=assisted%20regeneration&sort_by=published_date&type=policy_information&type=general_publications>: HTTP status code is not handled or not allowed',\n",
       " '2025-03-02 14:42:24 [scrapy.spidermiddlewares.httperror] INFO: Ignoring response <403 https://www.gov.ie/en/policy/39e5f9-natural-resources/latest/?q=bamboo&sort_by=published_date&type=policy_information&type=general_publications>: HTTP status code is not handled or not allowed',\n",
       " '2025-03-02 14:42:24 [scrapy.spidermiddlewares.httperror] INFO: Ignoring response <403 https://www.gov.ie/en/policy/39e5f9-natural-resources/latest/?q=agroforestry&sort_by=published_date&type=policy_information&type=general_publications>: HTTP status code is not handled or not allowed',\n",
       " '2025-03-02 14:42:24 [scrapy.spidermiddlewares.httperror] INFO: Ignoring response <403 https://www.gov.ie/en/policy/39e5f9-natural-resources/latest/?q=agroindustrial&sort_by=published_date&type=policy_information&type=general_publications>: HTTP status code is not handled or not allowed',\n",
       " '2025-03-02 14:42:24 [scrapy.spidermiddlewares.httperror] INFO: Ignoring response <403 https://www.gov.ie/en/policy/39e5f9-natural-resources/latest/?q=agro-industry&sort_by=published_date&type=policy_information&type=general_publications>: HTTP status code is not handled or not allowed',\n",
       " '2025-03-02 14:42:24 [scrapy.spidermiddlewares.httperror] INFO: Ignoring response <403 https://www.gov.ie/en/policy/39e5f9-natural-resources/latest/?q=agriculture&sort_by=published_date&type=policy_information&type=general_publications>: HTTP status code is not handled or not allowed',\n",
       " '2025-03-02 14:42:24 [scrapy.spidermiddlewares.httperror] INFO: Ignoring response <403 https://www.gov.ie/en/policy/39e5f9-natural-resources/latest/?q=agro-reforestation&sort_by=published_date&type=policy_information&type=general_publications>: HTTP status code is not handled or not allowed',\n",
       " '2025-03-02 14:42:24 [scrapy.spidermiddlewares.httperror] INFO: Ignoring response <403 https://www.gov.ie/en/policy/39e5f9-natural-resources/latest/?q=agricultural%20land&sort_by=published_date&type=policy_information&type=general_publications>: HTTP status code is not handled or not allowed',\n",
       " '2025-03-02 14:42:24 [scrapy.spidermiddlewares.httperror] INFO: Ignoring response <403 https://www.gov.ie/en/policy/39e5f9-natural-resources/latest/?q=agribusiness&sort_by=published_date&type=policy_information&type=general_publications>: HTTP status code is not handled or not allowed',\n",
       " '2025-03-02 14:42:24 [scrapy.spidermiddlewares.httperror] INFO: Ignoring response <403 https://www.gov.ie/en/policy/39e5f9-natural-resources/latest/?q=agricultural%20industry&sort_by=published_date&type=policy_information&type=general_publications>: HTTP status code is not handled or not allowed',\n",
       " '2025-03-02 14:42:24 [scrapy.spidermiddlewares.httperror] INFO: Ignoring response <403 https://www.gov.ie/en/policy/39e5f9-natural-resources/latest/?q=afforestation&sort_by=published_date&type=policy_information&type=general_publications>: HTTP status code is not handled or not allowed',\n",
       " '2025-03-02 14:42:24 [scrapy.spidermiddlewares.httperror] INFO: Ignoring response <403 https://www.gov.ie/en/policy/b2a3c-food-vision-2030-a-world-leader-in-sustainable-food-systems/latest/?q=woodland&sort_by=published_date&type=policy_information&type=general_publications>: HTTP status code is not handled or not allowed',\n",
       " '2025-03-02 14:42:24 [scrapy.spidermiddlewares.httperror] INFO: Ignoring response <403 https://www.gov.ie/en/policy/b2a3c-food-vision-2030-a-world-leader-in-sustainable-food-systems/latest/?q=wetland&sort_by=published_date&type=policy_information&type=general_publications>: HTTP status code is not handled or not allowed',\n",
       " '2025-03-02 14:42:24 [scrapy.spidermiddlewares.httperror] INFO: Ignoring response <403 https://www.gov.ie/en/policy/b2a3c-food-vision-2030-a-world-leader-in-sustainable-food-systems/latest/?q=wood%20extraction&sort_by=published_date&type=policy_information&type=general_publications>: HTTP status code is not handled or not allowed',\n",
       " '2025-03-02 14:42:24 [scrapy.spidermiddlewares.httperror] INFO: Ignoring response <403 https://www.gov.ie/en/policy/b2a3c-food-vision-2030-a-world-leader-in-sustainable-food-systems/latest/?q=wood&sort_by=published_date&type=policy_information&type=general_publications>: HTTP status code is not handled or not allowed',\n",
       " '2025-03-02 14:42:24 [scrapy.spidermiddlewares.httperror] INFO: Ignoring response <403 https://www.gov.ie/en/policy/b2a3c-food-vision-2030-a-world-leader-in-sustainable-food-systems/latest/?q=watershed&sort_by=published_date&type=policy_information&type=general_publications>: HTTP status code is not handled or not allowed',\n",
       " '2025-03-02 14:42:24 [scrapy.spidermiddlewares.httperror] INFO: Ignoring response <403 https://www.gov.ie/en/policy/b2a3c-food-vision-2030-a-world-leader-in-sustainable-food-systems/latest/?q=wildlife&sort_by=published_date&type=policy_information&type=general_publications>: HTTP status code is not handled or not allowed',\n",
       " '2025-03-02 14:42:24 [scrapy.spidermiddlewares.httperror] INFO: Ignoring response <403 https://www.gov.ie/en/policy/b2a3c-food-vision-2030-a-world-leader-in-sustainable-food-systems/latest/?q=watering&sort_by=published_date&type=policy_information&type=general_publications>: HTTP status code is not handled or not allowed',\n",
       " '2025-03-02 14:42:24 [scrapy.spidermiddlewares.httperror] INFO: Ignoring response <403 https://www.gov.ie/en/policy/b2a3c-food-vision-2030-a-world-leader-in-sustainable-food-systems/latest/?q=vegetal&sort_by=published_date&type=policy_information&type=general_publications>: HTTP status code is not handled or not allowed',\n",
       " '2025-03-02 14:42:24 [scrapy.spidermiddlewares.httperror] INFO: Ignoring response <403 https://www.gov.ie/en/policy/b2a3c-food-vision-2030-a-world-leader-in-sustainable-food-systems/latest/?q=tree%20nursery&sort_by=published_date&type=policy_information&type=general_publications>: HTTP status code is not handled or not allowed',\n",
       " '2025-03-02 14:42:24 [scrapy.spidermiddlewares.httperror] INFO: Ignoring response <403 https://www.gov.ie/en/policy/b2a3c-food-vision-2030-a-world-leader-in-sustainable-food-systems/latest/?q=vegetated&sort_by=published_date&type=policy_information&type=general_publications>: HTTP status code is not handled or not allowed',\n",
       " '2025-03-02 14:42:24 [scrapy.spidermiddlewares.httperror] INFO: Ignoring response <403 https://www.gov.ie/en/policy/b2a3c-food-vision-2030-a-world-leader-in-sustainable-food-systems/latest/?q=tree&sort_by=published_date&type=policy_information&type=general_publications>: HTTP status code is not handled or not allowed',\n",
       " '2025-03-02 14:42:24 [scrapy.spidermiddlewares.httperror] INFO: Ignoring response <403 https://www.gov.ie/en/policy/b2a3c-food-vision-2030-a-world-leader-in-sustainable-food-systems/latest/?q=trickle%20irrigation&sort_by=published_date&type=policy_information&type=general_publications>: HTTP status code is not handled or not allowed',\n",
       " '2025-03-02 14:42:24 [scrapy.spidermiddlewares.httperror] INFO: Ignoring response <403 https://www.gov.ie/en/policy/b2a3c-food-vision-2030-a-world-leader-in-sustainable-food-systems/latest/?q=vegetable&sort_by=published_date&type=policy_information&type=general_publications>: HTTP status code is not handled or not allowed',\n",
       " '2025-03-02 14:42:24 [scrapy.spidermiddlewares.httperror] INFO: Ignoring response <403 https://www.gov.ie/en/policy/b2a3c-food-vision-2030-a-world-leader-in-sustainable-food-systems/latest/?q=tree%20cover&sort_by=published_date&type=policy_information&type=general_publications>: HTTP status code is not handled or not allowed',\n",
       " '2025-03-02 14:42:24 [scrapy.spidermiddlewares.httperror] INFO: Ignoring response <403 https://www.gov.ie/en/policy/b2a3c-food-vision-2030-a-world-leader-in-sustainable-food-systems/latest/?q=timber%20species&sort_by=published_date&type=policy_information&type=general_publications>: HTTP status code is not handled or not allowed',\n",
       " '2025-03-02 14:42:24 [scrapy.spidermiddlewares.httperror] INFO: Ignoring response <403 https://www.gov.ie/en/policy/b2a3c-food-vision-2030-a-world-leader-in-sustainable-food-systems/latest/?q=timber&sort_by=published_date&type=policy_information&type=general_publications>: HTTP status code is not handled or not allowed',\n",
       " '2025-03-02 14:42:24 [scrapy.spidermiddlewares.httperror] INFO: Ignoring response <403 https://www.gov.ie/en/policy/b2a3c-food-vision-2030-a-world-leader-in-sustainable-food-systems/latest/?q=timber%20extraction&sort_by=published_date&type=policy_information&type=general_publications>: HTTP status code is not handled or not allowed',\n",
       " '2025-03-02 14:42:24 [scrapy.spidermiddlewares.httperror] INFO: Ignoring response <403 https://www.gov.ie/en/policy/b2a3c-food-vision-2030-a-world-leader-in-sustainable-food-systems/latest/?q=system%20of%20irrigation&sort_by=published_date&type=policy_information&type=general_publications>: HTTP status code is not handled or not allowed',\n",
       " '2025-03-02 14:42:24 [scrapy.spidermiddlewares.httperror] INFO: Ignoring response <403 https://www.gov.ie/en/policy/b2a3c-food-vision-2030-a-world-leader-in-sustainable-food-systems/latest/?q=swamp&sort_by=published_date&type=policy_information&type=general_publications>: HTTP status code is not handled or not allowed',\n",
       " '2025-03-02 14:42:24 [scrapy.spidermiddlewares.httperror] INFO: Ignoring response <403 https://www.gov.ie/en/policy/b2a3c-food-vision-2030-a-world-leader-in-sustainable-food-systems/latest/?q=sustainable%20production&sort_by=published_date&type=policy_information&type=general_publications>: HTTP status code is not handled or not allowed',\n",
       " '2025-03-02 14:42:24 [scrapy.spidermiddlewares.httperror] INFO: Ignoring response <403 https://www.gov.ie/en/policy/b2a3c-food-vision-2030-a-world-leader-in-sustainable-food-systems/latest/?q=sustainable%20development&sort_by=published_date&type=policy_information&type=general_publications>: HTTP status code is not handled or not allowed',\n",
       " '2025-03-02 14:42:24 [scrapy.spidermiddlewares.httperror] INFO: Ignoring response <403 https://www.gov.ie/en/policy/b2a3c-food-vision-2030-a-world-leader-in-sustainable-food-systems/latest/?q=sprinkling&sort_by=published_date&type=policy_information&type=general_publications>: HTTP status code is not handled or not allowed',\n",
       " '2025-03-02 14:42:24 [scrapy.spidermiddlewares.httperror] INFO: Ignoring response <403 https://www.gov.ie/en/policy/b2a3c-food-vision-2030-a-world-leader-in-sustainable-food-systems/latest/?q=stewardship&sort_by=published_date&type=policy_information&type=general_publications>: HTTP status code is not handled or not allowed',\n",
       " '2025-03-02 14:42:24 [scrapy.spidermiddlewares.httperror] INFO: Ignoring response <403 https://www.gov.ie/en/policy/b2a3c-food-vision-2030-a-world-leader-in-sustainable-food-systems/latest/?q=sprinkle%20irrigation&sort_by=published_date&type=policy_information&type=general_publications>: HTTP status code is not handled or not allowed',\n",
       " '2025-03-02 14:42:24 [scrapy.spidermiddlewares.httperror] INFO: Ignoring response <403 https://www.gov.ie/en/policy/b2a3c-food-vision-2030-a-world-leader-in-sustainable-food-systems/latest/?q=sprinkler%20irrigation&sort_by=published_date&type=policy_information&type=general_publications>: HTTP status code is not handled or not allowed',\n",
       " '2025-03-02 14:42:24 [scrapy.spidermiddlewares.httperror] INFO: Ignoring response <403 https://www.gov.ie/en/policy/b2a3c-food-vision-2030-a-world-leader-in-sustainable-food-systems/latest/?q=spray%20irrigation&sort_by=published_date&type=policy_information&type=general_publications>: HTTP status code is not handled or not allowed',\n",
       " '2025-03-02 14:42:24 [scrapy.spidermiddlewares.httperror] INFO: Ignoring response <403 https://www.gov.ie/en/policy/b2a3c-food-vision-2030-a-world-leader-in-sustainable-food-systems/latest/?q=silvopasture&sort_by=published_date&type=policy_information&type=general_publications>: HTTP status code is not handled or not allowed',\n",
       " '2025-03-02 14:42:24 [scrapy.spidermiddlewares.httperror] INFO: Ignoring response <403 https://www.gov.ie/en/policy/b2a3c-food-vision-2030-a-world-leader-in-sustainable-food-systems/latest/?q=soil&sort_by=published_date&type=policy_information&type=general_publications>: HTTP status code is not handled or not allowed',\n",
       " '2025-03-02 14:42:24 [scrapy.spidermiddlewares.httperror] INFO: Ignoring response <403 https://www.gov.ie/en/policy/b2a3c-food-vision-2030-a-world-leader-in-sustainable-food-systems/latest/?q=silviculture&sort_by=published_date&type=policy_information&type=general_publications>: HTTP status code is not handled or not allowed',\n",
       " '2025-03-02 14:42:24 [scrapy.spidermiddlewares.httperror] INFO: Ignoring response <403 https://www.gov.ie/en/policy/b2a3c-food-vision-2030-a-world-leader-in-sustainable-food-systems/latest/?q=shrubland&sort_by=published_date&type=policy_information&type=general_publications>: HTTP status code is not handled or not allowed',\n",
       " '2025-03-02 14:42:24 [scrapy.spidermiddlewares.httperror] INFO: Ignoring response <403 https://www.gov.ie/en/policy/b2a3c-food-vision-2030-a-world-leader-in-sustainable-food-systems/latest/?q=shrub&sort_by=published_date&type=policy_information&type=general_publications>: HTTP status code is not handled or not allowed',\n",
       " '2025-03-02 14:42:24 [scrapy.spidermiddlewares.httperror] INFO: Ignoring response <403 https://www.gov.ie/en/policy/b2a3c-food-vision-2030-a-world-leader-in-sustainable-food-systems/latest/?q=selective%20cutting&sort_by=published_date&type=policy_information&type=general_publications>: HTTP status code is not handled or not allowed',\n",
       " '2025-03-02 14:42:24 [scrapy.spidermiddlewares.httperror] INFO: Ignoring response <403 https://www.gov.ie/en/policy/b2a3c-food-vision-2030-a-world-leader-in-sustainable-food-systems/latest/?q=seedbed&sort_by=published_date&type=policy_information&type=general_publications>: HTTP status code is not handled or not allowed',\n",
       " '2025-03-02 14:42:24 [scrapy.spidermiddlewares.httperror] INFO: Ignoring response <403 https://www.gov.ie/en/policy/b2a3c-food-vision-2030-a-world-leader-in-sustainable-food-systems/latest/?q=seed&sort_by=published_date&type=policy_information&type=general_publications>: HTTP status code is not handled or not allowed',\n",
       " '2025-03-02 14:42:24 [scrapy.spidermiddlewares.httperror] INFO: Ignoring response <403 https://www.gov.ie/en/policy/b2a3c-food-vision-2030-a-world-leader-in-sustainable-food-systems/latest/?q=scrubland&sort_by=published_date&type=policy_information&type=general_publications>: HTTP status code is not handled or not allowed',\n",
       " '2025-03-02 14:42:25 [scrapy.spidermiddlewares.httperror] INFO: Ignoring response <403 https://www.gov.ie/en/policy/b2a3c-food-vision-2030-a-world-leader-in-sustainable-food-systems/latest/?q=salt%20marsh&sort_by=published_date&type=policy_information&type=general_publications>: HTTP status code is not handled or not allowed',\n",
       " '2025-03-02 14:42:25 [scrapy.spidermiddlewares.httperror] INFO: Ignoring response <403 https://www.gov.ie/en/policy/b2a3c-food-vision-2030-a-world-leader-in-sustainable-food-systems/latest/?q=rural&sort_by=published_date&type=policy_information&type=general_publications>: HTTP status code is not handled or not allowed',\n",
       " '2025-03-02 14:42:25 [scrapy.spidermiddlewares.httperror] INFO: Ignoring response <403 https://www.gov.ie/en/policy/b2a3c-food-vision-2030-a-world-leader-in-sustainable-food-systems/latest/?q=riverbank&sort_by=published_date&type=policy_information&type=general_publications>: HTTP status code is not handled or not allowed',\n",
       " '2025-03-02 14:42:25 [scrapy.spidermiddlewares.httperror] INFO: Ignoring response <403 https://www.gov.ie/en/policy/b2a3c-food-vision-2030-a-world-leader-in-sustainable-food-systems/latest/?q=restoration&sort_by=published_date&type=policy_information&type=general_publications>: HTTP status code is not handled or not allowed',\n",
       " '2025-03-02 14:42:25 [scrapy.spidermiddlewares.httperror] INFO: Ignoring response <403 https://www.gov.ie/en/policy/b2a3c-food-vision-2030-a-world-leader-in-sustainable-food-systems/latest/?q=resin%20extraction&sort_by=published_date&type=policy_information&type=general_publications>: HTTP status code is not handled or not allowed',\n",
       " '2025-03-02 14:42:25 [scrapy.spidermiddlewares.httperror] INFO: Ignoring response <403 https://www.gov.ie/en/policy/b2a3c-food-vision-2030-a-world-leader-in-sustainable-food-systems/latest/?q=rural%20development&sort_by=published_date&type=policy_information&type=general_publications>: HTTP status code is not handled or not allowed',\n",
       " '2025-03-02 14:42:25 [scrapy.spidermiddlewares.httperror] INFO: Ignoring response <403 https://www.gov.ie/en/policy/b2a3c-food-vision-2030-a-world-leader-in-sustainable-food-systems/latest/?q=risk%20of%20extinction&sort_by=published_date&type=policy_information&type=general_publications>: HTTP status code is not handled or not allowed',\n",
       " '2025-03-02 14:42:25 [scrapy.spidermiddlewares.httperror] INFO: Ignoring response <403 https://www.gov.ie/en/policy/b2a3c-food-vision-2030-a-world-leader-in-sustainable-food-systems/latest/?q=reserve&sort_by=published_date&type=policy_information&type=general_publications>: HTTP status code is not handled or not allowed',\n",
       " '2025-03-02 14:42:25 [scrapy.spidermiddlewares.httperror] INFO: Ignoring response <403 https://www.gov.ie/en/policy/b2a3c-food-vision-2030-a-world-leader-in-sustainable-food-systems/latest/?q=rehabilitation&sort_by=published_date&type=policy_information&type=general_publications>: HTTP status code is not handled or not allowed',\n",
       " '2025-03-02 14:42:25 [scrapy.spidermiddlewares.httperror] INFO: Ignoring response <403 https://www.gov.ie/en/policy/b2a3c-food-vision-2030-a-world-leader-in-sustainable-food-systems/latest/?q=rangeland&sort_by=published_date&type=policy_information&type=general_publications>: HTTP status code is not handled or not allowed',\n",
       " '2025-03-02 14:42:25 [scrapy.spidermiddlewares.httperror] INFO: Ignoring response <403 https://www.gov.ie/en/policy/b2a3c-food-vision-2030-a-world-leader-in-sustainable-food-systems/latest/?q=regeneration&sort_by=published_date&type=policy_information&type=general_publications>: HTTP status code is not handled or not allowed',\n",
       " '2025-03-02 14:42:25 [scrapy.spidermiddlewares.httperror] INFO: Ignoring response <403 https://www.gov.ie/en/policy/b2a3c-food-vision-2030-a-world-leader-in-sustainable-food-systems/latest/?q=protection&sort_by=published_date&type=policy_information&type=general_publications>: HTTP status code is not handled or not allowed',\n",
       " '2025-03-02 14:42:25 [scrapy.spidermiddlewares.httperror] INFO: Ignoring response <403 https://www.gov.ie/en/policy/b2a3c-food-vision-2030-a-world-leader-in-sustainable-food-systems/latest/?q=rancher&sort_by=published_date&type=policy_information&type=general_publications>: HTTP status code is not handled or not allowed',\n",
       " '2025-03-02 14:42:25 [scrapy.spidermiddlewares.httperror] INFO: Ignoring response <403 https://www.gov.ie/en/policy/b2a3c-food-vision-2030-a-world-leader-in-sustainable-food-systems/latest/?q=reforestation&sort_by=published_date&type=policy_information&type=general_publications>: HTTP status code is not handled or not allowed',\n",
       " '2025-03-02 14:42:25 [scrapy.spidermiddlewares.httperror] INFO: Ignoring response <403 https://www.gov.ie/en/policy/b2a3c-food-vision-2030-a-world-leader-in-sustainable-food-systems/latest/?q=preservation&sort_by=published_date&type=policy_information&type=general_publications>: HTTP status code is not handled or not allowed',\n",
       " '2025-03-02 14:42:25 [scrapy.spidermiddlewares.httperror] INFO: Ignoring response <403 https://www.gov.ie/en/policy/b2a3c-food-vision-2030-a-world-leader-in-sustainable-food-systems/latest/?q=prairie&sort_by=published_date&type=policy_information&type=general_publications>: HTTP status code is not handled or not allowed',\n",
       " '2025-03-02 14:42:25 [scrapy.spidermiddlewares.httperror] INFO: Ignoring response <403 https://www.gov.ie/en/policy/b2a3c-food-vision-2030-a-world-leader-in-sustainable-food-systems/latest/?q=plantation&sort_by=published_date&type=policy_information&type=general_publications>: HTTP status code is not handled or not allowed',\n",
       " '2025-03-02 14:42:25 [scrapy.spidermiddlewares.httperror] INFO: Ignoring response <403 https://www.gov.ie/en/policy/b2a3c-food-vision-2030-a-world-leader-in-sustainable-food-systems/latest/?q=plant%20nursery&sort_by=published_date&type=policy_information&type=general_publications>: HTTP status code is not handled or not allowed',\n",
       " '2025-03-02 14:42:25 [scrapy.spidermiddlewares.httperror] INFO: Ignoring response <403 https://www.gov.ie/en/policy/b2a3c-food-vision-2030-a-world-leader-in-sustainable-food-systems/latest/?q=pollution&sort_by=published_date&type=policy_information&type=general_publications>: HTTP status code is not handled or not allowed',\n",
       " '2025-03-02 14:42:25 [scrapy.spidermiddlewares.httperror] INFO: Ignoring response <403 https://www.gov.ie/en/policy/b2a3c-food-vision-2030-a-world-leader-in-sustainable-food-systems/latest/?q=plants&sort_by=published_date&type=policy_information&type=general_publications>: HTTP status code is not handled or not allowed',\n",
       " '2025-03-02 14:42:25 [scrapy.spidermiddlewares.httperror] INFO: Ignoring response <403 https://www.gov.ie/en/policy/b2a3c-food-vision-2030-a-world-leader-in-sustainable-food-systems/latest/?q=plant%20exudates&sort_by=published_date&type=policy_information&type=general_publications>: HTTP status code is not handled or not allowed',\n",
       " '2025-03-02 14:42:25 [scrapy.spidermiddlewares.httperror] INFO: Ignoring response <403 https://www.gov.ie/en/policy/b2a3c-food-vision-2030-a-world-leader-in-sustainable-food-systems/latest/?q=plain&sort_by=published_date&type=policy_information&type=general_publications>: HTTP status code is not handled or not allowed',\n",
       " '2025-03-02 14:42:25 [scrapy.spidermiddlewares.httperror] INFO: Ignoring response <403 https://www.gov.ie/en/policy/b2a3c-food-vision-2030-a-world-leader-in-sustainable-food-systems/latest/?q=phytosanitary&sort_by=published_date&type=policy_information&type=general_publications>: HTTP status code is not handled or not allowed',\n",
       " '2025-03-02 14:42:25 [scrapy.spidermiddlewares.httperror] INFO: Ignoring response <403 https://www.gov.ie/en/policy/b2a3c-food-vision-2030-a-world-leader-in-sustainable-food-systems/latest/?q=peatland&sort_by=published_date&type=policy_information&type=general_publications>: HTTP status code is not handled or not allowed',\n",
       " '2025-03-02 14:42:25 [scrapy.spidermiddlewares.httperror] INFO: Ignoring response <403 https://www.gov.ie/en/policy/b2a3c-food-vision-2030-a-world-leader-in-sustainable-food-systems/latest/?q=pit&sort_by=published_date&type=policy_information&type=general_publications>: HTTP status code is not handled or not allowed',\n",
       " '2025-03-02 14:42:25 [scrapy.spidermiddlewares.httperror] INFO: Ignoring response <403 https://www.gov.ie/en/policy/b2a3c-food-vision-2030-a-world-leader-in-sustainable-food-systems/latest/?q=peat&sort_by=published_date&type=policy_information&type=general_publications>: HTTP status code is not handled or not allowed',\n",
       " '2025-03-02 14:42:25 [scrapy.spidermiddlewares.httperror] INFO: Ignoring response <403 https://www.gov.ie/en/policy/b2a3c-food-vision-2030-a-world-leader-in-sustainable-food-systems/latest/?q=pine%20resin&sort_by=published_date&type=policy_information&type=general_publications>: HTTP status code is not handled or not allowed',\n",
       " '2025-03-02 14:42:25 [scrapy.spidermiddlewares.httperror] INFO: Ignoring response <403 https://www.gov.ie/en/policy/b2a3c-food-vision-2030-a-world-leader-in-sustainable-food-systems/latest/?q=pasture&sort_by=published_date&type=policy_information&type=general_publications>: HTTP status code is not handled or not allowed',\n",
       " '2025-03-02 14:42:25 [scrapy.spidermiddlewares.httperror] INFO: Ignoring response <403 https://www.gov.ie/en/policy/b2a3c-food-vision-2030-a-world-leader-in-sustainable-food-systems/latest/?q=overgrazing&sort_by=published_date&type=policy_information&type=general_publications>: HTTP status code is not handled or not allowed',\n",
       " '2025-03-02 14:42:25 [scrapy.spidermiddlewares.httperror] INFO: Ignoring response <403 https://www.gov.ie/en/policy/b2a3c-food-vision-2030-a-world-leader-in-sustainable-food-systems/latest/?q=over-grazing&sort_by=published_date&type=policy_information&type=general_publications>: HTTP status code is not handled or not allowed',\n",
       " '2025-03-02 14:42:25 [scrapy.spidermiddlewares.httperror] INFO: Ignoring response <403 https://www.gov.ie/en/policy/b2a3c-food-vision-2030-a-world-leader-in-sustainable-food-systems/latest/?q=over%20grazing&sort_by=published_date&type=policy_information&type=general_publications>: HTTP status code is not handled or not allowed',\n",
       " '2025-03-02 14:42:25 [scrapy.spidermiddlewares.httperror] INFO: Ignoring response <403 https://www.gov.ie/en/policy/b2a3c-food-vision-2030-a-world-leader-in-sustainable-food-systems/latest/?q=ore&sort_by=published_date&type=policy_information&type=general_publications>: HTTP status code is not handled or not allowed',\n",
       " '2025-03-02 14:42:25 [scrapy.spidermiddlewares.httperror] INFO: Ignoring response <403 https://www.gov.ie/en/policy/b2a3c-food-vision-2030-a-world-leader-in-sustainable-food-systems/latest/?q=nature%20reserve&sort_by=published_date&type=policy_information&type=general_publications>: HTTP status code is not handled or not allowed',\n",
       " '2025-03-02 14:42:25 [scrapy.spidermiddlewares.httperror] INFO: Ignoring response <403 https://www.gov.ie/en/policy/b2a3c-food-vision-2030-a-world-leader-in-sustainable-food-systems/latest/?q=natural%20rubber&sort_by=published_date&type=policy_information&type=general_publications>: HTTP status code is not handled or not allowed',\n",
       " '2025-03-02 14:42:25 [scrapy.spidermiddlewares.httperror] INFO: Ignoring response <403 https://www.gov.ie/en/policy/b2a3c-food-vision-2030-a-world-leader-in-sustainable-food-systems/latest/?q=natural%20resource&sort_by=published_date&type=policy_information&type=general_publications>: HTTP status code is not handled or not allowed',\n",
       " '2025-03-02 14:42:25 [scrapy.spidermiddlewares.httperror] INFO: Ignoring response <403 https://www.gov.ie/en/policy/b2a3c-food-vision-2030-a-world-leader-in-sustainable-food-systems/latest/?q=natural%20habitat&sort_by=published_date&type=policy_information&type=general_publications>: HTTP status code is not handled or not allowed',\n",
       " '2025-03-02 14:42:25 [scrapy.spidermiddlewares.httperror] INFO: Ignoring response <403 https://www.gov.ie/en/policy/b2a3c-food-vision-2030-a-world-leader-in-sustainable-food-systems/latest/?q=natural%20regeneration&sort_by=published_date&type=policy_information&type=general_publications>: HTTP status code is not handled or not allowed',\n",
       " '2025-03-02 14:42:25 [scrapy.spidermiddlewares.httperror] INFO: Ignoring response <403 https://www.gov.ie/en/policy/b2a3c-food-vision-2030-a-world-leader-in-sustainable-food-systems/latest/?q=natural%20reserve&sort_by=published_date&type=policy_information&type=general_publications>: HTTP status code is not handled or not allowed',\n",
       " '2025-03-02 14:42:25 [scrapy.spidermiddlewares.httperror] INFO: Ignoring response <403 https://www.gov.ie/en/policy/b2a3c-food-vision-2030-a-world-leader-in-sustainable-food-systems/latest/?q=natural%20park&sort_by=published_date&type=policy_information&type=general_publications>: HTTP status code is not handled or not allowed',\n",
       " '2025-03-02 14:42:25 [scrapy.spidermiddlewares.httperror] INFO: Ignoring response <403 https://www.gov.ie/en/policy/b2a3c-food-vision-2030-a-world-leader-in-sustainable-food-systems/latest/?q=natural%20oil&sort_by=published_date&type=policy_information&type=general_publications>: HTTP status code is not handled or not allowed',\n",
       " '2025-03-02 14:42:25 [scrapy.spidermiddlewares.httperror] INFO: Ignoring response <403 https://www.gov.ie/en/policy/b2a3c-food-vision-2030-a-world-leader-in-sustainable-food-systems/latest/?q=natural%20heritage&sort_by=published_date&type=policy_information&type=general_publications>: HTTP status code is not handled or not allowed',\n",
       " '2025-03-02 14:42:25 [scrapy.spidermiddlewares.httperror] INFO: Ignoring response <403 https://www.gov.ie/en/policy/b2a3c-food-vision-2030-a-world-leader-in-sustainable-food-systems/latest/?q=natural%20lacquer&sort_by=published_date&type=policy_information&type=general_publications>: HTTP status code is not handled or not allowed',\n",
       " '2025-03-02 14:42:25 [scrapy.spidermiddlewares.httperror] INFO: Ignoring response <403 https://www.gov.ie/en/policy/b2a3c-food-vision-2030-a-world-leader-in-sustainable-food-systems/latest/?q=natural%20fibre&sort_by=published_date&type=policy_information&type=general_publications>: HTTP status code is not handled or not allowed',\n",
       " '2025-03-02 14:42:25 [scrapy.spidermiddlewares.httperror] INFO: Ignoring response <403 https://www.gov.ie/en/policy/b2a3c-food-vision-2030-a-world-leader-in-sustainable-food-systems/latest/?q=mineral&sort_by=published_date&type=policy_information&type=general_publications>: HTTP status code is not handled or not allowed',\n",
       " '2025-03-02 14:42:25 [scrapy.spidermiddlewares.httperror] INFO: Ignoring response <403 https://www.gov.ie/en/policy/b2a3c-food-vision-2030-a-world-leader-in-sustainable-food-systems/latest/?q=natural%20good&sort_by=published_date&type=policy_information&type=general_publications>: HTTP status code is not handled or not allowed',\n",
       " '2025-03-02 14:42:25 [scrapy.spidermiddlewares.httperror] INFO: Ignoring response <403 https://www.gov.ie/en/policy/b2a3c-food-vision-2030-a-world-leader-in-sustainable-food-systems/latest/?q=natural%20fiber&sort_by=published_date&type=policy_information&type=general_publications>: HTTP status code is not handled or not allowed',\n",
       " '2025-03-02 14:42:25 [scrapy.spidermiddlewares.httperror] INFO: Ignoring response <403 https://www.gov.ie/en/policy/b2a3c-food-vision-2030-a-world-leader-in-sustainable-food-systems/latest/?q=national%20park&sort_by=published_date&type=policy_information&type=general_publications>: HTTP status code is not handled or not allowed',\n",
       " '2025-03-02 14:42:25 [scrapy.spidermiddlewares.httperror] INFO: Ignoring response <403 https://www.gov.ie/en/policy/b2a3c-food-vision-2030-a-world-leader-in-sustainable-food-systems/latest/?q=mining%20extraction&sort_by=published_date&type=policy_information&type=general_publications>: HTTP status code is not handled or not allowed',\n",
       " '2025-03-02 14:42:25 [scrapy.spidermiddlewares.httperror] INFO: Ignoring response <403 https://www.gov.ie/en/policy/b2a3c-food-vision-2030-a-world-leader-in-sustainable-food-systems/latest/?q=natural%20asset&sort_by=published_date&type=policy_information&type=general_publications>: HTTP status code is not handled or not allowed',\n",
       " '2025-03-02 14:42:25 [scrapy.spidermiddlewares.httperror] INFO: Ignoring response <403 https://www.gov.ie/en/policy/b2a3c-food-vision-2030-a-world-leader-in-sustainable-food-systems/latest/?q=mineral%20mining&sort_by=published_date&type=policy_information&type=general_publications>: HTTP status code is not handled or not allowed',\n",
       " '2025-03-02 14:42:25 [scrapy.spidermiddlewares.httperror] INFO: Ignoring response <403 https://www.gov.ie/en/policy/b2a3c-food-vision-2030-a-world-leader-in-sustainable-food-systems/latest/?q=mineral%20extraction&sort_by=published_date&type=policy_information&type=general_publications>: HTTP status code is not handled or not allowed',\n",
       " '2025-03-02 14:42:25 [scrapy.spidermiddlewares.httperror] INFO: Ignoring response <403 https://www.gov.ie/en/policy/b2a3c-food-vision-2030-a-world-leader-in-sustainable-food-systems/latest/?q=meadow&sort_by=published_date&type=policy_information&type=general_publications>: HTTP status code is not handled or not allowed',\n",
       " '2025-03-02 14:42:25 [scrapy.spidermiddlewares.httperror] INFO: Ignoring response <403 https://www.gov.ie/en/policy/b2a3c-food-vision-2030-a-world-leader-in-sustainable-food-systems/latest/?q=microsprinkler&sort_by=published_date&type=policy_information&type=general_publications>: HTTP status code is not handled or not allowed',\n",
       " '2025-03-02 14:42:25 [scrapy.spidermiddlewares.httperror] INFO: Ignoring response <403 https://www.gov.ie/en/policy/b2a3c-food-vision-2030-a-world-leader-in-sustainable-food-systems/latest/?q=mine&sort_by=published_date&type=policy_information&type=general_publications>: HTTP status code is not handled or not allowed',\n",
       " '2025-03-02 14:42:25 [scrapy.spidermiddlewares.httperror] INFO: Ignoring response <403 https://www.gov.ie/en/policy/b2a3c-food-vision-2030-a-world-leader-in-sustainable-food-systems/latest/?q=miner&sort_by=published_date&type=policy_information&type=general_publications>: HTTP status code is not handled or not allowed',\n",
       " '2025-03-02 14:42:25 [scrapy.spidermiddlewares.httperror] INFO: Ignoring response <403 https://www.gov.ie/en/policy/b2a3c-food-vision-2030-a-world-leader-in-sustainable-food-systems/latest/?q=micro%20sprinkler&sort_by=published_date&type=policy_information&type=general_publications>: HTTP status code is not handled or not allowed',\n",
       " '2025-03-02 14:42:25 [scrapy.spidermiddlewares.httperror] INFO: Ignoring response <403 https://www.gov.ie/en/policy/b2a3c-food-vision-2030-a-world-leader-in-sustainable-food-systems/latest/?q=livestock%20industry&sort_by=published_date&type=policy_information&type=general_publications>: HTTP status code is not handled or not allowed',\n",
       " '2025-03-02 14:42:25 [scrapy.spidermiddlewares.httperror] INFO: Ignoring response <403 https://www.gov.ie/en/policy/b2a3c-food-vision-2030-a-world-leader-in-sustainable-food-systems/latest/?q=marsh&sort_by=published_date&type=policy_information&type=general_publications>: HTTP status code is not handled or not allowed',\n",
       " '2025-03-02 14:42:25 [scrapy.spidermiddlewares.httperror] INFO: Ignoring response <403 https://www.gov.ie/en/policy/b2a3c-food-vision-2030-a-world-leader-in-sustainable-food-systems/latest/?q=mangrove&sort_by=published_date&type=policy_information&type=general_publications>: HTTP status code is not handled or not allowed',\n",
       " '2025-03-02 14:42:25 [scrapy.spidermiddlewares.httperror] INFO: Ignoring response <403 https://www.gov.ie/en/policy/b2a3c-food-vision-2030-a-world-leader-in-sustainable-food-systems/latest/?q=manure&sort_by=published_date&type=policy_information&type=general_publications>: HTTP status code is not handled or not allowed',\n",
       " '2025-03-02 14:42:25 [scrapy.spidermiddlewares.httperror] INFO: Ignoring response <403 https://www.gov.ie/en/policy/b2a3c-food-vision-2030-a-world-leader-in-sustainable-food-systems/latest/?q=livestock&sort_by=published_date&type=policy_information&type=general_publications>: HTTP status code is not handled or not allowed',\n",
       " '2025-03-02 14:42:25 [scrapy.spidermiddlewares.httperror] INFO: Ignoring response <403 https://www.gov.ie/en/policy/b2a3c-food-vision-2030-a-world-leader-in-sustainable-food-systems/latest/?q=latex%20extraction&sort_by=published_date&type=policy_information&type=general_publications>: HTTP status code is not handled or not allowed',\n",
       " '2025-03-02 14:42:25 [scrapy.spidermiddlewares.httperror] INFO: Ignoring response <403 https://www.gov.ie/en/policy/b2a3c-food-vision-2030-a-world-leader-in-sustainable-food-systems/latest/?q=life%20cycle&sort_by=published_date&type=policy_information&type=general_publications>: HTTP status code is not handled or not allowed',\n",
       " '2025-03-02 14:42:25 [scrapy.spidermiddlewares.httperror] INFO: Ignoring response <403 https://www.gov.ie/en/policy/b2a3c-food-vision-2030-a-world-leader-in-sustainable-food-systems/latest/?q=illicit%20cultivation&sort_by=published_date&type=policy_information&type=general_publications>: HTTP status code is not handled or not allowed',\n",
       " '2025-03-02 14:42:25 [scrapy.spidermiddlewares.httperror] INFO: Ignoring response <403 https://www.gov.ie/en/policy/b2a3c-food-vision-2030-a-world-leader-in-sustainable-food-systems/latest/?q=irrigation%20scheme&sort_by=published_date&type=policy_information&type=general_publications>: HTTP status code is not handled or not allowed',\n",
       " '2025-03-02 14:42:25 [scrapy.spidermiddlewares.httperror] INFO: Ignoring response <403 https://www.gov.ie/en/policy/b2a3c-food-vision-2030-a-world-leader-in-sustainable-food-systems/latest/?q=husbandry&sort_by=published_date&type=policy_information&type=general_publications>: HTTP status code is not handled or not allowed',\n",
       " '2025-03-02 14:42:25 [scrapy.spidermiddlewares.httperror] INFO: Ignoring response <403 https://www.gov.ie/en/policy/b2a3c-food-vision-2030-a-world-leader-in-sustainable-food-systems/latest/?q=landowner&sort_by=published_date&type=policy_information&type=general_publications>: HTTP status code is not handled or not allowed',\n",
       " '2025-03-02 14:42:25 [scrapy.spidermiddlewares.httperror] INFO: Ignoring response <403 https://www.gov.ie/en/policy/b2a3c-food-vision-2030-a-world-leader-in-sustainable-food-systems/latest/?q=irrigation&sort_by=published_date&type=policy_information&type=general_publications>: HTTP status code is not handled or not allowed',\n",
       " '2025-03-02 14:42:25 [scrapy.spidermiddlewares.httperror] INFO: Ignoring response <403 https://www.gov.ie/en/policy/b2a3c-food-vision-2030-a-world-leader-in-sustainable-food-systems/latest/?q=landscape&sort_by=published_date&type=policy_information&type=general_publications>: HTTP status code is not handled or not allowed',\n",
       " '2025-03-02 14:42:25 [scrapy.spidermiddlewares.httperror] INFO: Ignoring response <403 https://www.gov.ie/en/policy/b2a3c-food-vision-2030-a-world-leader-in-sustainable-food-systems/latest/?q=land%20use&sort_by=published_date&type=policy_information&type=general_publications>: HTTP status code is not handled or not allowed',\n",
       " '2025-03-02 14:42:25 [scrapy.spidermiddlewares.httperror] INFO: Ignoring response <403 https://www.gov.ie/en/policy/b2a3c-food-vision-2030-a-world-leader-in-sustainable-food-systems/latest/?q=hay&sort_by=published_date&type=policy_information&type=general_publications>: HTTP status code is not handled or not allowed',\n",
       " '2025-03-02 14:42:25 [scrapy.spidermiddlewares.httperror] INFO: Ignoring response <403 https://www.gov.ie/en/policy/b2a3c-food-vision-2030-a-world-leader-in-sustainable-food-systems/latest/?q=harvesting&sort_by=published_date&type=policy_information&type=general_publications>: HTTP status code is not handled or not allowed',\n",
       " '2025-03-02 14:42:25 [scrapy.spidermiddlewares.httperror] INFO: Ignoring response <403 https://www.gov.ie/en/policy/b2a3c-food-vision-2030-a-world-leader-in-sustainable-food-systems/latest/?q=green%20manure&sort_by=published_date&type=policy_information&type=general_publications>: HTTP status code is not handled or not allowed',\n",
       " '2025-03-02 14:42:25 [scrapy.spidermiddlewares.httperror] INFO: Ignoring response <403 https://www.gov.ie/en/policy/b2a3c-food-vision-2030-a-world-leader-in-sustainable-food-systems/latest/?q=harvest&sort_by=published_date&type=policy_information&type=general_publications>: HTTP status code is not handled or not allowed',\n",
       " '2025-03-02 14:42:25 [scrapy.spidermiddlewares.httperror] INFO: Ignoring response <403 https://www.gov.ie/en/policy/b2a3c-food-vision-2030-a-world-leader-in-sustainable-food-systems/latest/?q=herd&sort_by=published_date&type=policy_information&type=general_publications>: HTTP status code is not handled or not allowed',\n",
       " '2025-03-02 14:42:25 [scrapy.spidermiddlewares.httperror] INFO: Ignoring response <403 https://www.gov.ie/en/policy/b2a3c-food-vision-2030-a-world-leader-in-sustainable-food-systems/latest/?q=grazing&sort_by=published_date&type=policy_information&type=general_publications>: HTTP status code is not handled or not allowed',\n",
       " '2025-03-02 14:42:25 [scrapy.spidermiddlewares.httperror] INFO: Ignoring response <403 https://www.gov.ie/en/policy/b2a3c-food-vision-2030-a-world-leader-in-sustainable-food-systems/latest/?q=hotbed&sort_by=published_date&type=policy_information&type=general_publications>: HTTP status code is not handled or not allowed',\n",
       " '2025-03-02 14:42:25 [scrapy.spidermiddlewares.httperror] INFO: Ignoring response <403 https://www.gov.ie/en/policy/b2a3c-food-vision-2030-a-world-leader-in-sustainable-food-systems/latest/?q=grassland&sort_by=published_date&type=policy_information&type=general_publications>: HTTP status code is not handled or not allowed',\n",
       " '2025-03-02 14:42:25 [scrapy.spidermiddlewares.httperror] INFO: Ignoring response <403 https://www.gov.ie/en/policy/b2a3c-food-vision-2030-a-world-leader-in-sustainable-food-systems/latest/?q=germoplasm%20bank&sort_by=published_date&type=policy_information&type=general_publications>: HTTP status code is not handled or not allowed',\n",
       " '2025-03-02 14:42:25 [scrapy.spidermiddlewares.httperror] INFO: Ignoring response <403 https://www.gov.ie/en/policy/b2a3c-food-vision-2030-a-world-leader-in-sustainable-food-systems/latest/?q=germoplasm&sort_by=published_date&type=policy_information&type=general_publications>: HTTP status code is not handled or not allowed',\n",
       " '2025-03-02 14:42:25 [scrapy.spidermiddlewares.httperror] INFO: Ignoring response <403 https://www.gov.ie/en/policy/b2a3c-food-vision-2030-a-world-leader-in-sustainable-food-systems/latest/?q=fungicidal&sort_by=published_date&type=policy_information&type=general_publications>: HTTP status code is not handled or not allowed',\n",
       " '2025-03-02 14:42:25 [scrapy.spidermiddlewares.httperror] INFO: Ignoring response <403 https://www.gov.ie/en/policy/b2a3c-food-vision-2030-a-world-leader-in-sustainable-food-systems/latest/?q=geologic&sort_by=published_date&type=policy_information&type=general_publications>: HTTP status code is not handled or not allowed',\n",
       " '2025-03-02 14:42:25 [scrapy.spidermiddlewares.httperror] INFO: Ignoring response <403 https://www.gov.ie/en/policy/b2a3c-food-vision-2030-a-world-leader-in-sustainable-food-systems/latest/?q=fuelwood&sort_by=published_date&type=policy_information&type=general_publications>: HTTP status code is not handled or not allowed',\n",
       " '2025-03-02 14:42:25 [scrapy.spidermiddlewares.httperror] INFO: Ignoring response <403 https://www.gov.ie/en/policy/b2a3c-food-vision-2030-a-world-leader-in-sustainable-food-systems/latest/?q=fungicide&sort_by=published_date&type=policy_information&type=general_publications>: HTTP status code is not handled or not allowed',\n",
       " '2025-03-02 14:42:25 [scrapy.spidermiddlewares.httperror] INFO: Ignoring response <403 https://www.gov.ie/en/policy/b2a3c-food-vision-2030-a-world-leader-in-sustainable-food-systems/latest/?q=geological&sort_by=published_date&type=policy_information&type=general_publications>: HTTP status code is not handled or not allowed',\n",
       " '2025-03-02 14:42:25 [scrapy.spidermiddlewares.httperror] INFO: Ignoring response <403 https://www.gov.ie/en/policy/b2a3c-food-vision-2030-a-world-leader-in-sustainable-food-systems/latest/?q=fuel%20wood&sort_by=published_date&type=policy_information&type=general_publications>: HTTP status code is not handled or not allowed',\n",
       " '2025-03-02 14:42:25 [scrapy.spidermiddlewares.httperror] INFO: Ignoring response <403 https://www.gov.ie/en/policy/b2a3c-food-vision-2030-a-world-leader-in-sustainable-food-systems/latest/?q=forestry&sort_by=published_date&type=policy_information&type=general_publications>: HTTP status code is not handled or not allowed',\n",
       " '2025-03-02 14:42:25 [scrapy.spidermiddlewares.httperror] INFO: Ignoring response <403 https://www.gov.ie/en/policy/b2a3c-food-vision-2030-a-world-leader-in-sustainable-food-systems/latest/?q=freshwater&sort_by=published_date&type=policy_information&type=general_publications>: HTTP status code is not handled or not allowed',\n",
       " '2025-03-02 14:42:26 [scrapy.spidermiddlewares.httperror] INFO: Ignoring response <403 https://www.gov.ie/en/policy-information/657322-atlantic-economic-corridor/>: HTTP status code is not handled or not allowed',\n",
       " '2025-03-02 14:42:26 [scrapy.spidermiddlewares.httperror] INFO: Ignoring response <403 https://www.gov.ie/en/publication/59cd4b-action-plan-for-rural-development-first-progress-report/>: HTTP status code is not handled or not allowed',\n",
       " '2025-03-02 14:42:26 [scrapy.spidermiddlewares.httperror] INFO: Ignoring response <403 https://www.gov.ie/en/policy-information/5f798d-rural-broadband-national-broadband-plan/>: HTTP status code is not handled or not allowed',\n",
       " '2025-03-02 14:42:26 [scrapy.spidermiddlewares.httperror] INFO: Ignoring response <403 https://www.gov.ie/en/publication/8360da-figures-spent-on-local-roads-improvements-2018/>: HTTP status code is not handled or not allowed',\n",
       " '2025-03-02 14:42:26 [scrapy.spidermiddlewares.httperror] INFO: Ignoring response <403 https://www.gov.ie/en/policy-information/179274-leader-rural-development/>: HTTP status code is not handled or not allowed',\n",
       " '2025-03-02 14:42:26 [scrapy.spidermiddlewares.httperror] INFO: Ignoring response <403 https://www.gov.ie/en/policy-information/91ba52-clar/>: HTTP status code is not handled or not allowed',\n",
       " '2025-03-02 14:42:26 [scrapy.spidermiddlewares.httperror] INFO: Ignoring response <403 https://www.gov.ie/en/policy-information/942b4b-the-walks-scheme-and-rural-recreation-officers/>: HTTP status code is not handled or not allowed',\n",
       " '2025-03-02 14:42:26 [scrapy.spidermiddlewares.httperror] INFO: Ignoring response <403 https://www.gov.ie/en/policy-information/01125e-town-and-village-renewal-scheme/>: HTTP status code is not handled or not allowed',\n",
       " '2025-03-02 14:42:26 [scrapy.spidermiddlewares.httperror] INFO: Ignoring response <403 https://www.gov.ie/en/policy-information/03c53c-rural-economic-develpment-zone-redz/>: HTTP status code is not handled or not allowed',\n",
       " '2025-03-02 14:42:26 [scrapy.spidermiddlewares.httperror] INFO: Ignoring response <403 https://www.gov.ie/en/policy/b2a3c-food-vision-2030-a-world-leader-in-sustainable-food-systems/latest/?q=forestry%20nursery&sort_by=published_date&type=policy_information&type=general_publications>: HTTP status code is not handled or not allowed',\n",
       " '2025-03-02 14:42:26 [scrapy.spidermiddlewares.httperror] INFO: Ignoring response <403 https://www.gov.ie/en/policy/b2a3c-food-vision-2030-a-world-leader-in-sustainable-food-systems/latest/?q=forestation&sort_by=published_date&type=policy_information&type=general_publications>: HTTP status code is not handled or not allowed',\n",
       " '2025-03-02 14:42:26 [scrapy.spidermiddlewares.httperror] INFO: Ignoring response <403 https://www.gov.ie/en/publication/091dba-realising-our-rural-potential-action-plan-for-rural-development/>: HTTP status code is not handled or not allowed',\n",
       " '2025-03-02 14:42:26 [scrapy.spidermiddlewares.httperror] INFO: Ignoring response <403 https://www.gov.ie/en/policy/b2a3c-food-vision-2030-a-world-leader-in-sustainable-food-systems/latest/?q=forestland&sort_by=published_date&type=policy_information&type=general_publications>: HTTP status code is not handled or not allowed',\n",
       " '2025-03-02 14:42:26 [scrapy.spidermiddlewares.httperror] INFO: Ignoring response <403 https://www.gov.ie/en/policy/b2a3c-food-vision-2030-a-world-leader-in-sustainable-food-systems/latest/?q=forest&sort_by=published_date&type=policy_information&type=general_publications>: HTTP status code is not handled or not allowed',\n",
       " '2025-03-02 14:42:26 [scrapy.spidermiddlewares.httperror] INFO: Ignoring response <403 https://www.gov.ie/en/policy/b2a3c-food-vision-2030-a-world-leader-in-sustainable-food-systems/latest/?q=forage&sort_by=published_date&type=policy_information&type=general_publications>: HTTP status code is not handled or not allowed',\n",
       " '2025-03-02 14:42:26 [scrapy.spidermiddlewares.httperror] INFO: Ignoring response <403 https://www.gov.ie/en/policy/b2a3c-food-vision-2030-a-world-leader-in-sustainable-food-systems/latest/?q=forest%20plantation&sort_by=published_date&type=policy_information&type=general_publications>: HTTP status code is not handled or not allowed',\n",
       " '2025-03-02 14:42:26 [scrapy.spidermiddlewares.httperror] INFO: Ignoring response <403 https://www.gov.ie/en/policy/b2a3c-food-vision-2030-a-world-leader-in-sustainable-food-systems/latest/?q=food%20sector&sort_by=published_date&type=policy_information&type=general_publications>: HTTP status code is not handled or not allowed',\n",
       " '2025-03-02 14:42:26 [scrapy.spidermiddlewares.httperror] INFO: Ignoring response <403 https://www.gov.ie/en/policy/b2a3c-food-vision-2030-a-world-leader-in-sustainable-food-systems/latest/?q=food%20industry&sort_by=published_date&type=policy_information&type=general_publications>: HTTP status code is not handled or not allowed',\n",
       " '2025-03-02 14:42:26 [scrapy.spidermiddlewares.httperror] INFO: Ignoring response <403 https://www.gov.ie/en/policy/b2a3c-food-vision-2030-a-world-leader-in-sustainable-food-systems/latest/?q=food%20business&sort_by=published_date&type=policy_information&type=general_publications>: HTTP status code is not handled or not allowed',\n",
       " '2025-03-02 14:42:26 [scrapy.spidermiddlewares.httperror] INFO: Ignoring response <403 https://www.gov.ie/en/policy/b2a3c-food-vision-2030-a-world-leader-in-sustainable-food-systems/latest/?q=floodplain&sort_by=published_date&type=policy_information&type=general_publications>: HTTP status code is not handled or not allowed',\n",
       " '2025-03-02 14:42:26 [scrapy.spidermiddlewares.httperror] INFO: Ignoring response <403 https://www.gov.ie/en/policy/b2a3c-food-vision-2030-a-world-leader-in-sustainable-food-systems/latest/?q=firewood&sort_by=published_date&type=policy_information&type=general_publications>: HTTP status code is not handled or not allowed',\n",
       " '2025-03-02 14:42:26 [scrapy.spidermiddlewares.httperror] INFO: Ignoring response <403 https://www.gov.ie/en/policy/b2a3c-food-vision-2030-a-world-leader-in-sustainable-food-systems/latest/?q=fodder&sort_by=published_date&type=policy_information&type=general_publications>: HTTP status code is not handled or not allowed',\n",
       " '2025-03-02 14:42:26 [scrapy.spidermiddlewares.httperror] INFO: Ignoring response <403 https://www.gov.ie/en/policy/b2a3c-food-vision-2030-a-world-leader-in-sustainable-food-systems/latest/?q=flora&sort_by=published_date&type=policy_information&type=general_publications>: HTTP status code is not handled or not allowed',\n",
       " '2025-03-02 14:42:26 [scrapy.spidermiddlewares.httperror] INFO: Ignoring response <403 https://www.gov.ie/en/policy/b2a3c-food-vision-2030-a-world-leader-in-sustainable-food-systems/latest/?q=flock&sort_by=published_date&type=policy_information&type=general_publications>: HTTP status code is not handled or not allowed',\n",
       " '2025-03-02 14:42:26 [scrapy.spidermiddlewares.httperror] INFO: Ignoring response <403 https://www.gov.ie/en/policy/b2a3c-food-vision-2030-a-world-leader-in-sustainable-food-systems/latest/?q=fertilizer&sort_by=published_date&type=policy_information&type=general_publications>: HTTP status code is not handled or not allowed',\n",
       " '2025-03-02 14:42:26 [scrapy.spidermiddlewares.httperror] INFO: Ignoring response <403 https://www.gov.ie/en/policy/b2a3c-food-vision-2030-a-world-leader-in-sustainable-food-systems/latest/?q=fertilization&sort_by=published_date&type=policy_information&type=general_publications>: HTTP status code is not handled or not allowed',\n",
       " '2025-03-02 14:42:26 [scrapy.spidermiddlewares.httperror] INFO: Ignoring response <403 https://www.gov.ie/en/policy/b2a3c-food-vision-2030-a-world-leader-in-sustainable-food-systems/latest/?q=felling&sort_by=published_date&type=policy_information&type=general_publications>: HTTP status code is not handled or not allowed',\n",
       " '2025-03-02 14:42:26 [scrapy.spidermiddlewares.httperror] INFO: Ignoring response <403 https://www.gov.ie/en/policy/b2a3c-food-vision-2030-a-world-leader-in-sustainable-food-systems/latest/?q=fauna&sort_by=published_date&type=policy_information&type=general_publications>: HTTP status code is not handled or not allowed',\n",
       " '2025-03-02 14:42:26 [scrapy.spidermiddlewares.httperror] INFO: Ignoring response <403 https://www.gov.ie/en/policy/b2a3c-food-vision-2030-a-world-leader-in-sustainable-food-systems/latest/?q=fertigation&sort_by=published_date&type=policy_information&type=general_publications>: HTTP status code is not handled or not allowed',\n",
       " '2025-03-02 14:42:26 [scrapy.spidermiddlewares.httperror] INFO: Ignoring response <403 https://www.gov.ie/en/policy/b2a3c-food-vision-2030-a-world-leader-in-sustainable-food-systems/latest/?q=farm&sort_by=published_date&type=policy_information&type=general_publications>: HTTP status code is not handled or not allowed',\n",
       " '2025-03-02 14:42:26 [scrapy.spidermiddlewares.httperror] INFO: Ignoring response <403 https://www.gov.ie/en/policy/b2a3c-food-vision-2030-a-world-leader-in-sustainable-food-systems/latest/?q=extraction%20of%20latex&sort_by=published_date&type=policy_information&type=general_publications>: HTTP status code is not handled or not allowed',\n",
       " '2025-03-02 14:42:26 [scrapy.spidermiddlewares.httperror] INFO: Ignoring response <403 https://www.gov.ie/en/policy/b2a3c-food-vision-2030-a-world-leader-in-sustainable-food-systems/latest/?q=farming&sort_by=published_date&type=policy_information&type=general_publications>: HTTP status code is not handled or not allowed',\n",
       " '2025-03-02 14:42:26 [scrapy.spidermiddlewares.httperror] INFO: Ignoring response <403 https://www.gov.ie/en/policy/b2a3c-food-vision-2030-a-world-leader-in-sustainable-food-systems/latest/?q=environmental&sort_by=published_date&type=policy_information&type=general_publications>: HTTP status code is not handled or not allowed',\n",
       " '2025-03-02 14:42:26 [scrapy.spidermiddlewares.httperror] INFO: Ignoring response <403 https://www.gov.ie/en/policy/b2a3c-food-vision-2030-a-world-leader-in-sustainable-food-systems/latest/?q=farmer&sort_by=published_date&type=policy_information&type=general_publications>: HTTP status code is not handled or not allowed',\n",
       " '2025-03-02 14:42:26 [scrapy.spidermiddlewares.httperror] INFO: Ignoring response <403 https://www.gov.ie/en/policy/b2a3c-food-vision-2030-a-world-leader-in-sustainable-food-systems/latest/?q=endangered%20species&sort_by=published_date&type=policy_information&type=general_publications>: HTTP status code is not handled or not allowed',\n",
       " '2025-03-02 14:42:26 [scrapy.spidermiddlewares.httperror] INFO: Ignoring response <403 https://www.gov.ie/en/policy/b2a3c-food-vision-2030-a-world-leader-in-sustainable-food-systems/latest/?q=desert&sort_by=published_date&type=policy_information&type=general_publications>: HTTP status code is not handled or not allowed',\n",
       " '2025-03-02 14:42:26 [scrapy.spidermiddlewares.httperror] INFO: Ignoring response <403 https://www.gov.ie/en/policy/b2a3c-food-vision-2030-a-world-leader-in-sustainable-food-systems/latest/?q=environmental%20conservation&sort_by=published_date&type=policy_information&type=general_publications>: HTTP status code is not handled or not allowed',\n",
       " '2025-03-02 14:42:26 [scrapy.spidermiddlewares.httperror] INFO: Ignoring response <403 https://www.gov.ie/en/policy/b2a3c-food-vision-2030-a-world-leader-in-sustainable-food-systems/latest/?q=degraded%20land&sort_by=published_date&type=policy_information&type=general_publications>: HTTP status code is not handled or not allowed',\n",
       " '2025-03-02 14:42:26 [scrapy.spidermiddlewares.httperror] INFO: Ignoring response <403 https://www.gov.ie/en/policy/b2a3c-food-vision-2030-a-world-leader-in-sustainable-food-systems/latest/?q=deforestation&sort_by=published_date&type=policy_information&type=general_publications>: HTTP status code is not handled or not allowed',\n",
       " '2025-03-02 14:42:26 [scrapy.spidermiddlewares.httperror] INFO: Ignoring response <403 https://www.gov.ie/en/policy/b2a3c-food-vision-2030-a-world-leader-in-sustainable-food-systems/latest/?q=cultivation&sort_by=published_date&type=policy_information&type=general_publications>: HTTP status code is not handled or not allowed',\n",
       " '2025-03-02 14:42:26 [scrapy.spidermiddlewares.httperror] INFO: Ignoring response <403 https://www.gov.ie/en/policy/b2a3c-food-vision-2030-a-world-leader-in-sustainable-food-systems/latest/?q=danger%20of%20extinction&sort_by=published_date&type=policy_information&type=general_publications>: HTTP status code is not handled or not allowed',\n",
       " '2025-03-02 14:42:26 [scrapy.spidermiddlewares.httperror] INFO: Ignoring response <403 https://www.gov.ie/en/policy/b2a3c-food-vision-2030-a-world-leader-in-sustainable-food-systems/latest/?q=cutting&sort_by=published_date&type=policy_information&type=general_publications>: HTTP status code is not handled or not allowed',\n",
       " '2025-03-02 14:42:26 [scrapy.spidermiddlewares.httperror] INFO: Ignoring response <403 https://www.gov.ie/en/policy/b2a3c-food-vision-2030-a-world-leader-in-sustainable-food-systems/latest/?q=country%20planning&sort_by=published_date&type=policy_information&type=general_publications>: HTTP status code is not handled or not allowed',\n",
       " '2025-03-02 14:42:26 [scrapy.spidermiddlewares.httperror] INFO: Ignoring response <403 https://www.gov.ie/en/policy/b2a3c-food-vision-2030-a-world-leader-in-sustainable-food-systems/latest/?q=corridor&sort_by=published_date&type=policy_information&type=general_publications>: HTTP status code is not handled or not allowed',\n",
       " '2025-03-02 14:42:26 [scrapy.spidermiddlewares.httperror] INFO: Ignoring response <403 https://www.gov.ie/en/policy/b2a3c-food-vision-2030-a-world-leader-in-sustainable-food-systems/latest/?q=cropland&sort_by=published_date&type=policy_information&type=general_publications>: HTTP status code is not handled or not allowed',\n",
       " '2025-03-02 14:42:26 [scrapy.spidermiddlewares.httperror] INFO: Ignoring response <403 https://www.gov.ie/en/policy/b2a3c-food-vision-2030-a-world-leader-in-sustainable-food-systems/latest/?q=compost&sort_by=published_date&type=policy_information&type=general_publications>: HTTP status code is not handled or not allowed',\n",
       " '2025-03-02 14:42:26 [scrapy.spidermiddlewares.httperror] INFO: Ignoring response <403 https://www.gov.ie/en/policy/b2a3c-food-vision-2030-a-world-leader-in-sustainable-food-systems/latest/?q=crop&sort_by=published_date&type=policy_information&type=general_publications>: HTTP status code is not handled or not allowed',\n",
       " '2025-03-02 14:42:26 [scrapy.spidermiddlewares.httperror] INFO: Ignoring response <403 https://www.gov.ie/en/policy/b2a3c-food-vision-2030-a-world-leader-in-sustainable-food-systems/latest/?q=climatic%20change&sort_by=published_date&type=policy_information&type=general_publications>: HTTP status code is not handled or not allowed',\n",
       " '2025-03-02 14:42:26 [scrapy.spidermiddlewares.httperror] INFO: Ignoring response <403 https://www.gov.ie/en/policy/b2a3c-food-vision-2030-a-world-leader-in-sustainable-food-systems/latest/?q=contamination&sort_by=published_date&type=policy_information&type=general_publications>: HTTP status code is not handled or not allowed',\n",
       " '2025-03-02 14:42:26 [scrapy.spidermiddlewares.httperror] INFO: Ignoring response <403 https://www.gov.ie/en/policy/b2a3c-food-vision-2030-a-world-leader-in-sustainable-food-systems/latest/?q=cultivate&sort_by=published_date&type=policy_information&type=general_publications>: HTTP status code is not handled or not allowed',\n",
       " '2025-03-02 14:42:26 [scrapy.spidermiddlewares.httperror] INFO: Ignoring response <403 https://www.gov.ie/en/policy/b2a3c-food-vision-2030-a-world-leader-in-sustainable-food-systems/latest/?q=buffer&sort_by=published_date&type=policy_information&type=general_publications>: HTTP status code is not handled or not allowed',\n",
       " '2025-03-02 14:42:26 [scrapy.spidermiddlewares.httperror] INFO: Ignoring response <403 https://www.gov.ie/en/policy/b2a3c-food-vision-2030-a-world-leader-in-sustainable-food-systems/latest/?q=bog&sort_by=published_date&type=policy_information&type=general_publications>: HTTP status code is not handled or not allowed',\n",
       " '2025-03-02 14:42:26 [scrapy.spidermiddlewares.httperror] INFO: Ignoring response <403 https://www.gov.ie/en/policy/b2a3c-food-vision-2030-a-world-leader-in-sustainable-food-systems/latest/?q=clearcutting&sort_by=published_date&type=policy_information&type=general_publications>: HTTP status code is not handled or not allowed',\n",
       " '2025-03-02 14:42:26 [scrapy.spidermiddlewares.httperror] INFO: Ignoring response <403 https://www.gov.ie/en/policy/b2a3c-food-vision-2030-a-world-leader-in-sustainable-food-systems/latest/?q=bush&sort_by=published_date&type=policy_information&type=general_publications>: HTTP status code is not handled or not allowed',\n",
       " '2025-03-02 14:42:26 [scrapy.spidermiddlewares.httperror] INFO: Ignoring response <403 https://www.gov.ie/en/policy/b2a3c-food-vision-2030-a-world-leader-in-sustainable-food-systems/latest/?q=breeding&sort_by=published_date&type=policy_information&type=general_publications>: HTTP status code is not handled or not allowed',\n",
       " '2025-03-02 14:42:26 [scrapy.spidermiddlewares.httperror] INFO: Ignoring response <403 https://www.gov.ie/en/policy/b2a3c-food-vision-2030-a-world-leader-in-sustainable-food-systems/latest/?q=breeding%20ground&sort_by=published_date&type=policy_information&type=general_publications>: HTTP status code is not handled or not allowed',\n",
       " '2025-03-02 14:42:26 [scrapy.spidermiddlewares.httperror] INFO: Ignoring response <403 https://www.gov.ie/en/policy/b2a3c-food-vision-2030-a-world-leader-in-sustainable-food-systems/latest/?q=breeder&sort_by=published_date&type=policy_information&type=general_publications>: HTTP status code is not handled or not allowed',\n",
       " '2025-03-02 14:42:26 [scrapy.spidermiddlewares.httperror] INFO: Ignoring response <403 https://www.gov.ie/en/policy/b2a3c-food-vision-2030-a-world-leader-in-sustainable-food-systems/latest/?q=breed&sort_by=published_date&type=policy_information&type=general_publications>: HTTP status code is not handled or not allowed',\n",
       " '2025-03-02 14:42:27 [scrapy.spidermiddlewares.httperror] INFO: Ignoring response <403 https://www.gov.ie/en/policy/b2a3c-food-vision-2030-a-world-leader-in-sustainable-food-systems/latest/?q=biofuel&sort_by=published_date&type=policy_information&type=general_publications>: HTTP status code is not handled or not allowed',\n",
       " '2025-03-02 14:42:27 [scrapy.spidermiddlewares.httperror] INFO: Ignoring response <403 https://www.gov.ie/en/policy/b2a3c-food-vision-2030-a-world-leader-in-sustainable-food-systems/latest/?q=biodiversity&sort_by=published_date&type=policy_information&type=general_publications>: HTTP status code is not handled or not allowed',\n",
       " '2025-03-02 14:42:27 [scrapy.spidermiddlewares.httperror] INFO: Ignoring response <403 https://www.gov.ie/en/policy/b2a3c-food-vision-2030-a-world-leader-in-sustainable-food-systems/latest/?q=bamboo&sort_by=published_date&type=policy_information&type=general_publications>: HTTP status code is not handled or not allowed',\n",
       " '2025-03-02 14:42:27 [scrapy.spidermiddlewares.httperror] INFO: Ignoring response <403 https://www.gov.ie/en/policy/b2a3c-food-vision-2030-a-world-leader-in-sustainable-food-systems/latest/?q=assisted%20regeneration&sort_by=published_date&type=policy_information&type=general_publications>: HTTP status code is not handled or not allowed',\n",
       " '2025-03-02 14:42:27 [scrapy.spidermiddlewares.httperror] INFO: Ignoring response <403 https://www.gov.ie/en/policy/b2a3c-food-vision-2030-a-world-leader-in-sustainable-food-systems/latest/?q=agro-reforestation&sort_by=published_date&type=policy_information&type=general_publications>: HTTP status code is not handled or not allowed',\n",
       " '2025-03-02 14:42:27 [scrapy.spidermiddlewares.httperror] INFO: Ignoring response <403 https://www.gov.ie/en/policy/b2a3c-food-vision-2030-a-world-leader-in-sustainable-food-systems/latest/?q=agroindustry&sort_by=published_date&type=policy_information&type=general_publications>: HTTP status code is not handled or not allowed',\n",
       " '2025-03-02 14:42:27 [scrapy.spidermiddlewares.httperror] INFO: Ignoring response <403 https://www.gov.ie/en/policy/b2a3c-food-vision-2030-a-world-leader-in-sustainable-food-systems/latest/?q=agroforestry&sort_by=published_date&type=policy_information&type=general_publications>: HTTP status code is not handled or not allowed',\n",
       " '2025-03-02 14:42:27 [scrapy.spidermiddlewares.httperror] INFO: Ignoring response <403 https://www.gov.ie/en/policy/b2a3c-food-vision-2030-a-world-leader-in-sustainable-food-systems/latest/?q=agroindustrial&sort_by=published_date&type=policy_information&type=general_publications>: HTTP status code is not handled or not allowed',\n",
       " '2025-03-02 14:42:27 [scrapy.spidermiddlewares.httperror] INFO: Ignoring response <403 https://www.gov.ie/en/policy/b2a3c-food-vision-2030-a-world-leader-in-sustainable-food-systems/latest/?q=agro-industry&sort_by=published_date&type=policy_information&type=general_publications>: HTTP status code is not handled or not allowed',\n",
       " '2025-03-02 14:42:27 [scrapy.spidermiddlewares.httperror] INFO: Ignoring response <403 https://www.gov.ie/en/policy/b2a3c-food-vision-2030-a-world-leader-in-sustainable-food-systems/latest/?q=agricultural%20land&sort_by=published_date&type=policy_information&type=general_publications>: HTTP status code is not handled or not allowed',\n",
       " '2025-03-02 14:42:27 [scrapy.spidermiddlewares.httperror] INFO: Ignoring response <403 https://www.gov.ie/en/policy/b2a3c-food-vision-2030-a-world-leader-in-sustainable-food-systems/latest/?q=agricultural%20industry&sort_by=published_date&type=policy_information&type=general_publications>: HTTP status code is not handled or not allowed',\n",
       " '2025-03-02 14:42:27 [scrapy.spidermiddlewares.httperror] INFO: Ignoring response <403 https://www.gov.ie/en/policy/b2a3c-food-vision-2030-a-world-leader-in-sustainable-food-systems/latest/?q=agribusiness&sort_by=published_date&type=policy_information&type=general_publications>: HTTP status code is not handled or not allowed',\n",
       " '2025-03-02 14:42:27 [scrapy.spidermiddlewares.httperror] INFO: Ignoring response <403 https://www.gov.ie/en/policy/b2a3c-food-vision-2030-a-world-leader-in-sustainable-food-systems/latest/?q=agriculture&sort_by=published_date&type=policy_information&type=general_publications>: HTTP status code is not handled or not allowed',\n",
       " '2025-03-02 14:42:27 [scrapy.spidermiddlewares.httperror] INFO: Ignoring response <403 https://www.gov.ie/en/policy/d5adb8-community-supports/latest/?q=wood&sort_by=published_date&type=policy_information&type=general_publications>: HTTP status code is not handled or not allowed',\n",
       " '2025-03-02 14:42:27 [scrapy.spidermiddlewares.httperror] INFO: Ignoring response <403 https://www.gov.ie/en/policy/b2a3c-food-vision-2030-a-world-leader-in-sustainable-food-systems/latest/?q=afforestation&sort_by=published_date&type=policy_information&type=general_publications>: HTTP status code is not handled or not allowed',\n",
       " '2025-03-02 14:42:27 [scrapy.spidermiddlewares.httperror] INFO: Ignoring response <403 https://www.gov.ie/en/policy/d5adb8-community-supports/latest/?q=woodland&sort_by=published_date&type=policy_information&type=general_publications>: HTTP status code is not handled or not allowed',\n",
       " '2025-03-02 14:42:28 [scrapy.spidermiddlewares.httperror] INFO: Ignoring response <403 https://www.gov.ie/en/policy/d5adb8-community-supports/latest/?q=wildlife&sort_by=published_date&type=policy_information&type=general_publications>: HTTP status code is not handled or not allowed',\n",
       " '2025-03-02 14:42:28 [scrapy.spidermiddlewares.httperror] INFO: Ignoring response <403 https://www.gov.ie/en/policy/d5adb8-community-supports/latest/?q=wetland&sort_by=published_date&type=policy_information&type=general_publications>: HTTP status code is not handled or not allowed',\n",
       " '2025-03-02 14:42:28 [scrapy.spidermiddlewares.httperror] INFO: Ignoring response <403 https://www.gov.ie/en/policy/d5adb8-community-supports/latest/?q=wood%20extraction&sort_by=published_date&type=policy_information&type=general_publications>: HTTP status code is not handled or not allowed',\n",
       " '2025-03-02 14:42:28 [scrapy.spidermiddlewares.httperror] INFO: Ignoring response <403 https://www.gov.ie/en/policy/d5adb8-community-supports/latest/?q=vegetal&sort_by=published_date&type=policy_information&type=general_publications>: HTTP status code is not handled or not allowed',\n",
       " '2025-03-02 14:42:28 [scrapy.spidermiddlewares.httperror] INFO: Ignoring response <403 https://www.gov.ie/en/policy/d5adb8-community-supports/latest/?q=watering&sort_by=published_date&type=policy_information&type=general_publications>: HTTP status code is not handled or not allowed',\n",
       " '2025-03-02 14:42:28 [scrapy.spidermiddlewares.httperror] INFO: Ignoring response <403 https://www.gov.ie/en/policy/d5adb8-community-supports/latest/?q=vegetable&sort_by=published_date&type=policy_information&type=general_publications>: HTTP status code is not handled or not allowed',\n",
       " '2025-03-02 14:42:28 [scrapy.spidermiddlewares.httperror] INFO: Ignoring response <403 https://www.gov.ie/en/policy/d5adb8-community-supports/latest/?q=watershed&sort_by=published_date&type=policy_information&type=general_publications>: HTTP status code is not handled or not allowed',\n",
       " '2025-03-02 14:42:28 [scrapy.spidermiddlewares.httperror] INFO: Ignoring response <403 https://www.gov.ie/en/policy/d5adb8-community-supports/latest/?q=vegetated&sort_by=published_date&type=policy_information&type=general_publications>: HTTP status code is not handled or not allowed',\n",
       " '2025-03-02 14:42:28 [scrapy.spidermiddlewares.httperror] INFO: Ignoring response <403 https://www.gov.ie/en/policy/d5adb8-community-supports/latest/?q=trickle%20irrigation&sort_by=published_date&type=policy_information&type=general_publications>: HTTP status code is not handled or not allowed',\n",
       " '2025-03-02 14:42:28 [scrapy.spidermiddlewares.httperror] INFO: Ignoring response <403 https://www.gov.ie/en/policy/d5adb8-community-supports/latest/?q=tree&sort_by=published_date&type=policy_information&type=general_publications>: HTTP status code is not handled or not allowed',\n",
       " '2025-03-02 14:42:28 [scrapy.spidermiddlewares.httperror] INFO: Ignoring response <403 https://www.gov.ie/en/policy/d5adb8-community-supports/latest/?q=timber&sort_by=published_date&type=policy_information&type=general_publications>: HTTP status code is not handled or not allowed',\n",
       " '2025-03-02 14:42:28 [scrapy.spidermiddlewares.httperror] INFO: Ignoring response <403 https://www.gov.ie/en/policy/d5adb8-community-supports/latest/?q=tree%20nursery&sort_by=published_date&type=policy_information&type=general_publications>: HTTP status code is not handled or not allowed',\n",
       " '2025-03-02 14:42:28 [scrapy.spidermiddlewares.httperror] INFO: Ignoring response <403 https://www.gov.ie/en/policy/d5adb8-community-supports/latest/?q=tree%20cover&sort_by=published_date&type=policy_information&type=general_publications>: HTTP status code is not handled or not allowed',\n",
       " '2025-03-02 14:42:28 [scrapy.spidermiddlewares.httperror] INFO: Ignoring response <403 https://www.gov.ie/en/policy/d5adb8-community-supports/latest/?q=timber%20species&sort_by=published_date&type=policy_information&type=general_publications>: HTTP status code is not handled or not allowed',\n",
       " '2025-03-02 14:42:28 [scrapy.spidermiddlewares.httperror] INFO: Ignoring response <403 https://www.gov.ie/en/policy/d5adb8-community-supports/latest/?q=timber%20extraction&sort_by=published_date&type=policy_information&type=general_publications>: HTTP status code is not handled or not allowed',\n",
       " '2025-03-02 14:42:28 [scrapy.spidermiddlewares.httperror] INFO: Ignoring response <403 https://www.gov.ie/en/policy/d5adb8-community-supports/latest/?q=system%20of%20irrigation&sort_by=published_date&type=policy_information&type=general_publications>: HTTP status code is not handled or not allowed',\n",
       " '2025-03-02 14:42:28 [scrapy.spidermiddlewares.httperror] INFO: Ignoring response <403 https://www.gov.ie/en/policy/d5adb8-community-supports/latest/?q=swamp&sort_by=published_date&type=policy_information&type=general_publications>: HTTP status code is not handled or not allowed',\n",
       " '2025-03-02 14:42:28 [scrapy.spidermiddlewares.httperror] INFO: Ignoring response <403 https://www.gov.ie/en/policy/d5adb8-community-supports/latest/?q=sustainable%20production&sort_by=published_date&type=policy_information&type=general_publications>: HTTP status code is not handled or not allowed',\n",
       " '2025-03-02 14:42:28 [scrapy.spidermiddlewares.httperror] INFO: Ignoring response <403 https://www.gov.ie/en/policy/d5adb8-community-supports/latest/?q=sprinkling&sort_by=published_date&type=policy_information&type=general_publications>: HTTP status code is not handled or not allowed',\n",
       " '2025-03-02 14:42:28 [scrapy.spidermiddlewares.httperror] INFO: Ignoring response <403 https://www.gov.ie/en/policy/d5adb8-community-supports/latest/?q=stewardship&sort_by=published_date&type=policy_information&type=general_publications>: HTTP status code is not handled or not allowed',\n",
       " '2025-03-02 14:42:28 [scrapy.spidermiddlewares.httperror] INFO: Ignoring response <403 https://www.gov.ie/en/policy/d5adb8-community-supports/latest/?q=sustainable%20development&sort_by=published_date&type=policy_information&type=general_publications>: HTTP status code is not handled or not allowed',\n",
       " '2025-03-02 14:42:28 [scrapy.spidermiddlewares.httperror] INFO: Ignoring response <403 https://www.gov.ie/en/policy/d5adb8-community-supports/latest/?q=sprinkler%20irrigation&sort_by=published_date&type=policy_information&type=general_publications>: HTTP status code is not handled or not allowed',\n",
       " '2025-03-02 14:42:28 [scrapy.spidermiddlewares.httperror] INFO: Ignoring response <403 https://www.gov.ie/en/policy/d5adb8-community-supports/latest/?q=sprinkle%20irrigation&sort_by=published_date&type=policy_information&type=general_publications>: HTTP status code is not handled or not allowed',\n",
       " '2025-03-02 14:42:28 [scrapy.spidermiddlewares.httperror] INFO: Ignoring response <403 https://www.gov.ie/en/policy/d5adb8-community-supports/latest/?q=spray%20irrigation&sort_by=published_date&type=policy_information&type=general_publications>: HTTP status code is not handled or not allowed',\n",
       " '2025-03-02 14:42:28 [scrapy.spidermiddlewares.httperror] INFO: Ignoring response <403 https://www.gov.ie/en/policy/d5adb8-community-supports/latest/?q=soil&sort_by=published_date&type=policy_information&type=general_publications>: HTTP status code is not handled or not allowed',\n",
       " '2025-03-02 14:42:28 [scrapy.spidermiddlewares.httperror] INFO: Ignoring response <403 https://www.gov.ie/en/policy/d5adb8-community-supports/latest/?q=silvopasture&sort_by=published_date&type=policy_information&type=general_publications>: HTTP status code is not handled or not allowed',\n",
       " '2025-03-02 14:42:28 [scrapy.spidermiddlewares.httperror] INFO: Ignoring response <403 https://www.gov.ie/en/policy/d5adb8-community-supports/latest/?q=silviculture&sort_by=published_date&type=policy_information&type=general_publications>: HTTP status code is not handled or not allowed',\n",
       " '2025-03-02 14:42:28 [scrapy.spidermiddlewares.httperror] INFO: Ignoring response <403 https://www.gov.ie/en/policy/d5adb8-community-supports/latest/?q=selective%20cutting&sort_by=published_date&type=policy_information&type=general_publications>: HTTP status code is not handled or not allowed',\n",
       " '2025-03-02 14:42:28 [scrapy.spidermiddlewares.httperror] INFO: Ignoring response <403 https://www.gov.ie/en/policy/d5adb8-community-supports/latest/?q=shrub&sort_by=published_date&type=policy_information&type=general_publications>: HTTP status code is not handled or not allowed',\n",
       " '2025-03-02 14:42:28 [scrapy.spidermiddlewares.httperror] INFO: Ignoring response <403 https://www.gov.ie/en/policy/d5adb8-community-supports/latest/?q=seed&sort_by=published_date&type=policy_information&type=general_publications>: HTTP status code is not handled or not allowed',\n",
       " '2025-03-02 14:42:28 [scrapy.spidermiddlewares.httperror] INFO: Ignoring response <403 https://www.gov.ie/en/policy/d5adb8-community-supports/latest/?q=scrubland&sort_by=published_date&type=policy_information&type=general_publications>: HTTP status code is not handled or not allowed',\n",
       " '2025-03-02 14:42:28 [scrapy.spidermiddlewares.httperror] INFO: Ignoring response <403 https://www.gov.ie/en/policy/d5adb8-community-supports/latest/?q=salt%20marsh&sort_by=published_date&type=policy_information&type=general_publications>: HTTP status code is not handled or not allowed',\n",
       " '2025-03-02 14:42:28 [scrapy.spidermiddlewares.httperror] INFO: Ignoring response <403 https://www.gov.ie/en/policy/d5adb8-community-supports/latest/?q=seedbed&sort_by=published_date&type=policy_information&type=general_publications>: HTTP status code is not handled or not allowed',\n",
       " '2025-03-02 14:42:28 [scrapy.spidermiddlewares.httperror] INFO: Ignoring response <403 https://www.gov.ie/en/policy/d5adb8-community-supports/latest/?q=shrubland&sort_by=published_date&type=policy_information&type=general_publications>: HTTP status code is not handled or not allowed',\n",
       " '2025-03-02 14:42:28 [scrapy.spidermiddlewares.httperror] INFO: Ignoring response <403 https://www.gov.ie/en/policy/d5adb8-community-supports/latest/?q=rural%20development&sort_by=published_date&type=policy_information&type=general_publications>: HTTP status code is not handled or not allowed',\n",
       " '2025-03-02 14:42:28 [scrapy.spidermiddlewares.httperror] INFO: Ignoring response <403 https://www.gov.ie/en/policy/d5adb8-community-supports/latest/?q=riverbank&sort_by=published_date&type=policy_information&type=general_publications>: HTTP status code is not handled or not allowed',\n",
       " '2025-03-02 14:42:28 [scrapy.spidermiddlewares.httperror] INFO: Ignoring response <403 https://www.gov.ie/en/policy/d5adb8-community-supports/latest/?q=resin%20extraction&sort_by=published_date&type=policy_information&type=general_publications>: HTTP status code is not handled or not allowed',\n",
       " '2025-03-02 14:42:28 [scrapy.spidermiddlewares.httperror] INFO: Ignoring response <403 https://www.gov.ie/en/policy/d5adb8-community-supports/latest/?q=restoration&sort_by=published_date&type=policy_information&type=general_publications>: HTTP status code is not handled or not allowed',\n",
       " '2025-03-02 14:42:28 [scrapy.spidermiddlewares.httperror] INFO: Ignoring response <403 https://www.gov.ie/en/policy/d5adb8-community-supports/latest/?q=rural&sort_by=published_date&type=policy_information&type=general_publications>: HTTP status code is not handled or not allowed',\n",
       " '2025-03-02 14:42:28 [scrapy.spidermiddlewares.httperror] INFO: Ignoring response <403 https://www.gov.ie/en/policy/d5adb8-community-supports/latest/?q=reserve&sort_by=published_date&type=policy_information&type=general_publications>: HTTP status code is not handled or not allowed',\n",
       " '2025-03-02 14:42:28 [scrapy.spidermiddlewares.httperror] INFO: Ignoring response <403 https://www.gov.ie/en/policy/d5adb8-community-supports/latest/?q=rehabilitation&sort_by=published_date&type=policy_information&type=general_publications>: HTTP status code is not handled or not allowed',\n",
       " '2025-03-02 14:42:28 [scrapy.spidermiddlewares.httperror] INFO: Ignoring response <403 https://www.gov.ie/en/policy/d5adb8-community-supports/latest/?q=risk%20of%20extinction&sort_by=published_date&type=policy_information&type=general_publications>: HTTP status code is not handled or not allowed',\n",
       " '2025-03-02 14:42:28 [scrapy.spidermiddlewares.httperror] INFO: Ignoring response <403 https://www.gov.ie/en/policy/d5adb8-community-supports/latest/?q=regeneration&sort_by=published_date&type=policy_information&type=general_publications>: HTTP status code is not handled or not allowed',\n",
       " '2025-03-02 14:42:28 [scrapy.spidermiddlewares.httperror] INFO: Ignoring response <403 https://www.gov.ie/en/policy/d5adb8-community-supports/latest/?q=reforestation&sort_by=published_date&type=policy_information&type=general_publications>: HTTP status code is not handled or not allowed',\n",
       " '2025-03-02 14:42:28 [scrapy.spidermiddlewares.httperror] INFO: Ignoring response <403 https://www.gov.ie/en/policy/d5adb8-community-supports/latest/?q=rangeland&sort_by=published_date&type=policy_information&type=general_publications>: HTTP status code is not handled or not allowed',\n",
       " '2025-03-02 14:42:28 [scrapy.spidermiddlewares.httperror] INFO: Ignoring response <403 https://www.gov.ie/en/policy/d5adb8-community-supports/latest/?q=rancher&sort_by=published_date&type=policy_information&type=general_publications>: HTTP status code is not handled or not allowed',\n",
       " '2025-03-02 14:42:28 [scrapy.spidermiddlewares.httperror] INFO: Ignoring response <403 https://www.gov.ie/en/policy/d5adb8-community-supports/latest/?q=protection&sort_by=published_date&type=policy_information&type=general_publications>: HTTP status code is not handled or not allowed',\n",
       " '2025-03-02 14:42:28 [scrapy.spidermiddlewares.httperror] INFO: Ignoring response <403 https://www.gov.ie/en/policy/d5adb8-community-supports/latest/?q=prairie&sort_by=published_date&type=policy_information&type=general_publications>: HTTP status code is not handled or not allowed',\n",
       " '2025-03-02 14:42:28 [scrapy.spidermiddlewares.httperror] INFO: Ignoring response <403 https://www.gov.ie/en/policy/d5adb8-community-supports/latest/?q=pollution&sort_by=published_date&type=policy_information&type=general_publications>: HTTP status code is not handled or not allowed',\n",
       " '2025-03-02 14:42:28 [scrapy.spidermiddlewares.httperror] INFO: Ignoring response <403 https://www.gov.ie/en/policy/d5adb8-community-supports/latest/?q=preservation&sort_by=published_date&type=policy_information&type=general_publications>: HTTP status code is not handled or not allowed',\n",
       " '2025-03-02 14:42:28 [scrapy.spidermiddlewares.httperror] INFO: Ignoring response <403 https://www.gov.ie/en/policy/d5adb8-community-supports/latest/?q=plants&sort_by=published_date&type=policy_information&type=general_publications>: HTTP status code is not handled or not allowed',\n",
       " '2025-03-02 14:42:28 [scrapy.spidermiddlewares.httperror] INFO: Ignoring response <403 https://www.gov.ie/en/policy/d5adb8-community-supports/latest/?q=plantation&sort_by=published_date&type=policy_information&type=general_publications>: HTTP status code is not handled or not allowed',\n",
       " '2025-03-02 14:42:28 [scrapy.spidermiddlewares.httperror] INFO: Ignoring response <403 https://www.gov.ie/en/policy/d5adb8-community-supports/latest/?q=pine%20resin&sort_by=published_date&type=policy_information&type=general_publications>: HTTP status code is not handled or not allowed',\n",
       " '2025-03-02 14:42:28 [scrapy.spidermiddlewares.httperror] INFO: Ignoring response <403 https://www.gov.ie/en/policy/d5adb8-community-supports/latest/?q=plant%20nursery&sort_by=published_date&type=policy_information&type=general_publications>: HTTP status code is not handled or not allowed',\n",
       " '2025-03-02 14:42:28 [scrapy.spidermiddlewares.httperror] INFO: Ignoring response <403 https://www.gov.ie/en/policy/d5adb8-community-supports/latest/?q=plant%20exudates&sort_by=published_date&type=policy_information&type=general_publications>: HTTP status code is not handled or not allowed',\n",
       " '2025-03-02 14:42:28 [scrapy.spidermiddlewares.httperror] INFO: Ignoring response <403 https://www.gov.ie/en/policy/d5adb8-community-supports/latest/?q=peat&sort_by=published_date&type=policy_information&type=general_publications>: HTTP status code is not handled or not allowed',\n",
       " '2025-03-02 14:42:28 [scrapy.spidermiddlewares.httperror] INFO: Ignoring response <403 https://www.gov.ie/en/policy/d5adb8-community-supports/latest/?q=peatland&sort_by=published_date&type=policy_information&type=general_publications>: HTTP status code is not handled or not allowed',\n",
       " '2025-03-02 14:42:28 [scrapy.spidermiddlewares.httperror] INFO: Ignoring response <403 https://www.gov.ie/en/policy/d5adb8-community-supports/latest/?q=pit&sort_by=published_date&type=policy_information&type=general_publications>: HTTP status code is not handled or not allowed',\n",
       " '2025-03-02 14:42:28 [scrapy.spidermiddlewares.httperror] INFO: Ignoring response <403 https://www.gov.ie/en/policy/d5adb8-community-supports/latest/?q=plain&sort_by=published_date&type=policy_information&type=general_publications>: HTTP status code is not handled or not allowed',\n",
       " '2025-03-02 14:42:28 [scrapy.spidermiddlewares.httperror] INFO: Ignoring response <403 https://www.gov.ie/en/policy/d5adb8-community-supports/latest/?q=phytosanitary&sort_by=published_date&type=policy_information&type=general_publications>: HTTP status code is not handled or not allowed',\n",
       " '2025-03-02 14:42:29 [scrapy.spidermiddlewares.httperror] INFO: Ignoring response <403 https://www.gov.ie/en/policy/d5adb8-community-supports/latest/?q=pasture&sort_by=published_date&type=policy_information&type=general_publications>: HTTP status code is not handled or not allowed',\n",
       " '2025-03-02 14:42:29 [scrapy.spidermiddlewares.httperror] INFO: Ignoring response <403 https://www.gov.ie/en/policy/d5adb8-community-supports/latest/?q=overgrazing&sort_by=published_date&type=policy_information&type=general_publications>: HTTP status code is not handled or not allowed',\n",
       " '2025-03-02 14:42:29 [scrapy.spidermiddlewares.httperror] INFO: Ignoring response <403 https://www.gov.ie/en/policy/d5adb8-community-supports/latest/?q=over-grazing&sort_by=published_date&type=policy_information&type=general_publications>: HTTP status code is not handled or not allowed',\n",
       " '2025-03-02 14:42:29 [scrapy.spidermiddlewares.httperror] INFO: Ignoring response <403 https://www.gov.ie/en/policy/d5adb8-community-supports/latest/?q=over%20grazing&sort_by=published_date&type=policy_information&type=general_publications>: HTTP status code is not handled or not allowed',\n",
       " '2025-03-02 14:42:29 [scrapy.spidermiddlewares.httperror] INFO: Ignoring response <403 https://www.gov.ie/en/policy/d5adb8-community-supports/latest/?q=natural%20resource&sort_by=published_date&type=policy_information&type=general_publications>: HTTP status code is not handled or not allowed',\n",
       " '2025-03-02 14:42:29 [scrapy.spidermiddlewares.httperror] INFO: Ignoring response <403 https://www.gov.ie/en/policy/d5adb8-community-supports/latest/?q=nature%20reserve&sort_by=published_date&type=policy_information&type=general_publications>: HTTP status code is not handled or not allowed',\n",
       " '2025-03-02 14:42:29 [scrapy.spidermiddlewares.httperror] INFO: Ignoring response <403 https://www.gov.ie/en/policy/d5adb8-community-supports/latest/?q=ore&sort_by=published_date&type=policy_information&type=general_publications>: HTTP status code is not handled or not allowed',\n",
       " '2025-03-02 14:42:29 [scrapy.spidermiddlewares.httperror] INFO: Ignoring response <403 https://www.gov.ie/en/policy/d5adb8-community-supports/latest/?q=natural%20rubber&sort_by=published_date&type=policy_information&type=general_publications>: HTTP status code is not handled or not allowed',\n",
       " '2025-03-02 14:42:29 [scrapy.spidermiddlewares.httperror] INFO: Ignoring response <403 https://www.gov.ie/en/policy/d5adb8-community-supports/latest/?q=natural%20oil&sort_by=published_date&type=policy_information&type=general_publications>: HTTP status code is not handled or not allowed',\n",
       " '2025-03-02 14:42:29 [scrapy.spidermiddlewares.httperror] INFO: Ignoring response <403 https://www.gov.ie/en/policy/d5adb8-community-supports/latest/?q=natural%20reserve&sort_by=published_date&type=policy_information&type=general_publications>: HTTP status code is not handled or not allowed',\n",
       " '2025-03-02 14:42:29 [scrapy.spidermiddlewares.httperror] INFO: Ignoring response <403 https://www.gov.ie/en/policy/d5adb8-community-supports/latest/?q=natural%20regeneration&sort_by=published_date&type=policy_information&type=general_publications>: HTTP status code is not handled or not allowed',\n",
       " '2025-03-02 14:42:29 [scrapy.spidermiddlewares.httperror] INFO: Ignoring response <403 https://www.gov.ie/en/policy/d5adb8-community-supports/latest/?q=natural%20park&sort_by=published_date&type=policy_information&type=general_publications>: HTTP status code is not handled or not allowed',\n",
       " '2025-03-02 14:42:29 [scrapy.spidermiddlewares.httperror] INFO: Ignoring response <403 https://www.gov.ie/en/policy/d5adb8-community-supports/latest/?q=natural%20lacquer&sort_by=published_date&type=policy_information&type=general_publications>: HTTP status code is not handled or not allowed',\n",
       " '2025-03-02 14:42:29 [scrapy.spidermiddlewares.httperror] INFO: Ignoring response <403 https://www.gov.ie/en/policy/d5adb8-community-supports/latest/?q=natural%20heritage&sort_by=published_date&type=policy_information&type=general_publications>: HTTP status code is not handled or not allowed',\n",
       " '2025-03-02 14:42:29 [scrapy.spidermiddlewares.httperror] INFO: Ignoring response <403 https://www.gov.ie/en/policy/d5adb8-community-supports/latest/?q=natural%20habitat&sort_by=published_date&type=policy_information&type=general_publications>: HTTP status code is not handled or not allowed',\n",
       " '2025-03-02 14:42:29 [scrapy.spidermiddlewares.httperror] INFO: Ignoring response <403 https://www.gov.ie/en/policy/d5adb8-community-supports/latest/?q=natural%20good&sort_by=published_date&type=policy_information&type=general_publications>: HTTP status code is not handled or not allowed',\n",
       " '2025-03-02 14:42:29 [scrapy.spidermiddlewares.httperror] INFO: Ignoring response <403 https://www.gov.ie/en/policy/d5adb8-community-supports/latest/?q=natural%20fibre&sort_by=published_date&type=policy_information&type=general_publications>: HTTP status code is not handled or not allowed',\n",
       " '2025-03-02 14:42:29 [scrapy.spidermiddlewares.httperror] INFO: Ignoring response <403 https://www.gov.ie/en/policy/d5adb8-community-supports/latest/?q=natural%20fiber&sort_by=published_date&type=policy_information&type=general_publications>: HTTP status code is not handled or not allowed',\n",
       " '2025-03-02 14:42:29 [scrapy.spidermiddlewares.httperror] INFO: Ignoring response <403 https://www.gov.ie/en/policy/d5adb8-community-supports/latest/?q=mineral&sort_by=published_date&type=policy_information&type=general_publications>: HTTP status code is not handled or not allowed',\n",
       " '2025-03-02 14:42:29 [scrapy.spidermiddlewares.httperror] INFO: Ignoring response <403 https://www.gov.ie/en/policy/d5adb8-community-supports/latest/?q=national%20park&sort_by=published_date&type=policy_information&type=general_publications>: HTTP status code is not handled or not allowed',\n",
       " '2025-03-02 14:42:29 [scrapy.spidermiddlewares.httperror] INFO: Ignoring response <403 https://www.gov.ie/en/policy/d5adb8-community-supports/latest/?q=natural%20asset&sort_by=published_date&type=policy_information&type=general_publications>: HTTP status code is not handled or not allowed',\n",
       " '2025-03-02 14:42:29 [scrapy.spidermiddlewares.httperror] INFO: Ignoring response <403 https://www.gov.ie/en/policy/d5adb8-community-supports/latest/?q=mining%20extraction&sort_by=published_date&type=policy_information&type=general_publications>: HTTP status code is not handled or not allowed',\n",
       " '2025-03-02 14:42:29 [scrapy.spidermiddlewares.httperror] INFO: Ignoring response <403 https://www.gov.ie/en/policy/d5adb8-community-supports/latest/?q=miner&sort_by=published_date&type=policy_information&type=general_publications>: HTTP status code is not handled or not allowed',\n",
       " '2025-03-02 14:42:29 [scrapy.spidermiddlewares.httperror] INFO: Ignoring response <403 https://www.gov.ie/en/policy/d5adb8-community-supports/latest/?q=mineral%20mining&sort_by=published_date&type=policy_information&type=general_publications>: HTTP status code is not handled or not allowed',\n",
       " '2025-03-02 14:42:29 [scrapy.spidermiddlewares.httperror] INFO: Ignoring response <403 https://www.gov.ie/en/policy/d5adb8-community-supports/latest/?q=mineral%20extraction&sort_by=published_date&type=policy_information&type=general_publications>: HTTP status code is not handled or not allowed',\n",
       " '2025-03-02 14:42:29 [scrapy.spidermiddlewares.httperror] INFO: Ignoring response <403 https://www.gov.ie/en/policy/d5adb8-community-supports/latest/?q=mine&sort_by=published_date&type=policy_information&type=general_publications>: HTTP status code is not handled or not allowed',\n",
       " '2025-03-02 14:42:29 [scrapy.spidermiddlewares.httperror] INFO: Ignoring response <403 https://www.gov.ie/en/policy/d5adb8-community-supports/latest/?q=microsprinkler&sort_by=published_date&type=policy_information&type=general_publications>: HTTP status code is not handled or not allowed',\n",
       " '2025-03-02 14:42:29 [scrapy.spidermiddlewares.httperror] INFO: Ignoring response <403 https://www.gov.ie/en/policy/d5adb8-community-supports/latest/?q=meadow&sort_by=published_date&type=policy_information&type=general_publications>: HTTP status code is not handled or not allowed',\n",
       " '2025-03-02 14:42:29 [scrapy.spidermiddlewares.httperror] INFO: Ignoring response <403 https://www.gov.ie/en/policy/d5adb8-community-supports/latest/?q=livestock&sort_by=published_date&type=policy_information&type=general_publications>: HTTP status code is not handled or not allowed',\n",
       " '2025-03-02 14:42:29 [scrapy.spidermiddlewares.httperror] INFO: Ignoring response <403 https://www.gov.ie/en/policy/d5adb8-community-supports/latest/?q=micro%20sprinkler&sort_by=published_date&type=policy_information&type=general_publications>: HTTP status code is not handled or not allowed',\n",
       " '2025-03-02 14:42:29 [scrapy.spidermiddlewares.httperror] INFO: Ignoring response <403 https://www.gov.ie/en/policy/d5adb8-community-supports/latest/?q=mangrove&sort_by=published_date&type=policy_information&type=general_publications>: HTTP status code is not handled or not allowed',\n",
       " '2025-03-02 14:42:29 [scrapy.spidermiddlewares.httperror] INFO: Ignoring response <403 https://www.gov.ie/en/policy/d5adb8-community-supports/latest/?q=manure&sort_by=published_date&type=policy_information&type=general_publications>: HTTP status code is not handled or not allowed',\n",
       " '2025-03-02 14:42:29 [scrapy.spidermiddlewares.httperror] INFO: Ignoring response <403 https://www.gov.ie/en/policy/d5adb8-community-supports/latest/?q=livestock%20industry&sort_by=published_date&type=policy_information&type=general_publications>: HTTP status code is not handled or not allowed',\n",
       " '2025-03-02 14:42:29 [scrapy.spidermiddlewares.httperror] INFO: Ignoring response <403 https://www.gov.ie/en/policy/d5adb8-community-supports/latest/?q=life%20cycle&sort_by=published_date&type=policy_information&type=general_publications>: HTTP status code is not handled or not allowed',\n",
       " '2025-03-02 14:42:29 [scrapy.spidermiddlewares.httperror] INFO: Ignoring response <403 https://www.gov.ie/en/policy/d5adb8-community-supports/latest/?q=marsh&sort_by=published_date&type=policy_information&type=general_publications>: HTTP status code is not handled or not allowed',\n",
       " '2025-03-02 14:42:29 [scrapy.spidermiddlewares.httperror] INFO: Ignoring response <403 https://www.gov.ie/en/policy/d5adb8-community-supports/latest/?q=landowner&sort_by=published_date&type=policy_information&type=general_publications>: HTTP status code is not handled or not allowed',\n",
       " '2025-03-02 14:42:29 [scrapy.spidermiddlewares.httperror] INFO: Ignoring response <403 https://www.gov.ie/en/policy/d5adb8-community-supports/latest/?q=irrigation&sort_by=published_date&type=policy_information&type=general_publications>: HTTP status code is not handled or not allowed',\n",
       " '2025-03-02 14:42:29 [scrapy.spidermiddlewares.httperror] INFO: Ignoring response <403 https://www.gov.ie/en/policy/d5adb8-community-supports/latest/?q=latex%20extraction&sort_by=published_date&type=policy_information&type=general_publications>: HTTP status code is not handled or not allowed',\n",
       " '2025-03-02 14:42:29 [scrapy.spidermiddlewares.httperror] INFO: Ignoring response <403 https://www.gov.ie/en/policy/d5adb8-community-supports/latest/?q=landscape&sort_by=published_date&type=policy_information&type=general_publications>: HTTP status code is not handled or not allowed',\n",
       " '2025-03-02 14:42:29 [scrapy.spidermiddlewares.httperror] INFO: Ignoring response <403 https://www.gov.ie/en/policy/d5adb8-community-supports/latest/?q=husbandry&sort_by=published_date&type=policy_information&type=general_publications>: HTTP status code is not handled or not allowed',\n",
       " '2025-03-02 14:42:29 [scrapy.spidermiddlewares.httperror] INFO: Ignoring response <403 https://www.gov.ie/en/policy/d5adb8-community-supports/latest/?q=land%20use&sort_by=published_date&type=policy_information&type=general_publications>: HTTP status code is not handled or not allowed',\n",
       " '2025-03-02 14:42:29 [scrapy.spidermiddlewares.httperror] INFO: Ignoring response <403 https://www.gov.ie/en/policy/d5adb8-community-supports/latest/?q=illicit%20cultivation&sort_by=published_date&type=policy_information&type=general_publications>: HTTP status code is not handled or not allowed',\n",
       " '2025-03-02 14:42:29 [scrapy.spidermiddlewares.httperror] INFO: Ignoring response <403 https://www.gov.ie/en/policy/d5adb8-community-supports/latest/?q=irrigation%20scheme&sort_by=published_date&type=policy_information&type=general_publications>: HTTP status code is not handled or not allowed',\n",
       " '2025-03-02 14:42:29 [scrapy.spidermiddlewares.httperror] INFO: Ignoring response <403 https://www.gov.ie/en/policy/d5adb8-community-supports/latest/?q=hotbed&sort_by=published_date&type=policy_information&type=general_publications>: HTTP status code is not handled or not allowed',\n",
       " '2025-03-02 14:42:29 [scrapy.spidermiddlewares.httperror] INFO: Ignoring response <403 https://www.gov.ie/en/policy/d5adb8-community-supports/latest/?q=herd&sort_by=published_date&type=policy_information&type=general_publications>: HTTP status code is not handled or not allowed',\n",
       " '2025-03-02 14:42:29 [scrapy.spidermiddlewares.httperror] INFO: Ignoring response <403 https://www.gov.ie/en/policy/d5adb8-community-supports/latest/?q=hay&sort_by=published_date&type=policy_information&type=general_publications>: HTTP status code is not handled or not allowed',\n",
       " '2025-03-02 14:42:29 [scrapy.spidermiddlewares.httperror] INFO: Ignoring response <403 https://www.gov.ie/en/policy/d5adb8-community-supports/latest/?q=harvesting&sort_by=published_date&type=policy_information&type=general_publications>: HTTP status code is not handled or not allowed',\n",
       " '2025-03-02 14:42:29 [scrapy.spidermiddlewares.httperror] INFO: Ignoring response <403 https://www.gov.ie/en/policy/d5adb8-community-supports/latest/?q=harvest&sort_by=published_date&type=policy_information&type=general_publications>: HTTP status code is not handled or not allowed',\n",
       " '2025-03-02 14:42:29 [scrapy.spidermiddlewares.httperror] INFO: Ignoring response <403 https://www.gov.ie/en/policy/d5adb8-community-supports/latest/?q=grazing&sort_by=published_date&type=policy_information&type=general_publications>: HTTP status code is not handled or not allowed',\n",
       " '2025-03-02 14:42:29 [scrapy.spidermiddlewares.httperror] INFO: Ignoring response <403 https://www.gov.ie/en/policy/d5adb8-community-supports/latest/?q=grassland&sort_by=published_date&type=policy_information&type=general_publications>: HTTP status code is not handled or not allowed',\n",
       " '2025-03-02 14:42:29 [scrapy.spidermiddlewares.httperror] INFO: Ignoring response <403 https://www.gov.ie/en/policy/d5adb8-community-supports/latest/?q=green%20manure&sort_by=published_date&type=policy_information&type=general_publications>: HTTP status code is not handled or not allowed',\n",
       " '2025-03-02 14:42:29 [scrapy.spidermiddlewares.httperror] INFO: Ignoring response <403 https://www.gov.ie/en/policy/d5adb8-community-supports/latest/?q=germoplasm%20bank&sort_by=published_date&type=policy_information&type=general_publications>: HTTP status code is not handled or not allowed',\n",
       " '2025-03-02 14:42:29 [scrapy.spidermiddlewares.httperror] INFO: Ignoring response <403 https://www.gov.ie/en/policy/d5adb8-community-supports/latest/?q=geological&sort_by=published_date&type=policy_information&type=general_publications>: HTTP status code is not handled or not allowed',\n",
       " '2025-03-02 14:42:29 [scrapy.spidermiddlewares.httperror] INFO: Ignoring response <403 https://www.gov.ie/en/policy/d5adb8-community-supports/latest/?q=germoplasm&sort_by=published_date&type=policy_information&type=general_publications>: HTTP status code is not handled or not allowed',\n",
       " '2025-03-02 14:42:29 [scrapy.spidermiddlewares.httperror] INFO: Ignoring response <403 https://www.gov.ie/en/policy/d5adb8-community-supports/latest/?q=fungicide&sort_by=published_date&type=policy_information&type=general_publications>: HTTP status code is not handled or not allowed',\n",
       " '2025-03-02 14:42:29 [scrapy.spidermiddlewares.httperror] INFO: Ignoring response <403 https://www.gov.ie/en/policy/d5adb8-community-supports/latest/?q=geologic&sort_by=published_date&type=policy_information&type=general_publications>: HTTP status code is not handled or not allowed',\n",
       " '2025-03-02 14:42:29 [scrapy.spidermiddlewares.httperror] INFO: Ignoring response <403 https://www.gov.ie/en/policy/d5adb8-community-supports/latest/?q=fuel%20wood&sort_by=published_date&type=policy_information&type=general_publications>: HTTP status code is not handled or not allowed',\n",
       " '2025-03-02 14:42:29 [scrapy.spidermiddlewares.httperror] INFO: Ignoring response <403 https://www.gov.ie/en/policy/d5adb8-community-supports/latest/?q=fungicidal&sort_by=published_date&type=policy_information&type=general_publications>: HTTP status code is not handled or not allowed',\n",
       " '2025-03-02 14:42:29 [scrapy.spidermiddlewares.httperror] INFO: Ignoring response <403 https://www.gov.ie/en/policy/d5adb8-community-supports/latest/?q=fuelwood&sort_by=published_date&type=policy_information&type=general_publications>: HTTP status code is not handled or not allowed',\n",
       " '2025-03-02 14:42:29 [scrapy.spidermiddlewares.httperror] INFO: Ignoring response <403 https://www.gov.ie/en/policy/d5adb8-community-supports/latest/?q=forestry&sort_by=published_date&type=policy_information&type=general_publications>: HTTP status code is not handled or not allowed',\n",
       " '2025-03-02 14:42:29 [scrapy.spidermiddlewares.httperror] INFO: Ignoring response <403 https://www.gov.ie/en/policy/d5adb8-community-supports/latest/?q=forestland&sort_by=published_date&type=policy_information&type=general_publications>: HTTP status code is not handled or not allowed',\n",
       " '2025-03-02 14:42:29 [scrapy.spidermiddlewares.httperror] INFO: Ignoring response <403 https://www.gov.ie/en/policy/d5adb8-community-supports/latest/?q=forestry%20nursery&sort_by=published_date&type=policy_information&type=general_publications>: HTTP status code is not handled or not allowed',\n",
       " '2025-03-02 14:42:29 [scrapy.spidermiddlewares.httperror] INFO: Ignoring response <403 https://www.gov.ie/en/policy/d5adb8-community-supports/latest/?q=forestation&sort_by=published_date&type=policy_information&type=general_publications>: HTTP status code is not handled or not allowed',\n",
       " '2025-03-02 14:42:29 [scrapy.spidermiddlewares.httperror] INFO: Ignoring response <403 https://www.gov.ie/en/policy/d5adb8-community-supports/latest/?q=freshwater&sort_by=published_date&type=policy_information&type=general_publications>: HTTP status code is not handled or not allowed',\n",
       " '2025-03-02 14:42:29 [scrapy.spidermiddlewares.httperror] INFO: Ignoring response <403 https://www.gov.ie/en/policy/d5adb8-community-supports/latest/?q=forest%20plantation&sort_by=published_date&type=policy_information&type=general_publications>: HTTP status code is not handled or not allowed',\n",
       " '2025-03-02 14:42:29 [scrapy.spidermiddlewares.httperror] INFO: Ignoring response <403 https://www.gov.ie/en/policy/d5adb8-community-supports/latest/?q=forest&sort_by=published_date&type=policy_information&type=general_publications>: HTTP status code is not handled or not allowed',\n",
       " '2025-03-02 14:42:29 [scrapy.spidermiddlewares.httperror] INFO: Ignoring response <403 https://www.gov.ie/en/policy/d5adb8-community-supports/latest/?q=forage&sort_by=published_date&type=policy_information&type=general_publications>: HTTP status code is not handled or not allowed',\n",
       " '2025-03-02 14:42:29 [scrapy.spidermiddlewares.httperror] INFO: Ignoring response <403 https://www.gov.ie/en/policy/d5adb8-community-supports/latest/?q=food%20sector&sort_by=published_date&type=policy_information&type=general_publications>: HTTP status code is not handled or not allowed',\n",
       " '2025-03-02 14:42:29 [scrapy.spidermiddlewares.httperror] INFO: Ignoring response <403 https://www.gov.ie/en/policy/d5adb8-community-supports/latest/?q=food%20industry&sort_by=published_date&type=policy_information&type=general_publications>: HTTP status code is not handled or not allowed',\n",
       " '2025-03-02 14:42:29 [scrapy.spidermiddlewares.httperror] INFO: Ignoring response <403 https://www.gov.ie/en/policy/d5adb8-community-supports/latest/?q=flora&sort_by=published_date&type=policy_information&type=general_publications>: HTTP status code is not handled or not allowed',\n",
       " '2025-03-02 14:42:29 [scrapy.spidermiddlewares.httperror] INFO: Ignoring response <403 https://www.gov.ie/en/policy/d5adb8-community-supports/latest/?q=food%20business&sort_by=published_date&type=policy_information&type=general_publications>: HTTP status code is not handled or not allowed',\n",
       " '2025-03-02 14:42:29 [scrapy.spidermiddlewares.httperror] INFO: Ignoring response <403 https://www.gov.ie/en/policy/d5adb8-community-supports/latest/?q=fodder&sort_by=published_date&type=policy_information&type=general_publications>: HTTP status code is not handled or not allowed',\n",
       " '2025-03-02 14:42:29 [scrapy.spidermiddlewares.httperror] INFO: Ignoring response <403 https://www.gov.ie/en/policy/d5adb8-community-supports/latest/?q=flock&sort_by=published_date&type=policy_information&type=general_publications>: HTTP status code is not handled or not allowed',\n",
       " '2025-03-02 14:42:29 [scrapy.spidermiddlewares.httperror] INFO: Ignoring response <403 https://www.gov.ie/en/policy/d5adb8-community-supports/latest/?q=floodplain&sort_by=published_date&type=policy_information&type=general_publications>: HTTP status code is not handled or not allowed',\n",
       " '2025-03-02 14:42:29 [scrapy.spidermiddlewares.httperror] INFO: Ignoring response <403 https://www.gov.ie/en/policy/d5adb8-community-supports/latest/?q=firewood&sort_by=published_date&type=policy_information&type=general_publications>: HTTP status code is not handled or not allowed',\n",
       " '2025-03-02 14:42:30 [scrapy.spidermiddlewares.httperror] INFO: Ignoring response <403 https://www.gov.ie/en/policy/d5adb8-community-supports/latest/?q=fertigation&sort_by=published_date&type=policy_information&type=general_publications>: HTTP status code is not handled or not allowed',\n",
       " '2025-03-02 14:42:30 [scrapy.spidermiddlewares.httperror] INFO: Ignoring response <403 https://www.gov.ie/en/policy/d5adb8-community-supports/latest/?q=fertilizer&sort_by=published_date&type=policy_information&type=general_publications>: HTTP status code is not handled or not allowed',\n",
       " '2025-03-02 14:42:30 [scrapy.spidermiddlewares.httperror] INFO: Ignoring response <403 https://www.gov.ie/en/policy/d5adb8-community-supports/latest/?q=fertilization&sort_by=published_date&type=policy_information&type=general_publications>: HTTP status code is not handled or not allowed',\n",
       " '2025-03-02 14:42:30 [scrapy.spidermiddlewares.httperror] INFO: Ignoring response <403 https://www.gov.ie/en/policy/d5adb8-community-supports/latest/?q=felling&sort_by=published_date&type=policy_information&type=general_publications>: HTTP status code is not handled or not allowed',\n",
       " '2025-03-02 14:42:30 [scrapy.spidermiddlewares.httperror] INFO: Ignoring response <403 https://www.gov.ie/en/policy/d5adb8-community-supports/latest/?q=fauna&sort_by=published_date&type=policy_information&type=general_publications>: HTTP status code is not handled or not allowed',\n",
       " '2025-03-02 14:42:30 [scrapy.spidermiddlewares.httperror] INFO: Ignoring response <403 https://www.gov.ie/en/policy/d5adb8-community-supports/latest/?q=farming&sort_by=published_date&type=policy_information&type=general_publications>: HTTP status code is not handled or not allowed',\n",
       " '2025-03-02 14:42:30 [scrapy.spidermiddlewares.httperror] INFO: Ignoring response <403 https://www.gov.ie/en/policy/d5adb8-community-supports/latest/?q=farm&sort_by=published_date&type=policy_information&type=general_publications>: HTTP status code is not handled or not allowed',\n",
       " '2025-03-02 14:42:30 [scrapy.spidermiddlewares.httperror] INFO: Ignoring response <403 https://www.gov.ie/en/policy/d5adb8-community-supports/latest/?q=farmer&sort_by=published_date&type=policy_information&type=general_publications>: HTTP status code is not handled or not allowed',\n",
       " '2025-03-02 14:42:30 [scrapy.spidermiddlewares.httperror] INFO: Ignoring response <403 https://www.gov.ie/en/policy/d5adb8-community-supports/latest/?q=extraction%20of%20latex&sort_by=published_date&type=policy_information&type=general_publications>: HTTP status code is not handled or not allowed',\n",
       " '2025-03-02 14:42:30 [scrapy.spidermiddlewares.httperror] INFO: Ignoring response <403 https://www.gov.ie/en/policy/d5adb8-community-supports/latest/?q=environmental%20conservation&sort_by=published_date&type=policy_information&type=general_publications>: HTTP status code is not handled or not allowed',\n",
       " '2025-03-02 14:42:30 [scrapy.spidermiddlewares.httperror] INFO: Ignoring response <403 https://www.gov.ie/en/policy/d5adb8-community-supports/latest/?q=environmental&sort_by=published_date&type=policy_information&type=general_publications>: HTTP status code is not handled or not allowed',\n",
       " '2025-03-02 14:42:30 [scrapy.spidermiddlewares.httperror] INFO: Ignoring response <403 https://www.gov.ie/en/policy/d5adb8-community-supports/latest/?q=endangered%20species&sort_by=published_date&type=policy_information&type=general_publications>: HTTP status code is not handled or not allowed',\n",
       " '2025-03-02 14:42:30 [scrapy.spidermiddlewares.httperror] INFO: Ignoring response <403 https://www.gov.ie/en/policy/d5adb8-community-supports/latest/?q=degraded%20land&sort_by=published_date&type=policy_information&type=general_publications>: HTTP status code is not handled or not allowed',\n",
       " '2025-03-02 14:42:30 [scrapy.spidermiddlewares.httperror] INFO: Ignoring response <403 https://www.gov.ie/en/policy/d5adb8-community-supports/latest/?q=desert&sort_by=published_date&type=policy_information&type=general_publications>: HTTP status code is not handled or not allowed',\n",
       " '2025-03-02 14:42:30 [scrapy.spidermiddlewares.httperror] INFO: Ignoring response <403 https://www.gov.ie/en/policy/d5adb8-community-supports/latest/?q=danger%20of%20extinction&sort_by=published_date&type=policy_information&type=general_publications>: HTTP status code is not handled or not allowed',\n",
       " '2025-03-02 14:42:30 [scrapy.spidermiddlewares.httperror] INFO: Ignoring response <403 https://www.gov.ie/en/policy/d5adb8-community-supports/latest/?q=deforestation&sort_by=published_date&type=policy_information&type=general_publications>: HTTP status code is not handled or not allowed',\n",
       " '2025-03-02 14:42:30 [scrapy.spidermiddlewares.httperror] INFO: Ignoring response <403 https://www.gov.ie/en/policy/d5adb8-community-supports/latest/?q=cutting&sort_by=published_date&type=policy_information&type=general_publications>: HTTP status code is not handled or not allowed',\n",
       " '2025-03-02 14:42:30 [scrapy.spidermiddlewares.httperror] INFO: Ignoring response <403 https://www.gov.ie/en/policy/d5adb8-community-supports/latest/?q=contamination&sort_by=published_date&type=policy_information&type=general_publications>: HTTP status code is not handled or not allowed',\n",
       " '2025-03-02 14:42:30 [scrapy.spidermiddlewares.httperror] INFO: Ignoring response <403 https://www.gov.ie/en/policy/d5adb8-community-supports/latest/?q=cultivate&sort_by=published_date&type=policy_information&type=general_publications>: HTTP status code is not handled or not allowed',\n",
       " '2025-03-02 14:42:30 [scrapy.spidermiddlewares.httperror] INFO: Ignoring response <403 https://www.gov.ie/en/policy/d5adb8-community-supports/latest/?q=cultivation&sort_by=published_date&type=policy_information&type=general_publications>: HTTP status code is not handled or not allowed',\n",
       " '2025-03-02 14:42:30 [scrapy.spidermiddlewares.httperror] INFO: Ignoring response <403 https://www.gov.ie/en/policy/d5adb8-community-supports/latest/?q=crop&sort_by=published_date&type=policy_information&type=general_publications>: HTTP status code is not handled or not allowed',\n",
       " '2025-03-02 14:42:30 [scrapy.spidermiddlewares.httperror] INFO: Ignoring response <403 https://www.gov.ie/en/policy/d5adb8-community-supports/latest/?q=country%20planning&sort_by=published_date&type=policy_information&type=general_publications>: HTTP status code is not handled or not allowed',\n",
       " '2025-03-02 14:42:30 [scrapy.spidermiddlewares.httperror] INFO: Ignoring response <403 https://www.gov.ie/en/policy/d5adb8-community-supports/latest/?q=corridor&sort_by=published_date&type=policy_information&type=general_publications>: HTTP status code is not handled or not allowed',\n",
       " '2025-03-02 14:42:30 [scrapy.spidermiddlewares.httperror] INFO: Ignoring response <403 https://www.gov.ie/en/policy/d5adb8-community-supports/latest/?q=cropland&sort_by=published_date&type=policy_information&type=general_publications>: HTTP status code is not handled or not allowed',\n",
       " '2025-03-02 14:42:30 [scrapy.spidermiddlewares.httperror] INFO: Ignoring response <403 https://www.gov.ie/en/policy/d5adb8-community-supports/latest/?q=compost&sort_by=published_date&type=policy_information&type=general_publications>: HTTP status code is not handled or not allowed',\n",
       " '2025-03-02 14:42:30 [scrapy.spidermiddlewares.httperror] INFO: Ignoring response <403 https://www.gov.ie/en/policy/d5adb8-community-supports/latest/?q=clearcutting&sort_by=published_date&type=policy_information&type=general_publications>: HTTP status code is not handled or not allowed',\n",
       " '2025-03-02 14:42:30 [scrapy.spidermiddlewares.httperror] INFO: Ignoring response <403 https://www.gov.ie/en/policy/d5adb8-community-supports/latest/?q=bush&sort_by=published_date&type=policy_information&type=general_publications>: HTTP status code is not handled or not allowed',\n",
       " '2025-03-02 14:42:30 [scrapy.spidermiddlewares.httperror] INFO: Ignoring response <403 https://www.gov.ie/en/policy/d5adb8-community-supports/latest/?q=breeding&sort_by=published_date&type=policy_information&type=general_publications>: HTTP status code is not handled or not allowed',\n",
       " '2025-03-02 14:42:30 [scrapy.spidermiddlewares.httperror] INFO: Ignoring response <403 https://www.gov.ie/en/policy/d5adb8-community-supports/latest/?q=climatic%20change&sort_by=published_date&type=policy_information&type=general_publications>: HTTP status code is not handled or not allowed',\n",
       " '2025-03-02 14:42:30 [scrapy.spidermiddlewares.httperror] INFO: Ignoring response <403 https://www.gov.ie/en/policy/d5adb8-community-supports/latest/?q=breeder&sort_by=published_date&type=policy_information&type=general_publications>: HTTP status code is not handled or not allowed',\n",
       " '2025-03-02 14:42:30 [scrapy.spidermiddlewares.httperror] INFO: Ignoring response <403 https://www.gov.ie/en/policy/d5adb8-community-supports/latest/?q=buffer&sort_by=published_date&type=policy_information&type=general_publications>: HTTP status code is not handled or not allowed',\n",
       " '2025-03-02 14:42:30 [scrapy.spidermiddlewares.httperror] INFO: Ignoring response <403 https://www.gov.ie/en/policy/d5adb8-community-supports/latest/?q=breed&sort_by=published_date&type=policy_information&type=general_publications>: HTTP status code is not handled or not allowed',\n",
       " '2025-03-02 14:42:30 [scrapy.spidermiddlewares.httperror] INFO: Ignoring response <403 https://www.gov.ie/en/policy/d5adb8-community-supports/latest/?q=breeding%20ground&sort_by=published_date&type=policy_information&type=general_publications>: HTTP status code is not handled or not allowed',\n",
       " '2025-03-02 14:42:30 [scrapy.spidermiddlewares.httperror] INFO: Ignoring response <403 https://www.gov.ie/en/policy/d5adb8-community-supports/latest/?q=bog&sort_by=published_date&type=policy_information&type=general_publications>: HTTP status code is not handled or not allowed',\n",
       " '2025-03-02 14:42:30 [scrapy.spidermiddlewares.httperror] INFO: Ignoring response <403 https://www.gov.ie/en/policy/d5adb8-community-supports/latest/?q=biofuel&sort_by=published_date&type=policy_information&type=general_publications>: HTTP status code is not handled or not allowed',\n",
       " '2025-03-02 14:42:30 [scrapy.spidermiddlewares.httperror] INFO: Ignoring response <403 https://www.gov.ie/en/policy/d5adb8-community-supports/latest/?q=bamboo&sort_by=published_date&type=policy_information&type=general_publications>: HTTP status code is not handled or not allowed',\n",
       " '2025-03-02 14:42:30 [scrapy.spidermiddlewares.httperror] INFO: Ignoring response <403 https://www.gov.ie/en/policy/d5adb8-community-supports/latest/?q=biodiversity&sort_by=published_date&type=policy_information&type=general_publications>: HTTP status code is not handled or not allowed',\n",
       " '2025-03-02 14:42:30 [scrapy.spidermiddlewares.httperror] INFO: Ignoring response <403 https://www.gov.ie/en/policy/d5adb8-community-supports/latest/?q=agroindustrial&sort_by=published_date&type=policy_information&type=general_publications>: HTTP status code is not handled or not allowed',\n",
       " '2025-03-02 14:42:30 [scrapy.spidermiddlewares.httperror] INFO: Ignoring response <403 https://www.gov.ie/en/policy/d5adb8-community-supports/latest/?q=agroindustry&sort_by=published_date&type=policy_information&type=general_publications>: HTTP status code is not handled or not allowed',\n",
       " '2025-03-02 14:42:30 [scrapy.spidermiddlewares.httperror] INFO: Ignoring response <403 https://www.gov.ie/en/policy/d5adb8-community-supports/latest/?q=agroforestry&sort_by=published_date&type=policy_information&type=general_publications>: HTTP status code is not handled or not allowed',\n",
       " '2025-03-02 14:42:30 [scrapy.spidermiddlewares.httperror] INFO: Ignoring response <403 https://www.gov.ie/en/policy/d5adb8-community-supports/latest/?q=assisted%20regeneration&sort_by=published_date&type=policy_information&type=general_publications>: HTTP status code is not handled or not allowed',\n",
       " '2025-03-02 14:42:30 [scrapy.spidermiddlewares.httperror] INFO: Ignoring response <403 https://www.gov.ie/en/policy/d5adb8-community-supports/latest/?q=agriculture&sort_by=published_date&type=policy_information&type=general_publications>: HTTP status code is not handled or not allowed',\n",
       " '2025-03-02 14:42:30 [scrapy.spidermiddlewares.httperror] INFO: Ignoring response <403 https://www.gov.ie/en/policy/d5adb8-community-supports/latest/?q=agro-reforestation&sort_by=published_date&type=policy_information&type=general_publications>: HTTP status code is not handled or not allowed',\n",
       " '2025-03-02 14:42:30 [scrapy.spidermiddlewares.httperror] INFO: Ignoring response <403 https://www.gov.ie/en/policy/d5adb8-community-supports/latest/?q=agro-industry&sort_by=published_date&type=policy_information&type=general_publications>: HTTP status code is not handled or not allowed',\n",
       " '2025-03-02 14:42:30 [scrapy.spidermiddlewares.httperror] INFO: Ignoring response <403 https://www.gov.ie/en/policy/d5adb8-community-supports/latest/?q=agricultural%20land&sort_by=published_date&type=policy_information&type=general_publications>: HTTP status code is not handled or not allowed',\n",
       " '2025-03-02 14:42:30 [scrapy.spidermiddlewares.httperror] INFO: Ignoring response <403 https://www.gov.ie/en/policy/d5adb8-community-supports/latest/?q=agricultural%20industry&sort_by=published_date&type=policy_information&type=general_publications>: HTTP status code is not handled or not allowed',\n",
       " '2025-03-02 14:42:30 [scrapy.spidermiddlewares.httperror] INFO: Ignoring response <403 https://www.gov.ie/en/policy/d7a12b-climate-action-and-environment/latest/?q=wood%20extraction&sort_by=published_date&type=policy_information&type=general_publications>: HTTP status code is not handled or not allowed',\n",
       " '2025-03-02 14:42:30 [scrapy.spidermiddlewares.httperror] INFO: Ignoring response <403 https://www.gov.ie/en/policy/d7a12b-climate-action-and-environment/latest/?q=wildlife&sort_by=published_date&type=policy_information&type=general_publications>: HTTP status code is not handled or not allowed',\n",
       " '2025-03-02 14:42:30 [scrapy.spidermiddlewares.httperror] INFO: Ignoring response <403 https://www.gov.ie/en/policy/d7a12b-climate-action-and-environment/latest/?q=wood&sort_by=published_date&type=policy_information&type=general_publications>: HTTP status code is not handled or not allowed',\n",
       " '2025-03-02 14:42:30 [scrapy.spidermiddlewares.httperror] INFO: Ignoring response <403 https://www.gov.ie/en/policy/d5adb8-community-supports/latest/?q=agribusiness&sort_by=published_date&type=policy_information&type=general_publications>: HTTP status code is not handled or not allowed',\n",
       " '2025-03-02 14:42:30 [scrapy.spidermiddlewares.httperror] INFO: Ignoring response <403 https://www.gov.ie/en/policy/d7a12b-climate-action-and-environment/latest/?q=watershed&sort_by=published_date&type=policy_information&type=general_publications>: HTTP status code is not handled or not allowed',\n",
       " '2025-03-02 14:42:30 [scrapy.spidermiddlewares.httperror] INFO: Ignoring response <403 https://www.gov.ie/en/policy/d5adb8-community-supports/latest/?q=afforestation&sort_by=published_date&type=policy_information&type=general_publications>: HTTP status code is not handled or not allowed',\n",
       " '2025-03-02 14:42:30 [scrapy.spidermiddlewares.httperror] INFO: Ignoring response <403 https://www.gov.ie/en/policy/d7a12b-climate-action-and-environment/latest/?q=woodland&sort_by=published_date&type=policy_information&type=general_publications>: HTTP status code is not handled or not allowed',\n",
       " '2025-03-02 14:42:30 [scrapy.spidermiddlewares.httperror] INFO: Ignoring response <403 https://www.gov.ie/en/policy/d7a12b-climate-action-and-environment/latest/?q=wetland&sort_by=published_date&type=policy_information&type=general_publications>: HTTP status code is not handled or not allowed',\n",
       " '2025-03-02 14:42:30 [scrapy.spidermiddlewares.httperror] INFO: Ignoring response <403 https://www.gov.ie/en/policy/d7a12b-climate-action-and-environment/latest/?q=vegetal&sort_by=published_date&type=policy_information&type=general_publications>: HTTP status code is not handled or not allowed',\n",
       " '2025-03-02 14:42:30 [scrapy.spidermiddlewares.httperror] INFO: Ignoring response <403 https://www.gov.ie/en/policy/d7a12b-climate-action-and-environment/latest/?q=watering&sort_by=published_date&type=policy_information&type=general_publications>: HTTP status code is not handled or not allowed',\n",
       " '2025-03-02 14:42:30 [scrapy.spidermiddlewares.httperror] INFO: Ignoring response <403 https://www.gov.ie/en/policy/d7a12b-climate-action-and-environment/latest/?q=vegetated&sort_by=published_date&type=policy_information&type=general_publications>: HTTP status code is not handled or not allowed',\n",
       " '2025-03-02 14:42:30 [scrapy.spidermiddlewares.httperror] INFO: Ignoring response <403 https://www.gov.ie/en/policy/d7a12b-climate-action-and-environment/latest/?q=timber%20species&sort_by=published_date&type=policy_information&type=general_publications>: HTTP status code is not handled or not allowed',\n",
       " '2025-03-02 14:42:30 [scrapy.spidermiddlewares.httperror] INFO: Ignoring response <403 https://www.gov.ie/en/policy/d7a12b-climate-action-and-environment/latest/?q=timber%20extraction&sort_by=published_date&type=policy_information&type=general_publications>: HTTP status code is not handled or not allowed',\n",
       " '2025-03-02 14:42:30 [scrapy.spidermiddlewares.httperror] INFO: Ignoring response <403 https://www.gov.ie/en/policy/d7a12b-climate-action-and-environment/latest/?q=timber&sort_by=published_date&type=policy_information&type=general_publications>: HTTP status code is not handled or not allowed',\n",
       " '2025-03-02 14:42:30 [scrapy.spidermiddlewares.httperror] INFO: Ignoring response <403 https://www.gov.ie/en/policy/d7a12b-climate-action-and-environment/latest/?q=vegetable&sort_by=published_date&type=policy_information&type=general_publications>: HTTP status code is not handled or not allowed',\n",
       " '2025-03-02 14:42:30 [scrapy.spidermiddlewares.httperror] INFO: Ignoring response <403 https://www.gov.ie/en/policy/d7a12b-climate-action-and-environment/latest/?q=tree%20cover&sort_by=published_date&type=policy_information&type=general_publications>: HTTP status code is not handled or not allowed',\n",
       " '2025-03-02 14:42:30 [scrapy.spidermiddlewares.httperror] INFO: Ignoring response <403 https://www.gov.ie/en/policy/d7a12b-climate-action-and-environment/latest/?q=tree&sort_by=published_date&type=policy_information&type=general_publications>: HTTP status code is not handled or not allowed',\n",
       " '2025-03-02 14:42:30 [scrapy.spidermiddlewares.httperror] INFO: Ignoring response <403 https://www.gov.ie/en/policy/d7a12b-climate-action-and-environment/latest/?q=trickle%20irrigation&sort_by=published_date&type=policy_information&type=general_publications>: HTTP status code is not handled or not allowed',\n",
       " '2025-03-02 14:42:30 [scrapy.spidermiddlewares.httperror] INFO: Ignoring response <403 https://www.gov.ie/en/policy/d7a12b-climate-action-and-environment/latest/?q=tree%20nursery&sort_by=published_date&type=policy_information&type=general_publications>: HTTP status code is not handled or not allowed',\n",
       " '2025-03-02 14:42:30 [scrapy.spidermiddlewares.httperror] INFO: Ignoring response <403 https://www.gov.ie/en/policy/d7a12b-climate-action-and-environment/latest/?q=sustainable%20production&sort_by=published_date&type=policy_information&type=general_publications>: HTTP status code is not handled or not allowed',\n",
       " '2025-03-02 14:42:30 [scrapy.spidermiddlewares.httperror] INFO: Ignoring response <403 https://www.gov.ie/en/policy/d7a12b-climate-action-and-environment/latest/?q=stewardship&sort_by=published_date&type=policy_information&type=general_publications>: HTTP status code is not handled or not allowed',\n",
       " '2025-03-02 14:42:30 [scrapy.spidermiddlewares.httperror] INFO: Ignoring response <403 https://www.gov.ie/en/policy/d7a12b-climate-action-and-environment/latest/?q=system%20of%20irrigation&sort_by=published_date&type=policy_information&type=general_publications>: HTTP status code is not handled or not allowed',\n",
       " '2025-03-02 14:42:30 [scrapy.spidermiddlewares.httperror] INFO: Ignoring response <403 https://www.gov.ie/en/policy/d7a12b-climate-action-and-environment/latest/?q=swamp&sort_by=published_date&type=policy_information&type=general_publications>: HTTP status code is not handled or not allowed',\n",
       " '2025-03-02 14:42:30 [scrapy.spidermiddlewares.httperror] INFO: Ignoring response <403 https://www.gov.ie/en/policy/d7a12b-climate-action-and-environment/latest/?q=sustainable%20development&sort_by=published_date&type=policy_information&type=general_publications>: HTTP status code is not handled or not allowed',\n",
       " '2025-03-02 14:42:30 [scrapy.spidermiddlewares.httperror] INFO: Ignoring response <403 https://www.gov.ie/en/policy/d7a12b-climate-action-and-environment/latest/?q=sprinkling&sort_by=published_date&type=policy_information&type=general_publications>: HTTP status code is not handled or not allowed',\n",
       " '2025-03-02 14:42:30 [scrapy.spidermiddlewares.httperror] INFO: Ignoring response <403 https://www.gov.ie/en/policy/d7a12b-climate-action-and-environment/latest/?q=sprinkle%20irrigation&sort_by=published_date&type=policy_information&type=general_publications>: HTTP status code is not handled or not allowed',\n",
       " '2025-03-02 14:42:30 [scrapy.spidermiddlewares.httperror] INFO: Ignoring response <403 https://www.gov.ie/en/policy/d7a12b-climate-action-and-environment/latest/?q=sprinkler%20irrigation&sort_by=published_date&type=policy_information&type=general_publications>: HTTP status code is not handled or not allowed',\n",
       " '2025-03-02 14:42:30 [scrapy.spidermiddlewares.httperror] INFO: Ignoring response <403 https://www.gov.ie/en/policy/d7a12b-climate-action-and-environment/latest/?q=soil&sort_by=published_date&type=policy_information&type=general_publications>: HTTP status code is not handled or not allowed',\n",
       " '2025-03-02 14:42:30 [scrapy.spidermiddlewares.httperror] INFO: Ignoring response <403 https://www.gov.ie/en/policy/d7a12b-climate-action-and-environment/latest/?q=silvopasture&sort_by=published_date&type=policy_information&type=general_publications>: HTTP status code is not handled or not allowed',\n",
       " '2025-03-02 14:42:30 [scrapy.spidermiddlewares.httperror] INFO: Ignoring response <403 https://www.gov.ie/en/policy/d7a12b-climate-action-and-environment/latest/?q=spray%20irrigation&sort_by=published_date&type=policy_information&type=general_publications>: HTTP status code is not handled or not allowed',\n",
       " '2025-03-02 14:42:31 [scrapy.spidermiddlewares.httperror] INFO: Ignoring response <403 https://www.gov.ie/en/policy/d7a12b-climate-action-and-environment/latest/?q=silviculture&sort_by=published_date&type=policy_information&type=general_publications>: HTTP status code is not handled or not allowed',\n",
       " '2025-03-02 14:42:31 [scrapy.spidermiddlewares.httperror] INFO: Ignoring response <403 https://www.gov.ie/en/policy/d7a12b-climate-action-and-environment/latest/?q=selective%20cutting&sort_by=published_date&type=policy_information&type=general_publications>: HTTP status code is not handled or not allowed',\n",
       " '2025-03-02 14:42:31 [scrapy.spidermiddlewares.httperror] INFO: Ignoring response <403 https://www.gov.ie/en/policy/d7a12b-climate-action-and-environment/latest/?q=shrubland&sort_by=published_date&type=policy_information&type=general_publications>: HTTP status code is not handled or not allowed',\n",
       " '2025-03-02 14:42:31 [scrapy.spidermiddlewares.httperror] INFO: Ignoring response <403 https://www.gov.ie/en/policy/d7a12b-climate-action-and-environment/latest/?q=seedbed&sort_by=published_date&type=policy_information&type=general_publications>: HTTP status code is not handled or not allowed',\n",
       " '2025-03-02 14:42:31 [scrapy.spidermiddlewares.httperror] INFO: Ignoring response <403 https://www.gov.ie/en/policy/d7a12b-climate-action-and-environment/latest/?q=shrub&sort_by=published_date&type=policy_information&type=general_publications>: HTTP status code is not handled or not allowed',\n",
       " '2025-03-02 14:42:31 [scrapy.spidermiddlewares.httperror] INFO: Ignoring response <403 https://www.gov.ie/en/policy/d7a12b-climate-action-and-environment/latest/?q=salt%20marsh&sort_by=published_date&type=policy_information&type=general_publications>: HTTP status code is not handled or not allowed',\n",
       " '2025-03-02 14:42:31 [scrapy.spidermiddlewares.httperror] INFO: Ignoring response <403 https://www.gov.ie/en/policy/d7a12b-climate-action-and-environment/latest/?q=seed&sort_by=published_date&type=policy_information&type=general_publications>: HTTP status code is not handled or not allowed',\n",
       " '2025-03-02 14:42:31 [scrapy.spidermiddlewares.httperror] INFO: Ignoring response <403 https://www.gov.ie/en/policy/d7a12b-climate-action-and-environment/latest/?q=scrubland&sort_by=published_date&type=policy_information&type=general_publications>: HTTP status code is not handled or not allowed',\n",
       " '2025-03-02 14:42:31 [scrapy.spidermiddlewares.httperror] INFO: Ignoring response <403 https://www.gov.ie/en/policy/d7a12b-climate-action-and-environment/latest/?q=rural&sort_by=published_date&type=policy_information&type=general_publications>: HTTP status code is not handled or not allowed',\n",
       " '2025-03-02 14:42:31 [scrapy.spidermiddlewares.httperror] INFO: Ignoring response <403 https://www.gov.ie/en/policy/d7a12b-climate-action-and-environment/latest/?q=restoration&sort_by=published_date&type=policy_information&type=general_publications>: HTTP status code is not handled or not allowed',\n",
       " '2025-03-02 14:42:31 [scrapy.spidermiddlewares.httperror] INFO: Ignoring response <403 https://www.gov.ie/en/policy/d7a12b-climate-action-and-environment/latest/?q=riverbank&sort_by=published_date&type=policy_information&type=general_publications>: HTTP status code is not handled or not allowed',\n",
       " '2025-03-02 14:42:31 [scrapy.spidermiddlewares.httperror] INFO: Ignoring response <403 https://www.gov.ie/en/policy/d7a12b-climate-action-and-environment/latest/?q=risk%20of%20extinction&sort_by=published_date&type=policy_information&type=general_publications>: HTTP status code is not handled or not allowed',\n",
       " '2025-03-02 14:42:31 [scrapy.spidermiddlewares.httperror] INFO: Ignoring response <403 https://www.gov.ie/en/policy/d7a12b-climate-action-and-environment/latest/?q=rural%20development&sort_by=published_date&type=policy_information&type=general_publications>: HTTP status code is not handled or not allowed',\n",
       " '2025-03-02 14:42:31 [scrapy.spidermiddlewares.httperror] INFO: Ignoring response <403 https://www.gov.ie/en/policy/d7a12b-climate-action-and-environment/latest/?q=reserve&sort_by=published_date&type=policy_information&type=general_publications>: HTTP status code is not handled or not allowed',\n",
       " '2025-03-02 14:42:31 [scrapy.spidermiddlewares.httperror] INFO: Ignoring response <403 https://www.gov.ie/en/policy/d7a12b-climate-action-and-environment/latest/?q=resin%20extraction&sort_by=published_date&type=policy_information&type=general_publications>: HTTP status code is not handled or not allowed',\n",
       " '2025-03-02 14:42:31 [scrapy.spidermiddlewares.httperror] INFO: Ignoring response <403 https://www.gov.ie/en/policy/d7a12b-climate-action-and-environment/latest/?q=rehabilitation&sort_by=published_date&type=policy_information&type=general_publications>: HTTP status code is not handled or not allowed',\n",
       " '2025-03-02 14:42:31 [scrapy.spidermiddlewares.httperror] INFO: Ignoring response <403 https://www.gov.ie/en/policy/d7a12b-climate-action-and-environment/latest/?q=reforestation&sort_by=published_date&type=policy_information&type=general_publications>: HTTP status code is not handled or not allowed',\n",
       " '2025-03-02 14:42:31 [scrapy.spidermiddlewares.httperror] INFO: Ignoring response <403 https://www.gov.ie/en/policy/d7a12b-climate-action-and-environment/latest/?q=regeneration&sort_by=published_date&type=policy_information&type=general_publications>: HTTP status code is not handled or not allowed',\n",
       " '2025-03-02 14:42:31 [scrapy.spidermiddlewares.httperror] INFO: Ignoring response <403 https://www.gov.ie/en/policy/d7a12b-climate-action-and-environment/latest/?q=rangeland&sort_by=published_date&type=policy_information&type=general_publications>: HTTP status code is not handled or not allowed',\n",
       " '2025-03-02 14:42:31 [scrapy.spidermiddlewares.httperror] INFO: Ignoring response <403 https://www.gov.ie/en/policy/d7a12b-climate-action-and-environment/latest/?q=protection&sort_by=published_date&type=policy_information&type=general_publications>: HTTP status code is not handled or not allowed',\n",
       " '2025-03-02 14:42:31 [scrapy.spidermiddlewares.httperror] INFO: Ignoring response <403 https://www.gov.ie/en/policy/d7a12b-climate-action-and-environment/latest/?q=rancher&sort_by=published_date&type=policy_information&type=general_publications>: HTTP status code is not handled or not allowed',\n",
       " '2025-03-02 14:42:31 [scrapy.spidermiddlewares.httperror] INFO: Ignoring response <403 https://www.gov.ie/en/policy/d7a12b-climate-action-and-environment/latest/?q=prairie&sort_by=published_date&type=policy_information&type=general_publications>: HTTP status code is not handled or not allowed',\n",
       " '2025-03-02 14:42:31 [scrapy.spidermiddlewares.httperror] INFO: Ignoring response <403 https://www.gov.ie/en/policy/d7a12b-climate-action-and-environment/latest/?q=preservation&sort_by=published_date&type=policy_information&type=general_publications>: HTTP status code is not handled or not allowed',\n",
       " '2025-03-02 14:42:31 [scrapy.spidermiddlewares.httperror] INFO: Ignoring response <403 https://www.gov.ie/en/policy/d7a12b-climate-action-and-environment/latest/?q=pollution&sort_by=published_date&type=policy_information&type=general_publications>: HTTP status code is not handled or not allowed',\n",
       " '2025-03-02 14:42:31 [scrapy.spidermiddlewares.httperror] INFO: Ignoring response <403 https://www.gov.ie/en/policy/d7a12b-climate-action-and-environment/latest/?q=plantation&sort_by=published_date&type=policy_information&type=general_publications>: HTTP status code is not handled or not allowed',\n",
       " '2025-03-02 14:42:31 [scrapy.spidermiddlewares.httperror] INFO: Ignoring response <403 https://www.gov.ie/en/policy/d7a12b-climate-action-and-environment/latest/?q=plants&sort_by=published_date&type=policy_information&type=general_publications>: HTTP status code is not handled or not allowed',\n",
       " '2025-03-02 14:42:31 [scrapy.spidermiddlewares.httperror] INFO: Ignoring response <403 https://www.gov.ie/en/policy/d7a12b-climate-action-and-environment/latest/?q=plain&sort_by=published_date&type=policy_information&type=general_publications>: HTTP status code is not handled or not allowed',\n",
       " '2025-03-02 14:42:31 [scrapy.spidermiddlewares.httperror] INFO: Ignoring response <403 https://www.gov.ie/en/policy/d7a12b-climate-action-and-environment/latest/?q=plant%20exudates&sort_by=published_date&type=policy_information&type=general_publications>: HTTP status code is not handled or not allowed',\n",
       " '2025-03-02 14:42:31 [scrapy.spidermiddlewares.httperror] INFO: Ignoring response <403 https://www.gov.ie/en/policy/d7a12b-climate-action-and-environment/latest/?q=plant%20nursery&sort_by=published_date&type=policy_information&type=general_publications>: HTTP status code is not handled or not allowed',\n",
       " '2025-03-02 14:42:31 [scrapy.spidermiddlewares.httperror] INFO: Ignoring response <403 https://www.gov.ie/en/policy/d7a12b-climate-action-and-environment/latest/?q=pine%20resin&sort_by=published_date&type=policy_information&type=general_publications>: HTTP status code is not handled or not allowed',\n",
       " '2025-03-02 14:42:31 [scrapy.spidermiddlewares.httperror] INFO: Ignoring response <403 https://www.gov.ie/en/policy/d7a12b-climate-action-and-environment/latest/?q=pit&sort_by=published_date&type=policy_information&type=general_publications>: HTTP status code is not handled or not allowed',\n",
       " '2025-03-02 14:42:31 [scrapy.spidermiddlewares.httperror] INFO: Ignoring response <403 https://www.gov.ie/en/policy/d7a12b-climate-action-and-environment/latest/?q=phytosanitary&sort_by=published_date&type=policy_information&type=general_publications>: HTTP status code is not handled or not allowed',\n",
       " '2025-03-02 14:42:31 [scrapy.spidermiddlewares.httperror] INFO: Ignoring response <403 https://www.gov.ie/en/policy/d7a12b-climate-action-and-environment/latest/?q=peat&sort_by=published_date&type=policy_information&type=general_publications>: HTTP status code is not handled or not allowed',\n",
       " '2025-03-02 14:42:31 [scrapy.spidermiddlewares.httperror] INFO: Ignoring response <403 https://www.gov.ie/en/policy/d7a12b-climate-action-and-environment/latest/?q=peatland&sort_by=published_date&type=policy_information&type=general_publications>: HTTP status code is not handled or not allowed',\n",
       " '2025-03-02 14:42:31 [scrapy.spidermiddlewares.httperror] INFO: Ignoring response <403 https://www.gov.ie/en/policy/d7a12b-climate-action-and-environment/latest/?q=pasture&sort_by=published_date&type=policy_information&type=general_publications>: HTTP status code is not handled or not allowed',\n",
       " '2025-03-02 14:42:31 [scrapy.spidermiddlewares.httperror] INFO: Ignoring response <403 https://www.gov.ie/en/policy/d7a12b-climate-action-and-environment/latest/?q=over-grazing&sort_by=published_date&type=policy_information&type=general_publications>: HTTP status code is not handled or not allowed',\n",
       " '2025-03-02 14:42:31 [scrapy.spidermiddlewares.httperror] INFO: Ignoring response <403 https://www.gov.ie/en/policy/d7a12b-climate-action-and-environment/latest/?q=overgrazing&sort_by=published_date&type=policy_information&type=general_publications>: HTTP status code is not handled or not allowed',\n",
       " '2025-03-02 14:42:31 [scrapy.spidermiddlewares.httperror] INFO: Ignoring response <403 https://www.gov.ie/en/policy/d7a12b-climate-action-and-environment/latest/?q=over%20grazing&sort_by=published_date&type=policy_information&type=general_publications>: HTTP status code is not handled or not allowed',\n",
       " '2025-03-02 14:42:31 [scrapy.spidermiddlewares.httperror] INFO: Ignoring response <403 https://www.gov.ie/en/policy/d7a12b-climate-action-and-environment/latest/?q=ore&sort_by=published_date&type=policy_information&type=general_publications>: HTTP status code is not handled or not allowed',\n",
       " '2025-03-02 14:42:31 [scrapy.spidermiddlewares.httperror] INFO: Ignoring response <403 https://www.gov.ie/en/policy/d7a12b-climate-action-and-environment/latest/?q=nature%20reserve&sort_by=published_date&type=policy_information&type=general_publications>: HTTP status code is not handled or not allowed',\n",
       " '2025-03-02 14:42:31 [scrapy.spidermiddlewares.httperror] INFO: Ignoring response <403 https://www.gov.ie/en/policy/d7a12b-climate-action-and-environment/latest/?q=natural%20rubber&sort_by=published_date&type=policy_information&type=general_publications>: HTTP status code is not handled or not allowed',\n",
       " '2025-03-02 14:42:31 [scrapy.spidermiddlewares.httperror] INFO: Ignoring response <403 https://www.gov.ie/en/policy/d7a12b-climate-action-and-environment/latest/?q=natural%20resource&sort_by=published_date&type=policy_information&type=general_publications>: HTTP status code is not handled or not allowed',\n",
       " '2025-03-02 14:42:31 [scrapy.spidermiddlewares.httperror] INFO: Ignoring response <403 https://www.gov.ie/en/policy/d7a12b-climate-action-and-environment/latest/?q=natural%20reserve&sort_by=published_date&type=policy_information&type=general_publications>: HTTP status code is not handled or not allowed',\n",
       " '2025-03-02 14:42:31 [scrapy.spidermiddlewares.httperror] INFO: Ignoring response <403 https://www.gov.ie/en/policy/d7a12b-climate-action-and-environment/latest/?q=natural%20regeneration&sort_by=published_date&type=policy_information&type=general_publications>: HTTP status code is not handled or not allowed',\n",
       " '2025-03-02 14:42:31 [scrapy.spidermiddlewares.httperror] INFO: Ignoring response <403 https://www.gov.ie/en/policy/d7a12b-climate-action-and-environment/latest/?q=natural%20park&sort_by=published_date&type=policy_information&type=general_publications>: HTTP status code is not handled or not allowed',\n",
       " '2025-03-02 14:42:31 [scrapy.spidermiddlewares.httperror] INFO: Ignoring response <403 https://www.gov.ie/en/policy/d7a12b-climate-action-and-environment/latest/?q=natural%20heritage&sort_by=published_date&type=policy_information&type=general_publications>: HTTP status code is not handled or not allowed',\n",
       " '2025-03-02 14:42:31 [scrapy.spidermiddlewares.httperror] INFO: Ignoring response <403 https://www.gov.ie/en/policy/d7a12b-climate-action-and-environment/latest/?q=natural%20habitat&sort_by=published_date&type=policy_information&type=general_publications>: HTTP status code is not handled or not allowed',\n",
       " '2025-03-02 14:42:31 [scrapy.spidermiddlewares.httperror] INFO: Ignoring response <403 https://www.gov.ie/en/policy/d7a12b-climate-action-and-environment/latest/?q=natural%20lacquer&sort_by=published_date&type=policy_information&type=general_publications>: HTTP status code is not handled or not allowed',\n",
       " '2025-03-02 14:42:31 [scrapy.spidermiddlewares.httperror] INFO: Ignoring response <403 https://www.gov.ie/en/policy/d7a12b-climate-action-and-environment/latest/?q=natural%20oil&sort_by=published_date&type=policy_information&type=general_publications>: HTTP status code is not handled or not allowed',\n",
       " '2025-03-02 14:42:31 [scrapy.spidermiddlewares.httperror] INFO: Ignoring response <403 https://www.gov.ie/en/policy/d7a12b-climate-action-and-environment/latest/?q=natural%20good&sort_by=published_date&type=policy_information&type=general_publications>: HTTP status code is not handled or not allowed',\n",
       " '2025-03-02 14:42:31 [scrapy.spidermiddlewares.httperror] INFO: Ignoring response <403 https://www.gov.ie/en/policy/d7a12b-climate-action-and-environment/latest/?q=natural%20fiber&sort_by=published_date&type=policy_information&type=general_publications>: HTTP status code is not handled or not allowed',\n",
       " '2025-03-02 14:42:31 [scrapy.spidermiddlewares.httperror] INFO: Ignoring response <403 https://www.gov.ie/en/policy/d7a12b-climate-action-and-environment/latest/?q=natural%20fibre&sort_by=published_date&type=policy_information&type=general_publications>: HTTP status code is not handled or not allowed',\n",
       " '2025-03-02 14:42:31 [scrapy.spidermiddlewares.httperror] INFO: Ignoring response <403 https://www.gov.ie/en/policy/d7a12b-climate-action-and-environment/latest/?q=natural%20asset&sort_by=published_date&type=policy_information&type=general_publications>: HTTP status code is not handled or not allowed',\n",
       " '2025-03-02 14:42:31 [scrapy.spidermiddlewares.httperror] INFO: Ignoring response <403 https://www.gov.ie/en/policy/d7a12b-climate-action-and-environment/latest/?q=national%20park&sort_by=published_date&type=policy_information&type=general_publications>: HTTP status code is not handled or not allowed',\n",
       " '2025-03-02 14:42:31 [scrapy.spidermiddlewares.httperror] INFO: Ignoring response <403 https://www.gov.ie/en/policy/d7a12b-climate-action-and-environment/latest/?q=mining%20extraction&sort_by=published_date&type=policy_information&type=general_publications>: HTTP status code is not handled or not allowed',\n",
       " '2025-03-02 14:42:31 [scrapy.spidermiddlewares.httperror] INFO: Ignoring response <403 https://www.gov.ie/en/policy/d7a12b-climate-action-and-environment/latest/?q=mineral%20mining&sort_by=published_date&type=policy_information&type=general_publications>: HTTP status code is not handled or not allowed',\n",
       " '2025-03-02 14:42:31 [scrapy.spidermiddlewares.httperror] INFO: Ignoring response <403 https://www.gov.ie/en/policy/d7a12b-climate-action-and-environment/latest/?q=mineral&sort_by=published_date&type=policy_information&type=general_publications>: HTTP status code is not handled or not allowed',\n",
       " '2025-03-02 14:42:31 [scrapy.spidermiddlewares.httperror] INFO: Ignoring response <403 https://www.gov.ie/en/policy/d7a12b-climate-action-and-environment/latest/?q=mineral%20extraction&sort_by=published_date&type=policy_information&type=general_publications>: HTTP status code is not handled or not allowed',\n",
       " '2025-03-02 14:42:31 [scrapy.spidermiddlewares.httperror] INFO: Ignoring response <403 https://www.gov.ie/en/policy/d7a12b-climate-action-and-environment/latest/?q=miner&sort_by=published_date&type=policy_information&type=general_publications>: HTTP status code is not handled or not allowed',\n",
       " '2025-03-02 14:42:31 [scrapy.spidermiddlewares.httperror] INFO: Ignoring response <403 https://www.gov.ie/en/policy/d7a12b-climate-action-and-environment/latest/?q=mine&sort_by=published_date&type=policy_information&type=general_publications>: HTTP status code is not handled or not allowed',\n",
       " '2025-03-02 14:42:31 [scrapy.spidermiddlewares.httperror] INFO: Ignoring response <403 https://www.gov.ie/en/policy/d7a12b-climate-action-and-environment/latest/?q=microsprinkler&sort_by=published_date&type=policy_information&type=general_publications>: HTTP status code is not handled or not allowed',\n",
       " '2025-03-02 14:42:32 [scrapy.spidermiddlewares.httperror] INFO: Ignoring response <403 https://www.gov.ie/en/policy/d7a12b-climate-action-and-environment/latest/?q=micro%20sprinkler&sort_by=published_date&type=policy_information&type=general_publications>: HTTP status code is not handled or not allowed',\n",
       " '2025-03-02 14:42:32 [scrapy.spidermiddlewares.httperror] INFO: Ignoring response <403 https://www.gov.ie/en/policy/d7a12b-climate-action-and-environment/latest/?q=meadow&sort_by=published_date&type=policy_information&type=general_publications>: HTTP status code is not handled or not allowed',\n",
       " '2025-03-02 14:42:32 [scrapy.spidermiddlewares.httperror] INFO: Ignoring response <403 https://www.gov.ie/en/policy/d7a12b-climate-action-and-environment/latest/?q=livestock%20industry&sort_by=published_date&type=policy_information&type=general_publications>: HTTP status code is not handled or not allowed',\n",
       " '2025-03-02 14:42:32 [scrapy.spidermiddlewares.httperror] INFO: Ignoring response <403 https://www.gov.ie/en/policy/d7a12b-climate-action-and-environment/latest/?q=marsh&sort_by=published_date&type=policy_information&type=general_publications>: HTTP status code is not handled or not allowed',\n",
       " '2025-03-02 14:42:32 [scrapy.spidermiddlewares.httperror] INFO: Ignoring response <403 https://www.gov.ie/en/policy/d7a12b-climate-action-and-environment/latest/?q=manure&sort_by=published_date&type=policy_information&type=general_publications>: HTTP status code is not handled or not allowed',\n",
       " '2025-03-02 14:42:32 [scrapy.spidermiddlewares.httperror] INFO: Ignoring response <403 https://www.gov.ie/en/policy/d7a12b-climate-action-and-environment/latest/?q=mangrove&sort_by=published_date&type=policy_information&type=general_publications>: HTTP status code is not handled or not allowed',\n",
       " '2025-03-02 14:42:32 [scrapy.spidermiddlewares.httperror] INFO: Ignoring response <403 https://www.gov.ie/en/policy/d7a12b-climate-action-and-environment/latest/?q=livestock&sort_by=published_date&type=policy_information&type=general_publications>: HTTP status code is not handled or not allowed',\n",
       " '2025-03-02 14:42:32 [scrapy.spidermiddlewares.httperror] INFO: Ignoring response <403 https://www.gov.ie/en/policy/d7a12b-climate-action-and-environment/latest/?q=life%20cycle&sort_by=published_date&type=policy_information&type=general_publications>: HTTP status code is not handled or not allowed',\n",
       " '2025-03-02 14:42:32 [scrapy.spidermiddlewares.httperror] INFO: Ignoring response <403 https://www.gov.ie/en/policy/d7a12b-climate-action-and-environment/latest/?q=latex%20extraction&sort_by=published_date&type=policy_information&type=general_publications>: HTTP status code is not handled or not allowed',\n",
       " '2025-03-02 14:42:32 [scrapy.spidermiddlewares.httperror] INFO: Ignoring response <403 https://www.gov.ie/en/policy/d7a12b-climate-action-and-environment/latest/?q=landowner&sort_by=published_date&type=policy_information&type=general_publications>: HTTP status code is not handled or not allowed',\n",
       " '2025-03-02 14:42:32 [scrapy.spidermiddlewares.httperror] INFO: Ignoring response <403 https://www.gov.ie/en/policy/d7a12b-climate-action-and-environment/latest/?q=landscape&sort_by=published_date&type=policy_information&type=general_publications>: HTTP status code is not handled or not allowed',\n",
       " '2025-03-02 14:42:32 [scrapy.spidermiddlewares.httperror] INFO: Ignoring response <403 https://www.gov.ie/en/policy/d7a12b-climate-action-and-environment/latest/?q=irrigation%20scheme&sort_by=published_date&type=policy_information&type=general_publications>: HTTP status code is not handled or not allowed',\n",
       " '2025-03-02 14:42:32 [scrapy.spidermiddlewares.httperror] INFO: Ignoring response <403 https://www.gov.ie/en/policy/d7a12b-climate-action-and-environment/latest/?q=land%20use&sort_by=published_date&type=policy_information&type=general_publications>: HTTP status code is not handled or not allowed',\n",
       " '2025-03-02 14:42:32 [scrapy.spidermiddlewares.httperror] INFO: Ignoring response <403 https://www.gov.ie/en/policy/d7a12b-climate-action-and-environment/latest/?q=irrigation&sort_by=published_date&type=policy_information&type=general_publications>: HTTP status code is not handled or not allowed',\n",
       " '2025-03-02 14:42:32 [scrapy.spidermiddlewares.httperror] INFO: Ignoring response <403 https://www.gov.ie/en/policy/d7a12b-climate-action-and-environment/latest/?q=illicit%20cultivation&sort_by=published_date&type=policy_information&type=general_publications>: HTTP status code is not handled or not allowed',\n",
       " '2025-03-02 14:42:32 [scrapy.spidermiddlewares.httperror] INFO: Ignoring response <403 https://www.gov.ie/en/policy/d7a12b-climate-action-and-environment/latest/?q=husbandry&sort_by=published_date&type=policy_information&type=general_publications>: HTTP status code is not handled or not allowed',\n",
       " '2025-03-02 14:42:32 [scrapy.spidermiddlewares.httperror] INFO: Ignoring response <403 https://www.gov.ie/en/policy/d7a12b-climate-action-and-environment/latest/?q=hotbed&sort_by=published_date&type=policy_information&type=general_publications>: HTTP status code is not handled or not allowed',\n",
       " '2025-03-02 14:42:32 [scrapy.spidermiddlewares.httperror] INFO: Ignoring response <403 https://www.gov.ie/en/policy/d7a12b-climate-action-and-environment/latest/?q=herd&sort_by=published_date&type=policy_information&type=general_publications>: HTTP status code is not handled or not allowed',\n",
       " '2025-03-02 14:42:32 [scrapy.spidermiddlewares.httperror] INFO: Ignoring response <403 https://www.gov.ie/en/policy/d7a12b-climate-action-and-environment/latest/?q=green%20manure&sort_by=published_date&type=policy_information&type=general_publications>: HTTP status code is not handled or not allowed',\n",
       " '2025-03-02 14:42:32 [scrapy.spidermiddlewares.httperror] INFO: Ignoring response <403 https://www.gov.ie/en/policy/d7a12b-climate-action-and-environment/latest/?q=harvesting&sort_by=published_date&type=policy_information&type=general_publications>: HTTP status code is not handled or not allowed',\n",
       " '2025-03-02 14:42:32 [scrapy.spidermiddlewares.httperror] INFO: Ignoring response <403 https://www.gov.ie/en/policy/d7a12b-climate-action-and-environment/latest/?q=grassland&sort_by=published_date&type=policy_information&type=general_publications>: HTTP status code is not handled or not allowed',\n",
       " '2025-03-02 14:42:32 [scrapy.spidermiddlewares.httperror] INFO: Ignoring response <403 https://www.gov.ie/en/policy/d7a12b-climate-action-and-environment/latest/?q=hay&sort_by=published_date&type=policy_information&type=general_publications>: HTTP status code is not handled or not allowed',\n",
       " '2025-03-02 14:42:32 [scrapy.spidermiddlewares.httperror] INFO: Ignoring response <403 https://www.gov.ie/en/policy/d7a12b-climate-action-and-environment/latest/?q=grazing&sort_by=published_date&type=policy_information&type=general_publications>: HTTP status code is not handled or not allowed',\n",
       " '2025-03-02 14:42:32 [scrapy.spidermiddlewares.httperror] INFO: Ignoring response <403 https://www.gov.ie/en/policy/d7a12b-climate-action-and-environment/latest/?q=harvest&sort_by=published_date&type=policy_information&type=general_publications>: HTTP status code is not handled or not allowed',\n",
       " '2025-03-02 14:42:32 [scrapy.spidermiddlewares.httperror] INFO: Ignoring response <403 https://www.gov.ie/en/policy/d7a12b-climate-action-and-environment/latest/?q=germoplasm&sort_by=published_date&type=policy_information&type=general_publications>: HTTP status code is not handled or not allowed',\n",
       " '2025-03-02 14:42:32 [scrapy.spidermiddlewares.httperror] INFO: Ignoring response <403 https://www.gov.ie/en/policy/d7a12b-climate-action-and-environment/latest/?q=germoplasm%20bank&sort_by=published_date&type=policy_information&type=general_publications>: HTTP status code is not handled or not allowed',\n",
       " '2025-03-02 14:42:32 [scrapy.spidermiddlewares.httperror] INFO: Ignoring response <403 https://www.gov.ie/en/policy/d7a12b-climate-action-and-environment/latest/?q=fungicidal&sort_by=published_date&type=policy_information&type=general_publications>: HTTP status code is not handled or not allowed',\n",
       " '2025-03-02 14:42:32 [scrapy.spidermiddlewares.httperror] INFO: Ignoring response <403 https://www.gov.ie/en/policy/d7a12b-climate-action-and-environment/latest/?q=geological&sort_by=published_date&type=policy_information&type=general_publications>: HTTP status code is not handled or not allowed',\n",
       " '2025-03-02 14:42:32 [scrapy.spidermiddlewares.httperror] INFO: Ignoring response <403 https://www.gov.ie/en/policy/d7a12b-climate-action-and-environment/latest/?q=freshwater&sort_by=published_date&type=policy_information&type=general_publications>: HTTP status code is not handled or not allowed',\n",
       " '2025-03-02 14:42:32 [scrapy.spidermiddlewares.httperror] INFO: Ignoring response <403 https://www.gov.ie/en/policy/d7a12b-climate-action-and-environment/latest/?q=forestry&sort_by=published_date&type=policy_information&type=general_publications>: HTTP status code is not handled or not allowed',\n",
       " '2025-03-02 14:42:32 [scrapy.spidermiddlewares.httperror] INFO: Ignoring response <403 https://www.gov.ie/en/policy/d7a12b-climate-action-and-environment/latest/?q=geologic&sort_by=published_date&type=policy_information&type=general_publications>: HTTP status code is not handled or not allowed',\n",
       " '2025-03-02 14:42:32 [scrapy.spidermiddlewares.httperror] INFO: Ignoring response <403 https://www.gov.ie/en/policy/d7a12b-climate-action-and-environment/latest/?q=fuelwood&sort_by=published_date&type=policy_information&type=general_publications>: HTTP status code is not handled or not allowed',\n",
       " '2025-03-02 14:42:32 [scrapy.spidermiddlewares.httperror] INFO: Ignoring response <403 https://www.gov.ie/en/policy/d7a12b-climate-action-and-environment/latest/?q=fungicide&sort_by=published_date&type=policy_information&type=general_publications>: HTTP status code is not handled or not allowed',\n",
       " '2025-03-02 14:42:32 [scrapy.spidermiddlewares.httperror] INFO: Ignoring response <403 https://www.gov.ie/en/policy/d7a12b-climate-action-and-environment/latest/?q=fuel%20wood&sort_by=published_date&type=policy_information&type=general_publications>: HTTP status code is not handled or not allowed',\n",
       " '2025-03-02 14:42:32 [scrapy.spidermiddlewares.httperror] INFO: Ignoring response <403 https://www.gov.ie/en/policy/d7a12b-climate-action-and-environment/latest/?q=forage&sort_by=published_date&type=policy_information&type=general_publications>: HTTP status code is not handled or not allowed',\n",
       " '2025-03-02 14:42:32 [scrapy.spidermiddlewares.httperror] INFO: Ignoring response <403 https://www.gov.ie/en/policy/d7a12b-climate-action-and-environment/latest/?q=forest%20plantation&sort_by=published_date&type=policy_information&type=general_publications>: HTTP status code is not handled or not allowed',\n",
       " '2025-03-02 14:42:32 [scrapy.spidermiddlewares.httperror] INFO: Ignoring response <403 https://www.gov.ie/en/policy/d7a12b-climate-action-and-environment/latest/?q=food%20sector&sort_by=published_date&type=policy_information&type=general_publications>: HTTP status code is not handled or not allowed',\n",
       " '2025-03-02 14:42:32 [scrapy.spidermiddlewares.httperror] INFO: Ignoring response <403 https://www.gov.ie/en/policy/d7a12b-climate-action-and-environment/latest/?q=forestation&sort_by=published_date&type=policy_information&type=general_publications>: HTTP status code is not handled or not allowed',\n",
       " '2025-03-02 14:42:32 [scrapy.spidermiddlewares.httperror] INFO: Ignoring response <403 https://www.gov.ie/en/policy/d7a12b-climate-action-and-environment/latest/?q=forest&sort_by=published_date&type=policy_information&type=general_publications>: HTTP status code is not handled or not allowed',\n",
       " '2025-03-02 14:42:32 [scrapy.spidermiddlewares.httperror] INFO: Ignoring response <403 https://www.gov.ie/en/policy/d7a12b-climate-action-and-environment/latest/?q=forestland&sort_by=published_date&type=policy_information&type=general_publications>: HTTP status code is not handled or not allowed',\n",
       " '2025-03-02 14:42:32 [scrapy.spidermiddlewares.httperror] INFO: Ignoring response <403 https://www.gov.ie/en/policy/d7a12b-climate-action-and-environment/latest/?q=forestry%20nursery&sort_by=published_date&type=policy_information&type=general_publications>: HTTP status code is not handled or not allowed',\n",
       " '2025-03-02 14:42:32 [scrapy.spidermiddlewares.httperror] INFO: Ignoring response <403 https://www.gov.ie/en/policy/d7a12b-climate-action-and-environment/latest/?q=food%20industry&sort_by=published_date&type=policy_information&type=general_publications>: HTTP status code is not handled or not allowed',\n",
       " '2025-03-02 14:42:32 [scrapy.spidermiddlewares.httperror] INFO: Ignoring response <403 https://www.gov.ie/en/policy/d7a12b-climate-action-and-environment/latest/?q=flock&sort_by=published_date&type=policy_information&type=general_publications>: HTTP status code is not handled or not allowed',\n",
       " '2025-03-02 14:42:32 [scrapy.spidermiddlewares.httperror] INFO: Ignoring response <403 https://www.gov.ie/en/policy/d7a12b-climate-action-and-environment/latest/?q=fertilizer&sort_by=published_date&type=policy_information&type=general_publications>: HTTP status code is not handled or not allowed',\n",
       " '2025-03-02 14:42:32 [scrapy.spidermiddlewares.httperror] INFO: Ignoring response <403 https://www.gov.ie/en/policy/d7a12b-climate-action-and-environment/latest/?q=firewood&sort_by=published_date&type=policy_information&type=general_publications>: HTTP status code is not handled or not allowed',\n",
       " '2025-03-02 14:42:32 [scrapy.spidermiddlewares.httperror] INFO: Ignoring response <403 https://www.gov.ie/en/policy/d7a12b-climate-action-and-environment/latest/?q=floodplain&sort_by=published_date&type=policy_information&type=general_publications>: HTTP status code is not handled or not allowed',\n",
       " '2025-03-02 14:42:32 [scrapy.spidermiddlewares.httperror] INFO: Ignoring response <403 https://www.gov.ie/en/policy/d7a12b-climate-action-and-environment/latest/?q=fodder&sort_by=published_date&type=policy_information&type=general_publications>: HTTP status code is not handled or not allowed',\n",
       " '2025-03-02 14:42:32 [scrapy.spidermiddlewares.httperror] INFO: Ignoring response <403 https://www.gov.ie/en/policy/d7a12b-climate-action-and-environment/latest/?q=food%20business&sort_by=published_date&type=policy_information&type=general_publications>: HTTP status code is not handled or not allowed',\n",
       " '2025-03-02 14:42:32 [scrapy.spidermiddlewares.httperror] INFO: Ignoring response <403 https://www.gov.ie/en/policy/d7a12b-climate-action-and-environment/latest/?q=flora&sort_by=published_date&type=policy_information&type=general_publications>: HTTP status code is not handled or not allowed',\n",
       " '2025-03-02 14:42:32 [scrapy.spidermiddlewares.httperror] INFO: Ignoring response <403 https://www.gov.ie/en/policy/d7a12b-climate-action-and-environment/latest/?q=fertilization&sort_by=published_date&type=policy_information&type=general_publications>: HTTP status code is not handled or not allowed',\n",
       " '2025-03-02 14:42:32 [scrapy.spidermiddlewares.httperror] INFO: Ignoring response <403 https://www.gov.ie/en/policy/d7a12b-climate-action-and-environment/latest/?q=fertigation&sort_by=published_date&type=policy_information&type=general_publications>: HTTP status code is not handled or not allowed',\n",
       " '2025-03-02 14:42:32 [scrapy.spidermiddlewares.httperror] INFO: Ignoring response <403 https://www.gov.ie/en/policy/d7a12b-climate-action-and-environment/latest/?q=felling&sort_by=published_date&type=policy_information&type=general_publications>: HTTP status code is not handled or not allowed',\n",
       " '2025-03-02 14:42:32 [scrapy.spidermiddlewares.httperror] INFO: Ignoring response <403 https://www.gov.ie/en/policy/d7a12b-climate-action-and-environment/latest/?q=fauna&sort_by=published_date&type=policy_information&type=general_publications>: HTTP status code is not handled or not allowed',\n",
       " '2025-03-02 14:42:32 [scrapy.spidermiddlewares.httperror] INFO: Ignoring response <403 https://www.gov.ie/en/policy/d7a12b-climate-action-and-environment/latest/?q=farmer&sort_by=published_date&type=policy_information&type=general_publications>: HTTP status code is not handled or not allowed',\n",
       " '2025-03-02 14:42:32 [scrapy.spidermiddlewares.httperror] INFO: Ignoring response <403 https://www.gov.ie/en/policy/d7a12b-climate-action-and-environment/latest/?q=farm&sort_by=published_date&type=policy_information&type=general_publications>: HTTP status code is not handled or not allowed',\n",
       " '2025-03-02 14:42:32 [scrapy.spidermiddlewares.httperror] INFO: Ignoring response <403 https://www.gov.ie/en/policy/d7a12b-climate-action-and-environment/latest/?q=farming&sort_by=published_date&type=policy_information&type=general_publications>: HTTP status code is not handled or not allowed',\n",
       " '2025-03-02 14:42:32 [scrapy.spidermiddlewares.httperror] INFO: Ignoring response <403 https://www.gov.ie/en/policy/d7a12b-climate-action-and-environment/latest/?q=extraction%20of%20latex&sort_by=published_date&type=policy_information&type=general_publications>: HTTP status code is not handled or not allowed',\n",
       " '2025-03-02 14:42:32 [scrapy.spidermiddlewares.httperror] INFO: Ignoring response <403 https://www.gov.ie/en/policy/d7a12b-climate-action-and-environment/latest/?q=environmental&sort_by=published_date&type=policy_information&type=general_publications>: HTTP status code is not handled or not allowed',\n",
       " '2025-03-02 14:42:32 [scrapy.spidermiddlewares.httperror] INFO: Ignoring response <403 https://www.gov.ie/en/policy/d7a12b-climate-action-and-environment/latest/?q=endangered%20species&sort_by=published_date&type=policy_information&type=general_publications>: HTTP status code is not handled or not allowed',\n",
       " '2025-03-02 14:42:33 [scrapy.spidermiddlewares.httperror] INFO: Ignoring response <403 https://www.gov.ie/en/policy/d7a12b-climate-action-and-environment/latest/?q=desert&sort_by=published_date&type=policy_information&type=general_publications>: HTTP status code is not handled or not allowed',\n",
       " '2025-03-02 14:42:33 [scrapy.spidermiddlewares.httperror] INFO: Ignoring response <403 https://www.gov.ie/en/policy/d7a12b-climate-action-and-environment/latest/?q=environmental%20conservation&sort_by=published_date&type=policy_information&type=general_publications>: HTTP status code is not handled or not allowed',\n",
       " '2025-03-02 14:42:33 [scrapy.spidermiddlewares.httperror] INFO: Ignoring response <403 https://www.gov.ie/en/policy/d7a12b-climate-action-and-environment/latest/?q=degraded%20land&sort_by=published_date&type=policy_information&type=general_publications>: HTTP status code is not handled or not allowed',\n",
       " '2025-03-02 14:42:33 [scrapy.spidermiddlewares.httperror] INFO: Ignoring response <403 https://www.gov.ie/en/policy/d7a12b-climate-action-and-environment/latest/?q=deforestation&sort_by=published_date&type=policy_information&type=general_publications>: HTTP status code is not handled or not allowed',\n",
       " '2025-03-02 14:42:33 [scrapy.spidermiddlewares.httperror] INFO: Ignoring response <403 https://www.gov.ie/en/policy/d7a12b-climate-action-and-environment/latest/?q=cutting&sort_by=published_date&type=policy_information&type=general_publications>: HTTP status code is not handled or not allowed',\n",
       " '2025-03-02 14:42:33 [scrapy.spidermiddlewares.httperror] INFO: Ignoring response <403 https://www.gov.ie/en/policy/d7a12b-climate-action-and-environment/latest/?q=danger%20of%20extinction&sort_by=published_date&type=policy_information&type=general_publications>: HTTP status code is not handled or not allowed',\n",
       " '2025-03-02 14:42:33 [scrapy.spidermiddlewares.httperror] INFO: Ignoring response <403 https://www.gov.ie/en/policy/d7a12b-climate-action-and-environment/latest/?q=cultivation&sort_by=published_date&type=policy_information&type=general_publications>: HTTP status code is not handled or not allowed',\n",
       " '2025-03-02 14:42:33 [scrapy.spidermiddlewares.httperror] INFO: Ignoring response <403 https://www.gov.ie/en/policy/d7a12b-climate-action-and-environment/latest/?q=crop&sort_by=published_date&type=policy_information&type=general_publications>: HTTP status code is not handled or not allowed',\n",
       " '2025-03-02 14:42:33 [scrapy.spidermiddlewares.httperror] INFO: Ignoring response <403 https://www.gov.ie/en/policy/d7a12b-climate-action-and-environment/latest/?q=cultivate&sort_by=published_date&type=policy_information&type=general_publications>: HTTP status code is not handled or not allowed',\n",
       " '2025-03-02 14:42:33 [scrapy.spidermiddlewares.httperror] INFO: Ignoring response <403 https://www.gov.ie/en/policy/d7a12b-climate-action-and-environment/latest/?q=cropland&sort_by=published_date&type=policy_information&type=general_publications>: HTTP status code is not handled or not allowed',\n",
       " '2025-03-02 14:42:33 [scrapy.spidermiddlewares.httperror] INFO: Ignoring response <403 https://www.gov.ie/en/policy/d7a12b-climate-action-and-environment/latest/?q=country%20planning&sort_by=published_date&type=policy_information&type=general_publications>: HTTP status code is not handled or not allowed',\n",
       " '2025-03-02 14:42:33 [scrapy.spidermiddlewares.httperror] INFO: Ignoring response <403 https://www.gov.ie/en/policy/d7a12b-climate-action-and-environment/latest/?q=corridor&sort_by=published_date&type=policy_information&type=general_publications>: HTTP status code is not handled or not allowed',\n",
       " '2025-03-02 14:42:33 [scrapy.spidermiddlewares.httperror] INFO: Ignoring response <403 https://www.gov.ie/en/policy/d7a12b-climate-action-and-environment/latest/?q=climatic%20change&sort_by=published_date&type=policy_information&type=general_publications>: HTTP status code is not handled or not allowed',\n",
       " '2025-03-02 14:42:33 [scrapy.spidermiddlewares.httperror] INFO: Ignoring response <403 https://www.gov.ie/en/policy/d7a12b-climate-action-and-environment/latest/?q=contamination&sort_by=published_date&type=policy_information&type=general_publications>: HTTP status code is not handled or not allowed',\n",
       " '2025-03-02 14:42:33 [scrapy.spidermiddlewares.httperror] INFO: Ignoring response <403 https://www.gov.ie/en/policy/d7a12b-climate-action-and-environment/latest/?q=compost&sort_by=published_date&type=policy_information&type=general_publications>: HTTP status code is not handled or not allowed',\n",
       " '2025-03-02 14:42:33 [scrapy.spidermiddlewares.httperror] INFO: Ignoring response <403 https://www.gov.ie/en/policy/d7a12b-climate-action-and-environment/latest/?q=clearcutting&sort_by=published_date&type=policy_information&type=general_publications>: HTTP status code is not handled or not allowed',\n",
       " '2025-03-02 14:42:33 [scrapy.spidermiddlewares.httperror] INFO: Ignoring response <403 https://www.gov.ie/en/policy/d7a12b-climate-action-and-environment/latest/?q=bush&sort_by=published_date&type=policy_information&type=general_publications>: HTTP status code is not handled or not allowed',\n",
       " '2025-03-02 14:42:33 [scrapy.spidermiddlewares.httperror] INFO: Ignoring response <403 https://www.gov.ie/en/policy/d7a12b-climate-action-and-environment/latest/?q=buffer&sort_by=published_date&type=policy_information&type=general_publications>: HTTP status code is not handled or not allowed',\n",
       " '2025-03-02 14:42:33 [scrapy.spidermiddlewares.httperror] INFO: Ignoring response <403 https://www.gov.ie/en/policy/d7a12b-climate-action-and-environment/latest/?q=bog&sort_by=published_date&type=policy_information&type=general_publications>: HTTP status code is not handled or not allowed',\n",
       " '2025-03-02 14:42:33 [scrapy.spidermiddlewares.httperror] INFO: Ignoring response <403 https://www.gov.ie/en/policy/d7a12b-climate-action-and-environment/latest/?q=breeding&sort_by=published_date&type=policy_information&type=general_publications>: HTTP status code is not handled or not allowed',\n",
       " '2025-03-02 14:42:33 [scrapy.spidermiddlewares.httperror] INFO: Ignoring response <403 https://www.gov.ie/en/policy/d7a12b-climate-action-and-environment/latest/?q=breeding%20ground&sort_by=published_date&type=policy_information&type=general_publications>: HTTP status code is not handled or not allowed',\n",
       " '2025-03-02 14:42:33 [scrapy.spidermiddlewares.httperror] INFO: Ignoring response <403 https://www.gov.ie/en/policy/d7a12b-climate-action-and-environment/latest/?q=breeder&sort_by=published_date&type=policy_information&type=general_publications>: HTTP status code is not handled or not allowed',\n",
       " '2025-03-02 14:42:33 [scrapy.spidermiddlewares.httperror] INFO: Ignoring response <403 https://www.gov.ie/en/policy/d7a12b-climate-action-and-environment/latest/?q=breed&sort_by=published_date&type=policy_information&type=general_publications>: HTTP status code is not handled or not allowed',\n",
       " '2025-03-02 14:42:33 [scrapy.spidermiddlewares.httperror] INFO: Ignoring response <403 https://www.gov.ie/en/policy/d7a12b-climate-action-and-environment/latest/?q=biofuel&sort_by=published_date&type=policy_information&type=general_publications>: HTTP status code is not handled or not allowed',\n",
       " '2025-03-02 14:42:33 [scrapy.spidermiddlewares.httperror] INFO: Ignoring response <403 https://www.gov.ie/en/policy/d7a12b-climate-action-and-environment/latest/?q=biodiversity&sort_by=published_date&type=policy_information&type=general_publications>: HTTP status code is not handled or not allowed',\n",
       " '2025-03-02 14:42:33 [scrapy.spidermiddlewares.httperror] INFO: Ignoring response <403 https://www.gov.ie/en/policy/d7a12b-climate-action-and-environment/latest/?q=bamboo&sort_by=published_date&type=policy_information&type=general_publications>: HTTP status code is not handled or not allowed',\n",
       " '2025-03-02 14:42:33 [scrapy.spidermiddlewares.httperror] INFO: Ignoring response <403 https://www.gov.ie/en/policy/d7a12b-climate-action-and-environment/latest/?q=agroindustry&sort_by=published_date&type=policy_information&type=general_publications>: HTTP status code is not handled or not allowed',\n",
       " '2025-03-02 14:42:33 [scrapy.spidermiddlewares.httperror] INFO: Ignoring response <403 https://www.gov.ie/en/policy/d7a12b-climate-action-and-environment/latest/?q=assisted%20regeneration&sort_by=published_date&type=policy_information&type=general_publications>: HTTP status code is not handled or not allowed',\n",
       " '2025-03-02 14:42:33 [scrapy.spidermiddlewares.httperror] INFO: Ignoring response <403 https://www.gov.ie/en/policy/d7a12b-climate-action-and-environment/latest/?q=agroindustrial&sort_by=published_date&type=policy_information&type=general_publications>: HTTP status code is not handled or not allowed',\n",
       " '2025-03-02 14:42:33 [scrapy.spidermiddlewares.httperror] INFO: Ignoring response <403 https://www.gov.ie/en/policy/d7a12b-climate-action-and-environment/latest/?q=agro-reforestation&sort_by=published_date&type=policy_information&type=general_publications>: HTTP status code is not handled or not allowed',\n",
       " '2025-03-02 14:42:33 [scrapy.spidermiddlewares.httperror] INFO: Ignoring response <403 https://www.gov.ie/en/policy/d7a12b-climate-action-and-environment/latest/?q=agroforestry&sort_by=published_date&type=policy_information&type=general_publications>: HTTP status code is not handled or not allowed',\n",
       " '2025-03-02 14:42:33 [scrapy.spidermiddlewares.httperror] INFO: Ignoring response <403 https://www.gov.ie/en/policy/d7a12b-climate-action-and-environment/latest/?q=agro-industry&sort_by=published_date&type=policy_information&type=general_publications>: HTTP status code is not handled or not allowed',\n",
       " '2025-03-02 14:42:33 [scrapy.spidermiddlewares.httperror] INFO: Ignoring response <403 https://www.gov.ie/en/policy/268a7-agriculture-and-food/latest/?q=wood&sort_by=published_date&type=policy_information&type=general_publications>: HTTP status code is not handled or not allowed',\n",
       " '2025-03-02 14:42:33 [scrapy.spidermiddlewares.httperror] INFO: Ignoring response <403 https://www.gov.ie/en/policy/d7a12b-climate-action-and-environment/latest/?q=agribusiness&sort_by=published_date&type=policy_information&type=general_publications>: HTTP status code is not handled or not allowed',\n",
       " '2025-03-02 14:42:33 [scrapy.spidermiddlewares.httperror] INFO: Ignoring response <403 https://www.gov.ie/en/policy/d7a12b-climate-action-and-environment/latest/?q=agricultural%20land&sort_by=published_date&type=policy_information&type=general_publications>: HTTP status code is not handled or not allowed',\n",
       " '2025-03-02 14:42:33 [scrapy.spidermiddlewares.httperror] INFO: Ignoring response <403 https://www.gov.ie/en/policy/d7a12b-climate-action-and-environment/latest/?q=agricultural%20industry&sort_by=published_date&type=policy_information&type=general_publications>: HTTP status code is not handled or not allowed',\n",
       " '2025-03-02 14:42:33 [scrapy.spidermiddlewares.httperror] INFO: Ignoring response <403 https://www.gov.ie/en/policy/d7a12b-climate-action-and-environment/latest/?q=afforestation&sort_by=published_date&type=policy_information&type=general_publications>: HTTP status code is not handled or not allowed',\n",
       " '2025-03-02 14:42:33 [scrapy.spidermiddlewares.httperror] INFO: Ignoring response <403 https://www.gov.ie/en/policy/d7a12b-climate-action-and-environment/latest/?q=agriculture&sort_by=published_date&type=policy_information&type=general_publications>: HTTP status code is not handled or not allowed',\n",
       " '2025-03-02 14:42:33 [scrapy.spidermiddlewares.httperror] INFO: Ignoring response <403 https://www.gov.ie/en/policy/268a7-agriculture-and-food/latest/?q=woodland&sort_by=published_date&type=policy_information&type=general_publications>: HTTP status code is not handled or not allowed',\n",
       " '2025-03-02 14:42:33 [scrapy.spidermiddlewares.httperror] INFO: Ignoring response <403 https://www.gov.ie/en/policy/268a7-agriculture-and-food/latest/?q=wood%20extraction&sort_by=published_date&type=policy_information&type=general_publications>: HTTP status code is not handled or not allowed',\n",
       " '2025-03-02 14:42:33 [scrapy.spidermiddlewares.httperror] INFO: Ignoring response <403 https://www.gov.ie/en/policy/268a7-agriculture-and-food/latest/?q=wildlife&sort_by=published_date&type=policy_information&type=general_publications>: HTTP status code is not handled or not allowed',\n",
       " '2025-03-02 14:42:34 [scrapy.spidermiddlewares.httperror] INFO: Ignoring response <403 https://www.gov.ie/en/policy/268a7-agriculture-and-food/latest/?q=watering&sort_by=published_date&type=policy_information&type=general_publications>: HTTP status code is not handled or not allowed',\n",
       " '2025-03-02 14:42:34 [scrapy.spidermiddlewares.httperror] INFO: Ignoring response <403 https://www.gov.ie/en/policy/268a7-agriculture-and-food/latest/?q=vegetated&sort_by=published_date&type=policy_information&type=general_publications>: HTTP status code is not handled or not allowed',\n",
       " '2025-03-02 14:42:34 [scrapy.spidermiddlewares.httperror] INFO: Ignoring response <403 https://www.gov.ie/en/policy/268a7-agriculture-and-food/latest/?q=vegetable&sort_by=published_date&type=policy_information&type=general_publications>: HTTP status code is not handled or not allowed',\n",
       " '2025-03-02 14:42:34 [scrapy.spidermiddlewares.httperror] INFO: Ignoring response <403 https://www.gov.ie/en/policy/268a7-agriculture-and-food/latest/?q=wetland&sort_by=published_date&type=policy_information&type=general_publications>: HTTP status code is not handled or not allowed',\n",
       " '2025-03-02 14:42:34 [scrapy.spidermiddlewares.httperror] INFO: Ignoring response <403 https://www.gov.ie/en/policy/268a7-agriculture-and-food/latest/?q=vegetal&sort_by=published_date&type=policy_information&type=general_publications>: HTTP status code is not handled or not allowed',\n",
       " '2025-03-02 14:42:34 [scrapy.spidermiddlewares.httperror] INFO: Ignoring response <403 https://www.gov.ie/en/policy/268a7-agriculture-and-food/latest/?q=watershed&sort_by=published_date&type=policy_information&type=general_publications>: HTTP status code is not handled or not allowed',\n",
       " '2025-03-02 14:42:34 [scrapy.spidermiddlewares.httperror] INFO: Ignoring response <403 https://www.gov.ie/en/policy/268a7-agriculture-and-food/latest/?q=trickle%20irrigation&sort_by=published_date&type=policy_information&type=general_publications>: HTTP status code is not handled or not allowed',\n",
       " '2025-03-02 14:42:34 [scrapy.spidermiddlewares.httperror] INFO: Ignoring response <403 https://www.gov.ie/en/policy/268a7-agriculture-and-food/latest/?q=tree&sort_by=published_date&type=policy_information&type=general_publications>: HTTP status code is not handled or not allowed',\n",
       " '2025-03-02 14:42:34 [scrapy.spidermiddlewares.httperror] INFO: Ignoring response <403 https://www.gov.ie/en/policy/268a7-agriculture-and-food/latest/?q=tree%20nursery&sort_by=published_date&type=policy_information&type=general_publications>: HTTP status code is not handled or not allowed',\n",
       " '2025-03-02 14:42:34 [scrapy.spidermiddlewares.httperror] INFO: Ignoring response <403 https://www.gov.ie/en/policy/268a7-agriculture-and-food/latest/?q=timber%20species&sort_by=published_date&type=policy_information&type=general_publications>: HTTP status code is not handled or not allowed',\n",
       " '2025-03-02 14:42:34 [scrapy.spidermiddlewares.httperror] INFO: Ignoring response <403 https://www.gov.ie/en/policy/268a7-agriculture-and-food/latest/?q=timber%20extraction&sort_by=published_date&type=policy_information&type=general_publications>: HTTP status code is not handled or not allowed',\n",
       " '2025-03-02 14:42:34 [scrapy.spidermiddlewares.httperror] INFO: Ignoring response <403 https://www.gov.ie/en/policy/268a7-agriculture-and-food/latest/?q=tree%20cover&sort_by=published_date&type=policy_information&type=general_publications>: HTTP status code is not handled or not allowed',\n",
       " '2025-03-02 14:42:34 [scrapy.spidermiddlewares.httperror] INFO: Ignoring response <403 https://www.gov.ie/en/policy/268a7-agriculture-and-food/latest/?q=system%20of%20irrigation&sort_by=published_date&type=policy_information&type=general_publications>: HTTP status code is not handled or not allowed',\n",
       " '2025-03-02 14:42:34 [scrapy.spidermiddlewares.httperror] INFO: Ignoring response <403 https://www.gov.ie/en/policy/268a7-agriculture-and-food/latest/?q=timber&sort_by=published_date&type=policy_information&type=general_publications>: HTTP status code is not handled or not allowed',\n",
       " '2025-03-02 14:42:34 [scrapy.spidermiddlewares.httperror] INFO: Ignoring response <403 https://www.gov.ie/en/policy/268a7-agriculture-and-food/latest/?q=swamp&sort_by=published_date&type=policy_information&type=general_publications>: HTTP status code is not handled or not allowed',\n",
       " '2025-03-02 14:42:34 [scrapy.spidermiddlewares.httperror] INFO: Ignoring response <403 https://www.gov.ie/en/policy/268a7-agriculture-and-food/latest/?q=sustainable%20production&sort_by=published_date&type=policy_information&type=general_publications>: HTTP status code is not handled or not allowed',\n",
       " '2025-03-02 14:42:34 [scrapy.spidermiddlewares.httperror] INFO: Ignoring response <403 https://www.gov.ie/en/policy/268a7-agriculture-and-food/latest/?q=sustainable%20development&sort_by=published_date&type=policy_information&type=general_publications>: HTTP status code is not handled or not allowed',\n",
       " '2025-03-02 14:42:34 [scrapy.spidermiddlewares.httperror] INFO: Ignoring response <403 https://www.gov.ie/en/policy/268a7-agriculture-and-food/latest/?q=stewardship&sort_by=published_date&type=policy_information&type=general_publications>: HTTP status code is not handled or not allowed',\n",
       " '2025-03-02 14:42:34 [scrapy.spidermiddlewares.httperror] INFO: Ignoring response <403 https://www.gov.ie/en/policy/268a7-agriculture-and-food/latest/?q=sprinkling&sort_by=published_date&type=policy_information&type=general_publications>: HTTP status code is not handled or not allowed',\n",
       " '2025-03-02 14:42:35 [scrapy.spidermiddlewares.httperror] INFO: Ignoring response <403 https://www.gov.ie/en/policy/268a7-agriculture-and-food/latest/?q=sprinkler%20irrigation&sort_by=published_date&type=policy_information&type=general_publications>: HTTP status code is not handled or not allowed',\n",
       " '2025-03-02 14:42:35 [scrapy.spidermiddlewares.httperror] INFO: Ignoring response <403 https://www.gov.ie/en/policy/268a7-agriculture-and-food/latest/?q=sprinkle%20irrigation&sort_by=published_date&type=policy_information&type=general_publications>: HTTP status code is not handled or not allowed',\n",
       " '2025-03-02 14:42:35 [scrapy.spidermiddlewares.httperror] INFO: Ignoring response <403 https://www.gov.ie/en/policy/268a7-agriculture-and-food/latest/?q=spray%20irrigation&sort_by=published_date&type=policy_information&type=general_publications>: HTTP status code is not handled or not allowed',\n",
       " '2025-03-02 14:42:35 [scrapy.spidermiddlewares.httperror] INFO: Ignoring response <403 https://www.gov.ie/en/policy/268a7-agriculture-and-food/latest/?q=silvopasture&sort_by=published_date&type=policy_information&type=general_publications>: HTTP status code is not handled or not allowed',\n",
       " '2025-03-02 14:42:35 [scrapy.spidermiddlewares.httperror] INFO: Ignoring response <403 https://www.gov.ie/en/policy/268a7-agriculture-and-food/latest/?q=shrubland&sort_by=published_date&type=policy_information&type=general_publications>: HTTP status code is not handled or not allowed',\n",
       " '2025-03-02 14:42:35 [scrapy.spidermiddlewares.httperror] INFO: Ignoring response <403 https://www.gov.ie/en/policy/268a7-agriculture-and-food/latest/?q=soil&sort_by=published_date&type=policy_information&type=general_publications>: HTTP status code is not handled or not allowed',\n",
       " '2025-03-02 14:42:35 [scrapy.spidermiddlewares.httperror] INFO: Ignoring response <403 https://www.gov.ie/en/policy/268a7-agriculture-and-food/latest/?q=silviculture&sort_by=published_date&type=policy_information&type=general_publications>: HTTP status code is not handled or not allowed',\n",
       " '2025-03-02 14:42:35 [scrapy.spidermiddlewares.httperror] INFO: Ignoring response <403 https://www.gov.ie/en/policy/268a7-agriculture-and-food/latest/?q=shrub&sort_by=published_date&type=policy_information&type=general_publications>: HTTP status code is not handled or not allowed',\n",
       " '2025-03-02 14:42:35 [scrapy.spidermiddlewares.httperror] INFO: Ignoring response <403 https://www.gov.ie/en/policy/268a7-agriculture-and-food/latest/?q=selective%20cutting&sort_by=published_date&type=policy_information&type=general_publications>: HTTP status code is not handled or not allowed',\n",
       " '2025-03-02 14:42:35 [scrapy.spidermiddlewares.httperror] INFO: Ignoring response <403 https://www.gov.ie/en/policy/268a7-agriculture-and-food/latest/?q=seedbed&sort_by=published_date&type=policy_information&type=general_publications>: HTTP status code is not handled or not allowed',\n",
       " '2025-03-02 14:42:35 [scrapy.spidermiddlewares.httperror] INFO: Ignoring response <403 https://www.gov.ie/en/policy/268a7-agriculture-and-food/latest/?q=seed&sort_by=published_date&type=policy_information&type=general_publications>: HTTP status code is not handled or not allowed',\n",
       " '2025-03-02 14:42:35 [scrapy.spidermiddlewares.httperror] INFO: Ignoring response <403 https://www.gov.ie/en/policy/268a7-agriculture-and-food/latest/?q=salt%20marsh&sort_by=published_date&type=policy_information&type=general_publications>: HTTP status code is not handled or not allowed',\n",
       " '2025-03-02 14:42:35 [scrapy.spidermiddlewares.httperror] INFO: Ignoring response <403 https://www.gov.ie/en/policy/268a7-agriculture-and-food/latest/?q=rural&sort_by=published_date&type=policy_information&type=general_publications>: HTTP status code is not handled or not allowed',\n",
       " '2025-03-02 14:42:35 [scrapy.spidermiddlewares.httperror] INFO: Ignoring response <403 https://www.gov.ie/en/policy/268a7-agriculture-and-food/latest/?q=rural%20development&sort_by=published_date&type=policy_information&type=general_publications>: HTTP status code is not handled or not allowed',\n",
       " '2025-03-02 14:42:35 [scrapy.spidermiddlewares.httperror] INFO: Ignoring response <403 https://www.gov.ie/en/policy/268a7-agriculture-and-food/latest/?q=riverbank&sort_by=published_date&type=policy_information&type=general_publications>: HTTP status code is not handled or not allowed',\n",
       " '2025-03-02 14:42:35 [scrapy.spidermiddlewares.httperror] INFO: Ignoring response <403 https://www.gov.ie/en/policy/268a7-agriculture-and-food/latest/?q=scrubland&sort_by=published_date&type=policy_information&type=general_publications>: HTTP status code is not handled or not allowed',\n",
       " '2025-03-02 14:42:35 [scrapy.spidermiddlewares.httperror] INFO: Ignoring response <403 https://www.gov.ie/en/policy/268a7-agriculture-and-food/latest/?q=resin%20extraction&sort_by=published_date&type=policy_information&type=general_publications>: HTTP status code is not handled or not allowed',\n",
       " '2025-03-02 14:42:35 [scrapy.spidermiddlewares.httperror] INFO: Ignoring response <403 https://www.gov.ie/en/policy/268a7-agriculture-and-food/latest/?q=restoration&sort_by=published_date&type=policy_information&type=general_publications>: HTTP status code is not handled or not allowed',\n",
       " '2025-03-02 14:42:35 [scrapy.spidermiddlewares.httperror] INFO: Ignoring response <403 https://www.gov.ie/en/policy/268a7-agriculture-and-food/latest/?q=risk%20of%20extinction&sort_by=published_date&type=policy_information&type=general_publications>: HTTP status code is not handled or not allowed',\n",
       " '2025-03-02 14:42:35 [scrapy.spidermiddlewares.httperror] INFO: Ignoring response <403 https://www.gov.ie/en/policy/268a7-agriculture-and-food/latest/?q=reserve&sort_by=published_date&type=policy_information&type=general_publications>: HTTP status code is not handled or not allowed',\n",
       " ...]"
      ]
     },
     "execution_count": 2,
     "metadata": {},
     "output_type": "execute_result"
    }
   ],
   "source": [
    "!! scrapy crawl goviefor -O ../outputs/goviefor.json"
   ]
  },
  {
   "cell_type": "markdown",
   "metadata": {},
   "source": [
    "Next we will consolidate the metadata and text of the policy PDFs into one dictionary."
   ]
  },
  {
   "cell_type": "code",
   "execution_count": 3,
   "metadata": {},
   "outputs": [
    {
     "name": "stderr",
     "output_type": "stream",
     "text": [
      "  0%|          | 0/284 [00:00<?, ?it/s]"
     ]
    },
    {
     "name": "stdout",
     "output_type": "stream",
     "text": [
      "Could not read bd0e2215bffb644e8c4b3a7df2b26f3d4adabbe3 due to [WinError 2] The system cannot find the file specified: 'c:\\\\Users\\\\allie\\\\Documents\\\\GitHub\\\\policy-classifier/policy_scraping/policy_scraping/outputs/forestry/full\\\\bd0e2215bffb644e8c4b3a7df2b26f3d4adabbe3.pdf'\n"
     ]
    },
    {
     "name": "stderr",
     "output_type": "stream",
     "text": [
      " 10%|█         | 29/284 [00:48<11:49,  2.78s/it]"
     ]
    },
    {
     "name": "stdout",
     "output_type": "stream",
     "text": [
      "Could not read a57ebf5bbe57725807dab1e81a537b32ed163d2f due to [WinError 2] The system cannot find the file specified: 'c:\\\\Users\\\\allie\\\\Documents\\\\GitHub\\\\policy-classifier/policy_scraping/policy_scraping/outputs/forestry/full\\\\a57ebf5bbe57725807dab1e81a537b32ed163d2f.pdf'\n"
     ]
    },
    {
     "name": "stderr",
     "output_type": "stream",
     "text": [
      " 11%|█         | 31/284 [00:51<09:53,  2.35s/it]"
     ]
    },
    {
     "name": "stdout",
     "output_type": "stream",
     "text": [
      "Could not read 74ec9122f540da0cd334f6260ade67574fed5819 due to [WinError 2] The system cannot find the file specified: 'c:\\\\Users\\\\allie\\\\Documents\\\\GitHub\\\\policy-classifier/policy_scraping/policy_scraping/outputs/forestry/full\\\\74ec9122f540da0cd334f6260ade67574fed5819.pdf'\n"
     ]
    },
    {
     "name": "stderr",
     "output_type": "stream",
     "text": [
      " 12%|█▏        | 33/284 [00:54<08:41,  2.08s/it]"
     ]
    },
    {
     "name": "stdout",
     "output_type": "stream",
     "text": [
      "Could not read 3298d4d9318d1dba58fca6a03fb4f084e5ee23a7 due to [WinError 2] The system cannot find the file specified: 'c:\\\\Users\\\\allie\\\\Documents\\\\GitHub\\\\policy-classifier/policy_scraping/policy_scraping/outputs/forestry/full\\\\3298d4d9318d1dba58fca6a03fb4f084e5ee23a7.pdf'\n",
      "Could not read a6ffd9f252c4b973a5f247b807ccb9ae06ea592c due to [WinError 2] The system cannot find the file specified: 'c:\\\\Users\\\\allie\\\\Documents\\\\GitHub\\\\policy-classifier/policy_scraping/policy_scraping/outputs/forestry/full\\\\a6ffd9f252c4b973a5f247b807ccb9ae06ea592c.pdf'\n",
      "Could not read 165434081592a52fdcbfbd25b289167f18510ead due to [WinError 2] The system cannot find the file specified: 'c:\\\\Users\\\\allie\\\\Documents\\\\GitHub\\\\policy-classifier/policy_scraping/policy_scraping/outputs/forestry/full\\\\165434081592a52fdcbfbd25b289167f18510ead.pdf'\n",
      "Could not read 6d240c5d8ae1c6d9c97aa7573604106710cd22d3 due to [WinError 2] The system cannot find the file specified: 'c:\\\\Users\\\\allie\\\\Documents\\\\GitHub\\\\policy-classifier/policy_scraping/policy_scraping/outputs/forestry/full\\\\6d240c5d8ae1c6d9c97aa7573604106710cd22d3.pdf'\n",
      "Could not read 8165d5880a6d5c2061958953caaa9858d9cbe6f5 due to [WinError 2] The system cannot find the file specified: 'c:\\\\Users\\\\allie\\\\Documents\\\\GitHub\\\\policy-classifier/policy_scraping/policy_scraping/outputs/forestry/full\\\\8165d5880a6d5c2061958953caaa9858d9cbe6f5.pdf'\n",
      "Could not read c7e10054e8036b71970e4773504fb0c91e59b7a0 due to [WinError 2] The system cannot find the file specified: 'c:\\\\Users\\\\allie\\\\Documents\\\\GitHub\\\\policy-classifier/policy_scraping/policy_scraping/outputs/forestry/full\\\\c7e10054e8036b71970e4773504fb0c91e59b7a0.pdf'\n",
      "Could not read 322b959f91c817def6d7735dea4f615a7a11cac5 due to [WinError 2] The system cannot find the file specified: 'c:\\\\Users\\\\allie\\\\Documents\\\\GitHub\\\\policy-classifier/policy_scraping/policy_scraping/outputs/forestry/full\\\\322b959f91c817def6d7735dea4f615a7a11cac5.pdf'\n",
      "Could not read bf00b2188c455415e77bcff46d403137d89c18aa due to [WinError 2] The system cannot find the file specified: 'c:\\\\Users\\\\allie\\\\Documents\\\\GitHub\\\\policy-classifier/policy_scraping/policy_scraping/outputs/forestry/full\\\\bf00b2188c455415e77bcff46d403137d89c18aa.pdf'\n"
     ]
    },
    {
     "name": "stderr",
     "output_type": "stream",
     "text": [
      " 15%|█▌        | 43/284 [00:56<02:52,  1.40it/s]"
     ]
    },
    {
     "name": "stdout",
     "output_type": "stream",
     "text": [
      "Could not read cde487733ecd498d0beb51689dc5a7b332863000 due to [WinError 2] The system cannot find the file specified: 'c:\\\\Users\\\\allie\\\\Documents\\\\GitHub\\\\policy-classifier/policy_scraping/policy_scraping/outputs/forestry/full\\\\cde487733ecd498d0beb51689dc5a7b332863000.pdf'\n",
      "Could not read a0907bbf1d4c6d457c04855ecd794fc0f8e71982 due to [WinError 2] The system cannot find the file specified: 'c:\\\\Users\\\\allie\\\\Documents\\\\GitHub\\\\policy-classifier/policy_scraping/policy_scraping/outputs/forestry/full\\\\a0907bbf1d4c6d457c04855ecd794fc0f8e71982.pdf'\n",
      "Could not read 1aa6b403beac7649b27e104695ea12d688437009 due to [WinError 2] The system cannot find the file specified: 'c:\\\\Users\\\\allie\\\\Documents\\\\GitHub\\\\policy-classifier/policy_scraping/policy_scraping/outputs/forestry/full\\\\1aa6b403beac7649b27e104695ea12d688437009.pdf'\n"
     ]
    },
    {
     "name": "stderr",
     "output_type": "stream",
     "text": [
      " 17%|█▋        | 49/284 [01:00<02:52,  1.36it/s]"
     ]
    },
    {
     "name": "stdout",
     "output_type": "stream",
     "text": [
      "Could not read c665c1e6c09bf48fdc752dca421c70d8d8d61088 due to [WinError 2] The system cannot find the file specified: 'c:\\\\Users\\\\allie\\\\Documents\\\\GitHub\\\\policy-classifier/policy_scraping/policy_scraping/outputs/forestry/full\\\\c665c1e6c09bf48fdc752dca421c70d8d8d61088.pdf'\n",
      "Could not read d81e4c6845d94b82942ecf32b6bd877b23543916 due to [WinError 2] The system cannot find the file specified: 'c:\\\\Users\\\\allie\\\\Documents\\\\GitHub\\\\policy-classifier/policy_scraping/policy_scraping/outputs/forestry/full\\\\d81e4c6845d94b82942ecf32b6bd877b23543916.pdf'\n"
     ]
    },
    {
     "name": "stderr",
     "output_type": "stream",
     "text": [
      " 20%|██        | 58/284 [01:04<01:44,  2.17it/s]"
     ]
    },
    {
     "name": "stdout",
     "output_type": "stream",
     "text": [
      "Could not read b15b9e7c7cef257fdadb19c860c8f90fbcf486f9 due to [WinError 2] The system cannot find the file specified: 'c:\\\\Users\\\\allie\\\\Documents\\\\GitHub\\\\policy-classifier/policy_scraping/policy_scraping/outputs/forestry/full\\\\b15b9e7c7cef257fdadb19c860c8f90fbcf486f9.pdf'\n",
      "Could not read eb10c400311c6edaa299763a290e742a261f7671 due to PyCryptodome is required for AES algorithm\n",
      "Could not read 5d043c94be7ac309e00175ed1228e4cf31b59334 due to PyCryptodome is required for AES algorithm\n",
      "Could not read 33120105aa142c885afe85a8b1fee7dfc4c97b32 due to PyCryptodome is required for AES algorithm\n",
      "Could not read 7ba4749e076cd2d74d5928777773acddcc50a247 due to PyCryptodome is required for AES algorithm\n",
      "Could not read 41e13da2a5f90f061f83da6d0a65955ef632707d due to [WinError 2] The system cannot find the file specified: 'c:\\\\Users\\\\allie\\\\Documents\\\\GitHub\\\\policy-classifier/policy_scraping/policy_scraping/outputs/forestry/full\\\\41e13da2a5f90f061f83da6d0a65955ef632707d.pdf'\n",
      "Could not read 57e3209be2e8a1923c7acb88e3564d4db9da058f due to [WinError 2] The system cannot find the file specified: 'c:\\\\Users\\\\allie\\\\Documents\\\\GitHub\\\\policy-classifier/policy_scraping/policy_scraping/outputs/forestry/full\\\\57e3209be2e8a1923c7acb88e3564d4db9da058f.pdf'\n",
      "Could not read ccca81a1426ab483dc658571aa8f7a145dbbfd31 due to PyCryptodome is required for AES algorithm\n"
     ]
    },
    {
     "name": "stderr",
     "output_type": "stream",
     "text": [
      " 24%|██▎       | 67/284 [01:32<10:57,  3.03s/it]"
     ]
    },
    {
     "name": "stdout",
     "output_type": "stream",
     "text": [
      "Could not read f1d82007acead44c33729cfd6b3a9f9332685d96 due to [WinError 2] The system cannot find the file specified: 'c:\\\\Users\\\\allie\\\\Documents\\\\GitHub\\\\policy-classifier/policy_scraping/policy_scraping/outputs/forestry/full\\\\f1d82007acead44c33729cfd6b3a9f9332685d96.pdf'\n",
      "Could not read 19077f96541a3a2f2d12d67c13890479f0792174 due to [WinError 2] The system cannot find the file specified: 'c:\\\\Users\\\\allie\\\\Documents\\\\GitHub\\\\policy-classifier/policy_scraping/policy_scraping/outputs/forestry/full\\\\19077f96541a3a2f2d12d67c13890479f0792174.pdf'\n",
      "Could not read ae7d937bdbb6e6044ed20a368f37bb2c76d2317f due to [WinError 2] The system cannot find the file specified: 'c:\\\\Users\\\\allie\\\\Documents\\\\GitHub\\\\policy-classifier/policy_scraping/policy_scraping/outputs/forestry/full\\\\ae7d937bdbb6e6044ed20a368f37bb2c76d2317f.pdf'\n",
      "Could not read e96d20dbe2a7fcf0d744a57d083bf8ce7484c5c1 due to [WinError 2] The system cannot find the file specified: 'c:\\\\Users\\\\allie\\\\Documents\\\\GitHub\\\\policy-classifier/policy_scraping/policy_scraping/outputs/forestry/full\\\\e96d20dbe2a7fcf0d744a57d083bf8ce7484c5c1.pdf'\n",
      "Could not read 5091115075954b41869bd328c8f1a0e1b1f7ef8d due to [WinError 2] The system cannot find the file specified: 'c:\\\\Users\\\\allie\\\\Documents\\\\GitHub\\\\policy-classifier/policy_scraping/policy_scraping/outputs/forestry/full\\\\5091115075954b41869bd328c8f1a0e1b1f7ef8d.pdf'\n",
      "Could not read 0bf5e85714fe3a21f3b17e129ffd7ba955be0287 due to [WinError 2] The system cannot find the file specified: 'c:\\\\Users\\\\allie\\\\Documents\\\\GitHub\\\\policy-classifier/policy_scraping/policy_scraping/outputs/forestry/full\\\\0bf5e85714fe3a21f3b17e129ffd7ba955be0287.pdf'\n"
     ]
    },
    {
     "name": "stderr",
     "output_type": "stream",
     "text": [
      " 31%|███       | 87/284 [01:40<01:42,  1.91it/s]"
     ]
    },
    {
     "name": "stdout",
     "output_type": "stream",
     "text": [
      "Could not read a516fb449bdb6e8e2b65b4d7a7790b9b5d53d153 due to [WinError 2] The system cannot find the file specified: 'c:\\\\Users\\\\allie\\\\Documents\\\\GitHub\\\\policy-classifier/policy_scraping/policy_scraping/outputs/forestry/full\\\\a516fb449bdb6e8e2b65b4d7a7790b9b5d53d153.pdf'\n",
      "Could not read 47e2a82327a05847a6fa92f501e5fbd3f867d155 due to [WinError 2] The system cannot find the file specified: 'c:\\\\Users\\\\allie\\\\Documents\\\\GitHub\\\\policy-classifier/policy_scraping/policy_scraping/outputs/forestry/full\\\\47e2a82327a05847a6fa92f501e5fbd3f867d155.pdf'\n",
      "Could not read 8586ed4d8876e5797e74f25384e2090551fd7bbb due to [WinError 2] The system cannot find the file specified: 'c:\\\\Users\\\\allie\\\\Documents\\\\GitHub\\\\policy-classifier/policy_scraping/policy_scraping/outputs/forestry/full\\\\8586ed4d8876e5797e74f25384e2090551fd7bbb.pdf'\n",
      "Could not read 573b10175e70242f1e172773a92fe6d3ac897f6b due to [WinError 2] The system cannot find the file specified: 'c:\\\\Users\\\\allie\\\\Documents\\\\GitHub\\\\policy-classifier/policy_scraping/policy_scraping/outputs/forestry/full\\\\573b10175e70242f1e172773a92fe6d3ac897f6b.pdf'\n",
      "Could not read 4e1b34e6da798293720376e5916c7c4d826a4990 due to [WinError 2] The system cannot find the file specified: 'c:\\\\Users\\\\allie\\\\Documents\\\\GitHub\\\\policy-classifier/policy_scraping/policy_scraping/outputs/forestry/full\\\\4e1b34e6da798293720376e5916c7c4d826a4990.pdf'\n",
      "Could not read 4de30371650a0b19547055f26a523727c245c424 due to [WinError 2] The system cannot find the file specified: 'c:\\\\Users\\\\allie\\\\Documents\\\\GitHub\\\\policy-classifier/policy_scraping/policy_scraping/outputs/forestry/full\\\\4de30371650a0b19547055f26a523727c245c424.pdf'\n",
      "Could not read 0f3d21e231638acd10155b6970f81ac950795e8b due to [WinError 2] The system cannot find the file specified: 'c:\\\\Users\\\\allie\\\\Documents\\\\GitHub\\\\policy-classifier/policy_scraping/policy_scraping/outputs/forestry/full\\\\0f3d21e231638acd10155b6970f81ac950795e8b.pdf'\n",
      "Could not read a914308fc6120f621a695fe98abdd2be5b8be0d3 due to [WinError 2] The system cannot find the file specified: 'c:\\\\Users\\\\allie\\\\Documents\\\\GitHub\\\\policy-classifier/policy_scraping/policy_scraping/outputs/forestry/full\\\\a914308fc6120f621a695fe98abdd2be5b8be0d3.pdf'\n"
     ]
    },
    {
     "name": "stderr",
     "output_type": "stream",
     "text": [
      " 35%|███▍      | 99/284 [01:41<00:37,  4.90it/s]"
     ]
    },
    {
     "name": "stdout",
     "output_type": "stream",
     "text": [
      "Could not read 9ee26891e2dd6cbd3fe516ad11c9744b9d2b7856 due to [WinError 2] The system cannot find the file specified: 'c:\\\\Users\\\\allie\\\\Documents\\\\GitHub\\\\policy-classifier/policy_scraping/policy_scraping/outputs/forestry/full\\\\9ee26891e2dd6cbd3fe516ad11c9744b9d2b7856.pdf'\n"
     ]
    },
    {
     "name": "stderr",
     "output_type": "stream",
     "text": [
      " 36%|███▋      | 103/284 [01:41<00:25,  7.08it/s]"
     ]
    },
    {
     "name": "stdout",
     "output_type": "stream",
     "text": [
      "Could not read 85c33e8edf43017cbaa37460c7f54b6c60365aa0 due to [WinError 2] The system cannot find the file specified: 'c:\\\\Users\\\\allie\\\\Documents\\\\GitHub\\\\policy-classifier/policy_scraping/policy_scraping/outputs/forestry/full\\\\85c33e8edf43017cbaa37460c7f54b6c60365aa0.pdf'\n",
      "Could not read a6cd17b7f2214d417247dc89d5373c2d265702bd due to [WinError 2] The system cannot find the file specified: 'c:\\\\Users\\\\allie\\\\Documents\\\\GitHub\\\\policy-classifier/policy_scraping/policy_scraping/outputs/forestry/full\\\\a6cd17b7f2214d417247dc89d5373c2d265702bd.pdf'\n"
     ]
    },
    {
     "name": "stderr",
     "output_type": "stream",
     "text": [
      " 37%|███▋      | 105/284 [01:42<00:23,  7.52it/s]"
     ]
    },
    {
     "name": "stdout",
     "output_type": "stream",
     "text": [
      "Could not read b2f1f208d4225b1c0d8994494e792bc0dee1ed01 due to [WinError 2] The system cannot find the file specified: 'c:\\\\Users\\\\allie\\\\Documents\\\\GitHub\\\\policy-classifier/policy_scraping/policy_scraping/outputs/forestry/full\\\\b2f1f208d4225b1c0d8994494e792bc0dee1ed01.pdf'\n",
      "Could not read a110a402d57ea4dacf0d404bfb1c9a18ad1158b1 due to [WinError 2] The system cannot find the file specified: 'c:\\\\Users\\\\allie\\\\Documents\\\\GitHub\\\\policy-classifier/policy_scraping/policy_scraping/outputs/forestry/full\\\\a110a402d57ea4dacf0d404bfb1c9a18ad1158b1.pdf'\n"
     ]
    },
    {
     "name": "stderr",
     "output_type": "stream",
     "text": [
      " 38%|███▊      | 108/284 [01:44<01:10,  2.51it/s]"
     ]
    },
    {
     "name": "stdout",
     "output_type": "stream",
     "text": [
      "Could not read 4beb5191d20d2caf5bd27497ab25543eed2be47a due to [WinError 2] The system cannot find the file specified: 'c:\\\\Users\\\\allie\\\\Documents\\\\GitHub\\\\policy-classifier/policy_scraping/policy_scraping/outputs/forestry/full\\\\4beb5191d20d2caf5bd27497ab25543eed2be47a.pdf'\n",
      "Could not read c420303e4e7be52d136fbd4dc6ae5a245acab219 due to [WinError 2] The system cannot find the file specified: 'c:\\\\Users\\\\allie\\\\Documents\\\\GitHub\\\\policy-classifier/policy_scraping/policy_scraping/outputs/forestry/full\\\\c420303e4e7be52d136fbd4dc6ae5a245acab219.pdf'\n",
      "Could not read 3ee5a3bfa84876453110ce5ef88ecc6cd2cd6716 due to [WinError 2] The system cannot find the file specified: 'c:\\\\Users\\\\allie\\\\Documents\\\\GitHub\\\\policy-classifier/policy_scraping/policy_scraping/outputs/forestry/full\\\\3ee5a3bfa84876453110ce5ef88ecc6cd2cd6716.pdf'\n",
      "Could not read d17cd77b64c40b8c4c8a8d76ed4a55c0111a3578 due to [WinError 2] The system cannot find the file specified: 'c:\\\\Users\\\\allie\\\\Documents\\\\GitHub\\\\policy-classifier/policy_scraping/policy_scraping/outputs/forestry/full\\\\d17cd77b64c40b8c4c8a8d76ed4a55c0111a3578.pdf'\n",
      "Could not read 025eb9605a3628b7e7df647208a20e7db81945aa due to [WinError 2] The system cannot find the file specified: 'c:\\\\Users\\\\allie\\\\Documents\\\\GitHub\\\\policy-classifier/policy_scraping/policy_scraping/outputs/forestry/full\\\\025eb9605a3628b7e7df647208a20e7db81945aa.pdf'\n",
      "Could not read 42db0730edad610d122d5ff33e542d3d2c0cb84c due to [WinError 2] The system cannot find the file specified: 'c:\\\\Users\\\\allie\\\\Documents\\\\GitHub\\\\policy-classifier/policy_scraping/policy_scraping/outputs/forestry/full\\\\42db0730edad610d122d5ff33e542d3d2c0cb84c.pdf'\n",
      "Could not read 9e368a0c992ee0e44e19d527ef2bbb835e47ba05 due to [WinError 2] The system cannot find the file specified: 'c:\\\\Users\\\\allie\\\\Documents\\\\GitHub\\\\policy-classifier/policy_scraping/policy_scraping/outputs/forestry/full\\\\9e368a0c992ee0e44e19d527ef2bbb835e47ba05.pdf'\n"
     ]
    },
    {
     "name": "stderr",
     "output_type": "stream",
     "text": [
      " 41%|████      | 116/284 [01:47<00:59,  2.81it/s]"
     ]
    },
    {
     "name": "stdout",
     "output_type": "stream",
     "text": [
      "Could not read 8d82b52a476beba35ac7dc25f523da19adf8faff due to [WinError 2] The system cannot find the file specified: 'c:\\\\Users\\\\allie\\\\Documents\\\\GitHub\\\\policy-classifier/policy_scraping/policy_scraping/outputs/forestry/full\\\\8d82b52a476beba35ac7dc25f523da19adf8faff.pdf'\n",
      "Could not read 378f965034293cee18353a38a9b808dac4343eba due to [WinError 2] The system cannot find the file specified: 'c:\\\\Users\\\\allie\\\\Documents\\\\GitHub\\\\policy-classifier/policy_scraping/policy_scraping/outputs/forestry/full\\\\378f965034293cee18353a38a9b808dac4343eba.pdf'\n",
      "Could not read e2042134b5c94bfaa92b33c62cac4223db2777e1 due to [WinError 2] The system cannot find the file specified: 'c:\\\\Users\\\\allie\\\\Documents\\\\GitHub\\\\policy-classifier/policy_scraping/policy_scraping/outputs/forestry/full\\\\e2042134b5c94bfaa92b33c62cac4223db2777e1.pdf'\n"
     ]
    },
    {
     "name": "stderr",
     "output_type": "stream",
     "text": [
      " 43%|████▎     | 121/284 [01:53<01:50,  1.47it/s]"
     ]
    },
    {
     "name": "stdout",
     "output_type": "stream",
     "text": [
      "Could not read 3e8df49d7035e23c2f4d3682bde7231804acd0cd due to [WinError 2] The system cannot find the file specified: 'c:\\\\Users\\\\allie\\\\Documents\\\\GitHub\\\\policy-classifier/policy_scraping/policy_scraping/outputs/forestry/full\\\\3e8df49d7035e23c2f4d3682bde7231804acd0cd.pdf'\n",
      "Could not read 0132b74c91d753ed7174bda57e1d00e398c6d18d due to [WinError 2] The system cannot find the file specified: 'c:\\\\Users\\\\allie\\\\Documents\\\\GitHub\\\\policy-classifier/policy_scraping/policy_scraping/outputs/forestry/full\\\\0132b74c91d753ed7174bda57e1d00e398c6d18d.pdf'\n",
      "Could not read 8bd09653bfa7643f8d0e5e8902ecadfbb4b24e69 due to [WinError 2] The system cannot find the file specified: 'c:\\\\Users\\\\allie\\\\Documents\\\\GitHub\\\\policy-classifier/policy_scraping/policy_scraping/outputs/forestry/full\\\\8bd09653bfa7643f8d0e5e8902ecadfbb4b24e69.pdf'\n"
     ]
    },
    {
     "name": "stderr",
     "output_type": "stream",
     "text": [
      " 47%|████▋     | 134/284 [01:56<00:54,  2.76it/s]"
     ]
    },
    {
     "name": "stdout",
     "output_type": "stream",
     "text": [
      "Could not read 2c46f6ef32b5c0b8c9cc64d50694eb66ade4ef6e due to [WinError 2] The system cannot find the file specified: 'c:\\\\Users\\\\allie\\\\Documents\\\\GitHub\\\\policy-classifier/policy_scraping/policy_scraping/outputs/forestry/full\\\\2c46f6ef32b5c0b8c9cc64d50694eb66ade4ef6e.pdf'\n"
     ]
    },
    {
     "name": "stderr",
     "output_type": "stream",
     "text": [
      " 48%|████▊     | 137/284 [02:01<03:17,  1.34s/it]"
     ]
    },
    {
     "name": "stdout",
     "output_type": "stream",
     "text": [
      "Could not read 20cdd6f09632f3bd019dcdcd21ce9a85927bc994 due to [WinError 2] The system cannot find the file specified: 'c:\\\\Users\\\\allie\\\\Documents\\\\GitHub\\\\policy-classifier/policy_scraping/policy_scraping/outputs/forestry/full\\\\20cdd6f09632f3bd019dcdcd21ce9a85927bc994.pdf'\n"
     ]
    },
    {
     "name": "stderr",
     "output_type": "stream",
     "text": [
      " 50%|████▉     | 141/284 [02:05<03:02,  1.28s/it]"
     ]
    },
    {
     "name": "stdout",
     "output_type": "stream",
     "text": [
      "Could not read 9c124cd6169d6c6fdfe06cf9f866a7a29a2cf624 due to [WinError 2] The system cannot find the file specified: 'c:\\\\Users\\\\allie\\\\Documents\\\\GitHub\\\\policy-classifier/policy_scraping/policy_scraping/outputs/forestry/full\\\\9c124cd6169d6c6fdfe06cf9f866a7a29a2cf624.pdf'\n",
      "Could not read 852fbe5b99edfbe2f5561f03804102386a4601e1 due to [WinError 2] The system cannot find the file specified: 'c:\\\\Users\\\\allie\\\\Documents\\\\GitHub\\\\policy-classifier/policy_scraping/policy_scraping/outputs/forestry/full\\\\852fbe5b99edfbe2f5561f03804102386a4601e1.pdf'\n",
      "Could not read 8ed11d0a4532c81a51c0e3fd9e5ed70e4b60f805 due to [WinError 2] The system cannot find the file specified: 'c:\\\\Users\\\\allie\\\\Documents\\\\GitHub\\\\policy-classifier/policy_scraping/policy_scraping/outputs/forestry/full\\\\8ed11d0a4532c81a51c0e3fd9e5ed70e4b60f805.pdf'\n",
      "Could not read 644fd64dcf35bbb7791c7cec61d0f4a799eee1f3 due to [WinError 2] The system cannot find the file specified: 'c:\\\\Users\\\\allie\\\\Documents\\\\GitHub\\\\policy-classifier/policy_scraping/policy_scraping/outputs/forestry/full\\\\644fd64dcf35bbb7791c7cec61d0f4a799eee1f3.pdf'\n",
      "Could not read ae875992de9812365a7efa9775f1784d74618a5a due to [WinError 2] The system cannot find the file specified: 'c:\\\\Users\\\\allie\\\\Documents\\\\GitHub\\\\policy-classifier/policy_scraping/policy_scraping/outputs/forestry/full\\\\ae875992de9812365a7efa9775f1784d74618a5a.pdf'\n",
      "Could not read 1d53a4c6f14d2e112ebae16783e379b48aa007de due to [WinError 2] The system cannot find the file specified: 'c:\\\\Users\\\\allie\\\\Documents\\\\GitHub\\\\policy-classifier/policy_scraping/policy_scraping/outputs/forestry/full\\\\1d53a4c6f14d2e112ebae16783e379b48aa007de.pdf'\n",
      "Could not read 5c4351be33bd4c9b8d4e1af1b20cde8c8b6a82fa due to [WinError 2] The system cannot find the file specified: 'c:\\\\Users\\\\allie\\\\Documents\\\\GitHub\\\\policy-classifier/policy_scraping/policy_scraping/outputs/forestry/full\\\\5c4351be33bd4c9b8d4e1af1b20cde8c8b6a82fa.pdf'\n",
      "Could not read e602aa32daf406a259b15a06b5745dc9016acc53 due to [WinError 2] The system cannot find the file specified: 'c:\\\\Users\\\\allie\\\\Documents\\\\GitHub\\\\policy-classifier/policy_scraping/policy_scraping/outputs/forestry/full\\\\e602aa32daf406a259b15a06b5745dc9016acc53.pdf'\n",
      "Could not read 450478dafeea8c6db3ff69209dfd9e4da54d6914 due to [WinError 2] The system cannot find the file specified: 'c:\\\\Users\\\\allie\\\\Documents\\\\GitHub\\\\policy-classifier/policy_scraping/policy_scraping/outputs/forestry/full\\\\450478dafeea8c6db3ff69209dfd9e4da54d6914.pdf'\n"
     ]
    },
    {
     "name": "stderr",
     "output_type": "stream",
     "text": [
      " 54%|█████▍    | 153/284 [02:08<01:10,  1.87it/s]"
     ]
    },
    {
     "name": "stdout",
     "output_type": "stream",
     "text": [
      "Could not read 7f0879a8fcaf836d69132ef7c35a65056ee9bf91 due to [WinError 2] The system cannot find the file specified: 'c:\\\\Users\\\\allie\\\\Documents\\\\GitHub\\\\policy-classifier/policy_scraping/policy_scraping/outputs/forestry/full\\\\7f0879a8fcaf836d69132ef7c35a65056ee9bf91.pdf'\n"
     ]
    },
    {
     "name": "stderr",
     "output_type": "stream",
     "text": [
      " 55%|█████▍    | 155/284 [02:10<01:21,  1.58it/s]"
     ]
    },
    {
     "name": "stdout",
     "output_type": "stream",
     "text": [
      "Could not read 7129d4c3bd129ef598e53f261ed549eaeb58b247 due to [WinError 2] The system cannot find the file specified: 'c:\\\\Users\\\\allie\\\\Documents\\\\GitHub\\\\policy-classifier/policy_scraping/policy_scraping/outputs/forestry/full\\\\7129d4c3bd129ef598e53f261ed549eaeb58b247.pdf'\n"
     ]
    },
    {
     "name": "stderr",
     "output_type": "stream",
     "text": [
      "unknown widths : \n",
      "[0, IndirectObject(1289, 0, 2848508303824), 7, 8, 661, 9, IndirectObject(1291, 0, 2848508303824), 11, 12, 575, 13, IndirectObject(1306, 0, 2848508303824), 17, 18, 296, 19, IndirectObject(1307, 0, 2848508303824), 25, 26, 770, 27, 28, 808, 29, IndirectObject(1310, 0, 2848508303824), 34, 35, 548, 36, IndirectObject(1308, 0, 2848508303824), 38, 39, 742, 40, IndirectObject(1318, 0, 2848508303824), 45, 46, 507, 47, IndirectObject(1305, 0, 2848508303824), 55, 56, 567, 57, IndirectObject(1313, 0, 2848508303824), 59, 60, 534, 61, IndirectObject(1300, 0, 2848508303824), 67, 75, 600, 76, 84, 924, 85, IndirectObject(1301, 0, 2848508303824), 95, 97, 564, 98, 99, 254, 100, IndirectObject(1312, 0, 2848508303824), 104, 105, 534, 106, IndirectObject(1311, 0, 2848508303824), 109, 110, 564, 111, 112, 574, 113, IndirectObject(1296, 0, 2848508303824), 114, 115, 568, 116, IndirectObject(1317, 0, 2848508303824), 118, 119, 439, 120, IndirectObject(1298, 0, 2848508303824), 127, 128, 644, 129, IndirectObject(1315, 0, 2848508303824), 131, 132, 965, 133, 134, 564, 135, IndirectObject(1299, 0, 2848508303824), 151, 152, 156, 153, IndirectObject(1302, 0, 2848508303824), 157, 158, 314, 159, IndirectObject(1314, 0, 2848508303824), 169, 176, 400, 177, IndirectObject(1316, 0, 2848508303824), 178, 197, 400, 198, IndirectObject(1309, 0, 2848508303824), 211, 212, 559, 213, IndirectObject(1319, 0, 2848508303824), 230, 231, 773, 232, IndirectObject(1292, 0, 2848508303824), 235, 236, 400, 237, 238, 225, 239, IndirectObject(1293, 0, 2848508303824), 240, 241, 541, 242, IndirectObject(1294, 0, 2848508303824), 263, 264, 668, 265, IndirectObject(1295, 0, 2848508303824), 273, 274, 420, 275, IndirectObject(1303, 0, 2848508303824), 298, 299, 487, 300, IndirectObject(1297, 0, 2848508303824), 304, 305, 400, 306, IndirectObject(1304, 0, 2848508303824), 314, 315, 220, 316, 317, 386, 318, IndirectObject(1335, 0, 2848508303824), 322, 323, 455, 324, IndirectObject(1336, 0, 2848508303824), 333, 335, 274, 336, 337, 313, 338, 339, 306, 340, IndirectObject(1339, 0, 2848508303824), 341, 342, 580, 343, IndirectObject(1337, 0, 2848508303824), 345, 346, 580, 347, IndirectObject(1350, 0, 2848508303824), 351, 353, 824, 354, 355, 756, 356, IndirectObject(1334, 0, 2848508303824), 357, 358, 580, 359, IndirectObject(1344, 0, 2848508303824), 360, 363, 580, 364, IndirectObject(1328, 0, 2848508303824), 378, 387, 540, 388, IndirectObject(1329, 0, 2848508303824), 396, 403, 580, 404, 416, 334, 417, 418, 167, 419, 428, 334, 429, IndirectObject(1342, 0, 2848508303824), 432, 444, 580, 445, IndirectObject(1341, 0, 2848508303824), 456, 461, 750, 463, IndirectObject(1324, 0, 2848508303824), 464, 482, 400, 483, IndirectObject(1349, 0, 2848508303824), 488, 489, 662, 490, IndirectObject(1326, 0, 2848508303824), 503, 507, 400, 508, IndirectObject(1347, 0, 2848508303824), 510, 512, 1117, 513, IndirectObject(1327, 0, 2848508303824), 559, 560, 566, 561, IndirectObject(1330, 0, 2848508303824), 591, 592, 889, 593, IndirectObject(1343, 0, 2848508303824), 609, 613, 600, 614, 618, 924, 619, IndirectObject(1345, 0, 2848508303824), 622, 624, 567, 625, IndirectObject(1338, 0, 2848508303824), 627, 628, 567, 629, 630, 534, 631, IndirectObject(1348, 0, 2848508303824), 639, 641, 564, 642, IndirectObject(1320, 0, 2848508303824), 648, 649, 564, 650, IndirectObject(1340, 0, 2848508303824), 654, 658, 373, 659, 660, 332, 661, 662, 493, 663, IndirectObject(1346, 0, 2848508303824), 664, 665, 245, 666, IndirectObject(1351, 0, 2848508303824), 680, 681, 368, 682, IndirectObject(1321, 0, 2848508303824), 701, 702, 564, 703, IndirectObject(1331, 0, 2848508303824), 723, 724, 591, 725, IndirectObject(1322, 0, 2848508303824), 726, 727, 493, 728, IndirectObject(1323, 0, 2848508303824), 749, 750, 314, 751, IndirectObject(1325, 0, 2848508303824), 776, 777, 309, 778, IndirectObject(1332, 0, 2848508303824), 814, 815, 313, 816, IndirectObject(1333, 0, 2848508303824), 838, 839, 200, 840, 841, 279, 842, 843, 490, 844, IndirectObject(1359, 0, 2848508303824), 845, 846, 373, 847, 850, 396, 851, IndirectObject(1357, 0, 2848508303824), 853, 857, 375, 858, 859, 500, 860, IndirectObject(1365, 0, 2848508303824), 905, 906, 866, 907, IndirectObject(1376, 0, 2848508303824), 951, 952, 662, 953, IndirectObject(1370, 0, 2848508303824), 978, 979, 580, 980, IndirectObject(1382, 0, 2848508303824), 1000, 1001, 413, 1002, 1007, 750, 1008, IndirectObject(1371, 0, 2848508303824), 1045, 1047, 400, 1048, IndirectObject(1366, 0, 2848508303824), 1049, 1069, 1118, 1070, IndirectObject(1367, 0, 2848508303824), 1071, 1072, 580, 1073, IndirectObject(1368, 0, 2848508303824), 1075, 1077, 334, 1078, IndirectObject(1369, 0, 2848508303824), 1087, 1088, 304, 1089, 1090, 469, 1091, IndirectObject(1380, 0, 2848508303824), 1092, 1093, 580, 1094, IndirectObject(1364, 0, 2848508303824), 1096, 1097, 285, 1098, 1099, 328, 1100, 1101, 317, 1102, IndirectObject(1372, 0, 2848508303824), 1115, 1121, 540, 1122, IndirectObject(1377, 0, 2848508303824), 1130, 1142, 540, 1143, 1146, 334, 1147, 1148, 167, 1149, 1158, 334, 1159, 1160, 167, 1161, 1170, 334, 1171, 1172, 167, 1173, IndirectObject(1358, 0, 2848508303824), 1174, 1175, 167, 1176, IndirectObject(1379, 0, 2848508303824), 1177, 1189, 334, 1190, 1191, 167, 1192, 1211, 334, 1212, 1213, 167, 1214, IndirectObject(1352, 0, 2848508303824), 1217, 1218, 780, 1219, IndirectObject(1373, 0, 2848508303824), 1220, 1221, 0, 1222, IndirectObject(1381, 0, 2848508303824), 1240, 1242, 0, 1243, IndirectObject(1374, 0, 2848508303824), 1248, 1262, 400, 1263, IndirectObject(1375, 0, 2848508303824), 1281, 1282, 0, 1283, IndirectObject(1361, 0, 2848508303824), 1287, 1307, 1118, 1308, IndirectObject(1378, 0, 2848508303824), 1309, 1310, 418, 1311, IndirectObject(1362, 0, 2848508303824), 1313, 1317, 0, 1318, 1332, 400, 1333, IndirectObject(1383, 0, 2848508303824), 1334, 1337, 396, 1338, IndirectObject(1353, 0, 2848508303824), 1339, 1342, 396, 1343, 1344, 625, 1345, IndirectObject(1354, 0, 2848508303824), 1346, 1348, 400, 1349, IndirectObject(1363, 0, 2848508303824), 1350, 1351, 686, 1352, IndirectObject(1355, 0, 2848508303824), 1355, 1356, 400, 1357, IndirectObject(1356, 0, 2848508303824), 1366, 1367, 707, 1368, IndirectObject(1360, 0, 2848508303824), 1384, 1386, 400, 1387, IndirectObject(1384, 0, 2848508303824), 1391, 1392, 567, 1393, IndirectObject(1396, 0, 2848508303824), 1405, 1406, 482, 1407, IndirectObject(1401, 0, 2848508303824), 1411, 1412, 200, 1413, IndirectObject(1397, 0, 2848508303824), 1429, 1430, 0, 1431, 1436, 400, 1437, IndirectObject(1402, 0, 2848508303824), 1443, 1486, 0, 1487, 1489, 400, 1490, 1492, 0, 1493, IndirectObject(1407, 0, 2848508303824), 1494, 1521, 0, 1522, 1532, 694, 1533, IndirectObject(1408, 0, 2848508303824), 1534, 1551, 694, 1552, IndirectObject(1387, 0, 2848508303824), 1553, 1573, 694, 1574, 1575, 691, 1576, IndirectObject(1404, 0, 2848508303824), 1577, 1578, 933, 1579, IndirectObject(1415, 0, 2848508303824), 1580, 1581, 658, 1582, IndirectObject(1391, 0, 2848508303824), 1583, 1585, 658, 1586, 1590, 661, 1591, IndirectObject(1388, 0, 2848508303824), 1594, 1598, 760, 1599, IndirectObject(1393, 0, 2848508303824), 1601, 1602, 770, 1603, 1611, 575, 1612, IndirectObject(1392, 0, 2848508303824), 1613, 1626, 575, 1627, IndirectObject(1400, 0, 2848508303824), 1628, 1638, 575, 1639, IndirectObject(1409, 0, 2848508303824), 1640, 1641, 575, 1642, IndirectObject(1411, 0, 2848508303824), 1643, 1649, 726, 1650, 1651, 770, 1652, IndirectObject(1403, 0, 2848508303824), 1653, 1666, 770, 1667, IndirectObject(1412, 0, 2848508303824), 1668, 1677, 770, 1678, 1711, 296, 1712, IndirectObject(1405, 0, 2848508303824), 1713, 1714, 429, 1715, IndirectObject(1385, 0, 2848508303824), 1716, 1721, 685, 1722, 1723, 519, 1724, IndirectObject(1413, 0, 2848508303824), 1725, 1728, 519, 1729, IndirectObject(1394, 0, 2848508303824), 1731, 1735, 945, 1736, 1745, 770, 1746, IndirectObject(1406, 0, 2848508303824), 1748, 1756, 808, 1757, IndirectObject(1410, 0, 2848508303824), 1758, 1786, 808, 1787, IndirectObject(1390, 0, 2848508303824), 1788, 1791, 619, 1792, IndirectObject(1386, 0, 2848508303824), 1793, 1794, 619, 1795, IndirectObject(1414, 0, 2848508303824), 1796, 1804, 643, 1805, 1814, 548, 1815, 1819, 600, 1820, IndirectObject(1389, 0, 2848508303824), 1821, 1824, 600, 1825, 1846, 742, 1847, 1848, 694, 1849, 1854, 1051, 1855, 1858, 670, 1859, 1863, 648, 1864, IndirectObject(1395, 0, 2848508303824), 1865, 1870, 648, 1871, 1876, 647, 1877, 1878, 648, 1879, IndirectObject(1398, 0, 2848508303824), 1880, 1886, 605, 1887, 1899, 507, 1900, IndirectObject(1399, 0, 2848508303824), 1901, 1912, 507, 1913, IndirectObject(1419, 0, 2848508303824), 1915, 1919, 507, 1920, 1922, 809, 1923, 1925, 567, 1926, IndirectObject(1421, 0, 2848508303824), 1927, 1931, 482, 1932, IndirectObject(1429, 0, 2848508303824), 1935, 1938, 567, 1939, IndirectObject(1420, 0, 2848508303824), 1942, 1957, 534, 1958, IndirectObject(1418, 0, 2848508303824), 1959, 1960, 534, 1961, IndirectObject(1439, 0, 2848508303824), 1963, 1966, 534, 1967, IndirectObject(1442, 0, 2848508303824), 1968, 1970, 534, 1971, IndirectObject(1436, 0, 2848508303824), 1973, 1974, 600, 1975, IndirectObject(1417, 0, 2848508303824), 1976, 1979, 600, 1980, IndirectObject(1440, 0, 2848508303824), 1981, 1982, 924, 1983, IndirectObject(1447, 0, 2848508303824), 1986, 1987, 924, 1988, IndirectObject(1435, 0, 2848508303824), 1990, 1996, 528, 1997, 2001, 567, 2002, IndirectObject(1428, 0, 2848508303824), 2003, 2005, 567, 2006, 2012, 564, 2013, IndirectObject(1423, 0, 2848508303824), 2014, 2016, 254, 2017, IndirectObject(1422, 0, 2848508303824), 2018, 2027, 254, 2028, IndirectObject(1425, 0, 2848508303824), 2033, 2035, 254, 2036, IndirectObject(1424, 0, 2848508303824), 2040, 2044, 534, 2045, IndirectObject(1432, 0, 2848508303824), 2047, 2048, 248, 2049, IndirectObject(1441, 0, 2848508303824), 2050, 2053, 248, 2054, IndirectObject(1443, 0, 2848508303824), 2056, 2058, 837, 2059, IndirectObject(1434, 0, 2848508303824), 2061, 2069, 564, 2070, IndirectObject(1444, 0, 2848508303824), 2072, 2109, 574, 2110, IndirectObject(1437, 0, 2848508303824), 2111, 2114, 567, 2115, IndirectObject(1416, 0, 2848508303824), 2117, 2119, 373, 2120, IndirectObject(1445, 0, 2848508303824), 2121, 2123, 373, 2124, IndirectObject(1426, 0, 2848508303824), 2125, 2126, 373, 2127, 2136, 439, 2137, IndirectObject(1438, 0, 2848508303824), 2142, 2144, 372, 2145, IndirectObject(1446, 0, 2848508303824), 2146, 2157, 643, 2158, 2159, 671, 2160, 2161, 643, 2162, 2163, 965, 2164, IndirectObject(1427, 0, 2848508303824), 2165, 2167, 965, 2168, IndirectObject(1430, 0, 2848508303824), 2169, 2170, 965, 2171, IndirectObject(1431, 0, 2848508303824), 2174, 2175, 990, 2176, 2177, 965, 2178, 2184, 564, 2185, IndirectObject(1433, 0, 2848508303824), 2186, 2197, 564, 2198, IndirectObject(1459, 0, 2848508303824), 2199, 2200, 564, 2201, 2202, 528, 2203, IndirectObject(1470, 0, 2848508303824), 2204, 2210, 802, 2211, 2213, 522, 2214, IndirectObject(1458, 0, 2848508303824), 2215, 2229, 527, 2230, 2235, 459, 2236, IndirectObject(1460, 0, 2848508303824), 2237, 2238, 285, 2239, IndirectObject(1453, 0, 2848508303824), 2245, 2246, 294, 2247, IndirectObject(1461, 0, 2848508303824), 2253, 2255, 314, 2256, IndirectObject(1454, 0, 2848508303824), 2271, 2289, 815, 2290, 2315, 602, 2316, 2324, 457, 2325, IndirectObject(1462, 0, 2848508303824), 2327, 2349, 593, 2350, 2351, 280, 2352, IndirectObject(1469, 0, 2848508303824), 2354, 2369, 280, 2370, IndirectObject(1468, 0, 2848508303824), 2371, 2372, 569, 2373, 2391, 559, 2392, IndirectObject(1455, 0, 2848508303824), 2394, 2417, 793, 2418, IndirectObject(1463, 0, 2848508303824), 2420, 2421, 1068, 2422, IndirectObject(1451, 0, 2848508303824), 2423, 2426, 770, 2427, IndirectObject(1449, 0, 2848508303824), 2429, 2432, 644, 2433, IndirectObject(1448, 0, 2848508303824), 2439, 2440, 817, 2441, IndirectObject(1456, 0, 2848508303824), 2444, 2448, 583, 2449, IndirectObject(1464, 0, 2848508303824), 2466, 2469, 0, 2470, IndirectObject(1457, 0, 2848508303824), 2472, 2473, 580, 2474, 2477, 860, 2478, IndirectObject(1465, 0, 2848508303824), 2479, 2483, 869, 2484, 2488, 625, 2489, 2493, 656, 2494, 2549, 0, 2550, IndirectObject(1466, 0, 2848508303824), 2551, 2600, 0, 2601, 2602, 591, 2603, IndirectObject(1467, 0, 2848508303824), 2631, 2632, 0, 2633, IndirectObject(1450, 0, 2848508303824), 2634, 2643, 657, 2644, IndirectObject(1471, 0, 2848508303824), 2650, 2656, 0, 2657, IndirectObject(1472, 0, 2848508303824)]\n",
      " 58%|█████▊    | 164/284 [02:14<00:53,  2.25it/s]"
     ]
    },
    {
     "name": "stdout",
     "output_type": "stream",
     "text": [
      "Could not read 0c2de80efd6841cd4cd91b64fe007f0acde21f67 due to [WinError 2] The system cannot find the file specified: 'c:\\\\Users\\\\allie\\\\Documents\\\\GitHub\\\\policy-classifier/policy_scraping/policy_scraping/outputs/forestry/full\\\\0c2de80efd6841cd4cd91b64fe007f0acde21f67.pdf'\n",
      "Could not read ac4dbe87d899e17700c769e336d5fa4c9abb3bd5 due to [WinError 2] The system cannot find the file specified: 'c:\\\\Users\\\\allie\\\\Documents\\\\GitHub\\\\policy-classifier/policy_scraping/policy_scraping/outputs/forestry/full\\\\ac4dbe87d899e17700c769e336d5fa4c9abb3bd5.pdf'\n",
      "Could not read 422dd67485ef989b835adb2506c07593952863cb due to [WinError 2] The system cannot find the file specified: 'c:\\\\Users\\\\allie\\\\Documents\\\\GitHub\\\\policy-classifier/policy_scraping/policy_scraping/outputs/forestry/full\\\\422dd67485ef989b835adb2506c07593952863cb.pdf'\n",
      "Could not read 97d9386aeaa0f22a471b06efa7141e4bbea77955 due to [WinError 2] The system cannot find the file specified: 'c:\\\\Users\\\\allie\\\\Documents\\\\GitHub\\\\policy-classifier/policy_scraping/policy_scraping/outputs/forestry/full\\\\97d9386aeaa0f22a471b06efa7141e4bbea77955.pdf'\n",
      "Could not read eba103050cf08cce96e6a3b82d16e62d59ef2504 due to [WinError 2] The system cannot find the file specified: 'c:\\\\Users\\\\allie\\\\Documents\\\\GitHub\\\\policy-classifier/policy_scraping/policy_scraping/outputs/forestry/full\\\\eba103050cf08cce96e6a3b82d16e62d59ef2504.pdf'\n",
      "Could not read fd96ed4aebaebb910c6f19eb055c19829696a554 due to [WinError 2] The system cannot find the file specified: 'c:\\\\Users\\\\allie\\\\Documents\\\\GitHub\\\\policy-classifier/policy_scraping/policy_scraping/outputs/forestry/full\\\\fd96ed4aebaebb910c6f19eb055c19829696a554.pdf'\n",
      "Could not read ef9f50d3c4ca68571c6ca8171dadc7ab73f3d4e4 due to [WinError 2] The system cannot find the file specified: 'c:\\\\Users\\\\allie\\\\Documents\\\\GitHub\\\\policy-classifier/policy_scraping/policy_scraping/outputs/forestry/full\\\\ef9f50d3c4ca68571c6ca8171dadc7ab73f3d4e4.pdf'\n",
      "Could not read 75ab93ed324857ddc11c01e69ce49d9a1bf322a1 due to [WinError 2] The system cannot find the file specified: 'c:\\\\Users\\\\allie\\\\Documents\\\\GitHub\\\\policy-classifier/policy_scraping/policy_scraping/outputs/forestry/full\\\\75ab93ed324857ddc11c01e69ce49d9a1bf322a1.pdf'\n",
      "Could not read b069e23625afd7a4b5e3d8198ec9d125f93291cd due to [WinError 2] The system cannot find the file specified: 'c:\\\\Users\\\\allie\\\\Documents\\\\GitHub\\\\policy-classifier/policy_scraping/policy_scraping/outputs/forestry/full\\\\b069e23625afd7a4b5e3d8198ec9d125f93291cd.pdf'\n",
      "Could not read a36e4dd95260bc513b7ebbbaf2efc61c35ad48cc due to [WinError 2] The system cannot find the file specified: 'c:\\\\Users\\\\allie\\\\Documents\\\\GitHub\\\\policy-classifier/policy_scraping/policy_scraping/outputs/forestry/full\\\\a36e4dd95260bc513b7ebbbaf2efc61c35ad48cc.pdf'\n"
     ]
    },
    {
     "name": "stderr",
     "output_type": "stream",
     "text": [
      " 60%|█████▉    | 169/284 [02:15<00:41,  2.80it/s]"
     ]
    },
    {
     "name": "stdout",
     "output_type": "stream",
     "text": [
      "Could not read e42fb331be9830e201178f068020a4f436d28808 due to [WinError 2] The system cannot find the file specified: 'c:\\\\Users\\\\allie\\\\Documents\\\\GitHub\\\\policy-classifier/policy_scraping/policy_scraping/outputs/forestry/full\\\\e42fb331be9830e201178f068020a4f436d28808.pdf'\n",
      "Could not read ef6185f1b7b253804657fc73038137df31ed9b6c due to [WinError 2] The system cannot find the file specified: 'c:\\\\Users\\\\allie\\\\Documents\\\\GitHub\\\\policy-classifier/policy_scraping/policy_scraping/outputs/forestry/full\\\\ef6185f1b7b253804657fc73038137df31ed9b6c.pdf'\n",
      "Could not read 42e09f85a85a1cf87259a13a2e358ca61cada5c0 due to [WinError 2] The system cannot find the file specified: 'c:\\\\Users\\\\allie\\\\Documents\\\\GitHub\\\\policy-classifier/policy_scraping/policy_scraping/outputs/forestry/full\\\\42e09f85a85a1cf87259a13a2e358ca61cada5c0.pdf'\n",
      "Could not read baf5acfb4bf154e790e40e145cadb592c127e8a7 due to [WinError 2] The system cannot find the file specified: 'c:\\\\Users\\\\allie\\\\Documents\\\\GitHub\\\\policy-classifier/policy_scraping/policy_scraping/outputs/forestry/full\\\\baf5acfb4bf154e790e40e145cadb592c127e8a7.pdf'\n",
      "Could not read cd4d2f6bd768d59e3ae4cb1f807e643e6e5a4e17 due to [WinError 2] The system cannot find the file specified: 'c:\\\\Users\\\\allie\\\\Documents\\\\GitHub\\\\policy-classifier/policy_scraping/policy_scraping/outputs/forestry/full\\\\cd4d2f6bd768d59e3ae4cb1f807e643e6e5a4e17.pdf'\n"
     ]
    },
    {
     "name": "stderr",
     "output_type": "stream",
     "text": [
      " 63%|██████▎   | 179/284 [02:21<00:58,  1.81it/s]"
     ]
    },
    {
     "name": "stdout",
     "output_type": "stream",
     "text": [
      "Could not read 17e759788407f7a9af8fd6d5c2a3ba0f91fe5e1d due to [WinError 2] The system cannot find the file specified: 'c:\\\\Users\\\\allie\\\\Documents\\\\GitHub\\\\policy-classifier/policy_scraping/policy_scraping/outputs/forestry/full\\\\17e759788407f7a9af8fd6d5c2a3ba0f91fe5e1d.pdf'\n"
     ]
    },
    {
     "name": "stderr",
     "output_type": "stream",
     "text": [
      " 65%|██████▍   | 184/284 [02:26<01:27,  1.14it/s]"
     ]
    },
    {
     "name": "stdout",
     "output_type": "stream",
     "text": [
      "Could not read 705f3e8484421906baf2a30882860bd2badb1944 due to [WinError 2] The system cannot find the file specified: 'c:\\\\Users\\\\allie\\\\Documents\\\\GitHub\\\\policy-classifier/policy_scraping/policy_scraping/outputs/forestry/full\\\\705f3e8484421906baf2a30882860bd2badb1944.pdf'\n"
     ]
    },
    {
     "name": "stderr",
     "output_type": "stream",
     "text": [
      " 65%|██████▌   | 186/284 [02:35<03:06,  1.91s/it]"
     ]
    },
    {
     "name": "stdout",
     "output_type": "stream",
     "text": [
      "Could not read 1aa6cf5d2cd0e05b08941accb4b39cc5164a2555 due to [WinError 2] The system cannot find the file specified: 'c:\\\\Users\\\\allie\\\\Documents\\\\GitHub\\\\policy-classifier/policy_scraping/policy_scraping/outputs/forestry/full\\\\1aa6cf5d2cd0e05b08941accb4b39cc5164a2555.pdf'\n"
     ]
    },
    {
     "name": "stderr",
     "output_type": "stream",
     "text": [
      " 67%|██████▋   | 190/284 [02:36<01:38,  1.04s/it]"
     ]
    },
    {
     "name": "stdout",
     "output_type": "stream",
     "text": [
      "Could not read 68b5dfd4f1ca522fc4dcd95f5b395cff19a365c8 due to [WinError 2] The system cannot find the file specified: 'c:\\\\Users\\\\allie\\\\Documents\\\\GitHub\\\\policy-classifier/policy_scraping/policy_scraping/outputs/forestry/full\\\\68b5dfd4f1ca522fc4dcd95f5b395cff19a365c8.pdf'\n",
      "Could not read c9a95a43f66cb393702ea8b2339d5ccb0797ec1a due to [WinError 2] The system cannot find the file specified: 'c:\\\\Users\\\\allie\\\\Documents\\\\GitHub\\\\policy-classifier/policy_scraping/policy_scraping/outputs/forestry/full\\\\c9a95a43f66cb393702ea8b2339d5ccb0797ec1a.pdf'\n",
      "Could not read 4b9ff85f2c1e4eea2e55e733dd3756bc1ab070f0 due to [WinError 2] The system cannot find the file specified: 'c:\\\\Users\\\\allie\\\\Documents\\\\GitHub\\\\policy-classifier/policy_scraping/policy_scraping/outputs/forestry/full\\\\4b9ff85f2c1e4eea2e55e733dd3756bc1ab070f0.pdf'\n",
      "Could not read f5c6f8e532f15f5f5c783c390a793a3a729697e2 due to [WinError 2] The system cannot find the file specified: 'c:\\\\Users\\\\allie\\\\Documents\\\\GitHub\\\\policy-classifier/policy_scraping/policy_scraping/outputs/forestry/full\\\\f5c6f8e532f15f5f5c783c390a793a3a729697e2.pdf'\n",
      "Could not read 0b8805e76cea35811437a4aa3d59d8f6682941cd due to [WinError 2] The system cannot find the file specified: 'c:\\\\Users\\\\allie\\\\Documents\\\\GitHub\\\\policy-classifier/policy_scraping/policy_scraping/outputs/forestry/full\\\\0b8805e76cea35811437a4aa3d59d8f6682941cd.pdf'\n",
      "Could not read fdda66db76436c536bb3c834abfe224057d00f3b due to [WinError 2] The system cannot find the file specified: 'c:\\\\Users\\\\allie\\\\Documents\\\\GitHub\\\\policy-classifier/policy_scraping/policy_scraping/outputs/forestry/full\\\\fdda66db76436c536bb3c834abfe224057d00f3b.pdf'\n",
      "Could not read e2d90924ec77d04d3eff1dc140693fa84f28dddd due to [WinError 2] The system cannot find the file specified: 'c:\\\\Users\\\\allie\\\\Documents\\\\GitHub\\\\policy-classifier/policy_scraping/policy_scraping/outputs/forestry/full\\\\e2d90924ec77d04d3eff1dc140693fa84f28dddd.pdf'\n",
      "Could not read d4ec61b60ee7d835674f36e72daab0d7da221719 due to [WinError 2] The system cannot find the file specified: 'c:\\\\Users\\\\allie\\\\Documents\\\\GitHub\\\\policy-classifier/policy_scraping/policy_scraping/outputs/forestry/full\\\\d4ec61b60ee7d835674f36e72daab0d7da221719.pdf'\n"
     ]
    },
    {
     "name": "stderr",
     "output_type": "stream",
     "text": [
      " 70%|███████   | 199/284 [02:38<00:38,  2.20it/s]"
     ]
    },
    {
     "name": "stdout",
     "output_type": "stream",
     "text": [
      "Could not read 236c4ed20494990592c23a569801c028fa0cdb8b due to [WinError 2] The system cannot find the file specified: 'c:\\\\Users\\\\allie\\\\Documents\\\\GitHub\\\\policy-classifier/policy_scraping/policy_scraping/outputs/forestry/full\\\\236c4ed20494990592c23a569801c028fa0cdb8b.pdf'\n",
      "Could not read 4e2cb8be7146a4b536bc308aa1fd3829b78eb95c due to [WinError 2] The system cannot find the file specified: 'c:\\\\Users\\\\allie\\\\Documents\\\\GitHub\\\\policy-classifier/policy_scraping/policy_scraping/outputs/forestry/full\\\\4e2cb8be7146a4b536bc308aa1fd3829b78eb95c.pdf'\n"
     ]
    },
    {
     "name": "stderr",
     "output_type": "stream",
     "text": [
      " 71%|███████   | 202/284 [02:39<00:38,  2.15it/s]"
     ]
    },
    {
     "name": "stdout",
     "output_type": "stream",
     "text": [
      "Could not read f36977a3568e4477f655ce66da1eb06654098dce due to [WinError 2] The system cannot find the file specified: 'c:\\\\Users\\\\allie\\\\Documents\\\\GitHub\\\\policy-classifier/policy_scraping/policy_scraping/outputs/forestry/full\\\\f36977a3568e4477f655ce66da1eb06654098dce.pdf'\n"
     ]
    },
    {
     "name": "stderr",
     "output_type": "stream",
     "text": [
      " 72%|███████▏  | 204/284 [02:40<00:37,  2.16it/s]"
     ]
    },
    {
     "name": "stdout",
     "output_type": "stream",
     "text": [
      "Could not read 78fe748c60ecda3a0a7c4ff66578b7863eb84231 due to [WinError 2] The system cannot find the file specified: 'c:\\\\Users\\\\allie\\\\Documents\\\\GitHub\\\\policy-classifier/policy_scraping/policy_scraping/outputs/forestry/full\\\\78fe748c60ecda3a0a7c4ff66578b7863eb84231.pdf'\n",
      "Could not read e4d5ab2963369096e1dce56c29799bbfc9f4bdc6 due to [WinError 2] The system cannot find the file specified: 'c:\\\\Users\\\\allie\\\\Documents\\\\GitHub\\\\policy-classifier/policy_scraping/policy_scraping/outputs/forestry/full\\\\e4d5ab2963369096e1dce56c29799bbfc9f4bdc6.pdf'\n",
      "Could not read 62d4ee7b960f63c1965496a83f29baea6fe20cec due to [WinError 2] The system cannot find the file specified: 'c:\\\\Users\\\\allie\\\\Documents\\\\GitHub\\\\policy-classifier/policy_scraping/policy_scraping/outputs/forestry/full\\\\62d4ee7b960f63c1965496a83f29baea6fe20cec.pdf'\n",
      "Could not read 09c2f49f003b282aa52a1fa8384ffa9cd13a88b4 due to [WinError 2] The system cannot find the file specified: 'c:\\\\Users\\\\allie\\\\Documents\\\\GitHub\\\\policy-classifier/policy_scraping/policy_scraping/outputs/forestry/full\\\\09c2f49f003b282aa52a1fa8384ffa9cd13a88b4.pdf'\n",
      "Could not read 1a2822abf509aaa3c62d02cb5d4e3ae0cf9d6837 due to [WinError 2] The system cannot find the file specified: 'c:\\\\Users\\\\allie\\\\Documents\\\\GitHub\\\\policy-classifier/policy_scraping/policy_scraping/outputs/forestry/full\\\\1a2822abf509aaa3c62d02cb5d4e3ae0cf9d6837.pdf'\n",
      "Could not read 04c49929405effd368f309dcf87eb4a14cb44e40 due to [WinError 2] The system cannot find the file specified: 'c:\\\\Users\\\\allie\\\\Documents\\\\GitHub\\\\policy-classifier/policy_scraping/policy_scraping/outputs/forestry/full\\\\04c49929405effd368f309dcf87eb4a14cb44e40.pdf'\n"
     ]
    },
    {
     "name": "stderr",
     "output_type": "stream",
     "text": [
      " 75%|███████▍  | 212/284 [02:41<00:19,  3.73it/s]"
     ]
    },
    {
     "name": "stdout",
     "output_type": "stream",
     "text": [
      "Could not read 0598747031dcff59df1aa8cd72fed7308ff2f9bb due to [WinError 2] The system cannot find the file specified: 'c:\\\\Users\\\\allie\\\\Documents\\\\GitHub\\\\policy-classifier/policy_scraping/policy_scraping/outputs/forestry/full\\\\0598747031dcff59df1aa8cd72fed7308ff2f9bb.pdf'\n",
      "Could not read 52067381c0d724dca3f9ca36f125e803a566daf8 due to [WinError 2] The system cannot find the file specified: 'c:\\\\Users\\\\allie\\\\Documents\\\\GitHub\\\\policy-classifier/policy_scraping/policy_scraping/outputs/forestry/full\\\\52067381c0d724dca3f9ca36f125e803a566daf8.pdf'\n",
      "Could not read 42689bb4df7a11d0ed167c5b11c6f9f67803a787 due to [WinError 2] The system cannot find the file specified: 'c:\\\\Users\\\\allie\\\\Documents\\\\GitHub\\\\policy-classifier/policy_scraping/policy_scraping/outputs/forestry/full\\\\42689bb4df7a11d0ed167c5b11c6f9f67803a787.pdf'\n",
      "Could not read 18be4696263498dfae7f3e1341fde3313800d145 due to [WinError 2] The system cannot find the file specified: 'c:\\\\Users\\\\allie\\\\Documents\\\\GitHub\\\\policy-classifier/policy_scraping/policy_scraping/outputs/forestry/full\\\\18be4696263498dfae7f3e1341fde3313800d145.pdf'\n",
      "Could not read a620c3a38273321e14fdeec6171ee7863e5271d0 due to [WinError 2] The system cannot find the file specified: 'c:\\\\Users\\\\allie\\\\Documents\\\\GitHub\\\\policy-classifier/policy_scraping/policy_scraping/outputs/forestry/full\\\\a620c3a38273321e14fdeec6171ee7863e5271d0.pdf'\n",
      "Could not read a18ef02e3dcf67f9aae1e12f0171b4fbb55afc83 due to [WinError 2] The system cannot find the file specified: 'c:\\\\Users\\\\allie\\\\Documents\\\\GitHub\\\\policy-classifier/policy_scraping/policy_scraping/outputs/forestry/full\\\\a18ef02e3dcf67f9aae1e12f0171b4fbb55afc83.pdf'\n"
     ]
    },
    {
     "name": "stderr",
     "output_type": "stream",
     "text": [
      " 79%|███████▊  | 223/284 [02:43<00:11,  5.22it/s]"
     ]
    },
    {
     "name": "stdout",
     "output_type": "stream",
     "text": [
      "Could not read 31f3aa90af1dbc068905fbf6de430ee693904b16 due to [WinError 2] The system cannot find the file specified: 'c:\\\\Users\\\\allie\\\\Documents\\\\GitHub\\\\policy-classifier/policy_scraping/policy_scraping/outputs/forestry/full\\\\31f3aa90af1dbc068905fbf6de430ee693904b16.pdf'\n",
      "Could not read 2efe6b975b6c463eddfaf8c59874dfe8dee33a9c due to [WinError 2] The system cannot find the file specified: 'c:\\\\Users\\\\allie\\\\Documents\\\\GitHub\\\\policy-classifier/policy_scraping/policy_scraping/outputs/forestry/full\\\\2efe6b975b6c463eddfaf8c59874dfe8dee33a9c.pdf'\n",
      "Could not read c6b13ee0c49b0fbd857f50968c9458fc013d9fe3 due to [WinError 2] The system cannot find the file specified: 'c:\\\\Users\\\\allie\\\\Documents\\\\GitHub\\\\policy-classifier/policy_scraping/policy_scraping/outputs/forestry/full\\\\c6b13ee0c49b0fbd857f50968c9458fc013d9fe3.pdf'\n",
      "Could not read 9ae7dbf9c91c794eeeedeb8fe07468f9819e0a1f due to [WinError 2] The system cannot find the file specified: 'c:\\\\Users\\\\allie\\\\Documents\\\\GitHub\\\\policy-classifier/policy_scraping/policy_scraping/outputs/forestry/full\\\\9ae7dbf9c91c794eeeedeb8fe07468f9819e0a1f.pdf'\n",
      "Could not read f30c76f3e28a82bf81b49f381b6c213491630bd7 due to [WinError 2] The system cannot find the file specified: 'c:\\\\Users\\\\allie\\\\Documents\\\\GitHub\\\\policy-classifier/policy_scraping/policy_scraping/outputs/forestry/full\\\\f30c76f3e28a82bf81b49f381b6c213491630bd7.pdf'\n"
     ]
    },
    {
     "name": "stderr",
     "output_type": "stream",
     "text": [
      " 80%|███████▉  | 226/284 [02:48<00:31,  1.82it/s]"
     ]
    },
    {
     "name": "stdout",
     "output_type": "stream",
     "text": [
      "Could not read 650a587873878ec486fec15afe86d6887ab7b8e8 due to [WinError 2] The system cannot find the file specified: 'c:\\\\Users\\\\allie\\\\Documents\\\\GitHub\\\\policy-classifier/policy_scraping/policy_scraping/outputs/forestry/full\\\\650a587873878ec486fec15afe86d6887ab7b8e8.pdf'\n"
     ]
    },
    {
     "name": "stderr",
     "output_type": "stream",
     "text": [
      " 80%|████████  | 228/284 [02:49<00:30,  1.86it/s]"
     ]
    },
    {
     "name": "stdout",
     "output_type": "stream",
     "text": [
      "Could not read 107b6d9bda7b94fc794e3b800e8c0a38f71ba5aa due to [WinError 2] The system cannot find the file specified: 'c:\\\\Users\\\\allie\\\\Documents\\\\GitHub\\\\policy-classifier/policy_scraping/policy_scraping/outputs/forestry/full\\\\107b6d9bda7b94fc794e3b800e8c0a38f71ba5aa.pdf'\n",
      "Could not read 04d9d0555cbb48f36bc76c96583b46af83f05003 due to [WinError 2] The system cannot find the file specified: 'c:\\\\Users\\\\allie\\\\Documents\\\\GitHub\\\\policy-classifier/policy_scraping/policy_scraping/outputs/forestry/full\\\\04d9d0555cbb48f36bc76c96583b46af83f05003.pdf'\n",
      "Could not read 55fe0c390e3d2492afa8ad9b7c69e6ca87e4c146 due to [WinError 2] The system cannot find the file specified: 'c:\\\\Users\\\\allie\\\\Documents\\\\GitHub\\\\policy-classifier/policy_scraping/policy_scraping/outputs/forestry/full\\\\55fe0c390e3d2492afa8ad9b7c69e6ca87e4c146.pdf'\n",
      "Could not read 950bd97218328e0e8b83f9f9c07264c6f822e1c4 due to [WinError 2] The system cannot find the file specified: 'c:\\\\Users\\\\allie\\\\Documents\\\\GitHub\\\\policy-classifier/policy_scraping/policy_scraping/outputs/forestry/full\\\\950bd97218328e0e8b83f9f9c07264c6f822e1c4.pdf'\n"
     ]
    },
    {
     "name": "stderr",
     "output_type": "stream",
     "text": [
      " 82%|████████▏ | 234/284 [02:54<00:36,  1.39it/s]"
     ]
    },
    {
     "name": "stdout",
     "output_type": "stream",
     "text": [
      "Could not read e1ac4683718594fbf5064c28c26a75b53ac169c0 due to [WinError 2] The system cannot find the file specified: 'c:\\\\Users\\\\allie\\\\Documents\\\\GitHub\\\\policy-classifier/policy_scraping/policy_scraping/outputs/forestry/full\\\\e1ac4683718594fbf5064c28c26a75b53ac169c0.pdf'\n"
     ]
    },
    {
     "name": "stderr",
     "output_type": "stream",
     "text": [
      " 83%|████████▎ | 236/284 [02:56<00:35,  1.35it/s]"
     ]
    },
    {
     "name": "stdout",
     "output_type": "stream",
     "text": [
      "Could not read 29821ecb31ead462be6bf89f0fe225685e4b150b due to [WinError 2] The system cannot find the file specified: 'c:\\\\Users\\\\allie\\\\Documents\\\\GitHub\\\\policy-classifier/policy_scraping/policy_scraping/outputs/forestry/full\\\\29821ecb31ead462be6bf89f0fe225685e4b150b.pdf'\n"
     ]
    },
    {
     "name": "stderr",
     "output_type": "stream",
     "text": [
      " 84%|████████▍ | 238/284 [03:05<01:17,  1.69s/it]"
     ]
    },
    {
     "name": "stdout",
     "output_type": "stream",
     "text": [
      "Could not read 45b91d971a13b4bbf212b2927e88d44733cbba18 due to [WinError 2] The system cannot find the file specified: 'c:\\\\Users\\\\allie\\\\Documents\\\\GitHub\\\\policy-classifier/policy_scraping/policy_scraping/outputs/forestry/full\\\\45b91d971a13b4bbf212b2927e88d44733cbba18.pdf'\n",
      "Could not read 0863846c4df250bc067ee08041385d46eb92a96f due to [WinError 2] The system cannot find the file specified: 'c:\\\\Users\\\\allie\\\\Documents\\\\GitHub\\\\policy-classifier/policy_scraping/policy_scraping/outputs/forestry/full\\\\0863846c4df250bc067ee08041385d46eb92a96f.pdf'\n",
      "Could not read 0b2d8c07514f9063c82de90fc3fd1cfc4a915dfa due to [WinError 2] The system cannot find the file specified: 'c:\\\\Users\\\\allie\\\\Documents\\\\GitHub\\\\policy-classifier/policy_scraping/policy_scraping/outputs/forestry/full\\\\0b2d8c07514f9063c82de90fc3fd1cfc4a915dfa.pdf'\n",
      "Could not read a02414f9b1815d234cd3f6f06b32cd2783179fb4 due to [WinError 2] The system cannot find the file specified: 'c:\\\\Users\\\\allie\\\\Documents\\\\GitHub\\\\policy-classifier/policy_scraping/policy_scraping/outputs/forestry/full\\\\a02414f9b1815d234cd3f6f06b32cd2783179fb4.pdf'\n"
     ]
    },
    {
     "name": "stderr",
     "output_type": "stream",
     "text": [
      " 86%|████████▌ | 243/284 [03:07<00:43,  1.07s/it]"
     ]
    },
    {
     "name": "stdout",
     "output_type": "stream",
     "text": [
      "Could not read 302facbe998be23d738fd42b2ef6da4ee8211887 due to [WinError 2] The system cannot find the file specified: 'c:\\\\Users\\\\allie\\\\Documents\\\\GitHub\\\\policy-classifier/policy_scraping/policy_scraping/outputs/forestry/full\\\\302facbe998be23d738fd42b2ef6da4ee8211887.pdf'\n"
     ]
    },
    {
     "name": "stderr",
     "output_type": "stream",
     "text": [
      " 86%|████████▋ | 245/284 [03:15<01:07,  1.73s/it]"
     ]
    },
    {
     "name": "stdout",
     "output_type": "stream",
     "text": [
      "Could not read 4b1ba73eee75e4ca1e0122862c812fd697fb9234 due to [WinError 2] The system cannot find the file specified: 'c:\\\\Users\\\\allie\\\\Documents\\\\GitHub\\\\policy-classifier/policy_scraping/policy_scraping/outputs/forestry/full\\\\4b1ba73eee75e4ca1e0122862c812fd697fb9234.pdf'\n",
      "Could not read 3f123ee39609cf93b125f3faab7d96859a2ee053 due to [WinError 2] The system cannot find the file specified: 'c:\\\\Users\\\\allie\\\\Documents\\\\GitHub\\\\policy-classifier/policy_scraping/policy_scraping/outputs/forestry/full\\\\3f123ee39609cf93b125f3faab7d96859a2ee053.pdf'\n"
     ]
    },
    {
     "name": "stderr",
     "output_type": "stream",
     "text": [
      " 88%|████████▊ | 249/284 [03:21<00:54,  1.57s/it]"
     ]
    },
    {
     "name": "stdout",
     "output_type": "stream",
     "text": [
      "Could not read 542da169e3e71f29a2d7792d3eb015a54ec2ebf3 due to [WinError 2] The system cannot find the file specified: 'c:\\\\Users\\\\allie\\\\Documents\\\\GitHub\\\\policy-classifier/policy_scraping/policy_scraping/outputs/forestry/full\\\\542da169e3e71f29a2d7792d3eb015a54ec2ebf3.pdf'\n",
      "Could not read 3f4d2d2e76fce162db37b9b9038d5936b62f8859 due to [WinError 2] The system cannot find the file specified: 'c:\\\\Users\\\\allie\\\\Documents\\\\GitHub\\\\policy-classifier/policy_scraping/policy_scraping/outputs/forestry/full\\\\3f4d2d2e76fce162db37b9b9038d5936b62f8859.pdf'\n",
      "Could not read d1c1a7ecfecf8af7baa28609d64812a622ee4fbc due to [WinError 2] The system cannot find the file specified: 'c:\\\\Users\\\\allie\\\\Documents\\\\GitHub\\\\policy-classifier/policy_scraping/policy_scraping/outputs/forestry/full\\\\d1c1a7ecfecf8af7baa28609d64812a622ee4fbc.pdf'\n",
      "Could not read 4dfbaa24461374f923cc2be5e1d8ebc167b17239 due to [WinError 2] The system cannot find the file specified: 'c:\\\\Users\\\\allie\\\\Documents\\\\GitHub\\\\policy-classifier/policy_scraping/policy_scraping/outputs/forestry/full\\\\4dfbaa24461374f923cc2be5e1d8ebc167b17239.pdf'\n",
      "Could not read 47c52353237d2d66d2589fb383193e5ed0171a99 due to [WinError 2] The system cannot find the file specified: 'c:\\\\Users\\\\allie\\\\Documents\\\\GitHub\\\\policy-classifier/policy_scraping/policy_scraping/outputs/forestry/full\\\\47c52353237d2d66d2589fb383193e5ed0171a99.pdf'\n",
      "Could not read 74ae4f0587c80cf4a4f4c04bea39fe9f7bd5c899 due to [WinError 2] The system cannot find the file specified: 'c:\\\\Users\\\\allie\\\\Documents\\\\GitHub\\\\policy-classifier/policy_scraping/policy_scraping/outputs/forestry/full\\\\74ae4f0587c80cf4a4f4c04bea39fe9f7bd5c899.pdf'\n",
      "Could not read 7aa2e8d338da2557fb3e21aee8d25c6223beb309 due to [WinError 2] The system cannot find the file specified: 'c:\\\\Users\\\\allie\\\\Documents\\\\GitHub\\\\policy-classifier/policy_scraping/policy_scraping/outputs/forestry/full\\\\7aa2e8d338da2557fb3e21aee8d25c6223beb309.pdf'\n",
      "Could not read f283152ff58201a7f79c1a8ab39c98c6ca878c72 due to [WinError 2] The system cannot find the file specified: 'c:\\\\Users\\\\allie\\\\Documents\\\\GitHub\\\\policy-classifier/policy_scraping/policy_scraping/outputs/forestry/full\\\\f283152ff58201a7f79c1a8ab39c98c6ca878c72.pdf'\n",
      "Could not read 60ccddcad5c8c3bfbc6b737506a212754d898671 due to [WinError 2] The system cannot find the file specified: 'c:\\\\Users\\\\allie\\\\Documents\\\\GitHub\\\\policy-classifier/policy_scraping/policy_scraping/outputs/forestry/full\\\\60ccddcad5c8c3bfbc6b737506a212754d898671.pdf'\n",
      "Could not read 7570ebb9b2754dd3c30792db475954746b4474a4 due to [WinError 2] The system cannot find the file specified: 'c:\\\\Users\\\\allie\\\\Documents\\\\GitHub\\\\policy-classifier/policy_scraping/policy_scraping/outputs/forestry/full\\\\7570ebb9b2754dd3c30792db475954746b4474a4.pdf'\n"
     ]
    },
    {
     "name": "stderr",
     "output_type": "stream",
     "text": [
      " 92%|█████████▏| 260/284 [03:27<00:21,  1.13it/s]"
     ]
    },
    {
     "name": "stdout",
     "output_type": "stream",
     "text": [
      "Could not read 4f47b8b3f0ea9fa19b903a5e451434fd5b491a6f due to [WinError 2] The system cannot find the file specified: 'c:\\\\Users\\\\allie\\\\Documents\\\\GitHub\\\\policy-classifier/policy_scraping/policy_scraping/outputs/forestry/full\\\\4f47b8b3f0ea9fa19b903a5e451434fd5b491a6f.pdf'\n"
     ]
    },
    {
     "name": "stderr",
     "output_type": "stream",
     "text": [
      " 93%|█████████▎| 263/284 [03:30<00:18,  1.11it/s]"
     ]
    },
    {
     "name": "stdout",
     "output_type": "stream",
     "text": [
      "Could not read 9cd19dcc5e6e59676490b038d5ab932d3331c382 due to [WinError 2] The system cannot find the file specified: 'c:\\\\Users\\\\allie\\\\Documents\\\\GitHub\\\\policy-classifier/policy_scraping/policy_scraping/outputs/forestry/full\\\\9cd19dcc5e6e59676490b038d5ab932d3331c382.pdf'\n"
     ]
    },
    {
     "name": "stderr",
     "output_type": "stream",
     "text": [
      " 94%|█████████▎| 266/284 [03:35<00:19,  1.10s/it]"
     ]
    },
    {
     "name": "stdout",
     "output_type": "stream",
     "text": [
      "Could not read bb424bf6b9db093a0cc8f73851a9a867bfb3f157 due to [WinError 2] The system cannot find the file specified: 'c:\\\\Users\\\\allie\\\\Documents\\\\GitHub\\\\policy-classifier/policy_scraping/policy_scraping/outputs/forestry/full\\\\bb424bf6b9db093a0cc8f73851a9a867bfb3f157.pdf'\n"
     ]
    },
    {
     "name": "stderr",
     "output_type": "stream",
     "text": [
      " 96%|█████████▌| 272/284 [04:03<00:39,  3.26s/it]"
     ]
    },
    {
     "name": "stdout",
     "output_type": "stream",
     "text": [
      "Could not read 4fb4f481f382f3a41cd7a2d10adaa8ac51808c77 due to [WinError 2] The system cannot find the file specified: 'c:\\\\Users\\\\allie\\\\Documents\\\\GitHub\\\\policy-classifier/policy_scraping/policy_scraping/outputs/forestry/full\\\\4fb4f481f382f3a41cd7a2d10adaa8ac51808c77.pdf'\n",
      "Could not read d59e36515abb69d36be5a002bc98e8f2c3f7c4d4 due to [WinError 2] The system cannot find the file specified: 'c:\\\\Users\\\\allie\\\\Documents\\\\GitHub\\\\policy-classifier/policy_scraping/policy_scraping/outputs/forestry/full\\\\d59e36515abb69d36be5a002bc98e8f2c3f7c4d4.pdf'\n",
      "Could not read a56cda5ddd99f870187b666e85c48f4e5b4bc119 due to [WinError 2] The system cannot find the file specified: 'c:\\\\Users\\\\allie\\\\Documents\\\\GitHub\\\\policy-classifier/policy_scraping/policy_scraping/outputs/forestry/full\\\\a56cda5ddd99f870187b666e85c48f4e5b4bc119.pdf'\n",
      "Could not read 4ac9ddedcbd4ef847c47a0f2804de3cdf0d16dca due to [WinError 2] The system cannot find the file specified: 'c:\\\\Users\\\\allie\\\\Documents\\\\GitHub\\\\policy-classifier/policy_scraping/policy_scraping/outputs/forestry/full\\\\4ac9ddedcbd4ef847c47a0f2804de3cdf0d16dca.pdf'\n",
      "Could not read 76dd5e29b0f4cfe65a3400dc0099055d436a83a8 due to [WinError 2] The system cannot find the file specified: 'c:\\\\Users\\\\allie\\\\Documents\\\\GitHub\\\\policy-classifier/policy_scraping/policy_scraping/outputs/forestry/full\\\\76dd5e29b0f4cfe65a3400dc0099055d436a83a8.pdf'\n",
      "Could not read c2a24f6bd0a1f35605c9529bb8a9e8a6f35cf6e0 due to [WinError 2] The system cannot find the file specified: 'c:\\\\Users\\\\allie\\\\Documents\\\\GitHub\\\\policy-classifier/policy_scraping/policy_scraping/outputs/forestry/full\\\\c2a24f6bd0a1f35605c9529bb8a9e8a6f35cf6e0.pdf'\n",
      "Could not read 7eb1e1c10887f4280cb32a8ea0e2b6b0305d9670 due to [WinError 2] The system cannot find the file specified: 'c:\\\\Users\\\\allie\\\\Documents\\\\GitHub\\\\policy-classifier/policy_scraping/policy_scraping/outputs/forestry/full\\\\7eb1e1c10887f4280cb32a8ea0e2b6b0305d9670.pdf'\n",
      "Could not read f36a9a0cd0189513661a8e678b04e63c4d0111d8 due to [WinError 2] The system cannot find the file specified: 'c:\\\\Users\\\\allie\\\\Documents\\\\GitHub\\\\policy-classifier/policy_scraping/policy_scraping/outputs/forestry/full\\\\f36a9a0cd0189513661a8e678b04e63c4d0111d8.pdf'\n"
     ]
    },
    {
     "name": "stderr",
     "output_type": "stream",
     "text": [
      "100%|██████████| 284/284 [05:37<00:00,  1.19s/it]"
     ]
    },
    {
     "name": "stdout",
     "output_type": "stream",
     "text": [
      "Removed hash bd0e2215bffb644e8c4b3a7df2b26f3d4adabbe3 from dictionary\n",
      "Removed hash a57ebf5bbe57725807dab1e81a537b32ed163d2f from dictionary\n",
      "Removed hash 74ec9122f540da0cd334f6260ade67574fed5819 from dictionary\n",
      "Removed hash 3298d4d9318d1dba58fca6a03fb4f084e5ee23a7 from dictionary\n",
      "Removed hash a6ffd9f252c4b973a5f247b807ccb9ae06ea592c from dictionary\n",
      "Removed hash 165434081592a52fdcbfbd25b289167f18510ead from dictionary\n",
      "Removed hash 6d240c5d8ae1c6d9c97aa7573604106710cd22d3 from dictionary\n",
      "Removed hash 8165d5880a6d5c2061958953caaa9858d9cbe6f5 from dictionary\n",
      "Removed hash c7e10054e8036b71970e4773504fb0c91e59b7a0 from dictionary\n",
      "Removed hash 322b959f91c817def6d7735dea4f615a7a11cac5 from dictionary\n",
      "Removed hash bf00b2188c455415e77bcff46d403137d89c18aa from dictionary\n",
      "Removed hash cde487733ecd498d0beb51689dc5a7b332863000 from dictionary\n",
      "Removed hash a0907bbf1d4c6d457c04855ecd794fc0f8e71982 from dictionary\n",
      "Removed hash 1aa6b403beac7649b27e104695ea12d688437009 from dictionary\n",
      "Removed hash c665c1e6c09bf48fdc752dca421c70d8d8d61088 from dictionary\n",
      "Removed hash d81e4c6845d94b82942ecf32b6bd877b23543916 from dictionary\n",
      "Removed hash b15b9e7c7cef257fdadb19c860c8f90fbcf486f9 from dictionary\n",
      "Removed hash eb10c400311c6edaa299763a290e742a261f7671 from dictionary\n",
      "Removed hash 5d043c94be7ac309e00175ed1228e4cf31b59334 from dictionary\n",
      "Removed hash 33120105aa142c885afe85a8b1fee7dfc4c97b32 from dictionary\n",
      "Removed hash 7ba4749e076cd2d74d5928777773acddcc50a247 from dictionary\n",
      "Removed hash 41e13da2a5f90f061f83da6d0a65955ef632707d from dictionary\n",
      "Removed hash 57e3209be2e8a1923c7acb88e3564d4db9da058f from dictionary\n",
      "Removed hash ccca81a1426ab483dc658571aa8f7a145dbbfd31 from dictionary\n",
      "Removed hash f1d82007acead44c33729cfd6b3a9f9332685d96 from dictionary\n",
      "Removed hash 19077f96541a3a2f2d12d67c13890479f0792174 from dictionary\n",
      "Removed hash ae7d937bdbb6e6044ed20a368f37bb2c76d2317f from dictionary\n",
      "Removed hash e96d20dbe2a7fcf0d744a57d083bf8ce7484c5c1 from dictionary\n",
      "Removed hash 5091115075954b41869bd328c8f1a0e1b1f7ef8d from dictionary\n",
      "Removed hash 0bf5e85714fe3a21f3b17e129ffd7ba955be0287 from dictionary\n",
      "Removed hash a516fb449bdb6e8e2b65b4d7a7790b9b5d53d153 from dictionary\n",
      "Removed hash 47e2a82327a05847a6fa92f501e5fbd3f867d155 from dictionary\n",
      "Removed hash 8586ed4d8876e5797e74f25384e2090551fd7bbb from dictionary\n",
      "Removed hash 573b10175e70242f1e172773a92fe6d3ac897f6b from dictionary\n",
      "Removed hash 4e1b34e6da798293720376e5916c7c4d826a4990 from dictionary\n",
      "Removed hash 4de30371650a0b19547055f26a523727c245c424 from dictionary\n",
      "Removed hash 0f3d21e231638acd10155b6970f81ac950795e8b from dictionary\n",
      "Removed hash a914308fc6120f621a695fe98abdd2be5b8be0d3 from dictionary\n",
      "Removed hash 9ee26891e2dd6cbd3fe516ad11c9744b9d2b7856 from dictionary\n",
      "Removed hash 85c33e8edf43017cbaa37460c7f54b6c60365aa0 from dictionary\n",
      "Removed hash a6cd17b7f2214d417247dc89d5373c2d265702bd from dictionary\n",
      "Removed hash b2f1f208d4225b1c0d8994494e792bc0dee1ed01 from dictionary\n",
      "Removed hash a110a402d57ea4dacf0d404bfb1c9a18ad1158b1 from dictionary\n",
      "Removed hash 4beb5191d20d2caf5bd27497ab25543eed2be47a from dictionary\n",
      "Removed hash c420303e4e7be52d136fbd4dc6ae5a245acab219 from dictionary\n",
      "Removed hash 3ee5a3bfa84876453110ce5ef88ecc6cd2cd6716 from dictionary\n",
      "Removed hash d17cd77b64c40b8c4c8a8d76ed4a55c0111a3578 from dictionary\n",
      "Removed hash 025eb9605a3628b7e7df647208a20e7db81945aa from dictionary\n",
      "Removed hash 42db0730edad610d122d5ff33e542d3d2c0cb84c from dictionary\n",
      "Removed hash 9e368a0c992ee0e44e19d527ef2bbb835e47ba05 from dictionary\n",
      "Removed hash 8d82b52a476beba35ac7dc25f523da19adf8faff from dictionary\n",
      "Removed hash 378f965034293cee18353a38a9b808dac4343eba from dictionary\n",
      "Removed hash e2042134b5c94bfaa92b33c62cac4223db2777e1 from dictionary\n",
      "Removed hash 3e8df49d7035e23c2f4d3682bde7231804acd0cd from dictionary\n",
      "Removed hash 0132b74c91d753ed7174bda57e1d00e398c6d18d from dictionary\n",
      "Removed hash 8bd09653bfa7643f8d0e5e8902ecadfbb4b24e69 from dictionary\n",
      "Removed hash 2c46f6ef32b5c0b8c9cc64d50694eb66ade4ef6e from dictionary\n",
      "Removed hash 20cdd6f09632f3bd019dcdcd21ce9a85927bc994 from dictionary\n",
      "Removed hash 9c124cd6169d6c6fdfe06cf9f866a7a29a2cf624 from dictionary\n",
      "Removed hash 852fbe5b99edfbe2f5561f03804102386a4601e1 from dictionary\n",
      "Removed hash 8ed11d0a4532c81a51c0e3fd9e5ed70e4b60f805 from dictionary\n",
      "Removed hash 644fd64dcf35bbb7791c7cec61d0f4a799eee1f3 from dictionary\n",
      "Removed hash ae875992de9812365a7efa9775f1784d74618a5a from dictionary\n",
      "Removed hash 1d53a4c6f14d2e112ebae16783e379b48aa007de from dictionary\n",
      "Removed hash 5c4351be33bd4c9b8d4e1af1b20cde8c8b6a82fa from dictionary\n",
      "Removed hash e602aa32daf406a259b15a06b5745dc9016acc53 from dictionary\n",
      "Removed hash 450478dafeea8c6db3ff69209dfd9e4da54d6914 from dictionary\n",
      "Removed hash 7f0879a8fcaf836d69132ef7c35a65056ee9bf91 from dictionary\n",
      "Removed hash 7129d4c3bd129ef598e53f261ed549eaeb58b247 from dictionary\n",
      "Removed hash 0c2de80efd6841cd4cd91b64fe007f0acde21f67 from dictionary\n",
      "Removed hash ac4dbe87d899e17700c769e336d5fa4c9abb3bd5 from dictionary\n",
      "Removed hash 422dd67485ef989b835adb2506c07593952863cb from dictionary\n",
      "Removed hash 97d9386aeaa0f22a471b06efa7141e4bbea77955 from dictionary\n",
      "Removed hash eba103050cf08cce96e6a3b82d16e62d59ef2504 from dictionary\n",
      "Removed hash fd96ed4aebaebb910c6f19eb055c19829696a554 from dictionary\n",
      "Removed hash ef9f50d3c4ca68571c6ca8171dadc7ab73f3d4e4 from dictionary\n",
      "Removed hash 75ab93ed324857ddc11c01e69ce49d9a1bf322a1 from dictionary\n",
      "Removed hash b069e23625afd7a4b5e3d8198ec9d125f93291cd from dictionary\n",
      "Removed hash a36e4dd95260bc513b7ebbbaf2efc61c35ad48cc from dictionary\n",
      "Removed hash e42fb331be9830e201178f068020a4f436d28808 from dictionary\n",
      "Removed hash ef6185f1b7b253804657fc73038137df31ed9b6c from dictionary\n",
      "Removed hash 42e09f85a85a1cf87259a13a2e358ca61cada5c0 from dictionary\n",
      "Removed hash baf5acfb4bf154e790e40e145cadb592c127e8a7 from dictionary\n",
      "Removed hash cd4d2f6bd768d59e3ae4cb1f807e643e6e5a4e17 from dictionary\n",
      "Removed hash 17e759788407f7a9af8fd6d5c2a3ba0f91fe5e1d from dictionary\n",
      "Removed hash 705f3e8484421906baf2a30882860bd2badb1944 from dictionary\n",
      "Removed hash 1aa6cf5d2cd0e05b08941accb4b39cc5164a2555 from dictionary\n",
      "Removed hash 68b5dfd4f1ca522fc4dcd95f5b395cff19a365c8 from dictionary\n",
      "Removed hash c9a95a43f66cb393702ea8b2339d5ccb0797ec1a from dictionary\n",
      "Removed hash 4b9ff85f2c1e4eea2e55e733dd3756bc1ab070f0 from dictionary\n",
      "Removed hash f5c6f8e532f15f5f5c783c390a793a3a729697e2 from dictionary\n",
      "Removed hash 0b8805e76cea35811437a4aa3d59d8f6682941cd from dictionary\n",
      "Removed hash fdda66db76436c536bb3c834abfe224057d00f3b from dictionary\n",
      "Removed hash e2d90924ec77d04d3eff1dc140693fa84f28dddd from dictionary\n",
      "Removed hash d4ec61b60ee7d835674f36e72daab0d7da221719 from dictionary\n",
      "Removed hash 236c4ed20494990592c23a569801c028fa0cdb8b from dictionary\n",
      "Removed hash 4e2cb8be7146a4b536bc308aa1fd3829b78eb95c from dictionary\n",
      "Removed hash f36977a3568e4477f655ce66da1eb06654098dce from dictionary\n",
      "Removed hash 78fe748c60ecda3a0a7c4ff66578b7863eb84231 from dictionary\n",
      "Removed hash e4d5ab2963369096e1dce56c29799bbfc9f4bdc6 from dictionary\n",
      "Removed hash 62d4ee7b960f63c1965496a83f29baea6fe20cec from dictionary\n",
      "Removed hash 09c2f49f003b282aa52a1fa8384ffa9cd13a88b4 from dictionary\n",
      "Removed hash 1a2822abf509aaa3c62d02cb5d4e3ae0cf9d6837 from dictionary\n",
      "Removed hash 04c49929405effd368f309dcf87eb4a14cb44e40 from dictionary\n",
      "Removed hash 0598747031dcff59df1aa8cd72fed7308ff2f9bb from dictionary\n",
      "Removed hash 52067381c0d724dca3f9ca36f125e803a566daf8 from dictionary\n",
      "Removed hash 42689bb4df7a11d0ed167c5b11c6f9f67803a787 from dictionary\n",
      "Removed hash 18be4696263498dfae7f3e1341fde3313800d145 from dictionary\n",
      "Removed hash a620c3a38273321e14fdeec6171ee7863e5271d0 from dictionary\n",
      "Removed hash a18ef02e3dcf67f9aae1e12f0171b4fbb55afc83 from dictionary\n",
      "Removed hash 31f3aa90af1dbc068905fbf6de430ee693904b16 from dictionary\n",
      "Removed hash 2efe6b975b6c463eddfaf8c59874dfe8dee33a9c from dictionary\n",
      "Removed hash c6b13ee0c49b0fbd857f50968c9458fc013d9fe3 from dictionary\n",
      "Removed hash 9ae7dbf9c91c794eeeedeb8fe07468f9819e0a1f from dictionary\n",
      "Removed hash f30c76f3e28a82bf81b49f381b6c213491630bd7 from dictionary\n",
      "Removed hash 650a587873878ec486fec15afe86d6887ab7b8e8 from dictionary\n",
      "Removed hash 107b6d9bda7b94fc794e3b800e8c0a38f71ba5aa from dictionary\n",
      "Removed hash 04d9d0555cbb48f36bc76c96583b46af83f05003 from dictionary\n",
      "Removed hash 55fe0c390e3d2492afa8ad9b7c69e6ca87e4c146 from dictionary\n",
      "Removed hash 950bd97218328e0e8b83f9f9c07264c6f822e1c4 from dictionary\n",
      "Removed hash e1ac4683718594fbf5064c28c26a75b53ac169c0 from dictionary\n",
      "Removed hash 29821ecb31ead462be6bf89f0fe225685e4b150b from dictionary\n",
      "Removed hash 45b91d971a13b4bbf212b2927e88d44733cbba18 from dictionary\n",
      "Removed hash 0863846c4df250bc067ee08041385d46eb92a96f from dictionary\n",
      "Removed hash 0b2d8c07514f9063c82de90fc3fd1cfc4a915dfa from dictionary\n",
      "Removed hash a02414f9b1815d234cd3f6f06b32cd2783179fb4 from dictionary\n",
      "Removed hash 302facbe998be23d738fd42b2ef6da4ee8211887 from dictionary\n",
      "Removed hash 4b1ba73eee75e4ca1e0122862c812fd697fb9234 from dictionary\n",
      "Removed hash 3f123ee39609cf93b125f3faab7d96859a2ee053 from dictionary\n",
      "Removed hash 542da169e3e71f29a2d7792d3eb015a54ec2ebf3 from dictionary\n",
      "Removed hash 3f4d2d2e76fce162db37b9b9038d5936b62f8859 from dictionary\n",
      "Removed hash d1c1a7ecfecf8af7baa28609d64812a622ee4fbc from dictionary\n",
      "Removed hash 4dfbaa24461374f923cc2be5e1d8ebc167b17239 from dictionary\n",
      "Removed hash 47c52353237d2d66d2589fb383193e5ed0171a99 from dictionary\n",
      "Removed hash 74ae4f0587c80cf4a4f4c04bea39fe9f7bd5c899 from dictionary\n",
      "Removed hash 7aa2e8d338da2557fb3e21aee8d25c6223beb309 from dictionary\n",
      "Removed hash f283152ff58201a7f79c1a8ab39c98c6ca878c72 from dictionary\n",
      "Removed hash 60ccddcad5c8c3bfbc6b737506a212754d898671 from dictionary\n",
      "Removed hash 7570ebb9b2754dd3c30792db475954746b4474a4 from dictionary\n",
      "Removed hash 4f47b8b3f0ea9fa19b903a5e451434fd5b491a6f from dictionary\n",
      "Removed hash 9cd19dcc5e6e59676490b038d5ab932d3331c382 from dictionary\n",
      "Removed hash bb424bf6b9db093a0cc8f73851a9a867bfb3f157 from dictionary\n",
      "Removed hash 4fb4f481f382f3a41cd7a2d10adaa8ac51808c77 from dictionary\n",
      "Removed hash d59e36515abb69d36be5a002bc98e8f2c3f7c4d4 from dictionary\n",
      "Removed hash a56cda5ddd99f870187b666e85c48f4e5b4bc119 from dictionary\n",
      "Removed hash 4ac9ddedcbd4ef847c47a0f2804de3cdf0d16dca from dictionary\n",
      "Removed hash 76dd5e29b0f4cfe65a3400dc0099055d436a83a8 from dictionary\n",
      "Removed hash c2a24f6bd0a1f35605c9529bb8a9e8a6f35cf6e0 from dictionary\n",
      "Removed hash 7eb1e1c10887f4280cb32a8ea0e2b6b0305d9670 from dictionary\n",
      "Removed hash f36a9a0cd0189513661a8e678b04e63c4d0111d8 from dictionary\n"
     ]
    },
    {
     "name": "stderr",
     "output_type": "stream",
     "text": [
      "\n"
     ]
    }
   ],
   "source": [
    "os.chdir(cwd) # back to base directory\n",
    "from populate_corpora.pdfs_to_jsons import scrp_itm_to_fulltxt\n",
    "import json\n",
    "FILE_DIR= cwd+\"/policy_scraping/policy_scraping/outputs\" # or whatever output directory you gave the scraper for its output json\n",
    "\n",
    "with open(cwd+\"/policy_scraping/outputs/goviefor.json\",\"r\", encoding=\"utf-8\") as f:\n",
    "    metad = json.load(f)\n",
    "\n",
    "pdf_dict = scrp_itm_to_fulltxt(metad, FILE_DIR+\"/forestry/full\")"
   ]
  },
  {
   "cell_type": "markdown",
   "metadata": {},
   "source": [
    "If you have your own collection of pdfs to process and don't have a metadata file, you can use this next function on just the file directory."
   ]
  },
  {
   "cell_type": "code",
   "execution_count": null,
   "metadata": {},
   "outputs": [
    {
     "name": "stderr",
     "output_type": "stream",
     "text": [
      " 14%|█▍        | 21/149 [00:24<03:30,  1.64s/it]unknown widths : \n",
      "[0, IndirectObject(1289, 0, 2848620776528), 7, 8, 661, 9, IndirectObject(1291, 0, 2848620776528), 11, 12, 575, 13, IndirectObject(1306, 0, 2848620776528), 17, 18, 296, 19, IndirectObject(1307, 0, 2848620776528), 25, 26, 770, 27, 28, 808, 29, IndirectObject(1310, 0, 2848620776528), 34, 35, 548, 36, IndirectObject(1308, 0, 2848620776528), 38, 39, 742, 40, IndirectObject(1318, 0, 2848620776528), 45, 46, 507, 47, IndirectObject(1305, 0, 2848620776528), 55, 56, 567, 57, IndirectObject(1313, 0, 2848620776528), 59, 60, 534, 61, IndirectObject(1300, 0, 2848620776528), 67, 75, 600, 76, 84, 924, 85, IndirectObject(1301, 0, 2848620776528), 95, 97, 564, 98, 99, 254, 100, IndirectObject(1312, 0, 2848620776528), 104, 105, 534, 106, IndirectObject(1311, 0, 2848620776528), 109, 110, 564, 111, 112, 574, 113, IndirectObject(1296, 0, 2848620776528), 114, 115, 568, 116, IndirectObject(1317, 0, 2848620776528), 118, 119, 439, 120, IndirectObject(1298, 0, 2848620776528), 127, 128, 644, 129, IndirectObject(1315, 0, 2848620776528), 131, 132, 965, 133, 134, 564, 135, IndirectObject(1299, 0, 2848620776528), 151, 152, 156, 153, IndirectObject(1302, 0, 2848620776528), 157, 158, 314, 159, IndirectObject(1314, 0, 2848620776528), 169, 176, 400, 177, IndirectObject(1316, 0, 2848620776528), 178, 197, 400, 198, IndirectObject(1309, 0, 2848620776528), 211, 212, 559, 213, IndirectObject(1319, 0, 2848620776528), 230, 231, 773, 232, IndirectObject(1292, 0, 2848620776528), 235, 236, 400, 237, 238, 225, 239, IndirectObject(1293, 0, 2848620776528), 240, 241, 541, 242, IndirectObject(1294, 0, 2848620776528), 263, 264, 668, 265, IndirectObject(1295, 0, 2848620776528), 273, 274, 420, 275, IndirectObject(1303, 0, 2848620776528), 298, 299, 487, 300, IndirectObject(1297, 0, 2848620776528), 304, 305, 400, 306, IndirectObject(1304, 0, 2848620776528), 314, 315, 220, 316, 317, 386, 318, IndirectObject(1335, 0, 2848620776528), 322, 323, 455, 324, IndirectObject(1336, 0, 2848620776528), 333, 335, 274, 336, 337, 313, 338, 339, 306, 340, IndirectObject(1339, 0, 2848620776528), 341, 342, 580, 343, IndirectObject(1337, 0, 2848620776528), 345, 346, 580, 347, IndirectObject(1350, 0, 2848620776528), 351, 353, 824, 354, 355, 756, 356, IndirectObject(1334, 0, 2848620776528), 357, 358, 580, 359, IndirectObject(1344, 0, 2848620776528), 360, 363, 580, 364, IndirectObject(1328, 0, 2848620776528), 378, 387, 540, 388, IndirectObject(1329, 0, 2848620776528), 396, 403, 580, 404, 416, 334, 417, 418, 167, 419, 428, 334, 429, IndirectObject(1342, 0, 2848620776528), 432, 444, 580, 445, IndirectObject(1341, 0, 2848620776528), 456, 461, 750, 463, IndirectObject(1324, 0, 2848620776528), 464, 482, 400, 483, IndirectObject(1349, 0, 2848620776528), 488, 489, 662, 490, IndirectObject(1326, 0, 2848620776528), 503, 507, 400, 508, IndirectObject(1347, 0, 2848620776528), 510, 512, 1117, 513, IndirectObject(1327, 0, 2848620776528), 559, 560, 566, 561, IndirectObject(1330, 0, 2848620776528), 591, 592, 889, 593, IndirectObject(1343, 0, 2848620776528), 609, 613, 600, 614, 618, 924, 619, IndirectObject(1345, 0, 2848620776528), 622, 624, 567, 625, IndirectObject(1338, 0, 2848620776528), 627, 628, 567, 629, 630, 534, 631, IndirectObject(1348, 0, 2848620776528), 639, 641, 564, 642, IndirectObject(1320, 0, 2848620776528), 648, 649, 564, 650, IndirectObject(1340, 0, 2848620776528), 654, 658, 373, 659, 660, 332, 661, 662, 493, 663, IndirectObject(1346, 0, 2848620776528), 664, 665, 245, 666, IndirectObject(1351, 0, 2848620776528), 680, 681, 368, 682, IndirectObject(1321, 0, 2848620776528), 701, 702, 564, 703, IndirectObject(1331, 0, 2848620776528), 723, 724, 591, 725, IndirectObject(1322, 0, 2848620776528), 726, 727, 493, 728, IndirectObject(1323, 0, 2848620776528), 749, 750, 314, 751, IndirectObject(1325, 0, 2848620776528), 776, 777, 309, 778, IndirectObject(1332, 0, 2848620776528), 814, 815, 313, 816, IndirectObject(1333, 0, 2848620776528), 838, 839, 200, 840, 841, 279, 842, 843, 490, 844, IndirectObject(1359, 0, 2848620776528), 845, 846, 373, 847, 850, 396, 851, IndirectObject(1357, 0, 2848620776528), 853, 857, 375, 858, 859, 500, 860, IndirectObject(1365, 0, 2848620776528), 905, 906, 866, 907, IndirectObject(1376, 0, 2848620776528), 951, 952, 662, 953, IndirectObject(1370, 0, 2848620776528), 978, 979, 580, 980, IndirectObject(1382, 0, 2848620776528), 1000, 1001, 413, 1002, 1007, 750, 1008, IndirectObject(1371, 0, 2848620776528), 1045, 1047, 400, 1048, IndirectObject(1366, 0, 2848620776528), 1049, 1069, 1118, 1070, IndirectObject(1367, 0, 2848620776528), 1071, 1072, 580, 1073, IndirectObject(1368, 0, 2848620776528), 1075, 1077, 334, 1078, IndirectObject(1369, 0, 2848620776528), 1087, 1088, 304, 1089, 1090, 469, 1091, IndirectObject(1380, 0, 2848620776528), 1092, 1093, 580, 1094, IndirectObject(1364, 0, 2848620776528), 1096, 1097, 285, 1098, 1099, 328, 1100, 1101, 317, 1102, IndirectObject(1372, 0, 2848620776528), 1115, 1121, 540, 1122, IndirectObject(1377, 0, 2848620776528), 1130, 1142, 540, 1143, 1146, 334, 1147, 1148, 167, 1149, 1158, 334, 1159, 1160, 167, 1161, 1170, 334, 1171, 1172, 167, 1173, IndirectObject(1358, 0, 2848620776528), 1174, 1175, 167, 1176, IndirectObject(1379, 0, 2848620776528), 1177, 1189, 334, 1190, 1191, 167, 1192, 1211, 334, 1212, 1213, 167, 1214, IndirectObject(1352, 0, 2848620776528), 1217, 1218, 780, 1219, IndirectObject(1373, 0, 2848620776528), 1220, 1221, 0, 1222, IndirectObject(1381, 0, 2848620776528), 1240, 1242, 0, 1243, IndirectObject(1374, 0, 2848620776528), 1248, 1262, 400, 1263, IndirectObject(1375, 0, 2848620776528), 1281, 1282, 0, 1283, IndirectObject(1361, 0, 2848620776528), 1287, 1307, 1118, 1308, IndirectObject(1378, 0, 2848620776528), 1309, 1310, 418, 1311, IndirectObject(1362, 0, 2848620776528), 1313, 1317, 0, 1318, 1332, 400, 1333, IndirectObject(1383, 0, 2848620776528), 1334, 1337, 396, 1338, IndirectObject(1353, 0, 2848620776528), 1339, 1342, 396, 1343, 1344, 625, 1345, IndirectObject(1354, 0, 2848620776528), 1346, 1348, 400, 1349, IndirectObject(1363, 0, 2848620776528), 1350, 1351, 686, 1352, IndirectObject(1355, 0, 2848620776528), 1355, 1356, 400, 1357, IndirectObject(1356, 0, 2848620776528), 1366, 1367, 707, 1368, IndirectObject(1360, 0, 2848620776528), 1384, 1386, 400, 1387, IndirectObject(1384, 0, 2848620776528), 1391, 1392, 567, 1393, IndirectObject(1396, 0, 2848620776528), 1405, 1406, 482, 1407, IndirectObject(1401, 0, 2848620776528), 1411, 1412, 200, 1413, IndirectObject(1397, 0, 2848620776528), 1429, 1430, 0, 1431, 1436, 400, 1437, IndirectObject(1402, 0, 2848620776528), 1443, 1486, 0, 1487, 1489, 400, 1490, 1492, 0, 1493, IndirectObject(1407, 0, 2848620776528), 1494, 1521, 0, 1522, 1532, 694, 1533, IndirectObject(1408, 0, 2848620776528), 1534, 1551, 694, 1552, IndirectObject(1387, 0, 2848620776528), 1553, 1573, 694, 1574, 1575, 691, 1576, IndirectObject(1404, 0, 2848620776528), 1577, 1578, 933, 1579, IndirectObject(1415, 0, 2848620776528), 1580, 1581, 658, 1582, IndirectObject(1391, 0, 2848620776528), 1583, 1585, 658, 1586, 1590, 661, 1591, IndirectObject(1388, 0, 2848620776528), 1594, 1598, 760, 1599, IndirectObject(1393, 0, 2848620776528), 1601, 1602, 770, 1603, 1611, 575, 1612, IndirectObject(1392, 0, 2848620776528), 1613, 1626, 575, 1627, IndirectObject(1400, 0, 2848620776528), 1628, 1638, 575, 1639, IndirectObject(1409, 0, 2848620776528), 1640, 1641, 575, 1642, IndirectObject(1411, 0, 2848620776528), 1643, 1649, 726, 1650, 1651, 770, 1652, IndirectObject(1403, 0, 2848620776528), 1653, 1666, 770, 1667, IndirectObject(1412, 0, 2848620776528), 1668, 1677, 770, 1678, 1711, 296, 1712, IndirectObject(1405, 0, 2848620776528), 1713, 1714, 429, 1715, IndirectObject(1385, 0, 2848620776528), 1716, 1721, 685, 1722, 1723, 519, 1724, IndirectObject(1413, 0, 2848620776528), 1725, 1728, 519, 1729, IndirectObject(1394, 0, 2848620776528), 1731, 1735, 945, 1736, 1745, 770, 1746, IndirectObject(1406, 0, 2848620776528), 1748, 1756, 808, 1757, IndirectObject(1410, 0, 2848620776528), 1758, 1786, 808, 1787, IndirectObject(1390, 0, 2848620776528), 1788, 1791, 619, 1792, IndirectObject(1386, 0, 2848620776528), 1793, 1794, 619, 1795, IndirectObject(1414, 0, 2848620776528), 1796, 1804, 643, 1805, 1814, 548, 1815, 1819, 600, 1820, IndirectObject(1389, 0, 2848620776528), 1821, 1824, 600, 1825, 1846, 742, 1847, 1848, 694, 1849, 1854, 1051, 1855, 1858, 670, 1859, 1863, 648, 1864, IndirectObject(1395, 0, 2848620776528), 1865, 1870, 648, 1871, 1876, 647, 1877, 1878, 648, 1879, IndirectObject(1398, 0, 2848620776528), 1880, 1886, 605, 1887, 1899, 507, 1900, IndirectObject(1399, 0, 2848620776528), 1901, 1912, 507, 1913, IndirectObject(1419, 0, 2848620776528), 1915, 1919, 507, 1920, 1922, 809, 1923, 1925, 567, 1926, IndirectObject(1421, 0, 2848620776528), 1927, 1931, 482, 1932, IndirectObject(1429, 0, 2848620776528), 1935, 1938, 567, 1939, IndirectObject(1420, 0, 2848620776528), 1942, 1957, 534, 1958, IndirectObject(1418, 0, 2848620776528), 1959, 1960, 534, 1961, IndirectObject(1439, 0, 2848620776528), 1963, 1966, 534, 1967, IndirectObject(1442, 0, 2848620776528), 1968, 1970, 534, 1971, IndirectObject(1436, 0, 2848620776528), 1973, 1974, 600, 1975, IndirectObject(1417, 0, 2848620776528), 1976, 1979, 600, 1980, IndirectObject(1440, 0, 2848620776528), 1981, 1982, 924, 1983, IndirectObject(1447, 0, 2848620776528), 1986, 1987, 924, 1988, IndirectObject(1435, 0, 2848620776528), 1990, 1996, 528, 1997, 2001, 567, 2002, IndirectObject(1428, 0, 2848620776528), 2003, 2005, 567, 2006, 2012, 564, 2013, IndirectObject(1423, 0, 2848620776528), 2014, 2016, 254, 2017, IndirectObject(1422, 0, 2848620776528), 2018, 2027, 254, 2028, IndirectObject(1425, 0, 2848620776528), 2033, 2035, 254, 2036, IndirectObject(1424, 0, 2848620776528), 2040, 2044, 534, 2045, IndirectObject(1432, 0, 2848620776528), 2047, 2048, 248, 2049, IndirectObject(1441, 0, 2848620776528), 2050, 2053, 248, 2054, IndirectObject(1443, 0, 2848620776528), 2056, 2058, 837, 2059, IndirectObject(1434, 0, 2848620776528), 2061, 2069, 564, 2070, IndirectObject(1444, 0, 2848620776528), 2072, 2109, 574, 2110, IndirectObject(1437, 0, 2848620776528), 2111, 2114, 567, 2115, IndirectObject(1416, 0, 2848620776528), 2117, 2119, 373, 2120, IndirectObject(1445, 0, 2848620776528), 2121, 2123, 373, 2124, IndirectObject(1426, 0, 2848620776528), 2125, 2126, 373, 2127, 2136, 439, 2137, IndirectObject(1438, 0, 2848620776528), 2142, 2144, 372, 2145, IndirectObject(1446, 0, 2848620776528), 2146, 2157, 643, 2158, 2159, 671, 2160, 2161, 643, 2162, 2163, 965, 2164, IndirectObject(1427, 0, 2848620776528), 2165, 2167, 965, 2168, IndirectObject(1430, 0, 2848620776528), 2169, 2170, 965, 2171, IndirectObject(1431, 0, 2848620776528), 2174, 2175, 990, 2176, 2177, 965, 2178, 2184, 564, 2185, IndirectObject(1433, 0, 2848620776528), 2186, 2197, 564, 2198, IndirectObject(1459, 0, 2848620776528), 2199, 2200, 564, 2201, 2202, 528, 2203, IndirectObject(1470, 0, 2848620776528), 2204, 2210, 802, 2211, 2213, 522, 2214, IndirectObject(1458, 0, 2848620776528), 2215, 2229, 527, 2230, 2235, 459, 2236, IndirectObject(1460, 0, 2848620776528), 2237, 2238, 285, 2239, IndirectObject(1453, 0, 2848620776528), 2245, 2246, 294, 2247, IndirectObject(1461, 0, 2848620776528), 2253, 2255, 314, 2256, IndirectObject(1454, 0, 2848620776528), 2271, 2289, 815, 2290, 2315, 602, 2316, 2324, 457, 2325, IndirectObject(1462, 0, 2848620776528), 2327, 2349, 593, 2350, 2351, 280, 2352, IndirectObject(1469, 0, 2848620776528), 2354, 2369, 280, 2370, IndirectObject(1468, 0, 2848620776528), 2371, 2372, 569, 2373, 2391, 559, 2392, IndirectObject(1455, 0, 2848620776528), 2394, 2417, 793, 2418, IndirectObject(1463, 0, 2848620776528), 2420, 2421, 1068, 2422, IndirectObject(1451, 0, 2848620776528), 2423, 2426, 770, 2427, IndirectObject(1449, 0, 2848620776528), 2429, 2432, 644, 2433, IndirectObject(1448, 0, 2848620776528), 2439, 2440, 817, 2441, IndirectObject(1456, 0, 2848620776528), 2444, 2448, 583, 2449, IndirectObject(1464, 0, 2848620776528), 2466, 2469, 0, 2470, IndirectObject(1457, 0, 2848620776528), 2472, 2473, 580, 2474, 2477, 860, 2478, IndirectObject(1465, 0, 2848620776528), 2479, 2483, 869, 2484, 2488, 625, 2489, 2493, 656, 2494, 2549, 0, 2550, IndirectObject(1466, 0, 2848620776528), 2551, 2600, 0, 2601, 2602, 591, 2603, IndirectObject(1467, 0, 2848620776528), 2631, 2632, 0, 2633, IndirectObject(1450, 0, 2848620776528), 2634, 2643, 657, 2644, IndirectObject(1471, 0, 2848620776528), 2650, 2656, 0, 2657, IndirectObject(1472, 0, 2848620776528)]\n",
      "100%|██████████| 149/149 [05:35<00:00,  2.25s/it]"
     ]
    },
    {
     "name": "stdout",
     "output_type": "stream",
     "text": [
      "['Could not read c:\\\\Users\\\\allie\\\\Documents\\\\GitHub\\\\policy-classifier/policy_scraping/policy_scraping/outputs/forestry/full\\\\33120105aa142c885afe85a8b1fee7dfc4c97b32.pdf due to PyCryptodome is required for AES algorithm', 'Could not read c:\\\\Users\\\\allie\\\\Documents\\\\GitHub\\\\policy-classifier/policy_scraping/policy_scraping/outputs/forestry/full\\\\5d043c94be7ac309e00175ed1228e4cf31b59334.pdf due to PyCryptodome is required for AES algorithm', 'Could not read c:\\\\Users\\\\allie\\\\Documents\\\\GitHub\\\\policy-classifier/policy_scraping/policy_scraping/outputs/forestry/full\\\\7ba4749e076cd2d74d5928777773acddcc50a247.pdf due to PyCryptodome is required for AES algorithm', 'Could not read c:\\\\Users\\\\allie\\\\Documents\\\\GitHub\\\\policy-classifier/policy_scraping/policy_scraping/outputs/forestry/full\\\\bd0e2215bffb644e8c4b3a7df2b26f3d4adabbe3.xlsx due to EOF marker not found', 'Could not read c:\\\\Users\\\\allie\\\\Documents\\\\GitHub\\\\policy-classifier/policy_scraping/policy_scraping/outputs/forestry/full\\\\ccca81a1426ab483dc658571aa8f7a145dbbfd31.pdf due to PyCryptodome is required for AES algorithm', 'Could not read c:\\\\Users\\\\allie\\\\Documents\\\\GitHub\\\\policy-classifier/policy_scraping/policy_scraping/outputs/forestry/full\\\\eb10c400311c6edaa299763a290e742a261f7671.pdf due to PyCryptodome is required for AES algorithm', 'Could not read c:\\\\Users\\\\allie\\\\Documents\\\\GitHub\\\\policy-classifier/policy_scraping/policy_scraping/outputs/forestry/full\\\\f36a9a0cd0189513661a8e678b04e63c4d0111d8.ppt due to EOF marker not found']\n",
      "Successfully extracted 142/149 pdfs\n"
     ]
    },
    {
     "name": "stderr",
     "output_type": "stream",
     "text": [
      "\n"
     ]
    }
   ],
   "source": [
    "from populate_corpora.pdfs_to_jsons import pdfs_to_txt_dct\n",
    "pdf_dict = pdfs_to_txt_dct(FILE_DIR+\"/forestry/full\") # or whatever your policy directory is"
   ]
  },
  {
   "cell_type": "markdown",
   "metadata": {},
   "source": [
    "For the purposes of this project, we only want the texts of the PDFs in cleaned sentences anyways. So we'll go ahead and extract/clean those sentences, then load them into the dictionary format that doccano (labeling platform) uses. Finally, if we want, we can use a simple keyword search to prelabel some of the sentences with a \"incentive class mention\" label."
   ]
  },
  {
   "cell_type": "code",
   "execution_count": 30,
   "metadata": {},
   "outputs": [
    {
     "name": "stderr",
     "output_type": "stream",
     "text": [
      "100%|██████████| 134/134 [00:07<00:00, 17.25it/s]\n"
     ]
    },
    {
     "name": "stdout",
     "output_type": "stream",
     "text": [
      "Number of error files: 0\n"
     ]
    }
   ],
   "source": [
    "import nltk\n",
    "from populate_corpora.json_cleaning import get_clean_text_sents, format_sents_for_doccano, prelabeling\n",
    "EN_TOKENIZER = nltk.data.load(\"tokenizers/punkt/english.pickle\") # need tokenizer for our text cleaning\n",
    "clean_sents= get_clean_text_sents(pdf_dict, EN_TOKENIZER)\n",
    "doccano_dict = format_sents_for_doccano(clean_sents)\n",
    "prelab_doccano_dict = prelabeling(doccano_dict)"
   ]
  },
  {
   "cell_type": "markdown",
   "metadata": {},
   "source": [
    "Now we can download this dictionary as a json to import into our doccano instance for labeling."
   ]
  },
  {
   "cell_type": "code",
   "execution_count": 32,
   "metadata": {},
   "outputs": [],
   "source": [
    "with open(FILE_DIR+f\"/ready_to_label.json\", 'w', encoding=\"utf-8\") as outfile:\n",
    "    json.dump(prelab_doccano_dict, outfile, ensure_ascii=False, indent=4)"
   ]
  },
  {
   "cell_type": "markdown",
   "metadata": {},
   "source": [
    "# 2. Labeling the Data"
   ]
  },
  {
   "cell_type": "markdown",
   "metadata": {},
   "source": [
    "We will now load the labeled dataset "
   ]
  },
  {
   "cell_type": "code",
   "execution_count": null,
   "metadata": {},
   "outputs": [],
   "source": []
  }
 ],
 "metadata": {
  "kernelspec": {
   "display_name": "Python 3",
   "language": "python",
   "name": "python3"
  },
  "language_info": {
   "codemirror_mode": {
    "name": "ipython",
    "version": 3
   },
   "file_extension": ".py",
   "mimetype": "text/x-python",
   "name": "python",
   "nbconvert_exporter": "python",
   "pygments_lexer": "ipython3",
   "version": "3.11.7"
  }
 },
 "nbformat": 4,
 "nbformat_minor": 2
}

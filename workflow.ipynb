{
 "cells": [
  {
   "cell_type": "markdown",
   "metadata": {},
   "source": [
    "# Workflow\n",
    "This document demonstrates the flow of the pipeline and functions.\n",
    "\n",
    "All time estimates based on an NVIDIA GeForce RTX 3080 Ti Laptop GPU"
   ]
  },
  {
   "cell_type": "markdown",
   "metadata": {},
   "source": [
    "# 1. Getting the Data"
   ]
  },
  {
   "cell_type": "markdown",
   "metadata": {},
   "source": [
    "First we will scrape policies from the gov.ie website.\n",
    "\n",
    "In your command line, ``cd`` into this repository.\n",
    "\n",
    "``cd`` into the ``policy_scraping`` task directory, then ``cd`` again into the ``policy_scraping`` scrapy environment."
   ]
  },
  {
   "cell_type": "code",
   "execution_count": 1,
   "metadata": {},
   "outputs": [],
   "source": [
    "import os, json\n",
    "cwd = os.getcwd() # should be base directory of repository\n",
    "os.chdir(cwd+\"/policy_scraping/policy_scraping\")"
   ]
  },
  {
   "cell_type": "markdown",
   "metadata": {},
   "source": [
    "Run ``scrapy crawl goviefor -O ../outputs/goviefor.json`` (or you can change the -O argument to whatever you would prefer the output file information to be).\n",
    "\n",
    "This command will generate a json containing the metadata about all the policies as well as download all files to the same outputs directory under ``forestry/full``."
   ]
  },
  {
   "cell_type": "code",
   "execution_count": 2,
   "metadata": {},
   "outputs": [
    {
     "data": {
      "text/plain": [
       "['2025-08-07 23:14:43 [scrapy.utils.log] INFO: Scrapy 2.8.0 started (bot: policy_scraping)',\n",
       " '2025-08-07 23:14:43 [scrapy.utils.log] INFO: Versions: lxml 5.1.0.0, libxml2 2.10.3, cssselect 1.1.0, parsel 1.6.0, w3lib 1.21.0, Twisted 22.10.0, Python 3.11.5 | packaged by Anaconda, Inc. | (main, Sep 11 2023, 13:26:23) [MSC v.1916 64 bit (AMD64)], pyOpenSSL 23.2.0 (OpenSSL 3.2.1 30 Jan 2024), cryptography 42.0.2, Platform Windows-10-10.0.26100-SP0',\n",
       " '2025-08-07 23:14:43 [scrapy.crawler] INFO: Overridden settings:',\n",
       " \"{'BOT_NAME': 'policy_scraping',\",\n",
       " \" 'FEED_EXPORT_ENCODING': 'utf-8',\",\n",
       " \" 'NEWSPIDER_MODULE': 'policy_scraping.spiders',\",\n",
       " \" 'REQUEST_FINGERPRINTER_IMPLEMENTATION': '2.7',\",\n",
       " \" 'ROBOTSTXT_OBEY': True,\",\n",
       " \" 'SPIDER_MODULES': ['policy_scraping.spiders'],\",\n",
       " \" 'TWISTED_REACTOR': 'twisted.internet.asyncioreactor.AsyncioSelectorReactor',\",\n",
       " \" 'USER_AGENT': 'Mozilla/5.0 (X11; Ubuntu; Linux x86_64; rv:66.0) '\",\n",
       " \"               'Gecko/20100101 Firefox/66.0'}\",\n",
       " '2025-08-07 23:14:43 [scrapy.extensions.telnet] INFO: Telnet Password: 4d46007c46f73606',\n",
       " '2025-08-07 23:14:43 [scrapy.middleware] INFO: Enabled extensions:',\n",
       " \"['scrapy.extensions.corestats.CoreStats',\",\n",
       " \" 'scrapy.extensions.telnet.TelnetConsole',\",\n",
       " \" 'scrapy.extensions.feedexport.FeedExporter',\",\n",
       " \" 'scrapy.extensions.logstats.LogStats']\",\n",
       " '2025-08-07 23:14:44 [scrapy.middleware] INFO: Enabled downloader middlewares:',\n",
       " \"['scrapy.downloadermiddlewares.robotstxt.RobotsTxtMiddleware',\",\n",
       " \" 'scrapy.downloadermiddlewares.httpauth.HttpAuthMiddleware',\",\n",
       " \" 'scrapy.downloadermiddlewares.downloadtimeout.DownloadTimeoutMiddleware',\",\n",
       " \" 'scrapy.downloadermiddlewares.defaultheaders.DefaultHeadersMiddleware',\",\n",
       " \" 'scrapy.downloadermiddlewares.useragent.UserAgentMiddleware',\",\n",
       " \" 'scrapy.downloadermiddlewares.retry.RetryMiddleware',\",\n",
       " \" 'scrapy.downloadermiddlewares.redirect.MetaRefreshMiddleware',\",\n",
       " \" 'scrapy.downloadermiddlewares.httpcompression.HttpCompressionMiddleware',\",\n",
       " \" 'scrapy.downloadermiddlewares.redirect.RedirectMiddleware',\",\n",
       " \" 'scrapy.downloadermiddlewares.cookies.CookiesMiddleware',\",\n",
       " \" 'scrapy.downloadermiddlewares.httpproxy.HttpProxyMiddleware',\",\n",
       " \" 'scrapy.downloadermiddlewares.stats.DownloaderStats']\",\n",
       " '2025-08-07 23:14:44 [scrapy.middleware] INFO: Enabled spider middlewares:',\n",
       " \"['scrapy.spidermiddlewares.httperror.HttpErrorMiddleware',\",\n",
       " \" 'scrapy.spidermiddlewares.offsite.OffsiteMiddleware',\",\n",
       " \" 'scrapy.spidermiddlewares.referer.RefererMiddleware',\",\n",
       " \" 'scrapy.spidermiddlewares.urllength.UrlLengthMiddleware',\",\n",
       " \" 'scrapy.spidermiddlewares.depth.DepthMiddleware']\",\n",
       " '2025-08-07 23:14:44 [scrapy.middleware] INFO: Enabled item pipelines:',\n",
       " \"['scrapy.pipelines.files.FilesPipeline']\",\n",
       " '2025-08-07 23:14:44 [scrapy.core.engine] INFO: Spider opened',\n",
       " '2025-08-07 23:14:44 [scrapy.extensions.logstats] INFO: Crawled 0 pages (at 0 pages/min), scraped 0 items (at 0 items/min)',\n",
       " '2025-08-07 23:14:44 [scrapy.extensions.telnet] INFO: Telnet console listening on 127.0.0.1:6023',\n",
       " '2025-08-07 23:14:46 [scrapy.core.engine] INFO: Closing spider (finished)',\n",
       " '2025-08-07 23:14:46 [scrapy.statscollectors] INFO: Dumping Scrapy stats:',\n",
       " \"{'downloader/exception_count': 1110,\",\n",
       " \" 'downloader/exception_type_count/scrapy.exceptions.IgnoreRequest': 1110,\",\n",
       " \" 'downloader/request_bytes': 546,\",\n",
       " \" 'downloader/request_count': 2,\",\n",
       " \" 'downloader/request_method_count/GET': 2,\",\n",
       " \" 'downloader/response_bytes': 520531,\",\n",
       " \" 'downloader/response_count': 2,\",\n",
       " \" 'downloader/response_status_count/200': 2,\",\n",
       " \" 'elapsed_time_seconds': 1.686299,\",\n",
       " \" 'finish_reason': 'finished',\",\n",
       " \" 'finish_time': datetime.datetime(2025, 8, 7, 22, 14, 46, 11599),\",\n",
       " \" 'log_count/INFO': 10,\",\n",
       " \" 'request_depth_max': 1,\",\n",
       " \" 'response_received_count': 2,\",\n",
       " \" 'robotstxt/forbidden': 1110,\",\n",
       " \" 'robotstxt/request_count': 1,\",\n",
       " \" 'robotstxt/response_count': 1,\",\n",
       " \" 'robotstxt/response_status_count/200': 1,\",\n",
       " \" 'scheduler/dequeued': 1111,\",\n",
       " \" 'scheduler/dequeued/memory': 1111,\",\n",
       " \" 'scheduler/enqueued': 1111,\",\n",
       " \" 'scheduler/enqueued/memory': 1111,\",\n",
       " \" 'start_time': datetime.datetime(2025, 8, 7, 22, 14, 44, 325300)}\",\n",
       " '2025-08-07 23:14:46 [scrapy.core.engine] INFO: Spider closed (finished)']"
      ]
     },
     "execution_count": 2,
     "metadata": {},
     "output_type": "execute_result"
    }
   ],
   "source": [
    "!! scrapy crawl goviefor -O ../outputs/goviefor.json"
   ]
  },
  {
   "cell_type": "markdown",
   "metadata": {},
   "source": [
    "Next we could consolidate the metadata and text of the policy PDFs into one dictionary for future reference, but if you don't need this step to use the pipeline. This is simply a feature carried over from the original pipeline (Firebanks-Quevedo et al., 2021)"
   ]
  },
  {
   "cell_type": "code",
   "execution_count": 2,
   "metadata": {},
   "outputs": [],
   "source": [
    "os.chdir(cwd) # back to base directory\n",
    "import json\n",
    "from populate_corpora.pdfs_to_jsons import scrp_itm_to_fulltxt\n",
    "FILE_DIR= cwd+\"/policy_scraping/policy_scraping/outputs\" # or whatever output directory you gave the scraper for its output json"
   ]
  },
  {
   "cell_type": "code",
   "execution_count": null,
   "metadata": {},
   "outputs": [],
   "source": [
    "with open(cwd+\"/policy_scraping/outputs/goviefor.json\",\"r\", encoding=\"utf-8\") as f:\n",
    "    metad = json.load(f)\n",
    "pdf_dict = scrp_itm_to_fulltxt(metad, FILE_DIR+\"/forestry/full\")"
   ]
  },
  {
   "cell_type": "markdown",
   "metadata": {},
   "source": [
    "If you have your own collection of PDFs to process and don't have a metadata file, you can use this next function on just the file directory."
   ]
  },
  {
   "cell_type": "code",
   "execution_count": null,
   "metadata": {},
   "outputs": [
    {
     "name": "stderr",
     "output_type": "stream",
     "text": [
      " 15%|█▍        | 22/149 [00:31<03:26,  1.62s/it]unknown widths : \n",
      "[0, IndirectObject(1289, 0, 2324626836048), 7, 8, 661, 9, IndirectObject(1291, 0, 2324626836048), 11, 12, 575, 13, IndirectObject(1306, 0, 2324626836048), 17, 18, 296, 19, IndirectObject(1307, 0, 2324626836048), 25, 26, 770, 27, 28, 808, 29, IndirectObject(1310, 0, 2324626836048), 34, 35, 548, 36, IndirectObject(1308, 0, 2324626836048), 38, 39, 742, 40, IndirectObject(1318, 0, 2324626836048), 45, 46, 507, 47, IndirectObject(1305, 0, 2324626836048), 55, 56, 567, 57, IndirectObject(1313, 0, 2324626836048), 59, 60, 534, 61, IndirectObject(1300, 0, 2324626836048), 67, 75, 600, 76, 84, 924, 85, IndirectObject(1301, 0, 2324626836048), 95, 97, 564, 98, 99, 254, 100, IndirectObject(1312, 0, 2324626836048), 104, 105, 534, 106, IndirectObject(1311, 0, 2324626836048), 109, 110, 564, 111, 112, 574, 113, IndirectObject(1296, 0, 2324626836048), 114, 115, 568, 116, IndirectObject(1317, 0, 2324626836048), 118, 119, 439, 120, IndirectObject(1298, 0, 2324626836048), 127, 128, 644, 129, IndirectObject(1315, 0, 2324626836048), 131, 132, 965, 133, 134, 564, 135, IndirectObject(1299, 0, 2324626836048), 151, 152, 156, 153, IndirectObject(1302, 0, 2324626836048), 157, 158, 314, 159, IndirectObject(1314, 0, 2324626836048), 169, 176, 400, 177, IndirectObject(1316, 0, 2324626836048), 178, 197, 400, 198, IndirectObject(1309, 0, 2324626836048), 211, 212, 559, 213, IndirectObject(1319, 0, 2324626836048), 230, 231, 773, 232, IndirectObject(1292, 0, 2324626836048), 235, 236, 400, 237, 238, 225, 239, IndirectObject(1293, 0, 2324626836048), 240, 241, 541, 242, IndirectObject(1294, 0, 2324626836048), 263, 264, 668, 265, IndirectObject(1295, 0, 2324626836048), 273, 274, 420, 275, IndirectObject(1303, 0, 2324626836048), 298, 299, 487, 300, IndirectObject(1297, 0, 2324626836048), 304, 305, 400, 306, IndirectObject(1304, 0, 2324626836048), 314, 315, 220, 316, 317, 386, 318, IndirectObject(1335, 0, 2324626836048), 322, 323, 455, 324, IndirectObject(1336, 0, 2324626836048), 333, 335, 274, 336, 337, 313, 338, 339, 306, 340, IndirectObject(1339, 0, 2324626836048), 341, 342, 580, 343, IndirectObject(1337, 0, 2324626836048), 345, 346, 580, 347, IndirectObject(1350, 0, 2324626836048), 351, 353, 824, 354, 355, 756, 356, IndirectObject(1334, 0, 2324626836048), 357, 358, 580, 359, IndirectObject(1344, 0, 2324626836048), 360, 363, 580, 364, IndirectObject(1328, 0, 2324626836048), 378, 387, 540, 388, IndirectObject(1329, 0, 2324626836048), 396, 403, 580, 404, 416, 334, 417, 418, 167, 419, 428, 334, 429, IndirectObject(1342, 0, 2324626836048), 432, 444, 580, 445, IndirectObject(1341, 0, 2324626836048), 456, 461, 750, 463, IndirectObject(1324, 0, 2324626836048), 464, 482, 400, 483, IndirectObject(1349, 0, 2324626836048), 488, 489, 662, 490, IndirectObject(1326, 0, 2324626836048), 503, 507, 400, 508, IndirectObject(1347, 0, 2324626836048), 510, 512, 1117, 513, IndirectObject(1327, 0, 2324626836048), 559, 560, 566, 561, IndirectObject(1330, 0, 2324626836048), 591, 592, 889, 593, IndirectObject(1343, 0, 2324626836048), 609, 613, 600, 614, 618, 924, 619, IndirectObject(1345, 0, 2324626836048), 622, 624, 567, 625, IndirectObject(1338, 0, 2324626836048), 627, 628, 567, 629, 630, 534, 631, IndirectObject(1348, 0, 2324626836048), 639, 641, 564, 642, IndirectObject(1320, 0, 2324626836048), 648, 649, 564, 650, IndirectObject(1340, 0, 2324626836048), 654, 658, 373, 659, 660, 332, 661, 662, 493, 663, IndirectObject(1346, 0, 2324626836048), 664, 665, 245, 666, IndirectObject(1351, 0, 2324626836048), 680, 681, 368, 682, IndirectObject(1321, 0, 2324626836048), 701, 702, 564, 703, IndirectObject(1331, 0, 2324626836048), 723, 724, 591, 725, IndirectObject(1322, 0, 2324626836048), 726, 727, 493, 728, IndirectObject(1323, 0, 2324626836048), 749, 750, 314, 751, IndirectObject(1325, 0, 2324626836048), 776, 777, 309, 778, IndirectObject(1332, 0, 2324626836048), 814, 815, 313, 816, IndirectObject(1333, 0, 2324626836048), 838, 839, 200, 840, 841, 279, 842, 843, 490, 844, IndirectObject(1359, 0, 2324626836048), 845, 846, 373, 847, 850, 396, 851, IndirectObject(1357, 0, 2324626836048), 853, 857, 375, 858, 859, 500, 860, IndirectObject(1365, 0, 2324626836048), 905, 906, 866, 907, IndirectObject(1376, 0, 2324626836048), 951, 952, 662, 953, IndirectObject(1370, 0, 2324626836048), 978, 979, 580, 980, IndirectObject(1382, 0, 2324626836048), 1000, 1001, 413, 1002, 1007, 750, 1008, IndirectObject(1371, 0, 2324626836048), 1045, 1047, 400, 1048, IndirectObject(1366, 0, 2324626836048), 1049, 1069, 1118, 1070, IndirectObject(1367, 0, 2324626836048), 1071, 1072, 580, 1073, IndirectObject(1368, 0, 2324626836048), 1075, 1077, 334, 1078, IndirectObject(1369, 0, 2324626836048), 1087, 1088, 304, 1089, 1090, 469, 1091, IndirectObject(1380, 0, 2324626836048), 1092, 1093, 580, 1094, IndirectObject(1364, 0, 2324626836048), 1096, 1097, 285, 1098, 1099, 328, 1100, 1101, 317, 1102, IndirectObject(1372, 0, 2324626836048), 1115, 1121, 540, 1122, IndirectObject(1377, 0, 2324626836048), 1130, 1142, 540, 1143, 1146, 334, 1147, 1148, 167, 1149, 1158, 334, 1159, 1160, 167, 1161, 1170, 334, 1171, 1172, 167, 1173, IndirectObject(1358, 0, 2324626836048), 1174, 1175, 167, 1176, IndirectObject(1379, 0, 2324626836048), 1177, 1189, 334, 1190, 1191, 167, 1192, 1211, 334, 1212, 1213, 167, 1214, IndirectObject(1352, 0, 2324626836048), 1217, 1218, 780, 1219, IndirectObject(1373, 0, 2324626836048), 1220, 1221, 0, 1222, IndirectObject(1381, 0, 2324626836048), 1240, 1242, 0, 1243, IndirectObject(1374, 0, 2324626836048), 1248, 1262, 400, 1263, IndirectObject(1375, 0, 2324626836048), 1281, 1282, 0, 1283, IndirectObject(1361, 0, 2324626836048), 1287, 1307, 1118, 1308, IndirectObject(1378, 0, 2324626836048), 1309, 1310, 418, 1311, IndirectObject(1362, 0, 2324626836048), 1313, 1317, 0, 1318, 1332, 400, 1333, IndirectObject(1383, 0, 2324626836048), 1334, 1337, 396, 1338, IndirectObject(1353, 0, 2324626836048), 1339, 1342, 396, 1343, 1344, 625, 1345, IndirectObject(1354, 0, 2324626836048), 1346, 1348, 400, 1349, IndirectObject(1363, 0, 2324626836048), 1350, 1351, 686, 1352, IndirectObject(1355, 0, 2324626836048), 1355, 1356, 400, 1357, IndirectObject(1356, 0, 2324626836048), 1366, 1367, 707, 1368, IndirectObject(1360, 0, 2324626836048), 1384, 1386, 400, 1387, IndirectObject(1384, 0, 2324626836048), 1391, 1392, 567, 1393, IndirectObject(1396, 0, 2324626836048), 1405, 1406, 482, 1407, IndirectObject(1401, 0, 2324626836048), 1411, 1412, 200, 1413, IndirectObject(1397, 0, 2324626836048), 1429, 1430, 0, 1431, 1436, 400, 1437, IndirectObject(1402, 0, 2324626836048), 1443, 1486, 0, 1487, 1489, 400, 1490, 1492, 0, 1493, IndirectObject(1407, 0, 2324626836048), 1494, 1521, 0, 1522, 1532, 694, 1533, IndirectObject(1408, 0, 2324626836048), 1534, 1551, 694, 1552, IndirectObject(1387, 0, 2324626836048), 1553, 1573, 694, 1574, 1575, 691, 1576, IndirectObject(1404, 0, 2324626836048), 1577, 1578, 933, 1579, IndirectObject(1415, 0, 2324626836048), 1580, 1581, 658, 1582, IndirectObject(1391, 0, 2324626836048), 1583, 1585, 658, 1586, 1590, 661, 1591, IndirectObject(1388, 0, 2324626836048), 1594, 1598, 760, 1599, IndirectObject(1393, 0, 2324626836048), 1601, 1602, 770, 1603, 1611, 575, 1612, IndirectObject(1392, 0, 2324626836048), 1613, 1626, 575, 1627, IndirectObject(1400, 0, 2324626836048), 1628, 1638, 575, 1639, IndirectObject(1409, 0, 2324626836048), 1640, 1641, 575, 1642, IndirectObject(1411, 0, 2324626836048), 1643, 1649, 726, 1650, 1651, 770, 1652, IndirectObject(1403, 0, 2324626836048), 1653, 1666, 770, 1667, IndirectObject(1412, 0, 2324626836048), 1668, 1677, 770, 1678, 1711, 296, 1712, IndirectObject(1405, 0, 2324626836048), 1713, 1714, 429, 1715, IndirectObject(1385, 0, 2324626836048), 1716, 1721, 685, 1722, 1723, 519, 1724, IndirectObject(1413, 0, 2324626836048), 1725, 1728, 519, 1729, IndirectObject(1394, 0, 2324626836048), 1731, 1735, 945, 1736, 1745, 770, 1746, IndirectObject(1406, 0, 2324626836048), 1748, 1756, 808, 1757, IndirectObject(1410, 0, 2324626836048), 1758, 1786, 808, 1787, IndirectObject(1390, 0, 2324626836048), 1788, 1791, 619, 1792, IndirectObject(1386, 0, 2324626836048), 1793, 1794, 619, 1795, IndirectObject(1414, 0, 2324626836048), 1796, 1804, 643, 1805, 1814, 548, 1815, 1819, 600, 1820, IndirectObject(1389, 0, 2324626836048), 1821, 1824, 600, 1825, 1846, 742, 1847, 1848, 694, 1849, 1854, 1051, 1855, 1858, 670, 1859, 1863, 648, 1864, IndirectObject(1395, 0, 2324626836048), 1865, 1870, 648, 1871, 1876, 647, 1877, 1878, 648, 1879, IndirectObject(1398, 0, 2324626836048), 1880, 1886, 605, 1887, 1899, 507, 1900, IndirectObject(1399, 0, 2324626836048), 1901, 1912, 507, 1913, IndirectObject(1419, 0, 2324626836048), 1915, 1919, 507, 1920, 1922, 809, 1923, 1925, 567, 1926, IndirectObject(1421, 0, 2324626836048), 1927, 1931, 482, 1932, IndirectObject(1429, 0, 2324626836048), 1935, 1938, 567, 1939, IndirectObject(1420, 0, 2324626836048), 1942, 1957, 534, 1958, IndirectObject(1418, 0, 2324626836048), 1959, 1960, 534, 1961, IndirectObject(1439, 0, 2324626836048), 1963, 1966, 534, 1967, IndirectObject(1442, 0, 2324626836048), 1968, 1970, 534, 1971, IndirectObject(1436, 0, 2324626836048), 1973, 1974, 600, 1975, IndirectObject(1417, 0, 2324626836048), 1976, 1979, 600, 1980, IndirectObject(1440, 0, 2324626836048), 1981, 1982, 924, 1983, IndirectObject(1447, 0, 2324626836048), 1986, 1987, 924, 1988, IndirectObject(1435, 0, 2324626836048), 1990, 1996, 528, 1997, 2001, 567, 2002, IndirectObject(1428, 0, 2324626836048), 2003, 2005, 567, 2006, 2012, 564, 2013, IndirectObject(1423, 0, 2324626836048), 2014, 2016, 254, 2017, IndirectObject(1422, 0, 2324626836048), 2018, 2027, 254, 2028, IndirectObject(1425, 0, 2324626836048), 2033, 2035, 254, 2036, IndirectObject(1424, 0, 2324626836048), 2040, 2044, 534, 2045, IndirectObject(1432, 0, 2324626836048), 2047, 2048, 248, 2049, IndirectObject(1441, 0, 2324626836048), 2050, 2053, 248, 2054, IndirectObject(1443, 0, 2324626836048), 2056, 2058, 837, 2059, IndirectObject(1434, 0, 2324626836048), 2061, 2069, 564, 2070, IndirectObject(1444, 0, 2324626836048), 2072, 2109, 574, 2110, IndirectObject(1437, 0, 2324626836048), 2111, 2114, 567, 2115, IndirectObject(1416, 0, 2324626836048), 2117, 2119, 373, 2120, IndirectObject(1445, 0, 2324626836048), 2121, 2123, 373, 2124, IndirectObject(1426, 0, 2324626836048), 2125, 2126, 373, 2127, 2136, 439, 2137, IndirectObject(1438, 0, 2324626836048), 2142, 2144, 372, 2145, IndirectObject(1446, 0, 2324626836048), 2146, 2157, 643, 2158, 2159, 671, 2160, 2161, 643, 2162, 2163, 965, 2164, IndirectObject(1427, 0, 2324626836048), 2165, 2167, 965, 2168, IndirectObject(1430, 0, 2324626836048), 2169, 2170, 965, 2171, IndirectObject(1431, 0, 2324626836048), 2174, 2175, 990, 2176, 2177, 965, 2178, 2184, 564, 2185, IndirectObject(1433, 0, 2324626836048), 2186, 2197, 564, 2198, IndirectObject(1459, 0, 2324626836048), 2199, 2200, 564, 2201, 2202, 528, 2203, IndirectObject(1470, 0, 2324626836048), 2204, 2210, 802, 2211, 2213, 522, 2214, IndirectObject(1458, 0, 2324626836048), 2215, 2229, 527, 2230, 2235, 459, 2236, IndirectObject(1460, 0, 2324626836048), 2237, 2238, 285, 2239, IndirectObject(1453, 0, 2324626836048), 2245, 2246, 294, 2247, IndirectObject(1461, 0, 2324626836048), 2253, 2255, 314, 2256, IndirectObject(1454, 0, 2324626836048), 2271, 2289, 815, 2290, 2315, 602, 2316, 2324, 457, 2325, IndirectObject(1462, 0, 2324626836048), 2327, 2349, 593, 2350, 2351, 280, 2352, IndirectObject(1469, 0, 2324626836048), 2354, 2369, 280, 2370, IndirectObject(1468, 0, 2324626836048), 2371, 2372, 569, 2373, 2391, 559, 2392, IndirectObject(1455, 0, 2324626836048), 2394, 2417, 793, 2418, IndirectObject(1463, 0, 2324626836048), 2420, 2421, 1068, 2422, IndirectObject(1451, 0, 2324626836048), 2423, 2426, 770, 2427, IndirectObject(1449, 0, 2324626836048), 2429, 2432, 644, 2433, IndirectObject(1448, 0, 2324626836048), 2439, 2440, 817, 2441, IndirectObject(1456, 0, 2324626836048), 2444, 2448, 583, 2449, IndirectObject(1464, 0, 2324626836048), 2466, 2469, 0, 2470, IndirectObject(1457, 0, 2324626836048), 2472, 2473, 580, 2474, 2477, 860, 2478, IndirectObject(1465, 0, 2324626836048), 2479, 2483, 869, 2484, 2488, 625, 2489, 2493, 656, 2494, 2549, 0, 2550, IndirectObject(1466, 0, 2324626836048), 2551, 2600, 0, 2601, 2602, 591, 2603, IndirectObject(1467, 0, 2324626836048), 2631, 2632, 0, 2633, IndirectObject(1450, 0, 2324626836048), 2634, 2643, 657, 2644, IndirectObject(1471, 0, 2324626836048), 2650, 2656, 0, 2657, IndirectObject(1472, 0, 2324626836048)]\n",
      "100%|██████████| 149/149 [06:48<00:00,  2.74s/it]"
     ]
    },
    {
     "name": "stdout",
     "output_type": "stream",
     "text": [
      "['Could not read c:\\\\Users\\\\allie\\\\Documents\\\\GitHub\\\\policy-classifier/policy_scraping/policy_scraping/outputs/forestry/full\\\\33120105aa142c885afe85a8b1fee7dfc4c97b32.pdf due to PyCryptodome is required for AES algorithm', 'Could not read c:\\\\Users\\\\allie\\\\Documents\\\\GitHub\\\\policy-classifier/policy_scraping/policy_scraping/outputs/forestry/full\\\\5d043c94be7ac309e00175ed1228e4cf31b59334.pdf due to PyCryptodome is required for AES algorithm', 'Could not read c:\\\\Users\\\\allie\\\\Documents\\\\GitHub\\\\policy-classifier/policy_scraping/policy_scraping/outputs/forestry/full\\\\7ba4749e076cd2d74d5928777773acddcc50a247.pdf due to PyCryptodome is required for AES algorithm', 'Could not read c:\\\\Users\\\\allie\\\\Documents\\\\GitHub\\\\policy-classifier/policy_scraping/policy_scraping/outputs/forestry/full\\\\bd0e2215bffb644e8c4b3a7df2b26f3d4adabbe3.xlsx due to EOF marker not found', 'Could not read c:\\\\Users\\\\allie\\\\Documents\\\\GitHub\\\\policy-classifier/policy_scraping/policy_scraping/outputs/forestry/full\\\\ccca81a1426ab483dc658571aa8f7a145dbbfd31.pdf due to PyCryptodome is required for AES algorithm', 'Could not read c:\\\\Users\\\\allie\\\\Documents\\\\GitHub\\\\policy-classifier/policy_scraping/policy_scraping/outputs/forestry/full\\\\eb10c400311c6edaa299763a290e742a261f7671.pdf due to PyCryptodome is required for AES algorithm', 'Could not read c:\\\\Users\\\\allie\\\\Documents\\\\GitHub\\\\policy-classifier/policy_scraping/policy_scraping/outputs/forestry/full\\\\f36a9a0cd0189513661a8e678b04e63c4d0111d8.ppt due to EOF marker not found']\n",
      "Successfully extracted 142/149 pdfs\n"
     ]
    },
    {
     "name": "stderr",
     "output_type": "stream",
     "text": [
      "\n"
     ]
    }
   ],
   "source": [
    "# with our data, takes about 7 min\n",
    "from populate_corpora.pdfs_to_jsons import pdfs_to_txt_dct\n",
    "pdf_dict = pdfs_to_txt_dct(FILE_DIR+\"/forestry/full\") # or whatever your policy directory is"
   ]
  },
  {
   "cell_type": "markdown",
   "metadata": {},
   "source": [
    "For the purposes of this project, we only want the texts of the PDFs in cleaned sentences anyways. So we'll go ahead and extract/clean those sentences, then load them into the dictionary format that doccano (labeling platform) uses. Finally, if we want, we can use a simple keyword search to gather possibly-incentive sentences."
   ]
  },
  {
   "cell_type": "code",
   "execution_count": 7,
   "metadata": {},
   "outputs": [
    {
     "name": "stderr",
     "output_type": "stream",
     "text": [
      "100%|██████████| 142/142 [00:10<00:00, 13.80it/s]\n"
     ]
    },
    {
     "name": "stdout",
     "output_type": "stream",
     "text": [
      "Number of error files: 0\n"
     ]
    }
   ],
   "source": [
    "import nltk\n",
    "from populate_corpora.data_cleaning import get_clean_text_sents, format_sents_for_doccano, prelabeling\n",
    "EN_TOKENIZER = nltk.data.load(\"tokenizers/punkt/english.pickle\") # need tokenizer for our text cleaning\n",
    "clean_sents= get_clean_text_sents(pdf_dict, EN_TOKENIZER)\n",
    "doccano_dict = format_sents_for_doccano(clean_sents)\n",
    "prelab_doccano_dict = prelabeling(doccano_dict)"
   ]
  },
  {
   "cell_type": "markdown",
   "metadata": {},
   "source": [
    "Now we can download this dictionary as a json to import into our doccano instance for labeling."
   ]
  },
  {
   "cell_type": "code",
   "execution_count": 8,
   "metadata": {},
   "outputs": [],
   "source": [
    "with open(cwd+\"/populate_corpora/outputs/ready_to_label.json\", 'w', encoding=\"utf-8\") as outfile:\n",
    "    json.dump(prelab_doccano_dict, outfile, ensure_ascii=False, indent=4)"
   ]
  },
  {
   "cell_type": "markdown",
   "metadata": {},
   "source": [
    "# 2. Labeling the Data"
   ]
  },
  {
   "cell_type": "markdown",
   "metadata": {},
   "source": [
    "## Augmentation via Sentence Similarity Search"
   ]
  },
  {
   "cell_type": "markdown",
   "metadata": {},
   "source": [
    "We also need to make a new human-in-the-loop dataset using by doing sentence similarity searches with predefined queries. We have five queries for each label."
   ]
  },
  {
   "cell_type": "code",
   "execution_count": 9,
   "metadata": {},
   "outputs": [],
   "source": [
    "with open(cwd+\"/populate_corpora/outputs/ready_to_label.json\",\"r\", encoding=\"utf-8\") as f:\n",
    "    prelab_doccano_dict = json.load(f)"
   ]
  },
  {
   "cell_type": "code",
   "execution_count": null,
   "metadata": {},
   "outputs": [
    {
     "name": "stdout",
     "output_type": "stream",
     "text": [
      "Running on GPU\n"
     ]
    },
    {
     "data": {
      "application/vnd.jupyter.widget-view+json": {
       "model_id": "6cc05ad1e1ce473bbb04e00b1ff3f811",
       "version_major": 2,
       "version_minor": 0
      },
      "text/plain": [
       "modules.json:   0%|          | 0.00/229 [00:00<?, ?B/s]"
      ]
     },
     "metadata": {},
     "output_type": "display_data"
    },
    {
     "name": "stderr",
     "output_type": "stream",
     "text": [
      "C:\\Users\\allie\\AppData\\Roaming\\Python\\Python311\\site-packages\\huggingface_hub\\file_download.py:143: UserWarning: `huggingface_hub` cache-system uses symlinks by default to efficiently store duplicated files but your machine does not support them in C:\\Users\\allie\\.cache\\huggingface\\hub\\models--sentence-transformers--xlm-r-bert-base-nli-stsb-mean-tokens. Caching files will still work but in a degraded version that might require more space on your disk. This warning can be disabled by setting the `HF_HUB_DISABLE_SYMLINKS_WARNING` environment variable. For more details, see https://huggingface.co/docs/huggingface_hub/how-to-cache#limitations.\n",
      "To support symlinks on Windows, you either need to activate Developer Mode or to run Python as an administrator. In order to activate developer mode, see this article: https://docs.microsoft.com/en-us/windows/apps/get-started/enable-your-device-for-development\n",
      "  warnings.warn(message)\n"
     ]
    },
    {
     "data": {
      "application/vnd.jupyter.widget-view+json": {
       "model_id": "4c5881fd67bd4d33aa89a06b926bd49e",
       "version_major": 2,
       "version_minor": 0
      },
      "text/plain": [
       "config_sentence_transformers.json:   0%|          | 0.00/122 [00:00<?, ?B/s]"
      ]
     },
     "metadata": {},
     "output_type": "display_data"
    },
    {
     "data": {
      "application/vnd.jupyter.widget-view+json": {
       "model_id": "d84f0dd1bf63401dbc48a9748d124b9f",
       "version_major": 2,
       "version_minor": 0
      },
      "text/plain": [
       "README.md: 0.00B [00:00, ?B/s]"
      ]
     },
     "metadata": {},
     "output_type": "display_data"
    },
    {
     "data": {
      "application/vnd.jupyter.widget-view+json": {
       "model_id": "5c0a6f6a32a447529157caad7d8a3d8b",
       "version_major": 2,
       "version_minor": 0
      },
      "text/plain": [
       "sentence_bert_config.json:   0%|          | 0.00/53.0 [00:00<?, ?B/s]"
      ]
     },
     "metadata": {},
     "output_type": "display_data"
    },
    {
     "data": {
      "application/vnd.jupyter.widget-view+json": {
       "model_id": "e5b2a556731c44be90c73a71d6fa57b4",
       "version_major": 2,
       "version_minor": 0
      },
      "text/plain": [
       "config.json:   0%|          | 0.00/722 [00:00<?, ?B/s]"
      ]
     },
     "metadata": {},
     "output_type": "display_data"
    },
    {
     "name": "stderr",
     "output_type": "stream",
     "text": [
      "Xet Storage is enabled for this repo, but the 'hf_xet' package is not installed. Falling back to regular HTTP download. For better performance, install the package with: `pip install huggingface_hub[hf_xet]` or `pip install hf_xet`\n"
     ]
    },
    {
     "data": {
      "application/vnd.jupyter.widget-view+json": {
       "model_id": "43c6921d6788473eaf1517713f3e6678",
       "version_major": 2,
       "version_minor": 0
      },
      "text/plain": [
       "model.safetensors:   0%|          | 0.00/1.11G [00:00<?, ?B/s]"
      ]
     },
     "metadata": {},
     "output_type": "display_data"
    },
    {
     "data": {
      "application/vnd.jupyter.widget-view+json": {
       "model_id": "008800c6b63a4817a5fb95216c361720",
       "version_major": 2,
       "version_minor": 0
      },
      "text/plain": [
       "tokenizer_config.json:   0%|          | 0.00/518 [00:00<?, ?B/s]"
      ]
     },
     "metadata": {},
     "output_type": "display_data"
    },
    {
     "name": "stderr",
     "output_type": "stream",
     "text": [
      "Xet Storage is enabled for this repo, but the 'hf_xet' package is not installed. Falling back to regular HTTP download. For better performance, install the package with: `pip install huggingface_hub[hf_xet]` or `pip install hf_xet`\n"
     ]
    },
    {
     "data": {
      "application/vnd.jupyter.widget-view+json": {
       "model_id": "d2b3225e17ad404492c510f91ddbc7b6",
       "version_major": 2,
       "version_minor": 0
      },
      "text/plain": [
       "sentencepiece.bpe.model:   0%|          | 0.00/5.07M [00:00<?, ?B/s]"
      ]
     },
     "metadata": {},
     "output_type": "display_data"
    },
    {
     "name": "stderr",
     "output_type": "stream",
     "text": [
      "Xet Storage is enabled for this repo, but the 'hf_xet' package is not installed. Falling back to regular HTTP download. For better performance, install the package with: `pip install huggingface_hub[hf_xet]` or `pip install hf_xet`\n"
     ]
    },
    {
     "data": {
      "application/vnd.jupyter.widget-view+json": {
       "model_id": "31b87e5ffae84953b68ec09457b8d283",
       "version_major": 2,
       "version_minor": 0
      },
      "text/plain": [
       "tokenizer.json:   0%|          | 0.00/9.10M [00:00<?, ?B/s]"
      ]
     },
     "metadata": {},
     "output_type": "display_data"
    },
    {
     "data": {
      "application/vnd.jupyter.widget-view+json": {
       "model_id": "df8d8c18a11a4be781874c97c69c96ca",
       "version_major": 2,
       "version_minor": 0
      },
      "text/plain": [
       "special_tokens_map.json:   0%|          | 0.00/150 [00:00<?, ?B/s]"
      ]
     },
     "metadata": {},
     "output_type": "display_data"
    },
    {
     "data": {
      "application/vnd.jupyter.widget-view+json": {
       "model_id": "ab9be4561dae4a33b9f2073b97e48e1b",
       "version_major": 2,
       "version_minor": 0
      },
      "text/plain": [
       "config.json:   0%|          | 0.00/190 [00:00<?, ?B/s]"
      ]
     },
     "metadata": {},
     "output_type": "display_data"
    },
    {
     "name": "stdout",
     "output_type": "stream",
     "text": [
      "Loaded model. Now creating sentence embeddings.\n",
      "The building of a sentence embedding database in the current models has taken 979.09s.\n",
      "Now running queries.\n"
     ]
    },
    {
     "name": "stderr",
     "output_type": "stream",
     "text": [
      "  3%|▎         | 1/30 [00:00<00:10,  2.84it/s]"
     ]
    },
    {
     "name": "stdout",
     "output_type": "stream",
     "text": [
      "Similarity search for query 'This scheme gives farmers greater access to financial loans and encourages financial planning.' has been done in 0.35s.\n"
     ]
    },
    {
     "name": "stderr",
     "output_type": "stream",
     "text": [
      "  7%|▋         | 2/30 [00:00<00:09,  2.94it/s]"
     ]
    },
    {
     "name": "stdout",
     "output_type": "stream",
     "text": [
      "Similarity search for query 'National initiatives, such as the Future Growth Loan Scheme, supports strategic long-term capital investment by providing competitively priced loan instruments under favourable terms.' has been done in 0.34s.\n"
     ]
    },
    {
     "name": "stderr",
     "output_type": "stream",
     "text": [
      " 10%|█         | 3/30 [00:01<00:09,  2.86it/s]"
     ]
    },
    {
     "name": "stdout",
     "output_type": "stream",
     "text": [
      "Similarity search for query 'Harvest and production insurance that contributes to safeguarding producers' incomes where there are losses as a consequence of natural disasters, adverse climatic events, diseases or pest infestations while ensuring that beneficiaries take necessary risk prevention measures.' has been done in 0.35s.\n"
     ]
    },
    {
     "name": "stderr",
     "output_type": "stream",
     "text": [
      " 13%|█▎        | 4/30 [00:01<00:09,  2.88it/s]"
     ]
    },
    {
     "name": "stdout",
     "output_type": "stream",
     "text": [
      "Similarity search for query 'The Department of Agriculture Food and the Marine has funded a number of loan schemes which provide access to finance for famers in Ireland, enabling them to maintain liquidity and ensure they can take investment decisions tailored to their enterprise' has been done in 0.34s.\n"
     ]
    },
    {
     "name": "stderr",
     "output_type": "stream",
     "text": [
      " 17%|█▋        | 5/30 [00:01<00:08,  2.87it/s]"
     ]
    },
    {
     "name": "stdout",
     "output_type": "stream",
     "text": [
      "Similarity search for query 'In cases where a loan is used to finance or top up a mutual fund no distinction is made between the basic capital and loans taken out in respect of the replenishment of the fund following compensate to growers.' has been done in 0.35s.\n"
     ]
    },
    {
     "name": "stderr",
     "output_type": "stream",
     "text": [
      " 20%|██        | 6/30 [00:02<00:08,  2.89it/s]"
     ]
    },
    {
     "name": "stdout",
     "output_type": "stream",
     "text": [
      "Similarity search for query 'The Scheme is supporting generational renewal on Irish farms by allowing young farmers to avail of a higher grant rate of 60% (with a standard grant rate of 40% available to all other applicants).' has been done in 0.34s.\n"
     ]
    },
    {
     "name": "stderr",
     "output_type": "stream",
     "text": [
      " 23%|██▎       | 7/30 [00:02<00:07,  2.88it/s]"
     ]
    },
    {
     "name": "stdout",
     "output_type": "stream",
     "text": [
      "Similarity search for query 'This programme incorporated extra payments on top of the basic REPS premium for farmers who undertook additional environmentally friendly farming practices.' has been done in 0.35s.\n"
     ]
    },
    {
     "name": "stderr",
     "output_type": "stream",
     "text": [
      " 27%|██▋       | 8/30 [00:02<00:07,  2.83it/s]"
     ]
    },
    {
     "name": "stdout",
     "output_type": "stream",
     "text": [
      "Similarity search for query 'Forestry Programme 2014 -2020 providing grants and / or annual premiums for establishment, development and reconstitution of forests, woodland improvement, native woodland conservation.' has been done in 0.36s.\n"
     ]
    },
    {
     "name": "stderr",
     "output_type": "stream",
     "text": [
      " 30%|███       | 9/30 [00:03<00:07,  2.80it/s]"
     ]
    },
    {
     "name": "stdout",
     "output_type": "stream",
     "text": [
      "Similarity search for query 'In addition to providing a basic income support to primary producers and achieving a higher level of environmental ambition, Pillar I (direct payments) interventions are aimed at achieving a fairer approach to the distribution of payments in Ireland.' has been done in 0.36s.\n"
     ]
    },
    {
     "name": "stderr",
     "output_type": "stream",
     "text": [
      " 33%|███▎      | 10/30 [00:03<00:07,  2.81it/s]"
     ]
    },
    {
     "name": "stdout",
     "output_type": "stream",
     "text": [
      "Similarity search for query 'Decision to set an amount of direct payments not higher than EUR 5 000 under which farmers shall in any event be considered as ‘active farmers.’' has been done in 0.35s.\n"
     ]
    },
    {
     "name": "stderr",
     "output_type": "stream",
     "text": [
      " 37%|███▋      | 11/30 [00:03<00:06,  2.84it/s]"
     ]
    },
    {
     "name": "stdout",
     "output_type": "stream",
     "text": [
      "Similarity search for query 'Landowners found burning illegally could face fines, imprisonment and Single Farm Payment penalties, where applicable.' has been done in 0.34s.\n"
     ]
    },
    {
     "name": "stderr",
     "output_type": "stream",
     "text": [
      " 40%|████      | 12/30 [00:04<00:06,  2.85it/s]"
     ]
    },
    {
     "name": "stdout",
     "output_type": "stream",
     "text": [
      "Similarity search for query 'In the absence of abatement strategies, ammonia emissions are forecast to increase which may result either in substantial fines or the imposition of a de-facto quota based on emission levels.' has been done in 0.35s.\n"
     ]
    },
    {
     "name": "stderr",
     "output_type": "stream",
     "text": [
      " 43%|████▎     | 13/30 [00:04<00:06,  2.79it/s]"
     ]
    },
    {
     "name": "stdout",
     "output_type": "stream",
     "text": [
      "Similarity search for query 'If an offence is committed by a public body, and is committed with the consent of, or is attributable to the neglect on the part of a director, manager or other officer of the public body, that person will also be liable for prosecution; on conviction, fines up to €250,000 or imprisonment for up to 2 years, or both, may be imposed 125 Per s ection 14A(6) of the Act.' has been done in 0.37s.\n"
     ]
    },
    {
     "name": "stderr",
     "output_type": "stream",
     "text": [
      " 47%|████▋     | 14/30 [00:04<00:05,  2.79it/s]"
     ]
    },
    {
     "name": "stdout",
     "output_type": "stream",
     "text": [
      "Similarity search for query 'In addition, a fine will apply which will be calculated on the difference between the area declared and the area determined.' has been done in 0.36s.\n"
     ]
    },
    {
     "name": "stderr",
     "output_type": "stream",
     "text": [
      " 50%|█████     | 15/30 [00:05<00:05,  2.76it/s]"
     ]
    },
    {
     "name": "stdout",
     "output_type": "stream",
     "text": [
      "Similarity search for query 'Where trees have been—(a) felled or otherwise removed without a licence under section 7,(b) felled under a licence and, either at the time of such felling or subsequently, a condition of the licence is contravened, or(c) in the opinion of the Minister, seriously damaged, the Minister may issue a replanting order in respect of the owner requiring him or her to replant or to fulfil any or all of the conditions that attached to the licence (or, in a case in which no licence was granted, any or all of the conditions that would, in the opinion of the Minister, have been attached to a licence had such been granted) in accordance with the provisions of the orderSections 27-29 detail offences and corresponding penalties, from fixed penalties to (on conviction) substantial fines and imprisonment.' has been done in 0.37s.\n"
     ]
    },
    {
     "name": "stderr",
     "output_type": "stream",
     "text": [
      " 53%|█████▎    | 16/30 [00:05<00:05,  2.73it/s]"
     ]
    },
    {
     "name": "stdout",
     "output_type": "stream",
     "text": [
      "Similarity search for query 'Similarly, the On-Farm Capital Investments Scheme has provisions for investments in equipment that will allow farmers to reduce the amount of Green House Gas emissions that they produce during their agricultural practices.' has been done in 0.37s.\n"
     ]
    },
    {
     "name": "stderr",
     "output_type": "stream",
     "text": [
      " 57%|█████▋    | 17/30 [00:06<00:04,  2.74it/s]"
     ]
    },
    {
     "name": "stdout",
     "output_type": "stream",
     "text": [
      "Similarity search for query 'The intervention also supports investments that allow farmers to acquire technologies and equipment that increases their efficiencies and climate adaptation potential thus addressing Obj4N4 and Obj4N5.' has been done in 0.36s.\n"
     ]
    },
    {
     "name": "stderr",
     "output_type": "stream",
     "text": [
      " 60%|██████    | 18/30 [00:06<00:04,  2.74it/s]"
     ]
    },
    {
     "name": "stdout",
     "output_type": "stream",
     "text": [
      "Similarity search for query 'Grants are provided for farmers wishing to invest in productive technologies and or equipment.' has been done in 0.36s.\n"
     ]
    },
    {
     "name": "stderr",
     "output_type": "stream",
     "text": [
      " 63%|██████▎   | 19/30 [00:06<00:04,  2.70it/s]"
     ]
    },
    {
     "name": "stdout",
     "output_type": "stream",
     "text": [
      "Similarity search for query 'Support provided under this scheme will directly address Obj5N1 and Obj5N2 by providing an incentive to farmers to invest in machinery and equipment that better protects air and water quality.' has been done in 0.38s.\n"
     ]
    },
    {
     "name": "stderr",
     "output_type": "stream",
     "text": [
      " 67%|██████▋   | 20/30 [00:07<00:03,  2.70it/s]"
     ]
    },
    {
     "name": "stdout",
     "output_type": "stream",
     "text": [
      "Similarity search for query 'The On Farm Capital Investment Scheme also addresses Obj9N1 by providing a higher grant rate of support for investments in organic farming materials/equipment, at a higher rate of 60% in comparison to the rate of 40% for general investments.' has been done in 0.37s.\n"
     ]
    },
    {
     "name": "stderr",
     "output_type": "stream",
     "text": [
      " 70%|███████   | 21/30 [00:07<00:03,  2.74it/s]"
     ]
    },
    {
     "name": "stdout",
     "output_type": "stream",
     "text": [
      "Similarity search for query 'To complement the EXEED programme, the tax code provides for accelerated capital allowances (ACAs) for energy efficient equipment supporting the reduction of energy use in the workplace and the awareness of energy efficiency standards in appliances.' has been done in 0.35s.\n"
     ]
    },
    {
     "name": "stderr",
     "output_type": "stream",
     "text": [
      " 73%|███████▎  | 22/30 [00:07<00:02,  2.79it/s]"
     ]
    },
    {
     "name": "stdout",
     "output_type": "stream",
     "text": [
      "Similarity search for query 'A tax incentive for companies paying corporation tax is also in place in the form of accelerated capital allowance for energy efficient equipment.' has been done in 0.35s.\n"
     ]
    },
    {
     "name": "stderr",
     "output_type": "stream",
     "text": [
      " 77%|███████▋  | 23/30 [00:08<00:02,  2.79it/s]"
     ]
    },
    {
     "name": "stdout",
     "output_type": "stream",
     "text": [
      "Similarity search for query 'The Accelerated Capital Allowance (ACA) is a tax credit that encourages the purchase of energy -efficient goods' has been done in 0.35s.\n"
     ]
    },
    {
     "name": "stderr",
     "output_type": "stream",
     "text": [
      " 80%|████████  | 24/30 [00:08<00:02,  2.80it/s]"
     ]
    },
    {
     "name": "stdout",
     "output_type": "stream",
     "text": [
      "Similarity search for query 'These include the granting of an enhanced 50% stock tax relief to members of registered farm partnerships; the recognition of such arrangements in the calculation of payments under the Pillar I and Pillar II Schemes; and the introduction of a Support for Collaborative Farming Grant Scheme for brand new farm partnerships.' has been done in 0.36s.\n"
     ]
    },
    {
     "name": "stderr",
     "output_type": "stream",
     "text": [
      " 83%|████████▎ | 25/30 [00:08<00:01,  2.78it/s]"
     ]
    },
    {
     "name": "stdout",
     "output_type": "stream",
     "text": [
      "Similarity search for query 'We are committed to further developing a taxation framework, which plays its full part in incentivising, along with other available policy levers, the necessary actions to reduce our emissions' has been done in 0.36s.\n"
     ]
    },
    {
     "name": "stderr",
     "output_type": "stream",
     "text": [
      " 87%|████████▋ | 26/30 [00:09<00:01,  2.76it/s]"
     ]
    },
    {
     "name": "stdout",
     "output_type": "stream",
     "text": [
      "Similarity search for query 'The Knowledge Transfer (KT) initiative is a significant investment in high quality training and upskilling of farmers so that they are equipped to deal with the range of challenges and opportunities arising in the agri-food sector.' has been done in 0.37s.\n"
     ]
    },
    {
     "name": "stderr",
     "output_type": "stream",
     "text": [
      " 90%|█████████ | 27/30 [00:09<00:01,  2.78it/s]"
     ]
    },
    {
     "name": "stdout",
     "output_type": "stream",
     "text": [
      "Similarity search for query 'The associated training will educate farmers on how to appropriately implement the actions of the scheme; thereby equipping them with the knowledge and skills necessary to optimise delivery and continue the ongoing management of the commitments undertaken; as well as to facilitate the implementation of high welfare practices.' has been done in 0.36s.\n"
     ]
    },
    {
     "name": "stderr",
     "output_type": "stream",
     "text": [
      " 93%|█████████▎| 28/30 [00:10<00:00,  2.71it/s]"
     ]
    },
    {
     "name": "stdout",
     "output_type": "stream",
     "text": [
      "Similarity search for query 'This scheme has two measures: • provides financial support towards the professional costs, such as legal, taxation and advisory, incurred during the establishment of a Registered Farm Partnership.' has been done in 0.38s.\n"
     ]
    },
    {
     "name": "stderr",
     "output_type": "stream",
     "text": [
      " 97%|█████████▋| 29/30 [00:10<00:00,  2.71it/s]"
     ]
    },
    {
     "name": "stdout",
     "output_type": "stream",
     "text": [
      "Similarity search for query 'LEADER may provide support rates greater than 65% in accordance with Article 73(4) (c)(ii) where investments include basic services in rural areas and infrastructure in agriculture and forestry , as determined by Member States' has been done in 0.37s.\n"
     ]
    },
    {
     "name": "stderr",
     "output_type": "stream",
     "text": [
      "100%|██████████| 30/30 [00:10<00:00,  2.78it/s]"
     ]
    },
    {
     "name": "stdout",
     "output_type": "stream",
     "text": [
      "Similarity search for query 'It also assists and supports the delivery of capacity building and training programmes with the aim of equipping decision makers with the capability and confidence to analyse, plan for and respond to the risks and opportunities that a changing climate presents.' has been done in 0.36s.\n"
     ]
    },
    {
     "name": "stderr",
     "output_type": "stream",
     "text": [
      "\n"
     ]
    }
   ],
   "source": [
    "# with our data, takes about 18 min\n",
    "from populate_corpora.query_augment import run_embedder, run_queries, QUERIES_DCT\n",
    "from populate_corpora.data_cleaning import dcno_to_only_sents\n",
    "\n",
    "# loading all sentences, not just the labeled ones\n",
    "# or reload cwd+\"/populate_corpora/outputs/ready_to_label.json\"\n",
    "all_sents = dcno_to_only_sents(doccano_dict) \n",
    "embs, s_sentences, model = run_embedder(sample=False, dev='cuda', data=all_sents, unique=True)\n",
    "# uses our queries dictionary, but obvs you can make your own\n",
    "qry_dct = run_queries(embs, s_sentences, model, qry_dct=QUERIES_DCT, dev='cuda', sim_thresh=0.5, res_lim=1000)"
   ]
  },
  {
   "cell_type": "markdown",
   "metadata": {},
   "source": [
    "Now we'll parse the results and create a dataset of sentences labeled by the query process, but we first need to filter them to only include sentences found by at least 4/5 queries for each label."
   ]
  },
  {
   "cell_type": "code",
   "execution_count": 11,
   "metadata": {},
   "outputs": [],
   "source": [
    "from populate_corpora.query_augment import consolidate_sents, crossref_sents\n",
    "lbl_qry_dct = consolidate_sents(qry_dct, QUERIES_DCT)\n",
    "filt_qry_dct = crossref_sents(lbl_qry_dct, 4)\n",
    "qry_rs_dataset = [{'text': sent, 'label': lbl} for lbl in list(filt_qry_dct) for sent in filt_qry_dct[lbl]]"
   ]
  },
  {
   "cell_type": "code",
   "execution_count": 12,
   "metadata": {},
   "outputs": [],
   "source": [
    "with open(cwd+\"/populate_corpora/outputs/augmented_to_label.json\", 'w', encoding=\"utf-8\") as outfile:\n",
    "    json.dump(qry_rs_dataset, outfile, ensure_ascii=False, indent=4)"
   ]
  },
  {
   "cell_type": "markdown",
   "metadata": {},
   "source": [
    "## External Annotation"
   ]
  },
  {
   "cell_type": "markdown",
   "metadata": {},
   "source": [
    "We used a doccano instance for our labeling, but we also had to do some data validation with an external annotator. This section generates a subset for a labeler from the hand-labeled dataset."
   ]
  },
  {
   "cell_type": "code",
   "execution_count": 14,
   "metadata": {},
   "outputs": [
    {
     "name": "stdout",
     "output_type": "stream",
     "text": [
      "1419 groups found with a threshold of 90\n",
      "Sanity check: 1419 sentences and 1419 labels\n"
     ]
    }
   ],
   "source": [
    "from populate_corpora.annotators import resample_forannot\n",
    "from populate_corpora.data_cleaning import dcno_to_sentlab, remove_duplicates, group_duplicates\n",
    "with open(cwd+\"/inputs/19Jan25_firstdatarev.json\",\"r\", encoding=\"utf-8\") as f:\n",
    "    dcno_json = json.load(f)\n",
    "with open(cwd+\"/inputs/27Jan25_query_checked.json\",\"r\", encoding=\"utf-8\") as f:\n",
    "    qry_json = json.load(f)\n",
    "sents1, labels1 = dcno_to_sentlab(dcno_json)\n",
    "sents2, labels2 = dcno_to_sentlab(qry_json)\n",
    "sents3 = sents1+sents2\n",
    "labels3 = labels1+labels2\n",
    "all_sents, all_labs = remove_duplicates(group_duplicates(sents3,labels3,thresh=90))"
   ]
  },
  {
   "cell_type": "code",
   "execution_count": 15,
   "metadata": {},
   "outputs": [
    {
     "name": "stdout",
     "output_type": "stream",
     "text": [
      "Counter({'Non-Incentive': 1150, 'Supplies': 81, 'Technical_assistance': 75, 'Direct_payment': 62, 'Fine': 23, 'Credit': 19, 'Tax_deduction': 9})\n",
      "Counter({'Non-Incentive': 81, 'Supplies': 24, 'Technical_assistance': 22, 'Direct_payment': 19, 'Fine': 7, 'Credit': 6, 'Tax_deduction': 3})\n",
      "#sents==#labels: True\n",
      "0.114\n"
     ]
    }
   ],
   "source": [
    "ann_sents, ann_labels = resample_forannot(all_sents, all_labs, 0.3, 0.5)\n",
    "print(round(len(ann_sents)/len(all_sents), 3))"
   ]
  },
  {
   "cell_type": "code",
   "execution_count": 16,
   "metadata": {},
   "outputs": [],
   "source": [
    "import random\n",
    "ann_frame = [{'text':ann_sents[i], 'label':[]} for i in range(len(ann_labels))]\n",
    "random.shuffle(ann_frame)\n",
    "with open(cwd+\"/inputs/subsample.json\", 'w', encoding=\"utf-8\") as outfile:\n",
    "    json.dump(ann_frame, outfile, ensure_ascii=False, indent=4)\n",
    "val_frame = [{'text':ann_sents[i], 'label':ann_labels[i]} for i in range(len(ann_labels))]\n",
    "with open(cwd+\"/inputs/subsample_key.json\", 'w', encoding=\"utf-8\") as outfile:\n",
    "    json.dump(val_frame, outfile, ensure_ascii=False, indent=4)"
   ]
  },
  {
   "cell_type": "markdown",
   "metadata": {},
   "source": [
    "Now let's check the inter-annotator agreement."
   ]
  },
  {
   "cell_type": "code",
   "execution_count": 17,
   "metadata": {},
   "outputs": [],
   "source": [
    "with open(cwd+\"/inputs/yw_annot.json\",\"r\", encoding=\"utf-8\") as f: #our hand-labeled dataset\n",
    "    ann_json = json.load(f)\n",
    "with open(cwd+\"/inputs/subsample_key.json\",\"r\", encoding=\"utf-8\") as f:\n",
    "    key_json = json.load(f)\n",
    "\n",
    "sents_k = [entry[\"text\"] for entry in key_json]\n",
    "labels_k = [entry[\"label\"] for entry in key_json]\n",
    "sents_a, labels_a = dcno_to_sentlab(ann_json)\n",
    "# correct labels\n",
    "sents_a2, labels_a2 = [], []\n",
    "for i, lab in enumerate(labels_a):\n",
    "  try:\n",
    "    if lab == 'non-incentive':\n",
    "      labels_a2.append('Non-Incentive')\n",
    "    else:\n",
    "      labels_a2.append(lab)\n",
    "    sents_a2.append(sents_a[i])\n",
    "  except:\n",
    "    pass\n"
   ]
  },
  {
   "cell_type": "code",
   "execution_count": 18,
   "metadata": {},
   "outputs": [
    {
     "name": "stdout",
     "output_type": "stream",
     "text": [
      "Binary: 0.6308119361554476 for 152 entries\n",
      "Multiclass: 0.85880195599022 for 66 entries\n",
      "All: 0.6750946622694516 for 152 entries\n"
     ]
    }
   ],
   "source": [
    "from populate_corpora.annotators import get_common_sentlabs, all_to_bin, all_to_sharedmc\n",
    "from sklearn.metrics import cohen_kappa_score\n",
    "\n",
    "s_sents, labels_sc, labels_sa = get_common_sentlabs(sents_k, labels_k, sents_a2, labels_a2)\n",
    "#print(f\"All: {cohen_kappa_score(labels_sc, labels_sa)} for {len(labels_sc)} entries\")\n",
    "\n",
    "labs_binc, labs_bina = all_to_bin(labels_sc), all_to_bin(labels_sa)\n",
    "print(f\"Binary: {cohen_kappa_score(labs_binc, labs_bina)} for {len(labs_binc)} entries\")\n",
    "\n",
    "mclabsc, mclaba = all_to_sharedmc(labels_sc, labels_sa, labs_binc, labs_bina)\n",
    "print(f\"Multiclass: {cohen_kappa_score(mclabsc, mclaba)} for {len(mclabsc)} entries\")\n",
    "\n",
    "print(f\"All: {cohen_kappa_score(labels_sc, labels_sa)} for {len(labels_sc)} entries\")"
   ]
  },
  {
   "cell_type": "markdown",
   "metadata": {},
   "source": [
    "# 3. Consolidation into Final Dataset"
   ]
  },
  {
   "cell_type": "markdown",
   "metadata": {},
   "source": [
    "We now have all of our data labeled, so it is time to create a final dataset broken into training and testing sets."
   ]
  },
  {
   "cell_type": "code",
   "execution_count": 4,
   "metadata": {},
   "outputs": [
    {
     "name": "stdout",
     "output_type": "stream",
     "text": [
      "1419 groups found with a threshold of 90\n",
      "Sanity check: 1419 sentences and 1419 labels\n"
     ]
    }
   ],
   "source": [
    "# with our data, takes about 40s\n",
    "import os, json\n",
    "cwd = os.getcwd()\n",
    "os.chdir(cwd)\n",
    "from populate_corpora.data_cleaning import dcno_to_sentlab\n",
    "from classifier.run_classifiers import group_duplicates, remove_duplicates\n",
    "\n",
    "with open(cwd+\"/inputs/19Jan25_firstdatarev.json\",\"r\", encoding=\"utf-8\") as f: #our hand-labeled dataset\n",
    "    dcno_json = json.load(f)\n",
    "with open(cwd+\"/inputs/27Jan25_query_checked.json\",\"r\", encoding=\"utf-8\") as f: #our human-in-the-loop dataset\n",
    "    aug_json = json.load(f)\n",
    "\n",
    "sents_d, labels_d = dcno_to_sentlab(dcno_json)\n",
    "sents_a, labels_a = dcno_to_sentlab(aug_json)\n",
    "\n",
    "all_sents = sents_d+sents_a\n",
    "all_labs = labels_d+labels_a\n",
    "sentences, labels = remove_duplicates(group_duplicates(all_sents,all_labs,thresh=90))"
   ]
  },
  {
   "cell_type": "code",
   "execution_count": 20,
   "metadata": {},
   "outputs": [
    {
     "name": "stdout",
     "output_type": "stream",
     "text": [
      "965\n",
      "626\n"
     ]
    }
   ],
   "source": [
    "print(len(sents_d))\n",
    "print(len(sents_a))"
   ]
  },
  {
   "cell_type": "code",
   "execution_count": 5,
   "metadata": {},
   "outputs": [
    {
     "name": "stdout",
     "output_type": "stream",
     "text": [
      "Sanity Check: 269 incentive sentences and 1150 non-incentive sentences\n",
      "Incentives: 0.18957011980267793; Non-Incentives: 0.8104298801973221\n",
      "Sanity Check: 269 incentive sentences and 269 incentive labels\n"
     ]
    }
   ],
   "source": [
    "from classifier.run_classifiers import gen_bn_sentlab, gen_mc_sentlab\n",
    "\n",
    "bn_sents, bn_labels = gen_bn_sentlab(sentences, labels)\n",
    "mc_sents, mc_labels = gen_mc_sentlab(sentences, labels)"
   ]
  },
  {
   "cell_type": "code",
   "execution_count": 22,
   "metadata": {},
   "outputs": [
    {
     "name": "stderr",
     "output_type": "stream",
     "text": [
      "C:\\Users\\allie\\AppData\\Local\\Temp\\ipykernel_6244\\3697674854.py:14: UserWarning: FigureCanvasAgg is non-interactive, and thus cannot be shown\n",
      "  fig.show()\n"
     ]
    },
    {
     "data": {
      "image/png": "[encoded data removed]",
      "text/plain": [
       "<Figure size 640x480 with 1 Axes>"
      ]
     },
     "metadata": {},
     "output_type": "display_data"
    }
   ],
   "source": [
    "import matplotlib.pyplot as plt\n",
    "import numpy as np\n",
    "#plt.style.use('_mpl-gallery-nogrid')\n",
    "plt.rcParams['font.family'] = [\"monospace\"]\n",
    "plt.rcParams['font.size'] = 12\n",
    "\n",
    "bn_colors = plt.get_cmap()(np.linspace(0.5, 0.9, 2))\n",
    "num_non = bn_labels.count(\"non-incentive\")\n",
    "num_inc = bn_labels.count(\"incentive\")\n",
    "\n",
    "fig, ax = plt.subplots()\n",
    "ax.pie([num_non, num_inc], colors=bn_colors, labels=[\"Non-incentive\", \"Incentive\"], autopct='%1.1f%%', radius=1.25,\n",
    "       wedgeprops={\"linewidth\": 1, \"edgecolor\": \"white\"})\n",
    "fig.show()"
   ]
  },
  {
   "cell_type": "code",
   "execution_count": 23,
   "metadata": {},
   "outputs": [
    {
     "name": "stderr",
     "output_type": "stream",
     "text": [
      "C:\\Users\\allie\\AppData\\Local\\Temp\\ipykernel_6244\\4055259558.py:13: UserWarning: FigureCanvasAgg is non-interactive, and thus cannot be shown\n",
      "  fig.show()\n"
     ]
    },
    {
     "data": {
      "image/png": "[encoded data removed]",
      "text/plain": [
       "<Figure size 640x480 with 1 Axes>"
      ]
     },
     "metadata": {},
     "output_type": "display_data"
    }
   ],
   "source": [
    "num_dp = mc_labels.count(\"Direct_payment\")\n",
    "num_ta = mc_labels.count(\"Technical_assistance\")\n",
    "num_su = mc_labels.count(\"Supplies\")\n",
    "num_td = mc_labels.count(\"Tax_deduction\")\n",
    "num_fn = mc_labels.count(\"Fine\")\n",
    "num_cr = mc_labels.count(\"Credit\")\n",
    "\n",
    "mc_colors = plt.get_cmap()(np.linspace(0.5, 0.99, 6))\n",
    "\n",
    "fig, ax = plt.subplots()\n",
    "ax.pie([num_dp, num_ta, num_su, num_td, num_fn, num_cr], labels=[\"Direct payment\", \"Technical assistance\", \"Supplies\", \"Tax deduction\", \"Fine\", \"Credit\"], colors=mc_colors, autopct='%1.1f%%', radius=1.5,\n",
    "       wedgeprops={\"linewidth\": 1, \"edgecolor\": \"white\"})\n",
    "fig.show()"
   ]
  },
  {
   "cell_type": "code",
   "execution_count": 24,
   "metadata": {},
   "outputs": [
    {
     "name": "stderr",
     "output_type": "stream",
     "text": [
      "C:\\Users\\allie\\AppData\\Local\\Temp\\ipykernel_6244\\2609736636.py:14: UserWarning: FigureCanvasAgg is non-interactive, and thus cannot be shown\n",
      "  fig.show()\n"
     ]
    },
    {
     "data": {
      "image/png": "[encoded data removed]",
      "text/plain": [
       "<Figure size 640x480 with 1 Axes>"
      ]
     },
     "metadata": {},
     "output_type": "display_data"
    }
   ],
   "source": [
    "num_dp = labels.count(\"Direct_payment\")\n",
    "num_ta = labels.count(\"Technical_assistance\")\n",
    "num_su = labels.count(\"Supplies\")\n",
    "num_td = labels.count(\"Tax_deduction\")\n",
    "num_fn = labels.count(\"Fine\")\n",
    "num_cr = labels.count(\"Credit\")\n",
    "num_ni = labels.count(\"Non-Incentive\")\n",
    "\n",
    "mc_colors = plt.get_cmap()(np.linspace(0.5, 0.99, 7))\n",
    "\n",
    "fig, ax = plt.subplots()\n",
    "ax.pie([num_ni, num_dp, num_ta, num_su, num_td, num_fn, num_cr], labels=[\"Non-incentive\", \"Direct payment\", \"Technical assistance\", \"Supplies\", \"Tax deduction\", \"Fine\", \"Credit\"], colors=mc_colors, autopct='%1.1f%%', radius=1.5,\n",
    "       wedgeprops={\"linewidth\": 1, \"edgecolor\": \"white\"})\n",
    "fig.show()"
   ]
  },
  {
   "cell_type": "markdown",
   "metadata": {},
   "source": [
    "# 4. Fine-Tuning Our Models"
   ]
  },
  {
   "cell_type": "markdown",
   "metadata": {},
   "source": [
    "Nearly to the end of our pipeline! We ran our experiments outside of jupyter notebook (had to use python subprocesses to get around memory issues), but this section shows a simplified version of our experiments (i.e. 3 different dataset splits vs 10, showing only 1 model instead of all 4 tested).\n",
    "\n",
    "First we construct and save a few different splits of our data into DatasetDicts containing Training, Testing, and Holdout sets."
   ]
  },
  {
   "cell_type": "code",
   "execution_count": null,
   "metadata": {},
   "outputs": [
    {
     "name": "stdout",
     "output_type": "stream",
     "text": [
      "Sanity Check: 269 incentive sentences and 1150 non-incentive sentences\n",
      "Incentives: 0.18957011980267793; Non-Incentives: 0.8104298801973221\n",
      "Sanity Check: 269 incentive sentences and 269 incentive labels\n",
      "\n",
      "Round 3\n",
      "\n"
     ]
    },
    {
     "data": {
      "application/vnd.jupyter.widget-view+json": {
       "model_id": "ea4a09e51359497f95f2f2cd2e4b0965",
       "version_major": 2,
       "version_minor": 0
      },
      "text/plain": [
       "Saving the dataset (0/1 shards):   0%|          | 0/851 [00:00<?, ? examples/s]"
      ]
     },
     "metadata": {},
     "output_type": "display_data"
    },
    {
     "data": {
      "application/vnd.jupyter.widget-view+json": {
       "model_id": "b9fee80e957e40ef8f06afeedc4efd8d",
       "version_major": 2,
       "version_minor": 0
      },
      "text/plain": [
       "Saving the dataset (0/1 shards):   0%|          | 0/284 [00:00<?, ? examples/s]"
      ]
     },
     "metadata": {},
     "output_type": "display_data"
    },
    {
     "data": {
      "application/vnd.jupyter.widget-view+json": {
       "model_id": "ff87e9ec4ea14b2cb7d3eb3af29f171a",
       "version_major": 2,
       "version_minor": 0
      },
      "text/plain": [
       "Saving the dataset (0/1 shards):   0%|          | 0/284 [00:00<?, ? examples/s]"
      ]
     },
     "metadata": {},
     "output_type": "display_data"
    },
    {
     "name": "stdout",
     "output_type": "stream",
     "text": [
      "Saved ds_3_bn\n"
     ]
    },
    {
     "data": {
      "application/vnd.jupyter.widget-view+json": {
       "model_id": "c7225a7a80164958887db24ad74dfca8",
       "version_major": 2,
       "version_minor": 0
      },
      "text/plain": [
       "Saving the dataset (0/1 shards):   0%|          | 0/161 [00:00<?, ? examples/s]"
      ]
     },
     "metadata": {},
     "output_type": "display_data"
    },
    {
     "data": {
      "application/vnd.jupyter.widget-view+json": {
       "model_id": "7f8cd53eccbb424db15d8d15670ce2c3",
       "version_major": 2,
       "version_minor": 0
      },
      "text/plain": [
       "Saving the dataset (0/1 shards):   0%|          | 0/54 [00:00<?, ? examples/s]"
      ]
     },
     "metadata": {},
     "output_type": "display_data"
    },
    {
     "data": {
      "application/vnd.jupyter.widget-view+json": {
       "model_id": "22a3c74eda444570b43e0177add8bc67",
       "version_major": 2,
       "version_minor": 0
      },
      "text/plain": [
       "Saving the dataset (0/1 shards):   0%|          | 0/54 [00:00<?, ? examples/s]"
      ]
     },
     "metadata": {},
     "output_type": "display_data"
    },
    {
     "name": "stdout",
     "output_type": "stream",
     "text": [
      "Saved ds_3_mc\n",
      "\n",
      "Round 6\n",
      "\n"
     ]
    },
    {
     "data": {
      "application/vnd.jupyter.widget-view+json": {
       "model_id": "0253543f43854079a2142256b010077d",
       "version_major": 2,
       "version_minor": 0
      },
      "text/plain": [
       "Saving the dataset (0/1 shards):   0%|          | 0/851 [00:00<?, ? examples/s]"
      ]
     },
     "metadata": {},
     "output_type": "display_data"
    },
    {
     "data": {
      "application/vnd.jupyter.widget-view+json": {
       "model_id": "33ec2ddd71ea4b1aa62bef5b83709cbe",
       "version_major": 2,
       "version_minor": 0
      },
      "text/plain": [
       "Saving the dataset (0/1 shards):   0%|          | 0/284 [00:00<?, ? examples/s]"
      ]
     },
     "metadata": {},
     "output_type": "display_data"
    },
    {
     "data": {
      "application/vnd.jupyter.widget-view+json": {
       "model_id": "9d7ef55ad2434c6fa70ce1d0d60abdc6",
       "version_major": 2,
       "version_minor": 0
      },
      "text/plain": [
       "Saving the dataset (0/1 shards):   0%|          | 0/284 [00:00<?, ? examples/s]"
      ]
     },
     "metadata": {},
     "output_type": "display_data"
    },
    {
     "name": "stdout",
     "output_type": "stream",
     "text": [
      "Saved ds_6_bn\n"
     ]
    },
    {
     "data": {
      "application/vnd.jupyter.widget-view+json": {
       "model_id": "7020ec631dc3401ca436ebdb9b60c21f",
       "version_major": 2,
       "version_minor": 0
      },
      "text/plain": [
       "Saving the dataset (0/1 shards):   0%|          | 0/161 [00:00<?, ? examples/s]"
      ]
     },
     "metadata": {},
     "output_type": "display_data"
    },
    {
     "data": {
      "application/vnd.jupyter.widget-view+json": {
       "model_id": "7e7b89d697064c39b7f6ac545da8ca75",
       "version_major": 2,
       "version_minor": 0
      },
      "text/plain": [
       "Saving the dataset (0/1 shards):   0%|          | 0/54 [00:00<?, ? examples/s]"
      ]
     },
     "metadata": {},
     "output_type": "display_data"
    },
    {
     "data": {
      "application/vnd.jupyter.widget-view+json": {
       "model_id": "5c0a2173d15440f1b0a8146e72d06300",
       "version_major": 2,
       "version_minor": 0
      },
      "text/plain": [
       "Saving the dataset (0/1 shards):   0%|          | 0/54 [00:00<?, ? examples/s]"
      ]
     },
     "metadata": {},
     "output_type": "display_data"
    },
    {
     "name": "stdout",
     "output_type": "stream",
     "text": [
      "Saved ds_6_mc\n",
      "\n",
      "Round 9\n",
      "\n"
     ]
    },
    {
     "data": {
      "application/vnd.jupyter.widget-view+json": {
       "model_id": "e902653417464bfd9ac88183b388d1aa",
       "version_major": 2,
       "version_minor": 0
      },
      "text/plain": [
       "Saving the dataset (0/1 shards):   0%|          | 0/851 [00:00<?, ? examples/s]"
      ]
     },
     "metadata": {},
     "output_type": "display_data"
    },
    {
     "data": {
      "application/vnd.jupyter.widget-view+json": {
       "model_id": "c8c1cdf5b7924a0fa0f3ad8664d91c6f",
       "version_major": 2,
       "version_minor": 0
      },
      "text/plain": [
       "Saving the dataset (0/1 shards):   0%|          | 0/284 [00:00<?, ? examples/s]"
      ]
     },
     "metadata": {},
     "output_type": "display_data"
    },
    {
     "data": {
      "application/vnd.jupyter.widget-view+json": {
       "model_id": "a3a135955bf947e1820a0e6b7bb21382",
       "version_major": 2,
       "version_minor": 0
      },
      "text/plain": [
       "Saving the dataset (0/1 shards):   0%|          | 0/284 [00:00<?, ? examples/s]"
      ]
     },
     "metadata": {},
     "output_type": "display_data"
    },
    {
     "name": "stdout",
     "output_type": "stream",
     "text": [
      "Saved ds_9_bn\n"
     ]
    },
    {
     "data": {
      "application/vnd.jupyter.widget-view+json": {
       "model_id": "8c4fc5786fac4eb9b028783aa0ee9880",
       "version_major": 2,
       "version_minor": 0
      },
      "text/plain": [
       "Saving the dataset (0/1 shards):   0%|          | 0/161 [00:00<?, ? examples/s]"
      ]
     },
     "metadata": {},
     "output_type": "display_data"
    },
    {
     "data": {
      "application/vnd.jupyter.widget-view+json": {
       "model_id": "801b14dc7c144003af5db3b5213c224b",
       "version_major": 2,
       "version_minor": 0
      },
      "text/plain": [
       "Saving the dataset (0/1 shards):   0%|          | 0/54 [00:00<?, ? examples/s]"
      ]
     },
     "metadata": {},
     "output_type": "display_data"
    },
    {
     "data": {
      "application/vnd.jupyter.widget-view+json": {
       "model_id": "bc4c563b5a7f445e8ee0ac7cc64e747b",
       "version_major": 2,
       "version_minor": 0
      },
      "text/plain": [
       "Saving the dataset (0/1 shards):   0%|          | 0/54 [00:00<?, ? examples/s]"
      ]
     },
     "metadata": {},
     "output_type": "display_data"
    },
    {
     "name": "stdout",
     "output_type": "stream",
     "text": [
      "Saved ds_9_mc\n"
     ]
    }
   ],
   "source": [
    "from classifier.finetune import load_labelintdcts, create_dsdict\n",
    "int2label_dct, label2int_dct = load_labelintdcts()\n",
    "sims = [3,6,9]\n",
    "create_dsdict(sentences, labels, label2int_dct, amt=sims, save=True, output_dir=f\"{cwd}/inputs\")"
   ]
  },
  {
   "cell_type": "code",
   "execution_count": 5,
   "metadata": {},
   "outputs": [],
   "source": [
    "import torch\n",
    "from classifier.finetune import finetune_incmodel\n",
    "from datasets import DatasetDict\n",
    "output_dir = cwd+\"/outputs/models\"\n",
    "input_dir = cwd+\"/inputs\"\n",
    "\n",
    "os.environ[\"WANDB_DISABLED\"] = \"true\""
   ]
  },
  {
   "cell_type": "markdown",
   "metadata": {},
   "source": [
    "Now we run our finetuning step. Again, if you want to run the pipeline properly, you'll likely want to use the subprocess structure found in finetuning.py. We chose \"sentence-transformers/paraphrase-xlm-r-multilingual-v1\" for this notebook version."
   ]
  },
  {
   "cell_type": "code",
   "execution_count": 6,
   "metadata": {},
   "outputs": [
    {
     "name": "stdout",
     "output_type": "stream",
     "text": [
      "\n",
      "Loading model sentence-transformers/paraphrase-xlm-r-multilingual-v1\n",
      "\n",
      "Tokenizing\n",
      "Loading model\n"
     ]
    },
    {
     "name": "stderr",
     "output_type": "stream",
     "text": [
      "Some weights of XLMRobertaForSequenceClassification were not initialized from the model checkpoint at sentence-transformers/paraphrase-xlm-r-multilingual-v1 and are newly initialized: ['classifier.dense.bias', 'classifier.dense.weight', 'classifier.out_proj.bias', 'classifier.out_proj.weight']\n",
      "You should probably TRAIN this model on a down-stream task to be able to use it for predictions and inference.\n",
      "Using the `WANDB_DISABLED` environment variable is deprecated and will be removed in v5. Use the --report_to flag to control the integrations used for logging result (for instance --report_to none).\n"
     ]
    },
    {
     "name": "stdout",
     "output_type": "stream",
     "text": [
      "Training\n"
     ]
    },
    {
     "data": {
      "text/html": [
       "\n",
       "    <div>\n",
       "      \n",
       "      <progress value='78' max='270' style='width:300px; height:20px; vertical-align: middle;'></progress>\n",
       "      [ 78/270 00:39 < 01:38, 1.95 it/s, Epoch 1.43/5]\n",
       "    </div>\n",
       "    <table border=\"1\" class=\"dataframe\">\n",
       "  <thead>\n",
       " <tr style=\"text-align: left;\">\n",
       "      <th>Step</th>\n",
       "      <th>Training Loss</th>\n",
       "      <th>Validation Loss</th>\n",
       "    </tr>\n",
       "  </thead>\n",
       "  <tbody>\n",
       "  </tbody>\n",
       "</table><p>"
      ],
      "text/plain": [
       "<IPython.core.display.HTML object>"
      ]
     },
     "metadata": {},
     "output_type": "display_data"
    },
    {
     "ename": "KeyboardInterrupt",
     "evalue": "",
     "output_type": "error",
     "traceback": [
      "\u001b[1;31m---------------------------------------------------------------------------\u001b[0m",
      "\u001b[1;31mKeyboardInterrupt\u001b[0m                         Traceback (most recent call last)",
      "Cell \u001b[1;32mIn[6], line 16\u001b[0m\n\u001b[0;32m      9\u001b[0m torch\u001b[38;5;241m.\u001b[39mcuda\u001b[38;5;241m.\u001b[39mempty_cache()\n\u001b[0;32m     10\u001b[0m hyperparams\u001b[38;5;241m=\u001b[39m{\n\u001b[0;32m     11\u001b[0m     \u001b[38;5;124m\"\u001b[39m\u001b[38;5;124mepochs\u001b[39m\u001b[38;5;124m\"\u001b[39m:\u001b[38;5;241m5\u001b[39m, \n\u001b[0;32m     12\u001b[0m     \u001b[38;5;124m\"\u001b[39m\u001b[38;5;124mr\u001b[39m\u001b[38;5;124m\"\u001b[39m:e,\n\u001b[0;32m     13\u001b[0m     \u001b[38;5;124m\"\u001b[39m\u001b[38;5;124mlr\u001b[39m\u001b[38;5;124m\"\u001b[39m:\u001b[38;5;241m2e-5\u001b[39m,\n\u001b[0;32m     14\u001b[0m     \u001b[38;5;124m\"\u001b[39m\u001b[38;5;124mbatch_size\u001b[39m\u001b[38;5;124m\"\u001b[39m:\u001b[38;5;241m16\u001b[39m\n\u001b[0;32m     15\u001b[0m     }\n\u001b[1;32m---> 16\u001b[0m \u001b[43mfinetune_incmodel\u001b[49m\u001b[43m(\u001b[49m\u001b[43mbn_ds\u001b[49m\u001b[43m,\u001b[49m\u001b[43m \u001b[49m\u001b[43mint2label_dct\u001b[49m\u001b[43m[\u001b[49m\u001b[38;5;124;43m\"\u001b[39;49m\u001b[38;5;124;43mbn\u001b[39;49m\u001b[38;5;124;43m\"\u001b[39;49m\u001b[43m]\u001b[49m\u001b[43m,\u001b[49m\u001b[43m \u001b[49m\u001b[43mlabel2int_dct\u001b[49m\u001b[43m[\u001b[49m\u001b[38;5;124;43m\"\u001b[39;49m\u001b[38;5;124;43mbn\u001b[39;49m\u001b[38;5;124;43m\"\u001b[39;49m\u001b[43m]\u001b[49m\u001b[43m,\u001b[49m\u001b[43m \u001b[49m\u001b[38;5;124;43m\"\u001b[39;49m\u001b[38;5;124;43mbn\u001b[39;49m\u001b[38;5;124;43m\"\u001b[39;49m\u001b[43m,\u001b[49m\u001b[43m \u001b[49m\u001b[43mmodel_name\u001b[49m\u001b[38;5;241;43m=\u001b[39;49m\u001b[43mmodel\u001b[49m\u001b[43m,\u001b[49m\u001b[43m \u001b[49m\u001b[43mdev\u001b[49m\u001b[38;5;241;43m=\u001b[39;49m\u001b[38;5;124;43m'\u001b[39;49m\u001b[38;5;124;43mcuda\u001b[39;49m\u001b[38;5;124;43m'\u001b[39;49m\u001b[43m,\u001b[49m\u001b[43m \u001b[49m\u001b[43moutput_dir\u001b[49m\u001b[38;5;241;43m=\u001b[39;49m\u001b[43moutput_dir\u001b[49m\u001b[43m,\u001b[49m\u001b[43m \u001b[49m\u001b[43mhyperparams\u001b[49m\u001b[38;5;241;43m=\u001b[39;49m\u001b[43mhyperparams\u001b[49m\u001b[43m)\u001b[49m\n\u001b[0;32m     17\u001b[0m \u001b[38;5;28mprint\u001b[39m(\u001b[38;5;124mf\u001b[39m\u001b[38;5;124m\"\u001b[39m\u001b[38;5;130;01m\\n\u001b[39;00m\u001b[38;5;124mSaved \u001b[39m\u001b[38;5;132;01m{\u001b[39;00mmodel\u001b[38;5;132;01m}\u001b[39;00m\u001b[38;5;124m binary model.\u001b[39m\u001b[38;5;124m\"\u001b[39m)\n\u001b[0;32m     18\u001b[0m torch\u001b[38;5;241m.\u001b[39mcuda\u001b[38;5;241m.\u001b[39mempty_cache()\n",
      "File \u001b[1;32mc:\\Users\\allie\\Documents\\GitHub\\policy-classifier\\classifier\\finetune.py:117\u001b[0m, in \u001b[0;36mfinetune_incmodel\u001b[1;34m(datasetdct, int2label, label2int, mode, model_name, dev, output_dir, hyperparams, oversampling)\u001b[0m\n\u001b[0;32m    105\u001b[0m trainer \u001b[38;5;241m=\u001b[39m Trainer(\n\u001b[0;32m    106\u001b[0m     model\u001b[38;5;241m=\u001b[39mmodel,\n\u001b[0;32m    107\u001b[0m     args\u001b[38;5;241m=\u001b[39mtraining_args,\n\u001b[1;32m   (...)\u001b[0m\n\u001b[0;32m    114\u001b[0m     \u001b[38;5;66;03m#scheduler = get_linear_schedule_with_warmup(optimizer, num_warmup_steps, num_train_steps)\u001b[39;00m\n\u001b[0;32m    115\u001b[0m )\n\u001b[0;32m    116\u001b[0m \u001b[38;5;28mprint\u001b[39m(\u001b[38;5;124m\"\u001b[39m\u001b[38;5;124mTraining\u001b[39m\u001b[38;5;124m\"\u001b[39m)\n\u001b[1;32m--> 117\u001b[0m \u001b[43mtrainer\u001b[49m\u001b[38;5;241;43m.\u001b[39;49m\u001b[43mtrain\u001b[49m\u001b[43m(\u001b[49m\u001b[43m)\u001b[49m\n\u001b[0;32m    118\u001b[0m train_losses \u001b[38;5;241m=\u001b[39m [log[\u001b[38;5;124m\"\u001b[39m\u001b[38;5;124mloss\u001b[39m\u001b[38;5;124m\"\u001b[39m] \u001b[38;5;28;01mfor\u001b[39;00m log \u001b[38;5;129;01min\u001b[39;00m trainer\u001b[38;5;241m.\u001b[39mstate\u001b[38;5;241m.\u001b[39mlog_history \u001b[38;5;28;01mif\u001b[39;00m \u001b[38;5;124m\"\u001b[39m\u001b[38;5;124mloss\u001b[39m\u001b[38;5;124m\"\u001b[39m \u001b[38;5;129;01min\u001b[39;00m log]\n\u001b[0;32m    119\u001b[0m eval_losses \u001b[38;5;241m=\u001b[39m [log[\u001b[38;5;124m\"\u001b[39m\u001b[38;5;124meval_loss\u001b[39m\u001b[38;5;124m\"\u001b[39m] \u001b[38;5;28;01mfor\u001b[39;00m log \u001b[38;5;129;01min\u001b[39;00m trainer\u001b[38;5;241m.\u001b[39mstate\u001b[38;5;241m.\u001b[39mlog_history \u001b[38;5;28;01mif\u001b[39;00m \u001b[38;5;124m\"\u001b[39m\u001b[38;5;124meval_loss\u001b[39m\u001b[38;5;124m\"\u001b[39m \u001b[38;5;129;01min\u001b[39;00m log]\n",
      "File \u001b[1;32m~\\AppData\\Roaming\\Python\\Python311\\site-packages\\transformers\\trainer.py:2250\u001b[0m, in \u001b[0;36mTrainer.train\u001b[1;34m(self, resume_from_checkpoint, trial, ignore_keys_for_eval, **kwargs)\u001b[0m\n\u001b[0;32m   2248\u001b[0m         hf_hub_utils\u001b[38;5;241m.\u001b[39menable_progress_bars()\n\u001b[0;32m   2249\u001b[0m \u001b[38;5;28;01melse\u001b[39;00m:\n\u001b[1;32m-> 2250\u001b[0m     \u001b[38;5;28;01mreturn\u001b[39;00m \u001b[43minner_training_loop\u001b[49m\u001b[43m(\u001b[49m\n\u001b[0;32m   2251\u001b[0m \u001b[43m        \u001b[49m\u001b[43margs\u001b[49m\u001b[38;5;241;43m=\u001b[39;49m\u001b[43margs\u001b[49m\u001b[43m,\u001b[49m\n\u001b[0;32m   2252\u001b[0m \u001b[43m        \u001b[49m\u001b[43mresume_from_checkpoint\u001b[49m\u001b[38;5;241;43m=\u001b[39;49m\u001b[43mresume_from_checkpoint\u001b[49m\u001b[43m,\u001b[49m\n\u001b[0;32m   2253\u001b[0m \u001b[43m        \u001b[49m\u001b[43mtrial\u001b[49m\u001b[38;5;241;43m=\u001b[39;49m\u001b[43mtrial\u001b[49m\u001b[43m,\u001b[49m\n\u001b[0;32m   2254\u001b[0m \u001b[43m        \u001b[49m\u001b[43mignore_keys_for_eval\u001b[49m\u001b[38;5;241;43m=\u001b[39;49m\u001b[43mignore_keys_for_eval\u001b[49m\u001b[43m,\u001b[49m\n\u001b[0;32m   2255\u001b[0m \u001b[43m    \u001b[49m\u001b[43m)\u001b[49m\n",
      "File \u001b[1;32m~\\AppData\\Roaming\\Python\\Python311\\site-packages\\transformers\\trainer.py:2561\u001b[0m, in \u001b[0;36mTrainer._inner_training_loop\u001b[1;34m(self, batch_size, args, resume_from_checkpoint, trial, ignore_keys_for_eval)\u001b[0m\n\u001b[0;32m   2554\u001b[0m context \u001b[38;5;241m=\u001b[39m (\n\u001b[0;32m   2555\u001b[0m     functools\u001b[38;5;241m.\u001b[39mpartial(\u001b[38;5;28mself\u001b[39m\u001b[38;5;241m.\u001b[39maccelerator\u001b[38;5;241m.\u001b[39mno_sync, model\u001b[38;5;241m=\u001b[39mmodel)\n\u001b[0;32m   2556\u001b[0m     \u001b[38;5;28;01mif\u001b[39;00m i \u001b[38;5;241m!=\u001b[39m \u001b[38;5;28mlen\u001b[39m(batch_samples) \u001b[38;5;241m-\u001b[39m \u001b[38;5;241m1\u001b[39m\n\u001b[0;32m   2557\u001b[0m     \u001b[38;5;129;01mand\u001b[39;00m \u001b[38;5;28mself\u001b[39m\u001b[38;5;241m.\u001b[39maccelerator\u001b[38;5;241m.\u001b[39mdistributed_type \u001b[38;5;241m!=\u001b[39m DistributedType\u001b[38;5;241m.\u001b[39mDEEPSPEED\n\u001b[0;32m   2558\u001b[0m     \u001b[38;5;28;01melse\u001b[39;00m contextlib\u001b[38;5;241m.\u001b[39mnullcontext\n\u001b[0;32m   2559\u001b[0m )\n\u001b[0;32m   2560\u001b[0m \u001b[38;5;28;01mwith\u001b[39;00m context():\n\u001b[1;32m-> 2561\u001b[0m     tr_loss_step \u001b[38;5;241m=\u001b[39m \u001b[38;5;28;43mself\u001b[39;49m\u001b[38;5;241;43m.\u001b[39;49m\u001b[43mtraining_step\u001b[49m\u001b[43m(\u001b[49m\u001b[43mmodel\u001b[49m\u001b[43m,\u001b[49m\u001b[43m \u001b[49m\u001b[43minputs\u001b[49m\u001b[43m,\u001b[49m\u001b[43m \u001b[49m\u001b[43mnum_items_in_batch\u001b[49m\u001b[43m)\u001b[49m\n\u001b[0;32m   2563\u001b[0m \u001b[38;5;28;01mif\u001b[39;00m (\n\u001b[0;32m   2564\u001b[0m     args\u001b[38;5;241m.\u001b[39mlogging_nan_inf_filter\n\u001b[0;32m   2565\u001b[0m     \u001b[38;5;129;01mand\u001b[39;00m \u001b[38;5;129;01mnot\u001b[39;00m is_torch_xla_available()\n\u001b[0;32m   2566\u001b[0m     \u001b[38;5;129;01mand\u001b[39;00m (torch\u001b[38;5;241m.\u001b[39misnan(tr_loss_step) \u001b[38;5;129;01mor\u001b[39;00m torch\u001b[38;5;241m.\u001b[39misinf(tr_loss_step))\n\u001b[0;32m   2567\u001b[0m ):\n\u001b[0;32m   2568\u001b[0m     \u001b[38;5;66;03m# if loss is nan or inf simply add the average of previous logged losses\u001b[39;00m\n\u001b[0;32m   2569\u001b[0m     tr_loss \u001b[38;5;241m=\u001b[39m tr_loss \u001b[38;5;241m+\u001b[39m tr_loss \u001b[38;5;241m/\u001b[39m (\u001b[38;5;241m1\u001b[39m \u001b[38;5;241m+\u001b[39m \u001b[38;5;28mself\u001b[39m\u001b[38;5;241m.\u001b[39mstate\u001b[38;5;241m.\u001b[39mglobal_step \u001b[38;5;241m-\u001b[39m \u001b[38;5;28mself\u001b[39m\u001b[38;5;241m.\u001b[39m_globalstep_last_logged)\n",
      "File \u001b[1;32m~\\AppData\\Roaming\\Python\\Python311\\site-packages\\transformers\\trainer.py:3753\u001b[0m, in \u001b[0;36mTrainer.training_step\u001b[1;34m(***failed resolving arguments***)\u001b[0m\n\u001b[0;32m   3750\u001b[0m \u001b[38;5;28;01mif\u001b[39;00m \u001b[38;5;28mself\u001b[39m\u001b[38;5;241m.\u001b[39maccelerator\u001b[38;5;241m.\u001b[39mdistributed_type \u001b[38;5;241m==\u001b[39m DistributedType\u001b[38;5;241m.\u001b[39mDEEPSPEED:\n\u001b[0;32m   3751\u001b[0m     kwargs[\u001b[38;5;124m\"\u001b[39m\u001b[38;5;124mscale_wrt_gas\u001b[39m\u001b[38;5;124m\"\u001b[39m] \u001b[38;5;241m=\u001b[39m \u001b[38;5;28;01mFalse\u001b[39;00m\n\u001b[1;32m-> 3753\u001b[0m \u001b[38;5;28;43mself\u001b[39;49m\u001b[38;5;241;43m.\u001b[39;49m\u001b[43maccelerator\u001b[49m\u001b[38;5;241;43m.\u001b[39;49m\u001b[43mbackward\u001b[49m\u001b[43m(\u001b[49m\u001b[43mloss\u001b[49m\u001b[43m,\u001b[49m\u001b[43m \u001b[49m\u001b[38;5;241;43m*\u001b[39;49m\u001b[38;5;241;43m*\u001b[39;49m\u001b[43mkwargs\u001b[49m\u001b[43m)\u001b[49m\n\u001b[0;32m   3755\u001b[0m \u001b[38;5;28;01mreturn\u001b[39;00m loss\u001b[38;5;241m.\u001b[39mdetach()\n",
      "File \u001b[1;32m~\\AppData\\Roaming\\Python\\Python311\\site-packages\\accelerate\\accelerator.py:2329\u001b[0m, in \u001b[0;36mAccelerator.backward\u001b[1;34m(self, loss, **kwargs)\u001b[0m\n\u001b[0;32m   2327\u001b[0m     \u001b[38;5;28mself\u001b[39m\u001b[38;5;241m.\u001b[39mlomo_backward(loss, learning_rate)\n\u001b[0;32m   2328\u001b[0m \u001b[38;5;28;01melse\u001b[39;00m:\n\u001b[1;32m-> 2329\u001b[0m     \u001b[43mloss\u001b[49m\u001b[38;5;241;43m.\u001b[39;49m\u001b[43mbackward\u001b[49m\u001b[43m(\u001b[49m\u001b[38;5;241;43m*\u001b[39;49m\u001b[38;5;241;43m*\u001b[39;49m\u001b[43mkwargs\u001b[49m\u001b[43m)\u001b[49m\n",
      "File \u001b[1;32m~\\AppData\\Roaming\\Python\\Python311\\site-packages\\torch\\_tensor.py:626\u001b[0m, in \u001b[0;36mTensor.backward\u001b[1;34m(self, gradient, retain_graph, create_graph, inputs)\u001b[0m\n\u001b[0;32m    616\u001b[0m \u001b[38;5;28;01mif\u001b[39;00m has_torch_function_unary(\u001b[38;5;28mself\u001b[39m):\n\u001b[0;32m    617\u001b[0m     \u001b[38;5;28;01mreturn\u001b[39;00m handle_torch_function(\n\u001b[0;32m    618\u001b[0m         Tensor\u001b[38;5;241m.\u001b[39mbackward,\n\u001b[0;32m    619\u001b[0m         (\u001b[38;5;28mself\u001b[39m,),\n\u001b[1;32m   (...)\u001b[0m\n\u001b[0;32m    624\u001b[0m         inputs\u001b[38;5;241m=\u001b[39minputs,\n\u001b[0;32m    625\u001b[0m     )\n\u001b[1;32m--> 626\u001b[0m \u001b[43mtorch\u001b[49m\u001b[38;5;241;43m.\u001b[39;49m\u001b[43mautograd\u001b[49m\u001b[38;5;241;43m.\u001b[39;49m\u001b[43mbackward\u001b[49m\u001b[43m(\u001b[49m\n\u001b[0;32m    627\u001b[0m \u001b[43m    \u001b[49m\u001b[38;5;28;43mself\u001b[39;49m\u001b[43m,\u001b[49m\u001b[43m \u001b[49m\u001b[43mgradient\u001b[49m\u001b[43m,\u001b[49m\u001b[43m \u001b[49m\u001b[43mretain_graph\u001b[49m\u001b[43m,\u001b[49m\u001b[43m \u001b[49m\u001b[43mcreate_graph\u001b[49m\u001b[43m,\u001b[49m\u001b[43m \u001b[49m\u001b[43minputs\u001b[49m\u001b[38;5;241;43m=\u001b[39;49m\u001b[43minputs\u001b[49m\n\u001b[0;32m    628\u001b[0m \u001b[43m\u001b[49m\u001b[43m)\u001b[49m\n",
      "File \u001b[1;32m~\\AppData\\Roaming\\Python\\Python311\\site-packages\\torch\\autograd\\__init__.py:347\u001b[0m, in \u001b[0;36mbackward\u001b[1;34m(tensors, grad_tensors, retain_graph, create_graph, grad_variables, inputs)\u001b[0m\n\u001b[0;32m    342\u001b[0m     retain_graph \u001b[38;5;241m=\u001b[39m create_graph\n\u001b[0;32m    344\u001b[0m \u001b[38;5;66;03m# The reason we repeat the same comment below is that\u001b[39;00m\n\u001b[0;32m    345\u001b[0m \u001b[38;5;66;03m# some Python versions print out the first line of a multi-line function\u001b[39;00m\n\u001b[0;32m    346\u001b[0m \u001b[38;5;66;03m# calls in the traceback and some print out the last line\u001b[39;00m\n\u001b[1;32m--> 347\u001b[0m \u001b[43m_engine_run_backward\u001b[49m\u001b[43m(\u001b[49m\n\u001b[0;32m    348\u001b[0m \u001b[43m    \u001b[49m\u001b[43mtensors\u001b[49m\u001b[43m,\u001b[49m\n\u001b[0;32m    349\u001b[0m \u001b[43m    \u001b[49m\u001b[43mgrad_tensors_\u001b[49m\u001b[43m,\u001b[49m\n\u001b[0;32m    350\u001b[0m \u001b[43m    \u001b[49m\u001b[43mretain_graph\u001b[49m\u001b[43m,\u001b[49m\n\u001b[0;32m    351\u001b[0m \u001b[43m    \u001b[49m\u001b[43mcreate_graph\u001b[49m\u001b[43m,\u001b[49m\n\u001b[0;32m    352\u001b[0m \u001b[43m    \u001b[49m\u001b[43minputs\u001b[49m\u001b[43m,\u001b[49m\n\u001b[0;32m    353\u001b[0m \u001b[43m    \u001b[49m\u001b[43mallow_unreachable\u001b[49m\u001b[38;5;241;43m=\u001b[39;49m\u001b[38;5;28;43;01mTrue\u001b[39;49;00m\u001b[43m,\u001b[49m\n\u001b[0;32m    354\u001b[0m \u001b[43m    \u001b[49m\u001b[43maccumulate_grad\u001b[49m\u001b[38;5;241;43m=\u001b[39;49m\u001b[38;5;28;43;01mTrue\u001b[39;49;00m\u001b[43m,\u001b[49m\n\u001b[0;32m    355\u001b[0m \u001b[43m\u001b[49m\u001b[43m)\u001b[49m\n",
      "File \u001b[1;32m~\\AppData\\Roaming\\Python\\Python311\\site-packages\\torch\\autograd\\graph.py:823\u001b[0m, in \u001b[0;36m_engine_run_backward\u001b[1;34m(t_outputs, *args, **kwargs)\u001b[0m\n\u001b[0;32m    821\u001b[0m     unregister_hooks \u001b[38;5;241m=\u001b[39m _register_logging_hooks_on_whole_graph(t_outputs)\n\u001b[0;32m    822\u001b[0m \u001b[38;5;28;01mtry\u001b[39;00m:\n\u001b[1;32m--> 823\u001b[0m     \u001b[38;5;28;01mreturn\u001b[39;00m \u001b[43mVariable\u001b[49m\u001b[38;5;241;43m.\u001b[39;49m\u001b[43m_execution_engine\u001b[49m\u001b[38;5;241;43m.\u001b[39;49m\u001b[43mrun_backward\u001b[49m\u001b[43m(\u001b[49m\u001b[43m  \u001b[49m\u001b[38;5;66;43;03m# Calls into the C++ engine to run the backward pass\u001b[39;49;00m\n\u001b[0;32m    824\u001b[0m \u001b[43m        \u001b[49m\u001b[43mt_outputs\u001b[49m\u001b[43m,\u001b[49m\u001b[43m \u001b[49m\u001b[38;5;241;43m*\u001b[39;49m\u001b[43margs\u001b[49m\u001b[43m,\u001b[49m\u001b[43m \u001b[49m\u001b[38;5;241;43m*\u001b[39;49m\u001b[38;5;241;43m*\u001b[39;49m\u001b[43mkwargs\u001b[49m\n\u001b[0;32m    825\u001b[0m \u001b[43m    \u001b[49m\u001b[43m)\u001b[49m  \u001b[38;5;66;03m# Calls into the C++ engine to run the backward pass\u001b[39;00m\n\u001b[0;32m    826\u001b[0m \u001b[38;5;28;01mfinally\u001b[39;00m:\n\u001b[0;32m    827\u001b[0m     \u001b[38;5;28;01mif\u001b[39;00m attach_logging_hooks:\n",
      "\u001b[1;31mKeyboardInterrupt\u001b[0m: "
     ]
    }
   ],
   "source": [
    "# takes about 13min with our data\n",
    "from classifier.finetune import load_labelintdcts\n",
    "int2label_dct, label2int_dct = load_labelintdcts()\n",
    "sims = [3,6,9]\n",
    "for e in sims:\n",
    "    bn_ds = DatasetDict.load_from_disk(f\"{input_dir}/ds_{e}_bn\")\n",
    "    mc_ds = DatasetDict.load_from_disk(f\"{input_dir}/ds_{e}_mc\")\n",
    "    for model in [\"sentence-transformers/paraphrase-xlm-r-multilingual-v1\"]:\n",
    "        torch.cuda.empty_cache()\n",
    "        hyperparams={\n",
    "            \"epochs\":5, \n",
    "            \"r\":e,\n",
    "            \"lr\":2e-5,\n",
    "            \"batch_size\":16\n",
    "            }\n",
    "        finetune_incmodel(bn_ds, int2label_dct[\"bn\"], label2int_dct[\"bn\"], \"bn\", model_name=model, dev='cuda', output_dir=output_dir, hyperparams=hyperparams)\n",
    "        print(f\"\\nSaved {model} binary model.\")\n",
    "        torch.cuda.empty_cache()\n",
    "        hyperparams={\n",
    "            \"epochs\":15, \n",
    "            \"r\":e,\n",
    "            \"lr\":2e-5,\n",
    "            \"batch_size\":16\n",
    "            }\n",
    "        finetune_incmodel(mc_ds, int2label_dct[\"mc\"], label2int_dct[\"mc\"], \"mc\", model_name=model, dev='cuda', output_dir=output_dir, hyperparams=hyperparams)\n",
    "        print(f\"\\nSaved {model} multiclass model.\")"
   ]
  },
  {
   "cell_type": "markdown",
   "metadata": {},
   "source": [
    "# 5. Evaluating\n",
    "\n",
    "So now, with our models saved in our outputs folder, we can see their reported f1 scores and accuracy in the logs above-- but maybe we want to compare across traindevtest/traintestholdout splits (especially helpful when we were comparing different models.)"
   ]
  },
  {
   "cell_type": "code",
   "execution_count": null,
   "metadata": {},
   "outputs": [],
   "source": [
    "import glob\n",
    "import shutil\n",
    "os.mkdir(output_dir+\"/fting_A_bn\")\n",
    "os.mkdir(output_dir+\"/fting_B_mc\")\n",
    "for modeldir in glob.glob(output_dir+\"/p*\"):\n",
    "    fn = os.path.basename(modeldir)\n",
    "    if \"_bn_\" in fn:\n",
    "        shutil.move(modeldir, output_dir+f\"/fting_A_bn/{fn}\")\n",
    "    elif \"_mc_\" in fn:\n",
    "        shutil.move(modeldir, output_dir+f\"/fting_B_mc/{fn}\")\n",
    "\n",
    "hyperparams={\"epochs\":5, \"r\":e, \"lr\":2e-5, \"batch_size\":16}\n",
    "with open(output_dir+f\"/fting_A_bn/run_details.json\", \"w\", encoding=\"utf-8\") as f:\n",
    "    json.dump(hyperparams, f, ensure_ascii=False, indent=4)\n",
    "\n",
    "hyperparams={\"epochs\":15, \"r\":e, \"lr\":2e-5, \"batch_size\":16}\n",
    "with open(output_dir+f\"/fting_B_MC/run_details.json\", \"w\", encoding=\"utf-8\") as f:\n",
    "    json.dump(hyperparams, f, ensure_ascii=False, indent=4)"
   ]
  },
  {
   "cell_type": "code",
   "execution_count": null,
   "metadata": {},
   "outputs": [
    {
     "name": "stderr",
     "output_type": "stream",
     "text": [
      "100%|██████████| 3/3 [00:00<00:00,  5.79it/s]\n",
      "100%|██████████| 210/210 [00:02<00:00, 73.62it/s]\n"
     ]
    },
    {
     "name": "stdout",
     "output_type": "stream",
     "text": [
      "Encoding test sentences.\n"
     ]
    },
    {
     "name": "stderr",
     "output_type": "stream",
     "text": [
      "100%|██████████| 53/53 [00:00<00:00, 74.35it/s]\n",
      "100%|██████████| 210/210 [00:02<00:00, 73.56it/s]\n"
     ]
    },
    {
     "name": "stdout",
     "output_type": "stream",
     "text": [
      "Encoding test sentences.\n"
     ]
    },
    {
     "name": "stderr",
     "output_type": "stream",
     "text": [
      "100%|██████████| 53/53 [00:00<00:00, 78.53it/s]\n",
      "100%|██████████| 210/210 [00:02<00:00, 78.95it/s]\n"
     ]
    },
    {
     "name": "stdout",
     "output_type": "stream",
     "text": [
      "Encoding test sentences.\n"
     ]
    },
    {
     "name": "stderr",
     "output_type": "stream",
     "text": [
      "100%|██████████| 53/53 [00:00<00:00, 78.46it/s]\n",
      "100%|██████████| 3/3 [00:19<00:00,  6.55s/it]\n"
     ]
    }
   ],
   "source": [
    "# this code creates predictions for the holdout datasets, so it may take a couple minutes\n",
    "from classifier.display_model import RunReporter\n",
    "\n",
    "rr_bn = RunReporter(output_dir+\"/fting_A_bn\", 'bn')\n",
    "rr_bn.load_model_reports(\"svm\")\n",
    "rr_bn.create_result_dfs()\n",
    "\n",
    "rr_mc = RunReporter(output_dir+\"/fting_B_mc\", 'mc')\n",
    "rr_mc.load_model_reports(\"svm\")\n",
    "rr_mc.create_result_dfs()"
   ]
  },
  {
   "cell_type": "markdown",
   "metadata": {},
   "source": [
    "This last section shows how to view the evaluation data frames from the run reports-- but again, the values are different from our actual experiments run outside jupyter notebook."
   ]
  },
  {
   "cell_type": "code",
   "execution_count": 13,
   "metadata": {},
   "outputs": [
    {
     "name": "stdout",
     "output_type": "stream",
     "text": [
      "BN overall\n",
      "          precision    recall  f1-score  accuracy  min_vloss\n",
      "3         0.934803  0.933099  0.933801  0.933099        NaN\n",
      "6         0.964789  0.964789  0.964789  0.964789        NaN\n",
      "9         0.919628  0.919014  0.919305  0.919014        NaN\n",
      "Average   0.939740  0.938967  0.939298  0.938967        NaN\n",
      "SD        0.018764  0.019143  0.018971  0.019143        NaN\n",
      "\n",
      "BN labels\n",
      "\n",
      "non-incentive \n",
      "          precision    recall  f1-score\n",
      "3         0.964912  0.952381  0.958606\n",
      "6         0.978355  0.978355  0.978355\n",
      "9         0.952174  0.948052  0.950108\n",
      "Average   0.965147  0.959596  0.962356\n",
      "SD        0.010690  0.013382  0.011833\n",
      "incentive \n",
      "          precision    recall  f1-score\n",
      "3         0.803571  0.849057  0.825688\n",
      "6         0.905660  0.905660  0.905660\n",
      "9         0.777778  0.792453  0.785047\n",
      "Average   0.829003  0.849057  0.838798\n",
      "SD        0.055218  0.046217  0.050105\n"
     ]
    }
   ],
   "source": [
    "print(\"BN overall\\n\", rr_bn.overall_df)\n",
    "print(\"\\nBN labels\\n\")\n",
    "for i in range(len(rr_bn.id2label)):\n",
    "    print(rr_bn.id2label[str(i)],\"\\n\", rr_bn.label_df_dct[str(i)])"
   ]
  },
  {
   "cell_type": "code",
   "execution_count": 14,
   "metadata": {},
   "outputs": [
    {
     "name": "stdout",
     "output_type": "stream",
     "text": [
      "MC overall\n",
      "          precision    recall  f1-score  accuracy  min_vloss\n",
      "3         0.982311  0.981132  0.981026  0.981132        NaN\n",
      "6         0.982583  0.981132  0.981205  0.981132        NaN\n",
      "9         1.000000  1.000000  1.000000  1.000000        NaN\n",
      "Average   0.988298  0.987421  0.987410  0.987421        NaN\n",
      "SD        0.008275  0.008894  0.008902  0.008894        NaN\n",
      "\n",
      "MC labels\n",
      "\n",
      "Fine \n",
      "          precision  recall  f1-score\n",
      "3              1.0     1.0       1.0\n",
      "6              1.0     1.0       1.0\n",
      "9              1.0     1.0       1.0\n",
      "Average        1.0     1.0       1.0\n",
      "SD             0.0     0.0       0.0\n",
      "Supplies \n",
      "          precision    recall  f1-score\n",
      "3              1.0  1.000000  1.000000\n",
      "6              1.0  0.937500  0.967742\n",
      "9              1.0  1.000000  1.000000\n",
      "Average        1.0  0.979167  0.989247\n",
      "SD             0.0  0.029463  0.015207\n",
      "Technical_assistance \n",
      "          precision  recall  f1-score\n",
      "3         0.937500     1.0  0.967742\n",
      "6         1.000000     1.0  1.000000\n",
      "9         1.000000     1.0  1.000000\n",
      "Average   0.979167     1.0  0.989247\n",
      "SD        0.029463     0.0  0.015207\n",
      "Tax_deduction \n",
      "          precision  recall  f1-score\n",
      "3              1.0     1.0       1.0\n",
      "6              1.0     1.0       1.0\n",
      "9              1.0     1.0       1.0\n",
      "Average        1.0     1.0       1.0\n",
      "SD             0.0     0.0       0.0\n",
      "Credit \n",
      "          precision  recall  f1-score\n",
      "3              1.0     1.0       1.0\n",
      "6              1.0     1.0       1.0\n",
      "9              1.0     1.0       1.0\n",
      "Average        1.0     1.0       1.0\n",
      "SD             0.0     0.0       0.0\n",
      "Direct_payment \n",
      "          precision    recall  f1-score\n",
      "3         1.000000  0.916667  0.956522\n",
      "6         0.923077  1.000000  0.960000\n",
      "9         1.000000  1.000000  1.000000\n",
      "Average   0.974359  0.972222  0.972174\n",
      "SD        0.036262  0.039284  0.019727\n"
     ]
    }
   ],
   "source": [
    "print(\"MC overall\\n\", rr_mc.overall_df)\n",
    "print(\"\\nMC labels\\n\")\n",
    "for i in range(len(rr_mc.id2label)):\n",
    "    print(rr_mc.id2label[str(i)],\"\\n\", rr_mc.label_df_dct[str(i)])"
   ]
  }
 ],
 "metadata": {
  "kernelspec": {
   "display_name": "Python 3",
   "language": "python",
   "name": "python3"
  },
  "language_info": {
   "codemirror_mode": {
    "name": "ipython",
    "version": 3
   },
   "file_extension": ".py",
   "mimetype": "text/x-python",
   "name": "python",
   "nbconvert_exporter": "python",
   "pygments_lexer": "ipython3",
   "version": "3.11.7"
  }
 },
 "nbformat": 4,
 "nbformat_minor": 2
}

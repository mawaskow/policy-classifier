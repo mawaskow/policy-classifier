{
 "cells": [
  {
   "cell_type": "code",
   "execution_count": 1,
   "metadata": {
    "colab": {
     "base_uri": "https://localhost:8080/"
    },
    "id": "W8_C1Jk6uPxa",
    "outputId": "1ebce58e-6262-4cf6-d463-80e0153230e3"
   },
   "outputs": [],
   "source": [
    "#from google import drive\n",
    "#drive.mount('/content/drive')"
   ]
  },
  {
   "cell_type": "code",
   "execution_count": 2,
   "metadata": {
    "id": "dwgJ2jx1xOp1"
   },
   "outputs": [],
   "source": [
    "%%capture\n",
    "!pip install sentence_transformers\n",
    "#!pip install setfit\n",
    "!pip install imblearn"
   ]
  },
  {
   "cell_type": "code",
   "execution_count": 3,
   "metadata": {
    "colab": {
     "base_uri": "https://localhost:8080/"
    },
    "id": "Lw3Kl304xCtm",
    "outputId": "097f2818-27a0-4902-948a-5845c588ae5d"
   },
   "outputs": [],
   "source": [
    "import spacy\n",
    "from sklearn.model_selection import train_test_split\n",
    "from sklearn import svm\n",
    "from sklearn.model_selection import cross_val_score\n",
    "from sklearn.metrics import classification_report, cohen_kappa_score\n",
    "from sentence_transformers import SentenceTransformer\n",
    "from sklearn.ensemble import RandomForestClassifier\n",
    "from imblearn.over_sampling import RandomOverSampler\n",
    "import time\n",
    "#import cupy as cp\n",
    "import random\n",
    "#r = random.Random(9)\n",
    "#random.seed(9)"
   ]
  },
  {
   "cell_type": "code",
   "execution_count": 1,
   "metadata": {
    "id": "ixWDBQ_jyPO6"
   },
   "outputs": [
    {
     "name": "stdout",
     "output_type": "stream",
     "text": [
      "c:\\Users\\allie\\Documents\\GitHub\\policy-classifier\\classifier\n"
     ]
    }
   ],
   "source": [
    "import os\n",
    "import json\n",
    "\n",
    "cwd = os.getcwd()\n",
    "#os.listdir(cwd+\"/drive/MyDrive/PhD/CoLabs\")\n",
    "input_path = cwd+\"/drive/MyDrive/PhD/CoLabs/admin.json\"\n",
    "output_dir =  cwd+\"/drive/MyDrive/PhD/CoLabs/\"\n",
    "full_inp_path = cwd+\"/drive/MyDrive/PhD/CoLabs/ForestLablTmp_prelab.json\"\n",
    "\n",
    "output_dir =  cwd+\"../../outputs\"\n",
    "input_dir =  cwd+\"../../inputs\"\n",
    "#input_path = cwd+\"/../../../../Downloads/admin.json\"\n",
    "input_path = input_dir+\"/01Nov2024_first_dataset.json\"\n",
    "\n",
    "full_inp_path = cwd+\"/../../policy-classifier/populate_corpora/outputs/ForestLablTmp_prelab.json\"\n",
    "print(cwd)"
   ]
  },
  {
   "cell_type": "code",
   "execution_count": 5,
   "metadata": {},
   "outputs": [],
   "source": [
    "with open(input_path,\"r\", encoding=\"utf-8\") as f:\n",
    "  dcno_json = json.load(f)"
   ]
  },
  {
   "cell_type": "markdown",
   "metadata": {
    "id": "_TtVfb9ve1Sx"
   },
   "source": [
    "At this stage, the pdfs have been collected and converted into a json of sentences, and that json has been labelled."
   ]
  },
  {
   "cell_type": "markdown",
   "metadata": {
    "id": "e00ho0601fmP"
   },
   "source": [
    "# Prep data for classification"
   ]
  },
  {
   "cell_type": "markdown",
   "metadata": {
    "id": "lEVjEQjtDGsA"
   },
   "source": [
    "Get the jsons, load data out and into the FbQvd pipeline's binary and multiclass classifications"
   ]
  },
  {
   "cell_type": "code",
   "execution_count": 6,
   "metadata": {
    "colab": {
     "base_uri": "https://localhost:8080/"
    },
    "id": "OzM4fiW7C62x",
    "outputId": "aca97924-d905-4ab0-956d-2e5b6c8839f8"
   },
   "outputs": [
    {
     "name": "stdout",
     "output_type": "stream",
     "text": [
      "1065 1065\n"
     ]
    }
   ],
   "source": [
    "'''\n",
    "The dcno_json has all the sentences labeled in doccano. One of the labels included is Unsure,\n",
    "but we're going to ignore those entries. Then we're getting our lists of sentences and labels\n",
    "'''\n",
    "\n",
    "sents = []\n",
    "labels = []\n",
    "\n",
    "for entry in dcno_json:\n",
    "  if entry[\"label\"] != []:\n",
    "    if entry[\"label\"][0].lower() !=\"unsure\":\n",
    "      sents.append(entry[\"text\"])\n",
    "      labels.append(entry[\"label\"][0])\n",
    "\n",
    "print(len(sents), len(labels))"
   ]
  },
  {
   "cell_type": "code",
   "execution_count": 7,
   "metadata": {
    "colab": {
     "base_uri": "https://localhost:8080/"
    },
    "id": "mmDjiu9_oZ0s",
    "outputId": "602955f9-0d20-44dd-cbdc-46f5cf3eacfe"
   },
   "outputs": [
    {
     "data": {
      "text/plain": [
       "{'id': 93059,\n",
       " 'text': 'The Charter is \"a statement of Government commitment to support Rural Ireland\\'s regeneration and to underpin the future sustainable development of Ireland\\'s rural communities\" The Charter\\'s vision recognised the need for strong support for the country\\'s rural communities and set out a number of specific commi tments which would establish frameworks and practices to support the rejuvenation of the rural economy and rural society, particularly in the areas of enterprise creation and development, the maintenance and restoration of the rural cultural heritage, supp ort and protection for existing towns and settlements, safe and secure rural communities and an increased quality of life for all rural dwellers.',\n",
       " 'label': ['non-incentive'],\n",
       " 'Comments': []}"
      ]
     },
     "execution_count": 7,
     "metadata": {},
     "output_type": "execute_result"
    }
   ],
   "source": [
    "#print(set(labels))\n",
    "meow = \"mention-tax deduction\"\n",
    "meow[0:7], meow[8:]\n",
    "\n",
    "dcno_json[0]"
   ]
  },
  {
   "cell_type": "code",
   "execution_count": 8,
   "metadata": {
    "id": "OnqyfmkGlFa4"
   },
   "outputs": [],
   "source": [
    "def label_conversion(labels):\n",
    "  '''\n",
    "  This fxn goes through the list of labels to create two additional aggregations of the data.\n",
    "  In the \"class-heavy\"/\"cheavy\" lists, labels containing \"mention\" become the class itself (removing the \"mention-\")\n",
    "  The \"bnry\" lists have only \"non-incentive\"/\"incentive\" whereas\n",
    "  the others have \"non-incentive\"/each named class.\n",
    "  input:\n",
    "  labels - list of labels\n",
    "  returns:\n",
    "  labels_bnry_cheavy - binary labels, class heavy\n",
    "  labels_classhvy - multiclass labels, class heavy\n",
    "  '''\n",
    "  labels_mc_c = []\n",
    "  labels_bn_c = []\n",
    "\n",
    "  # binary\n",
    "  for label in labels:\n",
    "    if label == \"non-incentive\":\n",
    "      labels_bn_c.append(\"non-incentive\")\n",
    "    elif label[0:7] == \"mention\":\n",
    "      labels_bn_c.append(\"incentive\")\n",
    "    else:\n",
    "      labels_bn_c.append(\"incentive\")\n",
    "\n",
    "  print(\"Labels, binary:\", len(labels_bn_c))\n",
    "  # multiclass\n",
    "  for label in labels:\n",
    "    if label == \"non-incentive\":\n",
    "      labels_mc_c.append(\"non-incentive\")\n",
    "    elif label[0:7] == \"mention\":\n",
    "      labels_mc_c.append(label[8:])\n",
    "    else:\n",
    "      labels_mc_c.append(label)\n",
    "\n",
    "  print(\"Labels, incentive-class:\", len(labels_mc_c))\n",
    "  print(set(labels_mc_c))\n",
    "\n",
    "  return labels_bn_c, labels_mc_c\n",
    "\n",
    "\n",
    "def bn_sent_list_gen(sents, labels_bn_c):\n",
    "  '''\n",
    "  This gets the lists of the sentences for the binary classification: one list of incentives, one of non-incentives.\n",
    "  inputs:\n",
    "  sents - list of sentences\n",
    "  labels_classhvy - binary labels class heavy\n",
    "  returns:\n",
    "  inc_nonhvy - incentive sentences, non-incentive heavy\n",
    "  noninc_nonhvy - nonincentive sentences, non-incentive heavy\n",
    "  inc_clshvy - incentive sentences, class heavy\n",
    "  noninc_clshvy - nonincentive sentences, class heavy\n",
    "  '''\n",
    "  inc_c =[]\n",
    "  noninc_c =[]\n",
    "\n",
    "  for sent, label in zip(sents, labels_bn_c):\n",
    "    if label == \"non-incentive\":\n",
    "      noninc_c.append(sent)\n",
    "    else:\n",
    "      inc_c.append(sent)\n",
    "  return inc_c, noninc_c\n",
    "\n",
    "def mc_data_prep(sents, labels_mc_c):\n",
    "  '''\n",
    "  This fxn takes the list of sentences and the labels aggregated in the different methods\n",
    "  and returns the incentive-specific sentences\n",
    "  inputs:\n",
    "  sents - list of sentences\n",
    "  labels_classhvy - labels multiclass but class heavy\n",
    "  outputs:\n",
    "  sents_clshvy - classified incentive sentences, class heavy\n",
    "  nlabs_clshvy - classified incentive labels, class heavy\n",
    "  '''\n",
    "  sents_c = []\n",
    "  labs_c = []\n",
    "\n",
    "  for sent, label in zip(sents, labels_mc_c):\n",
    "    if label == \"non-incentive\":\n",
    "      pass\n",
    "    else:\n",
    "      sents_c.append(sent)\n",
    "      labs_c.append(label)\n",
    "\n",
    "  print(\"Incentive sents from class heavy agg: \", len(sents_c), len(labs_c))\n",
    "  return sents_c, labs_c\n"
   ]
  },
  {
   "cell_type": "code",
   "execution_count": 9,
   "metadata": {
    "colab": {
     "base_uri": "https://localhost:8080/"
    },
    "id": "mE0XFEesytCo",
    "outputId": "d88fe9a6-3d96-4428-a698-fec006cecd80"
   },
   "outputs": [
    {
     "name": "stdout",
     "output_type": "stream",
     "text": [
      "Labels, binary: 1065\n",
      "Labels, incentive-class: 1065\n",
      "{'direct payment', 'tax deduction', 'supplies', 'credit', 'fine', 'technical assistance', 'non-incentive'}\n",
      "236 829\n",
      "Incentive sents from class heavy agg:  236 236\n"
     ]
    }
   ],
   "source": [
    "labels_bn_c, labels_mc_c = label_conversion(labels)\n",
    "inc_sents_c, noninc_sents_c = bn_sent_list_gen(sents, labels_bn_c)\n",
    "print(len(inc_sents_c), len(noninc_sents_c))\n",
    "sents_mc_c, labs_mc_c = mc_data_prep(sents, labels_mc_c)"
   ]
  },
  {
   "cell_type": "markdown",
   "metadata": {
    "id": "WFBGAX1-nltk"
   },
   "source": [
    "#Data Preparation for 2nd annotator\n",
    "For annotator of subset"
   ]
  },
  {
   "cell_type": "code",
   "execution_count": 10,
   "metadata": {
    "id": "d2N1XqoAnpL2"
   },
   "outputs": [],
   "source": [
    "# need to reset values for json and create balanced subset\n",
    "\n",
    "def label_dct(djson):\n",
    "  rev_lib = {}\n",
    "  for entry in djson:\n",
    "    if entry[\"label\"] != []:\n",
    "      if entry[\"label\"][0] !=\"Unsure\":\n",
    "        if entry[\"label\"][0] not in rev_lib.keys():\n",
    "          rev_lib[entry[\"label\"][0]] = [entry[\"text\"]]\n",
    "        else:\n",
    "          rev_lib[entry[\"label\"][0]].append(entry[\"text\"])\n",
    "  return rev_lib"
   ]
  },
  {
   "cell_type": "code",
   "execution_count": 11,
   "metadata": {
    "colab": {
     "base_uri": "https://localhost:8080/"
    },
    "id": "eukGjRiyqJjM",
    "outputId": "564db192-3209-463e-9bde-e0b78e4bad3a"
   },
   "outputs": [
    {
     "data": {
      "text/plain": [
       "dict_keys(['non-incentive', 'mention-direct payment', 'direct payment', 'technical assistance', 'mention-fine', 'tax deduction', 'supplies', 'mention-technical assistance', 'credit', 'fine', 'mention-supplies', 'mention-credit', 'mention-tax deduction'])"
      ]
     },
     "execution_count": 11,
     "metadata": {},
     "output_type": "execute_result"
    }
   ],
   "source": [
    "label_lib = label_dct(dcno_json)\n",
    "label_lib.keys()"
   ]
  },
  {
   "cell_type": "code",
   "execution_count": 12,
   "metadata": {
    "id": "SFO3ri3XqjjL"
   },
   "outputs": [],
   "source": [
    "def check_amounts(label_lib):\n",
    "  '''\n",
    "  for label in label_lib.keys():\n",
    "    print(f'{label}: {len(label_lib[label])}')\n",
    "  '''\n",
    "  incents = ['direct payment', 'technical assistance', 'tax deduction', 'supplies', 'credit', 'fine']\n",
    "  for incentive in incents:\n",
    "    print('\\n')\n",
    "    print(f'{incentive}: {len(label_lib[incentive])}')\n",
    "    print(f'{\"mention-\"+incentive}: {len(label_lib[\"mention-\"+incentive])}')\n",
    "  print(f'{\"non-incentive\"}: {len(label_lib[\"non-incentive\"])}')\n",
    "\n",
    "def amount_dct(label_lib):\n",
    "  new_dct = {}\n",
    "  incents = ['direct payment', 'technical assistance', 'tax deduction', 'supplies', 'credit', 'fine']\n",
    "  for incentive in incents:\n",
    "    new_dct[incentive] = len(label_lib[incentive])\n",
    "    new_dct[\"mention-\"+incentive] = len(label_lib[\"mention-\"+incentive])\n",
    "  new_dct[\"non-incentive\"] = len(label_lib[\"non-incentive\"])\n",
    "  return new_dct\n",
    "\n",
    "def plot_distrib(label_lib):\n",
    "  label_dct = amount_dct(label_lib)\n",
    "  label_dct.pop('non-incentive')\n",
    "\n",
    "  bar_colors = ['red', 'red', 'orange', 'orange', 'yellow', 'yellow', 'green', 'green', 'blue', 'blue', 'purple', 'purple']\n",
    "  import matplotlib.pyplot as plt\n",
    "\n",
    "  plt.bar(range(len(label_dct)), list(label_dct.values()), align='center', color=bar_colors)\n",
    "  plt.xticks(range(len(label_dct)), list(label_dct.keys()))\n",
    "\n",
    "  plt.show()"
   ]
  },
  {
   "cell_type": "code",
   "execution_count": 13,
   "metadata": {
    "colab": {
     "base_uri": "https://localhost:8080/",
     "height": 0
    },
    "id": "YHh9xTpArPZV",
    "outputId": "5e2bf2c6-4112-46fa-dc03-c74837151a87"
   },
   "outputs": [
    {
     "data": {
      "image/png": "[encoded data removed]",
      "text/plain": [
       "<Figure size 640x480 with 1 Axes>"
      ]
     },
     "metadata": {},
     "output_type": "display_data"
    }
   ],
   "source": [
    "plot_distrib(label_lib)\n"
   ]
  },
  {
   "cell_type": "code",
   "execution_count": 14,
   "metadata": {
    "id": "c6lnwzD4vN8c"
   },
   "outputs": [],
   "source": [
    "def resample_dict(label_lib):\n",
    "  sampled_dct = {}\n",
    "  label_dct = amount_dct(label_lib)\n",
    "  incents = ['direct payment', 'technical assistance', 'tax deduction', 'supplies', 'credit', 'fine']\n",
    "  for incentive in incents:\n",
    "    if len(label_lib[incentive]) < 10:\n",
    "      sampled_dct[incentive] = random.sample(label_lib[incentive], len(label_lib[incentive]))\n",
    "      if len(label_lib['mention-'+incentive]) < 20-len(sampled_dct[incentive]):\n",
    "        sampled_dct['mention-'+incentive] = random.sample(label_lib['mention-'+incentive], len(label_lib['mention-'+incentive]))\n",
    "      else:\n",
    "        sampled_dct['mention-'+incentive] = random.sample(label_lib['mention-'+incentive], 20-len(sampled_dct[incentive]))\n",
    "    else:\n",
    "      sampled_dct[incentive] = random.sample(label_lib[incentive], 10)\n",
    "      if len(label_lib['mention-'+incentive]) < 10:\n",
    "        sampled_dct['mention-'+incentive] = random.sample(label_lib['mention-'+incentive], len(label_lib['mention-'+incentive]))\n",
    "      else:\n",
    "        sampled_dct['mention-'+incentive] = random.sample(label_lib['mention-'+incentive], 10)\n",
    "  sampled_dct['non-incentive'] = random.sample(label_lib['non-incentive'], 20)\n",
    "  return sampled_dct\n"
   ]
  },
  {
   "cell_type": "code",
   "execution_count": 15,
   "metadata": {
    "colab": {
     "base_uri": "https://localhost:8080/",
     "height": 0
    },
    "id": "hL9n6HX3mX9D",
    "outputId": "cee893ad-aab3-464f-cf98-a3b3af7881a8"
   },
   "outputs": [
    {
     "data": {
      "image/png": "[encoded data removed]",
      "text/plain": [
       "<Figure size 640x480 with 1 Axes>"
      ]
     },
     "metadata": {},
     "output_type": "display_data"
    }
   ],
   "source": [
    "res_lib = resample_dict(label_lib)\n",
    "plot_distrib(res_lib)"
   ]
  },
  {
   "cell_type": "code",
   "execution_count": 16,
   "metadata": {
    "id": "yvPE7B05pFoR"
   },
   "outputs": [],
   "source": [
    "json_frame = []\n",
    "res_frame = []\n",
    "for key in res_lib.keys():\n",
    "  for sent in res_lib[key]:\n",
    "    json_frame.append({\n",
    "        'text': sent,\n",
    "        'label': []\n",
    "    })\n",
    "    res_frame.append({\n",
    "        'text': sent,\n",
    "        'label': key\n",
    "    })"
   ]
  },
  {
   "cell_type": "code",
   "execution_count": 17,
   "metadata": {
    "id": "QvfCcuBppmgg"
   },
   "outputs": [],
   "source": [
    "with open(output_dir+\"subsample.json\", 'w', encoding=\"utf-8\") as outfile:\n",
    "  json.dump(json_frame, outfile, ensure_ascii=False, indent=4)"
   ]
  },
  {
   "cell_type": "markdown",
   "metadata": {
    "id": "AWtOSjuTdLqm"
   },
   "source": [
    "# Inter-annotator agreement"
   ]
  },
  {
   "cell_type": "code",
   "execution_count": 21,
   "metadata": {
    "id": "XgEYuO7IdNxD"
   },
   "outputs": [
    {
     "ename": "FileNotFoundError",
     "evalue": "[Errno 2] No such file or directory: 'c:\\\\Users\\\\allie\\\\Documents\\\\GitHub\\\\policy-classifier\\\\classifier\\\\odonoghue_annotation.json'",
     "output_type": "error",
     "traceback": [
      "\u001b[1;31m---------------------------------------------------------------------------\u001b[0m",
      "\u001b[1;31mFileNotFoundError\u001b[0m                         Traceback (most recent call last)",
      "Cell \u001b[1;32mIn[21], line 1\u001b[0m\n\u001b[1;32m----> 1\u001b[0m \u001b[38;5;28;01mwith\u001b[39;00m \u001b[38;5;28;43mopen\u001b[39;49m\u001b[43m(\u001b[49m\u001b[43moutput_dir\u001b[49m\u001b[38;5;241;43m+\u001b[39;49m\u001b[38;5;124;43m\"\u001b[39;49m\u001b[38;5;130;43;01m\\\\\u001b[39;49;00m\u001b[38;5;124;43modonoghue_annotation.json\u001b[39;49m\u001b[38;5;124;43m\"\u001b[39;49m\u001b[43m,\u001b[49m\u001b[38;5;124;43m\"\u001b[39;49m\u001b[38;5;124;43mr\u001b[39;49m\u001b[38;5;124;43m\"\u001b[39;49m\u001b[43m,\u001b[49m\u001b[43m \u001b[49m\u001b[43mencoding\u001b[49m\u001b[38;5;241;43m=\u001b[39;49m\u001b[38;5;124;43m\"\u001b[39;49m\u001b[38;5;124;43mutf-8\u001b[39;49m\u001b[38;5;124;43m\"\u001b[39;49m\u001b[43m)\u001b[49m \u001b[38;5;28;01mas\u001b[39;00m f:\n\u001b[0;32m      2\u001b[0m   sset_json \u001b[38;5;241m=\u001b[39m json\u001b[38;5;241m.\u001b[39mload(f)\n",
      "File \u001b[1;32m~\\AppData\\Roaming\\Python\\Python311\\site-packages\\IPython\\core\\interactiveshell.py:324\u001b[0m, in \u001b[0;36m_modified_open\u001b[1;34m(file, *args, **kwargs)\u001b[0m\n\u001b[0;32m    317\u001b[0m \u001b[38;5;28;01mif\u001b[39;00m file \u001b[38;5;129;01min\u001b[39;00m {\u001b[38;5;241m0\u001b[39m, \u001b[38;5;241m1\u001b[39m, \u001b[38;5;241m2\u001b[39m}:\n\u001b[0;32m    318\u001b[0m     \u001b[38;5;28;01mraise\u001b[39;00m \u001b[38;5;167;01mValueError\u001b[39;00m(\n\u001b[0;32m    319\u001b[0m         \u001b[38;5;124mf\u001b[39m\u001b[38;5;124m\"\u001b[39m\u001b[38;5;124mIPython won\u001b[39m\u001b[38;5;124m'\u001b[39m\u001b[38;5;124mt let you open fd=\u001b[39m\u001b[38;5;132;01m{\u001b[39;00mfile\u001b[38;5;132;01m}\u001b[39;00m\u001b[38;5;124m by default \u001b[39m\u001b[38;5;124m\"\u001b[39m\n\u001b[0;32m    320\u001b[0m         \u001b[38;5;124m\"\u001b[39m\u001b[38;5;124mas it is likely to crash IPython. If you know what you are doing, \u001b[39m\u001b[38;5;124m\"\u001b[39m\n\u001b[0;32m    321\u001b[0m         \u001b[38;5;124m\"\u001b[39m\u001b[38;5;124myou can use builtins\u001b[39m\u001b[38;5;124m'\u001b[39m\u001b[38;5;124m open.\u001b[39m\u001b[38;5;124m\"\u001b[39m\n\u001b[0;32m    322\u001b[0m     )\n\u001b[1;32m--> 324\u001b[0m \u001b[38;5;28;01mreturn\u001b[39;00m \u001b[43mio_open\u001b[49m\u001b[43m(\u001b[49m\u001b[43mfile\u001b[49m\u001b[43m,\u001b[49m\u001b[43m \u001b[49m\u001b[38;5;241;43m*\u001b[39;49m\u001b[43margs\u001b[49m\u001b[43m,\u001b[49m\u001b[43m \u001b[49m\u001b[38;5;241;43m*\u001b[39;49m\u001b[38;5;241;43m*\u001b[39;49m\u001b[43mkwargs\u001b[49m\u001b[43m)\u001b[49m\n",
      "\u001b[1;31mFileNotFoundError\u001b[0m: [Errno 2] No such file or directory: 'c:\\\\Users\\\\allie\\\\Documents\\\\GitHub\\\\policy-classifier\\\\classifier\\\\odonoghue_annotation.json'"
     ]
    }
   ],
   "source": [
    "with open(output_dir+\"\\\\odonoghue_annotation.json\",\"r\", encoding=\"utf-8\") as f:\n",
    "  sset_json = json.load(f)"
   ]
  },
  {
   "cell_type": "code",
   "execution_count": null,
   "metadata": {
    "colab": {
     "base_uri": "https://localhost:8080/",
     "height": 0
    },
    "id": "gNglRgBwd6j3",
    "outputId": "899339ef-13b1-45aa-eb57-71d5f3a81a8f"
   },
   "outputs": [
    {
     "data": {
      "image/png": "[encoded data removed]",
      "text/plain": [
       "<Figure size 640x480 with 1 Axes>"
      ]
     },
     "metadata": {},
     "output_type": "display_data"
    }
   ],
   "source": [
    "sset_lib = label_dct(sset_json)\n",
    "sset_dct = resample_dict(sset_lib)\n",
    "plot_distrib(sset_dct)"
   ]
  },
  {
   "cell_type": "code",
   "execution_count": null,
   "metadata": {
    "colab": {
     "base_uri": "https://localhost:8080/"
    },
    "id": "r881KEZbnbwv",
    "outputId": "34f11589-d519-43c1-e1bc-ae32002b2929"
   },
   "outputs": [
    {
     "name": "stdout",
     "output_type": "stream",
     "text": [
      "126 126 126\n"
     ]
    }
   ],
   "source": [
    "with open(output_dir+\"waskow_ss_annotation.json\",\"r\", encoding=\"utf-8\") as f:\n",
    "  aset_json = json.load(f)\n",
    "\n",
    "ss_sents = [entry['text'] for entry in aset_json]\n",
    "my_labels = [entry['label'][0] for entry in aset_json]\n",
    "ann_labels = [entry['label'][0] for entry in sset_json]\n",
    "\n",
    "for id, label in enumerate(ann_labels):\n",
    "  if label.lower() == 'unsure':\n",
    "    ann_labels.pop(id)\n",
    "    my_labels.pop(id)\n",
    "    ss_sents.pop(id)\n",
    "\n",
    "print(len(my_labels), len(ss_sents), len(ann_labels))"
   ]
  },
  {
   "cell_type": "code",
   "execution_count": null,
   "metadata": {
    "colab": {
     "base_uri": "https://localhost:8080/"
    },
    "id": "Euwd62ohzOhS",
    "outputId": "7e832f91-3ee0-41f9-d465-06ec303a107f"
   },
   "outputs": [
    {
     "name": "stdout",
     "output_type": "stream",
     "text": [
      "Labels, binary: 126\n",
      "Labels, incentive-class: 126\n",
      "{'credit', 'fine', 'non-incentive', 'direct payment', 'tax deduction', 'supplies', 'technical assistance'}\n",
      "Incentive sents from class heavy agg:  86 86\n"
     ]
    }
   ],
   "source": [
    "iag_lab_bn_c, iag_lab_mc_c = label_conversion(my_labels)\n",
    "iag_inc_c, iag_non_c = bn_sent_list_gen(ss_sents, iag_lab_bn_c)\n",
    "# multiclass\n",
    "iag_mc_inc_c, iag_mc_lab_c = mc_data_prep(ss_sents, iag_lab_mc_c)"
   ]
  },
  {
   "cell_type": "code",
   "execution_count": null,
   "metadata": {
    "colab": {
     "base_uri": "https://localhost:8080/"
    },
    "id": "ocUUGMAlq9oX",
    "outputId": "0883251a-cdee-4e96-94f1-9f3d9314a5c8"
   },
   "outputs": [
    {
     "name": "stdout",
     "output_type": "stream",
     "text": [
      "Labels, binary: 126\n",
      "Labels, incentive-class: 126\n",
      "{'fine', 'credit', 'non-incentive', 'direct payment', 'tax deduction', 'supplies', 'unsure', 'technical assistance'}\n",
      "Incentive sents from class heavy agg:  94 94\n"
     ]
    }
   ],
   "source": [
    "iag_ann_lab_bn_c, iag_ann_lab_mc_c = label_conversion(ann_labels)\n",
    "iag_ann_inc_c, iag_ann_non_c = bn_sent_list_gen(ss_sents, iag_ann_lab_bn_c)\n",
    "# multiclass\n",
    "iag_ann_mc_inc_c, iag_ann_mc_lab_c = mc_data_prep(ss_sents, iag_ann_lab_mc_c)"
   ]
  },
  {
   "cell_type": "code",
   "execution_count": null,
   "metadata": {
    "colab": {
     "base_uri": "https://localhost:8080/"
    },
    "id": "5MtXEn6fq3BR",
    "outputId": "d6c8f39c-5613-48d3-a30a-7ee6a90ce838"
   },
   "outputs": [
    {
     "name": "stdout",
     "output_type": "stream",
     "text": [
      "Too many labels: 0.52\n",
      "Binary, class heavy: 0.77\n",
      "Multiclass, c heavy: 0.8\n",
      "126 126\n"
     ]
    }
   ],
   "source": [
    "reg_score = cohen_kappa_score(my_labels, ann_labels)\n",
    "bn_clshvy_score = cohen_kappa_score(iag_lab_bn_c, iag_ann_lab_bn_c)\n",
    "mc_clshvy_score = cohen_kappa_score(iag_lab_mc_c, iag_ann_lab_mc_c)\n",
    "\n",
    "print(f'Too many labels: {round( reg_score,2)}')\n",
    "print(f'Binary, class heavy: {round( bn_clshvy_score,2)}')\n",
    "print(f'Multiclass, c heavy: {round( mc_clshvy_score,2)}')\n",
    "print(f'{len(iag_lab_mc_c)} {len(iag_ann_lab_mc_c)}')"
   ]
  },
  {
   "cell_type": "code",
   "execution_count": null,
   "metadata": {
    "colab": {
     "base_uri": "https://localhost:8080/"
    },
    "id": "qm78MVM9feSz",
    "outputId": "95b826b1-1324-408c-8b02-a11a321de3a3"
   },
   "outputs": [
    {
     "name": "stdout",
     "output_type": "stream",
     "text": [
      "All labels: Counter({'non-incentive': 40, 'mention-direct payment': 13, 'mention-fine': 11, 'supplies': 9, 'technical assistance': 8, 'mention-credit': 8, 'tax deduction': 7, 'fine': 7, 'direct payment': 6, 'credit': 5, 'mention-technical assistance': 4, 'mention-tax deduction': 4, 'mention-supplies': 4})\n",
      "Annotator: Counter({'non-incentive': 32, 'mention-direct payment': 19, 'mention-fine': 13, 'direct payment': 11, 'supplies': 8, 'credit': 8, 'technical assistance': 7, 'mention-credit': 6, 'mention-supplies': 5, 'tax deduction': 5, 'fine': 5, 'mention-technical assistance': 3, 'mention-tax deduction': 3, 'unsure': 1})\n",
      "Binary, class heavy: Counter({'incentive': 86, 'non-incentive': 40})\n",
      "Annotator: Counter({'incentive': 94, 'non-incentive': 32})\n",
      "Multiclass, c heavy: Counter({'non-incentive': 40, 'direct payment': 19, 'fine': 18, 'supplies': 13, 'credit': 13, 'technical assistance': 12, 'tax deduction': 11})\n",
      "Annotator: Counter({'non-incentive': 32, 'direct payment': 30, 'fine': 18, 'credit': 14, 'supplies': 13, 'technical assistance': 10, 'tax deduction': 8, 'unsure': 1})\n"
     ]
    }
   ],
   "source": [
    "from collections import Counter\n",
    "print(f'All labels: {Counter(my_labels)}')\n",
    "print(f'Annotator: {Counter(ann_labels)}')\n",
    "print(f'Binary, class heavy: {Counter(iag_lab_bn_c)}')\n",
    "print(f'Annotator: {Counter(iag_ann_lab_bn_c)}')\n",
    "print(f'Multiclass, c heavy: {Counter(iag_lab_mc_c)}')\n",
    "print(f'Annotator: {Counter(iag_ann_lab_mc_c)}')"
   ]
  },
  {
   "cell_type": "markdown",
   "metadata": {
    "id": "I2qup01N1nKO"
   },
   "source": [
    "# Firebanks-Quevedo Replication"
   ]
  },
  {
   "cell_type": "markdown",
   "metadata": {
    "id": "SufgjGh9MDtR"
   },
   "source": [
    "## Data Augmentation"
   ]
  },
  {
   "cell_type": "code",
   "execution_count": 18,
   "metadata": {
    "id": "kxatg_WxXMTA"
   },
   "outputs": [],
   "source": [
    "# adapted from old repo\n",
    "import json\n",
    "import os\n",
    "from os import listdir\n",
    "from os.path import isfile, join\n",
    "import random\n",
    "import time\n",
    "import csv\n",
    "import sys\n",
    "import argparse\n",
    "from tqdm import tqdm\n",
    "import textwrap\n",
    "\n",
    "# Model libraries\n",
    "from sentence_transformers import SentenceTransformer\n",
    "import sentencepiece\n",
    "from scipy.spatial import distance\n",
    "import numpy as np\n",
    "\n",
    "from json import JSONEncoder\n",
    "\n",
    "class NumpyArrayEncoder(JSONEncoder):\n",
    "    def default(self, obj):\n",
    "        if isinstance(obj, np.ndarray):\n",
    "            return obj.tolist()\n",
    "        return JSONEncoder.default(self, obj)"
   ]
  },
  {
   "cell_type": "code",
   "execution_count": 19,
   "metadata": {
    "id": "dqomql7zXVi1"
   },
   "outputs": [],
   "source": [
    "QUERIES_DCT = {\n",
    "  \"This scheme gives farmers greater access to financial loans and encourages financial planning.\" : \"Credit\",\n",
    "  \"National initiatives, such as the Future Growth Loan Scheme, supports strategic long-term capital investment by providing competitively priced loan instruments under favourable terms.\" : \"Credit\",\n",
    "  \"Harvest and production insurance that contributes to safeguarding producers' incomes where there are losses as a consequence of natural disasters, adverse climatic events, diseases or pest infestations while ensuring that beneficiaries take necessary risk prevention measures.\" : \"Credit\",\n",
    "  \"The Department of Agriculture Food and the Marine has funded a number of loan schemes which provide access to finance for famers in Ireland, enabling them to maintain liquidity and ensure they can take investment decisions tailored to their enterprise\" : \"Credit\",\n",
    "  \"In cases where a loan is used to finance or top up a mutual fund no distinction is made between the basic capital and loans taken out in respect of the replenishment of the fund following compensate to growers.\" : \"Credit\",\n",
    "  \"The Scheme is supporting generational renewal on Irish farms by allowing young farmers to avail of a higher grant rate of 60% (with a standard grant rate of 40% available to all other applicants).\" : \"Direct_payment\",\n",
    "  \"This programme incorporated extra payments on top of the basic REPS premium for farmers who undertook additional environmentally friendly farming practices.\" : \"Direct_payment\",\n",
    "  \"Forestry Programme 2014 -2020 providing grants and / or annual premiums for establishment, development and reconstitution of forests, woodland improvement, native woodland conservation.\" : \"Direct_payment\",\n",
    "  \"In addition to providing a basic income support to primary producers and achieving a higher level of environmental ambition, Pillar I (direct payments) interventions are aimed at achieving a fairer approach to the distribution of payments in Ireland.\" : \"Direct_payment\",\n",
    "  \"Decision to set an amount of direct payments not higher than EUR 5 000 under which farmers shall in any event be considered as ‘active farmers.’\" : \"Direct_payment\",\n",
    "  \"Landowners found burning illegally could face fines, imprisonment and Single Farm Payment penalties, where applicable.\" : \"Fine\",\n",
    "  \"In the absence of abatement strategies, ammonia emissions are forecast to increase which may result either in substantial fines or the imposition of a de-facto quota based on emission levels.\" : \"Fine\",\n",
    "  \"If an offence is committed by a public body, and is committed with the consent of, or is attributable to the neglect on the part of a director, manager or other officer of the public body, that person will also be liable for prosecution; on conviction, fines up to €250,000 or imprisonment for up to 2 years, or both, may be imposed 125 Per s ection 14A(6) of the Act.\" : \"Fine\",\n",
    "  \"In addition, a fine will apply which will be calculated on the difference between the area declared and the area determined.\" : \"Fine\",\n",
    "  \"Where trees have been—(a) felled or otherwise removed without a licence under section 7,(b) felled under a licence and, either at the time of such felling or subsequently, a condition of the licence is contravened, or(c) in the opinion of the Minister, seriously damaged, the Minister may issue a replanting order in respect of the owner requiring him or her to replant or to fulfil any or all of the conditions that attached to the licence (or, in a case in which no licence was granted, any or all of the conditions that would, in the opinion of the Minister, have been attached to a licence had such been granted) in accordance with the provisions of the orderSections 27-29 detail offences and corresponding penalties, from fixed penalties to (on conviction) substantial fines and imprisonment.\" : \"Fine\",\n",
    "  \"Similarly, the On-Farm Capital Investments Scheme has provisions for investments in equipment that will allow farmers to reduce the amount of Green House Gas emissions that they produce during their agricultural practices.\" : \"Supplies\",\n",
    "  \"The intervention also supports investments that allow farmers to acquire technologies and equipment that increases their efficiencies and climate adaptation potential thus addressing Obj4N4 and Obj4N5.\" : \"Supplies\",\n",
    "  \"Grants are provided for farmers wishing to invest in productive technologies and or equipment.\" : \"Supplies\",\n",
    "  \"Support provided under this scheme will directly address Obj5N1 and Obj5N2 by providing an incentive to farmers to invest in machinery and equipment that better protects air and water quality.\" : \"Supplies\",\n",
    "  \"The On Farm Capital Investment Scheme also addresses Obj9N1 by providing a higher grant rate of support for investments in organic farming materials/equipment, at a higher rate of 60% in comparison to the rate of 40% for general investments.\" : \"Supplies\",\n",
    "  \"To complement the EXEED programme, the tax code provides for accelerated capital allowances (ACAs) for energy efficient equipment supporting the reduction of energy use in the workplace and the awareness of energy efficiency standards in appliances.\" : \"Tax_deduction\",\n",
    "  \"A tax incentive for companies paying corporation tax is also in place in the form of accelerated capital allowance for energy efficient equipment.\" : \"Tax_deduction\",\n",
    "  \"The Accelerated Capital Allowance (ACA) is a tax credit that encourages the purchase of energy -efficient goods\" : \"Tax_deduction\",\n",
    "  \"These include the granting of an enhanced 50% stock tax relief to members of registered farm partnerships; the recognition of such arrangements in the calculation of payments under the Pillar I and Pillar II Schemes; and the introduction of a Support for Collaborative Farming Grant Scheme for brand new farm partnerships.\" : \"Tax_deduction\",\n",
    "  \"We are committed to further developing a taxation framework, which plays its full part in incentivising, along with other available policy levers, the necessary actions to reduce our emissions\" : \"Tax_deduction\",\n",
    "  \"The Knowledge Transfer (KT) initiative is a significant investment in high quality training and upskilling of farmers so that they are equipped to deal with the range of challenges and opportunities arising in the agri-food sector.\" : \"Technical_assistance\",\n",
    "  \"The associated training will educate farmers on how to appropriately implement the actions of the scheme; thereby equipping them with the knowledge and skills necessary to optimise delivery and continue the ongoing management of the commitments undertaken; as well as to facilitate the implementation of high welfare practices.\" : \"Technical_assistance\",\n",
    "  \"This scheme has two measures: • provides financial support towards the professional costs, such as legal, taxation and advisory, incurred during the establishment of a Registered Farm Partnership.\" : \"Technical_assistance\",\n",
    "  \"LEADER may provide support rates greater than 65% in accordance with Article 73(4) (c)(ii) where investments include basic services in rural areas and infrastructure in agriculture and forestry , as determined by Member States\" : \"Technical_assistance\",\n",
    "  \"It also assists and supports the delivery of capacity building and training programmes with the aim of equipping decision makers with the capability and confidence to analyse, plan for and respond to the risks and opportunities that a changing climate presents.\" : \"Technical_assistance\"\n",
    "  }"
   ]
  },
  {
   "cell_type": "code",
   "execution_count": 20,
   "metadata": {
    "id": "sHuJr-aOYF-k"
   },
   "outputs": [],
   "source": [
    "def create_sentence_embeddings(model, sentences):\n",
    "    embeddings = []\n",
    "    for sentence in sentences:\n",
    "        embeddings.append(model.encode(sentence.lower(), show_progress_bar=False))\n",
    "    return embeddings\n",
    "\n",
    "def sentence_similarity_search(model, queries, embeddings, sentences, similarity_limit, results_limit, cuda, prog_bar):\n",
    "    results = {}\n",
    "    for query in tqdm(queries):\n",
    "        #Ti = time.perf_counter()\n",
    "        similarities = get_distance(model, embeddings, sentences, query, similarity_limit, cuda, prog_bar)\n",
    "        results[query] = similarities[0:results_limit] #results[transformer][query] = similarities[0:results_limit]\n",
    "        #Tf = time.perf_counter()\n",
    "        #print(f\"Similarity search for query '{query}' has been done in {Tf - Ti:0.2f}s.\")\n",
    "    return results\n",
    "\n",
    "def get_distance(model, embeddings, sentences, query, similarity_treshold, cuda, prog_bar):\n",
    "    if cuda:\n",
    "        query_embedding = model.encode(query.lower(), show_progress_bar=prog_bar, device='cuda')\n",
    "    else:\n",
    "        query_embedding = model.encode(query.lower(), show_progress_bar=prog_bar)\n",
    "    highlights = []\n",
    "    for i in range(len(sentences)):\n",
    "        try:\n",
    "            sentence_embedding = embeddings[i]\n",
    "            score = 1 - distance.cosine(sentence_embedding, query_embedding)\n",
    "            if score > similarity_treshold:\n",
    "                highlights.append([i, score, sentences[i]])\n",
    "        except KeyError as err:\n",
    "            print(sentences[i])\n",
    "            print(embeddings[i])\n",
    "            print(err)\n",
    "    highlights = sorted(highlights, key = lambda x : x[1], reverse = True)\n",
    "    return highlights\n",
    "\n",
    "# To show the contents of the results dict, particularly, the length of the first element and its contents\n",
    "def show_results(results_dictionary):\n",
    "    i = 0\n",
    "    for key1 in results_dictionary:\n",
    "        for key2 in results_dictionary[key1]:\n",
    "            if i == 0:\n",
    "                print(len(results_dictionary[key1][key2]))\n",
    "                print(results_dictionary[key1][key2])\n",
    "            i += 1\n"
   ]
  },
  {
   "cell_type": "code",
   "execution_count": 25,
   "metadata": {
    "id": "AhaYy9bdYeP_"
   },
   "outputs": [],
   "source": [
    "def run_embedder(sample=True, cuda=False, data=[], unique=False):\n",
    "    script_info = \"Running \"\n",
    "    if sample:\n",
    "        script_info += \"sample\"\n",
    "    else:\n",
    "        script_info += \"all sentences\"\n",
    "    if cuda:\n",
    "        script_info += \" on GPU.\"\n",
    "    else:\n",
    "        script_info += \" on CPU.\"\n",
    "    print(script_info)\n",
    "\n",
    "    if unique:\n",
    "        sentences = list(set(data))\n",
    "    else:\n",
    "        sentences = data\n",
    "\n",
    "    if sample:\n",
    "        #random.seed(9)\n",
    "        sentences = random.sample(sentences, 10)\n",
    "\n",
    "    Ti = time.perf_counter()\n",
    "\n",
    "    transformer_name = 'xlm-r-bert-base-nli-stsb-mean-tokens'\n",
    "\n",
    "    if cuda:\n",
    "        model = SentenceTransformer(transformer_name, device=\"cuda\")\n",
    "    else:\n",
    "        model = SentenceTransformer(transformer_name)\n",
    "\n",
    "    print(\"Loaded model. Now creating sentence embeddings.\")\n",
    "\n",
    "    embs = create_sentence_embeddings(model, sentences)\n",
    "\n",
    "    Tf = time.perf_counter()\n",
    "\n",
    "    print(f\"The building of a sentence embedding database in the current models has taken {Tf - Ti:0.2f}s.\")\n",
    "\n",
    "    return embs, sentences, model\n",
    "\n",
    "def run_queries(embs, sentences, model, cuda=False, sim_thresh=0.6, res_lim=1000):\n",
    "    prog_bar = False\n",
    "    print(\"Now running queries.\")\n",
    "\n",
    "    queries = []\n",
    "    for query in QUERIES_DCT:\n",
    "        queries.append(query)\n",
    "\n",
    "    #check_dictionary_values(queries_dict)\n",
    "\n",
    "    results_dict = sentence_similarity_search(model, queries, embs, sentences, sim_thresh, res_lim, cuda, prog_bar)\n",
    "\n",
    "    return results_dict\n",
    "\n",
    "def pre_tag_parse(pretag):\n",
    "    '''\n",
    "    Preps dct for training\n",
    "    '''\n",
    "    sentences = []\n",
    "    labels = []\n",
    "    for query in list(pretag):\n",
    "        for result in pretag[query]:\n",
    "            sentences.append(result[2])\n",
    "            labels.append(QUERIES_DCT[query])\n",
    "    return sentences, labels\n",
    "\n",
    "def convert_pretagged(pre_lab):\n",
    "    '''\n",
    "    Takes pre_tagged dct generated in assisted_labelling.py\n",
    "    resolves the queries and keys\n",
    "    '''\n",
    "    qdct = QUERIES_DCT.copy()\n",
    "    i=1\n",
    "    for query in list(qdct):\n",
    "        label = qdct[query]\n",
    "        label += f\"_{i%5}\"\n",
    "        qdct[query] = label\n",
    "    new_dct = {}\n",
    "    for qry in tqdm(list(pre_lab)):\n",
    "        label = qdct[qry]\n",
    "        for sent_unit in pre_lab[qry]:\n",
    "            # the format has the sentence as the last element in the sublist\n",
    "            sentence = sent_unit[-1]\n",
    "            new_dct[sentence] = label\n",
    "    return new_dct\n",
    "\n",
    "def crossref_sents(pre_lab):\n",
    "    new_dct = {}\n",
    "    qdct = QUERIES_DCT.copy()\n",
    "    # = set(qdct.values())\n",
    "    # 'Fine', 'Tax_deduction', 'Supplies', 'Direct_payment', 'Credit', 'Technical_assistance'\n",
    "    for qry in list(qdct):\n",
    "        new_dct[qry]=[]\n",
    "    # get dct of queries with lists of sentence results\n",
    "    for query in list(pre_lab):\n",
    "        for entry in pre_lab[query]:\n",
    "            new_dct[query].append(entry[-1])\n",
    "    return new_dct\n"
   ]
  },
  {
   "cell_type": "code",
   "execution_count": 22,
   "metadata": {
    "id": "DrRMsoQyMAp7"
   },
   "outputs": [],
   "source": [
    "# get 19735 sentence corpus\n",
    "with open(full_inp_path,\"r\", encoding=\"utf-8\") as f:\n",
    "  sent_srch_json = json.load(f)\n",
    "\n",
    "sent_srch = [entry['text'] for entry in sent_srch_json]"
   ]
  },
  {
   "cell_type": "code",
   "execution_count": 27,
   "metadata": {
    "colab": {
     "base_uri": "https://localhost:8080/"
    },
    "id": "p2XuzSYLaWjo",
    "outputId": "9e9f01e4-c820-4b2f-f7a0-38bd42a25a6a"
   },
   "outputs": [
    {
     "name": "stdout",
     "output_type": "stream",
     "text": [
      "Running all sentences on GPU.\n",
      "Loaded model. Now creating sentence embeddings.\n",
      "The building of a sentence embedding database in the current models has taken 235.85s.\n"
     ]
    }
   ],
   "source": [
    "sample = False\n",
    "cuda = True\n",
    "##############\n",
    "with open(input_path,\"r\", encoding=\"utf-8\") as f:\n",
    "    sentences = json.load(f)\n",
    "embs, s_sentences, model = run_embedder(sample, cuda, sent_srch, True)"
   ]
  },
  {
   "cell_type": "code",
   "execution_count": 44,
   "metadata": {
    "id": "alm-80rhHhLv"
   },
   "outputs": [
    {
     "name": "stdout",
     "output_type": "stream",
     "text": [
      "Now running queries.\n"
     ]
    },
    {
     "name": "stderr",
     "output_type": "stream",
     "text": [
      "100%|██████████| 30/30 [00:04<00:00,  6.19it/s]\n"
     ]
    }
   ],
   "source": [
    "pret_dct = run_queries(embs, s_sentences, model, cuda, sim_thresh=0.2, res_lim=1000)\n",
    "#dct_to_xref = convert_pretagged(pret_dct)"
   ]
  },
  {
   "cell_type": "code",
   "execution_count": 45,
   "metadata": {
    "id": "Ru__PXU2PABA"
   },
   "outputs": [
    {
     "name": "stdout",
     "output_type": "stream",
     "text": [
      "Credit_0: 1000\n",
      "Credit_1: 1000\n",
      "Credit_2: 1000\n",
      "Credit_3: 1000\n",
      "Credit_4: 1000\n",
      "Direct_payment_0: 1000\n",
      "Direct_payment_1: 1000\n",
      "Direct_payment_2: 1000\n",
      "Direct_payment_3: 1000\n",
      "Direct_payment_4: 1000\n",
      "Fine_0: 1000\n",
      "Fine_1: 1000\n",
      "Fine_2: 1000\n",
      "Fine_3: 1000\n",
      "Fine_4: 1000\n",
      "Supplies_0: 1000\n",
      "Supplies_1: 1000\n",
      "Supplies_2: 1000\n",
      "Supplies_3: 1000\n",
      "Supplies_4: 1000\n",
      "Tax_deduction_0: 1000\n",
      "Tax_deduction_1: 1000\n",
      "Tax_deduction_2: 1000\n",
      "Tax_deduction_3: 1000\n",
      "Tax_deduction_4: 1000\n",
      "Technical_assistance_0: 1000\n",
      "Technical_assistance_1: 1000\n",
      "Technical_assistance_2: 1000\n",
      "Technical_assistance_3: 1000\n",
      "Technical_assistance_4: 1000\n"
     ]
    }
   ],
   "source": [
    "x = crossref_sents(pret_dct)\n",
    "\n",
    "lab_dct = {0:\"Credit\", 1:\"Direct_payment\", 2:\"Fine\", 3:\"Supplies\", 4:\"Tax_deduction\", 5:\"Technical_assistance\"}\n",
    "\n",
    "for id, key in enumerate(list(x)):\n",
    "    print(f\"{lab_dct[id//5]}_{id%5}: {len(x[key])}\")\n",
    "\n",
    "new_dct = {\"Credit\":[], \"Direct_payment\":[], \"Fine\":[], \"Supplies\":[], \"Tax_deduction\":[], \"Technical_assistance\":[]}\n",
    "for qi, q in enumerate(list(x)):\n",
    "    l = qi//5\n",
    "    #for sent in set(x[q]):\n",
    "    for sent in x[q]:\n",
    "        new_dct[lab_dct[l]].append(sent)"
   ]
  },
  {
   "cell_type": "code",
   "execution_count": 46,
   "metadata": {},
   "outputs": [
    {
     "name": "stdout",
     "output_type": "stream",
     "text": [
      "Credit: 5000\n",
      "Direct_payment: 5000\n",
      "Fine: 5000\n",
      "Supplies: 5000\n",
      "Tax_deduction: 5000\n",
      "Technical_assistance: 5000\n"
     ]
    }
   ],
   "source": [
    "for k in list(new_dct):\n",
    "    print(f'{k}: {len(new_dct[k])}')"
   ]
  },
  {
   "cell_type": "code",
   "execution_count": 52,
   "metadata": {},
   "outputs": [
    {
     "name": "stdout",
     "output_type": "stream",
     "text": [
      "Credit: 145\n",
      "Direct_payment: 22\n",
      "Fine: 35\n",
      "Supplies: 485\n",
      "Tax_deduction: 254\n",
      "Technical_assistance: 270\n"
     ]
    }
   ],
   "source": [
    "from collections import Counter\n",
    "agg_dct = {\"Credit\":[], \"Direct_payment\":[], \"Fine\":[], \"Supplies\":[], \"Tax_deduction\":[], \"Technical_assistance\":[]}\n",
    "for k in list(new_dct):\n",
    "    c = Counter(new_dct[k])\n",
    "    for sent in list(c):\n",
    "        if c[sent] >= 4:\n",
    "            agg_dct[k].append(sent)\n",
    "\n",
    "for k in list(agg_dct):\n",
    "    print(f'{k}: {len(agg_dct[k])}')"
   ]
  },
  {
   "cell_type": "code",
   "execution_count": 58,
   "metadata": {},
   "outputs": [],
   "source": [
    "json_pref = []\n",
    "\n",
    "for label in list(agg_dct):\n",
    "  for sent in agg_dct[label]:\n",
    "    json_pref.append({\n",
    "      'text': sent,\n",
    "      'label': label\n",
    "    })\n",
    "\n",
    "with open(output_dir+\"/prefiltered.json\", 'w', encoding=\"utf-8\") as outfile:\n",
    "  json.dump(json_pref, outfile, ensure_ascii=False, indent=4)"
   ]
  },
  {
   "cell_type": "markdown",
   "metadata": {},
   "source": [
    "### Making data labels consistent across duplications"
   ]
  },
  {
   "cell_type": "code",
   "execution_count": 2,
   "metadata": {},
   "outputs": [],
   "source": [
    "with open(input_dir+'/13Jan2024_query_checked.json',\"r\", encoding=\"utf-8\") as f:\n",
    "    qry_lbld = json.load(f)"
   ]
  },
  {
   "cell_type": "code",
   "execution_count": 3,
   "metadata": {},
   "outputs": [
    {
     "data": {
      "text/plain": [
       "[{'id': 161526,\n",
       "  'text': 'Similarly, the On-Farm Ca pital Investments Scheme has provisions for investments in equipment that will allow farmers to reduce the amount of Green House Gas emissions that they produce during their agricultural practices.',\n",
       "  'Comments': [],\n",
       "  'label': ['Supplies']},\n",
       " {'id': 161527,\n",
       "  'text': 'Planting tree belt for ammonia capture at farmyard Low Input Grassland; • The On -Farm Capital Investments Scheme (OFCIS) has provisions for investments in equipment that will a llow farmers to reduce the amount of Green House Gas emissions that they produce during their agricultural practices.',\n",
       "  'Comments': [],\n",
       "  'label': ['Supplies']},\n",
       " {'id': 161528,\n",
       "  'text': 'The Targeted Agricultural Modernisation Schemes (TAMS) supports investment in low emissions slurry spreading equipment, farm nutrient storage and renewable energy and energy efficiency.',\n",
       "  'Comments': [],\n",
       "  'label': ['Supplies']}]"
      ]
     },
     "execution_count": 3,
     "metadata": {},
     "output_type": "execute_result"
    }
   ],
   "source": [
    "qry_lbld[0:3]"
   ]
  },
  {
   "cell_type": "markdown",
   "metadata": {
    "id": "hmsiPx4IMOzI"
   },
   "source": [
    "## Binary Classification"
   ]
  },
  {
   "cell_type": "markdown",
   "metadata": {
    "id": "LjBsbdjf53Vu"
   },
   "source": [
    "### Fxn definitions"
   ]
  },
  {
   "cell_type": "code",
   "execution_count": null,
   "metadata": {
    "id": "anId6zpewywj"
   },
   "outputs": [],
   "source": [
    "# Latentn Embddings Classifier from FBQVDo\n",
    "from collections import Counter\n",
    "#import cupy as cp\n",
    "import numpy as np\n",
    "import torch\n",
    "from torch.nn import functional as F\n",
    "from tqdm import tqdm\n",
    "\n",
    "\n",
    "def top_k_words(k, document, spacy_model, include_labels=None):\n",
    "    doc = spacy_model(document)\n",
    "\n",
    "    # all tokens that arent stop words or punctuations and are longer than 3 letters\n",
    "    words = [token.text.lower() for token in doc if not token.is_stop and not token.is_punct and len(token.text) > 3]\n",
    "\n",
    "    # k most common tokens\n",
    "    word_freq = Counter(words)\n",
    "    common_words = word_freq.most_common(k)\n",
    "\n",
    "    result = list(list(zip(*common_words))[0])\n",
    "\n",
    "    if include_labels:\n",
    "        result.extend(include_labels)\n",
    "\n",
    "    return result\n",
    "\n",
    "\n",
    "def top_k_word_embeddings(top_k_words, spacy_model):\n",
    "    word_embeddings = []\n",
    "\n",
    "    for word in top_k_words:\n",
    "        doc = spacy_model(word)\n",
    "        vector = doc.vector\n",
    "        word_embeddings.append(vector.reshape(1, vector.shape[0]))\n",
    "\n",
    "    return word_embeddings\n",
    "\n",
    "\n",
    "def top_k_sbert_embeddings(top_k_words, sbert_model):\n",
    "    sbert_embeddings = []\n",
    "\n",
    "    for word in top_k_words:\n",
    "        vector = sbert_model.encode([word], convert_to_numpy=True)\n",
    "        sbert_embeddings.append(vector)\n",
    "\n",
    "    return sbert_embeddings\n",
    "\n",
    "def encode_sentence(sentence, model, Z):\n",
    "    sentence_rep = torch.from_numpy(np.matmul(model.encode(sentence), Z))\n",
    "    sentence_rep = sentence_rep.reshape((1, sentence_rep.shape[0]))\n",
    "    return sentence_rep\n",
    "\n",
    "\n",
    "def encode_labels(labels, model, Z):\n",
    "    return torch.from_numpy(np.matmul(model.encode(labels), Z))\n",
    "\n",
    "\n",
    "def classify_sentence(sentence, label_names, model, Z):\n",
    "    sentence_rep = encode_sentence(sentence, model, Z)\n",
    "    label_reps = encode_labels(label_names, model, Z)\n",
    "\n",
    "    return calc_cos_similarity(sentence_rep, label_reps, label_names)\n",
    "\n",
    "\n",
    "def calc_cos_similarity(sentence_rep, label_reps, label_names):\n",
    "    similarities = F.cosine_similarity(sentence_rep, label_reps)\n",
    "    closest = similarities.argsort(descending=True)\n",
    "\n",
    "    top_index = closest[0]\n",
    "    return label_names[top_index], similarities[top_index]\n",
    "\n",
    "\n",
    "def classify_sentence_given_label_reps(sentence, label_names, label_reps, model, Z):\n",
    "    sentence_rep = encode_sentence(sentence, model, Z)\n",
    "\n",
    "    return calc_cos_similarity(sentence_rep, label_reps, label_names)\n",
    "\n",
    "\n",
    "def calc_all_cos_similarity(all_sents_reps, label_reps, label_names):\n",
    "    model_preds, model_scores = [], []\n",
    "    for sent_rep in tqdm(all_sents_reps):\n",
    "        pred, score = calc_cos_similarity(sent_rep, label_reps, label_names)\n",
    "        model_preds.append(pred)\n",
    "        model_scores.append(score)\n",
    "\n",
    "    return model_preds, model_scores\n",
    "\n",
    "\n",
    "def classify_all_sentences(all_sents, label_names, sbert_model, proj_matrix):\n",
    "    model_preds, model_scores = [], []\n",
    "    label_reps = encode_labels(label_names, sbert_model, proj_matrix)\n",
    "\n",
    "    for sent in tqdm(all_sents):\n",
    "        pred, score = classify_sentence_given_label_reps(sent, label_names, label_reps, sbert_model, proj_matrix)\n",
    "        model_preds.append(pred)\n",
    "        model_scores.append(score)\n",
    "\n",
    "    return model_preds, model_scores\n",
    "\n",
    "\n",
    "def encode_all_sents(all_sents, sbert_model, proj_matrix=None):\n",
    "    if proj_matrix is None:\n",
    "        stacked = np.vstack([sbert_model.encode(sent) for sent in tqdm(all_sents)])\n",
    "    else:\n",
    "        stacked = np.vstack([encode_sentence(sent, sbert_model, proj_matrix) for sent in tqdm(all_sents)])\n",
    "    return [torch.from_numpy(element).reshape((1, element.shape[0])) for element in stacked]\n"
   ]
  },
  {
   "cell_type": "code",
   "execution_count": null,
   "metadata": {
    "id": "R9bfIoucwk0S"
   },
   "outputs": [],
   "source": [
    "def data_load(incentives, nonincentives):\n",
    "    '''\n",
    "    eventually going to split this into subfunctions\n",
    "    but at the moment we are just trying to adapt this from the jupiter notebook\n",
    "    '''\n",
    "\n",
    "    incent_lbls = [\"incentive\"]*len(incentives)\n",
    "    noninc_lbls = [\"non-incentve\"]*len(nonincentives)\n",
    "\n",
    "    sentences = incentives+nonincentives\n",
    "    labels = incent_lbls+noninc_lbls\n",
    "    train_sents, test_sents, train_labels, test_labels = train_test_split(sentences,labels, test_size=0.2)\n",
    "    # these are how to evaluate your data distributions\n",
    "    #label_names = unique_labels(train_labels)\n",
    "    #numeric_train_labels = labels2numeric(train_labels, label_names)\n",
    "    #plot_data_distribution(numeric_train_labels, label_names)\n",
    "    #\n",
    "    # load model\n",
    "    model_name = \"paraphrase-xlm-r-multilingual-v1\"\n",
    "    # eventually will be able to load pretrained model from training via a path?\n",
    "    print(\"Loading model.\")\n",
    "    bin_model = SentenceTransformer(model_name)\n",
    "    print(\"Encoding training sentences.\")\n",
    "    all_sent_embs = encode_all_sents(train_sents, bin_model)\n",
    "\n",
    "    # they noted that the projection matrix made stuff worse\n",
    "    #proj_matrix = cp.asnumpy(calc_proj_matrix(train_sents, 50, es_nlp, bin_model, 0.01))\n",
    "    #all_sent_embs = encode_all_sents(test_sents, bin_model, proj_matrix)\n",
    "    print(\"Encoding test sentences.\")\n",
    "    all_test_embs = encode_all_sents(test_sents, bin_model)\n",
    "    print(\"Evaluating.\")\n",
    "    clf = RandomForestClassifier(n_estimators=100, max_depth=3, random_state=9)\n",
    "    clf.fit(np.vstack(all_sent_embs), train_labels)\n",
    "    clf_preds = [clf.predict(sent_emb)[0] for sent_emb in all_test_embs]\n",
    "    print(classification_report(test_labels, clf_preds))"
   ]
  },
  {
   "cell_type": "markdown",
   "metadata": {
    "id": "dz-7S-966BRk"
   },
   "source": [
    "### Run"
   ]
  },
  {
   "cell_type": "code",
   "execution_count": null,
   "metadata": {
    "id": "unish7vuxBjj"
   },
   "outputs": [],
   "source": [
    "st = time.time()\n",
    "if spacy.prefer_gpu():\n",
    "    print(\"Using the GPU\")\n",
    "else:\n",
    "    print(\"Using the CPU\")\n",
    "\n",
    "#np.random.seed(9)\n",
    "data_load(inc_sents_c, noninc_sents_c)\n",
    "\n",
    "et = time.time()-st\n",
    "print(\"Time elapsed total:\", et//60, \"min and\", round(et%60), \"sec\")\n"
   ]
  },
  {
   "cell_type": "markdown",
   "metadata": {
    "id": "xlkmLyWabbT4"
   },
   "source": [
    "##Improving our results\n",
    "\n",
    "First setting the random state/ standard"
   ]
  },
  {
   "cell_type": "code",
   "execution_count": null,
   "metadata": {
    "id": "js-fN-ogWY4b"
   },
   "outputs": [],
   "source": [
    "incent_lbls = [\"incentive\"]*len(inc_sents_c)\n",
    "noninc_lbls = [\"non-incentve\"]*len(noninc_sents_c)\n",
    "\n",
    "sentences = inc_sents_c+noninc_sents_c\n",
    "labels = incent_lbls+noninc_lbls\n",
    "train_sents, test_sents, train_labels, test_labels = train_test_split(sentences,labels, test_size=0.2, random_state=9)\n",
    "#\n",
    "model_name = \"paraphrase-xlm-r-multilingual-v1\"\n",
    "bin_model_bn = SentenceTransformer(model_name)\n",
    "all_sent_embs = encode_all_sents(train_sents, bin_model_bn)\n",
    "# they noted that the projection matrix made stuff worse\n",
    "#proj_matrix = cp.asnumpy(calc_proj_matrix(train_sents, 50, es_nlp, bin_model, 0.01))\n",
    "#all_sent_embs = encode_all_sents(test_sents, bin_model, proj_matrix)\n",
    "\n",
    "all_test_embs = encode_all_sents(test_sents, bin_model_bn)\n",
    "clf = RandomForestClassifier(n_estimators=100, max_depth=3, random_state=9)\n",
    "clf.fit(np.vstack(all_sent_embs), train_labels)\n",
    "clf_preds = [clf.predict(sent_emb)[0] for sent_emb in all_test_embs]\n",
    "print(classification_report(test_labels, clf_preds))"
   ]
  },
  {
   "cell_type": "code",
   "execution_count": null,
   "metadata": {
    "id": "LYfeYP5_dcXU"
   },
   "outputs": [],
   "source": [
    "import numpy as np\n",
    "\n",
    "train_sents = np.array(train_sents)\n",
    "train_sents = train_sents.reshape(-1,1)"
   ]
  },
  {
   "cell_type": "code",
   "execution_count": null,
   "metadata": {
    "id": "s05jUXkgXxfe"
   },
   "outputs": [],
   "source": [
    "#oversampling\n",
    "oversampler = RandomOverSampler(sampling_strategy=0.4, random_state=9)\n",
    "train_sents_ovr, train_labs_ovr = oversampler.fit_resample(train_sents, train_labels)\n",
    "#\n",
    "bin_model_bno = SentenceTransformer(model_name)\n",
    "all_sent_embs_ovr = encode_all_sents(train_sents_ovr, bin_model_bno)\n",
    "all_test_embs_ovr = encode_all_sents(test_sents, bin_model_bno)\n",
    "clf = RandomForestClassifier(n_estimators=100, max_depth=3, random_state=9)\n",
    "clf.fit(np.vstack(all_sent_embs_ovr), train_labs_ovr)\n",
    "clf_preds = [clf.predict(sent_emb)[0] for sent_emb in all_test_embs_ovr]\n",
    "print(classification_report(test_labels, clf_preds))"
   ]
  },
  {
   "cell_type": "code",
   "execution_count": null,
   "metadata": {
    "id": "5yrgtrrxWTgp"
   },
   "outputs": [],
   "source": []
  },
  {
   "cell_type": "markdown",
   "metadata": {
    "id": "U7Kfp5101yI3"
   },
   "source": [
    "## Multiclass Classification"
   ]
  },
  {
   "cell_type": "markdown",
   "metadata": {
    "id": "ZCNtdUsr6ECf"
   },
   "source": [
    "### Fxn defs"
   ]
  },
  {
   "cell_type": "code",
   "execution_count": null,
   "metadata": {
    "id": "OKqctnvi2dHH"
   },
   "outputs": [],
   "source": [
    "# from utils py\n",
    "\n",
    "import json\n",
    "import numpy as np\n",
    "import matplotlib.pyplot as plt\n",
    "import pandas as pd\n",
    "from os import listdir\n",
    "from os.path import isfile, join\n",
    "\n",
    "\n",
    "def filter_out_labeled_sents(sents, labels_to_filter):\n",
    "    return [sent for sent in sents.values() if sent['labels'][0] not in labels_to_filter]\n",
    "\n",
    "def get_counts_per_label(y_true, n_classes):\n",
    "    \"\"\"\n",
    "    Return a map of {label: number of data points with that label} for the given list of labels\n",
    "    Parameters:\n",
    "        - y_true: (integer) a list of labels\n",
    "        - n_classes: (integer) the number of classes\n",
    "    \"\"\"\n",
    "    label_counts = [0] * n_classes\n",
    "    for label in y_true:\n",
    "        label_counts[label] += 1\n",
    "    return label_counts\n",
    "\n",
    "def labeled_sentences_from_dataset(dataset):\n",
    "    sentence_tags_dict = {}\n",
    "\n",
    "    for document in dataset.values():\n",
    "        for section in document.values():\n",
    "            sentence_tags_dict.update(section['sentences'])\n",
    "\n",
    "    return sentence_tags_dict\n",
    "\n",
    "def labeled_sentences_from_excel(excel_map):\n",
    "    country2labeledsents = country_labeled_sentences(excel_map)\n",
    "    labeled_sents = dict()\n",
    "    for sents in country2labeledsents.values():\n",
    "        labeled_sents.update(sents)\n",
    "\n",
    "    return labeled_sents\n",
    "\n",
    "def labels_from_dataset(dataset, label):\n",
    "    labels = []\n",
    "\n",
    "    for sentence in dataset.values():\n",
    "        labels.append(sentence[label])\n",
    "\n",
    "    return labels\n",
    "\n",
    "def labels_from_model_output(model_preds):\n",
    "    return [preds[\"labels\"][0] for preds in model_preds.values()]\n",
    "\n",
    "def labels2numeric(labels, label_names):\n",
    "    label_map = dict(zip(label_names, range(len(label_names))))\n",
    "    num_dataset_labels = [label_map[label] for label in labels]\n",
    "    return num_dataset_labels\n",
    "\n",
    "def list_files_from_dir(path):\n",
    "    files = [f for f in listdir(path) if isfile(join(path, f))]\n",
    "    return files\n",
    "\n",
    "def load_dataset(data_path, experiment):\n",
    "    \"\"\"\n",
    "    Return the train data, train labels, test data, and test labels\n",
    "    \"\"\"\n",
    "    dataset = []\n",
    "    for dataset_type in [\"train\", \"test\"]:\n",
    "        for file_type in [\"sentences\", \"labels\"]:\n",
    "            filename = experiment + \"_\" + dataset_type + \"_\" + file_type + \".csv\"\n",
    "            f = data_path + \"/\" + filename\n",
    "            try:\n",
    "                data = pd.read_csv(f, index_col=False, header=None)\n",
    "            except Exception as e:\n",
    "                if \"can't decode byte\" in str(e):\n",
    "                    data = pd.read_csv(f, index_col=False, header=None, encoding=\"ISO-8859-1\")\n",
    "                else:\n",
    "                    raise Exception(\"Couldn't read file:\", f)\n",
    "            dataset.append(data[0].tolist())  # The data is always the entire first column\n",
    "\n",
    "    return dataset[0], dataset[1], dataset[2], dataset[3]\n",
    "\n",
    "def load_json(file_name):\n",
    "    with open(file_name, \"r\") as f:\n",
    "        return json.load(f)\n",
    "\n",
    "def merge_labels(all_labels, labels_to_merge):\n",
    "    return [f\"{labels_to_merge[0]} & {labels_to_merge[1]}\" if label in labels_to_merge else label for label in all_labels]\n",
    "\n",
    "def numeric_labels_from_dataset(dataset):\n",
    "    \"\"\"\n",
    "    TEMPORARY: We're getting the set of unique labels from the data, but in reality we should standardize this and define it in a separate env file.\n",
    "    \"\"\"\n",
    "    dataset_labels = labels_from_dataset(dataset)\n",
    "    label_names = [label for label in set(dataset_labels)]\n",
    "    label_names.sort()\n",
    "    label_map = dict(zip(label_names, range(len(label_names))))\n",
    "    num_dataset_labels = [label_map[label] for label in dataset_labels]\n",
    "    return num_dataset_labels\n",
    "\n",
    "def plot_data_distribution(data, label_names, normalize=True):\n",
    "    weights = np.array(get_counts_per_label(data, len(label_names)))\n",
    "    if normalize:\n",
    "        weights = weights / sum(weights)\n",
    "\n",
    "    plt.bar(label_names, weights)\n",
    "    plt.xticks(label_names, rotation=90)\n",
    "    plt.title(\"Data Distribution\")\n",
    "    plt.xlabel(\"Label\")\n",
    "    plt.ylabel(\"Percentage of label in data\")\n",
    "    plt.show()\n",
    "\n",
    "    print(\"Label counts:\")\n",
    "    print(dict(zip(label_names, weights)))\n",
    "\n",
    "def select_labels(dataset, labels_to_be_retrieved):\n",
    "  new_dict = {}\n",
    "  for key, value in dataset.items():\n",
    "    if value['labels'] in labels_to_be_retrieved:\n",
    "      new_dict[key] = value\n",
    "  return new_dict\n",
    "\n",
    "def sentences_from_dataset(dataset):\n",
    "    sentences = []\n",
    "\n",
    "    for sentence in dataset.values():\n",
    "        sentences.append(sentence['text'])\n",
    "\n",
    "    return sentences\n",
    "\n",
    "def sentences_from_model_output(model_preds):\n",
    "    return [preds[\"text\"] for preds in model_preds.values()]\n",
    "\n",
    "def sort_model_preds(dataset, model_preds):\n",
    "    \"\"\"\n",
    "    Sorts the model predictions in the order that the input dataset is in.\n",
    "    \"\"\"\n",
    "    # Dictionaries are insertion ordered since Python 3.6+,\n",
    "    ordered_preds = {}\n",
    "\n",
    "    for sentence_id in dataset:\n",
    "        ordered_preds[sentence_id] = model_preds[sentence_id]\n",
    "\n",
    "    return ordered_preds\n",
    "\n",
    "def unique_labels(all_labels):\n",
    "    return list(set(all_labels))"
   ]
  },
  {
   "cell_type": "code",
   "execution_count": null,
   "metadata": {
    "id": "GmsOmpmE118a"
   },
   "outputs": [],
   "source": [
    "def data_load(sentences, labels):\n",
    "    '''\n",
    "    eventually going to split this into subfunctions\n",
    "    but at the moment we are just trying to adapt this from the jupiter notebook\n",
    "    '''\n",
    "    train_sents, test_sents, train_labels, test_labels = train_test_split(sentences,labels, test_size=0.2)\n",
    "\n",
    "    label_names = unique_labels(train_labels)\n",
    "    print(\"Label names:\", label_names)\n",
    "    print(\"Train Sentence:\", train_sents[2], \"\\nTrain Label:\", train_labels[2])\n",
    "    print(\"Test Sentence:\", test_sents[2], \"\\nTest Label:\", test_labels[2])\n",
    "\n",
    "    #logger.info(\"Label names:\", label_names)\n",
    "    #logger.info(\"Train Sentence:\", train_sents[2], \"\\nTrain Label:\", train_labels[2])\n",
    "    #logger.info(\"Test Sentence:\", test_sents[2], \"\\nTest Label:\", test_labels[2])\n",
    "    # these are how to evaluate your data distributions\n",
    "    #label_names = unique_labels(train_labels)\n",
    "    #numeric_train_labels = labels2numeric(train_labels, label_names)\n",
    "    #plot_data_distribution(numeric_train_labels, label_names)\n",
    "    #\n",
    "    # load model\n",
    "    model_name = \"paraphrase-xlm-r-multilingual-v1\"\n",
    "    # eventually will be able to load pretrained model from training via a path?\n",
    "    print(\"Loading model.\")\n",
    "    bin_model = SentenceTransformer(model_name)\n",
    "    print(\"Encoding training sentences.\")\n",
    "    all_sent_embs = encode_all_sents(train_sents, bin_model)\n",
    "\n",
    "    # they noted that the projection matrix made stuff worse\n",
    "    #proj_matrix = cp.asnumpy(calc_proj_matrix(train_sents, 50, es_nlp, bin_model, 0.01))\n",
    "    #all_sent_embs = encode_all_sents(test_sents, bin_model, proj_matrix)\n",
    "    print(\"Encoding test sentences.\")\n",
    "    all_test_embs = encode_all_sents(test_sents, bin_model)\n",
    "    print(\"Evaluating.\")\n",
    "    # classifier 1\n",
    "    clf = RandomForestClassifier(n_estimators=100, max_depth=3, random_state=9)\n",
    "    clf.fit(np.vstack(all_sent_embs), train_labels)\n",
    "    clf_preds = [clf.predict(sent_emb)[0] for sent_emb in all_test_embs]\n",
    "    rfc_rpt = classification_report(test_labels, clf_preds)\n",
    "    print(rfc_rpt)\n",
    "    #logger.info(rfc_rpt)\n",
    "    # classifier 2\n",
    "    clf = svm.SVC(gamma=0.001, C=100.)\n",
    "    clf.fit(np.vstack(all_sent_embs), train_labels)\n",
    "    clf_preds = [clf.predict(sent_emb)[0] for sent_emb in all_test_embs]\n",
    "    svc_rpt = classification_report(test_labels, clf_preds)\n",
    "    print(svc_rpt)\n",
    "    #logger.info(svc_rpt)\n",
    "    # last classifiers\n",
    "    #additional_analysis(all_sent_embs, train_labels, all_test_embs, test_labels)\n",
    "\n",
    "def additional_analysis(train_sent_embs, train_labels, test_sent_embs, test_labels):\n",
    "    from lightgbm import LGBMClassifier\n",
    "    lgbm = LGBMClassifier(n_estimators=2000,\n",
    "                        feature_fraction=0.06,\n",
    "                        bagging_fraction=0.67,\n",
    "                        bagging_freq=1,\n",
    "                        verbose=0,\n",
    "                        n_jobs=6,\n",
    "                        random_state=69420)\n",
    "\n",
    "    gb_classifiers = [lgbm] #, gbm, xgb, ab #cb\n",
    "    gb_names = [i.__class__.__name__ for i in gb_classifiers]\n",
    "\n",
    "    for clf, clf_name in zip(gb_classifiers, gb_names):\n",
    "        print(\"Evaluating:\", clf_name)\n",
    "        print(\"Training...\")\n",
    "        clf.fit(np.vstack(train_sent_embs), train_labels)\n",
    "        print(\"Predicting...\")\n",
    "        clf_preds = [clf.predict(sent_emb)[0] for sent_emb in test_sent_embs]\n",
    "        lgbm_rpt = classification_report(test_labels, clf_preds)\n",
    "        print(lgbm_rpt)\n",
    "        #logger.info(lgbm_rpt)"
   ]
  },
  {
   "cell_type": "markdown",
   "metadata": {
    "id": "djfEH53x6IPQ"
   },
   "source": [
    "### Run"
   ]
  },
  {
   "cell_type": "code",
   "execution_count": null,
   "metadata": {
    "id": "1E6EwAKm43sr"
   },
   "outputs": [],
   "source": [
    "st = time.time()\n",
    "if spacy.prefer_gpu():\n",
    "    print(\"Using the GPU\")\n",
    "else:\n",
    "    print(\"Using the CPU\")\n",
    "#np.random.seed(9)\n",
    "data_load(sents_mc_c, labs_mc_c)\n",
    "\n",
    "et = time.time()-st\n",
    "print(\"Time elapsed total:\", et//60, \"min and\", round(et%60), \"sec\")"
   ]
  },
  {
   "cell_type": "markdown",
   "metadata": {
    "id": "9TDQHnqw7W_b"
   },
   "source": [
    "# Try better model"
   ]
  },
  {
   "cell_type": "code",
   "execution_count": null,
   "metadata": {
    "id": "upmAok907WR4"
   },
   "outputs": [],
   "source": []
  },
  {
   "cell_type": "markdown",
   "metadata": {
    "id": "hZBOtB-HD0-D"
   },
   "source": [
    "#Try SetFit"
   ]
  },
  {
   "cell_type": "markdown",
   "metadata": {
    "id": "rTRigJItEdRu"
   },
   "source": [
    "Try the FbQvdo augmentation method?\n",
    "See what the results are like first\n",
    "\n",
    "Also still may need to reexamine the blending of labels [\"mention-credit\" vs \"credit\"] and some of the sentences included/excluded (like \"carbon tax\" as fine or what)-- ask Fergus?"
   ]
  }
 ],
 "metadata": {
  "accelerator": "GPU",
  "colab": {
   "collapsed_sections": [
    "WFBGAX1-nltk",
    "AWtOSjuTdLqm",
    "ZCNtdUsr6ECf"
   ],
   "gpuType": "T4",
   "provenance": []
  },
  "kernelspec": {
   "display_name": "Python 3",
   "name": "python3"
  },
  "language_info": {
   "codemirror_mode": {
    "name": "ipython",
    "version": 3
   },
   "file_extension": ".py",
   "mimetype": "text/x-python",
   "name": "python",
   "nbconvert_exporter": "python",
   "pygments_lexer": "ipython3",
   "version": "3.11.7"
  }
 },
 "nbformat": 4,
 "nbformat_minor": 0
}
